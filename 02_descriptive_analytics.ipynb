{
  "nbformat": 4,
  "nbformat_minor": 0,
  "metadata": {
    "colab": {
      "name": "02_descriptive_analytics.ipynb",
      "provenance": [],
      "collapsed_sections": [],
      "authorship_tag": "ABX9TyNykHwr0b7CmvqUQKPATPsl",
      "include_colab_link": true
    },
    "kernelspec": {
      "name": "python3",
      "display_name": "Python 3"
    },
    "language_info": {
      "name": "python"
    }
  },
  "cells": [
    {
      "cell_type": "markdown",
      "metadata": {
        "id": "view-in-github",
        "colab_type": "text"
      },
      "source": [
        "<a href=\"https://colab.research.google.com/github/Lawrence-Krukrubo/fraud_analyst_assignment/blob/main/02_descriptive_analytics.ipynb\" target=\"_parent\"><img src=\"https://colab.research.google.com/assets/colab-badge.svg\" alt=\"Open In Colab\"/></a>"
      ]
    },
    {
      "cell_type": "code",
      "metadata": {
        "colab": {
          "base_uri": "https://localhost:8080/"
        },
        "id": "twEScLqe6RH3",
        "outputId": "f47a7646-df18-42dd-9af7-3071a68c30a6"
      },
      "source": [
        "# First let's mount Google Drive so we can navigate the folders as needed\n",
        "from google.colab import drive\n",
        "drive.mount('/content/gdrive')"
      ],
      "execution_count": 1,
      "outputs": [
        {
          "output_type": "stream",
          "name": "stdout",
          "text": [
            "Mounted at /content/gdrive\n"
          ]
        }
      ]
    },
    {
      "cell_type": "markdown",
      "metadata": {
        "id": "DZ4cai_48dZM"
      },
      "source": [
        "**Let's import some much needed libraries...**"
      ]
    },
    {
      "cell_type": "code",
      "metadata": {
        "colab": {
          "base_uri": "https://localhost:8080/"
        },
        "id": "Wa8gujGQ5yua",
        "outputId": "04301488-c1a5-4cff-ba5d-046c38327274"
      },
      "source": [
        "import os\n",
        "import pandas as pd\n",
        "import numpy as np\n",
        "import matplotlib as mpl\n",
        "import matplotlib.pyplot as plt\n",
        "import seaborn as sns\n",
        "import plotly.express as px\n",
        "import plotly.graph_objects as go\n",
        "import random\n",
        "import xlrd\n",
        "print('done!')"
      ],
      "execution_count": 43,
      "outputs": [
        {
          "output_type": "stream",
          "name": "stdout",
          "text": [
            "done!\n"
          ]
        }
      ]
    },
    {
      "cell_type": "markdown",
      "metadata": {
        "id": "9aTlrJ-ddztx"
      },
      "source": [
        "**Let's save all the colors and styles from matplotlib for our plots**"
      ]
    },
    {
      "cell_type": "code",
      "metadata": {
        "colab": {
          "base_uri": "https://localhost:8080/"
        },
        "id": "X6iimWIBRSZ2",
        "outputId": "3c9f9ef6-246e-4773-9e4f-dde0681bdc0d"
      },
      "source": [
        "# Let's get all the colors available in matplotlib\n",
        "other_colors = []\n",
        "darker_colors = []\n",
        "for name, hex in mpl.colors.cnames.items():\n",
        "    if 'dark' in name:\n",
        "        darker_colors.append(name)\n",
        "    else:\n",
        "        other_colors.append(name)\n",
        "\n",
        "# Let's finally save the various plot styles in matplotlib\n",
        "styles = plt.style.available\n",
        "\n",
        "print(f'darker-colors has {len(darker_colors)},\\nother-colors has {len(other_colors)} colors\\nplotting styles are {len(styles)}')"
      ],
      "execution_count": 84,
      "outputs": [
        {
          "output_type": "stream",
          "name": "stdout",
          "text": [
            "darker-colors has 19,\n",
            "other-colors has 129 colors\n",
            "plotting styles are 26\n"
          ]
        }
      ]
    },
    {
      "cell_type": "code",
      "metadata": {
        "id": "wR-6vvA8tKt1"
      },
      "source": [
        "# set more matplotlib defaults\n",
        "mpl.rcParams['axes.labelsize'] = 12\n",
        "mpl.rcParams['xtick.labelsize'] = 10\n",
        "mpl.rcParams['ytick.labelsize'] = 10\n",
        "mpl.rcParams['text.color'] = 'k'\n",
        "\n",
        "# Set the plots design to xkcd\n",
        "plt.xkcd()  # For xkcd style plots\n",
        "#plt.rcdefaults()  # to stop xkcd plots\n",
        "\n",
        "# fontdict for plot titles\n",
        "fontDict1 = {'fontfamily': 'fantasy',\n",
        "             'fontsize': 'x-large',\n",
        "             'fontstyle': 'italic',\n",
        "             'fontweight': 'heavy',\n",
        "             'ha': 'center',\n",
        "             'color': 'darkred',\n",
        "             'va': 'baseline'}\n",
        "\n",
        "# fontdict for plot labels\n",
        "fontDict2 = {'fontfamily': 'fantasy',\n",
        "             'fontsize': 'medium',\n",
        "             'fontstyle': 'oblique',\n",
        "             'fontweight': 'semibold',\n",
        "             'ha': 'center',\n",
        "             'color': 'black',\n",
        "             'va': 'baseline'}"
      ],
      "execution_count": 159,
      "outputs": []
    },
    {
      "cell_type": "markdown",
      "metadata": {
        "id": "4ewL2RK07xdy"
      },
      "source": [
        "**Let's change our Directory to the Fraud directory containing our data**"
      ]
    },
    {
      "cell_type": "code",
      "metadata": {
        "colab": {
          "base_uri": "https://localhost:8080/"
        },
        "id": "b1lzL6id5851",
        "outputId": "7b806a29-8965-45a9-dedf-f35943736e32"
      },
      "source": [
        "FRAUD_DIR = '/content/gdrive/MyDrive/Colab_Notebooks/fraud_analyst_assignment'\n",
        "os.chdir(FRAUD_DIR)\n",
        "print(f'Current Dir: {os.getcwd()}')"
      ],
      "execution_count": 123,
      "outputs": [
        {
          "output_type": "stream",
          "name": "stdout",
          "text": [
            "Current Dir: /content/gdrive/MyDrive/Colab_Notebooks/fraud_analyst_assignment\n"
          ]
        }
      ]
    },
    {
      "cell_type": "code",
      "metadata": {
        "colab": {
          "base_uri": "https://localhost:8080/"
        },
        "id": "M9wIfqEC8Nf2",
        "outputId": "154393f7-b0b2-4d1a-ba25-01decc83e08d"
      },
      "source": [
        "# Let's see the contents of the CWD\n",
        "os.listdir()"
      ],
      "execution_count": 160,
      "outputs": [
        {
          "output_type": "execute_result",
          "data": {
            "text/plain": [
              "['02_descriptive_analytics.ipynb',\n",
              " 'Fraud_sample_data.xlsx',\n",
              " 'questionsAndPoints.gdoc',\n",
              " '.ipynb_checkpoints',\n",
              " '01_intro_to_fraud_analysis.ipynb',\n",
              " '03_diagnostic_analytics.ipynb',\n",
              " '04_predictive_analytics.ipynb',\n",
              " '05_prescriptive_analytics.ipynb',\n",
              " 'fraud_analysis.ipynb']"
            ]
          },
          "metadata": {},
          "execution_count": 160
        }
      ]
    },
    {
      "cell_type": "markdown",
      "metadata": {
        "id": "TuLh8cJY89yb"
      },
      "source": [
        "The dataset contains 3 sheets, the first at index 0 is the data dictionary, the remaining two at indexes 1 and 2 are June and July transactions respectively.<br>**Let's read out the data dictionary to guide us**"
      ]
    },
    {
      "cell_type": "code",
      "metadata": {
        "colab": {
          "base_uri": "https://localhost:8080/",
          "height": 452
        },
        "id": "hpHepISY9ZN6",
        "outputId": "d258dfba-4f34-4c81-f299-ea3ccd7f8d7d"
      },
      "source": [
        "pd.set_option('max_colwidth', None)  # So that we see full field descriptions\n",
        "data_dict = pd.read_excel('Fraud_sample_data.xlsx', sheet_name=0)\n",
        "data_dict"
      ],
      "execution_count": 161,
      "outputs": [
        {
          "output_type": "execute_result",
          "data": {
            "text/html": [
              "<div>\n",
              "<style scoped>\n",
              "    .dataframe tbody tr th:only-of-type {\n",
              "        vertical-align: middle;\n",
              "    }\n",
              "\n",
              "    .dataframe tbody tr th {\n",
              "        vertical-align: top;\n",
              "    }\n",
              "\n",
              "    .dataframe thead th {\n",
              "        text-align: right;\n",
              "    }\n",
              "</style>\n",
              "<table border=\"1\" class=\"dataframe\">\n",
              "  <thead>\n",
              "    <tr style=\"text-align: right;\">\n",
              "      <th></th>\n",
              "      <th>Field name</th>\n",
              "      <th>Field description</th>\n",
              "    </tr>\n",
              "  </thead>\n",
              "  <tbody>\n",
              "    <tr>\n",
              "      <th>0</th>\n",
              "      <td>merchant_id</td>\n",
              "      <td>Randomly generated identifier to represent a merchant</td>\n",
              "    </tr>\n",
              "    <tr>\n",
              "      <th>1</th>\n",
              "      <td>merchant_industry</td>\n",
              "      <td>Industry in which the merchant operates</td>\n",
              "    </tr>\n",
              "    <tr>\n",
              "      <th>2</th>\n",
              "      <td>merchant_category</td>\n",
              "      <td>Business category of the merchant</td>\n",
              "    </tr>\n",
              "    <tr>\n",
              "      <th>3</th>\n",
              "      <td>merchant_country</td>\n",
              "      <td>The country in which the merchant is based</td>\n",
              "    </tr>\n",
              "    <tr>\n",
              "      <th>4</th>\n",
              "      <td>currency</td>\n",
              "      <td>The local currency the transcation was processed in</td>\n",
              "    </tr>\n",
              "    <tr>\n",
              "      <th>5</th>\n",
              "      <td>transaction_week_start_date</td>\n",
              "      <td>Week in which the transaction occured</td>\n",
              "    </tr>\n",
              "    <tr>\n",
              "      <th>6</th>\n",
              "      <td>channel</td>\n",
              "      <td>The payment method for the transaction</td>\n",
              "    </tr>\n",
              "    <tr>\n",
              "      <th>7</th>\n",
              "      <td>transaction_count</td>\n",
              "      <td>The number of transactions for the day</td>\n",
              "    </tr>\n",
              "    <tr>\n",
              "      <th>8</th>\n",
              "      <td>transaction_volume_usd</td>\n",
              "      <td>The total value of the transactions converted to USD</td>\n",
              "    </tr>\n",
              "    <tr>\n",
              "      <th>9</th>\n",
              "      <td>fraud_count</td>\n",
              "      <td>The number of transactions which were reported as fraudulent for the day</td>\n",
              "    </tr>\n",
              "    <tr>\n",
              "      <th>10</th>\n",
              "      <td>fraud_volume_usd</td>\n",
              "      <td>The total value of the transactions which were reported as fraudulent converted to USD</td>\n",
              "    </tr>\n",
              "    <tr>\n",
              "      <th>11</th>\n",
              "      <td>otp_fraud</td>\n",
              "      <td>The number of fraudulent transactions which were authenticated using a one time pin</td>\n",
              "    </tr>\n",
              "    <tr>\n",
              "      <th>12</th>\n",
              "      <td>otp_all_transactions</td>\n",
              "      <td>The number of total transactions which were authenticated using a one time pin</td>\n",
              "    </tr>\n",
              "  </tbody>\n",
              "</table>\n",
              "</div>"
            ],
            "text/plain": [
              "                     Field name                                                                       Field description\n",
              "0                   merchant_id                                   Randomly generated identifier to represent a merchant\n",
              "1             merchant_industry                                                 Industry in which the merchant operates\n",
              "2             merchant_category                                                       Business category of the merchant\n",
              "3              merchant_country                                              The country in which the merchant is based\n",
              "4                      currency                                    The local currency the transcation was processed in \n",
              "5   transaction_week_start_date                                                   Week in which the transaction occured\n",
              "6                       channel                                                  The payment method for the transaction\n",
              "7             transaction_count                                                  The number of transactions for the day\n",
              "8        transaction_volume_usd                                    The total value of the transactions converted to USD\n",
              "9                   fraud_count                The number of transactions which were reported as fraudulent for the day\n",
              "10             fraud_volume_usd  The total value of the transactions which were reported as fraudulent converted to USD\n",
              "11                    otp_fraud     The number of fraudulent transactions which were authenticated using a one time pin\n",
              "12         otp_all_transactions          The number of total transactions which were authenticated using a one time pin"
            ]
          },
          "metadata": {},
          "execution_count": 161
        }
      ]
    },
    {
      "cell_type": "markdown",
      "metadata": {
        "id": "qlUY6V-j-xSE"
      },
      "source": [
        "**Now, let's read in the respective data for the months of June and July...**"
      ]
    },
    {
      "cell_type": "code",
      "metadata": {
        "colab": {
          "base_uri": "https://localhost:8080/"
        },
        "id": "LJP6cV6d582u",
        "outputId": "0a3b5cc9-239b-4b59-92cd-c20ca3a50f11"
      },
      "source": [
        "# For June transactions\n",
        "june_df = pd.read_excel('Fraud_sample_data.xlsx', sheet_name=1)\n",
        "\n",
        "# For July transactions\n",
        "july_df = pd.read_excel('Fraud_sample_data.xlsx', sheet_name=2)\n",
        "print('done!')"
      ],
      "execution_count": 162,
      "outputs": [
        {
          "output_type": "stream",
          "name": "stdout",
          "text": [
            "done!\n"
          ]
        }
      ]
    },
    {
      "cell_type": "code",
      "metadata": {
        "colab": {
          "base_uri": "https://localhost:8080/"
        },
        "id": "lFrxsTiz_s_1",
        "outputId": "3ab17cfb-faa0-4b2c-88b0-78b88ba932b4"
      },
      "source": [
        "# Let's see the june and july data shapes\n",
        "print(f'June data shape: {june_df.shape}\\nJuly data shape: {july_df.shape}\\n')"
      ],
      "execution_count": 163,
      "outputs": [
        {
          "output_type": "stream",
          "name": "stdout",
          "text": [
            "June data shape: (8609, 13)\n",
            "July data shape: (8809, 13)\n",
            "\n"
          ]
        }
      ]
    },
    {
      "cell_type": "markdown",
      "metadata": {
        "id": "cG9TLuEGAV4n"
      },
      "source": [
        "We can see that July transactions have more observations than June, precisely 200 more.<br>But they both have the same dimensions of 13 features. Let's see the head and tail of June."
      ]
    },
    {
      "cell_type": "code",
      "metadata": {
        "colab": {
          "base_uri": "https://localhost:8080/",
          "height": 241
        },
        "id": "LwoDtCAKAU5y",
        "outputId": "04bd7c5e-81ef-46fe-9f1b-2df92e759708"
      },
      "source": [
        "june_df.head()"
      ],
      "execution_count": 164,
      "outputs": [
        {
          "output_type": "execute_result",
          "data": {
            "text/html": [
              "<div>\n",
              "<style scoped>\n",
              "    .dataframe tbody tr th:only-of-type {\n",
              "        vertical-align: middle;\n",
              "    }\n",
              "\n",
              "    .dataframe tbody tr th {\n",
              "        vertical-align: top;\n",
              "    }\n",
              "\n",
              "    .dataframe thead th {\n",
              "        text-align: right;\n",
              "    }\n",
              "</style>\n",
              "<table border=\"1\" class=\"dataframe\">\n",
              "  <thead>\n",
              "    <tr style=\"text-align: right;\">\n",
              "      <th></th>\n",
              "      <th>merchant_id</th>\n",
              "      <th>merchant_industry</th>\n",
              "      <th>merchant_category</th>\n",
              "      <th>merchant_country</th>\n",
              "      <th>currency</th>\n",
              "      <th>transaction_week_start_date</th>\n",
              "      <th>channel</th>\n",
              "      <th>transaction_count</th>\n",
              "      <th>transaction_volume_usd</th>\n",
              "      <th>fraud_count</th>\n",
              "      <th>fraud_volume_usd</th>\n",
              "      <th>otp_fraud</th>\n",
              "      <th>otp_all_transactions</th>\n",
              "    </tr>\n",
              "  </thead>\n",
              "  <tbody>\n",
              "    <tr>\n",
              "      <th>0</th>\n",
              "      <td>1</td>\n",
              "      <td>GOODS-PHYSICAL</td>\n",
              "      <td>e-Commerce</td>\n",
              "      <td>Nigeria</td>\n",
              "      <td>NGN</td>\n",
              "      <td>2021-06-07</td>\n",
              "      <td>card</td>\n",
              "      <td>5</td>\n",
              "      <td>231.590551</td>\n",
              "      <td>0</td>\n",
              "      <td>NaN</td>\n",
              "      <td>0</td>\n",
              "      <td>5</td>\n",
              "    </tr>\n",
              "    <tr>\n",
              "      <th>1</th>\n",
              "      <td>5</td>\n",
              "      <td>SERVICES-LEGAL</td>\n",
              "      <td>Other</td>\n",
              "      <td>Nigeria</td>\n",
              "      <td>NGN</td>\n",
              "      <td>2021-06-07</td>\n",
              "      <td>card</td>\n",
              "      <td>2</td>\n",
              "      <td>210.203412</td>\n",
              "      <td>0</td>\n",
              "      <td>NaN</td>\n",
              "      <td>0</td>\n",
              "      <td>2</td>\n",
              "    </tr>\n",
              "    <tr>\n",
              "      <th>2</th>\n",
              "      <td>9</td>\n",
              "      <td>TRAVEL</td>\n",
              "      <td>Travel &amp; Hospitality</td>\n",
              "      <td>Nigeria</td>\n",
              "      <td>NGN</td>\n",
              "      <td>2021-06-07</td>\n",
              "      <td>card</td>\n",
              "      <td>4</td>\n",
              "      <td>223.097113</td>\n",
              "      <td>0</td>\n",
              "      <td>NaN</td>\n",
              "      <td>0</td>\n",
              "      <td>1</td>\n",
              "    </tr>\n",
              "    <tr>\n",
              "      <th>3</th>\n",
              "      <td>11</td>\n",
              "      <td>SERVICES-PROFESSIONAL</td>\n",
              "      <td>Other</td>\n",
              "      <td>Nigeria</td>\n",
              "      <td>NGN</td>\n",
              "      <td>2021-06-07</td>\n",
              "      <td>card</td>\n",
              "      <td>5</td>\n",
              "      <td>212.335958</td>\n",
              "      <td>0</td>\n",
              "      <td>NaN</td>\n",
              "      <td>0</td>\n",
              "      <td>5</td>\n",
              "    </tr>\n",
              "    <tr>\n",
              "      <th>4</th>\n",
              "      <td>15</td>\n",
              "      <td>SERVICES-DIGITAL</td>\n",
              "      <td>Digital Services</td>\n",
              "      <td>Nigeria</td>\n",
              "      <td>NGN</td>\n",
              "      <td>2021-06-07</td>\n",
              "      <td>card</td>\n",
              "      <td>8</td>\n",
              "      <td>550.131234</td>\n",
              "      <td>0</td>\n",
              "      <td>NaN</td>\n",
              "      <td>0</td>\n",
              "      <td>8</td>\n",
              "    </tr>\n",
              "  </tbody>\n",
              "</table>\n",
              "</div>"
            ],
            "text/plain": [
              "   merchant_id      merchant_industry  ... otp_fraud otp_all_transactions\n",
              "0            1         GOODS-PHYSICAL  ...         0                    5\n",
              "1            5         SERVICES-LEGAL  ...         0                    2\n",
              "2            9                 TRAVEL  ...         0                    1\n",
              "3           11  SERVICES-PROFESSIONAL  ...         0                    5\n",
              "4           15       SERVICES-DIGITAL  ...         0                    8\n",
              "\n",
              "[5 rows x 13 columns]"
            ]
          },
          "metadata": {},
          "execution_count": 164
        }
      ]
    },
    {
      "cell_type": "code",
      "metadata": {
        "colab": {
          "base_uri": "https://localhost:8080/",
          "height": 224
        },
        "id": "zQjide-lAsy0",
        "outputId": "53638fb7-19f8-4fc4-c1e4-c0a1f37111eb"
      },
      "source": [
        "june_df.tail()"
      ],
      "execution_count": 165,
      "outputs": [
        {
          "output_type": "execute_result",
          "data": {
            "text/html": [
              "<div>\n",
              "<style scoped>\n",
              "    .dataframe tbody tr th:only-of-type {\n",
              "        vertical-align: middle;\n",
              "    }\n",
              "\n",
              "    .dataframe tbody tr th {\n",
              "        vertical-align: top;\n",
              "    }\n",
              "\n",
              "    .dataframe thead th {\n",
              "        text-align: right;\n",
              "    }\n",
              "</style>\n",
              "<table border=\"1\" class=\"dataframe\">\n",
              "  <thead>\n",
              "    <tr style=\"text-align: right;\">\n",
              "      <th></th>\n",
              "      <th>merchant_id</th>\n",
              "      <th>merchant_industry</th>\n",
              "      <th>merchant_category</th>\n",
              "      <th>merchant_country</th>\n",
              "      <th>currency</th>\n",
              "      <th>transaction_week_start_date</th>\n",
              "      <th>channel</th>\n",
              "      <th>transaction_count</th>\n",
              "      <th>transaction_volume_usd</th>\n",
              "      <th>fraud_count</th>\n",
              "      <th>fraud_volume_usd</th>\n",
              "      <th>otp_fraud</th>\n",
              "      <th>otp_all_transactions</th>\n",
              "    </tr>\n",
              "  </thead>\n",
              "  <tbody>\n",
              "    <tr>\n",
              "      <th>8604</th>\n",
              "      <td>8605</td>\n",
              "      <td>INTERNET</td>\n",
              "      <td>Utilities</td>\n",
              "      <td>Nigeria</td>\n",
              "      <td>NGN</td>\n",
              "      <td>2021-06-28</td>\n",
              "      <td>card</td>\n",
              "      <td>1</td>\n",
              "      <td>2.624672</td>\n",
              "      <td>0</td>\n",
              "      <td>NaN</td>\n",
              "      <td>0</td>\n",
              "      <td>1</td>\n",
              "    </tr>\n",
              "    <tr>\n",
              "      <th>8605</th>\n",
              "      <td>8606</td>\n",
              "      <td>GOODS-DIGITAL</td>\n",
              "      <td>Digital Services</td>\n",
              "      <td>Nigeria</td>\n",
              "      <td>NGN</td>\n",
              "      <td>2021-06-28</td>\n",
              "      <td>card</td>\n",
              "      <td>1</td>\n",
              "      <td>0.262467</td>\n",
              "      <td>0</td>\n",
              "      <td>NaN</td>\n",
              "      <td>0</td>\n",
              "      <td>1</td>\n",
              "    </tr>\n",
              "    <tr>\n",
              "      <th>8606</th>\n",
              "      <td>8607</td>\n",
              "      <td>SERVICES-DIGITAL</td>\n",
              "      <td>Digital Services</td>\n",
              "      <td>Nigeria</td>\n",
              "      <td>NGN</td>\n",
              "      <td>2021-06-28</td>\n",
              "      <td>card</td>\n",
              "      <td>3</td>\n",
              "      <td>15.748031</td>\n",
              "      <td>0</td>\n",
              "      <td>NaN</td>\n",
              "      <td>0</td>\n",
              "      <td>3</td>\n",
              "    </tr>\n",
              "    <tr>\n",
              "      <th>8607</th>\n",
              "      <td>8608</td>\n",
              "      <td>EVENTS</td>\n",
              "      <td>Travel &amp; Hospitality</td>\n",
              "      <td>Nigeria</td>\n",
              "      <td>NGN</td>\n",
              "      <td>2021-06-28</td>\n",
              "      <td>card</td>\n",
              "      <td>2</td>\n",
              "      <td>0.656168</td>\n",
              "      <td>0</td>\n",
              "      <td>NaN</td>\n",
              "      <td>0</td>\n",
              "      <td>2</td>\n",
              "    </tr>\n",
              "    <tr>\n",
              "      <th>8608</th>\n",
              "      <td>8609</td>\n",
              "      <td>INTERNET</td>\n",
              "      <td>Utilities</td>\n",
              "      <td>Nigeria</td>\n",
              "      <td>NGN</td>\n",
              "      <td>2021-06-28</td>\n",
              "      <td>card</td>\n",
              "      <td>1</td>\n",
              "      <td>0.262467</td>\n",
              "      <td>0</td>\n",
              "      <td>NaN</td>\n",
              "      <td>0</td>\n",
              "      <td>1</td>\n",
              "    </tr>\n",
              "  </tbody>\n",
              "</table>\n",
              "</div>"
            ],
            "text/plain": [
              "      merchant_id merchant_industry  ... otp_fraud otp_all_transactions\n",
              "8604         8605          INTERNET  ...         0                    1\n",
              "8605         8606     GOODS-DIGITAL  ...         0                    1\n",
              "8606         8607  SERVICES-DIGITAL  ...         0                    3\n",
              "8607         8608            EVENTS  ...         0                    2\n",
              "8608         8609          INTERNET  ...         0                    1\n",
              "\n",
              "[5 rows x 13 columns]"
            ]
          },
          "metadata": {},
          "execution_count": 165
        }
      ]
    },
    {
      "cell_type": "markdown",
      "metadata": {
        "id": "MFjFSdr_BMhT"
      },
      "source": [
        "**Let's see the head and tail of July**"
      ]
    },
    {
      "cell_type": "code",
      "metadata": {
        "colab": {
          "base_uri": "https://localhost:8080/",
          "height": 241
        },
        "id": "KuTDOR8RBPri",
        "outputId": "6d16544e-50fb-4827-9279-af9ac3b8eba2"
      },
      "source": [
        "july_df.head()"
      ],
      "execution_count": 166,
      "outputs": [
        {
          "output_type": "execute_result",
          "data": {
            "text/html": [
              "<div>\n",
              "<style scoped>\n",
              "    .dataframe tbody tr th:only-of-type {\n",
              "        vertical-align: middle;\n",
              "    }\n",
              "\n",
              "    .dataframe tbody tr th {\n",
              "        vertical-align: top;\n",
              "    }\n",
              "\n",
              "    .dataframe thead th {\n",
              "        text-align: right;\n",
              "    }\n",
              "</style>\n",
              "<table border=\"1\" class=\"dataframe\">\n",
              "  <thead>\n",
              "    <tr style=\"text-align: right;\">\n",
              "      <th></th>\n",
              "      <th>merchant_id</th>\n",
              "      <th>merchant_industry</th>\n",
              "      <th>merchant_category</th>\n",
              "      <th>merchant_country</th>\n",
              "      <th>currency</th>\n",
              "      <th>transaction_week_start_date</th>\n",
              "      <th>channel</th>\n",
              "      <th>transaction_count</th>\n",
              "      <th>transaction_volume_usd</th>\n",
              "      <th>fraud_count</th>\n",
              "      <th>fraud_volume_usd</th>\n",
              "      <th>otp_fraud</th>\n",
              "      <th>otp_all_transactions</th>\n",
              "    </tr>\n",
              "  </thead>\n",
              "  <tbody>\n",
              "    <tr>\n",
              "      <th>0</th>\n",
              "      <td>1</td>\n",
              "      <td>GOODS-PHYSICAL</td>\n",
              "      <td>e-Commerce</td>\n",
              "      <td>Nigeria</td>\n",
              "      <td>NGN</td>\n",
              "      <td>2021-07-05</td>\n",
              "      <td>card</td>\n",
              "      <td>3</td>\n",
              "      <td>54.173228</td>\n",
              "      <td>0</td>\n",
              "      <td>NaN</td>\n",
              "      <td>0</td>\n",
              "      <td>3</td>\n",
              "    </tr>\n",
              "    <tr>\n",
              "      <th>1</th>\n",
              "      <td>5</td>\n",
              "      <td>SERVICES-LEGAL</td>\n",
              "      <td>Other</td>\n",
              "      <td>Nigeria</td>\n",
              "      <td>NGN</td>\n",
              "      <td>2021-07-05</td>\n",
              "      <td>card</td>\n",
              "      <td>4</td>\n",
              "      <td>486.712598</td>\n",
              "      <td>0</td>\n",
              "      <td>NaN</td>\n",
              "      <td>0</td>\n",
              "      <td>4</td>\n",
              "    </tr>\n",
              "    <tr>\n",
              "      <th>2</th>\n",
              "      <td>8</td>\n",
              "      <td>TRAVEL</td>\n",
              "      <td>Travel &amp; Hospitality</td>\n",
              "      <td>Nigeria</td>\n",
              "      <td>NGN</td>\n",
              "      <td>2021-07-05</td>\n",
              "      <td>card</td>\n",
              "      <td>3</td>\n",
              "      <td>118.110236</td>\n",
              "      <td>0</td>\n",
              "      <td>NaN</td>\n",
              "      <td>0</td>\n",
              "      <td>0</td>\n",
              "    </tr>\n",
              "    <tr>\n",
              "      <th>3</th>\n",
              "      <td>9</td>\n",
              "      <td>SERVICES-PROFESSIONAL</td>\n",
              "      <td>Other</td>\n",
              "      <td>Nigeria</td>\n",
              "      <td>NGN</td>\n",
              "      <td>2021-07-05</td>\n",
              "      <td>card</td>\n",
              "      <td>4</td>\n",
              "      <td>151.968504</td>\n",
              "      <td>0</td>\n",
              "      <td>NaN</td>\n",
              "      <td>0</td>\n",
              "      <td>3</td>\n",
              "    </tr>\n",
              "    <tr>\n",
              "      <th>4</th>\n",
              "      <td>12</td>\n",
              "      <td>SERVICES-DIGITAL</td>\n",
              "      <td>Financial Services</td>\n",
              "      <td>Nigeria</td>\n",
              "      <td>NGN</td>\n",
              "      <td>2021-07-05</td>\n",
              "      <td>card</td>\n",
              "      <td>15</td>\n",
              "      <td>659.055118</td>\n",
              "      <td>0</td>\n",
              "      <td>NaN</td>\n",
              "      <td>0</td>\n",
              "      <td>12</td>\n",
              "    </tr>\n",
              "  </tbody>\n",
              "</table>\n",
              "</div>"
            ],
            "text/plain": [
              "   merchant_id      merchant_industry  ... otp_fraud otp_all_transactions\n",
              "0            1         GOODS-PHYSICAL  ...         0                    3\n",
              "1            5         SERVICES-LEGAL  ...         0                    4\n",
              "2            8                 TRAVEL  ...         0                    0\n",
              "3            9  SERVICES-PROFESSIONAL  ...         0                    3\n",
              "4           12       SERVICES-DIGITAL  ...         0                   12\n",
              "\n",
              "[5 rows x 13 columns]"
            ]
          },
          "metadata": {},
          "execution_count": 166
        }
      ]
    },
    {
      "cell_type": "code",
      "metadata": {
        "colab": {
          "base_uri": "https://localhost:8080/",
          "height": 224
        },
        "id": "AUTfKlYMBSKH",
        "outputId": "ff2c276e-ee1b-4c00-fbf6-6948a46857ad"
      },
      "source": [
        "july_df.tail()"
      ],
      "execution_count": 167,
      "outputs": [
        {
          "output_type": "execute_result",
          "data": {
            "text/html": [
              "<div>\n",
              "<style scoped>\n",
              "    .dataframe tbody tr th:only-of-type {\n",
              "        vertical-align: middle;\n",
              "    }\n",
              "\n",
              "    .dataframe tbody tr th {\n",
              "        vertical-align: top;\n",
              "    }\n",
              "\n",
              "    .dataframe thead th {\n",
              "        text-align: right;\n",
              "    }\n",
              "</style>\n",
              "<table border=\"1\" class=\"dataframe\">\n",
              "  <thead>\n",
              "    <tr style=\"text-align: right;\">\n",
              "      <th></th>\n",
              "      <th>merchant_id</th>\n",
              "      <th>merchant_industry</th>\n",
              "      <th>merchant_category</th>\n",
              "      <th>merchant_country</th>\n",
              "      <th>currency</th>\n",
              "      <th>transaction_week_start_date</th>\n",
              "      <th>channel</th>\n",
              "      <th>transaction_count</th>\n",
              "      <th>transaction_volume_usd</th>\n",
              "      <th>fraud_count</th>\n",
              "      <th>fraud_volume_usd</th>\n",
              "      <th>otp_fraud</th>\n",
              "      <th>otp_all_transactions</th>\n",
              "    </tr>\n",
              "  </thead>\n",
              "  <tbody>\n",
              "    <tr>\n",
              "      <th>8804</th>\n",
              "      <td>8805</td>\n",
              "      <td>SERVICES-DIGITAL</td>\n",
              "      <td>Digital Services</td>\n",
              "      <td>Nigeria</td>\n",
              "      <td>NGN</td>\n",
              "      <td>2021-07-26</td>\n",
              "      <td>card</td>\n",
              "      <td>1</td>\n",
              "      <td>0.524934</td>\n",
              "      <td>0</td>\n",
              "      <td>NaN</td>\n",
              "      <td>0</td>\n",
              "      <td>1</td>\n",
              "    </tr>\n",
              "    <tr>\n",
              "      <th>8805</th>\n",
              "      <td>8806</td>\n",
              "      <td>SERVICES-DIGITAL</td>\n",
              "      <td>Digital Services</td>\n",
              "      <td>Nigeria</td>\n",
              "      <td>NGN</td>\n",
              "      <td>2021-07-26</td>\n",
              "      <td>card</td>\n",
              "      <td>1</td>\n",
              "      <td>0.259843</td>\n",
              "      <td>0</td>\n",
              "      <td>NaN</td>\n",
              "      <td>0</td>\n",
              "      <td>1</td>\n",
              "    </tr>\n",
              "    <tr>\n",
              "      <th>8806</th>\n",
              "      <td>8807</td>\n",
              "      <td>SERVICES-DIGITAL</td>\n",
              "      <td>Digital Services</td>\n",
              "      <td>Nigeria</td>\n",
              "      <td>NGN</td>\n",
              "      <td>2021-07-26</td>\n",
              "      <td>card</td>\n",
              "      <td>5</td>\n",
              "      <td>2.624672</td>\n",
              "      <td>0</td>\n",
              "      <td>NaN</td>\n",
              "      <td>0</td>\n",
              "      <td>5</td>\n",
              "    </tr>\n",
              "    <tr>\n",
              "      <th>8807</th>\n",
              "      <td>8808</td>\n",
              "      <td>RESTAURANTS</td>\n",
              "      <td>Travel &amp; Hospitality</td>\n",
              "      <td>Nigeria</td>\n",
              "      <td>NGN</td>\n",
              "      <td>2021-07-26</td>\n",
              "      <td>card</td>\n",
              "      <td>2</td>\n",
              "      <td>1.049869</td>\n",
              "      <td>0</td>\n",
              "      <td>NaN</td>\n",
              "      <td>0</td>\n",
              "      <td>1</td>\n",
              "    </tr>\n",
              "    <tr>\n",
              "      <th>8808</th>\n",
              "      <td>8809</td>\n",
              "      <td>GOODS-PHYSICAL</td>\n",
              "      <td>e-Commerce</td>\n",
              "      <td>Nigeria</td>\n",
              "      <td>NGN</td>\n",
              "      <td>2021-07-26</td>\n",
              "      <td>card</td>\n",
              "      <td>1</td>\n",
              "      <td>1.312336</td>\n",
              "      <td>0</td>\n",
              "      <td>NaN</td>\n",
              "      <td>0</td>\n",
              "      <td>1</td>\n",
              "    </tr>\n",
              "  </tbody>\n",
              "</table>\n",
              "</div>"
            ],
            "text/plain": [
              "      merchant_id merchant_industry  ... otp_fraud otp_all_transactions\n",
              "8804         8805  SERVICES-DIGITAL  ...         0                    1\n",
              "8805         8806  SERVICES-DIGITAL  ...         0                    1\n",
              "8806         8807  SERVICES-DIGITAL  ...         0                    5\n",
              "8807         8808       RESTAURANTS  ...         0                    1\n",
              "8808         8809    GOODS-PHYSICAL  ...         0                    1\n",
              "\n",
              "[5 rows x 13 columns]"
            ]
          },
          "metadata": {},
          "execution_count": 167
        }
      ]
    },
    {
      "cell_type": "markdown",
      "metadata": {
        "id": "KZT5N3P-ByJ-"
      },
      "source": [
        "# Descriptive EDA (DA1):"
      ]
    },
    {
      "cell_type": "markdown",
      "metadata": {
        "id": "fTUib0uaaMR5"
      },
      "source": [
        "**Descriptive analytics (DA1):** <br>is a preliminary stage of data processing that creates a summary of historical data to yield useful information and possibly prepare the data for further analysis. It is used largely to answer the question **[‘What happened?’]**. Querying, reporting, data aggregation, data mining and data visualization may be applied to yield more insight.\n",
        "\n",
        "**Geo-Location-based DA1:**<br>\n",
        "1. What is the distribution of transactions across the 3 countries?\n",
        "2. What is the Fraud/Transactions Ratio per country?\n",
        "\n",
        "**Fraud-related DA1:**<br>\n",
        "3. What is the Max and Mean fraud value for June and July?\n",
        "4. What is the total fraud recorded for June and July?\n",
        "5. Drilling into OTP-Fraud, what’s the Max and Mean values monthly?\n",
        "6. What is the Max and Mean dollar cost of fraud for June and July?\n",
        "7. What is the ratio of fraudulent/non-fraudulent transactions monthly\n",
        "\n",
        "Answering these questions, give us a top-level vision of the state of the transactions and fraudulent activities and their impacts across the 3 countries the business operates in.\n"
      ]
    },
    {
      "cell_type": "markdown",
      "metadata": {
        "id": "1sjS8Yov2HQ3"
      },
      "source": [
        "### 1. Confirming the data-types"
      ]
    },
    {
      "cell_type": "code",
      "metadata": {
        "colab": {
          "base_uri": "https://localhost:8080/"
        },
        "id": "qb2xnZNU1fJc",
        "outputId": "59c8305e-09b9-401a-aff3-1739043c2b04"
      },
      "source": [
        "june_df.info()"
      ],
      "execution_count": 168,
      "outputs": [
        {
          "output_type": "stream",
          "name": "stdout",
          "text": [
            "<class 'pandas.core.frame.DataFrame'>\n",
            "RangeIndex: 8609 entries, 0 to 8608\n",
            "Data columns (total 13 columns):\n",
            " #   Column                       Non-Null Count  Dtype         \n",
            "---  ------                       --------------  -----         \n",
            " 0   merchant_id                  8609 non-null   int64         \n",
            " 1   merchant_industry            8609 non-null   object        \n",
            " 2   merchant_category            8609 non-null   object        \n",
            " 3   merchant_country             8609 non-null   object        \n",
            " 4   currency                     8609 non-null   object        \n",
            " 5   transaction_week_start_date  8609 non-null   datetime64[ns]\n",
            " 6   channel                      8609 non-null   object        \n",
            " 7   transaction_count            8609 non-null   int64         \n",
            " 8   transaction_volume_usd       8609 non-null   float64       \n",
            " 9   fraud_count                  8609 non-null   int64         \n",
            " 10  fraud_volume_usd             61 non-null     float64       \n",
            " 11  otp_fraud                    8609 non-null   int64         \n",
            " 12  otp_all_transactions         8609 non-null   int64         \n",
            "dtypes: datetime64[ns](1), float64(2), int64(5), object(5)\n",
            "memory usage: 874.5+ KB\n"
          ]
        }
      ]
    },
    {
      "cell_type": "code",
      "metadata": {
        "colab": {
          "base_uri": "https://localhost:8080/"
        },
        "id": "NhCzH1ms19su",
        "outputId": "7f8c193f-2454-4832-8027-dc2351acb03e"
      },
      "source": [
        "july_df.info()"
      ],
      "execution_count": 169,
      "outputs": [
        {
          "output_type": "stream",
          "name": "stdout",
          "text": [
            "<class 'pandas.core.frame.DataFrame'>\n",
            "RangeIndex: 8809 entries, 0 to 8808\n",
            "Data columns (total 13 columns):\n",
            " #   Column                       Non-Null Count  Dtype         \n",
            "---  ------                       --------------  -----         \n",
            " 0   merchant_id                  8809 non-null   int64         \n",
            " 1   merchant_industry            8809 non-null   object        \n",
            " 2   merchant_category            8809 non-null   object        \n",
            " 3   merchant_country             8809 non-null   object        \n",
            " 4   currency                     8809 non-null   object        \n",
            " 5   transaction_week_start_date  8809 non-null   datetime64[ns]\n",
            " 6   channel                      8809 non-null   object        \n",
            " 7   transaction_count            8809 non-null   int64         \n",
            " 8   transaction_volume_usd       8809 non-null   float64       \n",
            " 9   fraud_count                  8809 non-null   int64         \n",
            " 10  fraud_volume_usd             51 non-null     float64       \n",
            " 11  otp_fraud                    8809 non-null   int64         \n",
            " 12  otp_all_transactions         8809 non-null   int64         \n",
            "dtypes: datetime64[ns](1), float64(2), int64(5), object(5)\n",
            "memory usage: 894.8+ KB\n"
          ]
        }
      ]
    },
    {
      "cell_type": "markdown",
      "metadata": {
        "id": "F8IVvjpz1xW-"
      },
      "source": [
        "So, we can see the data-types for the months of June and July. They conform to the expected data-types. All columns that should be numeric are and all that should be categorical or object are too."
      ]
    },
    {
      "cell_type": "markdown",
      "metadata": {
        "id": "1qeoT-uByoa9"
      },
      "source": [
        "### 2. Checking the Descriptive Statistics of the data:"
      ]
    },
    {
      "cell_type": "code",
      "metadata": {
        "colab": {
          "base_uri": "https://localhost:8080/",
          "height": 266
        },
        "id": "UAlumWTS1Q_H",
        "outputId": "ef01d879-1480-46e2-92be-fb0c6a5790d1"
      },
      "source": [
        "# For June numeric features\n",
        "\n",
        "june_df.describe().T"
      ],
      "execution_count": 170,
      "outputs": [
        {
          "output_type": "execute_result",
          "data": {
            "text/html": [
              "<div>\n",
              "<style scoped>\n",
              "    .dataframe tbody tr th:only-of-type {\n",
              "        vertical-align: middle;\n",
              "    }\n",
              "\n",
              "    .dataframe tbody tr th {\n",
              "        vertical-align: top;\n",
              "    }\n",
              "\n",
              "    .dataframe thead th {\n",
              "        text-align: right;\n",
              "    }\n",
              "</style>\n",
              "<table border=\"1\" class=\"dataframe\">\n",
              "  <thead>\n",
              "    <tr style=\"text-align: right;\">\n",
              "      <th></th>\n",
              "      <th>count</th>\n",
              "      <th>mean</th>\n",
              "      <th>std</th>\n",
              "      <th>min</th>\n",
              "      <th>25%</th>\n",
              "      <th>50%</th>\n",
              "      <th>75%</th>\n",
              "      <th>max</th>\n",
              "    </tr>\n",
              "  </thead>\n",
              "  <tbody>\n",
              "    <tr>\n",
              "      <th>merchant_id</th>\n",
              "      <td>8609.0</td>\n",
              "      <td>4304.018469</td>\n",
              "      <td>2485.466539</td>\n",
              "      <td>1.000000</td>\n",
              "      <td>2153.000000</td>\n",
              "      <td>4304.000000</td>\n",
              "      <td>6456.000000</td>\n",
              "      <td>8.609000e+03</td>\n",
              "    </tr>\n",
              "    <tr>\n",
              "      <th>transaction_count</th>\n",
              "      <td>8609.0</td>\n",
              "      <td>485.230573</td>\n",
              "      <td>8253.372691</td>\n",
              "      <td>1.000000</td>\n",
              "      <td>1.000000</td>\n",
              "      <td>3.000000</td>\n",
              "      <td>11.000000</td>\n",
              "      <td>2.758660e+05</td>\n",
              "    </tr>\n",
              "    <tr>\n",
              "      <th>transaction_volume_usd</th>\n",
              "      <td>8609.0</td>\n",
              "      <td>7000.276672</td>\n",
              "      <td>73800.550994</td>\n",
              "      <td>0.000026</td>\n",
              "      <td>9.186352</td>\n",
              "      <td>43.307087</td>\n",
              "      <td>236.220472</td>\n",
              "      <td>2.396408e+06</td>\n",
              "    </tr>\n",
              "    <tr>\n",
              "      <th>fraud_count</th>\n",
              "      <td>8609.0</td>\n",
              "      <td>0.108375</td>\n",
              "      <td>3.175327</td>\n",
              "      <td>0.000000</td>\n",
              "      <td>0.000000</td>\n",
              "      <td>0.000000</td>\n",
              "      <td>0.000000</td>\n",
              "      <td>1.700000e+02</td>\n",
              "    </tr>\n",
              "    <tr>\n",
              "      <th>fraud_volume_usd</th>\n",
              "      <td>61.0</td>\n",
              "      <td>1858.473460</td>\n",
              "      <td>4641.861843</td>\n",
              "      <td>0.524934</td>\n",
              "      <td>26.246719</td>\n",
              "      <td>91.338583</td>\n",
              "      <td>539.212598</td>\n",
              "      <td>2.017848e+04</td>\n",
              "    </tr>\n",
              "    <tr>\n",
              "      <th>otp_fraud</th>\n",
              "      <td>8609.0</td>\n",
              "      <td>0.009293</td>\n",
              "      <td>0.265166</td>\n",
              "      <td>0.000000</td>\n",
              "      <td>0.000000</td>\n",
              "      <td>0.000000</td>\n",
              "      <td>0.000000</td>\n",
              "      <td>1.700000e+01</td>\n",
              "    </tr>\n",
              "    <tr>\n",
              "      <th>otp_all_transactions</th>\n",
              "      <td>8609.0</td>\n",
              "      <td>81.615402</td>\n",
              "      <td>589.620590</td>\n",
              "      <td>0.000000</td>\n",
              "      <td>1.000000</td>\n",
              "      <td>2.000000</td>\n",
              "      <td>9.000000</td>\n",
              "      <td>1.222300e+04</td>\n",
              "    </tr>\n",
              "  </tbody>\n",
              "</table>\n",
              "</div>"
            ],
            "text/plain": [
              "                         count         mean  ...          75%           max\n",
              "merchant_id             8609.0  4304.018469  ...  6456.000000  8.609000e+03\n",
              "transaction_count       8609.0   485.230573  ...    11.000000  2.758660e+05\n",
              "transaction_volume_usd  8609.0  7000.276672  ...   236.220472  2.396408e+06\n",
              "fraud_count             8609.0     0.108375  ...     0.000000  1.700000e+02\n",
              "fraud_volume_usd          61.0  1858.473460  ...   539.212598  2.017848e+04\n",
              "otp_fraud               8609.0     0.009293  ...     0.000000  1.700000e+01\n",
              "otp_all_transactions    8609.0    81.615402  ...     9.000000  1.222300e+04\n",
              "\n",
              "[7 rows x 8 columns]"
            ]
          },
          "metadata": {},
          "execution_count": 170
        }
      ]
    },
    {
      "cell_type": "code",
      "metadata": {
        "colab": {
          "base_uri": "https://localhost:8080/",
          "height": 266
        },
        "id": "r9hvVjap1c2g",
        "outputId": "018320b4-e940-4bfb-884c-393553312541"
      },
      "source": [
        "# For July numeric features\n",
        "\n",
        "july_df.describe().T"
      ],
      "execution_count": 171,
      "outputs": [
        {
          "output_type": "execute_result",
          "data": {
            "text/html": [
              "<div>\n",
              "<style scoped>\n",
              "    .dataframe tbody tr th:only-of-type {\n",
              "        vertical-align: middle;\n",
              "    }\n",
              "\n",
              "    .dataframe tbody tr th {\n",
              "        vertical-align: top;\n",
              "    }\n",
              "\n",
              "    .dataframe thead th {\n",
              "        text-align: right;\n",
              "    }\n",
              "</style>\n",
              "<table border=\"1\" class=\"dataframe\">\n",
              "  <thead>\n",
              "    <tr style=\"text-align: right;\">\n",
              "      <th></th>\n",
              "      <th>count</th>\n",
              "      <th>mean</th>\n",
              "      <th>std</th>\n",
              "      <th>min</th>\n",
              "      <th>25%</th>\n",
              "      <th>50%</th>\n",
              "      <th>75%</th>\n",
              "      <th>max</th>\n",
              "    </tr>\n",
              "  </thead>\n",
              "  <tbody>\n",
              "    <tr>\n",
              "      <th>merchant_id</th>\n",
              "      <td>8809.0</td>\n",
              "      <td>4404.009536</td>\n",
              "      <td>2543.190394</td>\n",
              "      <td>1.000000</td>\n",
              "      <td>2201.000000</td>\n",
              "      <td>4405.000000</td>\n",
              "      <td>6607.000000</td>\n",
              "      <td>8.809000e+03</td>\n",
              "    </tr>\n",
              "    <tr>\n",
              "      <th>transaction_count</th>\n",
              "      <td>8809.0</td>\n",
              "      <td>452.862300</td>\n",
              "      <td>7493.961064</td>\n",
              "      <td>1.000000</td>\n",
              "      <td>1.000000</td>\n",
              "      <td>3.000000</td>\n",
              "      <td>12.000000</td>\n",
              "      <td>2.321840e+05</td>\n",
              "    </tr>\n",
              "    <tr>\n",
              "      <th>transaction_volume_usd</th>\n",
              "      <td>8809.0</td>\n",
              "      <td>6456.769974</td>\n",
              "      <td>65039.969627</td>\n",
              "      <td>0.000026</td>\n",
              "      <td>9.186352</td>\n",
              "      <td>43.307087</td>\n",
              "      <td>237.270341</td>\n",
              "      <td>2.444412e+06</td>\n",
              "    </tr>\n",
              "    <tr>\n",
              "      <th>fraud_count</th>\n",
              "      <td>8809.0</td>\n",
              "      <td>0.044386</td>\n",
              "      <td>1.144114</td>\n",
              "      <td>0.000000</td>\n",
              "      <td>0.000000</td>\n",
              "      <td>0.000000</td>\n",
              "      <td>0.000000</td>\n",
              "      <td>6.200000e+01</td>\n",
              "    </tr>\n",
              "    <tr>\n",
              "      <th>fraud_volume_usd</th>\n",
              "      <td>51.0</td>\n",
              "      <td>1261.399492</td>\n",
              "      <td>2420.278420</td>\n",
              "      <td>0.262467</td>\n",
              "      <td>21.900997</td>\n",
              "      <td>132.545932</td>\n",
              "      <td>1040.682415</td>\n",
              "      <td>9.956378e+03</td>\n",
              "    </tr>\n",
              "    <tr>\n",
              "      <th>otp_fraud</th>\n",
              "      <td>8809.0</td>\n",
              "      <td>0.006925</td>\n",
              "      <td>0.187173</td>\n",
              "      <td>0.000000</td>\n",
              "      <td>0.000000</td>\n",
              "      <td>0.000000</td>\n",
              "      <td>0.000000</td>\n",
              "      <td>1.000000e+01</td>\n",
              "    </tr>\n",
              "    <tr>\n",
              "      <th>otp_all_transactions</th>\n",
              "      <td>8809.0</td>\n",
              "      <td>156.574753</td>\n",
              "      <td>3732.010232</td>\n",
              "      <td>0.000000</td>\n",
              "      <td>1.000000</td>\n",
              "      <td>2.000000</td>\n",
              "      <td>9.000000</td>\n",
              "      <td>2.015910e+05</td>\n",
              "    </tr>\n",
              "  </tbody>\n",
              "</table>\n",
              "</div>"
            ],
            "text/plain": [
              "                         count         mean  ...          75%           max\n",
              "merchant_id             8809.0  4404.009536  ...  6607.000000  8.809000e+03\n",
              "transaction_count       8809.0   452.862300  ...    12.000000  2.321840e+05\n",
              "transaction_volume_usd  8809.0  6456.769974  ...   237.270341  2.444412e+06\n",
              "fraud_count             8809.0     0.044386  ...     0.000000  6.200000e+01\n",
              "fraud_volume_usd          51.0  1261.399492  ...  1040.682415  9.956378e+03\n",
              "otp_fraud               8809.0     0.006925  ...     0.000000  1.000000e+01\n",
              "otp_all_transactions    8809.0   156.574753  ...     9.000000  2.015910e+05\n",
              "\n",
              "[7 rows x 8 columns]"
            ]
          },
          "metadata": {},
          "execution_count": 171
        }
      ]
    },
    {
      "cell_type": "markdown",
      "metadata": {
        "id": "3LKdHrHg4EOA"
      },
      "source": [
        "We can see that there's complete count for all numeric columns except `fraud_volume_usd` which has a count of 61 in June and 51 in July. This depicts missing values present. We can also observe the following...\n",
        "1. Max `fraud_count` per day in June is 170, while in July is 62\n",
        "2. Mean `fraud_volume_usd` in June is 1858, while in July is 1261. Note that these figures are large because we have only 61 and 51 data represented now, since the rest are NaN values in this column.\n",
        "3. Max `fraud_volume_usd` in any given day in June is 20178, while July is 9956\n",
        "4. For `otp_fraud`, the Max a day in June is 17, while July Max is 10\n",
        "5. While June has Max `otp_all_transactions` a day as 12223 and July as 201591"
      ]
    },
    {
      "cell_type": "markdown",
      "metadata": {
        "id": "0KV4n9E3SEV2"
      },
      "source": [
        "**Let's see the count of unique merchants that did transactions for June and July**"
      ]
    },
    {
      "cell_type": "code",
      "metadata": {
        "colab": {
          "base_uri": "https://localhost:8080/"
        },
        "id": "em0P9t7PSNIz",
        "outputId": "5ff24557-4ca8-42bb-b4c2-af9c3ef45727"
      },
      "source": [
        "june_merchant_count = june_df.merchant_id.nunique()\n",
        "july_merchant_count = july_df.merchant_id.nunique()\n",
        "\n",
        "print(f'Total Merchants for June: {june_merchant_count}\\nTotal Merchants for July: {july_merchant_count}')"
      ],
      "execution_count": 172,
      "outputs": [
        {
          "output_type": "stream",
          "name": "stdout",
          "text": [
            "Total Merchants for June: 3866\n",
            "Total Merchants for July: 3895\n"
          ]
        }
      ]
    },
    {
      "cell_type": "markdown",
      "metadata": {
        "id": "qojN1rtVTgS3"
      },
      "source": [
        "**So we had slightly more (about 29) merchants in July than June.**"
      ]
    },
    {
      "cell_type": "code",
      "metadata": {
        "colab": {
          "base_uri": "https://localhost:8080/",
          "height": 204
        },
        "id": "2AC72HHBGqv1",
        "outputId": "a9603be3-c126-4336-8d5b-21f558dccddf"
      },
      "source": [
        "# For June categoric features\n",
        "\n",
        "june_df.describe(include='object').T"
      ],
      "execution_count": 173,
      "outputs": [
        {
          "output_type": "execute_result",
          "data": {
            "text/html": [
              "<div>\n",
              "<style scoped>\n",
              "    .dataframe tbody tr th:only-of-type {\n",
              "        vertical-align: middle;\n",
              "    }\n",
              "\n",
              "    .dataframe tbody tr th {\n",
              "        vertical-align: top;\n",
              "    }\n",
              "\n",
              "    .dataframe thead th {\n",
              "        text-align: right;\n",
              "    }\n",
              "</style>\n",
              "<table border=\"1\" class=\"dataframe\">\n",
              "  <thead>\n",
              "    <tr style=\"text-align: right;\">\n",
              "      <th></th>\n",
              "      <th>count</th>\n",
              "      <th>unique</th>\n",
              "      <th>top</th>\n",
              "      <th>freq</th>\n",
              "    </tr>\n",
              "  </thead>\n",
              "  <tbody>\n",
              "    <tr>\n",
              "      <th>merchant_industry</th>\n",
              "      <td>8609</td>\n",
              "      <td>63</td>\n",
              "      <td>GOODS-PHYSICAL</td>\n",
              "      <td>1358</td>\n",
              "    </tr>\n",
              "    <tr>\n",
              "      <th>merchant_category</th>\n",
              "      <td>8609</td>\n",
              "      <td>11</td>\n",
              "      <td>Digital Services</td>\n",
              "      <td>1601</td>\n",
              "    </tr>\n",
              "    <tr>\n",
              "      <th>merchant_country</th>\n",
              "      <td>8609</td>\n",
              "      <td>3</td>\n",
              "      <td>Nigeria</td>\n",
              "      <td>8577</td>\n",
              "    </tr>\n",
              "    <tr>\n",
              "      <th>currency</th>\n",
              "      <td>8609</td>\n",
              "      <td>4</td>\n",
              "      <td>NGN</td>\n",
              "      <td>8540</td>\n",
              "    </tr>\n",
              "    <tr>\n",
              "      <th>channel</th>\n",
              "      <td>8609</td>\n",
              "      <td>1</td>\n",
              "      <td>card</td>\n",
              "      <td>8609</td>\n",
              "    </tr>\n",
              "  </tbody>\n",
              "</table>\n",
              "</div>"
            ],
            "text/plain": [
              "                  count unique               top  freq\n",
              "merchant_industry  8609     63    GOODS-PHYSICAL  1358\n",
              "merchant_category  8609     11  Digital Services  1601\n",
              "merchant_country   8609      3           Nigeria  8577\n",
              "currency           8609      4               NGN  8540\n",
              "channel            8609      1              card  8609"
            ]
          },
          "metadata": {},
          "execution_count": 173
        }
      ]
    },
    {
      "cell_type": "code",
      "metadata": {
        "colab": {
          "base_uri": "https://localhost:8080/",
          "height": 204
        },
        "id": "LoaLVX9nHNSJ",
        "outputId": "29358af6-cfca-4376-bc88-94978c8b7a21"
      },
      "source": [
        "# For July categoric features\n",
        "\n",
        "july_df.describe(include='object').T"
      ],
      "execution_count": 174,
      "outputs": [
        {
          "output_type": "execute_result",
          "data": {
            "text/html": [
              "<div>\n",
              "<style scoped>\n",
              "    .dataframe tbody tr th:only-of-type {\n",
              "        vertical-align: middle;\n",
              "    }\n",
              "\n",
              "    .dataframe tbody tr th {\n",
              "        vertical-align: top;\n",
              "    }\n",
              "\n",
              "    .dataframe thead th {\n",
              "        text-align: right;\n",
              "    }\n",
              "</style>\n",
              "<table border=\"1\" class=\"dataframe\">\n",
              "  <thead>\n",
              "    <tr style=\"text-align: right;\">\n",
              "      <th></th>\n",
              "      <th>count</th>\n",
              "      <th>unique</th>\n",
              "      <th>top</th>\n",
              "      <th>freq</th>\n",
              "    </tr>\n",
              "  </thead>\n",
              "  <tbody>\n",
              "    <tr>\n",
              "      <th>merchant_industry</th>\n",
              "      <td>8809</td>\n",
              "      <td>62</td>\n",
              "      <td>GOODS-PHYSICAL</td>\n",
              "      <td>1356</td>\n",
              "    </tr>\n",
              "    <tr>\n",
              "      <th>merchant_category</th>\n",
              "      <td>8809</td>\n",
              "      <td>11</td>\n",
              "      <td>Other</td>\n",
              "      <td>1473</td>\n",
              "    </tr>\n",
              "    <tr>\n",
              "      <th>merchant_country</th>\n",
              "      <td>8809</td>\n",
              "      <td>3</td>\n",
              "      <td>Nigeria</td>\n",
              "      <td>8784</td>\n",
              "    </tr>\n",
              "    <tr>\n",
              "      <th>currency</th>\n",
              "      <td>8809</td>\n",
              "      <td>4</td>\n",
              "      <td>NGN</td>\n",
              "      <td>8744</td>\n",
              "    </tr>\n",
              "    <tr>\n",
              "      <th>channel</th>\n",
              "      <td>8809</td>\n",
              "      <td>1</td>\n",
              "      <td>card</td>\n",
              "      <td>8809</td>\n",
              "    </tr>\n",
              "  </tbody>\n",
              "</table>\n",
              "</div>"
            ],
            "text/plain": [
              "                  count unique             top  freq\n",
              "merchant_industry  8809     62  GOODS-PHYSICAL  1356\n",
              "merchant_category  8809     11           Other  1473\n",
              "merchant_country   8809      3         Nigeria  8784\n",
              "currency           8809      4             NGN  8744\n",
              "channel            8809      1            card  8809"
            ]
          },
          "metadata": {},
          "execution_count": 174
        }
      ]
    },
    {
      "cell_type": "markdown",
      "metadata": {
        "id": "rr0xmGm9Hg4O"
      },
      "source": [
        "From the categorical features summary, we can see that...\n",
        "1. There are 63 unique merchant industries in June and 62 in July,\n",
        "2. There are 11 distinct merchant categories, and 3 distinct merchant countries, 4 distinct currencies and 1 distinct channel for both months, which is the `card` channel."
      ]
    },
    {
      "cell_type": "markdown",
      "metadata": {
        "id": "-aM6s_GSKGSr"
      },
      "source": [
        "### 3. Checking for missing values:"
      ]
    },
    {
      "cell_type": "code",
      "metadata": {
        "id": "0KEZBcDKB32V",
        "colab": {
          "base_uri": "https://localhost:8080/"
        },
        "outputId": "04d6c75e-8361-439e-a76d-c390afad8cca"
      },
      "source": [
        "june_df.isna().any()"
      ],
      "execution_count": 175,
      "outputs": [
        {
          "output_type": "execute_result",
          "data": {
            "text/plain": [
              "merchant_id                    False\n",
              "merchant_industry              False\n",
              "merchant_category              False\n",
              "merchant_country               False\n",
              "currency                       False\n",
              "transaction_week_start_date    False\n",
              "channel                        False\n",
              "transaction_count              False\n",
              "transaction_volume_usd         False\n",
              "fraud_count                    False\n",
              "fraud_volume_usd                True\n",
              "otp_fraud                      False\n",
              "otp_all_transactions           False\n",
              "dtype: bool"
            ]
          },
          "metadata": {},
          "execution_count": 175
        }
      ]
    },
    {
      "cell_type": "code",
      "metadata": {
        "colab": {
          "base_uri": "https://localhost:8080/"
        },
        "id": "0_ckoE3nye7G",
        "outputId": "8e8fd873-4227-4571-86cc-e2d22b205af4"
      },
      "source": [
        "july_df.isna().any()"
      ],
      "execution_count": 176,
      "outputs": [
        {
          "output_type": "execute_result",
          "data": {
            "text/plain": [
              "merchant_id                    False\n",
              "merchant_industry              False\n",
              "merchant_category              False\n",
              "merchant_country               False\n",
              "currency                       False\n",
              "transaction_week_start_date    False\n",
              "channel                        False\n",
              "transaction_count              False\n",
              "transaction_volume_usd         False\n",
              "fraud_count                    False\n",
              "fraud_volume_usd                True\n",
              "otp_fraud                      False\n",
              "otp_all_transactions           False\n",
              "dtype: bool"
            ]
          },
          "metadata": {},
          "execution_count": 176
        }
      ]
    },
    {
      "cell_type": "markdown",
      "metadata": {
        "id": "mLYcronDzOpM"
      },
      "source": [
        "We can see that for both June and July, only `fraud_volume_usd` has missing values. On further investigation, it is clear to see why. This is so because when `fraud_count` is 0, then `fraud_volume_usd` defaults to NaN.<br>Since we know that `fraud_volume_usd` should be 0, when `fraud_count` is 0, let's override this accordingly."
      ]
    },
    {
      "cell_type": "code",
      "metadata": {
        "colab": {
          "base_uri": "https://localhost:8080/"
        },
        "id": "v_thDz0yzMuI",
        "outputId": "49c0c57f-b49f-41d1-8e20-0e1587583a48"
      },
      "source": [
        "# replacing all missing values in the fraud_volume_usd col to 0\n",
        "\n",
        "june_df.fraud_volume_usd.fillna(0, inplace=True)\n",
        "july_df.fraud_volume_usd.fillna(0, inplace=True)\n",
        "print('done!')"
      ],
      "execution_count": 177,
      "outputs": [
        {
          "output_type": "stream",
          "name": "stdout",
          "text": [
            "done!\n"
          ]
        }
      ]
    },
    {
      "cell_type": "markdown",
      "metadata": {
        "id": "H-jRPLYnLDrG"
      },
      "source": [
        "**Let's confirm that all missing values have been replaced**"
      ]
    },
    {
      "cell_type": "code",
      "metadata": {
        "colab": {
          "base_uri": "https://localhost:8080/"
        },
        "id": "c_3bhDWaLJRK",
        "outputId": "e593008d-7d46-4a94-9153-1891ae5ff4cf"
      },
      "source": [
        "june_df.isna().any()"
      ],
      "execution_count": 178,
      "outputs": [
        {
          "output_type": "execute_result",
          "data": {
            "text/plain": [
              "merchant_id                    False\n",
              "merchant_industry              False\n",
              "merchant_category              False\n",
              "merchant_country               False\n",
              "currency                       False\n",
              "transaction_week_start_date    False\n",
              "channel                        False\n",
              "transaction_count              False\n",
              "transaction_volume_usd         False\n",
              "fraud_count                    False\n",
              "fraud_volume_usd               False\n",
              "otp_fraud                      False\n",
              "otp_all_transactions           False\n",
              "dtype: bool"
            ]
          },
          "metadata": {},
          "execution_count": 178
        }
      ]
    },
    {
      "cell_type": "code",
      "metadata": {
        "colab": {
          "base_uri": "https://localhost:8080/"
        },
        "id": "5AgyYM8aLQSD",
        "outputId": "806a36af-8fb2-4d7e-a1ed-bc90c7592367"
      },
      "source": [
        "july_df.isna().any()"
      ],
      "execution_count": 179,
      "outputs": [
        {
          "output_type": "execute_result",
          "data": {
            "text/plain": [
              "merchant_id                    False\n",
              "merchant_industry              False\n",
              "merchant_category              False\n",
              "merchant_country               False\n",
              "currency                       False\n",
              "transaction_week_start_date    False\n",
              "channel                        False\n",
              "transaction_count              False\n",
              "transaction_volume_usd         False\n",
              "fraud_count                    False\n",
              "fraud_volume_usd               False\n",
              "otp_fraud                      False\n",
              "otp_all_transactions           False\n",
              "dtype: bool"
            ]
          },
          "metadata": {},
          "execution_count": 179
        }
      ]
    },
    {
      "cell_type": "markdown",
      "metadata": {
        "id": "Heyc_ht7WFy9"
      },
      "source": [
        "### 4. Some basic visualization of June and July transactions:"
      ]
    },
    {
      "cell_type": "markdown",
      "metadata": {
        "id": "r0ZZrCtlPVZk"
      },
      "source": [
        "**Let's explore the distribution of transactions across the distinct countries for June and July**"
      ]
    },
    {
      "cell_type": "code",
      "metadata": {
        "id": "0P3AppKrYSHr"
      },
      "source": [
        "def compare_pie_chart(sup_title, titles, s1, s2, size, colours):\n",
        "    \"\"\"Pie chart to compare values for June and July\n",
        "    \n",
        "    @param suptitle: Str, summary title of the plot\n",
        "    @param titles: List of string sub-titles per plot\n",
        "    @param s1: first series object\n",
        "    @param s2: second series object\n",
        "    @param size: A tuple of figure size\n",
        "    @param colours: A List of colors for the piecharts\n",
        "    \"\"\"\n",
        "    plt.figure(figsize=size)\n",
        "    sns.set(font_scale=1.2)\n",
        "    sns.set_style('ticks')\n",
        "    plt.suptitle(sup_title, y=1.05)\n",
        "\n",
        "    # For the first plot\n",
        "    plt.subplot(121)\n",
        "    plt.pie(s1, \n",
        "       autopct='%1.1f%%',\n",
        "       colors=colours,\n",
        "       startangle=90,\n",
        "       shadow=True,\n",
        "       pctdistance=1.06)\n",
        "    plt.title(titles[0], y=1.05, fontdict=fontDict1)\n",
        "    plt.axis('equal')\n",
        "    plt.legend(labels=s1.index, loc='upper right')\n",
        "\n",
        "    # For the second plot\n",
        "    plt.subplot(122)\n",
        "    plt.pie(s2, \n",
        "       autopct='%1.1f%%',\n",
        "       colors=colours,\n",
        "       startangle=90,\n",
        "       shadow=True,\n",
        "       pctdistance=1.06)\n",
        "    plt.title(titles[1], y=1.05, fontdict=fontDict1)\n",
        "    plt.axis('equal')\n",
        "    plt.legend(labels=s2.index, loc='upper right')\n",
        "\n",
        "    plt.show()"
      ],
      "execution_count": 180,
      "outputs": []
    },
    {
      "cell_type": "code",
      "metadata": {
        "id": "RRxajjvjUpfV"
      },
      "source": [
        "countries = list(june_df.merchant_country.unique())\n",
        "\n",
        "def get_country_transactions(countries, df1, df2):\n",
        "    \"\"\"Function to get total transactions per country\n",
        "\n",
        "    @param countries: list of string country names\n",
        "    @param df1 and df2: June and July Dataframes\n",
        "    \"\"\"\n",
        "\n",
        "    s1_list = []\n",
        "    s2_list = []\n",
        "\n",
        "    for country in countries:\n",
        "        temp1 = df1[df1['merchant_country'] == country]\n",
        "        s1_list.append(sum(temp1['transaction_count']))\n",
        "\n",
        "        temp2 = df2[df2['merchant_country'] == country]\n",
        "        s2_list.append(sum(temp2['transaction_count']))\n",
        "    \n",
        "    s1 = pd.Series(s1_list, index=countries)\n",
        "    s2 = pd.Series(s2_list, index=countries)\n",
        "\n",
        "    return s1, s2 "
      ],
      "execution_count": 181,
      "outputs": []
    },
    {
      "cell_type": "code",
      "metadata": {
        "id": "OMZs98tYWV5F"
      },
      "source": [
        "june_country_split, july_country_split = get_country_transactions(countries, june_df, july_df)"
      ],
      "execution_count": 182,
      "outputs": []
    },
    {
      "cell_type": "code",
      "metadata": {
        "colab": {
          "base_uri": "https://localhost:8080/"
        },
        "id": "WGPduBNXNW5j",
        "outputId": "a45b86d2-2aa2-49fb-d37e-55be26a2090b"
      },
      "source": [
        "june_country_split"
      ],
      "execution_count": 183,
      "outputs": [
        {
          "output_type": "execute_result",
          "data": {
            "text/plain": [
              "Nigeria         4177313\n",
              "Ghana                35\n",
              "South Africa          2\n",
              "dtype: int64"
            ]
          },
          "metadata": {},
          "execution_count": 183
        }
      ]
    },
    {
      "cell_type": "code",
      "metadata": {
        "colab": {
          "base_uri": "https://localhost:8080/",
          "height": 432
        },
        "id": "YAO7OXeEngqR",
        "outputId": "5cd3bce6-4170-4b1e-a5e3-c1d01b90a46d"
      },
      "source": [
        "# Let's define some variables\n",
        "\n",
        "sup_title = 'Piechart showing Country-Distribution of Transactions'\n",
        "titles = ['June', 'July']\n",
        "s1 = june_country_split\n",
        "s2 = july_country_split\n",
        "size = (18, 6)\n",
        "colours = ['green','red','blue']\n",
        "\n",
        "compare_pie_chart(sup_title, titles, s1, s2, size, colours)"
      ],
      "execution_count": 184,
      "outputs": [
        {
          "output_type": "display_data",
          "data": {
            "image/png": "[encoded data removed]",
            "text/plain": [
              "<Figure size 1296x432 with 2 Axes>"
            ]
          },
          "metadata": {}
        }
      ]
    },
    {
      "cell_type": "code",
      "metadata": {
        "colab": {
          "base_uri": "https://localhost:8080/"
        },
        "id": "W5yYnzHoP4eF",
        "outputId": "6074deed-3840-4ef6-85c6-10d5cc207902"
      },
      "source": [
        "ng_june_t = june_country_split['Nigeria']\n",
        "ng_july_t = july_country_split['Nigeria']\n",
        "gh_june_t = june_country_split['Ghana']\n",
        "gh_july_t = july_country_split['Ghana']\n",
        "sa_june_t = june_country_split['South Africa']\n",
        "sa_july_t = july_country_split['South Africa']\n",
        "\n",
        "print(f'In June, the country-transactions-count is:\\nNigeria: {ng_june_t}\\nGhana: {gh_june_t}\\nSA: {sa_june_t}\\n')\n",
        "print()\n",
        "print(f'In July, the country-transactions-count is:\\nNigeria: {ng_july_t}\\nGhana: {gh_july_t}\\nSA: {sa_july_t}\\n')"
      ],
      "execution_count": 185,
      "outputs": [
        {
          "output_type": "stream",
          "name": "stdout",
          "text": [
            "In June, the country-transactions-count is:\n",
            "Nigeria: 4177313\n",
            "Ghana: 35\n",
            "SA: 2\n",
            "\n",
            "\n",
            "In July, the country-transactions-count is:\n",
            "Nigeria: 3989230\n",
            "Ghana: 32\n",
            "SA: 2\n",
            "\n"
          ]
        }
      ]
    },
    {
      "cell_type": "markdown",
      "metadata": {
        "id": "vSm7lBX0pCjN"
      },
      "source": [
        "We can see from the three countries represented in the data, that Nigeria alone has over 99.7% of all transactions. Thus, I can assume that more fraudulent activities occur within Nigeria.<br>\n",
        "* SA has only 2 transactions per month\n",
        "* Ghana has just about 35 per month\n",
        "* Nigeria has about 4 million transactions monthly.\n",
        "\n",
        "**But before I jump to conclusions, let's see the percentage distribution of total fraud per country transactions.**"
      ]
    },
    {
      "cell_type": "code",
      "metadata": {
        "id": "FmIFBt6_dOHU"
      },
      "source": [
        "def get_country_fraud_pct_df(df):\n",
        "    country_ratio = []\n",
        "\n",
        "    for country in countries:\n",
        "        country_df = df[df['merchant_country'] == country]\n",
        "        ratio = sum(country_df.fraud_count) / sum(country_df.transaction_count)\n",
        "        pct = ratio * 100\n",
        "        country_ratio.append(pct)\n",
        "\n",
        "    final_df = pd.DataFrame(country_ratio, index=countries, columns=['Pct'])\n",
        "\n",
        "    return final_df"
      ],
      "execution_count": 186,
      "outputs": []
    },
    {
      "cell_type": "code",
      "metadata": {
        "colab": {
          "base_uri": "https://localhost:8080/",
          "height": 142
        },
        "id": "5IlNyWp5Q6Es",
        "outputId": "c7f2c726-1b92-49a2-a578-2c2985f07435"
      },
      "source": [
        "june_country_fraud_ratio = get_country_fraud_pct_df(june_df)\n",
        "july_country_fraud_ratio = get_country_fraud_pct_df(july_df)\n",
        "\n",
        "june_country_fraud_ratio"
      ],
      "execution_count": 187,
      "outputs": [
        {
          "output_type": "execute_result",
          "data": {
            "text/html": [
              "<div>\n",
              "<style scoped>\n",
              "    .dataframe tbody tr th:only-of-type {\n",
              "        vertical-align: middle;\n",
              "    }\n",
              "\n",
              "    .dataframe tbody tr th {\n",
              "        vertical-align: top;\n",
              "    }\n",
              "\n",
              "    .dataframe thead th {\n",
              "        text-align: right;\n",
              "    }\n",
              "</style>\n",
              "<table border=\"1\" class=\"dataframe\">\n",
              "  <thead>\n",
              "    <tr style=\"text-align: right;\">\n",
              "      <th></th>\n",
              "      <th>Pct</th>\n",
              "    </tr>\n",
              "  </thead>\n",
              "  <tbody>\n",
              "    <tr>\n",
              "      <th>Nigeria</th>\n",
              "      <td>0.022335</td>\n",
              "    </tr>\n",
              "    <tr>\n",
              "      <th>Ghana</th>\n",
              "      <td>0.000000</td>\n",
              "    </tr>\n",
              "    <tr>\n",
              "      <th>South Africa</th>\n",
              "      <td>0.000000</td>\n",
              "    </tr>\n",
              "  </tbody>\n",
              "</table>\n",
              "</div>"
            ],
            "text/plain": [
              "                   Pct\n",
              "Nigeria       0.022335\n",
              "Ghana         0.000000\n",
              "South Africa  0.000000"
            ]
          },
          "metadata": {},
          "execution_count": 187
        }
      ]
    },
    {
      "cell_type": "code",
      "metadata": {
        "id": "q8fbT8KBzwVh"
      },
      "source": [
        "def compare_bar_chart(df1, df2, colours, col):\n",
        "    plt.figure(figsize=size)\n",
        "    sns.set(font_scale=1.2)\n",
        "    sns.set_style('ticks')\n",
        "    plt.suptitle(sup_title, y=1.05)\n",
        "\n",
        "    # For June\n",
        "    plt.subplot(121)\n",
        "    plt.bar(x=df1.index, height=df1[col], data=df1, color= colours, width=0.5)\n",
        "    plt.title(titles[0], fontdict=fontDict1)\n",
        "    plt.xlabel(labels[0], fontdict=fontDict2)\n",
        "    plt.ylabel(labels[1], fontdict=fontDict2)\n",
        "    for x,y in zip(df1.index, df1[col]):\n",
        "        label = round(y,2)  #  could also be written as:-   \"{:.2f}\".format(y)\n",
        "        \n",
        "        plt.annotate(label, # this is the text\n",
        "                    (x,y), # this is the point to label\n",
        "                    textcoords=\"offset points\", # how to position the text\n",
        "                    xytext=(0,4), # distance from text to points (x,y)\n",
        "                    ha='center',) # horizontal alignment can be left, right or center\n",
        "\n",
        "\n",
        "    # For July\n",
        "    plt.subplot(122)\n",
        "    plt.bar(x=df2.index, height=df2[col], data=df2, color= colours, width=0.5)\n",
        "    plt.title(titles[1], fontdict=fontDict1)\n",
        "    plt.xlabel(labels[0], fontdict=fontDict2)\n",
        "    plt.ylabel(labels[1], fontdict=fontDict2)\n",
        "    for x,y in zip(df2.index, df2[col]):\n",
        "        label = round(y,2) \n",
        "        plt.annotate(label,\n",
        "                    (x,y), \n",
        "                    textcoords=\"offset points\", \n",
        "                    xytext=(0,4),\n",
        "                    ha='center',) \n",
        "    \n",
        "    plt.show()"
      ],
      "execution_count": 216,
      "outputs": []
    },
    {
      "cell_type": "code",
      "metadata": {
        "colab": {
          "base_uri": "https://localhost:8080/",
          "height": 466
        },
        "id": "4v_bl98R09IT",
        "outputId": "d50d47cd-6aaf-40ff-d70c-3e57d6adfd51"
      },
      "source": [
        "col='Pct'\n",
        "sup_title = 'Barcharts showing the Fraud/Transactions Ratio Per Country'\n",
        "titles = ['June Fraud/Transactions Ratio per Country', 'July Fraud/Transactions Ratio per Country']\n",
        "labels = ['Country', 'Percent']\n",
        "\n",
        "compare_bar_chart(june_country_fraud_ratio, july_country_fraud_ratio, colours, col)"
      ],
      "execution_count": 217,
      "outputs": [
        {
          "output_type": "display_data",
          "data": {
            "image/png": "[encoded data removed]",
            "text/plain": [
              "<Figure size 1296x432 with 2 Axes>"
            ]
          },
          "metadata": {}
        }
      ]
    },
    {
      "cell_type": "markdown",
      "metadata": {
        "id": "nk7hduRQYb-Z"
      },
      "source": [
        "Usually, only a small portion of transactions are fraudulent per organization.<br>This data shows us that...\n",
        "1. Only Nigerian transactions recorded fraud\n",
        "2. For June only 0.02% of transactions were flagged as fraud and only 0.01% in July\n",
        "3. The data tends to depict that even with more transactions done in July, it had less fraud reports than in June."
      ]
    },
    {
      "cell_type": "markdown",
      "metadata": {
        "id": "tyDtAyPp2iyo"
      },
      "source": [
        "**Let's visualize a few descriptive data values we deduced earlier**\n"
      ]
    },
    {
      "cell_type": "code",
      "metadata": {
        "id": "bfY7LBzodbXZ"
      },
      "source": [
        "indexs = ['max_fraud/Day', 'total_fraud/Month', 'max_otp_fraud/Day', 'ave_fraud_usd/Month','max_fraud_usd/Day']\n",
        "\n",
        "june_data = [max(june_df.fraud_count), sum(june_df.fraud_count), max(june_df.otp_fraud), \\\n",
        "             june_df.fraud_volume_usd.mean(), max(june_df.fraud_volume_usd)]\n",
        "\n",
        "july_data = [max(july_df.fraud_count), sum(july_df.fraud_count), max(july_df.otp_fraud), \\\n",
        "             july_df.fraud_volume_usd.mean(), max(july_df.fraud_volume_usd)]"
      ],
      "execution_count": 218,
      "outputs": []
    },
    {
      "cell_type": "code",
      "metadata": {
        "id": "ccfalzkMmIvI"
      },
      "source": [
        "def plot_clustered_bar(indexs, june_data, july_data):\n",
        "    assert len(indexs) == len(june_data) == len(july_data)\n",
        "\n",
        "    df = pd.DataFrame([june_data, july_data]).T\n",
        "    df.index = indexs\n",
        "    df.columns = ['June', 'July']\n",
        "\n",
        "    # your colors\n",
        "    colors = random.sample(darker_colors, 2)\n",
        "    plt.style.use(random.sample(styles, 1))\n",
        "\n",
        "    # plot with annotations is probably easier\n",
        "    p1 = df.plot(kind='bar', \n",
        "                 color=colors, \n",
        "                 figsize=(size), \n",
        "                 rot=0, \n",
        "                 ylabel='Count', \n",
        "                 title=title)\n",
        "\n",
        "    plt.show()"
      ],
      "execution_count": 219,
      "outputs": []
    },
    {
      "cell_type": "code",
      "metadata": {
        "colab": {
          "base_uri": "https://localhost:8080/",
          "height": 392
        },
        "id": "cCl7l12Lm2w9",
        "outputId": "bbf93993-f891-451e-c75b-3720ff9870fa"
      },
      "source": [
        "title = 'Max-Fraud per Day & Total-Fraud per Month: June vs July'\n",
        "plot_clustered_bar(indexs[:2], june_data[:2], july_data[:2])"
      ],
      "execution_count": 220,
      "outputs": [
        {
          "output_type": "display_data",
          "data": {
            "image/png": "[encoded data removed]",
            "text/plain": [
              "<Figure size 1296x432 with 1 Axes>"
            ]
          },
          "metadata": {}
        }
      ]
    },
    {
      "cell_type": "code",
      "metadata": {
        "colab": {
          "base_uri": "https://localhost:8080/",
          "height": 396
        },
        "id": "4pD9nURmzUk5",
        "outputId": "2f8f3599-c2ba-4eca-d073-4ca804221f71"
      },
      "source": [
        "title = 'Max-Otp-Fraud per Day & Average-Fraud-Volume-USD per Month: June vs July'\n",
        "plot_clustered_bar(indexs[2:4], june_data[2:4], july_data[2:4])"
      ],
      "execution_count": 221,
      "outputs": [
        {
          "output_type": "display_data",
          "data": {
            "image/png": "[encoded data removed]",
            "text/plain": [
              "<Figure size 1296x432 with 1 Axes>"
            ]
          },
          "metadata": {}
        }
      ]
    },
    {
      "cell_type": "code",
      "metadata": {
        "colab": {
          "base_uri": "https://localhost:8080/",
          "height": 389
        },
        "id": "GIqZtf0B1yOj",
        "outputId": "33d309de-51b4-4e01-a112-dffe657d2089"
      },
      "source": [
        "title = 'Max-Fraud-USD per Day: June vs July'\n",
        "plot_clustered_bar(indexs[4:], june_data[4:], july_data[4:])"
      ],
      "execution_count": 222,
      "outputs": [
        {
          "output_type": "display_data",
          "data": {
            "image/png": "[encoded data removed]",
            "text/plain": [
              "<Figure size 1296x432 with 1 Axes>"
            ]
          },
          "metadata": {}
        }
      ]
    },
    {
      "cell_type": "markdown",
      "metadata": {
        "id": "RZjpYbwm01-p"
      },
      "source": [
        "**Let's save computed Dataframes for the next stage..**"
      ]
    },
    {
      "cell_type": "code",
      "metadata": {
        "id": "YFqxPKyjuM4O",
        "colab": {
          "base_uri": "https://localhost:8080/"
        },
        "outputId": "154817a4-3de6-454c-a804-815a651f3e96"
      },
      "source": [
        "july_df.to_csv('july_df.csv', index=False)\n",
        "june_df.to_csv('june_df.csv', index=False)\n",
        "print('saved!')"
      ],
      "execution_count": 231,
      "outputs": [
        {
          "output_type": "stream",
          "name": "stdout",
          "text": [
            "saved!\n"
          ]
        }
      ]
    },
    {
      "cell_type": "code",
      "metadata": {
        "id": "osPqT3At165j"
      },
      "source": [
        ""
      ],
      "execution_count": null,
      "outputs": []
    }
  ]
}