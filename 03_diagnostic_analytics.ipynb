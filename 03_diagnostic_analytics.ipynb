{
  "nbformat": 4,
  "nbformat_minor": 0,
  "metadata": {
    "colab": {
      "name": "03_diagnostic_analytics.ipynb",
      "provenance": [],
      "collapsed_sections": [],
      "authorship_tag": "ABX9TyMMXPEfO6TdzD2yzbDji3Og",
      "include_colab_link": true
    },
    "kernelspec": {
      "name": "python3",
      "display_name": "Python 3"
    },
    "language_info": {
      "name": "python"
    }
  },
  "cells": [
    {
      "cell_type": "markdown",
      "metadata": {
        "id": "view-in-github",
        "colab_type": "text"
      },
      "source": [
        "<a href=\"https://colab.research.google.com/github/Lawrence-Krukrubo/fraud_analyst_assignment/blob/main/03_diagnostic_analytics.ipynb\" target=\"_parent\"><img src=\"https://colab.research.google.com/assets/colab-badge.svg\" alt=\"Open In Colab\"/></a>"
      ]
    },
    {
      "cell_type": "code",
      "metadata": {
        "colab": {
          "base_uri": "https://localhost:8080/"
        },
        "id": "twEScLqe6RH3",
        "outputId": "d63b271a-42e7-44c8-aea6-2454122b4ae4"
      },
      "source": [
        "# First let's mount Google Drive so we can navigate the folders as needed\n",
        "from google.colab import drive\n",
        "drive.mount('/content/gdrive')"
      ],
      "execution_count": null,
      "outputs": [
        {
          "output_type": "stream",
          "name": "stdout",
          "text": [
            "Drive already mounted at /content/gdrive; to attempt to forcibly remount, call drive.mount(\"/content/gdrive\", force_remount=True).\n"
          ]
        }
      ]
    },
    {
      "cell_type": "markdown",
      "metadata": {
        "id": "DZ4cai_48dZM"
      },
      "source": [
        "**Let's import some much needed libraries...**"
      ]
    },
    {
      "cell_type": "code",
      "metadata": {
        "colab": {
          "base_uri": "https://localhost:8080/"
        },
        "id": "Wa8gujGQ5yua",
        "outputId": "bfb6f45c-b75d-4c84-e675-1f75398e9801"
      },
      "source": [
        "import os\n",
        "import pandas as pd\n",
        "import numpy as np\n",
        "import matplotlib as mpl\n",
        "import matplotlib.pyplot as plt\n",
        "import seaborn as sns\n",
        "import plotly.express as px\n",
        "import plotly.graph_objects as go\n",
        "import random\n",
        "import xlrd\n",
        "print('done!')"
      ],
      "execution_count": 73,
      "outputs": [
        {
          "output_type": "stream",
          "name": "stdout",
          "text": [
            "done!\n"
          ]
        }
      ]
    },
    {
      "cell_type": "code",
      "metadata": {
        "colab": {
          "base_uri": "https://localhost:8080/"
        },
        "id": "X6iimWIBRSZ2",
        "outputId": "bb2a93de-db13-421c-8892-794162ce8218"
      },
      "source": [
        "# Let's get all the colors available in matplotlib\n",
        "other_colors = []\n",
        "darker_colors = []\n",
        "for name, hex in mpl.colors.cnames.items():\n",
        "    if 'dark' in name:\n",
        "        darker_colors.append(name)\n",
        "    else:\n",
        "        other_colors.append(name)\n",
        "\n",
        "# Let's finally save the various plot styles in matplotlib\n",
        "styles = plt.style.available\n",
        "\n",
        "print(f'darker-colors has {len(darker_colors)},\\nother-colors has {len(other_colors)} colors\\nplotting styles are {len(styles)}')"
      ],
      "execution_count": 74,
      "outputs": [
        {
          "output_type": "stream",
          "name": "stdout",
          "text": [
            "darker-colors has 19,\n",
            "other-colors has 129 colors\n",
            "plotting styles are 26\n"
          ]
        }
      ]
    },
    {
      "cell_type": "code",
      "metadata": {
        "id": "3B8XehOzUbbC"
      },
      "source": [
        "# set more matplotlib defaults\n",
        "mpl.rcParams['axes.labelsize'] = 12\n",
        "mpl.rcParams['xtick.labelsize'] = 10\n",
        "mpl.rcParams['ytick.labelsize'] = 10\n",
        "mpl.rcParams['text.color'] = 'k'\n",
        "mpl.rc('lines', linewidth=4, linestyle='-')\n",
        "\n",
        "# Set the plots design to xkcd\n",
        "# plt.xkcd()  # For xkcd style plots\n",
        "#plt.rcdefaults()  # to stop xkcd plots\n",
        "\n",
        "# fontdict for plot titles\n",
        "fontDict1 = {'fontfamily': 'fantasy',\n",
        "             'fontsize': 'x-large',\n",
        "             'fontstyle': 'italic',\n",
        "             'fontweight': 'heavy',\n",
        "             'ha': 'center',\n",
        "             'color': 'darkred',\n",
        "             'va': 'baseline'}\n",
        "\n",
        "# fontdict for plot labels\n",
        "fontDict2 = {'fontfamily': 'fantasy',\n",
        "             'fontsize': 'medium',\n",
        "             'fontstyle': 'oblique',\n",
        "             'fontweight': 'semibold',\n",
        "             'ha': 'center',\n",
        "             'color': 'black',\n",
        "             'va': 'baseline'}"
      ],
      "execution_count": 114,
      "outputs": []
    },
    {
      "cell_type": "markdown",
      "metadata": {
        "id": "4ewL2RK07xdy"
      },
      "source": [
        "**Let's change our Directory to the Fraud directory containing our data**"
      ]
    },
    {
      "cell_type": "code",
      "metadata": {
        "colab": {
          "base_uri": "https://localhost:8080/"
        },
        "id": "b1lzL6id5851",
        "outputId": "4cea45a4-f725-4a35-f674-5895bf11bb42"
      },
      "source": [
        "FRAUD_DIR = '/content/gdrive/MyDrive/Colab_Notebooks/fraud_analyst_assignment'\n",
        "os.chdir(FRAUD_DIR)\n",
        "print(f'Current Dir: {os.getcwd()}')"
      ],
      "execution_count": 76,
      "outputs": [
        {
          "output_type": "stream",
          "name": "stdout",
          "text": [
            "Current Dir: /content/gdrive/MyDrive/Colab_Notebooks/fraud_analyst_assignment\n"
          ]
        }
      ]
    },
    {
      "cell_type": "code",
      "metadata": {
        "colab": {
          "base_uri": "https://localhost:8080/"
        },
        "id": "M9wIfqEC8Nf2",
        "outputId": "c27d1bfd-fc78-4394-9ee7-dc2c008b3b4d"
      },
      "source": [
        "# Let's see the contents of the CWD\n",
        "os.listdir()"
      ],
      "execution_count": 77,
      "outputs": [
        {
          "output_type": "execute_result",
          "data": {
            "text/plain": [
              "['03_diagnostic_analytics.ipynb',\n",
              " 'Fraud_sample_data.xlsx',\n",
              " 'questionsAndPoints.gdoc',\n",
              " '.ipynb_checkpoints',\n",
              " '01_intro_to_fraud_analysis.ipynb',\n",
              " '04_predictive_analytics.ipynb',\n",
              " '05_prescriptive_analytics.ipynb',\n",
              " 'fraud_analysis.ipynb',\n",
              " 'july_df.csv',\n",
              " 'june_df.csv',\n",
              " '02_descriptive_analytics.ipynb']"
            ]
          },
          "metadata": {},
          "execution_count": 77
        }
      ]
    },
    {
      "cell_type": "markdown",
      "metadata": {
        "id": "ZPECp1MvYr81"
      },
      "source": [
        "# Diagnostic EDA (DA2):"
      ]
    },
    {
      "cell_type": "markdown",
      "metadata": {
        "id": "zqROM9ZVba6_"
      },
      "source": [
        "**Diagnostic Analytics (DA2):**<br>\n",
        "Diagnostic analytics are a deeper look at data to attempt to understand the causes of events and behaviours. It’s used largely to answer the question **[“Why did it happen?”]**, and to discover intricate patterns in the data. It is characterized by techniques such as : **drill-down** • **data discovery** • **data mining** • **correlations** • **mutual-information**\n",
        "\n",
        "1. On a weekly basis, what weeks have the most Fraud?\n",
        "2. Is there a correlation between weekly transactions count and fraud count?\n",
        "3. Does fraud tend to increase due to social reasons like public holidays?\n",
        "4. What Industries are most prone to Fraud?\n",
        "5. What type of Merchants is most prone?\n",
        "6. What features of the data are strongly related to fraud occurrences? We can try using Mutual-Information and correlation\n",
        "7. What are the common patterns among merchants who record the most fraud? For example... \n",
        "* What's the average transactions volume per week for high-risk merchants and others? \n",
        "* Is there a correlation between fraud-count and transaction-volume-USD when compared to high-risk and other merchants?\n",
        "* Is there a correlation between weekly fraud count and transaction count for high-risk merchants?\n",
        "8. Can we use clustering algorithms to learn any meaningful patterns or groupings that can help us learn more about the recent fraud spikes?\n",
        "\n",
        "Asking and answering these questions give us a deeper understanding of the causes or patterns related to the spike in fraud."
      ]
    },
    {
      "cell_type": "markdown",
      "metadata": {
        "id": "IGCPjHz1Lnxg"
      },
      "source": [
        "### 5. Exploring Mutual-Information (MI) of variables:\n",
        "Mutual information describes relationships in terms of uncertainty. The mutual information (MI) between two quantities is a measure of the extent to which knowledge of one quantity reduces uncertainty about the other. If you knew the value of a feature, how much more confident would you be about the target?\n",
        "\n",
        "Mutual information is how many questions you expect the feature to answer about the target. It can help to understand the relative potential of a feature as a predictor of the target, considered by itself. But Mutual Information can't detect interactions between features, is a Univariate metric.\n",
        "\n",
        "Finally, unlike Correlation that can only detect linear relationships, Mutual Information can detect all kinds and shapes of relations between features and target."
      ]
    },
    {
      "cell_type": "markdown",
      "metadata": {
        "id": "Pea1NGAG9N_s"
      },
      "source": [
        "**First, let's read in our June and July datasets from the descriptive analytics session.**"
      ]
    },
    {
      "cell_type": "code",
      "metadata": {
        "colab": {
          "base_uri": "https://localhost:8080/",
          "height": 292
        },
        "id": "q-aN6AOX9W6B",
        "outputId": "7440e2c5-aeff-4c8c-b157-e00ec350353d"
      },
      "source": [
        "june_df = pd.read_csv('june_df.csv')\n",
        "july_df = pd.read_csv('july_df.csv')\n",
        "\n",
        "print(f'june-df shape is: {june_df.shape}\\njuly-df shape is: {july_df.shape}\\n')\n",
        "june_df.head()"
      ],
      "execution_count": 78,
      "outputs": [
        {
          "output_type": "stream",
          "name": "stdout",
          "text": [
            "june-df shape is: (8609, 13)\n",
            "july-df shape is: (8809, 13)\n",
            "\n"
          ]
        },
        {
          "output_type": "execute_result",
          "data": {
            "text/html": [
              "<div>\n",
              "<style scoped>\n",
              "    .dataframe tbody tr th:only-of-type {\n",
              "        vertical-align: middle;\n",
              "    }\n",
              "\n",
              "    .dataframe tbody tr th {\n",
              "        vertical-align: top;\n",
              "    }\n",
              "\n",
              "    .dataframe thead th {\n",
              "        text-align: right;\n",
              "    }\n",
              "</style>\n",
              "<table border=\"1\" class=\"dataframe\">\n",
              "  <thead>\n",
              "    <tr style=\"text-align: right;\">\n",
              "      <th></th>\n",
              "      <th>merchant_id</th>\n",
              "      <th>merchant_industry</th>\n",
              "      <th>merchant_category</th>\n",
              "      <th>merchant_country</th>\n",
              "      <th>currency</th>\n",
              "      <th>transaction_week_start_date</th>\n",
              "      <th>channel</th>\n",
              "      <th>transaction_count</th>\n",
              "      <th>transaction_volume_usd</th>\n",
              "      <th>fraud_count</th>\n",
              "      <th>fraud_volume_usd</th>\n",
              "      <th>otp_fraud</th>\n",
              "      <th>otp_all_transactions</th>\n",
              "    </tr>\n",
              "  </thead>\n",
              "  <tbody>\n",
              "    <tr>\n",
              "      <th>0</th>\n",
              "      <td>1</td>\n",
              "      <td>GOODS-PHYSICAL</td>\n",
              "      <td>e-Commerce</td>\n",
              "      <td>Nigeria</td>\n",
              "      <td>NGN</td>\n",
              "      <td>2021-06-07</td>\n",
              "      <td>card</td>\n",
              "      <td>5</td>\n",
              "      <td>231.590551</td>\n",
              "      <td>0</td>\n",
              "      <td>0.0</td>\n",
              "      <td>0</td>\n",
              "      <td>5</td>\n",
              "    </tr>\n",
              "    <tr>\n",
              "      <th>1</th>\n",
              "      <td>5</td>\n",
              "      <td>SERVICES-LEGAL</td>\n",
              "      <td>Other</td>\n",
              "      <td>Nigeria</td>\n",
              "      <td>NGN</td>\n",
              "      <td>2021-06-07</td>\n",
              "      <td>card</td>\n",
              "      <td>2</td>\n",
              "      <td>210.203412</td>\n",
              "      <td>0</td>\n",
              "      <td>0.0</td>\n",
              "      <td>0</td>\n",
              "      <td>2</td>\n",
              "    </tr>\n",
              "    <tr>\n",
              "      <th>2</th>\n",
              "      <td>9</td>\n",
              "      <td>TRAVEL</td>\n",
              "      <td>Travel &amp; Hospitality</td>\n",
              "      <td>Nigeria</td>\n",
              "      <td>NGN</td>\n",
              "      <td>2021-06-07</td>\n",
              "      <td>card</td>\n",
              "      <td>4</td>\n",
              "      <td>223.097113</td>\n",
              "      <td>0</td>\n",
              "      <td>0.0</td>\n",
              "      <td>0</td>\n",
              "      <td>1</td>\n",
              "    </tr>\n",
              "    <tr>\n",
              "      <th>3</th>\n",
              "      <td>11</td>\n",
              "      <td>SERVICES-PROFESSIONAL</td>\n",
              "      <td>Other</td>\n",
              "      <td>Nigeria</td>\n",
              "      <td>NGN</td>\n",
              "      <td>2021-06-07</td>\n",
              "      <td>card</td>\n",
              "      <td>5</td>\n",
              "      <td>212.335958</td>\n",
              "      <td>0</td>\n",
              "      <td>0.0</td>\n",
              "      <td>0</td>\n",
              "      <td>5</td>\n",
              "    </tr>\n",
              "    <tr>\n",
              "      <th>4</th>\n",
              "      <td>15</td>\n",
              "      <td>SERVICES-DIGITAL</td>\n",
              "      <td>Digital Services</td>\n",
              "      <td>Nigeria</td>\n",
              "      <td>NGN</td>\n",
              "      <td>2021-06-07</td>\n",
              "      <td>card</td>\n",
              "      <td>8</td>\n",
              "      <td>550.131234</td>\n",
              "      <td>0</td>\n",
              "      <td>0.0</td>\n",
              "      <td>0</td>\n",
              "      <td>8</td>\n",
              "    </tr>\n",
              "  </tbody>\n",
              "</table>\n",
              "</div>"
            ],
            "text/plain": [
              "   merchant_id      merchant_industry  ... otp_fraud otp_all_transactions\n",
              "0            1         GOODS-PHYSICAL  ...         0                    5\n",
              "1            5         SERVICES-LEGAL  ...         0                    2\n",
              "2            9                 TRAVEL  ...         0                    1\n",
              "3           11  SERVICES-PROFESSIONAL  ...         0                    5\n",
              "4           15       SERVICES-DIGITAL  ...         0                    8\n",
              "\n",
              "[5 rows x 13 columns]"
            ]
          },
          "metadata": {},
          "execution_count": 78
        }
      ]
    },
    {
      "cell_type": "markdown",
      "metadata": {
        "id": "4dDR4Ky74jZ8"
      },
      "source": [
        "**Next, let's combine both datasets...**\n"
      ]
    },
    {
      "cell_type": "code",
      "metadata": {
        "colab": {
          "base_uri": "https://localhost:8080/"
        },
        "id": "JheOiSkI4i02",
        "outputId": "339fbeca-5350-4884-bde2-58ad90e52d83"
      },
      "source": [
        "combined_df = pd.concat([june_df, july_df])\n",
        "combined_df.shape"
      ],
      "execution_count": 79,
      "outputs": [
        {
          "output_type": "execute_result",
          "data": {
            "text/plain": [
              "(17418, 13)"
            ]
          },
          "metadata": {},
          "execution_count": 79
        }
      ]
    },
    {
      "cell_type": "markdown",
      "metadata": {
        "id": "3gJQqDu_4xYC"
      },
      "source": [
        "**Since we joined two Dataframes with each having index from 0 to `len(df)-1`, let's fix the index of the combined-df**"
      ]
    },
    {
      "cell_type": "code",
      "metadata": {
        "colab": {
          "base_uri": "https://localhost:8080/"
        },
        "id": "_-Z4eHRT4BWO",
        "outputId": "5c8f8e9a-b597-4824-eddb-a966cab63096"
      },
      "source": [
        "new_index = list(range(len(combined_df)))\n",
        "combined_df.index = new_index\n",
        "print('done!')"
      ],
      "execution_count": 80,
      "outputs": [
        {
          "output_type": "stream",
          "name": "stdout",
          "text": [
            "done!\n"
          ]
        }
      ]
    },
    {
      "cell_type": "markdown",
      "metadata": {
        "id": "Bzi6TjJ_5Dh2"
      },
      "source": [
        "**Check for possible NaN values after combination**"
      ]
    },
    {
      "cell_type": "code",
      "metadata": {
        "colab": {
          "base_uri": "https://localhost:8080/"
        },
        "id": "vkUZHyQ36Qg9",
        "outputId": "3df22e9c-ece7-4cc4-c740-b91b378ab5e8"
      },
      "source": [
        "combined_df.isna().any().sum()"
      ],
      "execution_count": 81,
      "outputs": [
        {
          "output_type": "execute_result",
          "data": {
            "text/plain": [
              "0"
            ]
          },
          "metadata": {},
          "execution_count": 81
        }
      ]
    },
    {
      "cell_type": "code",
      "metadata": {
        "colab": {
          "base_uri": "https://localhost:8080/",
          "height": 241
        },
        "id": "DsewZvAM6t0V",
        "outputId": "f9916d70-6cb5-46c7-8636-8567c7d60a2c"
      },
      "source": [
        "combined_df.head()"
      ],
      "execution_count": 82,
      "outputs": [
        {
          "output_type": "execute_result",
          "data": {
            "text/html": [
              "<div>\n",
              "<style scoped>\n",
              "    .dataframe tbody tr th:only-of-type {\n",
              "        vertical-align: middle;\n",
              "    }\n",
              "\n",
              "    .dataframe tbody tr th {\n",
              "        vertical-align: top;\n",
              "    }\n",
              "\n",
              "    .dataframe thead th {\n",
              "        text-align: right;\n",
              "    }\n",
              "</style>\n",
              "<table border=\"1\" class=\"dataframe\">\n",
              "  <thead>\n",
              "    <tr style=\"text-align: right;\">\n",
              "      <th></th>\n",
              "      <th>merchant_id</th>\n",
              "      <th>merchant_industry</th>\n",
              "      <th>merchant_category</th>\n",
              "      <th>merchant_country</th>\n",
              "      <th>currency</th>\n",
              "      <th>transaction_week_start_date</th>\n",
              "      <th>channel</th>\n",
              "      <th>transaction_count</th>\n",
              "      <th>transaction_volume_usd</th>\n",
              "      <th>fraud_count</th>\n",
              "      <th>fraud_volume_usd</th>\n",
              "      <th>otp_fraud</th>\n",
              "      <th>otp_all_transactions</th>\n",
              "    </tr>\n",
              "  </thead>\n",
              "  <tbody>\n",
              "    <tr>\n",
              "      <th>0</th>\n",
              "      <td>1</td>\n",
              "      <td>GOODS-PHYSICAL</td>\n",
              "      <td>e-Commerce</td>\n",
              "      <td>Nigeria</td>\n",
              "      <td>NGN</td>\n",
              "      <td>2021-06-07</td>\n",
              "      <td>card</td>\n",
              "      <td>5</td>\n",
              "      <td>231.590551</td>\n",
              "      <td>0</td>\n",
              "      <td>0.0</td>\n",
              "      <td>0</td>\n",
              "      <td>5</td>\n",
              "    </tr>\n",
              "    <tr>\n",
              "      <th>1</th>\n",
              "      <td>5</td>\n",
              "      <td>SERVICES-LEGAL</td>\n",
              "      <td>Other</td>\n",
              "      <td>Nigeria</td>\n",
              "      <td>NGN</td>\n",
              "      <td>2021-06-07</td>\n",
              "      <td>card</td>\n",
              "      <td>2</td>\n",
              "      <td>210.203412</td>\n",
              "      <td>0</td>\n",
              "      <td>0.0</td>\n",
              "      <td>0</td>\n",
              "      <td>2</td>\n",
              "    </tr>\n",
              "    <tr>\n",
              "      <th>2</th>\n",
              "      <td>9</td>\n",
              "      <td>TRAVEL</td>\n",
              "      <td>Travel &amp; Hospitality</td>\n",
              "      <td>Nigeria</td>\n",
              "      <td>NGN</td>\n",
              "      <td>2021-06-07</td>\n",
              "      <td>card</td>\n",
              "      <td>4</td>\n",
              "      <td>223.097113</td>\n",
              "      <td>0</td>\n",
              "      <td>0.0</td>\n",
              "      <td>0</td>\n",
              "      <td>1</td>\n",
              "    </tr>\n",
              "    <tr>\n",
              "      <th>3</th>\n",
              "      <td>11</td>\n",
              "      <td>SERVICES-PROFESSIONAL</td>\n",
              "      <td>Other</td>\n",
              "      <td>Nigeria</td>\n",
              "      <td>NGN</td>\n",
              "      <td>2021-06-07</td>\n",
              "      <td>card</td>\n",
              "      <td>5</td>\n",
              "      <td>212.335958</td>\n",
              "      <td>0</td>\n",
              "      <td>0.0</td>\n",
              "      <td>0</td>\n",
              "      <td>5</td>\n",
              "    </tr>\n",
              "    <tr>\n",
              "      <th>4</th>\n",
              "      <td>15</td>\n",
              "      <td>SERVICES-DIGITAL</td>\n",
              "      <td>Digital Services</td>\n",
              "      <td>Nigeria</td>\n",
              "      <td>NGN</td>\n",
              "      <td>2021-06-07</td>\n",
              "      <td>card</td>\n",
              "      <td>8</td>\n",
              "      <td>550.131234</td>\n",
              "      <td>0</td>\n",
              "      <td>0.0</td>\n",
              "      <td>0</td>\n",
              "      <td>8</td>\n",
              "    </tr>\n",
              "  </tbody>\n",
              "</table>\n",
              "</div>"
            ],
            "text/plain": [
              "   merchant_id      merchant_industry  ... otp_fraud otp_all_transactions\n",
              "0            1         GOODS-PHYSICAL  ...         0                    5\n",
              "1            5         SERVICES-LEGAL  ...         0                    2\n",
              "2            9                 TRAVEL  ...         0                    1\n",
              "3           11  SERVICES-PROFESSIONAL  ...         0                    5\n",
              "4           15       SERVICES-DIGITAL  ...         0                    8\n",
              "\n",
              "[5 rows x 13 columns]"
            ]
          },
          "metadata": {},
          "execution_count": 82
        }
      ]
    },
    {
      "cell_type": "markdown",
      "metadata": {
        "id": "rWlcPcOD5QsM"
      },
      "source": [
        "**Next, we make a copy of `combined_df` for mutual-information analysis.**"
      ]
    },
    {
      "cell_type": "code",
      "metadata": {
        "colab": {
          "base_uri": "https://localhost:8080/"
        },
        "id": "dlCHI4fO5ZtZ",
        "outputId": "be8c7a23-d6b0-42ff-ee65-10b6820d9dee"
      },
      "source": [
        "mi_combined = combined_df.copy(deep=True)\n",
        "print('done!')"
      ],
      "execution_count": 83,
      "outputs": [
        {
          "output_type": "stream",
          "name": "stdout",
          "text": [
            "done!\n"
          ]
        }
      ]
    },
    {
      "cell_type": "code",
      "metadata": {
        "id": "nowiSL3oCl9p"
      },
      "source": [
        "# Next, pop the targets\n",
        "\n",
        "target = mi_combined.pop('fraud_count')"
      ],
      "execution_count": 84,
      "outputs": []
    },
    {
      "cell_type": "code",
      "metadata": {
        "colab": {
          "base_uri": "https://localhost:8080/"
        },
        "id": "EHN0JqbSAqUE",
        "outputId": "50152775-ef84-4dcf-d731-74d7d226c71d"
      },
      "source": [
        "# Next, get separate list for numeric and categoric columns\n",
        "\n",
        "num_cols = list(mi_combined._get_numeric_data().columns)\n",
        "cat_cols = list(set(mi_combined.columns) - set(num_cols))\n",
        "print('done!')"
      ],
      "execution_count": 85,
      "outputs": [
        {
          "output_type": "stream",
          "name": "stdout",
          "text": [
            "done!\n"
          ]
        }
      ]
    },
    {
      "cell_type": "code",
      "metadata": {
        "colab": {
          "base_uri": "https://localhost:8080/"
        },
        "id": "1yaUxtkzEYaZ",
        "outputId": "818c0480-fefc-4412-c7ff-4a28b901af77"
      },
      "source": [
        "# Next, let's label-encode categorical variables\n",
        "\n",
        "for colname in cat_cols:\n",
        "    mi_combined[colname], _ = mi_combined[colname].factorize()\n",
        "print('done!')"
      ],
      "execution_count": 86,
      "outputs": [
        {
          "output_type": "stream",
          "name": "stdout",
          "text": [
            "done!\n"
          ]
        }
      ]
    },
    {
      "cell_type": "markdown",
      "metadata": {
        "id": "RlcrHAgoF3ax"
      },
      "source": [
        "**All categorical features should now have numerical datatypes**"
      ]
    },
    {
      "cell_type": "code",
      "metadata": {
        "colab": {
          "base_uri": "https://localhost:8080/"
        },
        "id": "zzyowhJMFgtM",
        "outputId": "e68c43b8-9e93-4366-e6fa-98472abc54e8"
      },
      "source": [
        "mi_combined.info()"
      ],
      "execution_count": 87,
      "outputs": [
        {
          "output_type": "stream",
          "name": "stdout",
          "text": [
            "<class 'pandas.core.frame.DataFrame'>\n",
            "Int64Index: 17418 entries, 0 to 17417\n",
            "Data columns (total 12 columns):\n",
            " #   Column                       Non-Null Count  Dtype  \n",
            "---  ------                       --------------  -----  \n",
            " 0   merchant_id                  17418 non-null  int64  \n",
            " 1   merchant_industry            17418 non-null  int64  \n",
            " 2   merchant_category            17418 non-null  int64  \n",
            " 3   merchant_country             17418 non-null  int64  \n",
            " 4   currency                     17418 non-null  int64  \n",
            " 5   transaction_week_start_date  17418 non-null  int64  \n",
            " 6   channel                      17418 non-null  int64  \n",
            " 7   transaction_count            17418 non-null  int64  \n",
            " 8   transaction_volume_usd       17418 non-null  float64\n",
            " 9   fraud_volume_usd             17418 non-null  float64\n",
            " 10  otp_fraud                    17418 non-null  int64  \n",
            " 11  otp_all_transactions         17418 non-null  int64  \n",
            "dtypes: float64(2), int64(10)\n",
            "memory usage: 1.7 MB\n"
          ]
        }
      ]
    },
    {
      "cell_type": "markdown",
      "metadata": {
        "id": "c381LCCLGogE"
      },
      "source": [
        "**Since our target `fraud_count` is a numerical feature, we shall use the mutual_info_regression method...**"
      ]
    },
    {
      "cell_type": "code",
      "metadata": {
        "colab": {
          "base_uri": "https://localhost:8080/"
        },
        "id": "B_Y4MGN1NuHj",
        "outputId": "f183a65c-7ef1-4cb6-cdc7-4a8de47da81b"
      },
      "source": [
        "# Next, identify discrete features\n",
        "\n",
        "discrete_features = mi_combined.dtypes == int\n",
        "print('done')"
      ],
      "execution_count": 88,
      "outputs": [
        {
          "output_type": "stream",
          "name": "stdout",
          "text": [
            "done\n"
          ]
        }
      ]
    },
    {
      "cell_type": "code",
      "metadata": {
        "id": "Ykkc7kjwGxwZ"
      },
      "source": [
        "from sklearn.feature_selection import mutual_info_regression as mi\n",
        "\n",
        "def make_mi_scores(X, y, discreteFeatures):\n",
        "    mi_scores = mi(X, y, discrete_features=discreteFeatures)\n",
        "    mi_scores = pd.Series(mi_scores, name='MI_scores', index=X.columns)\n",
        "    mi_scores = mi_scores.sort_values(ascending=False)\n",
        "\n",
        "    return mi_scores"
      ],
      "execution_count": 89,
      "outputs": []
    },
    {
      "cell_type": "markdown",
      "metadata": {
        "id": "B5JAgH_SRBJW"
      },
      "source": [
        "**Now, let's get the Mutual Info scores for the combined data**"
      ]
    },
    {
      "cell_type": "code",
      "metadata": {
        "colab": {
          "base_uri": "https://localhost:8080/"
        },
        "id": "y3KP3r3LRHBH",
        "outputId": "90526158-d4ec-421a-aaa7-a5c2926d1f15"
      },
      "source": [
        "mi_scores = make_mi_scores(mi_combined, target, discrete_features)\n",
        "print('done!')"
      ],
      "execution_count": 90,
      "outputs": [
        {
          "output_type": "stream",
          "name": "stdout",
          "text": [
            "done!\n"
          ]
        }
      ]
    },
    {
      "cell_type": "markdown",
      "metadata": {
        "id": "BrdAN9-ARmib"
      },
      "source": [
        "**Let's see a sample of the top scores**"
      ]
    },
    {
      "cell_type": "code",
      "metadata": {
        "colab": {
          "base_uri": "https://localhost:8080/"
        },
        "id": "bVOyTUDSRqj5",
        "outputId": "c54cd67f-b85a-4aff-e1fc-9d3af068680e"
      },
      "source": [
        "mi_scores.head()"
      ],
      "execution_count": 91,
      "outputs": [
        {
          "output_type": "execute_result",
          "data": {
            "text/plain": [
              "fraud_volume_usd          0.034052\n",
              "transaction_volume_usd    0.015094\n",
              "merchant_industry         0.012122\n",
              "otp_fraud                 0.012080\n",
              "merchant_category         0.011607\n",
              "Name: MI_scores, dtype: float64"
            ]
          },
          "metadata": {},
          "execution_count": 91
        }
      ]
    },
    {
      "cell_type": "code",
      "metadata": {
        "id": "f424cVVCSSrB"
      },
      "source": [
        "def plot_mi_scores(mi_scores):\n",
        "    scores = mi_scores.sort_values(ascending=True)\n",
        "    plt.figure(dpi=100, figsize=(8, 5))\n",
        "\n",
        "    width = np.arange(len(scores))\n",
        "    ticks = list(scores.index)\n",
        "    plt.barh(width, scores)\n",
        "    plt.yticks(width, ticks)\n",
        "    plt.title(\"Mutual Information Scores\", fontdict=fontDict1)\n",
        "\n",
        "    plt.show()"
      ],
      "execution_count": 92,
      "outputs": []
    },
    {
      "cell_type": "code",
      "metadata": {
        "colab": {
          "base_uri": "https://localhost:8080/",
          "height": 458
        },
        "id": "rncUa_snVSyc",
        "outputId": "cc00989d-e883-45e6-e5cb-75fcab6fd780"
      },
      "source": [
        "plot_mi_scores(mi_scores)"
      ],
      "execution_count": 93,
      "outputs": [
        {
          "output_type": "display_data",
          "data": {
            "image/png": "[encoded data removed]",
            "text/plain": [
              "<Figure size 800x500 with 1 Axes>"
            ]
          },
          "metadata": {
            "needs_background": "light"
          }
        }
      ]
    },
    {
      "cell_type": "markdown",
      "metadata": {
        "id": "pKcWU3WIZNEX"
      },
      "source": [
        "From the Mutual-Information analysis, we can see the features that are most discriminative to `fraud_count` . Therefore, we can proceed with our analysis focusing on these top features. Let's update the `mi_combined` dataframe to have only these features that tell us something about `fraud-count`.\n",
        " "
      ]
    },
    {
      "cell_type": "markdown",
      "metadata": {
        "id": "sF6jBJXLY3sR"
      },
      "source": [
        "### 6. Selecting Top MI-Scores features:"
      ]
    },
    {
      "cell_type": "markdown",
      "metadata": {
        "id": "CY7qgOYuFqZU"
      },
      "source": [
        "**Let's select the top features from MI analysis and ofcourse add the `fraud_count` column as our target. This can be used for any machine-learning task.**"
      ]
    },
    {
      "cell_type": "code",
      "metadata": {
        "id": "wdGAbiQKZFbP"
      },
      "source": [
        "# We'd use a threshold of 0.002 based on the MI chart above.\n",
        "t = 0.002\n",
        "top_mi = [ind for ind in list(mi_scores.index) if mi_scores[ind] >= t]"
      ],
      "execution_count": 94,
      "outputs": []
    },
    {
      "cell_type": "code",
      "metadata": {
        "id": "DW-oO958RK8M"
      },
      "source": [
        "# Finally, append target column\n",
        "top_mi.append('fraud_count')  "
      ],
      "execution_count": 95,
      "outputs": []
    },
    {
      "cell_type": "code",
      "metadata": {
        "colab": {
          "base_uri": "https://localhost:8080/"
        },
        "id": "Db8zjvt9-x3n",
        "outputId": "12335cf6-f2c0-4dbb-f807-af277d837586"
      },
      "source": [
        "top_mi"
      ],
      "execution_count": 96,
      "outputs": [
        {
          "output_type": "execute_result",
          "data": {
            "text/plain": [
              "['fraud_volume_usd',\n",
              " 'transaction_volume_usd',\n",
              " 'merchant_industry',\n",
              " 'otp_fraud',\n",
              " 'merchant_category',\n",
              " 'transaction_week_start_date',\n",
              " 'merchant_id',\n",
              " 'fraud_count']"
            ]
          },
          "metadata": {},
          "execution_count": 96
        }
      ]
    },
    {
      "cell_type": "markdown",
      "metadata": {
        "id": "_wmqyxFx-n9k"
      },
      "source": [
        "**Now, we re-create the `mi_combined` df but with only the features from MI-analysis**"
      ]
    },
    {
      "cell_type": "code",
      "metadata": {
        "colab": {
          "base_uri": "https://localhost:8080/",
          "height": 176
        },
        "id": "qiVQIind_AQ1",
        "outputId": "7d7a187a-ead9-4b9b-b2dd-052570752e34"
      },
      "source": [
        "# Now select only MI-features\n",
        "mi_combined = combined_df[top_mi]\n",
        "\n",
        "print(f'MI-combined shape is: {mi_combined.shape}\\n')\n",
        "mi_combined.head(3)"
      ],
      "execution_count": 97,
      "outputs": [
        {
          "output_type": "stream",
          "name": "stdout",
          "text": [
            "MI-combined shape is: (17418, 8)\n",
            "\n"
          ]
        },
        {
          "output_type": "execute_result",
          "data": {
            "text/html": [
              "<div>\n",
              "<style scoped>\n",
              "    .dataframe tbody tr th:only-of-type {\n",
              "        vertical-align: middle;\n",
              "    }\n",
              "\n",
              "    .dataframe tbody tr th {\n",
              "        vertical-align: top;\n",
              "    }\n",
              "\n",
              "    .dataframe thead th {\n",
              "        text-align: right;\n",
              "    }\n",
              "</style>\n",
              "<table border=\"1\" class=\"dataframe\">\n",
              "  <thead>\n",
              "    <tr style=\"text-align: right;\">\n",
              "      <th></th>\n",
              "      <th>fraud_volume_usd</th>\n",
              "      <th>transaction_volume_usd</th>\n",
              "      <th>merchant_industry</th>\n",
              "      <th>otp_fraud</th>\n",
              "      <th>merchant_category</th>\n",
              "      <th>transaction_week_start_date</th>\n",
              "      <th>merchant_id</th>\n",
              "      <th>fraud_count</th>\n",
              "    </tr>\n",
              "  </thead>\n",
              "  <tbody>\n",
              "    <tr>\n",
              "      <th>0</th>\n",
              "      <td>0.0</td>\n",
              "      <td>231.590551</td>\n",
              "      <td>GOODS-PHYSICAL</td>\n",
              "      <td>0</td>\n",
              "      <td>e-Commerce</td>\n",
              "      <td>2021-06-07</td>\n",
              "      <td>1</td>\n",
              "      <td>0</td>\n",
              "    </tr>\n",
              "    <tr>\n",
              "      <th>1</th>\n",
              "      <td>0.0</td>\n",
              "      <td>210.203412</td>\n",
              "      <td>SERVICES-LEGAL</td>\n",
              "      <td>0</td>\n",
              "      <td>Other</td>\n",
              "      <td>2021-06-07</td>\n",
              "      <td>5</td>\n",
              "      <td>0</td>\n",
              "    </tr>\n",
              "    <tr>\n",
              "      <th>2</th>\n",
              "      <td>0.0</td>\n",
              "      <td>223.097113</td>\n",
              "      <td>TRAVEL</td>\n",
              "      <td>0</td>\n",
              "      <td>Travel &amp; Hospitality</td>\n",
              "      <td>2021-06-07</td>\n",
              "      <td>9</td>\n",
              "      <td>0</td>\n",
              "    </tr>\n",
              "  </tbody>\n",
              "</table>\n",
              "</div>"
            ],
            "text/plain": [
              "   fraud_volume_usd  transaction_volume_usd  ... merchant_id  fraud_count\n",
              "0               0.0              231.590551  ...           1            0\n",
              "1               0.0              210.203412  ...           5            0\n",
              "2               0.0              223.097113  ...           9            0\n",
              "\n",
              "[3 rows x 8 columns]"
            ]
          },
          "metadata": {},
          "execution_count": 97
        }
      ]
    },
    {
      "cell_type": "markdown",
      "metadata": {
        "id": "VA2ATEcBXJJh"
      },
      "source": [
        "### 7. Analyzing Weekly Fraud Trends:\n",
        "#### Trying to identify weeks where Fraud is high to check if there are possible social reasons for that."
      ]
    },
    {
      "cell_type": "code",
      "metadata": {
        "id": "1RPUu1B3YmmO"
      },
      "source": [
        "june_weeks = list(june_df.transaction_week_start_date.unique())\n",
        "july_weeks = list(july_df.transaction_week_start_date.unique())\n",
        "\n",
        "# Let's add these together\n",
        "june_weeks.extend(july_weeks)\n",
        "\n",
        "# Let's rename the extension\n",
        "weekly_dates = june_weeks"
      ],
      "execution_count": 98,
      "outputs": []
    },
    {
      "cell_type": "markdown",
      "metadata": {
        "id": "zfXRMc_THKDZ"
      },
      "source": [
        "**Get the weekly fraud-count and transactions-count...**"
      ]
    },
    {
      "cell_type": "code",
      "metadata": {
        "id": "Fcp374IfE6ox"
      },
      "source": [
        "# save the weekly dates intuitively for plotting sakes\n",
        "\n",
        "length = len(weekly_dates)\n",
        "weekly_index = ['June_W'+str(i) if i <=  length//2 else 'July_W'+str(i-4) for i in range(1, length+1) ]"
      ],
      "execution_count": 99,
      "outputs": []
    },
    {
      "cell_type": "code",
      "metadata": {
        "id": "vPs_Gj9xIIlM"
      },
      "source": [
        "def get_weekly_data(col1, col2, kind='sum', name=None, df=combined_df):\n",
        "    \"\"\" Function to get weekly aggregate data\n",
        "\n",
        "    @param df: dataframe to groupby on\n",
        "    @param col1 and col2: str cols to groupby and index on\n",
        "    @param kind: str, kind of operation e.g mean, sum, count\n",
        "                default=sum\n",
        "    @param name: str, name of resulting series obj, default=None\n",
        "    @return: A pandas series object\n",
        "    \"\"\"\n",
        "    kind = kind.lower()\n",
        "    assert kind in ['sum', 'mean', 'count'],'ERROR:Must be sum, mean or count'\n",
        "\n",
        "    if kind == 'sum':\n",
        "        serie = df.groupby([col1])[col2].sum()\n",
        "        serie.index = weekly_index\n",
        "        serie.name = name\n",
        "\n",
        "    elif kind == 'mean':\n",
        "        serie = df.groupby([col1])[col2].mean()\n",
        "        serie.index = weekly_index\n",
        "        serie.name = name\n",
        "\n",
        "    else:\n",
        "        serie = df.groupby([col1])[col2].count()\n",
        "        serie.index = weekly_index\n",
        "        serie.name = name\n",
        "\n",
        "    return serie"
      ],
      "execution_count": 100,
      "outputs": []
    },
    {
      "cell_type": "code",
      "metadata": {
        "colab": {
          "base_uri": "https://localhost:8080/"
        },
        "id": "WyopTVCbLEmv",
        "outputId": "861f4cfa-2483-4590-b90c-124ce6dc44c5"
      },
      "source": [
        "col1 = 'transaction_week_start_date'\n",
        "col2 = 'fraud_count'\n",
        "name = 'Weekly Fraud-Count'\n",
        "\n",
        "weekly_fraud_count = get_weekly_data(col1, col2, name=name)\n",
        "weekly_fraud_count"
      ],
      "execution_count": 101,
      "outputs": [
        {
          "output_type": "execute_result",
          "data": {
            "text/plain": [
              "June_W1    256\n",
              "June_W2    284\n",
              "June_W3    182\n",
              "June_W4    211\n",
              "July_W1    112\n",
              "July_W2    109\n",
              "July_W3     70\n",
              "July_W4    100\n",
              "Name: Weekly Fraud-Count, dtype: int64"
            ]
          },
          "metadata": {},
          "execution_count": 101
        }
      ]
    },
    {
      "cell_type": "code",
      "metadata": {
        "colab": {
          "base_uri": "https://localhost:8080/"
        },
        "id": "WBN-WjQ5BVVV",
        "outputId": "11143779-986e-4a8e-d167-693d1ba69ee0"
      },
      "source": [
        "col1 = 'transaction_week_start_date'\n",
        "col2 = 'transaction_count'\n",
        "name = 'Weekly Transaction-Count'\n",
        "\n",
        "weekly_transact_count = get_weekly_data(col1, col2, name=name)\n",
        "weekly_transact_count"
      ],
      "execution_count": 103,
      "outputs": [
        {
          "output_type": "execute_result",
          "data": {
            "text/plain": [
              "June_W1     997735\n",
              "June_W2    1064033\n",
              "June_W3    1073565\n",
              "June_W4    1042017\n",
              "July_W1    1030233\n",
              "July_W2     965332\n",
              "July_W3     978273\n",
              "July_W4    1015426\n",
              "Name: Weekly Transaction-Count, dtype: int64"
            ]
          },
          "metadata": {},
          "execution_count": 103
        }
      ]
    },
    {
      "cell_type": "markdown",
      "metadata": {
        "id": "_ck2gIlhnNWB"
      },
      "source": [
        "Let's plot the weekly fraud trends..."
      ]
    },
    {
      "cell_type": "code",
      "metadata": {
        "id": "FyUFl-wtqPUt"
      },
      "source": [
        "def plot_weekly_trends(s1, s2, plot='bar'):\n",
        "    \"\"\"Method for plotting weekly fraud data\n",
        "    \"\"\"\n",
        "    plt.figure(figsize=(24,6))\n",
        "    styl = random.sample(styles, 1)\n",
        "    plt.style.use(styl)\n",
        "    print(f'style: {styl}')\n",
        "\n",
        "    plt.subplot(1,2,1)\n",
        "    plt.plot(s1, color='red')\n",
        "    plt.xlabel('Week', fontdict=fontDict2)\n",
        "    plt.ylabel('Count', fontdict=fontDict2)\n",
        "    plt.title(s1.name, fontdict=fontDict1)\n",
        "\n",
        "    if plot == 'bar':\n",
        "        plt.subplot(1,2,2)\n",
        "        plt.bar(x=s2.index, height=list(s2), color=random.sample(darker_colors, 8))\n",
        "        plt.title(s2.name, fontdict=fontDict1)\n",
        "        plt.xlabel('Week', fontdict=fontDict2)\n",
        "        plt.ylabel('Count', fontdict=fontDict2)\n",
        "    else:\n",
        "        plt.subplot(1,2,2)\n",
        "        plt.plot(s2, color='Red')\n",
        "        plt.title(s2.name, fontdict=fontDict1)\n",
        "        plt.xlabel('Week', fontdict=fontDict2)\n",
        "        plt.ylabel('Count', fontdict=fontDict2)\n",
        "\n",
        "    plt.show()"
      ],
      "execution_count": 143,
      "outputs": []
    },
    {
      "cell_type": "code",
      "metadata": {
        "id": "GzXamuTkwTAM",
        "colab": {
          "base_uri": "https://localhost:8080/",
          "height": 358
        },
        "outputId": "7247dcae-5c8c-423f-d5c0-40a14bd50506"
      },
      "source": [
        "s1 = weekly_fraud_count\n",
        "s2 = weekly_transact_count\n",
        "\n",
        "plot_weekly_trends(s1, s2)"
      ],
      "execution_count": 144,
      "outputs": [
        {
          "output_type": "stream",
          "name": "stdout",
          "text": [
            "style: ['seaborn-whitegrid']\n"
          ]
        },
        {
          "output_type": "display_data",
          "data": {
            "image/png": "[encoded data removed]",
            "text/plain": [
              "<Figure size 1728x432 with 2 Axes>"
            ]
          },
          "metadata": {}
        }
      ]
    },
    {
      "cell_type": "markdown",
      "metadata": {
        "id": "bniwB7W1oIIJ"
      },
      "source": [
        "From the weekly fraud trend data, we can see that generally, fraud is trending downward. This does not mean it may not trend upward in the future, though, as can be seen in the rise in last week of July.\n",
        "\n",
        "* Fraud starts high at about 250 for June-Wk-1\n",
        "* It increases to about 280 for June-Wk-2\n",
        "* Then it drops to about 180 in June-Wk-3\n",
        "* Then it rises to about 210 in June-Wk-4\n",
        "* And just keeps dropping weekly in July, lowest in July-Wk-3\n",
        "* Starts rising again in July-Wk-4\n",
        "\n",
        "While the weekly transactions count remain fairly constant between 970k and 1.07 million. Therefore, the data does not support the hypothesis that as fewer transactions are done, fewer fraud tends to be done. This is because the rate of fraud tends to decrease week by week, even though fairly same transactions are done. In otherwords, there's a weak correlation if any between weekly fraud count and weekly transactions count."
      ]
    },
    {
      "cell_type": "markdown",
      "metadata": {
        "id": "fwlBXMX_vICM"
      },
      "source": [
        "Although correlation does not imply cauation, we can see that:-   \n",
        "* June 14th which marks the start of June-Wk-2 is a national holiday called **democracy-day** in Nigeria\n",
        "* June 20th is Father's day\n",
        "* June 23rd is also a regional holiday in Ebonyi State\n",
        "* Tuesday July 20th and Wednesday July 21st are also public holidays called **id-el-kabir**\n",
        "\n",
        "[source1](https://www.timeanddate.com/holidays/nigeria/), [source2](https://www.officeholidays.com/countries/nigeria/2021)"
      ]
    },
    {
      "cell_type": "markdown",
      "metadata": {
        "id": "_tAOCoEXxy7a"
      },
      "source": [
        "### 8. Drilling down on Fraudulent transactions data:"
      ]
    },
    {
      "cell_type": "code",
      "metadata": {
        "id": "YjNfKh12tQhY"
      },
      "source": [
        "june_fraud_specific = june_df[june_df.fraud_count > 0]\n",
        "print(f'June Fraud-Specific data shape is: {june_fraud_specific.shape}\\n')\n",
        "\n",
        "june_fraud_specific.head(3)"
      ],
      "execution_count": null,
      "outputs": []
    },
    {
      "cell_type": "code",
      "metadata": {
        "id": "SHIPPDoqGWqo"
      },
      "source": [
        "july_fraud_specific = july_df[july_df.fraud_count > 0]\n",
        "print(f'July Fraud-Specific data shape is: {july_fraud_specific.shape}\\n')\n",
        "\n",
        "july_fraud_specific.head(3)"
      ],
      "execution_count": null,
      "outputs": []
    },
    {
      "cell_type": "markdown",
      "metadata": {
        "id": "YiSiqXY8OOhB"
      },
      "source": [
        "**Let's see the distribution of fraud across `merchant_category` for June and July**"
      ]
    },
    {
      "cell_type": "code",
      "metadata": {
        "id": "YZ2c4t-TMdN6"
      },
      "source": [
        "def selection(df, arr, empty_arr):\n",
        "    \"\"\"helper method for function below\n",
        "    \"\"\"\n",
        "    for item in arr:\n",
        "        temp = df[df[var] == item]\n",
        "        empty_arr.append(sum(temp['fraud_count']))\n",
        "\n",
        "\n",
        "def get_fraud_distribution_per_var(df1, df2, var, names, s=selection):\n",
        "    \"\"\"Function to derive fraud distribution per variable\n",
        "        for both June and July datasets.\n",
        "\n",
        "    @param df1 and df2; June and July Dataframes\n",
        "    @param var: The specific categorical variable to split over\n",
        "    @param names: A list of string titles for each Series\n",
        "    @return: Two Series sorted descending\n",
        "    \"\"\"\n",
        "    unique1 = list(df1[var].unique())\n",
        "    unique2 = list(df2[var].unique())\n",
        "    s1_list = []\n",
        "    s2_list = []\n",
        "\n",
        "    s(df1, unique1, s1_list)\n",
        "    s(df2, unique2, s2_list)\n",
        "\n",
        "    s1 = pd.Series(s1_list, index=unique1, name=names[0])\n",
        "    s2 = pd.Series(s2_list, index=unique2, name=names[1])\n",
        "    s1.sort_values(ascending=False, inplace=True)\n",
        "    s2.sort_values(ascending=False, inplace=True)\n",
        "\n",
        "    # compute percentages\n",
        "    s1 = (s1 / sum(s1)) * 100\n",
        "    s2 = (s2 / sum(s2)) * 100\n",
        "\n",
        "    return s1, s2"
      ],
      "execution_count": null,
      "outputs": []
    },
    {
      "cell_type": "code",
      "metadata": {
        "id": "m0TaxexVWm29"
      },
      "source": [
        "df1 = june_fraud_specific\n",
        "df2 = july_fraud_specific\n",
        "var = 'merchant_category'\n",
        "names = ['Merchant-Category Fraud: June', 'Merchant-Category Fraud: July']\n",
        "\n",
        "june_merchant_cat_fraud, july_merchant_cat_fraud = get_fraud_distribution_per_var(df1, df2, var, names)\n",
        "print('done!')"
      ],
      "execution_count": null,
      "outputs": []
    },
    {
      "cell_type": "code",
      "metadata": {
        "id": "t-oVkWXCaIca"
      },
      "source": [
        "june_merchant_cat_fraud"
      ],
      "execution_count": null,
      "outputs": []
    },
    {
      "cell_type": "code",
      "metadata": {
        "id": "LYNKXJlIa5qx"
      },
      "source": [
        "july_merchant_cat_fraud"
      ],
      "execution_count": null,
      "outputs": []
    },
    {
      "cell_type": "markdown",
      "metadata": {
        "id": "J01F4Ol9LkI5"
      },
      "source": [
        "**Let's visualize the top 5 merchant categories for fraudulent transactions**"
      ]
    },
    {
      "cell_type": "code",
      "metadata": {
        "id": "OGoJ2kLsL522"
      },
      "source": [
        "sup_title = 'Top 5 Merchant-Categories for Fraud: June Vs July'\n",
        "titles = ['June Merchant-Category', 'July Merchant-Category']\n",
        "s1 = june_merchant_cat_fraud[:5]\n",
        "s2 = july_merchant_cat_fraud[:5]\n",
        "colours = ['red', 'blue', 'yellow', 'magenta', 'green']\n",
        "size = (24, 6)\n",
        "\n",
        "compare_pie_chart(sup_title, titles, s1, s2, size, colours)"
      ],
      "execution_count": null,
      "outputs": []
    },
    {
      "cell_type": "markdown",
      "metadata": {
        "id": "Fux7yX3AXf1q"
      },
      "source": [
        "We can see that two merchant-categories make up more than 98% of total fraud. These are\n",
        "1. Betting\n",
        "2. Financial services"
      ]
    },
    {
      "cell_type": "markdown",
      "metadata": {
        "id": "_f9dHg0tZP2s"
      },
      "source": [
        "**Let's see the distribution of fraud across `merchant_industry` for June and July**"
      ]
    },
    {
      "cell_type": "code",
      "metadata": {
        "id": "PRlHqZ5PYI9X"
      },
      "source": [
        "df1 = june_fraud_specific\n",
        "df2 = july_fraud_specific\n",
        "var = 'merchant_industry'\n",
        "names = ['Merchant-Industry Fraud: June', 'Merchant-Industry Fraud: July']\n",
        "\n",
        "june_merchant_ind_fraud, july_merchant_ind_fraud = get_fraud_distribution_per_var(df1, df2, var, names)\n",
        "print('done!')"
      ],
      "execution_count": null,
      "outputs": []
    },
    {
      "cell_type": "code",
      "metadata": {
        "id": "FTr-1cxtZ18K"
      },
      "source": [
        "june_merchant_ind_fraud"
      ],
      "execution_count": null,
      "outputs": []
    },
    {
      "cell_type": "code",
      "metadata": {
        "id": "5zAKGxwlaATA"
      },
      "source": [
        "july_merchant_ind_fraud"
      ],
      "execution_count": null,
      "outputs": []
    },
    {
      "cell_type": "code",
      "metadata": {
        "id": "-GLA2TJ8aYhO"
      },
      "source": [
        "sup_title = 'Top 5 Merchant-Industries for Fraud: June Vs July'\n",
        "titles = ['June Merchant-Industry', 'July Merchant-Industry']\n",
        "s1 = june_merchant_ind_fraud[:5]\n",
        "s2 = july_merchant_ind_fraud[:5]\n",
        "colours = ['magenta', 'yellow', 'blue', 'green', 'black']\n",
        "size = (24, 6)\n",
        "\n",
        "compare_pie_chart(sup_title, titles, s1, s2, size, colours)"
      ],
      "execution_count": null,
      "outputs": []
    },
    {
      "cell_type": "markdown",
      "metadata": {
        "id": "PDItqpVPcoe4"
      },
      "source": [
        "From the two sets of Piecharts above, we can surmise that...<br>\n",
        "Merchants in the **Betting** and **Financial Services** category, who operate within the **Betting** and **Lending** industries recorded more than 98% of total frauds across merchant-categories and more than 96% of total fraud across merchant-industries, for the months of June and July 2021."
      ]
    },
    {
      "cell_type": "markdown",
      "metadata": {
        "id": "dUzG_iBYcoQR"
      },
      "source": [
        "**The next step is to identify these merchants...**\n",
        "\n",
        "So, we want to select merchants in the Betting and Financial-Services(FS) categories that operate within the Betting and Lending industries."
      ]
    },
    {
      "cell_type": "code",
      "metadata": {
        "id": "oiTvpQ5Ae5Io"
      },
      "source": [
        "# First, we select Merchants whose category is either FS or Betting\n",
        "high_risk = combined_df[(combined_df.merchant_category == 'Betting') \\\n",
        "                                    | (combined_df.merchant_category == 'Financial Services')]\n",
        "\n",
        "# Then from these, we select those whose industries are BETTING or LENDING\n",
        "high_risk = high_risk[(high_risk.merchant_industry == 'BETTING') \\\n",
        "                                              | (high_risk.merchant_industry == 'LENDING')]\n",
        "\n",
        "# We do it this way, just incase BETTING and LENDING industries also exist in \n",
        "# other marchant-categories aside from Betting and Financial-Services.\n",
        "\n",
        "print(f'Top-Concern-Merchants shape is: {high_risk.shape}\\n', end=' ')\n",
        "high_risk.head()"
      ],
      "execution_count": null,
      "outputs": []
    },
    {
      "cell_type": "markdown",
      "metadata": {
        "id": "xgK6fVVxC-ff"
      },
      "source": [
        "**Since we've identified them, let's also separate the others**"
      ]
    },
    {
      "cell_type": "code",
      "metadata": {
        "id": "CDHXpAhcDG-K"
      },
      "source": [
        "others_index = list(set(list(combined_df.index)) - set(list(high_risk.index)))\n",
        "(len(others_index) + len(high_risk.index)) == len(combined_df.index)"
      ],
      "execution_count": null,
      "outputs": []
    },
    {
      "cell_type": "code",
      "metadata": {
        "id": "foXDI0lVIo4y"
      },
      "source": [
        "others = combined_df.iloc[others_index, :]\n",
        "print(len(others_index) == len(others))\n",
        "print(f'others shape: {others.shape}\\n')\n",
        "others.head(3)"
      ],
      "execution_count": null,
      "outputs": []
    },
    {
      "cell_type": "markdown",
      "metadata": {
        "id": "EWJ-6MP0r1A4"
      },
      "source": [
        "**Let's see the actual split of distinct merchants in the High-Risk industries and other industries.**"
      ]
    },
    {
      "cell_type": "code",
      "metadata": {
        "id": "E6LXu0oZsZaM"
      },
      "source": [
        "num_high_risk_merchants = high_risk.merchant_id.nunique()\n",
        "num_other_merchants = others.merchant_id.nunique()\n",
        "\n",
        "print(f'High-Risk Merchants are: {num_high_risk_merchants}\\nWhile others are {num_other_merchants} in total.')"
      ],
      "execution_count": null,
      "outputs": []
    },
    {
      "cell_type": "code",
      "metadata": {
        "id": "vaOvp1gdt87o"
      },
      "source": [
        "def plot_merchants_split(names, val1, val2, size, sup_title, color=colours):\n",
        "    \"\"\"Function to plot the split of merchants\n",
        "        across High-Risk and low-Risk bounds.\n",
        "\n",
        "    @param names: A list of string names\n",
        "    @param val1 & val2: Integer values\n",
        "    @param size: A tuple of figure size dimensions\n",
        "    @param sup_title: String, the overall suptitle of both charts\n",
        "    \"\"\"\n",
        "\n",
        "    plt.figure(figsize=size)\n",
        "\n",
        "    fontDict ={'fontsize': 20,\n",
        "        'fontweight' : 'bold',\n",
        "        'verticalalignment': 'baseline',\n",
        "      'color': 'Red',\n",
        "       'family':'DejaVu Sans'}\n",
        "\n",
        "    total = val1 + val2\n",
        "\n",
        "    s1 = pd.Series([val1, val2], index=names, \n",
        "                       name='Count of High and Low Risk Merchants')\n",
        "    s2 = pd.Series([(val1 / total)*100, (val2 / total)*100], index=names,\n",
        "                       name='Percentage of High and Low Risk Merchants')\n",
        "    \n",
        "    plt.suptitle(sup_title, y=1.05, fontdict=fontDict)\n",
        "    fontDict['fontsize'] = 14\n",
        "    \n",
        "    plt.subplot(1,2,1)\n",
        "    plt.bar(x=s1.index, height=list(s1), color=colours)\n",
        "    plt.xlabel('Merchant', fontdict=fontDict)\n",
        "    plt.ylabel('Count', fontdict=fontDict)\n",
        "    fontDict['fontsize'] = 18\n",
        "    fontDict['color'] = 'Black'\n",
        "    plt.title(s1.name, fontdict=fontDict)\n",
        "\n",
        "    plt.subplot(1,2,2)\n",
        "    plt.pie(s2, \n",
        "       autopct='%1.1f%%',\n",
        "       startangle=90,\n",
        "       colors=colours,\n",
        "       shadow=True,\n",
        "       pctdistance=1.06)\n",
        "    plt.title(s2.name, fontdict=fontDict)\n",
        "    plt.axis('equal')\n",
        "    plt.legend(labels=s2.index, loc='upper right')\n",
        " \n",
        "    plt.show()"
      ],
      "execution_count": null,
      "outputs": []
    },
    {
      "cell_type": "code",
      "metadata": {
        "id": "ESE9nk-ww5JE"
      },
      "source": [
        "names = ['High-Risk', 'Low-Risk']\n",
        "val1, val2 = num_high_risk_merchants, num_other_merchants\n",
        "sup_title = 'Count Plot and Percentage Plot of High-Risk vs Low-Risk Merchants'\n",
        "colours = ['Purple', 'Teal']\n",
        "\n",
        "plot_merchants_split(names, val1, val2, size, sup_title)"
      ],
      "execution_count": null,
      "outputs": []
    },
    {
      "cell_type": "markdown",
      "metadata": {
        "id": "cYfCTHYcAsua"
      },
      "source": [
        "From these charts, we can see that only 8% of Merchants constitute about 98% of fraud transactions. We need to take a much closer look at how these merchants conduct their day-to-day activities."
      ]
    },
    {
      "cell_type": "markdown",
      "metadata": {
        "id": "RgimAlDH_28P"
      },
      "source": [
        "### 9. Finding Distinct Patterns of High-Risk Merchants\n",
        "\n",
        "What are the common patterns among merchants who record the most fraud? For example: \n",
        "* What's the average transactions volume per week for high-risk merchants and others? \n",
        "* Is there a correlation between fraud-count and transaction-count when compared to high-risk and other merchants? \n"
      ]
    },
    {
      "cell_type": "markdown",
      "metadata": {
        "id": "eud4tvYk_Frt"
      },
      "source": [
        "**Let's see the descriptive statistics for these `top-concern` merchants**"
      ]
    },
    {
      "cell_type": "code",
      "metadata": {
        "id": "irUU7Xqi_R7p"
      },
      "source": [
        "# Let's see for Categorical Variables of top-concern merchants\n",
        "\n",
        "high_risk.describe(include='object').T"
      ],
      "execution_count": null,
      "outputs": []
    },
    {
      "cell_type": "code",
      "metadata": {
        "id": "JaEa0trX_iTg"
      },
      "source": [
        "# Let's see for Categorical Variables of other merchants\n",
        "\n",
        "others.describe(include='object').T"
      ],
      "execution_count": null,
      "outputs": []
    },
    {
      "cell_type": "code",
      "metadata": {
        "id": "3j8IcG1LJxKH"
      },
      "source": [
        "# Let's see for Numerical Variables of top-concern merchants\n",
        "\n",
        "high_risk.describe().T"
      ],
      "execution_count": null,
      "outputs": []
    },
    {
      "cell_type": "code",
      "metadata": {
        "id": "SU1sRJKFBMJe"
      },
      "source": [
        "# Let's see for Numerical Variables of other merchants\n",
        "\n",
        "others.describe().T"
      ],
      "execution_count": null,
      "outputs": []
    },
    {
      "cell_type": "markdown",
      "metadata": {
        "id": "X9lWMIlUCWos"
      },
      "source": [
        "From the describtive stats above, we can see that...\n",
        "* High-Risk merchants on average performed 3538 transactions within these two months, whie other merchants did an average of 175 transactions.\n",
        "* High-Risk merchants in the Betting and Lending business did an average of `$32k` USD for these two months. Others did an average of `$4.2k` USD."
      ]
    },
    {
      "cell_type": "markdown",
      "metadata": {
        "id": "7sP7Uz87yivl"
      },
      "source": [
        "* **What's the average transactions count per week for high-risk merchants and others?** "
      ]
    },
    {
      "cell_type": "code",
      "metadata": {
        "id": "8PrzFlrU5d2m"
      },
      "source": [
        "high_risk.head(2)"
      ],
      "execution_count": null,
      "outputs": []
    },
    {
      "cell_type": "code",
      "metadata": {
        "id": "K9iU011q2Gsw"
      },
      "source": [
        "def find_ave_weekly_trans(df1, df2, dates):\n",
        "    \"\"\"Function to find the average transactions done weekly\n",
        "    by high-risk and other merchants.\n",
        "\n",
        "    @param df1 and df2: Dataframes for high-risk and other merchants\n",
        "    @param col1 and col2: strings, column names to compute ratios\n",
        "    @return: Dataframe of computed results\n",
        "    \"\"\"\n",
        "\n",
        "    june = 'Jun_W'\n",
        "    july = 'Jul_W'\n",
        "    cols = ['High_Risk', 'Others']\n",
        "    inds = []\n",
        "    ave_trans = []\n",
        "    i, j = 0, 0\n",
        "\n",
        "    for date in dates:\n",
        "        temp_list = []\n",
        "        temp1 = df1[df1['transaction_week_start_date'] == date]\n",
        "        temp2 = df2[df2['transaction_week_start_date'] == date]\n",
        "        temp_list.append(temp1.transaction_count.mean())\n",
        "        temp_list.append(temp2.transaction_count.mean())\n",
        "        ave_trans.append(temp_list)\n",
        "        if dates.index(date) < 4:\n",
        "            i+=1\n",
        "            inds.append(june+str(i))\n",
        "        else:\n",
        "            j+=1\n",
        "            inds.append(july+str(j))\n",
        "    \n",
        "        ratio_df = pd.DataFrame(ave_trans, index=inds, columns=cols)\n",
        "       \n",
        "    return ratio_df"
      ],
      "execution_count": null,
      "outputs": []
    },
    {
      "cell_type": "code",
      "metadata": {
        "id": "b-KmslBRykVd"
      },
      "source": [
        "df1 = high_risk\n",
        "df2 = others\n",
        "dates = weekly_dates\n",
        "\n",
        "ave_weekly_trans_df = find_ave_weekly_trans(df1, df2, dates)\n",
        "ave_weekly_trans_df"
      ],
      "execution_count": null,
      "outputs": []
    },
    {
      "cell_type": "code",
      "metadata": {
        "id": "NQLjuvAit2ZH"
      },
      "source": [
        "print(f'On a weekly average, High-Risk merchants do {round(ave_weekly_trans_df.High_Risk.mean())}, while others do {round(ave_weekly_trans_df.Others.mean())} transactions.')"
      ],
      "execution_count": null,
      "outputs": []
    },
    {
      "cell_type": "code",
      "metadata": {
        "id": "xciH60PixNID"
      },
      "source": [
        "# First let's define a Font Dict\n",
        "fontDict ={'fontsize': 18,\n",
        "        'fontweight' : 'bold',\n",
        "        'verticalalignment': 'baseline',\n",
        "      'color': 'Black',\n",
        "       'family':'DejaVu Sans'}\n",
        "\n",
        "ave_weekly_trans_df.plot(kind='area', figsize=(18,6))\n",
        "plt.title('Average Weekly Transactions: High-Risk vs Other Merchants', fontdict=fontDict)\n",
        "\n",
        "fontDict['fontsize'] = 14\n",
        "fontDict['color'] = 'Red'\n",
        "plt.xlabel('Week', fontdict=fontDict)\n",
        "plt.ylabel('Count', fontdict=fontDict)\n",
        "plt.show()"
      ],
      "execution_count": null,
      "outputs": []
    },
    {
      "cell_type": "markdown",
      "metadata": {
        "id": "i4GMj0-Y00PF"
      },
      "source": [
        "**Observing weekly Fraud and Transactions trend for High-Risk Merchants.**"
      ]
    },
    {
      "cell_type": "code",
      "metadata": {
        "id": "hrCxjQcD1AzV"
      },
      "source": [
        "weeks_list = weekly_dates\n",
        "df_list = [high_risk]\n",
        "names = ['Weekly Fraud Count: High-Risk', 'Weekly Transaction Count: High-Risk']\n",
        "\n",
        "weekly_fraud_count, weekly_transact_count = get_weekly_fraud_and_transaction_counts(weeks_list, df_list, names=names)"
      ],
      "execution_count": null,
      "outputs": []
    },
    {
      "cell_type": "code",
      "metadata": {
        "id": "ed_vClOlISRA"
      },
      "source": [
        "weekly_fraud_count"
      ],
      "execution_count": null,
      "outputs": []
    },
    {
      "cell_type": "code",
      "metadata": {
        "id": "HlO4i5OJIXrQ"
      },
      "source": [
        "weekly_transact_count"
      ],
      "execution_count": null,
      "outputs": []
    },
    {
      "cell_type": "code",
      "metadata": {
        "id": "E8NrGlK93068"
      },
      "source": [
        "s1 = weekly_fraud_count\n",
        "s2 = weekly_transact_count\n",
        "\n",
        "plot_weekly_trends(s1, s2)"
      ],
      "execution_count": null,
      "outputs": []
    },
    {
      "cell_type": "markdown",
      "metadata": {
        "id": "xv45saNQKwUa"
      },
      "source": [
        "This relationship does not tell us anything distinct about the Top-Concern or High-Risk merchants, the weekly data looks very similar to the weekly trend for the entire data set.\n",
        "\n",
        "The only distinct trait seen so far is that Merchants in the high-Risk industries of Betting and Lending perform a lot more transactions on average weekly, than regular merchants and record over 96% of all fraud attempts."
      ]
    },
    {
      "cell_type": "markdown",
      "metadata": {
        "id": "067j0V7Dh84h"
      },
      "source": [
        "### 10. Feature-Engineering:\n",
        "\n",
        "As we prepare to use our data for Machine-Learning activities, we need to prepare the data accordingly by performing certain activities\n"
      ]
    },
    {
      "cell_type": "code",
      "metadata": {
        "id": "BHYKQqY_kAZQ"
      },
      "source": [
        "# First, make a copy of the mi_combined df\n",
        "\n",
        "copy_mi = mi_combined.copy(deep=True)"
      ],
      "execution_count": null,
      "outputs": []
    },
    {
      "cell_type": "code",
      "metadata": {
        "id": "UyVyy_aEmyh8"
      },
      "source": [
        "def plot_hist(df,\n",
        "              df_name,\n",
        "              color=None,\n",
        "              suptitle=None,\n",
        "              size=(16,12),\n",
        "             linewidth=1.5,\n",
        "             edgecolor='black',\n",
        "             density=True):\n",
        "    \n",
        "    num_cols = list(df.select_dtypes(include='number').columns)\n",
        "    \n",
        "    title = f'Numerical Values Distribution: {df_name}'\n",
        "    if suptitle:\n",
        "        title = df_name+': '+suptitle\n",
        "        \n",
        "    df[num_cols].hist(figsize=size,\n",
        "                     linewidth=linewidth,\n",
        "                     edgecolor=edgecolor,\n",
        "                     color=color,\n",
        "                     density=density)\n",
        "    \n",
        "    plt.suptitle(title, fontweight='bold', fontsize=16, y=0.95)\n",
        "    plt.show()"
      ],
      "execution_count": null,
      "outputs": []
    },
    {
      "cell_type": "code",
      "metadata": {
        "id": "LVAhFpopqP1E"
      },
      "source": [
        "df_name = 'Top-MI-Features DF'\n",
        "colour = 'yellow'\n",
        "sup_title = 'Histogram of Numerical Features'\n",
        "\n",
        "plot_hist(copy_mi, df_name, color=colour, suptitle=sup_title)"
      ],
      "execution_count": null,
      "outputs": []
    },
    {
      "cell_type": "markdown",
      "metadata": {
        "id": "irUGniaiQi3H"
      },
      "source": [
        "**Checking for outliers**"
      ]
    },
    {
      "cell_type": "code",
      "metadata": {
        "id": "YlNzfpidUrID"
      },
      "source": [
        "num_cols = list(copy_mi.select_dtypes(include='number').columns)\n",
        "cat_cols = list(copy_mi.select_dtypes(exclude='number'))"
      ],
      "execution_count": null,
      "outputs": []
    },
    {
      "cell_type": "code",
      "metadata": {
        "id": "FYLM8F4qRIuR"
      },
      "source": [
        "def find_extreme_boundaries(variable, df, distance=3):\n",
        "    \"\"\"This method computes and returns the upper\n",
        "        and lower outlier boundaries for each variable.\n",
        "    \"\"\"\n",
        "\n",
        "    IQR = df[variable].quantile(0.75) - df[variable].quantile(0.25)\n",
        "\n",
        "    lower_boundary = df[variable].quantile(0.25) - (IQR * distance)\n",
        "    upper_boundary = df[variable].quantile(0.75) + (IQR * distance)\n",
        "\n",
        "    if upper_boundary == lower_boundary:\n",
        "        upper_boundary = max(df[variable])\n",
        "        lower_boundary = min(df[variable])\n",
        "\n",
        "    return upper_boundary, lower_boundary"
      ],
      "execution_count": null,
      "outputs": []
    },
    {
      "cell_type": "markdown",
      "metadata": {
        "id": "JfoBmwrdX72T"
      },
      "source": [
        "**Let's see the extreme outliers in the numerical columns**"
      ]
    },
    {
      "cell_type": "code",
      "metadata": {
        "id": "v15F5v33Rwun"
      },
      "source": [
        "def extreme_outliers_toDF(df, cols):\n",
        "    \"\"\"This method computes the outliers\n",
        "    in a dataframe and returns these values as a\n",
        "    dataframe \n",
        "\n",
        "    @param df: A dataframe\n",
        "    @param distance: The limit of outlier, max & default=3\n",
        "    \"\"\"\n",
        "    outliers_dict = {}\n",
        "    for col in cols:\n",
        "        upper, lower = find_extreme_boundaries(col,df)\n",
        "        outliers = np.where(df[col] > upper, True,\n",
        "        np.where(df[col] < lower, True, False))\n",
        "        count_outliers = np.sum(outliers)\n",
        "        outliers_dict[col] = [count_outliers]\n",
        "    \n",
        "    outliers_df = pd.DataFrame(outliers_dict).T\n",
        "    outliers_df.columns = ['count']\n",
        "    return outliers_df"
      ],
      "execution_count": null,
      "outputs": []
    },
    {
      "cell_type": "code",
      "metadata": {
        "id": "6lZmhaBVSnY3"
      },
      "source": [
        "ext_outliers_df = extreme_outliers_toDF(copy_mi, num_cols)\n",
        "ext_outliers_df"
      ],
      "execution_count": null,
      "outputs": []
    },
    {
      "cell_type": "markdown",
      "metadata": {
        "id": "GSpCOh3KXHJz"
      },
      "source": [
        "**let's clip outliers to lower or max values**"
      ]
    },
    {
      "cell_type": "code",
      "metadata": {
        "id": "4qXyI_1kXP4H"
      },
      "source": [
        "def clip_extreme_outliers(main_df, sub_df):\n",
        "    \"\"\"Function clips extreme outliers\n",
        "\n",
        "    @param df: a dataframe\n",
        "    @param cols: list of columns to clip from\n",
        "    \"\"\"\n",
        "    indx = list(sub_df.index)\n",
        "\n",
        "    for ind in indx:\n",
        "        if sub_df.at[ind, 'count'] > 100:\n",
        "            high, low = find_extreme_boundaries(ind, main_df)\n",
        "            print(ind,':', high, low)\n",
        "            main_df[ind] = np.where(main_df[ind] > high, high,\n",
        "                           np.where(main_df[ind] < low, low, main_df[ind]))\n",
        "    return main_df"
      ],
      "execution_count": null,
      "outputs": []
    },
    {
      "cell_type": "code",
      "metadata": {
        "id": "Yo49sK_-arAO"
      },
      "source": [
        "# Let's clip the extreme outliers\n",
        "copy_mi = clip_extreme_outliers(copy_mi, ext_outliers_df)\n",
        "print('done!')"
      ],
      "execution_count": null,
      "outputs": []
    },
    {
      "cell_type": "code",
      "metadata": {
        "id": "7i2JsF6Ma_ne"
      },
      "source": [
        "# Check for extreme outliers\n",
        "extreme_outliers_toDF(copy_mi, num_cols)"
      ],
      "execution_count": null,
      "outputs": []
    },
    {
      "cell_type": "markdown",
      "metadata": {
        "id": "eycJJrcKoR83"
      },
      "source": [
        "**Normalizing Numeric data with Quantization and log-transform based on the shape of the distribution**\n",
        "\n",
        "All aside from `merchant_id` will be normalized with log_transform"
      ]
    },
    {
      "cell_type": "code",
      "metadata": {
        "id": "8f-faAhfjP1g"
      },
      "source": [
        "copy_mi.isna().any()"
      ],
      "execution_count": null,
      "outputs": []
    },
    {
      "cell_type": "code",
      "metadata": {
        "id": "34Qpn2jvs8mO"
      },
      "source": [
        "copy_mi.head()"
      ],
      "execution_count": null,
      "outputs": []
    },
    {
      "cell_type": "code",
      "metadata": {
        "id": "lxKZPJhrjafj"
      },
      "source": [
        "df_name = 'Top-MI-Features DF'\n",
        "colour = 'yellow'\n",
        "sup_title = 'Histogram of Numerical Features'\n",
        "\n",
        "plot_hist(copy_mi, df_name, color=colour, suptitle=sup_title)"
      ],
      "execution_count": null,
      "outputs": []
    },
    {
      "cell_type": "markdown",
      "metadata": {
        "id": "2pHeJHvNtUIJ"
      },
      "source": [
        "**From the data, we'd normalize `otp_all_transactions` and `transactions_volume_usd` and `merchant_id` with quantization, while the rest will be log-tranform** "
      ]
    },
    {
      "cell_type": "code",
      "metadata": {
        "id": "W6VncwPM_WrB"
      },
      "source": [
        "def log_transform(df, cols):\n",
        "    for col in cols:\n",
        "        data = df[col].astype('float').values\n",
        "        # avoid division by zero issues\n",
        "        data = np.log(data, out=data, where=data > 0.0000000001)\n",
        "        df[col] = list(data)\n",
        "    print('done!')"
      ],
      "execution_count": null,
      "outputs": []
    },
    {
      "cell_type": "code",
      "metadata": {
        "id": "wWQ9lcFc_aO3"
      },
      "source": [
        "col_quant = ['otp_all_transactions', 'transaction_volume_usd', 'merchant_id']\n",
        "col_log = [col for col in num_cols if col not in col_quant]\n",
        "\n",
        "log_transform(copy_mi, col_log)"
      ],
      "execution_count": null,
      "outputs": []
    },
    {
      "cell_type": "code",
      "metadata": {
        "id": "cPew1SGRAf5L"
      },
      "source": [
        "copy_mi.isna().any()"
      ],
      "execution_count": null,
      "outputs": []
    },
    {
      "cell_type": "code",
      "metadata": {
        "id": "ZU4Z8I0x0Gve"
      },
      "source": [
        "numQuantiles = 20\n",
        "colsQuantiles = col_quant\n",
        "\n",
        "def createQuantiles(dfColumn, numQuantiles):\n",
        "  return pd.qcut(dfColumn, numQuantiles, labels=False, duplicates='drop')\n",
        "\n",
        "\n",
        "for string in colsQuantiles:\n",
        "    if string in num_cols:\n",
        "        copy_mi[string] = createQuantiles(copy_mi[string], numQuantiles)\n",
        "print('done!')"
      ],
      "execution_count": null,
      "outputs": []
    },
    {
      "cell_type": "code",
      "metadata": {
        "id": "fKEZBvvhvbOA"
      },
      "source": [
        "copy_mi.isna().any()"
      ],
      "execution_count": null,
      "outputs": []
    },
    {
      "cell_type": "code",
      "metadata": {
        "id": "NnZDuMgX4mrd"
      },
      "source": [
        "def minMaxScaler(numArr):\n",
        "  minx = np.min(numArr)\n",
        "  maxx = np.max(numArr)\n",
        "  numArr = (numArr - minx) / (maxx - minx)\n",
        "  return numArr"
      ],
      "execution_count": null,
      "outputs": []
    },
    {
      "cell_type": "code",
      "metadata": {
        "id": "srBnlSpLvTQf"
      },
      "source": [
        "# Now, scale the numeric columns\n",
        "\n",
        "for string in num_cols:\n",
        "  copy_mi[string] = minMaxScaler(copy_mi[string])\n",
        "print('done!')"
      ],
      "execution_count": null,
      "outputs": []
    },
    {
      "cell_type": "code",
      "metadata": {
        "id": "uP82ystZCSBZ"
      },
      "source": [
        "copy_mi.isna().any()"
      ],
      "execution_count": null,
      "outputs": []
    },
    {
      "cell_type": "code",
      "metadata": {
        "id": "ouUMoQF_5XI9"
      },
      "source": [
        "df_name = 'Top-MI-Features DF'\n",
        "colour = 'yellow'\n",
        "sup_title = 'Histogram of Numerical Features'\n",
        "\n",
        "plot_hist(copy_mi, df_name, color=colour, suptitle=sup_title)"
      ],
      "execution_count": null,
      "outputs": []
    },
    {
      "cell_type": "code",
      "metadata": {
        "id": "wivetngivwUv"
      },
      "source": [
        "copy_mi.head()"
      ],
      "execution_count": null,
      "outputs": []
    },
    {
      "cell_type": "markdown",
      "metadata": {
        "id": "8VxT-PKlC4pp"
      },
      "source": [
        "**Encoding Categorical variables**\n",
        "\n",
        "We may choose either to one-hot-encode these or merely discretize them numnerically using the factorize() function."
      ]
    },
    {
      "cell_type": "code",
      "metadata": {
        "id": "gQpLDO72ExXI"
      },
      "source": [
        "cat_cols = list(copy_mi.select_dtypes(exclude='number'))\n",
        "cat_cols"
      ],
      "execution_count": null,
      "outputs": []
    },
    {
      "cell_type": "code",
      "metadata": {
        "id": "cH4RNV-wFg54"
      },
      "source": [
        "# Let's factorize and scale the categorical columns same time\n",
        "\n",
        "for cat in cat_cols:\n",
        "    copy_mi[cat], _ = copy_mi[cat].factorize()\n",
        "    copy_mi[cat] = minMaxScaler(copy_mi[cat])\n",
        "print('done!')"
      ],
      "execution_count": null,
      "outputs": []
    },
    {
      "cell_type": "code",
      "metadata": {
        "id": "9t7OdU3YGK5H"
      },
      "source": [
        "copy_mi.isna().any()"
      ],
      "execution_count": null,
      "outputs": []
    },
    {
      "cell_type": "code",
      "metadata": {
        "id": "ZhYGM99tGVsO"
      },
      "source": [
        "copy_mi.head()"
      ],
      "execution_count": null,
      "outputs": []
    },
    {
      "cell_type": "markdown",
      "metadata": {
        "id": "fhba_OqkOpsr"
      },
      "source": [
        "### 10. Applying Clustering Machine Learning Algorithm: K-Means\n",
        "\n",
        "Centroid-based(CB) clustering are easier to use and interpret than density-based(DB) clustering. Although CB is susceptible to outliers and even clusters outliers, while DB is resistant to outliers. \n",
        "\n",
        "**Therefore, let's define some helper methods for K-means algorithm**"
      ]
    },
    {
      "cell_type": "code",
      "metadata": {
        "id": "7NdhD89A2fyZ"
      },
      "source": [
        "import math\n",
        "import numpy.linalg as nla\n",
        "import altair as alt\n",
        "import re\n",
        "import pdb  # for Python debugger\n",
        "import sys\n",
        "from os.path import join"
      ],
      "execution_count": null,
      "outputs": []
    },
    {
      "cell_type": "code",
      "metadata": {
        "id": "SrDipomtRyFA"
      },
      "source": [
        "def dfSimilarity(df, centroids):\n",
        "    \"\"\"Calculate similarities for dataframe input.\n",
        "        We use the Euclidean Distance calculation\n",
        "\n",
        "    We need to calculate np.sqrt(||a-b||^2 = |a|^2 + |b|^2 - 2*|a|*|b|),\n",
        "    and do so using matrix operations\n",
        "\n",
        "    @param df: a dataframe, shape(m, n)\n",
        "    @param centroids: subset of df, shape(k, n), \n",
        "                     where k is cluster size\n",
        "    @return: An array of similarity scores\n",
        "    \"\"\"\n",
        "    numPoints = len(df.index)\n",
        "    numCentroids = len(centroids.index)\n",
        "\n",
        "    ## Strictly speaking, we don't need to calculate the norm of points\n",
        "    # because it adds a constant bias to distances\n",
        "    # But calculating it so that the similarity doesn't go negative\n",
        "    # And that we expect similarities in [0,1] which aids debugging\n",
        "\n",
        "    # find the dot-product of each row or observation in df\n",
        "    pointNorms = np.square(nla.norm(df, axis=1))\n",
        "    # reshape the 1D array of dot-products to a column array\n",
        "    pointNorms = np.reshape(pointNorms, [numPoints, 1])\n",
        "\n",
        "    # # find the dot-product of each row or observation in centroids\n",
        "    centroidNorms = np.square(nla.norm(centroids, axis=1))\n",
        "    # reshape the 1D array of dot-products to a row array\n",
        "    centroidNorms = np.reshape(centroidNorms, (1, numCentroids))\n",
        "\n",
        "    ## Calculate |a|^2 + |b|^2 - 2*|a|*|b|\n",
        "    similarities = pointNorms + centroidNorms - 2.0 * np.dot(\n",
        "        df, np.transpose(centroids))\n",
        "    \n",
        "    # Divide by the number of feature directly if no OHE-features,\n",
        "    # Else divide by original feature size if OHE\n",
        "    similarities = similarities / df.shape[1]\n",
        "\n",
        "    # numerical artifacts lead to negligible but negative values \n",
        "    # that go to NaN on the root, so let's clip such features\n",
        "    similarities = similarities.clip(min=0.0)\n",
        "\n",
        "    # Square root since it's ||a-b||^2\n",
        "    similarities = np.sqrt(similarities)\n",
        "    return similarities"
      ],
      "execution_count": null,
      "outputs": []
    },
    {
      "cell_type": "code",
      "metadata": {
        "id": "3mwmFY4wMI5F"
      },
      "source": [
        "def initCentroids(df, k, feature_cols):\n",
        "    \"\"\"Helper function to initialize centroids randomly\n",
        "\n",
        "    @param df: a preprocesed dataframe for k-means\n",
        "    @param k: An integer for number of clusters/centroids\n",
        "    @param feature_cols: an array of string feature names for k-means\n",
        "    @return: dataframe of centroids(sliced from df size(k, len(feature_cols)))\n",
        "    \"\"\"\n",
        "    limit = len(df.index)\n",
        "    centroids_key = np.random.randint(0, limit - 1, k)\n",
        "    centroids = df.loc[centroids_key, feature_cols].copy(deep=True)\n",
        "    # the indexes get copied over so reset them\n",
        "    centroids.reset_index(drop=True, inplace=True)\n",
        "    return centroids"
      ],
      "execution_count": null,
      "outputs": []
    },
    {
      "cell_type": "code",
      "metadata": {
        "id": "pNsSZXuQyKBJ"
      },
      "source": [
        "def pt2centroid(df, centroids, feature_cols):\n",
        "    \"\"\"Helper function to calculate similarities between \n",
        "    all points and centroids, Assign points to the \n",
        "    closest centroids and save that distance.\n",
        "\n",
        "    @param df: a dataframe, shape(m, n)\n",
        "    @param centroids: subset of df, shape(k, n), \n",
        "                     where k is cluster size\n",
        "    @param feature_cols: an array of string feature names for k-means\n",
        "    @return: df with centroid and pt2centroid columns data\n",
        "    \"\"\"\n",
        "    numCentroids = len(centroids.index)\n",
        "    numExamples = len(df.index)\n",
        "\n",
        "    # dfSimilarity = Calculate similarities for dataframe input\n",
        "    dist = dfSimilarity(df.loc[:, feature_cols], centroids.loc[:, feature_cols])\n",
        "    df.loc[:, 'centroid'] = np.argmin(dist, axis=1)  # closest centroid\n",
        "    df.loc[:, 'pt2centroid'] = np.min(dist, axis=1)  # minimum distance\n",
        "    return df"
      ],
      "execution_count": null,
      "outputs": []
    },
    {
      "cell_type": "code",
      "metadata": {
        "id": "xYqiOJBt23ER"
      },
      "source": [
        "def recomputeCentroids(df, centroids, feature_cols):\n",
        "    \"\"\"Helper function to recompute centroids.\n",
        "        Thus, for every centroid, recompute it as an\n",
        "        average of the points assigned to it.\n",
        "\n",
        "    @param df: a preprocesed dataframe for k-means\n",
        "    @param feature_cols: an array of string feature names for k-means\n",
        "    @param centroids: dataframe of centroids(sliced from df size(k, len(feature_cols)))\n",
        "    \"\"\"\n",
        "  \n",
        "    numCentroids = len(centroids.index)\n",
        "    for cen in range(numCentroids):\n",
        "        dfSubset = df.loc[df['centroid'] == cen,\n",
        "                            feature_cols]  # all points for centroid\n",
        "    if not (dfSubset.empty):  # if there are points assigned to the centroid\n",
        "        clusterAvg = np.sum(dfSubset) / len(dfSubset.index)\n",
        "        centroids.loc[cen] = clusterAvg\n",
        "    return centroids"
      ],
      "execution_count": null,
      "outputs": []
    },
    {
      "cell_type": "markdown",
      "metadata": {
        "id": "tsItUGIo_Ool"
      },
      "source": [
        "**Finally, we put all the helper functions together in the kmeans function below**"
      ]
    },
    {
      "cell_type": "code",
      "metadata": {
        "id": "K-Hk_qQy_QLp"
      },
      "source": [
        "def kmeans(df, k, feature_cols, verbose, max_iter=100):\n",
        "    flagConvergence = False\n",
        "    maxIter = max_iter\n",
        "    iter = 0  # initialize counter to 0\n",
        "\n",
        "    centroids = initCentroids(df, k, feature_cols)\n",
        "    while not (flagConvergence):\n",
        "        iter += 1\n",
        "        #Save old mapping of points to centroids\n",
        "        oldMapping = df['centroid'].copy(deep=True)\n",
        "\n",
        "        # Perform k-means\n",
        "        df = pt2centroid(df, centroids, feature_cols)\n",
        "        centroids = recomputeCentroids(df, centroids, feature_cols)\n",
        "\n",
        "        # Check convergence by comparing [oldMapping, newMapping]\n",
        "        newMapping = df['centroid']\n",
        "        flagConvergence = all(oldMapping == newMapping)\n",
        "        if verbose == 1:\n",
        "            print('Total distance:' + str(np.sum(df['pt2centroid'])))\n",
        "        if (iter > maxIter):\n",
        "            print('k-means did not converge! Reached maximum iteration limit of ' \\\n",
        "                + str(maxIter) + '.')\n",
        "            sys.exit()\n",
        "            return\n",
        "    print('k-means converged for ' + str(k) + ' clusters' + \\\n",
        "        ' after ' + str(iter) + ' iterations!')\n",
        "    return df, centroids"
      ],
      "execution_count": null,
      "outputs": []
    },
    {
      "cell_type": "markdown",
      "metadata": {
        "id": "dEceVsI7qhV3"
      },
      "source": [
        "**Find optimal number of clusters**"
      ]
    },
    {
      "cell_type": "code",
      "metadata": {
        "id": "mdVyriNKOvFr"
      },
      "source": [
        "initial_k = 100  # set k to something high\n",
        "\n",
        "feature_cols = copy_mi.columns.values  # save original columns\n",
        "\n",
        "# initialize every point to an impossible value, the k+1 cluster\n",
        "copy_mi['centroid'] = initial_k + 1\n",
        "\n",
        "# init the point to centroid distance to an impossible value \"5\" (>1)\n",
        "copy_mi['pt2centroid'] = 5\n",
        "\n",
        "# Let's see the new columns\n",
        "copy_mi.head()"
      ],
      "execution_count": null,
      "outputs": []
    },
    {
      "cell_type": "code",
      "metadata": {
        "id": "yDdCGBCiql7V"
      },
      "source": [
        "# Plot loss vs number of clusters\n",
        "copy_mi2 = copy_mi.copy(deep=True)\n",
        "\n",
        "def lossVsClusters(kmin, kmax, kstep, copy_mi2):\n",
        "    kmax += 1  # include kmax-th cluster in range\n",
        "    kRange = range(kmin, kmax, kstep)\n",
        "    loss = np.zeros(len(kRange))\n",
        "    lossCtr = 0\n",
        "\n",
        "    for kk in kRange:\n",
        "        [copy_mi2, centroids] = kmeans(copy_mi2, kk, feature_cols, 0)\n",
        "        loss[lossCtr] = np.sum(copy_mi2['pt2centroid'])\n",
        "        lossCtr += 1\n",
        "    plt.figure(figsize=size)\n",
        "    plt.scatter(kRange, loss)\n",
        "    plt.title('Loss vs Clusters Used')\n",
        "    plt.xlabel('Number of clusters')\n",
        "    plt.ylabel('Total Point-to-Centroid Distance')\n",
        "\n",
        "\n",
        "kmin =   4# @param\n",
        "kmax = 80  # @param\n",
        "kstep =   2# @param\n",
        "lossVsClusters(kmin, kmax, kstep, copy_mi2)"
      ],
      "execution_count": null,
      "outputs": []
    },
    {
      "cell_type": "markdown",
      "metadata": {
        "id": "-GxJcrpvP-Zu"
      },
      "source": [
        "**Let's now run K-means**\n",
        "\n",
        "From the optimal clusters, I'd choose `k = 42`"
      ]
    },
    {
      "cell_type": "code",
      "metadata": {
        "id": "JzHDXhFCQh18"
      },
      "source": [
        "# Run the K-means query\n",
        "k = 42\n",
        "copy_mi, centroids = kmeans(copy_mi, k, feature_cols, verbose=1)\n",
        "\n",
        "print(\"Data for the first few rows, with 'centroid' and 'pt2centroid' on\"\n",
        "      ' the extreme right:')\n",
        "copy_mi.head()"
      ],
      "execution_count": null,
      "outputs": []
    },
    {
      "cell_type": "markdown",
      "metadata": {
        "id": "1IUNhLvoDPkK"
      },
      "source": [
        "### 11. Evaluating The K-Means Algorithm"
      ]
    },
    {
      "cell_type": "markdown",
      "metadata": {
        "id": "5qtwi2aLkj6m"
      },
      "source": [
        "**Quality of Clustering**\n",
        "\n",
        "First, perform a visual check that the clusters look as expected, and that examples that are considered similar do appear in the same cluster. Then check these commonly-used metrics:\n",
        "\n",
        "1. Cluster cardinality:<br>Cluster cardinality is the number of examples per cluster. Plot the cluster cardinality for all clusters and investigate clusters that are major outliers\n",
        "2. Cluster magnitude:<br>Cluster magnitude is the sum of distances from all examples to the centroid of the cluster. Similar to cardinality, check how the magnitude varies across the clusters, and investigate anomalies.\n",
        "3. Magnitude vs. Cardinality:<br>Notice that a higher cluster cardinality tends to result in a higher cluster magnitude, which intuitively makes sense. Clusters are anomalous when cardinality doesn't correlate with magnitude relative to the other clusters. Find anomalous clusters by plotting magnitude against cardinality. "
      ]
    },
    {
      "cell_type": "code",
      "metadata": {
        "id": "PVD78JKohN4m"
      },
      "source": [
        "def clusterCardinality(df):\n",
        "    k = np.max(df['centroid']) + 1\n",
        "    k = int(k)  # ensuring k is an int\n",
        "    print('Number of clusters:' + str(k))\n",
        "    clCard = np.zeros(k)\n",
        "    for kk in range(k):\n",
        "        clCard[kk] = np.sum(df['centroid'] == kk)\n",
        "    clCard = clCard.astype(int)\n",
        "    print(\"Cluster Cardinality:\"+str(clCard)) \n",
        "    plt.figure()\n",
        "    plt.bar(range(k), clCard)\n",
        "    plt.title('Cluster Cardinality')\n",
        "    plt.xlabel('Cluster Number: ' + str(0) + ' to ' + str(k - 1))\n",
        "    plt.ylabel('Points in Cluster')\n",
        "    return clCard"
      ],
      "execution_count": null,
      "outputs": []
    },
    {
      "cell_type": "code",
      "metadata": {
        "id": "S2fmLcbmmSSE"
      },
      "source": [
        "def clusterMagnitude(df):\n",
        "    k = np.max(df['centroid']) + 1\n",
        "    k = int(k) # ensuring k is an int\n",
        "    cl = np.zeros(k)\n",
        "    clMag = np.zeros(k)\n",
        "    for kk in range(k):\n",
        "        idx = np.where(df['centroid'] == kk)\n",
        "        idx = idx[0]\n",
        "        clMag[kk] = np.sum(df.loc[idx, 'pt2centroid'])\n",
        "    print(\"Cluster Magnitude:\",clMag) #precision set using np pref\n",
        "    plt.figure()\n",
        "    plt.bar(range(k), clMag)\n",
        "    plt.title('Cluster Magnitude')\n",
        "    plt.xlabel('Cluster Number: ' + str(0) + ' to ' + str(k - 1))\n",
        "    plt.ylabel('Total Point-to-Centroid Distance')\n",
        "    return clMag"
      ],
      "execution_count": null,
      "outputs": []
    },
    {
      "cell_type": "code",
      "metadata": {
        "id": "evMxH93Jmuqq"
      },
      "source": [
        "def plotCardVsMag(clCard, clMag):\n",
        "    plt.figure(figsize=size)\n",
        "    plt.scatter(clCard, clMag)\n",
        "    plt.xlim(xmin=0)\n",
        "    plt.ylim(ymin=0)\n",
        "    plt.title('Magnitude vs Cardinality')\n",
        "    plt.ylabel('Magnitude')\n",
        "    plt.xlabel('Cardinality')\n",
        "\n",
        "\n",
        "def clusterQualityMetrics(df):\n",
        "    clCard = clusterCardinality(df)\n",
        "    clMag = clusterMagnitude(df)\n",
        "    plotCardVsMag(clCard, clMag)"
      ],
      "execution_count": null,
      "outputs": []
    },
    {
      "cell_type": "code",
      "metadata": {
        "id": "qRj_Trkdm7cD"
      },
      "source": [
        "size = figsize=(10,5)\n",
        "\n",
        "clusterQualityMetrics(copy_mi)"
      ],
      "execution_count": null,
      "outputs": []
    },
    {
      "cell_type": "markdown",
      "metadata": {
        "id": "v1XHJmjNxBRX"
      },
      "source": [
        "**Adding the cluster labels and `pt2centroids` data to the original mi_combined df**"
      ]
    },
    {
      "cell_type": "code",
      "metadata": {
        "id": "Gg8Wj92Yw6ly"
      },
      "source": [
        "for col in ['centroid', 'pt2centroid']:\n",
        "    mi_combined.loc[:, col] = copy_mi[col]\n",
        "print('done!')"
      ],
      "execution_count": null,
      "outputs": []
    },
    {
      "cell_type": "code",
      "metadata": {
        "id": "wQNMzVJixrB3"
      },
      "source": [
        "mi_combined.head()"
      ],
      "execution_count": null,
      "outputs": []
    },
    {
      "cell_type": "markdown",
      "metadata": {
        "id": "TSNBDPnT0PKJ"
      },
      "source": [
        "**Let's rank the clusters by the number of fraud-counts in them**"
      ]
    },
    {
      "cell_type": "code",
      "metadata": {
        "id": "Z-hG64wX0psU"
      },
      "source": [
        "def rank_clusters(df, col, clusters, by='sum', sort=True):\n",
        "    \"\"\"Function to rank clusters by \n",
        "        some parameter\n",
        "    \"\"\"\n",
        "    ind, count = [], []\n",
        "\n",
        "    for cluster in clusters:\n",
        "        temp = df[df['centroid'] == cluster]\n",
        "        ind.append('clust_'+str(cluster))\n",
        "        if by == 'sum':\n",
        "            count.append(sum(temp[col]))\n",
        "\n",
        "    serie = pd.Series(count, index=ind)\n",
        "    if sort:\n",
        "        serie = serie.sort_values(ascending=False)\n",
        "\n",
        "    return serie"
      ],
      "execution_count": null,
      "outputs": []
    },
    {
      "cell_type": "code",
      "metadata": {
        "id": "soW2_VqP2vYB"
      },
      "source": [
        "df = mi_combined\n",
        "clusters = list(df['centroid'].unique())\n",
        "col = 'fraud_count'\n",
        "clusters_fraud_sum = rank_clusters(df, col, clusters=clusters) \n",
        "clusters_fraud_sum.head()"
      ],
      "execution_count": null,
      "outputs": []
    },
    {
      "cell_type": "markdown",
      "metadata": {
        "id": "L2JZr2h5OQf0"
      },
      "source": [
        "### 12. Exploring Cluster Similarities to Detect Fraud\n",
        "\n",
        "**Plot `fraud_count` and `transaction_volume_usd` per top fraud clusters**"
      ]
    },
    {
      "cell_type": "code",
      "metadata": {
        "id": "Q5RU4cl4OcC8"
      },
      "source": [
        "clusters = [int(x.split('_')[1]) for x in list(clusters_fraud_sum.index)][:10]\n",
        "col = 'transaction_volume_usd'\n",
        "clusters_trans_count = rank_clusters(df, col, clusters=clusters, sort=False) \n",
        "clusters_trans_count.head()"
      ],
      "execution_count": null,
      "outputs": []
    },
    {
      "cell_type": "code",
      "metadata": {
        "id": "Sk43tlWySQq8"
      },
      "source": [
        "def plot_bubble_n_bar(s1, s2):\n",
        "\n",
        "    assert len(s1) == len(s2), 'ERROR: Lengths Mismatch!'\n",
        "\n",
        "    fontDict ={'fontsize': 20,\n",
        "        'fontweight' : 'bold',\n",
        "        'verticalalignment': 'baseline',\n",
        "      'color': 'Red',\n",
        "       'family':'DejaVu Sans'}\n",
        "\n",
        "    plt.figure(figsize=size)\n",
        "    plt.suptitle('Fraud Count and Tranaction-Volume-USD: Top 10 Fraud Clusters',\n",
        "                 fontdict=fontDict,y=1.05)\n",
        "\n",
        "    # normalize s1 for the bubble-plot\n",
        "    s1 = s1.to_frame()\n",
        "    s1.columns = ['count']\n",
        "    s1['clust'] = [int(x.split('_')[1]) for x in list(s1.index)]\n",
        "\n",
        "    # # get the normalised version\n",
        "    norm_s1 = (s1['count'] - s1['count'].min()).div(s1['count'].max() - s1['count'].min())\n",
        "\n",
        "    plt.subplot(122)\n",
        "    \n",
        "    plt.scatter(\n",
        "        x='clust',\n",
        "        y='count',\n",
        "        color=colours,\n",
        "        data=s1,\n",
        "        s=norm_s1*3000+10\n",
        "    )\n",
        "    fontDict['color'] = 'Black'\n",
        "    plt.title('Fraud-Count', fontdict=fontDict)\n",
        "    plt.xticks(rotation = 45)\n",
        "    plt.xticks(ticks=list(s1.clust), labels=list(s1.index))\n",
        "    \n",
        "    plt.subplot(121)\n",
        "    plt.bar(x=s2.index, height=list(s2), color=colours)\n",
        "    plt.title('Transaction-Volume-USD', fontdict=fontDict)\n",
        "    fontDict['fontsize'] = 14\n",
        "    plt.ylabel('volume_usd', fontdict=fontDict)\n",
        "    fontDict['color'] = 'Black'\n",
        "    plt.xticks(rotation = 45)\n",
        "    \n",
        "\n",
        "    plt.show()"
      ],
      "execution_count": null,
      "outputs": []
    },
    {
      "cell_type": "code",
      "metadata": {
        "id": "HC0g1zEvdbMb"
      },
      "source": [
        "s1 = clusters_fraud_sum[:10]\n",
        "s2 = clusters_trans_count\n",
        "size = (24,6)\n",
        "colours = random.sample(darker_colors, 10)\n",
        "\n",
        "plot_bubble_n_bar(s1, s2)"
      ],
      "execution_count": null,
      "outputs": []
    },
    {
      "cell_type": "code",
      "metadata": {
        "id": "xbfk-SO5N36z"
      },
      "source": [
        "plt.figure(figsize=(10,6))\n",
        "sns.regplot(x = s2, y=s1, marker='*', color='red')\n",
        "plt.xlabel('Fraud-Count')\n",
        "plt.ylabel('Transaction-Volume-USD')\n",
        "plt.title('Fraud Count and Transaction-Volume-USD: Top 10 Fraud Clusters')\n",
        "plt.show()"
      ],
      "execution_count": null,
      "outputs": []
    },
    {
      "cell_type": "markdown",
      "metadata": {
        "id": "GnBxG19Wv1QF"
      },
      "source": [
        "With Clustering, we can better see that `transaction-volume-usd` and `fraud-count` are correlated. This means, generally that as the value of transactions increase, so is the likelihood of fraud transactions."
      ]
    },
    {
      "cell_type": "markdown",
      "metadata": {
        "id": "6V6n4529rBSR"
      },
      "source": [
        "**Let's explore the Top-Fraud Cluster**"
      ]
    },
    {
      "cell_type": "code",
      "metadata": {
        "id": "pwZbkxqkooWO"
      },
      "source": [
        "top_fraud_cluster = [int(x.split('_')[1]) for x in list(clusters_fraud_sum.index)[:1]][0]\n",
        "\n",
        "top_fraud_cluster_df = mi_combined.loc[mi_combined['centroid'] == top_fraud_cluster, :]\n",
        "print(f'Top-Fraud-Cluster shape: {top_fraud_cluster_df.shape}\\n')\n",
        "top_fraud_cluster_df.head(10)"
      ],
      "execution_count": null,
      "outputs": []
    },
    {
      "cell_type": "markdown",
      "metadata": {
        "id": "6xfvfhYsrMwP"
      },
      "source": [
        "**What industries make up this cluster?**"
      ]
    },
    {
      "cell_type": "code",
      "metadata": {
        "id": "IH8mWV4jrUl-"
      },
      "source": [
        "top_fraud_cluster_df.merchant_industry.unique()"
      ],
      "execution_count": null,
      "outputs": []
    },
    {
      "cell_type": "code",
      "metadata": {
        "id": "tAuMjaTPrw8k"
      },
      "source": [
        "def top_fraud_industry_split(df, col='merchant_industry'):\n",
        "\n",
        "    count, name = [], []\n",
        "    industries = list(df[col].unique())\n",
        "\n",
        "    for industry in industries:\n",
        "        temp = df[df[col] == industry]\n",
        "        name.append(industry)\n",
        "        count.append(sum(temp['fraud_count']))\n",
        "    \n",
        "    serie = pd.Series(count, index=name, name='Top Fraud Merchant Industries')\n",
        "    serie = serie.sort_values(ascending=False)\n",
        "\n",
        "    return serie"
      ],
      "execution_count": null,
      "outputs": []
    },
    {
      "cell_type": "code",
      "metadata": {
        "id": "qsCyXhlWt377"
      },
      "source": [
        "top_fraud_industries = top_fraud_industry_split(mi_combined)\n",
        "top_fraud_industries"
      ],
      "execution_count": null,
      "outputs": []
    },
    {
      "cell_type": "markdown",
      "metadata": {
        "id": "kaTUJjK9uceN"
      },
      "source": [
        "These once again show us the same Top-Industries we saw earlier, which are\n",
        "\n",
        "1. BETTING\n",
        "2. LENDING\n",
        "3. SAVINGS\n",
        "4. GOODS PHYSICAL\n",
        "5. COOPERATIVES\n",
        "\n",
        "The good thing now is that with these Top-5 are other industries with similar transactions as they are all clustered together. This means with activities like `controlled-experiments` and `A-B Testing` we can better learn insights as to why the spike in fraud activities, from these industries clustered together, as we fight Fraud. Because some of the industries in this cluster of top-fraud-merchants have zero fraud records. This means we could learn how such industries carry out similar tranactions as high-Risk merchants, without incurring fraud costs."
      ]
    },
    {
      "cell_type": "markdown",
      "metadata": {
        "id": "cXMgHgAK1Pr2"
      },
      "source": [
        "**Let's look at `OTP-Fraud` data per cluster**"
      ]
    },
    {
      "cell_type": "markdown",
      "metadata": {
        "id": "4IRrmhF7y6NS"
      },
      "source": [
        "# Predictive EDA (PA):"
      ]
    },
    {
      "cell_type": "code",
      "metadata": {
        "id": "YFqxPKyjuM4O"
      },
      "source": [
        ""
      ],
      "execution_count": null,
      "outputs": []
    }
  ]
}