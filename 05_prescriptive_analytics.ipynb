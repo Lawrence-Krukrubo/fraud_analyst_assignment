{
  "nbformat": 4,
  "nbformat_minor": 0,
  "metadata": {
    "colab": {
      "name": "05_prescriptive_analytics.ipynb",
      "provenance": [],
      "collapsed_sections": [],
      "authorship_tag": "ABX9TyOyko6DFXpI9r/vM/H3ONFo",
      "include_colab_link": true
    },
    "kernelspec": {
      "name": "python3",
      "display_name": "Python 3"
    },
    "language_info": {
      "name": "python"
    },
    "accelerator": "GPU"
  },
  "cells": [
    {
      "cell_type": "markdown",
      "metadata": {
        "id": "view-in-github",
        "colab_type": "text"
      },
      "source": [
        "<a href=\"https://colab.research.google.com/github/Lawrence-Krukrubo/fraud_analyst_assignment/blob/main/05_prescriptive_analytics.ipynb\" target=\"_parent\"><img src=\"https://colab.research.google.com/assets/colab-badge.svg\" alt=\"Open In Colab\"/></a>"
      ]
    },
    {
      "cell_type": "code",
      "metadata": {
        "colab": {
          "base_uri": "https://localhost:8080/"
        },
        "id": "twEScLqe6RH3",
        "outputId": "43e79ba7-125f-45d1-80a3-3d19aa68e214"
      },
      "source": [
        "# First let's mount Google Drive so we can navigate the folders as needed\n",
        "from google.colab import drive\n",
        "drive.mount('/content/gdrive')"
      ],
      "execution_count": 1,
      "outputs": [
        {
          "output_type": "stream",
          "name": "stdout",
          "text": [
            "Drive already mounted at /content/gdrive; to attempt to forcibly remount, call drive.mount(\"/content/gdrive\", force_remount=True).\n"
          ]
        }
      ]
    },
    {
      "cell_type": "markdown",
      "metadata": {
        "id": "DZ4cai_48dZM"
      },
      "source": [
        "**Let's import some much needed libraries...**"
      ]
    },
    {
      "cell_type": "code",
      "metadata": {
        "colab": {
          "base_uri": "https://localhost:8080/"
        },
        "id": "Wa8gujGQ5yua",
        "outputId": "c0c60daa-a1c2-400d-f724-7054c3102525"
      },
      "source": [
        "import os\n",
        "import pandas as pd\n",
        "import numpy as np\n",
        "import matplotlib as mpl\n",
        "import matplotlib.pyplot as plt\n",
        "import seaborn as sns\n",
        "import plotly.express as px\n",
        "import plotly.graph_objects as go\n",
        "import random\n",
        "import xlrd\n",
        "print('done!')"
      ],
      "execution_count": 2,
      "outputs": [
        {
          "output_type": "stream",
          "name": "stdout",
          "text": [
            "done!\n"
          ]
        }
      ]
    },
    {
      "cell_type": "code",
      "metadata": {
        "colab": {
          "base_uri": "https://localhost:8080/"
        },
        "id": "WThZj_PMQRBC",
        "outputId": "676ff6c2-ee3f-427e-bf72-56f079b400bf"
      },
      "source": [
        "# Let's import some Deeplearning modules\n",
        "\n",
        "import tensorflow as tf\n",
        "from tensorflow import keras\n",
        "import tempfile\n",
        "\n",
        "import sklearn\n",
        "from sklearn.metrics import confusion_matrix\n",
        "from sklearn.model_selection import train_test_split\n",
        "from sklearn.preprocessing import StandardScaler\n",
        "print('done!')"
      ],
      "execution_count": 3,
      "outputs": [
        {
          "output_type": "stream",
          "name": "stdout",
          "text": [
            "done!\n"
          ]
        }
      ]
    },
    {
      "cell_type": "code",
      "metadata": {
        "colab": {
          "base_uri": "https://localhost:8080/"
        },
        "id": "X6iimWIBRSZ2",
        "outputId": "db44a714-d89d-4e42-a25d-662eb67d1425"
      },
      "source": [
        "# Let's get all the colors available in matplotlib\n",
        "other_colors = []\n",
        "darker_colors = []\n",
        "for name, hex in mpl.colors.cnames.items():\n",
        "    if 'dark' in name:\n",
        "        darker_colors.append(name)\n",
        "    else:\n",
        "        other_colors.append(name)\n",
        "\n",
        "# Let's finally save the various plot styles in matplotlib\n",
        "styles = plt.style.available\n",
        "\n",
        "print(f'darker-colors has {len(darker_colors)},\\nother-colors has {len(other_colors)} colors\\nplotting styles are {len(styles)}')"
      ],
      "execution_count": 4,
      "outputs": [
        {
          "output_type": "stream",
          "name": "stdout",
          "text": [
            "darker-colors has 19,\n",
            "other-colors has 129 colors\n",
            "plotting styles are 26\n"
          ]
        }
      ]
    },
    {
      "cell_type": "code",
      "metadata": {
        "id": "3B8XehOzUbbC",
        "colab": {
          "base_uri": "https://localhost:8080/"
        },
        "outputId": "3865209a-f626-4b9e-c461-600d3a4cc610"
      },
      "source": [
        "# set more matplotlib defaults\n",
        "def set_rcParams():\n",
        "    mpl.rcParams['axes.labelsize'] = 12\n",
        "    mpl.rcParams['xtick.labelsize'] = 10\n",
        "    mpl.rcParams['ytick.labelsize'] = 10\n",
        "    mpl.rcParams['text.color'] = 'k'\n",
        "    mpl.rc('lines', linewidth=4, linestyle='-.')\n",
        "    print('rcParams set!')\n",
        "\n",
        "# Set the plots design to xkcd\n",
        "# plt.xkcd()  # For xkcd style plots\n",
        "#plt.rcdefaults()  # to stop xkcd plots\n",
        "\n",
        "# fontdict for plot titles\n",
        "fontDict1 = {'fontfamily': 'fantasy',\n",
        "             'fontsize': 'x-large',\n",
        "             'fontstyle': 'italic',\n",
        "             'fontweight': 'heavy',\n",
        "             'ha': 'center',\n",
        "             'color': 'darkred',\n",
        "             'va': 'baseline'}\n",
        "\n",
        "# fontdict for plot labels\n",
        "fontDict2 = {'fontfamily': 'serif',\n",
        "             'fontsize': 'large',\n",
        "             'fontstyle': 'oblique',\n",
        "             'fontweight': 'semibold',\n",
        "             'ha': 'center',\n",
        "             'color': 'black',\n",
        "             'va': 'baseline'}\n",
        "\n",
        "set_rcParams()"
      ],
      "execution_count": 5,
      "outputs": [
        {
          "output_type": "stream",
          "name": "stdout",
          "text": [
            "rcParams set!\n"
          ]
        }
      ]
    },
    {
      "cell_type": "markdown",
      "metadata": {
        "id": "4ewL2RK07xdy"
      },
      "source": [
        "**Let's change our Directory to the Fraud directory containing our data**"
      ]
    },
    {
      "cell_type": "code",
      "metadata": {
        "colab": {
          "base_uri": "https://localhost:8080/"
        },
        "id": "b1lzL6id5851",
        "outputId": "78e869e9-0396-45f1-fd35-595efc6625ce"
      },
      "source": [
        "FRAUD_DIR = '/content/gdrive/MyDrive/Colab_Notebooks/fraud_analyst_assignment'\n",
        "os.chdir(FRAUD_DIR)\n",
        "print(f'Current Dir: {os.getcwd()}')"
      ],
      "execution_count": 6,
      "outputs": [
        {
          "output_type": "stream",
          "name": "stdout",
          "text": [
            "Current Dir: /content/gdrive/MyDrive/Colab_Notebooks/fraud_analyst_assignment\n"
          ]
        }
      ]
    },
    {
      "cell_type": "code",
      "metadata": {
        "colab": {
          "base_uri": "https://localhost:8080/"
        },
        "id": "M9wIfqEC8Nf2",
        "outputId": "00c1b23f-ce02-49dc-ce2e-de02edb4dec2"
      },
      "source": [
        "# Let's see some of the contents of the CWD\n",
        "os.listdir()[:10]"
      ],
      "execution_count": 7,
      "outputs": [
        {
          "output_type": "execute_result",
          "data": {
            "text/plain": [
              "['Fraud_sample_data.xlsx',\n",
              " '.ipynb_checkpoints',\n",
              " '01_intro_to_fraud_analysis.ipynb',\n",
              " 'fraud_analysis.ipynb',\n",
              " 'july_df.csv',\n",
              " 'data_dict.csv',\n",
              " 'june_df.csv',\n",
              " 'top_five_clusters.csv',\n",
              " 'mi_combined.csv',\n",
              " 'top_fraud_cluster.csv']"
            ]
          },
          "metadata": {},
          "execution_count": 7
        }
      ]
    },
    {
      "cell_type": "markdown",
      "metadata": {
        "id": "6lSVIiDNl3Wn"
      },
      "source": [
        "### 1. Loading previous data from Diagnostic stage.."
      ]
    },
    {
      "cell_type": "code",
      "metadata": {
        "colab": {
          "base_uri": "https://localhost:8080/",
          "height": 452
        },
        "id": "i7pT_Y1YmA3e",
        "outputId": "e2fedeca-8c96-45e5-cd2e-b86912f7b463"
      },
      "source": [
        "# First, we load the data dictionary...\n",
        "\n",
        "pd.set_option('max_colwidth', None)\n",
        "data_dict  = pd.read_csv('data_dict.csv')\n",
        "data_dict"
      ],
      "execution_count": 8,
      "outputs": [
        {
          "output_type": "execute_result",
          "data": {
            "text/html": [
              "<div>\n",
              "<style scoped>\n",
              "    .dataframe tbody tr th:only-of-type {\n",
              "        vertical-align: middle;\n",
              "    }\n",
              "\n",
              "    .dataframe tbody tr th {\n",
              "        vertical-align: top;\n",
              "    }\n",
              "\n",
              "    .dataframe thead th {\n",
              "        text-align: right;\n",
              "    }\n",
              "</style>\n",
              "<table border=\"1\" class=\"dataframe\">\n",
              "  <thead>\n",
              "    <tr style=\"text-align: right;\">\n",
              "      <th></th>\n",
              "      <th>Field name</th>\n",
              "      <th>Field description</th>\n",
              "    </tr>\n",
              "  </thead>\n",
              "  <tbody>\n",
              "    <tr>\n",
              "      <th>0</th>\n",
              "      <td>merchant_id</td>\n",
              "      <td>Randomly generated identifier to represent a merchant</td>\n",
              "    </tr>\n",
              "    <tr>\n",
              "      <th>1</th>\n",
              "      <td>merchant_industry</td>\n",
              "      <td>Industry in which the merchant operates</td>\n",
              "    </tr>\n",
              "    <tr>\n",
              "      <th>2</th>\n",
              "      <td>merchant_category</td>\n",
              "      <td>Business category of the merchant</td>\n",
              "    </tr>\n",
              "    <tr>\n",
              "      <th>3</th>\n",
              "      <td>merchant_country</td>\n",
              "      <td>The country in which the merchant is based</td>\n",
              "    </tr>\n",
              "    <tr>\n",
              "      <th>4</th>\n",
              "      <td>currency</td>\n",
              "      <td>The local currency the transcation was processed in</td>\n",
              "    </tr>\n",
              "    <tr>\n",
              "      <th>5</th>\n",
              "      <td>transaction_week_start_date</td>\n",
              "      <td>Week in which the transaction occured</td>\n",
              "    </tr>\n",
              "    <tr>\n",
              "      <th>6</th>\n",
              "      <td>channel</td>\n",
              "      <td>The payment method for the transaction</td>\n",
              "    </tr>\n",
              "    <tr>\n",
              "      <th>7</th>\n",
              "      <td>transaction_count</td>\n",
              "      <td>The number of transactions for the day</td>\n",
              "    </tr>\n",
              "    <tr>\n",
              "      <th>8</th>\n",
              "      <td>transaction_volume_usd</td>\n",
              "      <td>The total value of the transactions converted to USD</td>\n",
              "    </tr>\n",
              "    <tr>\n",
              "      <th>9</th>\n",
              "      <td>fraud_count</td>\n",
              "      <td>The number of transactions which were reported as fraudulent for the day</td>\n",
              "    </tr>\n",
              "    <tr>\n",
              "      <th>10</th>\n",
              "      <td>fraud_volume_usd</td>\n",
              "      <td>The total value of the transactions which were reported as fraudulent converted to USD</td>\n",
              "    </tr>\n",
              "    <tr>\n",
              "      <th>11</th>\n",
              "      <td>otp_fraud</td>\n",
              "      <td>The number of fraudulent transactions which were authenticated using a one time pin</td>\n",
              "    </tr>\n",
              "    <tr>\n",
              "      <th>12</th>\n",
              "      <td>otp_all_transactions</td>\n",
              "      <td>The number of total transactions which were authenticated using a one time pin</td>\n",
              "    </tr>\n",
              "  </tbody>\n",
              "</table>\n",
              "</div>"
            ],
            "text/plain": [
              "                     Field name                                                                       Field description\n",
              "0                   merchant_id                                   Randomly generated identifier to represent a merchant\n",
              "1             merchant_industry                                                 Industry in which the merchant operates\n",
              "2             merchant_category                                                       Business category of the merchant\n",
              "3              merchant_country                                              The country in which the merchant is based\n",
              "4                      currency                                    The local currency the transcation was processed in \n",
              "5   transaction_week_start_date                                                   Week in which the transaction occured\n",
              "6                       channel                                                  The payment method for the transaction\n",
              "7             transaction_count                                                  The number of transactions for the day\n",
              "8        transaction_volume_usd                                    The total value of the transactions converted to USD\n",
              "9                   fraud_count                The number of transactions which were reported as fraudulent for the day\n",
              "10             fraud_volume_usd  The total value of the transactions which were reported as fraudulent converted to USD\n",
              "11                    otp_fraud     The number of fraudulent transactions which were authenticated using a one time pin\n",
              "12         otp_all_transactions          The number of total transactions which were authenticated using a one time pin"
            ]
          },
          "metadata": {},
          "execution_count": 8
        }
      ]
    },
    {
      "cell_type": "code",
      "metadata": {
        "colab": {
          "base_uri": "https://localhost:8080/",
          "height": 196
        },
        "id": "q1yJSkkAmpnH",
        "outputId": "74ca47ca-d192-40fd-c4a2-3f0908bf1834"
      },
      "source": [
        "# Next, we load combined_df, the original unprocessed June & July data.\n",
        "\n",
        "combined_df = pd.read_csv('combined_df.csv')\n",
        "print(f'shape of combined_df; {combined_df.shape}\\n')\n",
        "combined_df.head(3)"
      ],
      "execution_count": 9,
      "outputs": [
        {
          "output_type": "stream",
          "name": "stdout",
          "text": [
            "shape of combined_df; (17418, 13)\n",
            "\n"
          ]
        },
        {
          "output_type": "execute_result",
          "data": {
            "text/html": [
              "<div>\n",
              "<style scoped>\n",
              "    .dataframe tbody tr th:only-of-type {\n",
              "        vertical-align: middle;\n",
              "    }\n",
              "\n",
              "    .dataframe tbody tr th {\n",
              "        vertical-align: top;\n",
              "    }\n",
              "\n",
              "    .dataframe thead th {\n",
              "        text-align: right;\n",
              "    }\n",
              "</style>\n",
              "<table border=\"1\" class=\"dataframe\">\n",
              "  <thead>\n",
              "    <tr style=\"text-align: right;\">\n",
              "      <th></th>\n",
              "      <th>merchant_id</th>\n",
              "      <th>merchant_industry</th>\n",
              "      <th>merchant_category</th>\n",
              "      <th>merchant_country</th>\n",
              "      <th>currency</th>\n",
              "      <th>transaction_week_start_date</th>\n",
              "      <th>channel</th>\n",
              "      <th>transaction_count</th>\n",
              "      <th>transaction_volume_usd</th>\n",
              "      <th>fraud_count</th>\n",
              "      <th>fraud_volume_usd</th>\n",
              "      <th>otp_fraud</th>\n",
              "      <th>otp_all_transactions</th>\n",
              "    </tr>\n",
              "  </thead>\n",
              "  <tbody>\n",
              "    <tr>\n",
              "      <th>0</th>\n",
              "      <td>1</td>\n",
              "      <td>GOODS-PHYSICAL</td>\n",
              "      <td>e-Commerce</td>\n",
              "      <td>Nigeria</td>\n",
              "      <td>NGN</td>\n",
              "      <td>2021-06-07</td>\n",
              "      <td>card</td>\n",
              "      <td>5</td>\n",
              "      <td>231.590551</td>\n",
              "      <td>0</td>\n",
              "      <td>0.0</td>\n",
              "      <td>0</td>\n",
              "      <td>5</td>\n",
              "    </tr>\n",
              "    <tr>\n",
              "      <th>1</th>\n",
              "      <td>5</td>\n",
              "      <td>SERVICES-LEGAL</td>\n",
              "      <td>Other</td>\n",
              "      <td>Nigeria</td>\n",
              "      <td>NGN</td>\n",
              "      <td>2021-06-07</td>\n",
              "      <td>card</td>\n",
              "      <td>2</td>\n",
              "      <td>210.203412</td>\n",
              "      <td>0</td>\n",
              "      <td>0.0</td>\n",
              "      <td>0</td>\n",
              "      <td>2</td>\n",
              "    </tr>\n",
              "    <tr>\n",
              "      <th>2</th>\n",
              "      <td>9</td>\n",
              "      <td>TRAVEL</td>\n",
              "      <td>Travel &amp; Hospitality</td>\n",
              "      <td>Nigeria</td>\n",
              "      <td>NGN</td>\n",
              "      <td>2021-06-07</td>\n",
              "      <td>card</td>\n",
              "      <td>4</td>\n",
              "      <td>223.097113</td>\n",
              "      <td>0</td>\n",
              "      <td>0.0</td>\n",
              "      <td>0</td>\n",
              "      <td>1</td>\n",
              "    </tr>\n",
              "  </tbody>\n",
              "</table>\n",
              "</div>"
            ],
            "text/plain": [
              "   merchant_id merchant_industry  ... otp_fraud otp_all_transactions\n",
              "0            1    GOODS-PHYSICAL  ...         0                    5\n",
              "1            5    SERVICES-LEGAL  ...         0                    2\n",
              "2            9            TRAVEL  ...         0                    1\n",
              "\n",
              "[3 rows x 13 columns]"
            ]
          },
          "metadata": {},
          "execution_count": 9
        }
      ]
    },
    {
      "cell_type": "markdown",
      "metadata": {
        "id": "N2LfeQwJo-wE"
      },
      "source": [
        "# Prescriptive EDA (PA2): "
      ]
    },
    {
      "cell_type": "markdown",
      "metadata": {
        "id": "l5ozVcY9AaQg"
      },
      "source": [
        "**Prescriptive Analytics:**<br>\n",
        "Prescriptive analytics attempt to quantify the effect of future decisions \n",
        "in order to advise on possible outcomes before the decisions are \n",
        "actually made.\n",
        "\n",
        "These analytics are all about providing advice\n",
        "\n",
        "These analytics go beyond descriptive and predictive analytics by \n",
        "recommending one or more possible courses of action. \n",
        "\n",
        "In this notebook, we will attempt to build a Deep-Learning Model that can learn intricate patterns in the data, so as to properly classify future transactions as either `fraud` or `not-fraud`, with an associated probability score that can tell us how confident the model prediction is on each attempt.\n",
        "\n",
        "We shall combine this model with other behavioral insights to help fight fraudulent transactions as quickly as they occur."
      ]
    },
    {
      "cell_type": "markdown",
      "metadata": {
        "id": "bC1tb7gWC9T_"
      },
      "source": [
        "### 1. Let's see the split of fraud and non-fraud cases in the data"
      ]
    },
    {
      "cell_type": "code",
      "metadata": {
        "id": "ZK7daH9e88jB",
        "colab": {
          "base_uri": "https://localhost:8080/",
          "height": 162
        },
        "outputId": "4c21dc2f-8c0d-45a7-ce9f-093f593d7d57"
      },
      "source": [
        "# first let's add a column of True/False if fraud is reported or not.\n",
        "\n",
        "combined_df['is_fraud'] = np.where(combined_df['fraud_count'] > 0, True, False)\n",
        "combined_df.head(3)"
      ],
      "execution_count": 10,
      "outputs": [
        {
          "output_type": "execute_result",
          "data": {
            "text/html": [
              "<div>\n",
              "<style scoped>\n",
              "    .dataframe tbody tr th:only-of-type {\n",
              "        vertical-align: middle;\n",
              "    }\n",
              "\n",
              "    .dataframe tbody tr th {\n",
              "        vertical-align: top;\n",
              "    }\n",
              "\n",
              "    .dataframe thead th {\n",
              "        text-align: right;\n",
              "    }\n",
              "</style>\n",
              "<table border=\"1\" class=\"dataframe\">\n",
              "  <thead>\n",
              "    <tr style=\"text-align: right;\">\n",
              "      <th></th>\n",
              "      <th>merchant_id</th>\n",
              "      <th>merchant_industry</th>\n",
              "      <th>merchant_category</th>\n",
              "      <th>merchant_country</th>\n",
              "      <th>currency</th>\n",
              "      <th>transaction_week_start_date</th>\n",
              "      <th>channel</th>\n",
              "      <th>transaction_count</th>\n",
              "      <th>transaction_volume_usd</th>\n",
              "      <th>fraud_count</th>\n",
              "      <th>fraud_volume_usd</th>\n",
              "      <th>otp_fraud</th>\n",
              "      <th>otp_all_transactions</th>\n",
              "      <th>is_fraud</th>\n",
              "    </tr>\n",
              "  </thead>\n",
              "  <tbody>\n",
              "    <tr>\n",
              "      <th>0</th>\n",
              "      <td>1</td>\n",
              "      <td>GOODS-PHYSICAL</td>\n",
              "      <td>e-Commerce</td>\n",
              "      <td>Nigeria</td>\n",
              "      <td>NGN</td>\n",
              "      <td>2021-06-07</td>\n",
              "      <td>card</td>\n",
              "      <td>5</td>\n",
              "      <td>231.590551</td>\n",
              "      <td>0</td>\n",
              "      <td>0.0</td>\n",
              "      <td>0</td>\n",
              "      <td>5</td>\n",
              "      <td>False</td>\n",
              "    </tr>\n",
              "    <tr>\n",
              "      <th>1</th>\n",
              "      <td>5</td>\n",
              "      <td>SERVICES-LEGAL</td>\n",
              "      <td>Other</td>\n",
              "      <td>Nigeria</td>\n",
              "      <td>NGN</td>\n",
              "      <td>2021-06-07</td>\n",
              "      <td>card</td>\n",
              "      <td>2</td>\n",
              "      <td>210.203412</td>\n",
              "      <td>0</td>\n",
              "      <td>0.0</td>\n",
              "      <td>0</td>\n",
              "      <td>2</td>\n",
              "      <td>False</td>\n",
              "    </tr>\n",
              "    <tr>\n",
              "      <th>2</th>\n",
              "      <td>9</td>\n",
              "      <td>TRAVEL</td>\n",
              "      <td>Travel &amp; Hospitality</td>\n",
              "      <td>Nigeria</td>\n",
              "      <td>NGN</td>\n",
              "      <td>2021-06-07</td>\n",
              "      <td>card</td>\n",
              "      <td>4</td>\n",
              "      <td>223.097113</td>\n",
              "      <td>0</td>\n",
              "      <td>0.0</td>\n",
              "      <td>0</td>\n",
              "      <td>1</td>\n",
              "      <td>False</td>\n",
              "    </tr>\n",
              "  </tbody>\n",
              "</table>\n",
              "</div>"
            ],
            "text/plain": [
              "   merchant_id merchant_industry  ... otp_all_transactions is_fraud\n",
              "0            1    GOODS-PHYSICAL  ...                    5    False\n",
              "1            5    SERVICES-LEGAL  ...                    2    False\n",
              "2            9            TRAVEL  ...                    1    False\n",
              "\n",
              "[3 rows x 14 columns]"
            ]
          },
          "metadata": {},
          "execution_count": 10
        }
      ]
    },
    {
      "cell_type": "code",
      "metadata": {
        "colab": {
          "base_uri": "https://localhost:8080/",
          "height": 407
        },
        "id": "SmCPpqxVFZWU",
        "outputId": "fd85951a-f285-4d32-b5d1-fb60e86b2fd5"
      },
      "source": [
        "size = (10, 6)\n",
        "plt.figure(figsize=size)\n",
        "sns.countplot(x='is_fraud', data=combined_df), \n",
        "plt.title('Fraud vs Non-fraud Transactions Count', fontdict=fontDict2)\n",
        "height1 = len(combined_df.is_fraud)-sum(combined_df.is_fraud)\n",
        "height2 = sum(combined_df.is_fraud)\n",
        "plt.text(0, height1+100, str(height1), fontdict=fontDict2)\n",
        "plt.text(1, height2+200, str(height2), fontdict=fontDict2)\n",
        "\n",
        "plt.show()"
      ],
      "execution_count": 11,
      "outputs": [
        {
          "output_type": "display_data",
          "data": {
            "image/png": "[encoded data removed]",
            "text/plain": [
              "<Figure size 720x432 with 1 Axes>"
            ]
          },
          "metadata": {
            "needs_background": "light"
          }
        }
      ]
    },
    {
      "cell_type": "markdown",
      "metadata": {
        "id": "QUlXKkHXNchh"
      },
      "source": [
        "**We have a grossly imbalanced dataset**\n",
        "\n",
        "Let's load the earlier preprocessed data set from Diagnostic Analytics stage"
      ]
    },
    {
      "cell_type": "code",
      "metadata": {
        "colab": {
          "base_uri": "https://localhost:8080/",
          "height": 159
        },
        "id": "L9CtaOUmNi0Z",
        "outputId": "4157cc4e-1719-48fb-dc68-ae1a16e6985b"
      },
      "source": [
        "processed_df = pd.read_csv('processed_mi_combined.csv')\n",
        "print('shape is {}'.format(processed_df.shape))\n",
        "processed_df.head(3)"
      ],
      "execution_count": 12,
      "outputs": [
        {
          "output_type": "stream",
          "name": "stdout",
          "text": [
            "shape is (17418, 8)\n"
          ]
        },
        {
          "output_type": "execute_result",
          "data": {
            "text/html": [
              "<div>\n",
              "<style scoped>\n",
              "    .dataframe tbody tr th:only-of-type {\n",
              "        vertical-align: middle;\n",
              "    }\n",
              "\n",
              "    .dataframe tbody tr th {\n",
              "        vertical-align: top;\n",
              "    }\n",
              "\n",
              "    .dataframe thead th {\n",
              "        text-align: right;\n",
              "    }\n",
              "</style>\n",
              "<table border=\"1\" class=\"dataframe\">\n",
              "  <thead>\n",
              "    <tr style=\"text-align: right;\">\n",
              "      <th></th>\n",
              "      <th>merchant_category</th>\n",
              "      <th>transaction_volume_usd</th>\n",
              "      <th>otp_fraud</th>\n",
              "      <th>merchant_industry</th>\n",
              "      <th>transaction_week_start_date</th>\n",
              "      <th>fraud_count</th>\n",
              "      <th>centroid</th>\n",
              "      <th>pt2centroid</th>\n",
              "    </tr>\n",
              "  </thead>\n",
              "  <tbody>\n",
              "    <tr>\n",
              "      <th>0</th>\n",
              "      <td>0.0</td>\n",
              "      <td>0.823529</td>\n",
              "      <td>0.0</td>\n",
              "      <td>0.000000</td>\n",
              "      <td>0.0</td>\n",
              "      <td>0.0</td>\n",
              "      <td>20</td>\n",
              "      <td>0.190176</td>\n",
              "    </tr>\n",
              "    <tr>\n",
              "      <th>1</th>\n",
              "      <td>0.1</td>\n",
              "      <td>0.823529</td>\n",
              "      <td>0.0</td>\n",
              "      <td>0.016129</td>\n",
              "      <td>0.0</td>\n",
              "      <td>0.0</td>\n",
              "      <td>20</td>\n",
              "      <td>0.179691</td>\n",
              "    </tr>\n",
              "    <tr>\n",
              "      <th>2</th>\n",
              "      <td>0.2</td>\n",
              "      <td>0.823529</td>\n",
              "      <td>0.0</td>\n",
              "      <td>0.032258</td>\n",
              "      <td>0.0</td>\n",
              "      <td>0.0</td>\n",
              "      <td>20</td>\n",
              "      <td>0.178412</td>\n",
              "    </tr>\n",
              "  </tbody>\n",
              "</table>\n",
              "</div>"
            ],
            "text/plain": [
              "   merchant_category  transaction_volume_usd  ...  centroid  pt2centroid\n",
              "0                0.0                0.823529  ...        20     0.190176\n",
              "1                0.1                0.823529  ...        20     0.179691\n",
              "2                0.2                0.823529  ...        20     0.178412\n",
              "\n",
              "[3 rows x 8 columns]"
            ]
          },
          "metadata": {},
          "execution_count": 12
        }
      ]
    },
    {
      "cell_type": "markdown",
      "metadata": {
        "id": "XYRYIQVQZvps"
      },
      "source": [
        "Let's see the numerical distribution, so we know how to normalize the centroid column"
      ]
    },
    {
      "cell_type": "code",
      "metadata": {
        "colab": {
          "base_uri": "https://localhost:8080/",
          "height": 499
        },
        "id": "7IXNvqaxY_9B",
        "outputId": "5bba16f9-f6e8-4da3-c586-ceab31f5bf41"
      },
      "source": [
        "processed_df.hist(figsize=(12,8))\n",
        "plt.show()"
      ],
      "execution_count": 13,
      "outputs": [
        {
          "output_type": "display_data",
          "data": {
            "image/png": "[encoded data removed]",
            "text/plain": [
              "<Figure size 864x576 with 9 Axes>"
            ]
          },
          "metadata": {
            "needs_background": "light"
          }
        }
      ]
    },
    {
      "cell_type": "markdown",
      "metadata": {
        "id": "TixYi-qVvL3n"
      },
      "source": [
        "Let's use min-ma to normalize the `centroid` column"
      ]
    },
    {
      "cell_type": "code",
      "metadata": {
        "id": "U-2RByKdaPJT"
      },
      "source": [
        "def minMaxScaler(numArr):\n",
        "  minx = np.min(numArr)\n",
        "  maxx = np.max(numArr)\n",
        "  numArr = (numArr - minx) / (maxx - minx)\n",
        "  return numArr"
      ],
      "execution_count": 14,
      "outputs": []
    },
    {
      "cell_type": "code",
      "metadata": {
        "id": "3Cmuw3gfwbfA"
      },
      "source": [
        "processed_df.centroid = minMaxScaler(processed_df.centroid)"
      ],
      "execution_count": 15,
      "outputs": []
    },
    {
      "cell_type": "code",
      "metadata": {
        "colab": {
          "base_uri": "https://localhost:8080/"
        },
        "id": "0hS4jC9NvoIQ",
        "outputId": "97b9784b-7b01-4e52-b99a-aebff5931af8"
      },
      "source": [
        "# check for missing values\n",
        "processed_df.isna().any().sum()"
      ],
      "execution_count": 16,
      "outputs": [
        {
          "output_type": "execute_result",
          "data": {
            "text/plain": [
              "0"
            ]
          },
          "metadata": {},
          "execution_count": 16
        }
      ]
    },
    {
      "cell_type": "markdown",
      "metadata": {
        "id": "OnxGDIl5gVyF"
      },
      "source": [
        "**Choosing and creating the target variable**\n",
        "\n",
        "Since we want to predict if a transaction is fraud or not using the `fraud_count` column for each observation. Let's convert it to a binary class of 1 and 0 for True and False if it's fraud or not."
      ]
    },
    {
      "cell_type": "code",
      "metadata": {
        "colab": {
          "base_uri": "https://localhost:8080/",
          "height": 142
        },
        "id": "uXXwT0GvSIe0",
        "outputId": "622e1730-f4fe-47e9-f692-aa3de1b1a7b6"
      },
      "source": [
        "# let's make a target column\n",
        "processed_df['target'] = combined_df.is_fraud\n",
        "\n",
        "# next, let's drop the fraud_count variable and the is_fraud variable from combined_df\n",
        "processed_df.drop(columns=['fraud_count'], inplace=True)\n",
        "combined_df.drop(columns=['is_fraud'], inplace=True)\n",
        "\n",
        "processed_df.head(3)"
      ],
      "execution_count": 19,
      "outputs": [
        {
          "output_type": "execute_result",
          "data": {
            "text/html": [
              "<div>\n",
              "<style scoped>\n",
              "    .dataframe tbody tr th:only-of-type {\n",
              "        vertical-align: middle;\n",
              "    }\n",
              "\n",
              "    .dataframe tbody tr th {\n",
              "        vertical-align: top;\n",
              "    }\n",
              "\n",
              "    .dataframe thead th {\n",
              "        text-align: right;\n",
              "    }\n",
              "</style>\n",
              "<table border=\"1\" class=\"dataframe\">\n",
              "  <thead>\n",
              "    <tr style=\"text-align: right;\">\n",
              "      <th></th>\n",
              "      <th>merchant_category</th>\n",
              "      <th>transaction_volume_usd</th>\n",
              "      <th>otp_fraud</th>\n",
              "      <th>merchant_industry</th>\n",
              "      <th>transaction_week_start_date</th>\n",
              "      <th>centroid</th>\n",
              "      <th>pt2centroid</th>\n",
              "      <th>target</th>\n",
              "    </tr>\n",
              "  </thead>\n",
              "  <tbody>\n",
              "    <tr>\n",
              "      <th>0</th>\n",
              "      <td>0.0</td>\n",
              "      <td>0.823529</td>\n",
              "      <td>0.0</td>\n",
              "      <td>0.000000</td>\n",
              "      <td>0.0</td>\n",
              "      <td>0.512821</td>\n",
              "      <td>0.190176</td>\n",
              "      <td>False</td>\n",
              "    </tr>\n",
              "    <tr>\n",
              "      <th>1</th>\n",
              "      <td>0.1</td>\n",
              "      <td>0.823529</td>\n",
              "      <td>0.0</td>\n",
              "      <td>0.016129</td>\n",
              "      <td>0.0</td>\n",
              "      <td>0.512821</td>\n",
              "      <td>0.179691</td>\n",
              "      <td>False</td>\n",
              "    </tr>\n",
              "    <tr>\n",
              "      <th>2</th>\n",
              "      <td>0.2</td>\n",
              "      <td>0.823529</td>\n",
              "      <td>0.0</td>\n",
              "      <td>0.032258</td>\n",
              "      <td>0.0</td>\n",
              "      <td>0.512821</td>\n",
              "      <td>0.178412</td>\n",
              "      <td>False</td>\n",
              "    </tr>\n",
              "  </tbody>\n",
              "</table>\n",
              "</div>"
            ],
            "text/plain": [
              "   merchant_category  transaction_volume_usd  ...  pt2centroid  target\n",
              "0                0.0                0.823529  ...     0.190176   False\n",
              "1                0.1                0.823529  ...     0.179691   False\n",
              "2                0.2                0.823529  ...     0.178412   False\n",
              "\n",
              "[3 rows x 8 columns]"
            ]
          },
          "metadata": {},
          "execution_count": 19
        }
      ]
    },
    {
      "cell_type": "code",
      "metadata": {
        "colab": {
          "base_uri": "https://localhost:8080/",
          "height": 142
        },
        "id": "wY4B1RcwXHtB",
        "outputId": "f756fdbd-e7c1-44c6-a020-1a3f954c47a8"
      },
      "source": [
        "# let's make True or Flase, 0 or 1\n",
        "processed_df['target'] = processed_df['target'].astype('int')\n",
        "processed_df.head(3)"
      ],
      "execution_count": 20,
      "outputs": [
        {
          "output_type": "execute_result",
          "data": {
            "text/html": [
              "<div>\n",
              "<style scoped>\n",
              "    .dataframe tbody tr th:only-of-type {\n",
              "        vertical-align: middle;\n",
              "    }\n",
              "\n",
              "    .dataframe tbody tr th {\n",
              "        vertical-align: top;\n",
              "    }\n",
              "\n",
              "    .dataframe thead th {\n",
              "        text-align: right;\n",
              "    }\n",
              "</style>\n",
              "<table border=\"1\" class=\"dataframe\">\n",
              "  <thead>\n",
              "    <tr style=\"text-align: right;\">\n",
              "      <th></th>\n",
              "      <th>merchant_category</th>\n",
              "      <th>transaction_volume_usd</th>\n",
              "      <th>otp_fraud</th>\n",
              "      <th>merchant_industry</th>\n",
              "      <th>transaction_week_start_date</th>\n",
              "      <th>centroid</th>\n",
              "      <th>pt2centroid</th>\n",
              "      <th>target</th>\n",
              "    </tr>\n",
              "  </thead>\n",
              "  <tbody>\n",
              "    <tr>\n",
              "      <th>0</th>\n",
              "      <td>0.0</td>\n",
              "      <td>0.823529</td>\n",
              "      <td>0.0</td>\n",
              "      <td>0.000000</td>\n",
              "      <td>0.0</td>\n",
              "      <td>0.512821</td>\n",
              "      <td>0.190176</td>\n",
              "      <td>0</td>\n",
              "    </tr>\n",
              "    <tr>\n",
              "      <th>1</th>\n",
              "      <td>0.1</td>\n",
              "      <td>0.823529</td>\n",
              "      <td>0.0</td>\n",
              "      <td>0.016129</td>\n",
              "      <td>0.0</td>\n",
              "      <td>0.512821</td>\n",
              "      <td>0.179691</td>\n",
              "      <td>0</td>\n",
              "    </tr>\n",
              "    <tr>\n",
              "      <th>2</th>\n",
              "      <td>0.2</td>\n",
              "      <td>0.823529</td>\n",
              "      <td>0.0</td>\n",
              "      <td>0.032258</td>\n",
              "      <td>0.0</td>\n",
              "      <td>0.512821</td>\n",
              "      <td>0.178412</td>\n",
              "      <td>0</td>\n",
              "    </tr>\n",
              "  </tbody>\n",
              "</table>\n",
              "</div>"
            ],
            "text/plain": [
              "   merchant_category  transaction_volume_usd  ...  pt2centroid  target\n",
              "0                0.0                0.823529  ...     0.190176       0\n",
              "1                0.1                0.823529  ...     0.179691       0\n",
              "2                0.2                0.823529  ...     0.178412       0\n",
              "\n",
              "[3 rows x 8 columns]"
            ]
          },
          "metadata": {},
          "execution_count": 20
        }
      ]
    },
    {
      "cell_type": "code",
      "metadata": {
        "colab": {
          "base_uri": "https://localhost:8080/"
        },
        "id": "0XDZOioNSYHV",
        "outputId": "8fc498fa-a0af-45ae-a8b9-91ea98a3f9bb"
      },
      "source": [
        "# check for missing values\n",
        "processed_df.isna().any().sum()"
      ],
      "execution_count": 21,
      "outputs": [
        {
          "output_type": "execute_result",
          "data": {
            "text/plain": [
              "0"
            ]
          },
          "metadata": {},
          "execution_count": 21
        }
      ]
    },
    {
      "cell_type": "code",
      "metadata": {
        "colab": {
          "base_uri": "https://localhost:8080/",
          "height": 162
        },
        "id": "ATLoGG2-iuWk",
        "outputId": "e56159d2-29a9-4747-bd0b-43e10febc07e"
      },
      "source": [
        "# let's check the column deletion here\n",
        "combined_df.head(3)"
      ],
      "execution_count": 22,
      "outputs": [
        {
          "output_type": "execute_result",
          "data": {
            "text/html": [
              "<div>\n",
              "<style scoped>\n",
              "    .dataframe tbody tr th:only-of-type {\n",
              "        vertical-align: middle;\n",
              "    }\n",
              "\n",
              "    .dataframe tbody tr th {\n",
              "        vertical-align: top;\n",
              "    }\n",
              "\n",
              "    .dataframe thead th {\n",
              "        text-align: right;\n",
              "    }\n",
              "</style>\n",
              "<table border=\"1\" class=\"dataframe\">\n",
              "  <thead>\n",
              "    <tr style=\"text-align: right;\">\n",
              "      <th></th>\n",
              "      <th>merchant_id</th>\n",
              "      <th>merchant_industry</th>\n",
              "      <th>merchant_category</th>\n",
              "      <th>merchant_country</th>\n",
              "      <th>currency</th>\n",
              "      <th>transaction_week_start_date</th>\n",
              "      <th>channel</th>\n",
              "      <th>transaction_count</th>\n",
              "      <th>transaction_volume_usd</th>\n",
              "      <th>fraud_count</th>\n",
              "      <th>fraud_volume_usd</th>\n",
              "      <th>otp_fraud</th>\n",
              "      <th>otp_all_transactions</th>\n",
              "    </tr>\n",
              "  </thead>\n",
              "  <tbody>\n",
              "    <tr>\n",
              "      <th>0</th>\n",
              "      <td>1</td>\n",
              "      <td>GOODS-PHYSICAL</td>\n",
              "      <td>e-Commerce</td>\n",
              "      <td>Nigeria</td>\n",
              "      <td>NGN</td>\n",
              "      <td>2021-06-07</td>\n",
              "      <td>card</td>\n",
              "      <td>5</td>\n",
              "      <td>231.590551</td>\n",
              "      <td>0</td>\n",
              "      <td>0.0</td>\n",
              "      <td>0</td>\n",
              "      <td>5</td>\n",
              "    </tr>\n",
              "    <tr>\n",
              "      <th>1</th>\n",
              "      <td>5</td>\n",
              "      <td>SERVICES-LEGAL</td>\n",
              "      <td>Other</td>\n",
              "      <td>Nigeria</td>\n",
              "      <td>NGN</td>\n",
              "      <td>2021-06-07</td>\n",
              "      <td>card</td>\n",
              "      <td>2</td>\n",
              "      <td>210.203412</td>\n",
              "      <td>0</td>\n",
              "      <td>0.0</td>\n",
              "      <td>0</td>\n",
              "      <td>2</td>\n",
              "    </tr>\n",
              "    <tr>\n",
              "      <th>2</th>\n",
              "      <td>9</td>\n",
              "      <td>TRAVEL</td>\n",
              "      <td>Travel &amp; Hospitality</td>\n",
              "      <td>Nigeria</td>\n",
              "      <td>NGN</td>\n",
              "      <td>2021-06-07</td>\n",
              "      <td>card</td>\n",
              "      <td>4</td>\n",
              "      <td>223.097113</td>\n",
              "      <td>0</td>\n",
              "      <td>0.0</td>\n",
              "      <td>0</td>\n",
              "      <td>1</td>\n",
              "    </tr>\n",
              "  </tbody>\n",
              "</table>\n",
              "</div>"
            ],
            "text/plain": [
              "   merchant_id merchant_industry  ... otp_fraud otp_all_transactions\n",
              "0            1    GOODS-PHYSICAL  ...         0                    5\n",
              "1            5    SERVICES-LEGAL  ...         0                    2\n",
              "2            9            TRAVEL  ...         0                    1\n",
              "\n",
              "[3 rows x 13 columns]"
            ]
          },
          "metadata": {},
          "execution_count": 22
        }
      ]
    },
    {
      "cell_type": "markdown",
      "metadata": {
        "id": "dkV8T1gxWLqH"
      },
      "source": [
        "### 2. Splitting the data into Train, Validate and Test sets"
      ]
    },
    {
      "cell_type": "code",
      "metadata": {
        "colab": {
          "base_uri": "https://localhost:8080/"
        },
        "id": "_SvmfgTfWRly",
        "outputId": "b022b41c-6c20-458b-9cbd-54fdd242b784"
      },
      "source": [
        "# Use a utility from sklearn to split and shuffle your dataset.\n",
        "train_df, test_df = train_test_split(processed_df, test_size=0.2)\n",
        "train_df, val_df = train_test_split(train_df, test_size=0.2)\n",
        "\n",
        "# Form np arrays of labels and features.\n",
        "train_labels = np.array(train_df.pop('target'))\n",
        "bool_train_labels = train_labels != 0\n",
        "val_labels = np.array(val_df.pop('target'))\n",
        "test_labels = np.array(test_df.pop('target'))\n",
        "\n",
        "train_features = np.array(train_df)\n",
        "val_features = np.array(val_df)\n",
        "test_features = np.array(test_df)\n",
        "\n",
        "print('split!')"
      ],
      "execution_count": 23,
      "outputs": [
        {
          "output_type": "stream",
          "name": "stdout",
          "text": [
            "split!\n"
          ]
        }
      ]
    },
    {
      "cell_type": "code",
      "metadata": {
        "colab": {
          "base_uri": "https://localhost:8080/"
        },
        "id": "PAbhVnQN59Uu",
        "outputId": "754015bc-e8ef-454b-dad2-3fc8688d370a"
      },
      "source": [
        "print(f'train-features: {train_features.shape}, train-labels: {train_labels.shape}')\n",
        "print(f'val-features: {val_features.shape}, val-labels: {val_labels.shape}')\n",
        "print(f'test-features: {test_features.shape}, test-labels: {test_labels.shape}')"
      ],
      "execution_count": 24,
      "outputs": [
        {
          "output_type": "stream",
          "name": "stdout",
          "text": [
            "train-features: (11147, 7), train-labels: (11147,)\n",
            "val-features: (2787, 7), val-labels: (2787,)\n",
            "test-features: (3484, 7), test-labels: (3484,)\n"
          ]
        }
      ]
    },
    {
      "cell_type": "markdown",
      "metadata": {
        "id": "9vTW3M956ymt"
      },
      "source": [
        "### 3. Build a binary classification model"
      ]
    },
    {
      "cell_type": "code",
      "metadata": {
        "colab": {
          "base_uri": "https://localhost:8080/"
        },
        "id": "06gdW2w06Nhl",
        "outputId": "93877602-5b9e-467a-e58b-039cfa2f9556"
      },
      "source": [
        "from tensorflow import keras\n",
        "\n",
        "model = keras.Sequential(\n",
        "    [\n",
        "        keras.layers.Dense(\n",
        "            256, activation=\"relu\", input_shape=(train_features.shape[-1],)\n",
        "        ),\n",
        "        keras.layers.Dense(256, activation=\"relu\"),\n",
        "        keras.layers.Dropout(0.3),\n",
        "        keras.layers.Dense(256, activation=\"relu\"),\n",
        "        keras.layers.Dropout(0.3),\n",
        "        keras.layers.Dense(1, activation=\"sigmoid\"),\n",
        "    ]\n",
        ")\n",
        "model.summary()"
      ],
      "execution_count": 25,
      "outputs": [
        {
          "output_type": "stream",
          "name": "stdout",
          "text": [
            "Model: \"sequential\"\n",
            "_________________________________________________________________\n",
            " Layer (type)                Output Shape              Param #   \n",
            "=================================================================\n",
            " dense (Dense)               (None, 256)               2048      \n",
            "                                                                 \n",
            " dense_1 (Dense)             (None, 256)               65792     \n",
            "                                                                 \n",
            " dropout (Dropout)           (None, 256)               0         \n",
            "                                                                 \n",
            " dense_2 (Dense)             (None, 256)               65792     \n",
            "                                                                 \n",
            " dropout_1 (Dropout)         (None, 256)               0         \n",
            "                                                                 \n",
            " dense_3 (Dense)             (None, 1)                 257       \n",
            "                                                                 \n",
            "=================================================================\n",
            "Total params: 133,889\n",
            "Trainable params: 133,889\n",
            "Non-trainable params: 0\n",
            "_________________________________________________________________\n"
          ]
        }
      ]
    },
    {
      "cell_type": "markdown",
      "metadata": {
        "id": "esDTbtEw7C8K"
      },
      "source": [
        "### 4. Train the model with class_weight argument\n",
        "\n",
        "Because of the gross imbalance, we would appemd weights to each class that sort of balances out the learning experience for the model and makes it possible for the model to learn as well from the minority class as from the majority."
      ]
    },
    {
      "cell_type": "code",
      "metadata": {
        "id": "8eyypJQ27aE1"
      },
      "source": [
        "# Define evaluationmetrics\n",
        "\n",
        "METRICS = [\n",
        "      keras.metrics.TruePositives(name='tp'),\n",
        "      keras.metrics.FalsePositives(name='fp'),\n",
        "      keras.metrics.TrueNegatives(name='tn'),\n",
        "      keras.metrics.FalseNegatives(name='fn'), \n",
        "      keras.metrics.BinaryAccuracy(name='accuracy'),\n",
        "      keras.metrics.Precision(name='precision'),\n",
        "      keras.metrics.Recall(name='recall'),\n",
        "      keras.metrics.AUC(name='auc'),\n",
        "      keras.metrics.AUC(name='prc', curve='PR'), # precision-recall curve\n",
        "]"
      ],
      "execution_count": 26,
      "outputs": []
    },
    {
      "cell_type": "code",
      "metadata": {
        "id": "p0V65c68BK1e"
      },
      "source": [
        "EPOCHS = 100\n",
        "BATCH_SIZE = 256\n",
        "\n",
        "early_stopping = tf.keras.callbacks.EarlyStopping(\n",
        "    monitor='val_prc', \n",
        "    verbose=1,\n",
        "    patience=10,\n",
        "    mode='max',\n",
        "    restore_best_weights=True)"
      ],
      "execution_count": 27,
      "outputs": []
    },
    {
      "cell_type": "code",
      "metadata": {
        "colab": {
          "base_uri": "https://localhost:8080/"
        },
        "id": "HIb_VjJm72od",
        "outputId": "2483a6c3-5949-494a-9791-0523e5b1915d"
      },
      "source": [
        "from sklearn.utils import class_weight\n",
        "\n",
        "# define the class weights\n",
        "class_weights = class_weight.compute_class_weight('balanced',\n",
        "                                                 np.unique(train_labels),\n",
        "                                                 train_labels)\n",
        "\n",
        "# Convert classweights from array to dict\n",
        "class_weights = dict(enumerate(class_weights))\n",
        "print(f'class weights: {class_weights}')"
      ],
      "execution_count": 28,
      "outputs": [
        {
          "output_type": "stream",
          "name": "stdout",
          "text": [
            "class weights: {0: 0.5036143489653926, 1: 69.66875}\n"
          ]
        }
      ]
    },
    {
      "cell_type": "code",
      "metadata": {
        "colab": {
          "base_uri": "https://localhost:8080/"
        },
        "id": "OW-E4AB-7rq5",
        "outputId": "cf8cfa80-1bc6-4a48-e66a-cc6ce1a40d57"
      },
      "source": [
        "model.compile(\n",
        "    optimizer=keras.optimizers.Adam(1e-2), loss=\"binary_crossentropy\", metrics=METRICS\n",
        ")\n",
        "\n",
        "# Fit the model with the class weights\n",
        "baseline_history = model.fit(\n",
        "    train_features,\n",
        "    train_labels,\n",
        "    batch_size=BATCH_SIZE,\n",
        "    epochs=EPOCHS,\n",
        "    verbose=1,\n",
        "    callbacks=[early_stopping],\n",
        "    validation_data=(val_features, val_labels),\n",
        "    class_weight=class_weights\n",
        ")"
      ],
      "execution_count": 29,
      "outputs": [
        {
          "output_type": "stream",
          "name": "stdout",
          "text": [
            "Epoch 1/100\n",
            "44/44 [==============================] - 5s 43ms/step - loss: 0.7193 - tp: 52.0000 - fp: 3828.0000 - tn: 7239.0000 - fn: 28.0000 - accuracy: 0.6541 - precision: 0.0134 - recall: 0.6500 - auc: 0.7138 - prc: 0.0296 - val_loss: 0.4635 - val_tp: 7.0000 - val_fp: 765.0000 - val_tn: 2014.0000 - val_fn: 1.0000 - val_accuracy: 0.7252 - val_precision: 0.0091 - val_recall: 0.8750 - val_auc: 0.9059 - val_prc: 0.1563\n",
            "Epoch 2/100\n",
            "44/44 [==============================] - 1s 14ms/step - loss: 0.4022 - tp: 68.0000 - fp: 2615.0000 - tn: 8452.0000 - fn: 12.0000 - accuracy: 0.7643 - precision: 0.0253 - recall: 0.8500 - auc: 0.8943 - prc: 0.0708 - val_loss: 0.7905 - val_tp: 8.0000 - val_fp: 1387.0000 - val_tn: 1392.0000 - val_fn: 0.0000e+00 - val_accuracy: 0.5023 - val_precision: 0.0057 - val_recall: 1.0000 - val_auc: 0.9303 - val_prc: 0.1574\n",
            "Epoch 3/100\n",
            "44/44 [==============================] - 1s 14ms/step - loss: 0.4024 - tp: 70.0000 - fp: 3071.0000 - tn: 7996.0000 - fn: 10.0000 - accuracy: 0.7236 - precision: 0.0223 - recall: 0.8750 - auc: 0.8881 - prc: 0.1131 - val_loss: 0.8354 - val_tp: 8.0000 - val_fp: 1134.0000 - val_tn: 1645.0000 - val_fn: 0.0000e+00 - val_accuracy: 0.5931 - val_precision: 0.0070 - val_recall: 1.0000 - val_auc: 0.9424 - val_prc: 0.1893\n",
            "Epoch 4/100\n",
            "44/44 [==============================] - 1s 14ms/step - loss: 0.3661 - tp: 71.0000 - fp: 2702.0000 - tn: 8365.0000 - fn: 9.0000 - accuracy: 0.7568 - precision: 0.0256 - recall: 0.8875 - auc: 0.9012 - prc: 0.1787 - val_loss: 0.7066 - val_tp: 8.0000 - val_fp: 963.0000 - val_tn: 1816.0000 - val_fn: 0.0000e+00 - val_accuracy: 0.6545 - val_precision: 0.0082 - val_recall: 1.0000 - val_auc: 0.9290 - val_prc: 0.1741\n",
            "Epoch 5/100\n",
            "44/44 [==============================] - 1s 15ms/step - loss: 0.4009 - tp: 74.0000 - fp: 3108.0000 - tn: 7959.0000 - fn: 6.0000 - accuracy: 0.7206 - precision: 0.0233 - recall: 0.9250 - auc: 0.8930 - prc: 0.1318 - val_loss: 0.2071 - val_tp: 6.0000 - val_fp: 393.0000 - val_tn: 2386.0000 - val_fn: 2.0000 - val_accuracy: 0.8583 - val_precision: 0.0150 - val_recall: 0.7500 - val_auc: 0.9358 - val_prc: 0.2167\n",
            "Epoch 6/100\n",
            "44/44 [==============================] - 1s 14ms/step - loss: 0.3924 - tp: 74.0000 - fp: 2588.0000 - tn: 8479.0000 - fn: 6.0000 - accuracy: 0.7673 - precision: 0.0278 - recall: 0.9250 - auc: 0.9176 - prc: 0.2139 - val_loss: 0.4012 - val_tp: 7.0000 - val_fp: 789.0000 - val_tn: 1990.0000 - val_fn: 1.0000 - val_accuracy: 0.7165 - val_precision: 0.0088 - val_recall: 0.8750 - val_auc: 0.8971 - val_prc: 0.1715\n",
            "Epoch 7/100\n",
            "44/44 [==============================] - 1s 13ms/step - loss: 0.3875 - tp: 68.0000 - fp: 2711.0000 - tn: 8356.0000 - fn: 12.0000 - accuracy: 0.7557 - precision: 0.0245 - recall: 0.8500 - auc: 0.8967 - prc: 0.2696 - val_loss: 0.3307 - val_tp: 7.0000 - val_fp: 721.0000 - val_tn: 2058.0000 - val_fn: 1.0000 - val_accuracy: 0.7409 - val_precision: 0.0096 - val_recall: 0.8750 - val_auc: 0.9323 - val_prc: 0.1952\n",
            "Epoch 8/100\n",
            "44/44 [==============================] - 1s 14ms/step - loss: 0.4956 - tp: 74.0000 - fp: 3945.0000 - tn: 7122.0000 - fn: 6.0000 - accuracy: 0.6456 - precision: 0.0184 - recall: 0.9250 - auc: 0.8390 - prc: 0.0617 - val_loss: 0.2362 - val_tp: 5.0000 - val_fp: 266.0000 - val_tn: 2513.0000 - val_fn: 3.0000 - val_accuracy: 0.9035 - val_precision: 0.0185 - val_recall: 0.6250 - val_auc: 0.9100 - val_prc: 0.1805\n",
            "Epoch 9/100\n",
            "44/44 [==============================] - 1s 13ms/step - loss: 0.4272 - tp: 69.0000 - fp: 3004.0000 - tn: 8063.0000 - fn: 11.0000 - accuracy: 0.7295 - precision: 0.0225 - recall: 0.8625 - auc: 0.8765 - prc: 0.1344 - val_loss: 0.5757 - val_tp: 8.0000 - val_fp: 1232.0000 - val_tn: 1547.0000 - val_fn: 0.0000e+00 - val_accuracy: 0.5579 - val_precision: 0.0065 - val_recall: 1.0000 - val_auc: 0.9550 - val_prc: 0.2466\n",
            "Epoch 10/100\n",
            "44/44 [==============================] - 1s 14ms/step - loss: 0.3796 - tp: 77.0000 - fp: 3322.0000 - tn: 7745.0000 - fn: 3.0000 - accuracy: 0.7017 - precision: 0.0227 - recall: 0.9625 - auc: 0.9112 - prc: 0.1386 - val_loss: 0.3503 - val_tp: 7.0000 - val_fp: 753.0000 - val_tn: 2026.0000 - val_fn: 1.0000 - val_accuracy: 0.7295 - val_precision: 0.0092 - val_recall: 0.8750 - val_auc: 0.9114 - val_prc: 0.1475\n",
            "Epoch 11/100\n",
            "44/44 [==============================] - 1s 14ms/step - loss: 0.3971 - tp: 74.0000 - fp: 3742.0000 - tn: 7325.0000 - fn: 6.0000 - accuracy: 0.6638 - precision: 0.0194 - recall: 0.9250 - auc: 0.8834 - prc: 0.2424 - val_loss: 0.2496 - val_tp: 6.0000 - val_fp: 445.0000 - val_tn: 2334.0000 - val_fn: 2.0000 - val_accuracy: 0.8396 - val_precision: 0.0133 - val_recall: 0.7500 - val_auc: 0.9124 - val_prc: 0.1574\n",
            "Epoch 12/100\n",
            "44/44 [==============================] - 1s 14ms/step - loss: 0.3259 - tp: 72.0000 - fp: 2471.0000 - tn: 8596.0000 - fn: 8.0000 - accuracy: 0.7776 - precision: 0.0283 - recall: 0.9000 - auc: 0.9229 - prc: 0.3024 - val_loss: 0.4201 - val_tp: 8.0000 - val_fp: 703.0000 - val_tn: 2076.0000 - val_fn: 0.0000e+00 - val_accuracy: 0.7478 - val_precision: 0.0113 - val_recall: 1.0000 - val_auc: 0.9361 - val_prc: 0.2823\n",
            "Epoch 13/100\n",
            "44/44 [==============================] - 1s 14ms/step - loss: 0.3700 - tp: 74.0000 - fp: 3249.0000 - tn: 7818.0000 - fn: 6.0000 - accuracy: 0.7080 - precision: 0.0223 - recall: 0.9250 - auc: 0.9059 - prc: 0.2600 - val_loss: 0.3518 - val_tp: 7.0000 - val_fp: 780.0000 - val_tn: 1999.0000 - val_fn: 1.0000 - val_accuracy: 0.7198 - val_precision: 0.0089 - val_recall: 0.8750 - val_auc: 0.9213 - val_prc: 0.1932\n",
            "Epoch 14/100\n",
            "44/44 [==============================] - 1s 14ms/step - loss: 0.4330 - tp: 77.0000 - fp: 3023.0000 - tn: 8044.0000 - fn: 3.0000 - accuracy: 0.7285 - precision: 0.0248 - recall: 0.9625 - auc: 0.9262 - prc: 0.2845 - val_loss: 0.4600 - val_tp: 8.0000 - val_fp: 1009.0000 - val_tn: 1770.0000 - val_fn: 0.0000e+00 - val_accuracy: 0.6380 - val_precision: 0.0079 - val_recall: 1.0000 - val_auc: 0.9646 - val_prc: 0.3318\n",
            "Epoch 15/100\n",
            "44/44 [==============================] - 1s 14ms/step - loss: 0.4066 - tp: 73.0000 - fp: 3085.0000 - tn: 7982.0000 - fn: 7.0000 - accuracy: 0.7226 - precision: 0.0231 - recall: 0.9125 - auc: 0.8915 - prc: 0.2270 - val_loss: 0.4129 - val_tp: 8.0000 - val_fp: 850.0000 - val_tn: 1929.0000 - val_fn: 0.0000e+00 - val_accuracy: 0.6950 - val_precision: 0.0093 - val_recall: 1.0000 - val_auc: 0.9679 - val_prc: 0.4464\n",
            "Epoch 16/100\n",
            "44/44 [==============================] - 1s 14ms/step - loss: 0.5114 - tp: 68.0000 - fp: 3339.0000 - tn: 7728.0000 - fn: 12.0000 - accuracy: 0.6994 - precision: 0.0200 - recall: 0.8500 - auc: 0.8584 - prc: 0.0596 - val_loss: 0.3197 - val_tp: 7.0000 - val_fp: 305.0000 - val_tn: 2474.0000 - val_fn: 1.0000 - val_accuracy: 0.8902 - val_precision: 0.0224 - val_recall: 0.8750 - val_auc: 0.9358 - val_prc: 0.1783\n",
            "Epoch 17/100\n",
            "44/44 [==============================] - 1s 14ms/step - loss: 0.3810 - tp: 68.0000 - fp: 2505.0000 - tn: 8562.0000 - fn: 12.0000 - accuracy: 0.7742 - precision: 0.0264 - recall: 0.8500 - auc: 0.9004 - prc: 0.2101 - val_loss: 0.1341 - val_tp: 5.0000 - val_fp: 211.0000 - val_tn: 2568.0000 - val_fn: 3.0000 - val_accuracy: 0.9232 - val_precision: 0.0231 - val_recall: 0.6250 - val_auc: 0.9249 - val_prc: 0.1924\n",
            "Epoch 18/100\n",
            "44/44 [==============================] - 1s 14ms/step - loss: 0.3785 - tp: 75.0000 - fp: 2713.0000 - tn: 8354.0000 - fn: 5.0000 - accuracy: 0.7562 - precision: 0.0269 - recall: 0.9375 - auc: 0.8999 - prc: 0.1594 - val_loss: 0.3618 - val_tp: 8.0000 - val_fp: 719.0000 - val_tn: 2060.0000 - val_fn: 0.0000e+00 - val_accuracy: 0.7420 - val_precision: 0.0110 - val_recall: 1.0000 - val_auc: 0.9531 - val_prc: 0.3359\n",
            "Epoch 19/100\n",
            "44/44 [==============================] - 1s 14ms/step - loss: 0.3698 - tp: 76.0000 - fp: 2469.0000 - tn: 8598.0000 - fn: 4.0000 - accuracy: 0.7781 - precision: 0.0299 - recall: 0.9500 - auc: 0.9176 - prc: 0.2287 - val_loss: 0.3572 - val_tp: 7.0000 - val_fp: 513.0000 - val_tn: 2266.0000 - val_fn: 1.0000 - val_accuracy: 0.8156 - val_precision: 0.0135 - val_recall: 0.8750 - val_auc: 0.9456 - val_prc: 0.2935\n",
            "Epoch 20/100\n",
            "44/44 [==============================] - 1s 15ms/step - loss: 0.3652 - tp: 73.0000 - fp: 2241.0000 - tn: 8826.0000 - fn: 7.0000 - accuracy: 0.7983 - precision: 0.0315 - recall: 0.9125 - auc: 0.9275 - prc: 0.2817 - val_loss: 0.3595 - val_tp: 8.0000 - val_fp: 561.0000 - val_tn: 2218.0000 - val_fn: 0.0000e+00 - val_accuracy: 0.7987 - val_precision: 0.0141 - val_recall: 1.0000 - val_auc: 0.9647 - val_prc: 0.3375\n",
            "Epoch 21/100\n",
            "44/44 [==============================] - 1s 14ms/step - loss: 0.3355 - tp: 71.0000 - fp: 2315.0000 - tn: 8752.0000 - fn: 9.0000 - accuracy: 0.7915 - precision: 0.0298 - recall: 0.8875 - auc: 0.9213 - prc: 0.3215 - val_loss: 0.2584 - val_tp: 8.0000 - val_fp: 496.0000 - val_tn: 2283.0000 - val_fn: 0.0000e+00 - val_accuracy: 0.8220 - val_precision: 0.0159 - val_recall: 1.0000 - val_auc: 0.9595 - val_prc: 0.3151\n",
            "Epoch 22/100\n",
            "44/44 [==============================] - 1s 14ms/step - loss: 0.3358 - tp: 71.0000 - fp: 2109.0000 - tn: 8958.0000 - fn: 9.0000 - accuracy: 0.8100 - precision: 0.0326 - recall: 0.8875 - auc: 0.9259 - prc: 0.1700 - val_loss: 0.2596 - val_tp: 7.0000 - val_fp: 356.0000 - val_tn: 2423.0000 - val_fn: 1.0000 - val_accuracy: 0.8719 - val_precision: 0.0193 - val_recall: 0.8750 - val_auc: 0.9474 - val_prc: 0.2400\n",
            "Epoch 23/100\n",
            "44/44 [==============================] - 1s 14ms/step - loss: 0.3050 - tp: 73.0000 - fp: 2036.0000 - tn: 9031.0000 - fn: 7.0000 - accuracy: 0.8167 - precision: 0.0346 - recall: 0.9125 - auc: 0.9394 - prc: 0.3134 - val_loss: 0.2747 - val_tp: 7.0000 - val_fp: 449.0000 - val_tn: 2330.0000 - val_fn: 1.0000 - val_accuracy: 0.8385 - val_precision: 0.0154 - val_recall: 0.8750 - val_auc: 0.9525 - val_prc: 0.3598\n",
            "Epoch 24/100\n",
            "44/44 [==============================] - 1s 14ms/step - loss: 0.2963 - tp: 75.0000 - fp: 1900.0000 - tn: 9167.0000 - fn: 5.0000 - accuracy: 0.8291 - precision: 0.0380 - recall: 0.9375 - auc: 0.9381 - prc: 0.2034 - val_loss: 0.5179 - val_tp: 8.0000 - val_fp: 781.0000 - val_tn: 1998.0000 - val_fn: 0.0000e+00 - val_accuracy: 0.7198 - val_precision: 0.0101 - val_recall: 1.0000 - val_auc: 0.9707 - val_prc: 0.4829\n",
            "Epoch 25/100\n",
            "44/44 [==============================] - 1s 14ms/step - loss: 0.3321 - tp: 71.0000 - fp: 2198.0000 - tn: 8869.0000 - fn: 9.0000 - accuracy: 0.8020 - precision: 0.0313 - recall: 0.8875 - auc: 0.9181 - prc: 0.3010 - val_loss: 0.2574 - val_tp: 8.0000 - val_fp: 495.0000 - val_tn: 2284.0000 - val_fn: 0.0000e+00 - val_accuracy: 0.8224 - val_precision: 0.0159 - val_recall: 1.0000 - val_auc: 0.9656 - val_prc: 0.3497\n",
            "Epoch 26/100\n",
            "44/44 [==============================] - 1s 14ms/step - loss: 0.2931 - tp: 70.0000 - fp: 1631.0000 - tn: 9436.0000 - fn: 10.0000 - accuracy: 0.8528 - precision: 0.0412 - recall: 0.8750 - auc: 0.9402 - prc: 0.3250 - val_loss: 0.3880 - val_tp: 8.0000 - val_fp: 557.0000 - val_tn: 2222.0000 - val_fn: 0.0000e+00 - val_accuracy: 0.8001 - val_precision: 0.0142 - val_recall: 1.0000 - val_auc: 0.9624 - val_prc: 0.4730\n",
            "Epoch 27/100\n",
            "44/44 [==============================] - 1s 15ms/step - loss: 0.3309 - tp: 72.0000 - fp: 1776.0000 - tn: 9291.0000 - fn: 8.0000 - accuracy: 0.8400 - precision: 0.0390 - recall: 0.9000 - auc: 0.9336 - prc: 0.1848 - val_loss: 0.7164 - val_tp: 8.0000 - val_fp: 946.0000 - val_tn: 1833.0000 - val_fn: 0.0000e+00 - val_accuracy: 0.6606 - val_precision: 0.0084 - val_recall: 1.0000 - val_auc: 0.9531 - val_prc: 0.2972\n",
            "Epoch 28/100\n",
            "44/44 [==============================] - 1s 13ms/step - loss: 0.4154 - tp: 75.0000 - fp: 2950.0000 - tn: 8117.0000 - fn: 5.0000 - accuracy: 0.7349 - precision: 0.0248 - recall: 0.9375 - auc: 0.9052 - prc: 0.1873 - val_loss: 0.3406 - val_tp: 8.0000 - val_fp: 729.0000 - val_tn: 2050.0000 - val_fn: 0.0000e+00 - val_accuracy: 0.7384 - val_precision: 0.0109 - val_recall: 1.0000 - val_auc: 0.9547 - val_prc: 0.2922\n",
            "Epoch 29/100\n",
            "44/44 [==============================] - 1s 14ms/step - loss: 0.2776 - tp: 78.0000 - fp: 2264.0000 - tn: 8803.0000 - fn: 2.0000 - accuracy: 0.7967 - precision: 0.0333 - recall: 0.9750 - auc: 0.9384 - prc: 0.2984 - val_loss: 0.2815 - val_tp: 8.0000 - val_fp: 575.0000 - val_tn: 2204.0000 - val_fn: 0.0000e+00 - val_accuracy: 0.7937 - val_precision: 0.0137 - val_recall: 1.0000 - val_auc: 0.9536 - val_prc: 0.4434\n",
            "Epoch 30/100\n",
            "44/44 [==============================] - 1s 14ms/step - loss: 0.3045 - tp: 72.0000 - fp: 2117.0000 - tn: 8950.0000 - fn: 8.0000 - accuracy: 0.8094 - precision: 0.0329 - recall: 0.9000 - auc: 0.9333 - prc: 0.1935 - val_loss: 0.5652 - val_tp: 8.0000 - val_fp: 886.0000 - val_tn: 1893.0000 - val_fn: 0.0000e+00 - val_accuracy: 0.6821 - val_precision: 0.0089 - val_recall: 1.0000 - val_auc: 0.9587 - val_prc: 0.3327\n",
            "Epoch 31/100\n",
            "44/44 [==============================] - 1s 14ms/step - loss: 0.3207 - tp: 76.0000 - fp: 2289.0000 - tn: 8778.0000 - fn: 4.0000 - accuracy: 0.7943 - precision: 0.0321 - recall: 0.9500 - auc: 0.9312 - prc: 0.2979 - val_loss: 0.2892 - val_tp: 8.0000 - val_fp: 520.0000 - val_tn: 2259.0000 - val_fn: 0.0000e+00 - val_accuracy: 0.8134 - val_precision: 0.0152 - val_recall: 1.0000 - val_auc: 0.9521 - val_prc: 0.3878\n",
            "Epoch 32/100\n",
            "44/44 [==============================] - 1s 14ms/step - loss: 0.2760 - tp: 74.0000 - fp: 2164.0000 - tn: 8903.0000 - fn: 6.0000 - accuracy: 0.8053 - precision: 0.0331 - recall: 0.9250 - auc: 0.9442 - prc: 0.3461 - val_loss: 0.2760 - val_tp: 7.0000 - val_fp: 482.0000 - val_tn: 2297.0000 - val_fn: 1.0000 - val_accuracy: 0.8267 - val_precision: 0.0143 - val_recall: 0.8750 - val_auc: 0.9502 - val_prc: 0.3568\n",
            "Epoch 33/100\n",
            "44/44 [==============================] - 1s 14ms/step - loss: 0.3409 - tp: 77.0000 - fp: 2204.0000 - tn: 8863.0000 - fn: 3.0000 - accuracy: 0.8020 - precision: 0.0338 - recall: 0.9625 - auc: 0.9325 - prc: 0.2503 - val_loss: 0.3178 - val_tp: 8.0000 - val_fp: 598.0000 - val_tn: 2181.0000 - val_fn: 0.0000e+00 - val_accuracy: 0.7854 - val_precision: 0.0132 - val_recall: 1.0000 - val_auc: 0.9407 - val_prc: 0.1956\n",
            "Epoch 34/100\n",
            "44/44 [==============================] - ETA: 0s - loss: 0.3627 - tp: 77.0000 - fp: 3007.0000 - tn: 8060.0000 - fn: 3.0000 - accuracy: 0.7300 - precision: 0.0250 - recall: 0.9625 - auc: 0.9097 - prc: 0.2750Restoring model weights from the end of the best epoch: 24.\n",
            "44/44 [==============================] - 1s 14ms/step - loss: 0.3627 - tp: 77.0000 - fp: 3007.0000 - tn: 8060.0000 - fn: 3.0000 - accuracy: 0.7300 - precision: 0.0250 - recall: 0.9625 - auc: 0.9097 - prc: 0.2750 - val_loss: 0.3425 - val_tp: 8.0000 - val_fp: 707.0000 - val_tn: 2072.0000 - val_fn: 0.0000e+00 - val_accuracy: 0.7463 - val_precision: 0.0112 - val_recall: 1.0000 - val_auc: 0.9622 - val_prc: 0.3621\n",
            "Epoch 00034: early stopping\n"
          ]
        }
      ]
    },
    {
      "cell_type": "code",
      "metadata": {
        "id": "8Ol4oIMb7rmb"
      },
      "source": [
        "def plot_metrics(history):\n",
        "  metrics = ['loss', 'prc', 'precision', 'recall']\n",
        "  for n, metric in enumerate(metrics):\n",
        "    name = metric.replace(\"_\",\" \").capitalize()\n",
        "    plt.subplot(2,2,n+1)\n",
        "    plt.plot(history.epoch, history.history[metric], color=colors[0], label='Train')\n",
        "    plt.plot(history.epoch, history.history['val_'+metric],\n",
        "             color=colors[1], linestyle=\"--\", label='Val')\n",
        "    plt.xlabel('Epoch')\n",
        "    plt.ylabel(name)\n",
        "    if metric == 'loss':\n",
        "      plt.ylim([0, plt.ylim()[1]])\n",
        "    elif metric == 'auc':\n",
        "      plt.ylim([0.8,1])\n",
        "    else:\n",
        "      plt.ylim([0,1])\n",
        "\n",
        "    plt.legend()"
      ],
      "execution_count": 30,
      "outputs": []
    },
    {
      "cell_type": "code",
      "metadata": {
        "colab": {
          "base_uri": "https://localhost:8080/",
          "height": 504
        },
        "id": "4CHPRcYu7rjo",
        "outputId": "e6d9739f-d732-42dd-9663-11871771543a"
      },
      "source": [
        "colors = random.sample(darker_colors, 2)\n",
        "plt.figure(figsize=(14,8))\n",
        "plot_metrics(baseline_history)"
      ],
      "execution_count": 31,
      "outputs": [
        {
          "output_type": "display_data",
          "data": {
            "image/png": "[encoded data removed]",
            "text/plain": [
              "<Figure size 1008x576 with 4 Axes>"
            ]
          },
          "metadata": {
            "needs_background": "light"
          }
        }
      ]
    },
    {
      "cell_type": "code",
      "metadata": {
        "id": "Wd8u9D-fCtTP"
      },
      "source": [
        "train_predictions_baseline = model.predict(train_features, batch_size=BATCH_SIZE)\n",
        "test_predictions_baseline = model.predict(test_features, batch_size=BATCH_SIZE)"
      ],
      "execution_count": 32,
      "outputs": []
    },
    {
      "cell_type": "code",
      "metadata": {
        "colab": {
          "base_uri": "https://localhost:8080/"
        },
        "id": "PW4pL9LNePKR",
        "outputId": "59ca82a2-ff33-4261-f2b5-e490001de3b9"
      },
      "source": [
        "len(test_features[0])"
      ],
      "execution_count": 33,
      "outputs": [
        {
          "output_type": "execute_result",
          "data": {
            "text/plain": [
              "7"
            ]
          },
          "metadata": {},
          "execution_count": 33
        }
      ]
    },
    {
      "cell_type": "code",
      "metadata": {
        "colab": {
          "base_uri": "https://localhost:8080/",
          "height": 204
        },
        "id": "AMYDfnn7euLz",
        "outputId": "2865fe67-d936-4a3f-c1d8-6153397e4f36"
      },
      "source": [
        "train_df.head()"
      ],
      "execution_count": 34,
      "outputs": [
        {
          "output_type": "execute_result",
          "data": {
            "text/html": [
              "<div>\n",
              "<style scoped>\n",
              "    .dataframe tbody tr th:only-of-type {\n",
              "        vertical-align: middle;\n",
              "    }\n",
              "\n",
              "    .dataframe tbody tr th {\n",
              "        vertical-align: top;\n",
              "    }\n",
              "\n",
              "    .dataframe thead th {\n",
              "        text-align: right;\n",
              "    }\n",
              "</style>\n",
              "<table border=\"1\" class=\"dataframe\">\n",
              "  <thead>\n",
              "    <tr style=\"text-align: right;\">\n",
              "      <th></th>\n",
              "      <th>merchant_category</th>\n",
              "      <th>transaction_volume_usd</th>\n",
              "      <th>otp_fraud</th>\n",
              "      <th>merchant_industry</th>\n",
              "      <th>transaction_week_start_date</th>\n",
              "      <th>centroid</th>\n",
              "      <th>pt2centroid</th>\n",
              "    </tr>\n",
              "  </thead>\n",
              "  <tbody>\n",
              "    <tr>\n",
              "      <th>1957</th>\n",
              "      <td>0.9</td>\n",
              "      <td>0.058824</td>\n",
              "      <td>0.0</td>\n",
              "      <td>0.435484</td>\n",
              "      <td>0.000000</td>\n",
              "      <td>0.025641</td>\n",
              "      <td>0.176935</td>\n",
              "    </tr>\n",
              "    <tr>\n",
              "      <th>10024</th>\n",
              "      <td>0.7</td>\n",
              "      <td>0.058824</td>\n",
              "      <td>0.0</td>\n",
              "      <td>0.241935</td>\n",
              "      <td>0.571429</td>\n",
              "      <td>0.564103</td>\n",
              "      <td>0.081915</td>\n",
              "    </tr>\n",
              "    <tr>\n",
              "      <th>3185</th>\n",
              "      <td>0.6</td>\n",
              "      <td>0.294118</td>\n",
              "      <td>0.0</td>\n",
              "      <td>0.177419</td>\n",
              "      <td>0.142857</td>\n",
              "      <td>0.974359</td>\n",
              "      <td>0.083848</td>\n",
              "    </tr>\n",
              "    <tr>\n",
              "      <th>15519</th>\n",
              "      <td>0.3</td>\n",
              "      <td>0.470588</td>\n",
              "      <td>0.0</td>\n",
              "      <td>0.064516</td>\n",
              "      <td>1.000000</td>\n",
              "      <td>0.230769</td>\n",
              "      <td>0.113758</td>\n",
              "    </tr>\n",
              "    <tr>\n",
              "      <th>5218</th>\n",
              "      <td>0.6</td>\n",
              "      <td>1.000000</td>\n",
              "      <td>0.0</td>\n",
              "      <td>0.387097</td>\n",
              "      <td>0.285714</td>\n",
              "      <td>0.794872</td>\n",
              "      <td>0.123751</td>\n",
              "    </tr>\n",
              "  </tbody>\n",
              "</table>\n",
              "</div>"
            ],
            "text/plain": [
              "       merchant_category  transaction_volume_usd  ...  centroid  pt2centroid\n",
              "1957                 0.9                0.058824  ...  0.025641     0.176935\n",
              "10024                0.7                0.058824  ...  0.564103     0.081915\n",
              "3185                 0.6                0.294118  ...  0.974359     0.083848\n",
              "15519                0.3                0.470588  ...  0.230769     0.113758\n",
              "5218                 0.6                1.000000  ...  0.794872     0.123751\n",
              "\n",
              "[5 rows x 7 columns]"
            ]
          },
          "metadata": {},
          "execution_count": 34
        }
      ]
    },
    {
      "cell_type": "code",
      "metadata": {
        "id": "iuVdf1VrDoF7"
      },
      "source": [
        "def plot_cm(labels, predictions, p=0.5):\n",
        "  cm = confusion_matrix(labels, predictions > p)\n",
        "  plt.figure(figsize=(14,6))\n",
        "  sns.heatmap(cm, annot=True, fmt=\"d\")\n",
        "  plt.title('Confusion matrix @{:.2f}'.format(p))\n",
        "  plt.ylabel('Actual label')\n",
        "  plt.xlabel('Predicted label')\n",
        "\n",
        "  print('Legitimate Transactions Detected (True Negatives): ', cm[0][0])\n",
        "  print('Legitimate Transactions Incorrectly Detected (False Positives): ', cm[0][1])\n",
        "  print('Fraudulent Transactions Missed (False Negatives): ', cm[1][0])\n",
        "  print('Fraudulent Transactions Detected (True Positives): ', cm[1][1])\n",
        "  print('Total Fraudulent Transactions: ', np.sum(cm[1]))"
      ],
      "execution_count": 35,
      "outputs": []
    },
    {
      "cell_type": "code",
      "metadata": {
        "colab": {
          "base_uri": "https://localhost:8080/",
          "height": 679
        },
        "id": "WpIjIzdhDvOI",
        "outputId": "e2fc2317-ce1f-46a2-89f2-68ca1b8bb66e"
      },
      "source": [
        "baseline_results = model.evaluate(test_features, test_labels,\n",
        "                                  batch_size=BATCH_SIZE, verbose=0)\n",
        "for name, value in zip(model.metrics_names, baseline_results):\n",
        "  print(name, ': ', value)\n",
        "print()\n",
        "\n",
        "plot_cm(test_labels, test_predictions_baseline)"
      ],
      "execution_count": 36,
      "outputs": [
        {
          "output_type": "stream",
          "name": "stdout",
          "text": [
            "loss :  0.5213041305541992\n",
            "tp :  23.0\n",
            "fp :  988.0\n",
            "tn :  2472.0\n",
            "fn :  1.0\n",
            "accuracy :  0.7161309123039246\n",
            "precision :  0.022749751806259155\n",
            "recall :  0.9583333134651184\n",
            "auc :  0.9330021142959595\n",
            "prc :  0.5504930019378662\n",
            "\n",
            "Legitimate Transactions Detected (True Negatives):  2472\n",
            "Legitimate Transactions Incorrectly Detected (False Positives):  988\n",
            "Fraudulent Transactions Missed (False Negatives):  1\n",
            "Fraudulent Transactions Detected (True Positives):  23\n",
            "Total Fraudulent Transactions:  24\n"
          ]
        },
        {
          "output_type": "display_data",
          "data": {
            "image/png": "[encoded data removed]",
            "text/plain": [
              "<Figure size 1008x432 with 2 Axes>"
            ]
          },
          "metadata": {
            "needs_background": "light"
          }
        }
      ]
    },
    {
      "cell_type": "markdown",
      "metadata": {
        "id": "ohuMTKJzGRmu"
      },
      "source": [
        "In this case, of the 24 fraudulent transactions, the model does remarkably well to detect all of them. This means it's very sensitive to detecting fraud, even though 936 legitimate customers may be subject to more stringent anti-fraud measures since the model flasely identified their transactions as false. But on the bright side, over 2500 legitimate customers enjoy a seamless, painless experience, with this model.\n",
        "\n",
        "This is the **Precision** / **Recall** trade-off that most classification applications in real-life face. Often, to better optimise recall, precision takes a hit and vice-versa."
      ]
    },
    {
      "cell_type": "code",
      "metadata": {
        "colab": {
          "base_uri": "https://localhost:8080/"
        },
        "id": "NpWZhaOCHh8c",
        "outputId": "4f0c6c30-236d-4f5d-fa77-56d74ac28d88"
      },
      "source": [
        "# delete all stored model files after running notebook\n",
        "\n",
        "if True:\n",
        "    all_files = os.listdir()\n",
        "    for f in all_files:\n",
        "        if f.startswith('fraud_model_'):\n",
        "            os.remove(f)\n",
        "print('done!')"
      ],
      "execution_count": 37,
      "outputs": [
        {
          "output_type": "stream",
          "name": "stdout",
          "text": [
            "done!\n"
          ]
        }
      ]
    },
    {
      "cell_type": "code",
      "metadata": {
        "id": "SR0MkWKYMWl2",
        "colab": {
          "base_uri": "https://localhost:8080/"
        },
        "outputId": "b6b74346-d04c-4cba-d4b2-f3797b6b1662"
      },
      "source": [
        "# confirm deletion\n",
        "\n",
        "os.listdir()"
      ],
      "execution_count": 38,
      "outputs": [
        {
          "output_type": "execute_result",
          "data": {
            "text/plain": [
              "['Fraud_sample_data.xlsx',\n",
              " '.ipynb_checkpoints',\n",
              " '01_intro_to_fraud_analysis.ipynb',\n",
              " 'fraud_analysis.ipynb',\n",
              " 'july_df.csv',\n",
              " 'data_dict.csv',\n",
              " 'june_df.csv',\n",
              " 'top_five_clusters.csv',\n",
              " 'mi_combined.csv',\n",
              " 'top_fraud_cluster.csv',\n",
              " 'combined_df.csv',\n",
              " 'processed_mi_combined.csv',\n",
              " '03_diagnostic_analytics.ipynb',\n",
              " 'fraud_analyst_assignment_part2.gdoc',\n",
              " '02_descriptive_analytics.ipynb',\n",
              " 'fraud_analyst_assignment_part1.gdoc',\n",
              " '04_predictive_analytics.ipynb',\n",
              " '05_prescriptive_analytics.ipynb']"
            ]
          },
          "metadata": {},
          "execution_count": 38
        }
      ]
    }
  ]
}