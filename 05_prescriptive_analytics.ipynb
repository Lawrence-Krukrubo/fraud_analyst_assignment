{
  "nbformat": 4,
  "nbformat_minor": 0,
  "metadata": {
    "colab": {
      "name": "05_prescriptive_analytics.ipynb",
      "provenance": [],
      "collapsed_sections": [],
      "authorship_tag": "ABX9TyPC34iOgJh+sYxtOsSilbz/",
      "include_colab_link": true
    },
    "kernelspec": {
      "name": "python3",
      "display_name": "Python 3"
    },
    "language_info": {
      "name": "python"
    },
    "accelerator": "GPU"
  },
  "cells": [
    {
      "cell_type": "markdown",
      "metadata": {
        "id": "view-in-github",
        "colab_type": "text"
      },
      "source": [
        "<a href=\"https://colab.research.google.com/github/Lawrence-Krukrubo/fraud_analyst_assignment/blob/main/05_prescriptive_analytics.ipynb\" target=\"_parent\"><img src=\"https://colab.research.google.com/assets/colab-badge.svg\" alt=\"Open In Colab\"/></a>"
      ]
    },
    {
      "cell_type": "code",
      "metadata": {
        "colab": {
          "base_uri": "https://localhost:8080/"
        },
        "id": "twEScLqe6RH3",
        "outputId": "b3c4d57a-d8a7-4d27-aaac-7936fca18d4d"
      },
      "source": [
        "# First let's mount Google Drive so we can navigate the folders as needed\n",
        "from google.colab import drive\n",
        "drive.mount('/content/gdrive')"
      ],
      "execution_count": 1,
      "outputs": [
        {
          "output_type": "stream",
          "name": "stdout",
          "text": [
            "Drive already mounted at /content/gdrive; to attempt to forcibly remount, call drive.mount(\"/content/gdrive\", force_remount=True).\n"
          ]
        }
      ]
    },
    {
      "cell_type": "markdown",
      "metadata": {
        "id": "DZ4cai_48dZM"
      },
      "source": [
        "**Let's import some much needed libraries...**"
      ]
    },
    {
      "cell_type": "code",
      "metadata": {
        "colab": {
          "base_uri": "https://localhost:8080/"
        },
        "id": "Wa8gujGQ5yua",
        "outputId": "f2f2f905-aa25-4279-89c8-ba8fd801f0b8"
      },
      "source": [
        "import os\n",
        "import pandas as pd\n",
        "import numpy as np\n",
        "import matplotlib as mpl\n",
        "import matplotlib.pyplot as plt\n",
        "import seaborn as sns\n",
        "import plotly.express as px\n",
        "import plotly.graph_objects as go\n",
        "import random\n",
        "import xlrd\n",
        "print('done!')"
      ],
      "execution_count": 2,
      "outputs": [
        {
          "output_type": "stream",
          "name": "stdout",
          "text": [
            "done!\n"
          ]
        }
      ]
    },
    {
      "cell_type": "code",
      "metadata": {
        "colab": {
          "base_uri": "https://localhost:8080/"
        },
        "id": "WThZj_PMQRBC",
        "outputId": "6028c3c3-2851-4cef-f7e3-91e8a538790f"
      },
      "source": [
        "# Let's import some Deeplearning modules\n",
        "\n",
        "import tensorflow as tf\n",
        "from tensorflow import keras\n",
        "import tempfile\n",
        "\n",
        "import sklearn\n",
        "from sklearn.metrics import confusion_matrix\n",
        "from sklearn.model_selection import train_test_split\n",
        "from sklearn.preprocessing import StandardScaler\n",
        "print('done!')"
      ],
      "execution_count": 3,
      "outputs": [
        {
          "output_type": "stream",
          "name": "stdout",
          "text": [
            "done!\n"
          ]
        }
      ]
    },
    {
      "cell_type": "code",
      "metadata": {
        "colab": {
          "base_uri": "https://localhost:8080/"
        },
        "id": "X6iimWIBRSZ2",
        "outputId": "d25ac5b1-f0c2-4345-a915-d58c7f3da461"
      },
      "source": [
        "# Let's get all the colors available in matplotlib\n",
        "other_colors = []\n",
        "darker_colors = []\n",
        "for name, hex in mpl.colors.cnames.items():\n",
        "    if 'dark' in name:\n",
        "        darker_colors.append(name)\n",
        "    else:\n",
        "        other_colors.append(name)\n",
        "\n",
        "# Let's finally save the various plot styles in matplotlib\n",
        "styles = plt.style.available\n",
        "\n",
        "print(f'darker-colors has {len(darker_colors)},\\nother-colors has {len(other_colors)} colors\\nplotting styles are {len(styles)}')"
      ],
      "execution_count": 4,
      "outputs": [
        {
          "output_type": "stream",
          "name": "stdout",
          "text": [
            "darker-colors has 19,\n",
            "other-colors has 129 colors\n",
            "plotting styles are 26\n"
          ]
        }
      ]
    },
    {
      "cell_type": "code",
      "metadata": {
        "id": "3B8XehOzUbbC",
        "colab": {
          "base_uri": "https://localhost:8080/"
        },
        "outputId": "d5693191-0bce-4560-e49b-4375bbcfb5e7"
      },
      "source": [
        "# set more matplotlib defaults\n",
        "def set_rcParams():\n",
        "    mpl.rcParams['axes.labelsize'] = 12\n",
        "    mpl.rcParams['xtick.labelsize'] = 10\n",
        "    mpl.rcParams['ytick.labelsize'] = 10\n",
        "    mpl.rcParams['text.color'] = 'k'\n",
        "    mpl.rc('lines', linewidth=4, linestyle='-.')\n",
        "    print('rcParams set!')\n",
        "\n",
        "# Set the plots design to xkcd\n",
        "# plt.xkcd()  # For xkcd style plots\n",
        "#plt.rcdefaults()  # to stop xkcd plots\n",
        "\n",
        "# fontdict for plot titles\n",
        "fontDict1 = {'fontfamily': 'fantasy',\n",
        "             'fontsize': 'x-large',\n",
        "             'fontstyle': 'italic',\n",
        "             'fontweight': 'heavy',\n",
        "             'ha': 'center',\n",
        "             'color': 'darkred',\n",
        "             'va': 'baseline'}\n",
        "\n",
        "# fontdict for plot labels\n",
        "fontDict2 = {'fontfamily': 'serif',\n",
        "             'fontsize': 'large',\n",
        "             'fontstyle': 'oblique',\n",
        "             'fontweight': 'semibold',\n",
        "             'ha': 'center',\n",
        "             'color': 'black',\n",
        "             'va': 'baseline'}\n",
        "\n",
        "set_rcParams()"
      ],
      "execution_count": 5,
      "outputs": [
        {
          "output_type": "stream",
          "name": "stdout",
          "text": [
            "rcParams set!\n"
          ]
        }
      ]
    },
    {
      "cell_type": "markdown",
      "metadata": {
        "id": "4ewL2RK07xdy"
      },
      "source": [
        "**Let's change our Directory to the Fraud directory containing our data**"
      ]
    },
    {
      "cell_type": "code",
      "metadata": {
        "colab": {
          "base_uri": "https://localhost:8080/"
        },
        "id": "b1lzL6id5851",
        "outputId": "f0ac3528-ea1c-4053-c2a5-f95c524ddcdd"
      },
      "source": [
        "FRAUD_DIR = '/content/gdrive/MyDrive/Colab_Notebooks/fraud_analyst_assignment'\n",
        "os.chdir(FRAUD_DIR)\n",
        "print(f'Current Dir: {os.getcwd()}')"
      ],
      "execution_count": 6,
      "outputs": [
        {
          "output_type": "stream",
          "name": "stdout",
          "text": [
            "Current Dir: /content/gdrive/MyDrive/Colab_Notebooks/fraud_analyst_assignment\n"
          ]
        }
      ]
    },
    {
      "cell_type": "code",
      "metadata": {
        "colab": {
          "base_uri": "https://localhost:8080/"
        },
        "id": "M9wIfqEC8Nf2",
        "outputId": "cf477788-69b9-4914-de7d-89ae9d2ce630"
      },
      "source": [
        "# Let's see some of the contents of the CWD\n",
        "os.listdir()[:10]"
      ],
      "execution_count": 7,
      "outputs": [
        {
          "output_type": "execute_result",
          "data": {
            "text/plain": [
              "['Fraud_sample_data.xlsx',\n",
              " '.ipynb_checkpoints',\n",
              " '01_intro_to_fraud_analysis.ipynb',\n",
              " 'fraud_analysis.ipynb',\n",
              " 'july_df.csv',\n",
              " 'data_dict.csv',\n",
              " 'june_df.csv',\n",
              " 'top_five_clusters.csv',\n",
              " 'mi_combined.csv',\n",
              " 'top_fraud_cluster.csv']"
            ]
          },
          "metadata": {},
          "execution_count": 7
        }
      ]
    },
    {
      "cell_type": "markdown",
      "metadata": {
        "id": "6lSVIiDNl3Wn"
      },
      "source": [
        "### 1. Loading previous data from Diagnostic stage.."
      ]
    },
    {
      "cell_type": "code",
      "metadata": {
        "colab": {
          "base_uri": "https://localhost:8080/",
          "height": 452
        },
        "id": "i7pT_Y1YmA3e",
        "outputId": "3dd5bc21-9338-4ffe-db81-4ff288752560"
      },
      "source": [
        "# First, we load the data dictionary...\n",
        "\n",
        "pd.set_option('max_colwidth', None)\n",
        "data_dict  = pd.read_csv('data_dict.csv')\n",
        "data_dict"
      ],
      "execution_count": 8,
      "outputs": [
        {
          "output_type": "execute_result",
          "data": {
            "text/html": [
              "<div>\n",
              "<style scoped>\n",
              "    .dataframe tbody tr th:only-of-type {\n",
              "        vertical-align: middle;\n",
              "    }\n",
              "\n",
              "    .dataframe tbody tr th {\n",
              "        vertical-align: top;\n",
              "    }\n",
              "\n",
              "    .dataframe thead th {\n",
              "        text-align: right;\n",
              "    }\n",
              "</style>\n",
              "<table border=\"1\" class=\"dataframe\">\n",
              "  <thead>\n",
              "    <tr style=\"text-align: right;\">\n",
              "      <th></th>\n",
              "      <th>Field name</th>\n",
              "      <th>Field description</th>\n",
              "    </tr>\n",
              "  </thead>\n",
              "  <tbody>\n",
              "    <tr>\n",
              "      <th>0</th>\n",
              "      <td>merchant_id</td>\n",
              "      <td>Randomly generated identifier to represent a merchant</td>\n",
              "    </tr>\n",
              "    <tr>\n",
              "      <th>1</th>\n",
              "      <td>merchant_industry</td>\n",
              "      <td>Industry in which the merchant operates</td>\n",
              "    </tr>\n",
              "    <tr>\n",
              "      <th>2</th>\n",
              "      <td>merchant_category</td>\n",
              "      <td>Business category of the merchant</td>\n",
              "    </tr>\n",
              "    <tr>\n",
              "      <th>3</th>\n",
              "      <td>merchant_country</td>\n",
              "      <td>The country in which the merchant is based</td>\n",
              "    </tr>\n",
              "    <tr>\n",
              "      <th>4</th>\n",
              "      <td>currency</td>\n",
              "      <td>The local currency the transcation was processed in</td>\n",
              "    </tr>\n",
              "    <tr>\n",
              "      <th>5</th>\n",
              "      <td>transaction_week_start_date</td>\n",
              "      <td>Week in which the transaction occured</td>\n",
              "    </tr>\n",
              "    <tr>\n",
              "      <th>6</th>\n",
              "      <td>channel</td>\n",
              "      <td>The payment method for the transaction</td>\n",
              "    </tr>\n",
              "    <tr>\n",
              "      <th>7</th>\n",
              "      <td>transaction_count</td>\n",
              "      <td>The number of transactions for the day</td>\n",
              "    </tr>\n",
              "    <tr>\n",
              "      <th>8</th>\n",
              "      <td>transaction_volume_usd</td>\n",
              "      <td>The total value of the transactions converted to USD</td>\n",
              "    </tr>\n",
              "    <tr>\n",
              "      <th>9</th>\n",
              "      <td>fraud_count</td>\n",
              "      <td>The number of transactions which were reported as fraudulent for the day</td>\n",
              "    </tr>\n",
              "    <tr>\n",
              "      <th>10</th>\n",
              "      <td>fraud_volume_usd</td>\n",
              "      <td>The total value of the transactions which were reported as fraudulent converted to USD</td>\n",
              "    </tr>\n",
              "    <tr>\n",
              "      <th>11</th>\n",
              "      <td>otp_fraud</td>\n",
              "      <td>The number of fraudulent transactions which were authenticated using a one time pin</td>\n",
              "    </tr>\n",
              "    <tr>\n",
              "      <th>12</th>\n",
              "      <td>otp_all_transactions</td>\n",
              "      <td>The number of total transactions which were authenticated using a one time pin</td>\n",
              "    </tr>\n",
              "  </tbody>\n",
              "</table>\n",
              "</div>"
            ],
            "text/plain": [
              "                     Field name                                                                       Field description\n",
              "0                   merchant_id                                   Randomly generated identifier to represent a merchant\n",
              "1             merchant_industry                                                 Industry in which the merchant operates\n",
              "2             merchant_category                                                       Business category of the merchant\n",
              "3              merchant_country                                              The country in which the merchant is based\n",
              "4                      currency                                    The local currency the transcation was processed in \n",
              "5   transaction_week_start_date                                                   Week in which the transaction occured\n",
              "6                       channel                                                  The payment method for the transaction\n",
              "7             transaction_count                                                  The number of transactions for the day\n",
              "8        transaction_volume_usd                                    The total value of the transactions converted to USD\n",
              "9                   fraud_count                The number of transactions which were reported as fraudulent for the day\n",
              "10             fraud_volume_usd  The total value of the transactions which were reported as fraudulent converted to USD\n",
              "11                    otp_fraud     The number of fraudulent transactions which were authenticated using a one time pin\n",
              "12         otp_all_transactions          The number of total transactions which were authenticated using a one time pin"
            ]
          },
          "metadata": {},
          "execution_count": 8
        }
      ]
    },
    {
      "cell_type": "code",
      "metadata": {
        "colab": {
          "base_uri": "https://localhost:8080/",
          "height": 196
        },
        "id": "q1yJSkkAmpnH",
        "outputId": "7ebf626f-01f9-40a6-ddc6-aaef4b6c6c75"
      },
      "source": [
        "# Next, we load combined_df, the original unprocessed June & July data.\n",
        "\n",
        "combined_df = pd.read_csv('combined_df.csv')\n",
        "print(f'shape of combined_df; {combined_df.shape}\\n')\n",
        "combined_df.head(3)"
      ],
      "execution_count": 9,
      "outputs": [
        {
          "output_type": "stream",
          "name": "stdout",
          "text": [
            "shape of combined_df; (17418, 13)\n",
            "\n"
          ]
        },
        {
          "output_type": "execute_result",
          "data": {
            "text/html": [
              "<div>\n",
              "<style scoped>\n",
              "    .dataframe tbody tr th:only-of-type {\n",
              "        vertical-align: middle;\n",
              "    }\n",
              "\n",
              "    .dataframe tbody tr th {\n",
              "        vertical-align: top;\n",
              "    }\n",
              "\n",
              "    .dataframe thead th {\n",
              "        text-align: right;\n",
              "    }\n",
              "</style>\n",
              "<table border=\"1\" class=\"dataframe\">\n",
              "  <thead>\n",
              "    <tr style=\"text-align: right;\">\n",
              "      <th></th>\n",
              "      <th>merchant_id</th>\n",
              "      <th>merchant_industry</th>\n",
              "      <th>merchant_category</th>\n",
              "      <th>merchant_country</th>\n",
              "      <th>currency</th>\n",
              "      <th>transaction_week_start_date</th>\n",
              "      <th>channel</th>\n",
              "      <th>transaction_count</th>\n",
              "      <th>transaction_volume_usd</th>\n",
              "      <th>fraud_count</th>\n",
              "      <th>fraud_volume_usd</th>\n",
              "      <th>otp_fraud</th>\n",
              "      <th>otp_all_transactions</th>\n",
              "    </tr>\n",
              "  </thead>\n",
              "  <tbody>\n",
              "    <tr>\n",
              "      <th>0</th>\n",
              "      <td>1</td>\n",
              "      <td>GOODS-PHYSICAL</td>\n",
              "      <td>e-Commerce</td>\n",
              "      <td>Nigeria</td>\n",
              "      <td>NGN</td>\n",
              "      <td>2021-06-07</td>\n",
              "      <td>card</td>\n",
              "      <td>5</td>\n",
              "      <td>231.590551</td>\n",
              "      <td>0</td>\n",
              "      <td>0.0</td>\n",
              "      <td>0</td>\n",
              "      <td>5</td>\n",
              "    </tr>\n",
              "    <tr>\n",
              "      <th>1</th>\n",
              "      <td>5</td>\n",
              "      <td>SERVICES-LEGAL</td>\n",
              "      <td>Other</td>\n",
              "      <td>Nigeria</td>\n",
              "      <td>NGN</td>\n",
              "      <td>2021-06-07</td>\n",
              "      <td>card</td>\n",
              "      <td>2</td>\n",
              "      <td>210.203412</td>\n",
              "      <td>0</td>\n",
              "      <td>0.0</td>\n",
              "      <td>0</td>\n",
              "      <td>2</td>\n",
              "    </tr>\n",
              "    <tr>\n",
              "      <th>2</th>\n",
              "      <td>9</td>\n",
              "      <td>TRAVEL</td>\n",
              "      <td>Travel &amp; Hospitality</td>\n",
              "      <td>Nigeria</td>\n",
              "      <td>NGN</td>\n",
              "      <td>2021-06-07</td>\n",
              "      <td>card</td>\n",
              "      <td>4</td>\n",
              "      <td>223.097113</td>\n",
              "      <td>0</td>\n",
              "      <td>0.0</td>\n",
              "      <td>0</td>\n",
              "      <td>1</td>\n",
              "    </tr>\n",
              "  </tbody>\n",
              "</table>\n",
              "</div>"
            ],
            "text/plain": [
              "   merchant_id merchant_industry  ... otp_fraud otp_all_transactions\n",
              "0            1    GOODS-PHYSICAL  ...         0                    5\n",
              "1            5    SERVICES-LEGAL  ...         0                    2\n",
              "2            9            TRAVEL  ...         0                    1\n",
              "\n",
              "[3 rows x 13 columns]"
            ]
          },
          "metadata": {},
          "execution_count": 9
        }
      ]
    },
    {
      "cell_type": "markdown",
      "metadata": {
        "id": "N2LfeQwJo-wE"
      },
      "source": [
        "# Prescriptive EDA (PA2): "
      ]
    },
    {
      "cell_type": "markdown",
      "metadata": {
        "id": "l5ozVcY9AaQg"
      },
      "source": [
        "**Prescriptive Analytics:**<br>\n",
        "Prescriptive analytics attempt to quantify the effect of future decisions \n",
        "in order to advise on possible outcomes before the decisions are \n",
        "actually made.\n",
        "\n",
        "These analytics are all about providing advice\n",
        "\n",
        "These analytics go beyond descriptive and predictive analytics by \n",
        "recommending one or more possible courses of action. \n",
        "\n",
        "In this notebook, we will attempt to build a Deep-Learning Model that can learn intricate patterns in the data, so as to properly classify future transactions as either `fraud` or `not-fraud`, with an associated probability score that can tell us how confident the model prediction is on each attempt.\n",
        "\n",
        "We shall combine this model with other behavioral insights to help fight fraudulent transactions as quickly as they occur."
      ]
    },
    {
      "cell_type": "markdown",
      "metadata": {
        "id": "bC1tb7gWC9T_"
      },
      "source": [
        "### 1. Let's see the split of fraud and non-fraud cases in the data"
      ]
    },
    {
      "cell_type": "code",
      "metadata": {
        "id": "ZK7daH9e88jB",
        "colab": {
          "base_uri": "https://localhost:8080/",
          "height": 162
        },
        "outputId": "491c2f6a-7bc9-432c-9787-548edd192cf2"
      },
      "source": [
        "# first let's add a column of True/False if fraud is reported or not.\n",
        "\n",
        "combined_df['is_fraud'] = np.where(combined_df['fraud_count'] > 0, True, False)\n",
        "combined_df.head(3)"
      ],
      "execution_count": 10,
      "outputs": [
        {
          "output_type": "execute_result",
          "data": {
            "text/html": [
              "<div>\n",
              "<style scoped>\n",
              "    .dataframe tbody tr th:only-of-type {\n",
              "        vertical-align: middle;\n",
              "    }\n",
              "\n",
              "    .dataframe tbody tr th {\n",
              "        vertical-align: top;\n",
              "    }\n",
              "\n",
              "    .dataframe thead th {\n",
              "        text-align: right;\n",
              "    }\n",
              "</style>\n",
              "<table border=\"1\" class=\"dataframe\">\n",
              "  <thead>\n",
              "    <tr style=\"text-align: right;\">\n",
              "      <th></th>\n",
              "      <th>merchant_id</th>\n",
              "      <th>merchant_industry</th>\n",
              "      <th>merchant_category</th>\n",
              "      <th>merchant_country</th>\n",
              "      <th>currency</th>\n",
              "      <th>transaction_week_start_date</th>\n",
              "      <th>channel</th>\n",
              "      <th>transaction_count</th>\n",
              "      <th>transaction_volume_usd</th>\n",
              "      <th>fraud_count</th>\n",
              "      <th>fraud_volume_usd</th>\n",
              "      <th>otp_fraud</th>\n",
              "      <th>otp_all_transactions</th>\n",
              "      <th>is_fraud</th>\n",
              "    </tr>\n",
              "  </thead>\n",
              "  <tbody>\n",
              "    <tr>\n",
              "      <th>0</th>\n",
              "      <td>1</td>\n",
              "      <td>GOODS-PHYSICAL</td>\n",
              "      <td>e-Commerce</td>\n",
              "      <td>Nigeria</td>\n",
              "      <td>NGN</td>\n",
              "      <td>2021-06-07</td>\n",
              "      <td>card</td>\n",
              "      <td>5</td>\n",
              "      <td>231.590551</td>\n",
              "      <td>0</td>\n",
              "      <td>0.0</td>\n",
              "      <td>0</td>\n",
              "      <td>5</td>\n",
              "      <td>False</td>\n",
              "    </tr>\n",
              "    <tr>\n",
              "      <th>1</th>\n",
              "      <td>5</td>\n",
              "      <td>SERVICES-LEGAL</td>\n",
              "      <td>Other</td>\n",
              "      <td>Nigeria</td>\n",
              "      <td>NGN</td>\n",
              "      <td>2021-06-07</td>\n",
              "      <td>card</td>\n",
              "      <td>2</td>\n",
              "      <td>210.203412</td>\n",
              "      <td>0</td>\n",
              "      <td>0.0</td>\n",
              "      <td>0</td>\n",
              "      <td>2</td>\n",
              "      <td>False</td>\n",
              "    </tr>\n",
              "    <tr>\n",
              "      <th>2</th>\n",
              "      <td>9</td>\n",
              "      <td>TRAVEL</td>\n",
              "      <td>Travel &amp; Hospitality</td>\n",
              "      <td>Nigeria</td>\n",
              "      <td>NGN</td>\n",
              "      <td>2021-06-07</td>\n",
              "      <td>card</td>\n",
              "      <td>4</td>\n",
              "      <td>223.097113</td>\n",
              "      <td>0</td>\n",
              "      <td>0.0</td>\n",
              "      <td>0</td>\n",
              "      <td>1</td>\n",
              "      <td>False</td>\n",
              "    </tr>\n",
              "  </tbody>\n",
              "</table>\n",
              "</div>"
            ],
            "text/plain": [
              "   merchant_id merchant_industry  ... otp_all_transactions is_fraud\n",
              "0            1    GOODS-PHYSICAL  ...                    5    False\n",
              "1            5    SERVICES-LEGAL  ...                    2    False\n",
              "2            9            TRAVEL  ...                    1    False\n",
              "\n",
              "[3 rows x 14 columns]"
            ]
          },
          "metadata": {},
          "execution_count": 10
        }
      ]
    },
    {
      "cell_type": "code",
      "metadata": {
        "colab": {
          "base_uri": "https://localhost:8080/",
          "height": 407
        },
        "id": "SmCPpqxVFZWU",
        "outputId": "a35e04c5-f120-439b-e090-2aa803334af9"
      },
      "source": [
        "size = (10, 6)\n",
        "plt.figure(figsize=size)\n",
        "sns.countplot(x='is_fraud', data=combined_df), \n",
        "plt.title('Fraud vs Non-fraud Transactions Count', fontdict=fontDict2)\n",
        "height1 = len(combined_df.is_fraud)-sum(combined_df.is_fraud)\n",
        "height2 = sum(combined_df.is_fraud)\n",
        "plt.text(0, height1+100, str(height1), fontdict=fontDict2)\n",
        "plt.text(1, height2+200, str(height2), fontdict=fontDict2)\n",
        "\n",
        "plt.show()"
      ],
      "execution_count": 11,
      "outputs": [
        {
          "output_type": "display_data",
          "data": {
            "image/png": "[encoded data removed]",
            "text/plain": [
              "<Figure size 720x432 with 1 Axes>"
            ]
          },
          "metadata": {
            "needs_background": "light"
          }
        }
      ]
    },
    {
      "cell_type": "markdown",
      "metadata": {
        "id": "QUlXKkHXNchh"
      },
      "source": [
        "**We have a grossly imbalanced dataset**\n",
        "\n",
        "Let's load the earlier preprocessed data set from Diagnostic Analytics stage"
      ]
    },
    {
      "cell_type": "code",
      "metadata": {
        "colab": {
          "base_uri": "https://localhost:8080/",
          "height": 159
        },
        "id": "L9CtaOUmNi0Z",
        "outputId": "385be5ae-332b-4f21-8d9f-72ba2ec4e594"
      },
      "source": [
        "processed_df = pd.read_csv('processed_mi_combined.csv')\n",
        "print('shape is {}'.format(processed_df.shape))\n",
        "processed_df.head(3)"
      ],
      "execution_count": 12,
      "outputs": [
        {
          "output_type": "stream",
          "name": "stdout",
          "text": [
            "shape is (17418, 8)\n"
          ]
        },
        {
          "output_type": "execute_result",
          "data": {
            "text/html": [
              "<div>\n",
              "<style scoped>\n",
              "    .dataframe tbody tr th:only-of-type {\n",
              "        vertical-align: middle;\n",
              "    }\n",
              "\n",
              "    .dataframe tbody tr th {\n",
              "        vertical-align: top;\n",
              "    }\n",
              "\n",
              "    .dataframe thead th {\n",
              "        text-align: right;\n",
              "    }\n",
              "</style>\n",
              "<table border=\"1\" class=\"dataframe\">\n",
              "  <thead>\n",
              "    <tr style=\"text-align: right;\">\n",
              "      <th></th>\n",
              "      <th>merchant_category</th>\n",
              "      <th>transaction_volume_usd</th>\n",
              "      <th>otp_fraud</th>\n",
              "      <th>merchant_industry</th>\n",
              "      <th>transaction_week_start_date</th>\n",
              "      <th>fraud_count</th>\n",
              "      <th>centroid</th>\n",
              "      <th>pt2centroid</th>\n",
              "    </tr>\n",
              "  </thead>\n",
              "  <tbody>\n",
              "    <tr>\n",
              "      <th>0</th>\n",
              "      <td>0.0</td>\n",
              "      <td>0.823529</td>\n",
              "      <td>0.0</td>\n",
              "      <td>0.000000</td>\n",
              "      <td>0.0</td>\n",
              "      <td>0.0</td>\n",
              "      <td>20</td>\n",
              "      <td>0.190176</td>\n",
              "    </tr>\n",
              "    <tr>\n",
              "      <th>1</th>\n",
              "      <td>0.1</td>\n",
              "      <td>0.823529</td>\n",
              "      <td>0.0</td>\n",
              "      <td>0.016129</td>\n",
              "      <td>0.0</td>\n",
              "      <td>0.0</td>\n",
              "      <td>20</td>\n",
              "      <td>0.179691</td>\n",
              "    </tr>\n",
              "    <tr>\n",
              "      <th>2</th>\n",
              "      <td>0.2</td>\n",
              "      <td>0.823529</td>\n",
              "      <td>0.0</td>\n",
              "      <td>0.032258</td>\n",
              "      <td>0.0</td>\n",
              "      <td>0.0</td>\n",
              "      <td>20</td>\n",
              "      <td>0.178412</td>\n",
              "    </tr>\n",
              "  </tbody>\n",
              "</table>\n",
              "</div>"
            ],
            "text/plain": [
              "   merchant_category  transaction_volume_usd  ...  centroid  pt2centroid\n",
              "0                0.0                0.823529  ...        20     0.190176\n",
              "1                0.1                0.823529  ...        20     0.179691\n",
              "2                0.2                0.823529  ...        20     0.178412\n",
              "\n",
              "[3 rows x 8 columns]"
            ]
          },
          "metadata": {},
          "execution_count": 12
        }
      ]
    },
    {
      "cell_type": "markdown",
      "metadata": {
        "id": "XYRYIQVQZvps"
      },
      "source": [
        "Let's see the numerical distribution, so we know how to normalize the centroid column"
      ]
    },
    {
      "cell_type": "code",
      "metadata": {
        "colab": {
          "base_uri": "https://localhost:8080/",
          "height": 499
        },
        "id": "7IXNvqaxY_9B",
        "outputId": "8767f90a-270b-4e65-c8fc-3ee81e891365"
      },
      "source": [
        "processed_df.hist(figsize=(12,8))\n",
        "plt.show()"
      ],
      "execution_count": 13,
      "outputs": [
        {
          "output_type": "display_data",
          "data": {
            "image/png": "[encoded data removed]",
            "text/plain": [
              "<Figure size 864x576 with 9 Axes>"
            ]
          },
          "metadata": {
            "needs_background": "light"
          }
        }
      ]
    },
    {
      "cell_type": "markdown",
      "metadata": {
        "id": "TixYi-qVvL3n"
      },
      "source": [
        "Let's use min-ma to normalize the `centroid` column"
      ]
    },
    {
      "cell_type": "code",
      "metadata": {
        "id": "U-2RByKdaPJT"
      },
      "source": [
        "def minMaxScaler(numArr):\n",
        "  minx = np.min(numArr)\n",
        "  maxx = np.max(numArr)\n",
        "  numArr = (numArr - minx) / (maxx - minx)\n",
        "  return numArr"
      ],
      "execution_count": 14,
      "outputs": []
    },
    {
      "cell_type": "code",
      "metadata": {
        "id": "3Cmuw3gfwbfA"
      },
      "source": [
        "processed_df.centroid = minMaxScaler(processed_df.centroid)"
      ],
      "execution_count": 15,
      "outputs": []
    },
    {
      "cell_type": "code",
      "metadata": {
        "colab": {
          "base_uri": "https://localhost:8080/"
        },
        "id": "0hS4jC9NvoIQ",
        "outputId": "0d95ecac-6db5-47ee-db1f-71ce769a1b91"
      },
      "source": [
        "# check for missing values\n",
        "processed_df.isna().any().sum()"
      ],
      "execution_count": 16,
      "outputs": [
        {
          "output_type": "execute_result",
          "data": {
            "text/plain": [
              "0"
            ]
          },
          "metadata": {},
          "execution_count": 16
        }
      ]
    },
    {
      "cell_type": "markdown",
      "metadata": {
        "id": "OnxGDIl5gVyF"
      },
      "source": [
        "**Choosing and creating the target variable**\n",
        "\n",
        "Since we want to predict if a transaction is fraud or not using the `fraud_count` column for each observation. Let's convert it to a binary class of 1 and 0 for True and False if it's fraud or not."
      ]
    },
    {
      "cell_type": "code",
      "metadata": {
        "colab": {
          "base_uri": "https://localhost:8080/",
          "height": 142
        },
        "id": "uXXwT0GvSIe0",
        "outputId": "011debb8-1f3e-43e1-cd32-e7fe2f2e9017"
      },
      "source": [
        "# let's make a target column\n",
        "processed_df['target'] = combined_df.is_fraud\n",
        "\n",
        "# next, let's drop the fraud_count variable and the is_fraud variable from combined_df\n",
        "processed_df.drop(columns=['fraud_count'], inplace=True)\n",
        "combined_df.drop(columns=['is_fraud'], inplace=True)\n",
        "\n",
        "processed_df.head(3)"
      ],
      "execution_count": 17,
      "outputs": [
        {
          "output_type": "execute_result",
          "data": {
            "text/html": [
              "<div>\n",
              "<style scoped>\n",
              "    .dataframe tbody tr th:only-of-type {\n",
              "        vertical-align: middle;\n",
              "    }\n",
              "\n",
              "    .dataframe tbody tr th {\n",
              "        vertical-align: top;\n",
              "    }\n",
              "\n",
              "    .dataframe thead th {\n",
              "        text-align: right;\n",
              "    }\n",
              "</style>\n",
              "<table border=\"1\" class=\"dataframe\">\n",
              "  <thead>\n",
              "    <tr style=\"text-align: right;\">\n",
              "      <th></th>\n",
              "      <th>merchant_category</th>\n",
              "      <th>transaction_volume_usd</th>\n",
              "      <th>otp_fraud</th>\n",
              "      <th>merchant_industry</th>\n",
              "      <th>transaction_week_start_date</th>\n",
              "      <th>centroid</th>\n",
              "      <th>pt2centroid</th>\n",
              "      <th>target</th>\n",
              "    </tr>\n",
              "  </thead>\n",
              "  <tbody>\n",
              "    <tr>\n",
              "      <th>0</th>\n",
              "      <td>0.0</td>\n",
              "      <td>0.823529</td>\n",
              "      <td>0.0</td>\n",
              "      <td>0.000000</td>\n",
              "      <td>0.0</td>\n",
              "      <td>0.512821</td>\n",
              "      <td>0.190176</td>\n",
              "      <td>False</td>\n",
              "    </tr>\n",
              "    <tr>\n",
              "      <th>1</th>\n",
              "      <td>0.1</td>\n",
              "      <td>0.823529</td>\n",
              "      <td>0.0</td>\n",
              "      <td>0.016129</td>\n",
              "      <td>0.0</td>\n",
              "      <td>0.512821</td>\n",
              "      <td>0.179691</td>\n",
              "      <td>False</td>\n",
              "    </tr>\n",
              "    <tr>\n",
              "      <th>2</th>\n",
              "      <td>0.2</td>\n",
              "      <td>0.823529</td>\n",
              "      <td>0.0</td>\n",
              "      <td>0.032258</td>\n",
              "      <td>0.0</td>\n",
              "      <td>0.512821</td>\n",
              "      <td>0.178412</td>\n",
              "      <td>False</td>\n",
              "    </tr>\n",
              "  </tbody>\n",
              "</table>\n",
              "</div>"
            ],
            "text/plain": [
              "   merchant_category  transaction_volume_usd  ...  pt2centroid  target\n",
              "0                0.0                0.823529  ...     0.190176   False\n",
              "1                0.1                0.823529  ...     0.179691   False\n",
              "2                0.2                0.823529  ...     0.178412   False\n",
              "\n",
              "[3 rows x 8 columns]"
            ]
          },
          "metadata": {},
          "execution_count": 17
        }
      ]
    },
    {
      "cell_type": "code",
      "metadata": {
        "colab": {
          "base_uri": "https://localhost:8080/",
          "height": 142
        },
        "id": "wY4B1RcwXHtB",
        "outputId": "9f15cc85-cf4d-42b4-9040-d50fef0c7dc7"
      },
      "source": [
        "# let's make True or Flase, 0 or 1\n",
        "processed_df['target'] = processed_df['target'].astype('int')\n",
        "processed_df.head(3)"
      ],
      "execution_count": 18,
      "outputs": [
        {
          "output_type": "execute_result",
          "data": {
            "text/html": [
              "<div>\n",
              "<style scoped>\n",
              "    .dataframe tbody tr th:only-of-type {\n",
              "        vertical-align: middle;\n",
              "    }\n",
              "\n",
              "    .dataframe tbody tr th {\n",
              "        vertical-align: top;\n",
              "    }\n",
              "\n",
              "    .dataframe thead th {\n",
              "        text-align: right;\n",
              "    }\n",
              "</style>\n",
              "<table border=\"1\" class=\"dataframe\">\n",
              "  <thead>\n",
              "    <tr style=\"text-align: right;\">\n",
              "      <th></th>\n",
              "      <th>merchant_category</th>\n",
              "      <th>transaction_volume_usd</th>\n",
              "      <th>otp_fraud</th>\n",
              "      <th>merchant_industry</th>\n",
              "      <th>transaction_week_start_date</th>\n",
              "      <th>centroid</th>\n",
              "      <th>pt2centroid</th>\n",
              "      <th>target</th>\n",
              "    </tr>\n",
              "  </thead>\n",
              "  <tbody>\n",
              "    <tr>\n",
              "      <th>0</th>\n",
              "      <td>0.0</td>\n",
              "      <td>0.823529</td>\n",
              "      <td>0.0</td>\n",
              "      <td>0.000000</td>\n",
              "      <td>0.0</td>\n",
              "      <td>0.512821</td>\n",
              "      <td>0.190176</td>\n",
              "      <td>0</td>\n",
              "    </tr>\n",
              "    <tr>\n",
              "      <th>1</th>\n",
              "      <td>0.1</td>\n",
              "      <td>0.823529</td>\n",
              "      <td>0.0</td>\n",
              "      <td>0.016129</td>\n",
              "      <td>0.0</td>\n",
              "      <td>0.512821</td>\n",
              "      <td>0.179691</td>\n",
              "      <td>0</td>\n",
              "    </tr>\n",
              "    <tr>\n",
              "      <th>2</th>\n",
              "      <td>0.2</td>\n",
              "      <td>0.823529</td>\n",
              "      <td>0.0</td>\n",
              "      <td>0.032258</td>\n",
              "      <td>0.0</td>\n",
              "      <td>0.512821</td>\n",
              "      <td>0.178412</td>\n",
              "      <td>0</td>\n",
              "    </tr>\n",
              "  </tbody>\n",
              "</table>\n",
              "</div>"
            ],
            "text/plain": [
              "   merchant_category  transaction_volume_usd  ...  pt2centroid  target\n",
              "0                0.0                0.823529  ...     0.190176       0\n",
              "1                0.1                0.823529  ...     0.179691       0\n",
              "2                0.2                0.823529  ...     0.178412       0\n",
              "\n",
              "[3 rows x 8 columns]"
            ]
          },
          "metadata": {},
          "execution_count": 18
        }
      ]
    },
    {
      "cell_type": "code",
      "metadata": {
        "colab": {
          "base_uri": "https://localhost:8080/"
        },
        "id": "0XDZOioNSYHV",
        "outputId": "17fa454c-38c4-4b0a-ab5e-0acef157a8e9"
      },
      "source": [
        "# check for missing values\n",
        "processed_df.isna().any().sum()"
      ],
      "execution_count": 19,
      "outputs": [
        {
          "output_type": "execute_result",
          "data": {
            "text/plain": [
              "0"
            ]
          },
          "metadata": {},
          "execution_count": 19
        }
      ]
    },
    {
      "cell_type": "code",
      "metadata": {
        "colab": {
          "base_uri": "https://localhost:8080/",
          "height": 162
        },
        "id": "ATLoGG2-iuWk",
        "outputId": "6df0c40a-789c-4831-e5ca-f1bd92f0d91d"
      },
      "source": [
        "# let's check the column deletion here\n",
        "combined_df.head(3)"
      ],
      "execution_count": 20,
      "outputs": [
        {
          "output_type": "execute_result",
          "data": {
            "text/html": [
              "<div>\n",
              "<style scoped>\n",
              "    .dataframe tbody tr th:only-of-type {\n",
              "        vertical-align: middle;\n",
              "    }\n",
              "\n",
              "    .dataframe tbody tr th {\n",
              "        vertical-align: top;\n",
              "    }\n",
              "\n",
              "    .dataframe thead th {\n",
              "        text-align: right;\n",
              "    }\n",
              "</style>\n",
              "<table border=\"1\" class=\"dataframe\">\n",
              "  <thead>\n",
              "    <tr style=\"text-align: right;\">\n",
              "      <th></th>\n",
              "      <th>merchant_id</th>\n",
              "      <th>merchant_industry</th>\n",
              "      <th>merchant_category</th>\n",
              "      <th>merchant_country</th>\n",
              "      <th>currency</th>\n",
              "      <th>transaction_week_start_date</th>\n",
              "      <th>channel</th>\n",
              "      <th>transaction_count</th>\n",
              "      <th>transaction_volume_usd</th>\n",
              "      <th>fraud_count</th>\n",
              "      <th>fraud_volume_usd</th>\n",
              "      <th>otp_fraud</th>\n",
              "      <th>otp_all_transactions</th>\n",
              "    </tr>\n",
              "  </thead>\n",
              "  <tbody>\n",
              "    <tr>\n",
              "      <th>0</th>\n",
              "      <td>1</td>\n",
              "      <td>GOODS-PHYSICAL</td>\n",
              "      <td>e-Commerce</td>\n",
              "      <td>Nigeria</td>\n",
              "      <td>NGN</td>\n",
              "      <td>2021-06-07</td>\n",
              "      <td>card</td>\n",
              "      <td>5</td>\n",
              "      <td>231.590551</td>\n",
              "      <td>0</td>\n",
              "      <td>0.0</td>\n",
              "      <td>0</td>\n",
              "      <td>5</td>\n",
              "    </tr>\n",
              "    <tr>\n",
              "      <th>1</th>\n",
              "      <td>5</td>\n",
              "      <td>SERVICES-LEGAL</td>\n",
              "      <td>Other</td>\n",
              "      <td>Nigeria</td>\n",
              "      <td>NGN</td>\n",
              "      <td>2021-06-07</td>\n",
              "      <td>card</td>\n",
              "      <td>2</td>\n",
              "      <td>210.203412</td>\n",
              "      <td>0</td>\n",
              "      <td>0.0</td>\n",
              "      <td>0</td>\n",
              "      <td>2</td>\n",
              "    </tr>\n",
              "    <tr>\n",
              "      <th>2</th>\n",
              "      <td>9</td>\n",
              "      <td>TRAVEL</td>\n",
              "      <td>Travel &amp; Hospitality</td>\n",
              "      <td>Nigeria</td>\n",
              "      <td>NGN</td>\n",
              "      <td>2021-06-07</td>\n",
              "      <td>card</td>\n",
              "      <td>4</td>\n",
              "      <td>223.097113</td>\n",
              "      <td>0</td>\n",
              "      <td>0.0</td>\n",
              "      <td>0</td>\n",
              "      <td>1</td>\n",
              "    </tr>\n",
              "  </tbody>\n",
              "</table>\n",
              "</div>"
            ],
            "text/plain": [
              "   merchant_id merchant_industry  ... otp_fraud otp_all_transactions\n",
              "0            1    GOODS-PHYSICAL  ...         0                    5\n",
              "1            5    SERVICES-LEGAL  ...         0                    2\n",
              "2            9            TRAVEL  ...         0                    1\n",
              "\n",
              "[3 rows x 13 columns]"
            ]
          },
          "metadata": {},
          "execution_count": 20
        }
      ]
    },
    {
      "cell_type": "markdown",
      "metadata": {
        "id": "dkV8T1gxWLqH"
      },
      "source": [
        "### 2. Splitting the data into Train, Validate and Test sets"
      ]
    },
    {
      "cell_type": "code",
      "metadata": {
        "colab": {
          "base_uri": "https://localhost:8080/"
        },
        "id": "_SvmfgTfWRly",
        "outputId": "b420ac55-6444-4d5a-b973-f85c5e1f9cc0"
      },
      "source": [
        "# Use a utility from sklearn to split and shuffle your dataset.\n",
        "train_df, test_df = train_test_split(processed_df, test_size=0.2)\n",
        "train_df, val_df = train_test_split(train_df, test_size=0.2)\n",
        "\n",
        "# Form np arrays of labels and features.\n",
        "train_labels = np.array(train_df.pop('target'))\n",
        "bool_train_labels = train_labels != 0\n",
        "val_labels = np.array(val_df.pop('target'))\n",
        "test_labels = np.array(test_df.pop('target'))\n",
        "\n",
        "train_features = np.array(train_df)\n",
        "val_features = np.array(val_df)\n",
        "test_features = np.array(test_df)\n",
        "\n",
        "print('split!')"
      ],
      "execution_count": 21,
      "outputs": [
        {
          "output_type": "stream",
          "name": "stdout",
          "text": [
            "split!\n"
          ]
        }
      ]
    },
    {
      "cell_type": "code",
      "metadata": {
        "colab": {
          "base_uri": "https://localhost:8080/"
        },
        "id": "PAbhVnQN59Uu",
        "outputId": "5ac92daf-7e89-4e29-8f5e-56e56e14ee18"
      },
      "source": [
        "print(f'train-features: {train_features.shape}, train-labels: {train_labels.shape}')\n",
        "print(f'val-features: {val_features.shape}, val-labels: {val_labels.shape}')\n",
        "print(f'test-features: {test_features.shape}, test-labels: {test_labels.shape}')"
      ],
      "execution_count": 22,
      "outputs": [
        {
          "output_type": "stream",
          "name": "stdout",
          "text": [
            "train-features: (11147, 7), train-labels: (11147,)\n",
            "val-features: (2787, 7), val-labels: (2787,)\n",
            "test-features: (3484, 7), test-labels: (3484,)\n"
          ]
        }
      ]
    },
    {
      "cell_type": "markdown",
      "metadata": {
        "id": "9vTW3M956ymt"
      },
      "source": [
        "### 3. Build a binary classification model"
      ]
    },
    {
      "cell_type": "code",
      "metadata": {
        "colab": {
          "base_uri": "https://localhost:8080/"
        },
        "id": "06gdW2w06Nhl",
        "outputId": "5b9f30d6-c405-427b-d9d2-a6270a3594be"
      },
      "source": [
        "from tensorflow import keras\n",
        "\n",
        "model = keras.Sequential(\n",
        "    [\n",
        "        keras.layers.Dense(\n",
        "            256, activation=\"relu\", input_shape=(train_features.shape[-1],)\n",
        "        ),\n",
        "        keras.layers.Dense(256, activation=\"relu\"),\n",
        "        keras.layers.Dropout(0.3),\n",
        "        keras.layers.Dense(512, activation=\"relu\"),\n",
        "        keras.layers.Dropout(0.3),\n",
        "        keras.layers.Dense(1, activation=\"sigmoid\"),\n",
        "    ]\n",
        ")\n",
        "model.summary()"
      ],
      "execution_count": 23,
      "outputs": [
        {
          "output_type": "stream",
          "name": "stdout",
          "text": [
            "Model: \"sequential\"\n",
            "_________________________________________________________________\n",
            " Layer (type)                Output Shape              Param #   \n",
            "=================================================================\n",
            " dense (Dense)               (None, 256)               2048      \n",
            "                                                                 \n",
            " dense_1 (Dense)             (None, 256)               65792     \n",
            "                                                                 \n",
            " dropout (Dropout)           (None, 256)               0         \n",
            "                                                                 \n",
            " dense_2 (Dense)             (None, 512)               131584    \n",
            "                                                                 \n",
            " dropout_1 (Dropout)         (None, 512)               0         \n",
            "                                                                 \n",
            " dense_3 (Dense)             (None, 1)                 513       \n",
            "                                                                 \n",
            "=================================================================\n",
            "Total params: 199,937\n",
            "Trainable params: 199,937\n",
            "Non-trainable params: 0\n",
            "_________________________________________________________________\n"
          ]
        }
      ]
    },
    {
      "cell_type": "markdown",
      "metadata": {
        "id": "esDTbtEw7C8K"
      },
      "source": [
        "### 4. Train the model with class_weight argument\n",
        "\n",
        "Because of the gross imbalance, we would appemd weights to each class that sort of balances out the learning experience for the model and makes it possible for the model to learn as well from the minority class as from the majority."
      ]
    },
    {
      "cell_type": "code",
      "metadata": {
        "id": "8eyypJQ27aE1"
      },
      "source": [
        "# Define evaluationmetrics\n",
        "\n",
        "METRICS = [\n",
        "      keras.metrics.TruePositives(name='tp'),\n",
        "      keras.metrics.FalsePositives(name='fp'),\n",
        "      keras.metrics.TrueNegatives(name='tn'),\n",
        "      keras.metrics.FalseNegatives(name='fn'), \n",
        "      keras.metrics.BinaryAccuracy(name='accuracy'),\n",
        "      keras.metrics.Precision(name='precision'),\n",
        "      keras.metrics.Recall(name='recall'),\n",
        "      keras.metrics.AUC(name='auc'),\n",
        "      keras.metrics.AUC(name='prc', curve='PR'), # precision-recall curve\n",
        "]"
      ],
      "execution_count": 24,
      "outputs": []
    },
    {
      "cell_type": "code",
      "metadata": {
        "id": "p0V65c68BK1e"
      },
      "source": [
        "EPOCHS = 100\n",
        "BATCH_SIZE = 512\n",
        "\n",
        "early_stopping = tf.keras.callbacks.EarlyStopping(\n",
        "    monitor='val_prc', \n",
        "    verbose=1,\n",
        "    patience=10,\n",
        "    mode='max',\n",
        "    restore_best_weights=True)"
      ],
      "execution_count": 25,
      "outputs": []
    },
    {
      "cell_type": "code",
      "metadata": {
        "colab": {
          "base_uri": "https://localhost:8080/"
        },
        "id": "HIb_VjJm72od",
        "outputId": "1d44e129-e74a-46c5-d56b-737d00e3b92a"
      },
      "source": [
        "from sklearn.utils import class_weight\n",
        "\n",
        "# define the class weights\n",
        "class_weights = class_weight.compute_class_weight('balanced',\n",
        "                                                 np.unique(train_labels),\n",
        "                                                 train_labels)\n",
        "\n",
        "# Convert classweights from array to dict\n",
        "class_weights = dict(enumerate(class_weights))\n",
        "print(f'class weights: {class_weights}')"
      ],
      "execution_count": 26,
      "outputs": [
        {
          "output_type": "stream",
          "name": "stdout",
          "text": [
            "class weights: {0: 0.503114280556057, 1: 80.77536231884058}\n"
          ]
        }
      ]
    },
    {
      "cell_type": "code",
      "metadata": {
        "colab": {
          "base_uri": "https://localhost:8080/"
        },
        "id": "OW-E4AB-7rq5",
        "outputId": "4162bb91-0528-47a9-de09-9f6ab350d0a9"
      },
      "source": [
        "model.compile(\n",
        "    optimizer=keras.optimizers.Adam(1e-2), loss=\"binary_crossentropy\", metrics=METRICS\n",
        ")\n",
        "\n",
        "# Fit the model with the class weights\n",
        "baseline_history = model.fit(\n",
        "    train_features,\n",
        "    train_labels,\n",
        "    batch_size=BATCH_SIZE,\n",
        "    epochs=EPOCHS,\n",
        "    verbose=1,\n",
        "    callbacks=[early_stopping],\n",
        "    validation_data=(val_features, val_labels),\n",
        "    class_weight=class_weights\n",
        ")"
      ],
      "execution_count": 27,
      "outputs": [
        {
          "output_type": "stream",
          "name": "stdout",
          "text": [
            "Epoch 1/100\n",
            "22/22 [==============================] - 4s 73ms/step - loss: 0.6631 - tp: 51.0000 - fp: 3585.0000 - tn: 7493.0000 - fn: 18.0000 - accuracy: 0.6768 - precision: 0.0140 - recall: 0.7391 - auc: 0.7627 - prc: 0.0531 - val_loss: 1.5215 - val_tp: 20.0000 - val_fp: 1875.0000 - val_tn: 892.0000 - val_fn: 0.0000e+00 - val_accuracy: 0.3272 - val_precision: 0.0106 - val_recall: 1.0000 - val_auc: 0.9439 - val_prc: 0.2634\n",
            "Epoch 2/100\n",
            "22/22 [==============================] - 0s 16ms/step - loss: 0.5015 - tp: 61.0000 - fp: 3484.0000 - tn: 7594.0000 - fn: 8.0000 - accuracy: 0.6867 - precision: 0.0172 - recall: 0.8841 - auc: 0.8384 - prc: 0.0484 - val_loss: 0.3014 - val_tp: 16.0000 - val_fp: 532.0000 - val_tn: 2235.0000 - val_fn: 4.0000 - val_accuracy: 0.8077 - val_precision: 0.0292 - val_recall: 0.8000 - val_auc: 0.9222 - val_prc: 0.2833\n",
            "Epoch 3/100\n",
            "22/22 [==============================] - 0s 15ms/step - loss: 0.4662 - tp: 57.0000 - fp: 2824.0000 - tn: 8254.0000 - fn: 12.0000 - accuracy: 0.7456 - precision: 0.0198 - recall: 0.8261 - auc: 0.8674 - prc: 0.1160 - val_loss: 0.4022 - val_tp: 20.0000 - val_fp: 735.0000 - val_tn: 2032.0000 - val_fn: 0.0000e+00 - val_accuracy: 0.7363 - val_precision: 0.0265 - val_recall: 1.0000 - val_auc: 0.9453 - val_prc: 0.3708\n",
            "Epoch 4/100\n",
            "22/22 [==============================] - 0s 15ms/step - loss: 0.3645 - tp: 65.0000 - fp: 2588.0000 - tn: 8490.0000 - fn: 4.0000 - accuracy: 0.7675 - precision: 0.0245 - recall: 0.9420 - auc: 0.9149 - prc: 0.2525 - val_loss: 0.2586 - val_tp: 18.0000 - val_fp: 491.0000 - val_tn: 2276.0000 - val_fn: 2.0000 - val_accuracy: 0.8231 - val_precision: 0.0354 - val_recall: 0.9000 - val_auc: 0.9379 - val_prc: 0.3631\n",
            "Epoch 5/100\n",
            "22/22 [==============================] - 0s 15ms/step - loss: 0.3718 - tp: 61.0000 - fp: 2541.0000 - tn: 8537.0000 - fn: 8.0000 - accuracy: 0.7713 - precision: 0.0234 - recall: 0.8841 - auc: 0.9141 - prc: 0.2668 - val_loss: 0.7815 - val_tp: 20.0000 - val_fp: 1160.0000 - val_tn: 1607.0000 - val_fn: 0.0000e+00 - val_accuracy: 0.5838 - val_precision: 0.0169 - val_recall: 1.0000 - val_auc: 0.9491 - val_prc: 0.4099\n",
            "Epoch 6/100\n",
            "22/22 [==============================] - 0s 15ms/step - loss: 0.4460 - tp: 65.0000 - fp: 3932.0000 - tn: 7146.0000 - fn: 4.0000 - accuracy: 0.6469 - precision: 0.0163 - recall: 0.9420 - auc: 0.8941 - prc: 0.2002 - val_loss: 0.6840 - val_tp: 20.0000 - val_fp: 1316.0000 - val_tn: 1451.0000 - val_fn: 0.0000e+00 - val_accuracy: 0.5278 - val_precision: 0.0150 - val_recall: 1.0000 - val_auc: 0.9505 - val_prc: 0.2748\n",
            "Epoch 7/100\n",
            "22/22 [==============================] - 0s 15ms/step - loss: 0.4251 - tp: 66.0000 - fp: 2927.0000 - tn: 8151.0000 - fn: 3.0000 - accuracy: 0.7371 - precision: 0.0221 - recall: 0.9565 - auc: 0.9186 - prc: 0.2935 - val_loss: 0.1797 - val_tp: 14.0000 - val_fp: 235.0000 - val_tn: 2532.0000 - val_fn: 6.0000 - val_accuracy: 0.9135 - val_precision: 0.0562 - val_recall: 0.7000 - val_auc: 0.9416 - val_prc: 0.3279\n",
            "Epoch 8/100\n",
            "22/22 [==============================] - 0s 15ms/step - loss: 0.3407 - tp: 59.0000 - fp: 2035.0000 - tn: 9043.0000 - fn: 10.0000 - accuracy: 0.8165 - precision: 0.0282 - recall: 0.8551 - auc: 0.9232 - prc: 0.2992 - val_loss: 0.8771 - val_tp: 20.0000 - val_fp: 1103.0000 - val_tn: 1664.0000 - val_fn: 0.0000e+00 - val_accuracy: 0.6042 - val_precision: 0.0178 - val_recall: 1.0000 - val_auc: 0.9480 - val_prc: 0.3744\n",
            "Epoch 9/100\n",
            "22/22 [==============================] - 0s 15ms/step - loss: 0.4186 - tp: 65.0000 - fp: 3105.0000 - tn: 7973.0000 - fn: 4.0000 - accuracy: 0.7211 - precision: 0.0205 - recall: 0.9420 - auc: 0.8958 - prc: 0.1772 - val_loss: 0.4168 - val_tp: 20.0000 - val_fp: 772.0000 - val_tn: 1995.0000 - val_fn: 0.0000e+00 - val_accuracy: 0.7230 - val_precision: 0.0253 - val_recall: 1.0000 - val_auc: 0.9535 - val_prc: 0.4394\n",
            "Epoch 10/100\n",
            "22/22 [==============================] - 0s 15ms/step - loss: 0.3974 - tp: 63.0000 - fp: 2479.0000 - tn: 8599.0000 - fn: 6.0000 - accuracy: 0.7771 - precision: 0.0248 - recall: 0.9130 - auc: 0.9013 - prc: 0.1926 - val_loss: 0.3564 - val_tp: 18.0000 - val_fp: 620.0000 - val_tn: 2147.0000 - val_fn: 2.0000 - val_accuracy: 0.7768 - val_precision: 0.0282 - val_recall: 0.9000 - val_auc: 0.9358 - val_prc: 0.3474\n",
            "Epoch 11/100\n",
            "22/22 [==============================] - 0s 14ms/step - loss: 0.3651 - tp: 65.0000 - fp: 3185.0000 - tn: 7893.0000 - fn: 4.0000 - accuracy: 0.7139 - precision: 0.0200 - recall: 0.9420 - auc: 0.9183 - prc: 0.2636 - val_loss: 0.4188 - val_tp: 20.0000 - val_fp: 774.0000 - val_tn: 1993.0000 - val_fn: 0.0000e+00 - val_accuracy: 0.7223 - val_precision: 0.0252 - val_recall: 1.0000 - val_auc: 0.9426 - val_prc: 0.3813\n",
            "Epoch 12/100\n",
            "22/22 [==============================] - 0s 14ms/step - loss: 0.3872 - tp: 63.0000 - fp: 2205.0000 - tn: 8873.0000 - fn: 6.0000 - accuracy: 0.8017 - precision: 0.0278 - recall: 0.9130 - auc: 0.9113 - prc: 0.2561 - val_loss: 0.3505 - val_tp: 19.0000 - val_fp: 643.0000 - val_tn: 2124.0000 - val_fn: 1.0000 - val_accuracy: 0.7689 - val_precision: 0.0287 - val_recall: 0.9500 - val_auc: 0.9477 - val_prc: 0.4185\n",
            "Epoch 13/100\n",
            "22/22 [==============================] - 0s 14ms/step - loss: 0.3610 - tp: 62.0000 - fp: 2523.0000 - tn: 8555.0000 - fn: 7.0000 - accuracy: 0.7730 - precision: 0.0240 - recall: 0.8986 - auc: 0.9130 - prc: 0.2450 - val_loss: 0.2288 - val_tp: 17.0000 - val_fp: 407.0000 - val_tn: 2360.0000 - val_fn: 3.0000 - val_accuracy: 0.8529 - val_precision: 0.0401 - val_recall: 0.8500 - val_auc: 0.9275 - val_prc: 0.3243\n",
            "Epoch 14/100\n",
            "22/22 [==============================] - 0s 16ms/step - loss: 0.3125 - tp: 65.0000 - fp: 2453.0000 - tn: 8625.0000 - fn: 4.0000 - accuracy: 0.7796 - precision: 0.0258 - recall: 0.9420 - auc: 0.9323 - prc: 0.2957 - val_loss: 0.2025 - val_tp: 17.0000 - val_fp: 409.0000 - val_tn: 2358.0000 - val_fn: 3.0000 - val_accuracy: 0.8522 - val_precision: 0.0399 - val_recall: 0.8500 - val_auc: 0.9336 - val_prc: 0.4392\n",
            "Epoch 15/100\n",
            "22/22 [==============================] - 0s 16ms/step - loss: 0.4020 - tp: 55.0000 - fp: 2447.0000 - tn: 8631.0000 - fn: 14.0000 - accuracy: 0.7792 - precision: 0.0220 - recall: 0.7971 - auc: 0.8901 - prc: 0.1743 - val_loss: 0.2449 - val_tp: 17.0000 - val_fp: 436.0000 - val_tn: 2331.0000 - val_fn: 3.0000 - val_accuracy: 0.8425 - val_precision: 0.0375 - val_recall: 0.8500 - val_auc: 0.9155 - val_prc: 0.3026\n",
            "Epoch 16/100\n",
            "22/22 [==============================] - 0s 15ms/step - loss: 0.3154 - tp: 66.0000 - fp: 2546.0000 - tn: 8532.0000 - fn: 3.0000 - accuracy: 0.7713 - precision: 0.0253 - recall: 0.9565 - auc: 0.9373 - prc: 0.3004 - val_loss: 0.3133 - val_tp: 18.0000 - val_fp: 619.0000 - val_tn: 2148.0000 - val_fn: 2.0000 - val_accuracy: 0.7772 - val_precision: 0.0283 - val_recall: 0.9000 - val_auc: 0.9373 - val_prc: 0.4146\n",
            "Epoch 17/100\n",
            "22/22 [==============================] - 0s 16ms/step - loss: 0.3161 - tp: 64.0000 - fp: 2489.0000 - tn: 8589.0000 - fn: 5.0000 - accuracy: 0.7763 - precision: 0.0251 - recall: 0.9275 - auc: 0.9325 - prc: 0.3177 - val_loss: 0.3166 - val_tp: 19.0000 - val_fp: 599.0000 - val_tn: 2168.0000 - val_fn: 1.0000 - val_accuracy: 0.7847 - val_precision: 0.0307 - val_recall: 0.9500 - val_auc: 0.9428 - val_prc: 0.3898\n",
            "Epoch 18/100\n",
            "22/22 [==============================] - 0s 16ms/step - loss: 0.3177 - tp: 59.0000 - fp: 1766.0000 - tn: 9312.0000 - fn: 10.0000 - accuracy: 0.8407 - precision: 0.0323 - recall: 0.8551 - auc: 0.9362 - prc: 0.3158 - val_loss: 0.5187 - val_tp: 20.0000 - val_fp: 758.0000 - val_tn: 2009.0000 - val_fn: 0.0000e+00 - val_accuracy: 0.7280 - val_precision: 0.0257 - val_recall: 1.0000 - val_auc: 0.9527 - val_prc: 0.4232\n",
            "Epoch 19/100\n",
            "19/22 [========================>.....] - ETA: 0s - loss: 0.3719 - tp: 50.0000 - fp: 1965.0000 - tn: 7704.0000 - fn: 9.0000 - accuracy: 0.7971 - precision: 0.0248 - recall: 0.8475 - auc: 0.9046 - prc: 0.2517Restoring model weights from the end of the best epoch: 9.\n",
            "22/22 [==============================] - 0s 16ms/step - loss: 0.3641 - tp: 60.0000 - fp: 2412.0000 - tn: 8666.0000 - fn: 9.0000 - accuracy: 0.7828 - precision: 0.0243 - recall: 0.8696 - auc: 0.9087 - prc: 0.2888 - val_loss: 0.3720 - val_tp: 20.0000 - val_fp: 733.0000 - val_tn: 2034.0000 - val_fn: 0.0000e+00 - val_accuracy: 0.7370 - val_precision: 0.0266 - val_recall: 1.0000 - val_auc: 0.9517 - val_prc: 0.4251\n",
            "Epoch 00019: early stopping\n"
          ]
        }
      ]
    },
    {
      "cell_type": "code",
      "metadata": {
        "id": "8Ol4oIMb7rmb"
      },
      "source": [
        "def plot_metrics(history):\n",
        "  metrics = ['loss', 'prc', 'precision', 'recall']\n",
        "  for n, metric in enumerate(metrics):\n",
        "    name = metric.replace(\"_\",\" \").capitalize()\n",
        "    plt.subplot(2,2,n+1)\n",
        "    plt.plot(history.epoch, history.history[metric], color=colors[0], label='Train')\n",
        "    plt.plot(history.epoch, history.history['val_'+metric],\n",
        "             color=colors[1], linestyle=\"--\", label='Val')\n",
        "    plt.xlabel('Epoch')\n",
        "    plt.ylabel(name)\n",
        "    if metric == 'loss':\n",
        "      plt.ylim([0, plt.ylim()[1]])\n",
        "    elif metric == 'auc':\n",
        "      plt.ylim([0.8,1])\n",
        "    else:\n",
        "      plt.ylim([0,1])\n",
        "\n",
        "    plt.legend()"
      ],
      "execution_count": 28,
      "outputs": []
    },
    {
      "cell_type": "code",
      "metadata": {
        "colab": {
          "base_uri": "https://localhost:8080/",
          "height": 504
        },
        "id": "4CHPRcYu7rjo",
        "outputId": "532dc55c-83c8-4ff1-d05f-d79cbec98ab5"
      },
      "source": [
        "colors = random.sample(darker_colors, 2)\n",
        "plt.figure(figsize=(14,8))\n",
        "plot_metrics(baseline_history)"
      ],
      "execution_count": 29,
      "outputs": [
        {
          "output_type": "display_data",
          "data": {
            "image/png": "[encoded data removed]",
            "text/plain": [
              "<Figure size 1008x576 with 4 Axes>"
            ]
          },
          "metadata": {
            "needs_background": "light"
          }
        }
      ]
    },
    {
      "cell_type": "code",
      "metadata": {
        "id": "Wd8u9D-fCtTP"
      },
      "source": [
        "train_predictions_baseline = model.predict(train_features, batch_size=BATCH_SIZE)\n",
        "test_predictions_baseline = model.predict(test_features, batch_size=BATCH_SIZE)"
      ],
      "execution_count": 30,
      "outputs": []
    },
    {
      "cell_type": "code",
      "metadata": {
        "colab": {
          "base_uri": "https://localhost:8080/"
        },
        "id": "PW4pL9LNePKR",
        "outputId": "f1501805-4781-4934-a09a-a41f4e482baa"
      },
      "source": [
        "len(test_features[0])"
      ],
      "execution_count": 31,
      "outputs": [
        {
          "output_type": "execute_result",
          "data": {
            "text/plain": [
              "7"
            ]
          },
          "metadata": {},
          "execution_count": 31
        }
      ]
    },
    {
      "cell_type": "code",
      "metadata": {
        "colab": {
          "base_uri": "https://localhost:8080/",
          "height": 204
        },
        "id": "AMYDfnn7euLz",
        "outputId": "aafe3855-42bd-47e8-987e-35c658c01475"
      },
      "source": [
        "train_df.head()"
      ],
      "execution_count": 32,
      "outputs": [
        {
          "output_type": "execute_result",
          "data": {
            "text/html": [
              "<div>\n",
              "<style scoped>\n",
              "    .dataframe tbody tr th:only-of-type {\n",
              "        vertical-align: middle;\n",
              "    }\n",
              "\n",
              "    .dataframe tbody tr th {\n",
              "        vertical-align: top;\n",
              "    }\n",
              "\n",
              "    .dataframe thead th {\n",
              "        text-align: right;\n",
              "    }\n",
              "</style>\n",
              "<table border=\"1\" class=\"dataframe\">\n",
              "  <thead>\n",
              "    <tr style=\"text-align: right;\">\n",
              "      <th></th>\n",
              "      <th>merchant_category</th>\n",
              "      <th>transaction_volume_usd</th>\n",
              "      <th>otp_fraud</th>\n",
              "      <th>merchant_industry</th>\n",
              "      <th>transaction_week_start_date</th>\n",
              "      <th>centroid</th>\n",
              "      <th>pt2centroid</th>\n",
              "    </tr>\n",
              "  </thead>\n",
              "  <tbody>\n",
              "    <tr>\n",
              "      <th>15797</th>\n",
              "      <td>0.6</td>\n",
              "      <td>1.000000</td>\n",
              "      <td>0.0</td>\n",
              "      <td>0.387097</td>\n",
              "      <td>1.000000</td>\n",
              "      <td>0.128205</td>\n",
              "      <td>4.289635e-02</td>\n",
              "    </tr>\n",
              "    <tr>\n",
              "      <th>5527</th>\n",
              "      <td>1.0</td>\n",
              "      <td>0.235294</td>\n",
              "      <td>0.0</td>\n",
              "      <td>0.564516</td>\n",
              "      <td>0.285714</td>\n",
              "      <td>0.384615</td>\n",
              "      <td>7.961438e-02</td>\n",
              "    </tr>\n",
              "    <tr>\n",
              "      <th>1116</th>\n",
              "      <td>0.1</td>\n",
              "      <td>1.000000</td>\n",
              "      <td>0.0</td>\n",
              "      <td>0.419355</td>\n",
              "      <td>0.000000</td>\n",
              "      <td>0.512821</td>\n",
              "      <td>8.603189e-09</td>\n",
              "    </tr>\n",
              "    <tr>\n",
              "      <th>1529</th>\n",
              "      <td>0.2</td>\n",
              "      <td>1.000000</td>\n",
              "      <td>0.0</td>\n",
              "      <td>0.112903</td>\n",
              "      <td>0.000000</td>\n",
              "      <td>0.512821</td>\n",
              "      <td>1.316008e-01</td>\n",
              "    </tr>\n",
              "    <tr>\n",
              "      <th>16490</th>\n",
              "      <td>1.0</td>\n",
              "      <td>1.000000</td>\n",
              "      <td>0.0</td>\n",
              "      <td>0.564516</td>\n",
              "      <td>1.000000</td>\n",
              "      <td>0.333333</td>\n",
              "      <td>1.065446e-01</td>\n",
              "    </tr>\n",
              "  </tbody>\n",
              "</table>\n",
              "</div>"
            ],
            "text/plain": [
              "       merchant_category  transaction_volume_usd  ...  centroid   pt2centroid\n",
              "15797                0.6                1.000000  ...  0.128205  4.289635e-02\n",
              "5527                 1.0                0.235294  ...  0.384615  7.961438e-02\n",
              "1116                 0.1                1.000000  ...  0.512821  8.603189e-09\n",
              "1529                 0.2                1.000000  ...  0.512821  1.316008e-01\n",
              "16490                1.0                1.000000  ...  0.333333  1.065446e-01\n",
              "\n",
              "[5 rows x 7 columns]"
            ]
          },
          "metadata": {},
          "execution_count": 32
        }
      ]
    },
    {
      "cell_type": "code",
      "metadata": {
        "id": "iuVdf1VrDoF7"
      },
      "source": [
        "def plot_cm(labels, predictions, p=0.5):\n",
        "  cm = confusion_matrix(labels, predictions > p)\n",
        "  plt.figure(figsize=(14,6))\n",
        "  sns.heatmap(cm, annot=True, fmt=\"d\")\n",
        "  plt.title('Confusion matrix @{:.2f}'.format(p))\n",
        "  plt.ylabel('Actual label')\n",
        "  plt.xlabel('Predicted label')\n",
        "\n",
        "  print('Legitimate Transactions Detected (True Negatives): ', cm[0][0])\n",
        "  print('Legitimate Transactions Incorrectly Detected (False Positives): ', cm[0][1])\n",
        "  print('Fraudulent Transactions Missed (False Negatives): ', cm[1][0])\n",
        "  print('Fraudulent Transactions Detected (True Positives): ', cm[1][1])\n",
        "  print('Total Fraudulent Transactions: ', np.sum(cm[1]))"
      ],
      "execution_count": 33,
      "outputs": []
    },
    {
      "cell_type": "code",
      "metadata": {
        "colab": {
          "base_uri": "https://localhost:8080/",
          "height": 679
        },
        "id": "WpIjIzdhDvOI",
        "outputId": "65aaf767-5338-48f6-e074-fbb9d965aafa"
      },
      "source": [
        "baseline_results = model.evaluate(test_features, test_labels,\n",
        "                                  batch_size=BATCH_SIZE, verbose=0)\n",
        "for name, value in zip(model.metrics_names, baseline_results):\n",
        "  print(name, ': ', value)\n",
        "print()\n",
        "\n",
        "plot_cm(test_labels, test_predictions_baseline)"
      ],
      "execution_count": 34,
      "outputs": [
        {
          "output_type": "stream",
          "name": "stdout",
          "text": [
            "loss :  0.42598453164100647\n",
            "tp :  23.0\n",
            "fp :  994.0\n",
            "tn :  2467.0\n",
            "fn :  0.0\n",
            "accuracy :  0.7146957516670227\n",
            "precision :  0.02261553518474102\n",
            "recall :  1.0\n",
            "auc :  0.9646433591842651\n",
            "prc :  0.45088380575180054\n",
            "\n",
            "Legitimate Transactions Detected (True Negatives):  2467\n",
            "Legitimate Transactions Incorrectly Detected (False Positives):  994\n",
            "Fraudulent Transactions Missed (False Negatives):  0\n",
            "Fraudulent Transactions Detected (True Positives):  23\n",
            "Total Fraudulent Transactions:  23\n"
          ]
        },
        {
          "output_type": "display_data",
          "data": {
            "image/png": "[encoded data removed]",
            "text/plain": [
              "<Figure size 1008x432 with 2 Axes>"
            ]
          },
          "metadata": {
            "needs_background": "light"
          }
        }
      ]
    },
    {
      "cell_type": "markdown",
      "metadata": {
        "id": "ohuMTKJzGRmu"
      },
      "source": [
        "In this case, of the 23 fraudulent transactions, the model does remarkably well to detect all of them. This means it's very sensitive to detecting fraud, even though 994 legitimate customers may be subject to more stringent anti-fraud measures since the model falsely identified their transactions as positive to fraud. But on the bright side, over 2400 out of 3461 legitimate customers enjoy a seamless, painless experience, with this model.\n",
        "\n",
        "This is the **Precision** / **Recall** trade-off that most classification applications in real-life face. Often, to better optimise recall, precision takes a hit and vice-versa. We can always adjust this using hyper-parameters like batch-size and the specified neurons in our hidden layers."
      ]
    },
    {
      "cell_type": "markdown",
      "metadata": {
        "id": "O2b6WKJi1Dab"
      },
      "source": [
        "**Let's plot the ROC curve**"
      ]
    },
    {
      "cell_type": "code",
      "metadata": {
        "id": "aj_HAZI21Bm4"
      },
      "source": [
        "def plot_prc(name, labels, predictions, **kwargs):\n",
        "    precision, recall, _ = sklearn.metrics.precision_recall_curve(labels, predictions)\n",
        "    #plt.figure(figsize=size)\n",
        "\n",
        "    plt.plot(precision, recall, label=name, linewidth=2, **kwargs)\n",
        "    plt.xlabel('Recall', fontdict=fontDict2)\n",
        "    plt.ylabel('Precision', fontdict=fontDict2)\n",
        "    plt.grid(True)\n",
        "    ax = plt.gca()\n",
        "    ax.set_aspect('equal')\n",
        "\n",
        "    plt.show"
      ],
      "execution_count": 42,
      "outputs": []
    },
    {
      "cell_type": "code",
      "metadata": {
        "colab": {
          "base_uri": "https://localhost:8080/",
          "height": 381
        },
        "id": "c07WAMRC1ML1",
        "outputId": "784e2de7-63df-4cb7-8a02-7b627ff20e56"
      },
      "source": [
        "plt.figure(figsize=(20, 6))\n",
        "plot_prc(\"Train Baseline\", train_labels, train_predictions_baseline, color=random.sample(darker_colors, 1)[0])\n",
        "plot_prc(\"Test Baseline\", test_labels, test_predictions_baseline, color=random.sample(other_colors, 1)[0], linestyle='--')\n",
        "plt.legend(loc='lower right')\n",
        "plt.show()"
      ],
      "execution_count": 48,
      "outputs": [
        {
          "output_type": "display_data",
          "data": {
            "image/png": "[encoded data removed]",
            "text/plain": [
              "<Figure size 1440x432 with 1 Axes>"
            ]
          },
          "metadata": {
            "needs_background": "light"
          }
        }
      ]
    },
    {
      "cell_type": "code",
      "metadata": {
        "colab": {
          "base_uri": "https://localhost:8080/"
        },
        "id": "NpWZhaOCHh8c",
        "outputId": "4125003d-8b52-4af5-b90a-b32abf895559"
      },
      "source": [
        "# delete all stored model files after running notebook\n",
        "\n",
        "if True:\n",
        "    all_files = os.listdir()\n",
        "    for f in all_files:\n",
        "        if f.startswith('fraud_model_'):\n",
        "            os.remove(f)\n",
        "print('done!')"
      ],
      "execution_count": 37,
      "outputs": [
        {
          "output_type": "stream",
          "name": "stdout",
          "text": [
            "done!\n"
          ]
        }
      ]
    },
    {
      "cell_type": "code",
      "metadata": {
        "id": "SR0MkWKYMWl2",
        "colab": {
          "base_uri": "https://localhost:8080/"
        },
        "outputId": "c916f8a5-737b-4a02-bc0e-a2d00c113cd1"
      },
      "source": [
        "# confirm deletion\n",
        "\n",
        "os.listdir()"
      ],
      "execution_count": 38,
      "outputs": [
        {
          "output_type": "execute_result",
          "data": {
            "text/plain": [
              "['Fraud_sample_data.xlsx',\n",
              " '.ipynb_checkpoints',\n",
              " '01_intro_to_fraud_analysis.ipynb',\n",
              " 'fraud_analysis.ipynb',\n",
              " 'july_df.csv',\n",
              " 'data_dict.csv',\n",
              " 'june_df.csv',\n",
              " 'top_five_clusters.csv',\n",
              " 'mi_combined.csv',\n",
              " 'top_fraud_cluster.csv',\n",
              " 'combined_df.csv',\n",
              " 'processed_mi_combined.csv',\n",
              " '03_diagnostic_analytics.ipynb',\n",
              " 'fraud_analyst_assignment_part2.gdoc',\n",
              " '02_descriptive_analytics.ipynb',\n",
              " 'fraud_analyst_assignment_part1.gdoc',\n",
              " '04_predictive_analytics.ipynb',\n",
              " '05_prescriptive_analytics.ipynb']"
            ]
          },
          "metadata": {},
          "execution_count": 38
        }
      ]
    }
  ]
}