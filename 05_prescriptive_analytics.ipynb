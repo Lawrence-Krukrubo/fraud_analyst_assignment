{
  "nbformat": 4,
  "nbformat_minor": 0,
  "metadata": {
    "colab": {
      "name": "05_prescriptive_analytics.ipynb",
      "provenance": [],
      "collapsed_sections": [],
      "authorship_tag": "ABX9TyN/iDZudSxNs0vhtJlE9Sv4",
      "include_colab_link": true
    },
    "kernelspec": {
      "name": "python3",
      "display_name": "Python 3"
    },
    "language_info": {
      "name": "python"
    }
  },
  "cells": [
    {
      "cell_type": "markdown",
      "metadata": {
        "id": "view-in-github",
        "colab_type": "text"
      },
      "source": [
        "<a href=\"https://colab.research.google.com/github/Lawrence-Krukrubo/fraud_analyst_assignment/blob/main/05_prescriptive_analytics.ipynb\" target=\"_parent\"><img src=\"https://colab.research.google.com/assets/colab-badge.svg\" alt=\"Open In Colab\"/></a>"
      ]
    },
    {
      "cell_type": "code",
      "metadata": {
        "colab": {
          "base_uri": "https://localhost:8080/"
        },
        "id": "twEScLqe6RH3",
        "outputId": "6a5222f5-d9ba-4cf9-fe04-d36f1d6cff76"
      },
      "source": [
        "# First let's mount Google Drive so we can navigate the folders as needed\n",
        "from google.colab import drive\n",
        "drive.mount('/content/gdrive')"
      ],
      "execution_count": 1,
      "outputs": [
        {
          "output_type": "stream",
          "name": "stdout",
          "text": [
            "Drive already mounted at /content/gdrive; to attempt to forcibly remount, call drive.mount(\"/content/gdrive\", force_remount=True).\n"
          ]
        }
      ]
    },
    {
      "cell_type": "markdown",
      "metadata": {
        "id": "DZ4cai_48dZM"
      },
      "source": [
        "**Let's import some much needed libraries...**"
      ]
    },
    {
      "cell_type": "code",
      "metadata": {
        "colab": {
          "base_uri": "https://localhost:8080/"
        },
        "id": "Wa8gujGQ5yua",
        "outputId": "7676342a-d473-4c8c-9a8b-2524d98f8424"
      },
      "source": [
        "import os\n",
        "import pandas as pd\n",
        "import numpy as np\n",
        "import matplotlib as mpl\n",
        "import matplotlib.pyplot as plt\n",
        "import seaborn as sns\n",
        "import plotly.express as px\n",
        "import plotly.graph_objects as go\n",
        "import random\n",
        "import xlrd\n",
        "print('done!')"
      ],
      "execution_count": 2,
      "outputs": [
        {
          "output_type": "stream",
          "name": "stdout",
          "text": [
            "done!\n"
          ]
        }
      ]
    },
    {
      "cell_type": "code",
      "metadata": {
        "colab": {
          "base_uri": "https://localhost:8080/"
        },
        "id": "WThZj_PMQRBC",
        "outputId": "ab03a1f6-fae7-4170-f2e5-46eaf09305f6"
      },
      "source": [
        "# Let's import some Deeplearning modules\n",
        "\n",
        "import tensorflow as tf\n",
        "from tensorflow import keras\n",
        "import tempfile\n",
        "\n",
        "import sklearn\n",
        "from sklearn.metrics import confusion_matrix\n",
        "from sklearn.model_selection import train_test_split\n",
        "from sklearn.preprocessing import StandardScaler\n",
        "print('done!')"
      ],
      "execution_count": 3,
      "outputs": [
        {
          "output_type": "stream",
          "name": "stdout",
          "text": [
            "done!\n"
          ]
        }
      ]
    },
    {
      "cell_type": "code",
      "metadata": {
        "colab": {
          "base_uri": "https://localhost:8080/"
        },
        "id": "X6iimWIBRSZ2",
        "outputId": "59bdce4d-85f8-4195-ba0b-a2e7054bcef0"
      },
      "source": [
        "# Let's get all the colors available in matplotlib\n",
        "other_colors = []\n",
        "darker_colors = []\n",
        "for name, hex in mpl.colors.cnames.items():\n",
        "    if 'dark' in name:\n",
        "        darker_colors.append(name)\n",
        "    else:\n",
        "        other_colors.append(name)\n",
        "\n",
        "# Let's finally save the various plot styles in matplotlib\n",
        "styles = plt.style.available\n",
        "\n",
        "print(f'darker-colors has {len(darker_colors)},\\nother-colors has {len(other_colors)} colors\\nplotting styles are {len(styles)}')"
      ],
      "execution_count": 4,
      "outputs": [
        {
          "output_type": "stream",
          "name": "stdout",
          "text": [
            "darker-colors has 19,\n",
            "other-colors has 129 colors\n",
            "plotting styles are 26\n"
          ]
        }
      ]
    },
    {
      "cell_type": "code",
      "metadata": {
        "id": "3B8XehOzUbbC",
        "colab": {
          "base_uri": "https://localhost:8080/"
        },
        "outputId": "79c63ca4-4801-4cdb-e869-5104c05c48e4"
      },
      "source": [
        "# set more matplotlib defaults\n",
        "def set_rcParams():\n",
        "    mpl.rcParams['axes.labelsize'] = 12\n",
        "    mpl.rcParams['xtick.labelsize'] = 10\n",
        "    mpl.rcParams['ytick.labelsize'] = 10\n",
        "    mpl.rcParams['text.color'] = 'k'\n",
        "    mpl.rc('lines', linewidth=4, linestyle='-.')\n",
        "    print('rcParams set!')\n",
        "\n",
        "# Set the plots design to xkcd\n",
        "# plt.xkcd()  # For xkcd style plots\n",
        "#plt.rcdefaults()  # to stop xkcd plots\n",
        "\n",
        "# fontdict for plot titles\n",
        "fontDict1 = {'fontfamily': 'fantasy',\n",
        "             'fontsize': 'x-large',\n",
        "             'fontstyle': 'italic',\n",
        "             'fontweight': 'heavy',\n",
        "             'ha': 'center',\n",
        "             'color': 'darkred',\n",
        "             'va': 'baseline'}\n",
        "\n",
        "# fontdict for plot labels\n",
        "fontDict2 = {'fontfamily': 'serif',\n",
        "             'fontsize': 'large',\n",
        "             'fontstyle': 'oblique',\n",
        "             'fontweight': 'semibold',\n",
        "             'ha': 'center',\n",
        "             'color': 'black',\n",
        "             'va': 'baseline'}\n",
        "\n",
        "set_rcParams()"
      ],
      "execution_count": 5,
      "outputs": [
        {
          "output_type": "stream",
          "name": "stdout",
          "text": [
            "rcParams set!\n"
          ]
        }
      ]
    },
    {
      "cell_type": "markdown",
      "metadata": {
        "id": "4ewL2RK07xdy"
      },
      "source": [
        "**Let's change our Directory to the Fraud directory containing our data**"
      ]
    },
    {
      "cell_type": "code",
      "metadata": {
        "colab": {
          "base_uri": "https://localhost:8080/"
        },
        "id": "b1lzL6id5851",
        "outputId": "54c5face-a9b5-4b19-c898-26e4c6090f62"
      },
      "source": [
        "FRAUD_DIR = '/content/gdrive/MyDrive/Colab_Notebooks/fraud_analyst_assignment'\n",
        "os.chdir(FRAUD_DIR)\n",
        "print(f'Current Dir: {os.getcwd()}')"
      ],
      "execution_count": 6,
      "outputs": [
        {
          "output_type": "stream",
          "name": "stdout",
          "text": [
            "Current Dir: /content/gdrive/MyDrive/Colab_Notebooks/fraud_analyst_assignment\n"
          ]
        }
      ]
    },
    {
      "cell_type": "code",
      "metadata": {
        "colab": {
          "base_uri": "https://localhost:8080/"
        },
        "id": "M9wIfqEC8Nf2",
        "outputId": "6c7b46c6-5cb3-43d1-8b51-71cb8127afc4"
      },
      "source": [
        "# Let's see some of the contents of the CWD\n",
        "os.listdir()[:10]"
      ],
      "execution_count": 39,
      "outputs": [
        {
          "output_type": "execute_result",
          "data": {
            "text/plain": [
              "['Fraud_sample_data.xlsx',\n",
              " 'questionsAndPoints.gdoc',\n",
              " '.ipynb_checkpoints',\n",
              " '01_intro_to_fraud_analysis.ipynb',\n",
              " 'fraud_analysis.ipynb',\n",
              " 'july_df.csv',\n",
              " 'june_df.csv',\n",
              " 'data_dict.csv',\n",
              " '02_descriptive_analytics.ipynb',\n",
              " 'combined_df.csv']"
            ]
          },
          "metadata": {},
          "execution_count": 39
        }
      ]
    },
    {
      "cell_type": "markdown",
      "metadata": {
        "id": "6lSVIiDNl3Wn"
      },
      "source": [
        "### 1. Loading previous data from Diagnostic stage.."
      ]
    },
    {
      "cell_type": "code",
      "metadata": {
        "colab": {
          "base_uri": "https://localhost:8080/",
          "height": 452
        },
        "id": "i7pT_Y1YmA3e",
        "outputId": "567b421d-7353-4b6b-f68a-9e01fb1a7157"
      },
      "source": [
        "# First, we load the data dictionary...\n",
        "\n",
        "pd.set_option('max_colwidth', None)\n",
        "data_dict  = pd.read_csv('data_dict.csv')\n",
        "data_dict"
      ],
      "execution_count": 8,
      "outputs": [
        {
          "output_type": "execute_result",
          "data": {
            "text/html": [
              "<div>\n",
              "<style scoped>\n",
              "    .dataframe tbody tr th:only-of-type {\n",
              "        vertical-align: middle;\n",
              "    }\n",
              "\n",
              "    .dataframe tbody tr th {\n",
              "        vertical-align: top;\n",
              "    }\n",
              "\n",
              "    .dataframe thead th {\n",
              "        text-align: right;\n",
              "    }\n",
              "</style>\n",
              "<table border=\"1\" class=\"dataframe\">\n",
              "  <thead>\n",
              "    <tr style=\"text-align: right;\">\n",
              "      <th></th>\n",
              "      <th>Field name</th>\n",
              "      <th>Field description</th>\n",
              "    </tr>\n",
              "  </thead>\n",
              "  <tbody>\n",
              "    <tr>\n",
              "      <th>0</th>\n",
              "      <td>merchant_id</td>\n",
              "      <td>Randomly generated identifier to represent a merchant</td>\n",
              "    </tr>\n",
              "    <tr>\n",
              "      <th>1</th>\n",
              "      <td>merchant_industry</td>\n",
              "      <td>Industry in which the merchant operates</td>\n",
              "    </tr>\n",
              "    <tr>\n",
              "      <th>2</th>\n",
              "      <td>merchant_category</td>\n",
              "      <td>Business category of the merchant</td>\n",
              "    </tr>\n",
              "    <tr>\n",
              "      <th>3</th>\n",
              "      <td>merchant_country</td>\n",
              "      <td>The country in which the merchant is based</td>\n",
              "    </tr>\n",
              "    <tr>\n",
              "      <th>4</th>\n",
              "      <td>currency</td>\n",
              "      <td>The local currency the transcation was processed in</td>\n",
              "    </tr>\n",
              "    <tr>\n",
              "      <th>5</th>\n",
              "      <td>transaction_week_start_date</td>\n",
              "      <td>Week in which the transaction occured</td>\n",
              "    </tr>\n",
              "    <tr>\n",
              "      <th>6</th>\n",
              "      <td>channel</td>\n",
              "      <td>The payment method for the transaction</td>\n",
              "    </tr>\n",
              "    <tr>\n",
              "      <th>7</th>\n",
              "      <td>transaction_count</td>\n",
              "      <td>The number of transactions for the day</td>\n",
              "    </tr>\n",
              "    <tr>\n",
              "      <th>8</th>\n",
              "      <td>transaction_volume_usd</td>\n",
              "      <td>The total value of the transactions converted to USD</td>\n",
              "    </tr>\n",
              "    <tr>\n",
              "      <th>9</th>\n",
              "      <td>fraud_count</td>\n",
              "      <td>The number of transactions which were reported as fraudulent for the day</td>\n",
              "    </tr>\n",
              "    <tr>\n",
              "      <th>10</th>\n",
              "      <td>fraud_volume_usd</td>\n",
              "      <td>The total value of the transactions which were reported as fraudulent converted to USD</td>\n",
              "    </tr>\n",
              "    <tr>\n",
              "      <th>11</th>\n",
              "      <td>otp_fraud</td>\n",
              "      <td>The number of fraudulent transactions which were authenticated using a one time pin</td>\n",
              "    </tr>\n",
              "    <tr>\n",
              "      <th>12</th>\n",
              "      <td>otp_all_transactions</td>\n",
              "      <td>The number of total transactions which were authenticated using a one time pin</td>\n",
              "    </tr>\n",
              "  </tbody>\n",
              "</table>\n",
              "</div>"
            ],
            "text/plain": [
              "                     Field name                                                                       Field description\n",
              "0                   merchant_id                                   Randomly generated identifier to represent a merchant\n",
              "1             merchant_industry                                                 Industry in which the merchant operates\n",
              "2             merchant_category                                                       Business category of the merchant\n",
              "3              merchant_country                                              The country in which the merchant is based\n",
              "4                      currency                                    The local currency the transcation was processed in \n",
              "5   transaction_week_start_date                                                   Week in which the transaction occured\n",
              "6                       channel                                                  The payment method for the transaction\n",
              "7             transaction_count                                                  The number of transactions for the day\n",
              "8        transaction_volume_usd                                    The total value of the transactions converted to USD\n",
              "9                   fraud_count                The number of transactions which were reported as fraudulent for the day\n",
              "10             fraud_volume_usd  The total value of the transactions which were reported as fraudulent converted to USD\n",
              "11                    otp_fraud     The number of fraudulent transactions which were authenticated using a one time pin\n",
              "12         otp_all_transactions          The number of total transactions which were authenticated using a one time pin"
            ]
          },
          "metadata": {},
          "execution_count": 8
        }
      ]
    },
    {
      "cell_type": "code",
      "metadata": {
        "colab": {
          "base_uri": "https://localhost:8080/",
          "height": 196
        },
        "id": "q1yJSkkAmpnH",
        "outputId": "6905af6e-9a9a-42e6-f151-cf115523cbb3"
      },
      "source": [
        "# Next, we load combined_df, the original unprocessed June & July data.\n",
        "\n",
        "combined_df = pd.read_csv('combined_df.csv')\n",
        "print(f'shape of combined_df; {combined_df.shape}\\n')\n",
        "combined_df.head(3)"
      ],
      "execution_count": 9,
      "outputs": [
        {
          "output_type": "stream",
          "name": "stdout",
          "text": [
            "shape of combined_df; (17418, 13)\n",
            "\n"
          ]
        },
        {
          "output_type": "execute_result",
          "data": {
            "text/html": [
              "<div>\n",
              "<style scoped>\n",
              "    .dataframe tbody tr th:only-of-type {\n",
              "        vertical-align: middle;\n",
              "    }\n",
              "\n",
              "    .dataframe tbody tr th {\n",
              "        vertical-align: top;\n",
              "    }\n",
              "\n",
              "    .dataframe thead th {\n",
              "        text-align: right;\n",
              "    }\n",
              "</style>\n",
              "<table border=\"1\" class=\"dataframe\">\n",
              "  <thead>\n",
              "    <tr style=\"text-align: right;\">\n",
              "      <th></th>\n",
              "      <th>merchant_id</th>\n",
              "      <th>merchant_industry</th>\n",
              "      <th>merchant_category</th>\n",
              "      <th>merchant_country</th>\n",
              "      <th>currency</th>\n",
              "      <th>transaction_week_start_date</th>\n",
              "      <th>channel</th>\n",
              "      <th>transaction_count</th>\n",
              "      <th>transaction_volume_usd</th>\n",
              "      <th>fraud_count</th>\n",
              "      <th>fraud_volume_usd</th>\n",
              "      <th>otp_fraud</th>\n",
              "      <th>otp_all_transactions</th>\n",
              "    </tr>\n",
              "  </thead>\n",
              "  <tbody>\n",
              "    <tr>\n",
              "      <th>0</th>\n",
              "      <td>1</td>\n",
              "      <td>GOODS-PHYSICAL</td>\n",
              "      <td>e-Commerce</td>\n",
              "      <td>Nigeria</td>\n",
              "      <td>NGN</td>\n",
              "      <td>2021-06-07</td>\n",
              "      <td>card</td>\n",
              "      <td>5</td>\n",
              "      <td>231.590551</td>\n",
              "      <td>0</td>\n",
              "      <td>0.0</td>\n",
              "      <td>0</td>\n",
              "      <td>5</td>\n",
              "    </tr>\n",
              "    <tr>\n",
              "      <th>1</th>\n",
              "      <td>5</td>\n",
              "      <td>SERVICES-LEGAL</td>\n",
              "      <td>Other</td>\n",
              "      <td>Nigeria</td>\n",
              "      <td>NGN</td>\n",
              "      <td>2021-06-07</td>\n",
              "      <td>card</td>\n",
              "      <td>2</td>\n",
              "      <td>210.203412</td>\n",
              "      <td>0</td>\n",
              "      <td>0.0</td>\n",
              "      <td>0</td>\n",
              "      <td>2</td>\n",
              "    </tr>\n",
              "    <tr>\n",
              "      <th>2</th>\n",
              "      <td>9</td>\n",
              "      <td>TRAVEL</td>\n",
              "      <td>Travel &amp; Hospitality</td>\n",
              "      <td>Nigeria</td>\n",
              "      <td>NGN</td>\n",
              "      <td>2021-06-07</td>\n",
              "      <td>card</td>\n",
              "      <td>4</td>\n",
              "      <td>223.097113</td>\n",
              "      <td>0</td>\n",
              "      <td>0.0</td>\n",
              "      <td>0</td>\n",
              "      <td>1</td>\n",
              "    </tr>\n",
              "  </tbody>\n",
              "</table>\n",
              "</div>"
            ],
            "text/plain": [
              "   merchant_id merchant_industry  ... otp_fraud otp_all_transactions\n",
              "0            1    GOODS-PHYSICAL  ...         0                    5\n",
              "1            5    SERVICES-LEGAL  ...         0                    2\n",
              "2            9            TRAVEL  ...         0                    1\n",
              "\n",
              "[3 rows x 13 columns]"
            ]
          },
          "metadata": {},
          "execution_count": 9
        }
      ]
    },
    {
      "cell_type": "markdown",
      "metadata": {
        "id": "N2LfeQwJo-wE"
      },
      "source": [
        "# Prescriptive EDA (PA2): "
      ]
    },
    {
      "cell_type": "markdown",
      "metadata": {
        "id": "l5ozVcY9AaQg"
      },
      "source": [
        "**Prescriptive Analytics:**<br>\n",
        "Prescriptive analytics attempt to quantify the effect of future decisions \n",
        "in order to advise on possible outcomes before the decisions are \n",
        "actually made.\n",
        "\n",
        "These analytics are all about providing advice\n",
        "\n",
        "These analytics go beyond descriptive and predictive analytics by \n",
        "recommending one or more possible courses of action. \n",
        "\n",
        "In this notebook, we will attempt to build a Deep-Learning Model that can learn intricate patterns in the data, so as to properly classify future transactions as either `fraud` or `not-fraud`, with an associated probability score that can tell us how confident the model prediction is on each attempt.\n",
        "\n",
        "We shall combine this model with other behavioral insights to help fight fraudulent transactions as quickly as they occur."
      ]
    },
    {
      "cell_type": "markdown",
      "metadata": {
        "id": "bC1tb7gWC9T_"
      },
      "source": [
        "### 1. Let's see the split of fraud and non-fraud cases in the data"
      ]
    },
    {
      "cell_type": "code",
      "metadata": {
        "id": "ZK7daH9e88jB",
        "colab": {
          "base_uri": "https://localhost:8080/",
          "height": 162
        },
        "outputId": "fcb1dd6d-f1ec-4f45-e4e8-6e3294466a27"
      },
      "source": [
        "# first let's add a column of True/False if fraud is reported or not.\n",
        "\n",
        "combined_df['is_fraud'] = np.where(combined_df['fraud_count'] > 0, True, False)\n",
        "combined_df.head(3)"
      ],
      "execution_count": 10,
      "outputs": [
        {
          "output_type": "execute_result",
          "data": {
            "text/html": [
              "<div>\n",
              "<style scoped>\n",
              "    .dataframe tbody tr th:only-of-type {\n",
              "        vertical-align: middle;\n",
              "    }\n",
              "\n",
              "    .dataframe tbody tr th {\n",
              "        vertical-align: top;\n",
              "    }\n",
              "\n",
              "    .dataframe thead th {\n",
              "        text-align: right;\n",
              "    }\n",
              "</style>\n",
              "<table border=\"1\" class=\"dataframe\">\n",
              "  <thead>\n",
              "    <tr style=\"text-align: right;\">\n",
              "      <th></th>\n",
              "      <th>merchant_id</th>\n",
              "      <th>merchant_industry</th>\n",
              "      <th>merchant_category</th>\n",
              "      <th>merchant_country</th>\n",
              "      <th>currency</th>\n",
              "      <th>transaction_week_start_date</th>\n",
              "      <th>channel</th>\n",
              "      <th>transaction_count</th>\n",
              "      <th>transaction_volume_usd</th>\n",
              "      <th>fraud_count</th>\n",
              "      <th>fraud_volume_usd</th>\n",
              "      <th>otp_fraud</th>\n",
              "      <th>otp_all_transactions</th>\n",
              "      <th>is_fraud</th>\n",
              "    </tr>\n",
              "  </thead>\n",
              "  <tbody>\n",
              "    <tr>\n",
              "      <th>0</th>\n",
              "      <td>1</td>\n",
              "      <td>GOODS-PHYSICAL</td>\n",
              "      <td>e-Commerce</td>\n",
              "      <td>Nigeria</td>\n",
              "      <td>NGN</td>\n",
              "      <td>2021-06-07</td>\n",
              "      <td>card</td>\n",
              "      <td>5</td>\n",
              "      <td>231.590551</td>\n",
              "      <td>0</td>\n",
              "      <td>0.0</td>\n",
              "      <td>0</td>\n",
              "      <td>5</td>\n",
              "      <td>False</td>\n",
              "    </tr>\n",
              "    <tr>\n",
              "      <th>1</th>\n",
              "      <td>5</td>\n",
              "      <td>SERVICES-LEGAL</td>\n",
              "      <td>Other</td>\n",
              "      <td>Nigeria</td>\n",
              "      <td>NGN</td>\n",
              "      <td>2021-06-07</td>\n",
              "      <td>card</td>\n",
              "      <td>2</td>\n",
              "      <td>210.203412</td>\n",
              "      <td>0</td>\n",
              "      <td>0.0</td>\n",
              "      <td>0</td>\n",
              "      <td>2</td>\n",
              "      <td>False</td>\n",
              "    </tr>\n",
              "    <tr>\n",
              "      <th>2</th>\n",
              "      <td>9</td>\n",
              "      <td>TRAVEL</td>\n",
              "      <td>Travel &amp; Hospitality</td>\n",
              "      <td>Nigeria</td>\n",
              "      <td>NGN</td>\n",
              "      <td>2021-06-07</td>\n",
              "      <td>card</td>\n",
              "      <td>4</td>\n",
              "      <td>223.097113</td>\n",
              "      <td>0</td>\n",
              "      <td>0.0</td>\n",
              "      <td>0</td>\n",
              "      <td>1</td>\n",
              "      <td>False</td>\n",
              "    </tr>\n",
              "  </tbody>\n",
              "</table>\n",
              "</div>"
            ],
            "text/plain": [
              "   merchant_id merchant_industry  ... otp_all_transactions is_fraud\n",
              "0            1    GOODS-PHYSICAL  ...                    5    False\n",
              "1            5    SERVICES-LEGAL  ...                    2    False\n",
              "2            9            TRAVEL  ...                    1    False\n",
              "\n",
              "[3 rows x 14 columns]"
            ]
          },
          "metadata": {},
          "execution_count": 10
        }
      ]
    },
    {
      "cell_type": "code",
      "metadata": {
        "colab": {
          "base_uri": "https://localhost:8080/",
          "height": 407
        },
        "id": "SmCPpqxVFZWU",
        "outputId": "b2ab8330-f8ec-4d4b-a851-14b35a3fd259"
      },
      "source": [
        "size = (10, 6)\n",
        "plt.figure(figsize=size)\n",
        "sns.countplot(x='is_fraud', data=combined_df), \n",
        "plt.title('Fraud vs Non-fraud Transactions Count', fontdict=fontDict2)\n",
        "height1 = len(combined_df.is_fraud)-sum(combined_df.is_fraud)\n",
        "height2 = sum(combined_df.is_fraud)\n",
        "plt.text(0, height1+100, str(height1), fontdict=fontDict2)\n",
        "plt.text(1, height2+200, str(height2), fontdict=fontDict2)\n",
        "\n",
        "plt.show()"
      ],
      "execution_count": 11,
      "outputs": [
        {
          "output_type": "display_data",
          "data": {
            "image/png": "[encoded data removed]",
            "text/plain": [
              "<Figure size 720x432 with 1 Axes>"
            ]
          },
          "metadata": {
            "needs_background": "light"
          }
        }
      ]
    },
    {
      "cell_type": "markdown",
      "metadata": {
        "id": "QUlXKkHXNchh"
      },
      "source": [
        "**We have a grossly imbalanced dataset**\n",
        "\n",
        "Let's load the earlier preprocessed data set from Diagnostic Analytics stage"
      ]
    },
    {
      "cell_type": "code",
      "metadata": {
        "colab": {
          "base_uri": "https://localhost:8080/",
          "height": 159
        },
        "id": "L9CtaOUmNi0Z",
        "outputId": "1f3a53b5-713f-43e7-80e6-70765cee6392"
      },
      "source": [
        "processed_df = pd.read_csv('processed_mi_combined.csv')\n",
        "print('shape is {}'.format(processed_df.shape))\n",
        "processed_df.head(3)"
      ],
      "execution_count": 12,
      "outputs": [
        {
          "output_type": "stream",
          "name": "stdout",
          "text": [
            "shape is (17418, 8)\n"
          ]
        },
        {
          "output_type": "execute_result",
          "data": {
            "text/html": [
              "<div>\n",
              "<style scoped>\n",
              "    .dataframe tbody tr th:only-of-type {\n",
              "        vertical-align: middle;\n",
              "    }\n",
              "\n",
              "    .dataframe tbody tr th {\n",
              "        vertical-align: top;\n",
              "    }\n",
              "\n",
              "    .dataframe thead th {\n",
              "        text-align: right;\n",
              "    }\n",
              "</style>\n",
              "<table border=\"1\" class=\"dataframe\">\n",
              "  <thead>\n",
              "    <tr style=\"text-align: right;\">\n",
              "      <th></th>\n",
              "      <th>transaction_volume_usd</th>\n",
              "      <th>merchant_industry</th>\n",
              "      <th>otp_fraud</th>\n",
              "      <th>merchant_category</th>\n",
              "      <th>transaction_count</th>\n",
              "      <th>fraud_count</th>\n",
              "      <th>centroid</th>\n",
              "      <th>pt2centroid</th>\n",
              "    </tr>\n",
              "  </thead>\n",
              "  <tbody>\n",
              "    <tr>\n",
              "      <th>0</th>\n",
              "      <td>0.823529</td>\n",
              "      <td>0.000000</td>\n",
              "      <td>0.0</td>\n",
              "      <td>0.0</td>\n",
              "      <td>0.375</td>\n",
              "      <td>0.0</td>\n",
              "      <td>27</td>\n",
              "      <td>0.048029</td>\n",
              "    </tr>\n",
              "    <tr>\n",
              "      <th>1</th>\n",
              "      <td>0.823529</td>\n",
              "      <td>0.016129</td>\n",
              "      <td>0.0</td>\n",
              "      <td>0.1</td>\n",
              "      <td>0.000</td>\n",
              "      <td>0.0</td>\n",
              "      <td>16</td>\n",
              "      <td>0.047820</td>\n",
              "    </tr>\n",
              "    <tr>\n",
              "      <th>2</th>\n",
              "      <td>0.823529</td>\n",
              "      <td>0.032258</td>\n",
              "      <td>0.0</td>\n",
              "      <td>0.2</td>\n",
              "      <td>0.250</td>\n",
              "      <td>0.0</td>\n",
              "      <td>23</td>\n",
              "      <td>0.095639</td>\n",
              "    </tr>\n",
              "  </tbody>\n",
              "</table>\n",
              "</div>"
            ],
            "text/plain": [
              "   transaction_volume_usd  merchant_industry  ...  centroid  pt2centroid\n",
              "0                0.823529           0.000000  ...        27     0.048029\n",
              "1                0.823529           0.016129  ...        16     0.047820\n",
              "2                0.823529           0.032258  ...        23     0.095639\n",
              "\n",
              "[3 rows x 8 columns]"
            ]
          },
          "metadata": {},
          "execution_count": 12
        }
      ]
    },
    {
      "cell_type": "markdown",
      "metadata": {
        "id": "XYRYIQVQZvps"
      },
      "source": [
        "Let's see the numerical distribution, so we know how to normalize the centroid column"
      ]
    },
    {
      "cell_type": "code",
      "metadata": {
        "colab": {
          "base_uri": "https://localhost:8080/",
          "height": 499
        },
        "id": "7IXNvqaxY_9B",
        "outputId": "3b7f0a38-96c1-49a0-ef33-666ae0569536"
      },
      "source": [
        "processed_df.hist(figsize=(12,8))\n",
        "plt.show()"
      ],
      "execution_count": 13,
      "outputs": [
        {
          "output_type": "display_data",
          "data": {
            "image/png": "[encoded data removed]",
            "text/plain": [
              "<Figure size 864x576 with 9 Axes>"
            ]
          },
          "metadata": {
            "needs_background": "light"
          }
        }
      ]
    },
    {
      "cell_type": "markdown",
      "metadata": {
        "id": "TixYi-qVvL3n"
      },
      "source": [
        "Let's use min-ma to normalize the `centroid` column"
      ]
    },
    {
      "cell_type": "code",
      "metadata": {
        "id": "U-2RByKdaPJT"
      },
      "source": [
        "def minMaxScaler(numArr):\n",
        "  minx = np.min(numArr)\n",
        "  maxx = np.max(numArr)\n",
        "  numArr = (numArr - minx) / (maxx - minx)\n",
        "  return numArr"
      ],
      "execution_count": 14,
      "outputs": []
    },
    {
      "cell_type": "code",
      "metadata": {
        "id": "3Cmuw3gfwbfA"
      },
      "source": [
        "processed_df.centroid = minMaxScaler(processed_df.centroid)"
      ],
      "execution_count": 15,
      "outputs": []
    },
    {
      "cell_type": "code",
      "metadata": {
        "colab": {
          "base_uri": "https://localhost:8080/"
        },
        "id": "0hS4jC9NvoIQ",
        "outputId": "5c7f43c8-db39-49f3-d4c1-8aa6127ac659"
      },
      "source": [
        "# check for missing values\n",
        "processed_df.isna().any().sum()"
      ],
      "execution_count": 16,
      "outputs": [
        {
          "output_type": "execute_result",
          "data": {
            "text/plain": [
              "0"
            ]
          },
          "metadata": {},
          "execution_count": 16
        }
      ]
    },
    {
      "cell_type": "code",
      "metadata": {
        "colab": {
          "base_uri": "https://localhost:8080/",
          "height": 142
        },
        "id": "uXXwT0GvSIe0",
        "outputId": "b91752ad-c035-447e-c900-eae807ef985a"
      },
      "source": [
        "# let's add the target_column\n",
        "processed_df['target'] = combined_df.is_fraud\n",
        "processed_df.head(3)"
      ],
      "execution_count": 17,
      "outputs": [
        {
          "output_type": "execute_result",
          "data": {
            "text/html": [
              "<div>\n",
              "<style scoped>\n",
              "    .dataframe tbody tr th:only-of-type {\n",
              "        vertical-align: middle;\n",
              "    }\n",
              "\n",
              "    .dataframe tbody tr th {\n",
              "        vertical-align: top;\n",
              "    }\n",
              "\n",
              "    .dataframe thead th {\n",
              "        text-align: right;\n",
              "    }\n",
              "</style>\n",
              "<table border=\"1\" class=\"dataframe\">\n",
              "  <thead>\n",
              "    <tr style=\"text-align: right;\">\n",
              "      <th></th>\n",
              "      <th>transaction_volume_usd</th>\n",
              "      <th>merchant_industry</th>\n",
              "      <th>otp_fraud</th>\n",
              "      <th>merchant_category</th>\n",
              "      <th>transaction_count</th>\n",
              "      <th>fraud_count</th>\n",
              "      <th>centroid</th>\n",
              "      <th>pt2centroid</th>\n",
              "      <th>target</th>\n",
              "    </tr>\n",
              "  </thead>\n",
              "  <tbody>\n",
              "    <tr>\n",
              "      <th>0</th>\n",
              "      <td>0.823529</td>\n",
              "      <td>0.000000</td>\n",
              "      <td>0.0</td>\n",
              "      <td>0.0</td>\n",
              "      <td>0.375</td>\n",
              "      <td>0.0</td>\n",
              "      <td>0.658537</td>\n",
              "      <td>0.048029</td>\n",
              "      <td>False</td>\n",
              "    </tr>\n",
              "    <tr>\n",
              "      <th>1</th>\n",
              "      <td>0.823529</td>\n",
              "      <td>0.016129</td>\n",
              "      <td>0.0</td>\n",
              "      <td>0.1</td>\n",
              "      <td>0.000</td>\n",
              "      <td>0.0</td>\n",
              "      <td>0.390244</td>\n",
              "      <td>0.047820</td>\n",
              "      <td>False</td>\n",
              "    </tr>\n",
              "    <tr>\n",
              "      <th>2</th>\n",
              "      <td>0.823529</td>\n",
              "      <td>0.032258</td>\n",
              "      <td>0.0</td>\n",
              "      <td>0.2</td>\n",
              "      <td>0.250</td>\n",
              "      <td>0.0</td>\n",
              "      <td>0.560976</td>\n",
              "      <td>0.095639</td>\n",
              "      <td>False</td>\n",
              "    </tr>\n",
              "  </tbody>\n",
              "</table>\n",
              "</div>"
            ],
            "text/plain": [
              "   transaction_volume_usd  merchant_industry  ...  pt2centroid  target\n",
              "0                0.823529           0.000000  ...     0.048029   False\n",
              "1                0.823529           0.016129  ...     0.047820   False\n",
              "2                0.823529           0.032258  ...     0.095639   False\n",
              "\n",
              "[3 rows x 9 columns]"
            ]
          },
          "metadata": {},
          "execution_count": 17
        }
      ]
    },
    {
      "cell_type": "code",
      "metadata": {
        "colab": {
          "base_uri": "https://localhost:8080/",
          "height": 142
        },
        "id": "wY4B1RcwXHtB",
        "outputId": "b83088fa-2ed3-4a4f-f70c-59e7d6d4dfb7"
      },
      "source": [
        "# let's make True or Flase, 0 or 1\n",
        "processed_df['target'] = processed_df['target'].astype('int')\n",
        "processed_df.head(3)"
      ],
      "execution_count": 18,
      "outputs": [
        {
          "output_type": "execute_result",
          "data": {
            "text/html": [
              "<div>\n",
              "<style scoped>\n",
              "    .dataframe tbody tr th:only-of-type {\n",
              "        vertical-align: middle;\n",
              "    }\n",
              "\n",
              "    .dataframe tbody tr th {\n",
              "        vertical-align: top;\n",
              "    }\n",
              "\n",
              "    .dataframe thead th {\n",
              "        text-align: right;\n",
              "    }\n",
              "</style>\n",
              "<table border=\"1\" class=\"dataframe\">\n",
              "  <thead>\n",
              "    <tr style=\"text-align: right;\">\n",
              "      <th></th>\n",
              "      <th>transaction_volume_usd</th>\n",
              "      <th>merchant_industry</th>\n",
              "      <th>otp_fraud</th>\n",
              "      <th>merchant_category</th>\n",
              "      <th>transaction_count</th>\n",
              "      <th>fraud_count</th>\n",
              "      <th>centroid</th>\n",
              "      <th>pt2centroid</th>\n",
              "      <th>target</th>\n",
              "    </tr>\n",
              "  </thead>\n",
              "  <tbody>\n",
              "    <tr>\n",
              "      <th>0</th>\n",
              "      <td>0.823529</td>\n",
              "      <td>0.000000</td>\n",
              "      <td>0.0</td>\n",
              "      <td>0.0</td>\n",
              "      <td>0.375</td>\n",
              "      <td>0.0</td>\n",
              "      <td>0.658537</td>\n",
              "      <td>0.048029</td>\n",
              "      <td>0</td>\n",
              "    </tr>\n",
              "    <tr>\n",
              "      <th>1</th>\n",
              "      <td>0.823529</td>\n",
              "      <td>0.016129</td>\n",
              "      <td>0.0</td>\n",
              "      <td>0.1</td>\n",
              "      <td>0.000</td>\n",
              "      <td>0.0</td>\n",
              "      <td>0.390244</td>\n",
              "      <td>0.047820</td>\n",
              "      <td>0</td>\n",
              "    </tr>\n",
              "    <tr>\n",
              "      <th>2</th>\n",
              "      <td>0.823529</td>\n",
              "      <td>0.032258</td>\n",
              "      <td>0.0</td>\n",
              "      <td>0.2</td>\n",
              "      <td>0.250</td>\n",
              "      <td>0.0</td>\n",
              "      <td>0.560976</td>\n",
              "      <td>0.095639</td>\n",
              "      <td>0</td>\n",
              "    </tr>\n",
              "  </tbody>\n",
              "</table>\n",
              "</div>"
            ],
            "text/plain": [
              "   transaction_volume_usd  merchant_industry  ...  pt2centroid  target\n",
              "0                0.823529           0.000000  ...     0.048029       0\n",
              "1                0.823529           0.016129  ...     0.047820       0\n",
              "2                0.823529           0.032258  ...     0.095639       0\n",
              "\n",
              "[3 rows x 9 columns]"
            ]
          },
          "metadata": {},
          "execution_count": 18
        }
      ]
    },
    {
      "cell_type": "code",
      "metadata": {
        "colab": {
          "base_uri": "https://localhost:8080/"
        },
        "id": "0XDZOioNSYHV",
        "outputId": "c4bece78-8cca-4a95-fdbf-2f7a204eb9b7"
      },
      "source": [
        "# check for missing values\n",
        "processed_df.isna().any().sum()"
      ],
      "execution_count": 19,
      "outputs": [
        {
          "output_type": "execute_result",
          "data": {
            "text/plain": [
              "0"
            ]
          },
          "metadata": {},
          "execution_count": 19
        }
      ]
    },
    {
      "cell_type": "markdown",
      "metadata": {
        "id": "dkV8T1gxWLqH"
      },
      "source": [
        "### 2. Splitting the data into Train, Validate and Test sets"
      ]
    },
    {
      "cell_type": "code",
      "metadata": {
        "colab": {
          "base_uri": "https://localhost:8080/"
        },
        "id": "_SvmfgTfWRly",
        "outputId": "3d640ad9-0012-4f93-a612-0ff5a4c0a2c8"
      },
      "source": [
        "# Use a utility from sklearn to split and shuffle your dataset.\n",
        "train_df, test_df = train_test_split(processed_df, test_size=0.2)\n",
        "train_df, val_df = train_test_split(train_df, test_size=0.2)\n",
        "\n",
        "# Form np arrays of labels and features.\n",
        "train_labels = np.array(train_df.pop('target'))\n",
        "bool_train_labels = train_labels != 0\n",
        "val_labels = np.array(val_df.pop('target'))\n",
        "test_labels = np.array(test_df.pop('target'))\n",
        "\n",
        "train_features = np.array(train_df)\n",
        "val_features = np.array(val_df)\n",
        "test_features = np.array(test_df)\n",
        "\n",
        "print('split!')"
      ],
      "execution_count": 20,
      "outputs": [
        {
          "output_type": "stream",
          "name": "stdout",
          "text": [
            "split!\n"
          ]
        }
      ]
    },
    {
      "cell_type": "code",
      "metadata": {
        "colab": {
          "base_uri": "https://localhost:8080/"
        },
        "id": "PAbhVnQN59Uu",
        "outputId": "4d41c218-4ea4-4721-f348-3448e8f42959"
      },
      "source": [
        "print(f'train-features: {train_features.shape}, train-labels: {train_labels.shape}')\n",
        "print(f'val-features: {val_features.shape}, val-labels: {val_labels.shape}')\n",
        "print(f'test-features: {test_features.shape}, test-labels: {test_labels.shape}')"
      ],
      "execution_count": 21,
      "outputs": [
        {
          "output_type": "stream",
          "name": "stdout",
          "text": [
            "train-features: (11147, 8), train-labels: (11147,)\n",
            "val-features: (2787, 8), val-labels: (2787,)\n",
            "test-features: (3484, 8), test-labels: (3484,)\n"
          ]
        }
      ]
    },
    {
      "cell_type": "markdown",
      "metadata": {
        "id": "9vTW3M956ymt"
      },
      "source": [
        "### 3. Build a binary classification model"
      ]
    },
    {
      "cell_type": "code",
      "metadata": {
        "colab": {
          "base_uri": "https://localhost:8080/"
        },
        "id": "06gdW2w06Nhl",
        "outputId": "5fb6c18b-e26f-4408-bace-30a3dec71f8e"
      },
      "source": [
        "from tensorflow import keras\n",
        "\n",
        "model = keras.Sequential(\n",
        "    [\n",
        "        keras.layers.Dense(\n",
        "            256, activation=\"relu\", input_shape=(train_features.shape[-1],)\n",
        "        ),\n",
        "        keras.layers.Dense(256, activation=\"relu\"),\n",
        "        keras.layers.Dropout(0.3),\n",
        "        keras.layers.Dense(256, activation=\"relu\"),\n",
        "        keras.layers.Dropout(0.3),\n",
        "        keras.layers.Dense(1, activation=\"sigmoid\"),\n",
        "    ]\n",
        ")\n",
        "model.summary()"
      ],
      "execution_count": 22,
      "outputs": [
        {
          "output_type": "stream",
          "name": "stdout",
          "text": [
            "Model: \"sequential\"\n",
            "_________________________________________________________________\n",
            " Layer (type)                Output Shape              Param #   \n",
            "=================================================================\n",
            " dense (Dense)               (None, 256)               2304      \n",
            "                                                                 \n",
            " dense_1 (Dense)             (None, 256)               65792     \n",
            "                                                                 \n",
            " dropout (Dropout)           (None, 256)               0         \n",
            "                                                                 \n",
            " dense_2 (Dense)             (None, 256)               65792     \n",
            "                                                                 \n",
            " dropout_1 (Dropout)         (None, 256)               0         \n",
            "                                                                 \n",
            " dense_3 (Dense)             (None, 1)                 257       \n",
            "                                                                 \n",
            "=================================================================\n",
            "Total params: 134,145\n",
            "Trainable params: 134,145\n",
            "Non-trainable params: 0\n",
            "_________________________________________________________________\n"
          ]
        }
      ]
    },
    {
      "cell_type": "markdown",
      "metadata": {
        "id": "esDTbtEw7C8K"
      },
      "source": [
        "### 4. Train the model with class_weight argument\n",
        "\n",
        "Because of the gross imbalance, we would appemd weights to each class that sort of balances out the learning experience for the model and makes it possible for the model to learn as well from the minority class as from the majority."
      ]
    },
    {
      "cell_type": "code",
      "metadata": {
        "id": "8eyypJQ27aE1"
      },
      "source": [
        "# Define evaluationmetrics\n",
        "\n",
        "METRICS = [\n",
        "      keras.metrics.TruePositives(name='tp'),\n",
        "      keras.metrics.FalsePositives(name='fp'),\n",
        "      keras.metrics.TrueNegatives(name='tn'),\n",
        "      keras.metrics.FalseNegatives(name='fn'), \n",
        "      keras.metrics.BinaryAccuracy(name='accuracy'),\n",
        "      keras.metrics.Precision(name='precision'),\n",
        "      keras.metrics.Recall(name='recall'),\n",
        "      keras.metrics.AUC(name='auc'),\n",
        "      keras.metrics.AUC(name='prc', curve='PR'), # precision-recall curve\n",
        "]"
      ],
      "execution_count": 23,
      "outputs": []
    },
    {
      "cell_type": "code",
      "metadata": {
        "id": "p0V65c68BK1e"
      },
      "source": [
        "EPOCHS = 100\n",
        "BATCH_SIZE = 256\n",
        "\n",
        "early_stopping = tf.keras.callbacks.EarlyStopping(\n",
        "    monitor='val_prc', \n",
        "    verbose=1,\n",
        "    patience=10,\n",
        "    mode='max',\n",
        "    restore_best_weights=True)"
      ],
      "execution_count": 24,
      "outputs": []
    },
    {
      "cell_type": "code",
      "metadata": {
        "colab": {
          "base_uri": "https://localhost:8080/"
        },
        "id": "HIb_VjJm72od",
        "outputId": "6f717cbe-30e3-4c64-84d0-2f3adc1a4fce"
      },
      "source": [
        "from sklearn.utils import class_weight\n",
        "\n",
        "# define the class weights\n",
        "class_weights = class_weight.compute_class_weight('balanced',\n",
        "                                                 np.unique(train_labels),\n",
        "                                                 train_labels)\n",
        "\n",
        "# Convert classweights from array to dict\n",
        "class_weights = dict(enumerate(class_weights))\n",
        "print(f'class weights: {class_weights}')"
      ],
      "execution_count": 25,
      "outputs": [
        {
          "output_type": "stream",
          "name": "stdout",
          "text": [
            "class weights: {0: 0.5032505643340858, 1: 77.40972222222223}\n"
          ]
        }
      ]
    },
    {
      "cell_type": "code",
      "metadata": {
        "colab": {
          "base_uri": "https://localhost:8080/"
        },
        "id": "OW-E4AB-7rq5",
        "outputId": "10995b53-6970-4fb2-aae5-4711ef3ef816"
      },
      "source": [
        "model.compile(\n",
        "    optimizer=keras.optimizers.Adam(1e-2), loss=\"binary_crossentropy\", metrics=METRICS\n",
        ")\n",
        "\n",
        "# Fit the model with the class weights\n",
        "baseline_history = model.fit(\n",
        "    train_features,\n",
        "    train_labels,\n",
        "    batch_size=BATCH_SIZE,\n",
        "    epochs=EPOCHS,\n",
        "    verbose=1,\n",
        "    callbacks=[early_stopping],\n",
        "    validation_data=(val_features, val_labels),\n",
        "    class_weight=class_weights\n",
        ")"
      ],
      "execution_count": 26,
      "outputs": [
        {
          "output_type": "stream",
          "name": "stdout",
          "text": [
            "Epoch 1/100\n",
            "44/44 [==============================] - 4s 36ms/step - loss: 0.4962 - tp: 58.0000 - fp: 2313.0000 - tn: 8762.0000 - fn: 14.0000 - accuracy: 0.7912 - precision: 0.0245 - recall: 0.8056 - auc: 0.8748 - prc: 0.0752 - val_loss: 0.3993 - val_tp: 16.0000 - val_fp: 801.0000 - val_tn: 1970.0000 - val_fn: 0.0000e+00 - val_accuracy: 0.7126 - val_precision: 0.0196 - val_recall: 1.0000 - val_auc: 0.9641 - val_prc: 0.5460\n",
            "Epoch 2/100\n",
            "44/44 [==============================] - 1s 13ms/step - loss: 0.3430 - tp: 64.0000 - fp: 1964.0000 - tn: 9111.0000 - fn: 8.0000 - accuracy: 0.8231 - precision: 0.0316 - recall: 0.8889 - auc: 0.9257 - prc: 0.3779 - val_loss: 0.2227 - val_tp: 16.0000 - val_fp: 513.0000 - val_tn: 2258.0000 - val_fn: 0.0000e+00 - val_accuracy: 0.8159 - val_precision: 0.0302 - val_recall: 1.0000 - val_auc: 0.9516 - val_prc: 0.5309\n",
            "Epoch 3/100\n",
            "44/44 [==============================] - 1s 12ms/step - loss: 0.3670 - tp: 64.0000 - fp: 2289.0000 - tn: 8786.0000 - fn: 8.0000 - accuracy: 0.7939 - precision: 0.0272 - recall: 0.8889 - auc: 0.9236 - prc: 0.4331 - val_loss: 0.1211 - val_tp: 13.0000 - val_fp: 275.0000 - val_tn: 2496.0000 - val_fn: 3.0000 - val_accuracy: 0.9003 - val_precision: 0.0451 - val_recall: 0.8125 - val_auc: 0.9491 - val_prc: 0.5429\n",
            "Epoch 4/100\n",
            "44/44 [==============================] - 1s 13ms/step - loss: 0.3588 - tp: 66.0000 - fp: 2295.0000 - tn: 8780.0000 - fn: 6.0000 - accuracy: 0.7936 - precision: 0.0280 - recall: 0.9167 - auc: 0.9279 - prc: 0.3865 - val_loss: 0.1154 - val_tp: 11.0000 - val_fp: 199.0000 - val_tn: 2572.0000 - val_fn: 5.0000 - val_accuracy: 0.9268 - val_precision: 0.0524 - val_recall: 0.6875 - val_auc: 0.9388 - val_prc: 0.4706\n",
            "Epoch 5/100\n",
            "44/44 [==============================] - 1s 12ms/step - loss: 0.3613 - tp: 64.0000 - fp: 2110.0000 - tn: 8965.0000 - fn: 8.0000 - accuracy: 0.8100 - precision: 0.0294 - recall: 0.8889 - auc: 0.9389 - prc: 0.4859 - val_loss: 0.4100 - val_tp: 14.0000 - val_fp: 616.0000 - val_tn: 2155.0000 - val_fn: 2.0000 - val_accuracy: 0.7783 - val_precision: 0.0222 - val_recall: 0.8750 - val_auc: 0.9563 - val_prc: 0.5466\n",
            "Epoch 6/100\n",
            "44/44 [==============================] - 1s 12ms/step - loss: 0.3289 - tp: 65.0000 - fp: 1782.0000 - tn: 9293.0000 - fn: 7.0000 - accuracy: 0.8395 - precision: 0.0352 - recall: 0.9028 - auc: 0.9446 - prc: 0.4337 - val_loss: 1.0664 - val_tp: 16.0000 - val_fp: 834.0000 - val_tn: 1937.0000 - val_fn: 0.0000e+00 - val_accuracy: 0.7008 - val_precision: 0.0188 - val_recall: 1.0000 - val_auc: 0.9570 - val_prc: 0.1109\n",
            "Epoch 7/100\n",
            "44/44 [==============================] - 1s 13ms/step - loss: 0.3560 - tp: 62.0000 - fp: 2135.0000 - tn: 8940.0000 - fn: 10.0000 - accuracy: 0.8076 - precision: 0.0282 - recall: 0.8611 - auc: 0.9210 - prc: 0.1894 - val_loss: 0.2185 - val_tp: 14.0000 - val_fp: 386.0000 - val_tn: 2385.0000 - val_fn: 2.0000 - val_accuracy: 0.8608 - val_precision: 0.0350 - val_recall: 0.8750 - val_auc: 0.9434 - val_prc: 0.5629\n",
            "Epoch 8/100\n",
            "44/44 [==============================] - 1s 13ms/step - loss: 0.2913 - tp: 65.0000 - fp: 2077.0000 - tn: 8998.0000 - fn: 7.0000 - accuracy: 0.8130 - precision: 0.0303 - recall: 0.9028 - auc: 0.9483 - prc: 0.5501 - val_loss: 0.0745 - val_tp: 11.0000 - val_fp: 132.0000 - val_tn: 2639.0000 - val_fn: 5.0000 - val_accuracy: 0.9508 - val_precision: 0.0769 - val_recall: 0.6875 - val_auc: 0.8954 - val_prc: 0.4670\n",
            "Epoch 9/100\n",
            "44/44 [==============================] - 1s 14ms/step - loss: 0.3197 - tp: 68.0000 - fp: 1628.0000 - tn: 9447.0000 - fn: 4.0000 - accuracy: 0.8536 - precision: 0.0401 - recall: 0.9444 - auc: 0.9571 - prc: 0.5155 - val_loss: 0.1748 - val_tp: 14.0000 - val_fp: 312.0000 - val_tn: 2459.0000 - val_fn: 2.0000 - val_accuracy: 0.8873 - val_precision: 0.0429 - val_recall: 0.8750 - val_auc: 0.8958 - val_prc: 0.5740\n",
            "Epoch 10/100\n",
            "44/44 [==============================] - 1s 13ms/step - loss: 0.2781 - tp: 67.0000 - fp: 1742.0000 - tn: 9333.0000 - fn: 5.0000 - accuracy: 0.8433 - precision: 0.0370 - recall: 0.9306 - auc: 0.9572 - prc: 0.5946 - val_loss: 0.2892 - val_tp: 16.0000 - val_fp: 438.0000 - val_tn: 2333.0000 - val_fn: 0.0000e+00 - val_accuracy: 0.8428 - val_precision: 0.0352 - val_recall: 1.0000 - val_auc: 0.9710 - val_prc: 0.5899\n",
            "Epoch 11/100\n",
            "44/44 [==============================] - 1s 12ms/step - loss: 0.2583 - tp: 64.0000 - fp: 1430.0000 - tn: 9645.0000 - fn: 8.0000 - accuracy: 0.8710 - precision: 0.0428 - recall: 0.8889 - auc: 0.9589 - prc: 0.3340 - val_loss: 0.6395 - val_tp: 16.0000 - val_fp: 705.0000 - val_tn: 2066.0000 - val_fn: 0.0000e+00 - val_accuracy: 0.7470 - val_precision: 0.0222 - val_recall: 1.0000 - val_auc: 0.9791 - val_prc: 0.5859\n",
            "Epoch 12/100\n",
            "44/44 [==============================] - 1s 12ms/step - loss: 0.2775 - tp: 67.0000 - fp: 1396.0000 - tn: 9679.0000 - fn: 5.0000 - accuracy: 0.8743 - precision: 0.0458 - recall: 0.9306 - auc: 0.9604 - prc: 0.4807 - val_loss: 0.6339 - val_tp: 16.0000 - val_fp: 765.0000 - val_tn: 2006.0000 - val_fn: 0.0000e+00 - val_accuracy: 0.7255 - val_precision: 0.0205 - val_recall: 1.0000 - val_auc: 0.9843 - val_prc: 0.6072\n",
            "Epoch 13/100\n",
            "44/44 [==============================] - 1s 12ms/step - loss: 0.2861 - tp: 65.0000 - fp: 1523.0000 - tn: 9552.0000 - fn: 7.0000 - accuracy: 0.8627 - precision: 0.0409 - recall: 0.9028 - auc: 0.9548 - prc: 0.5427 - val_loss: 0.3862 - val_tp: 16.0000 - val_fp: 581.0000 - val_tn: 2190.0000 - val_fn: 0.0000e+00 - val_accuracy: 0.7915 - val_precision: 0.0268 - val_recall: 1.0000 - val_auc: 0.9840 - val_prc: 0.5889\n",
            "Epoch 14/100\n",
            "44/44 [==============================] - 1s 13ms/step - loss: 0.2707 - tp: 63.0000 - fp: 1893.0000 - tn: 9182.0000 - fn: 9.0000 - accuracy: 0.8294 - precision: 0.0322 - recall: 0.8750 - auc: 0.9497 - prc: 0.5787 - val_loss: 0.1316 - val_tp: 13.0000 - val_fp: 288.0000 - val_tn: 2483.0000 - val_fn: 3.0000 - val_accuracy: 0.8956 - val_precision: 0.0432 - val_recall: 0.8125 - val_auc: 0.9527 - val_prc: 0.5747\n",
            "Epoch 15/100\n",
            "44/44 [==============================] - 1s 12ms/step - loss: 0.2972 - tp: 66.0000 - fp: 1719.0000 - tn: 9356.0000 - fn: 6.0000 - accuracy: 0.8452 - precision: 0.0370 - recall: 0.9167 - auc: 0.9472 - prc: 0.5740 - val_loss: 0.2944 - val_tp: 14.0000 - val_fp: 481.0000 - val_tn: 2290.0000 - val_fn: 2.0000 - val_accuracy: 0.8267 - val_precision: 0.0283 - val_recall: 0.8750 - val_auc: 0.9318 - val_prc: 0.5666\n",
            "Epoch 16/100\n",
            "44/44 [==============================] - 1s 13ms/step - loss: 0.2452 - tp: 66.0000 - fp: 1746.0000 - tn: 9329.0000 - fn: 6.0000 - accuracy: 0.8428 - precision: 0.0364 - recall: 0.9167 - auc: 0.9581 - prc: 0.6285 - val_loss: 0.2612 - val_tp: 14.0000 - val_fp: 482.0000 - val_tn: 2289.0000 - val_fn: 2.0000 - val_accuracy: 0.8263 - val_precision: 0.0282 - val_recall: 0.8750 - val_auc: 0.9585 - val_prc: 0.5820\n",
            "Epoch 17/100\n",
            "44/44 [==============================] - 1s 12ms/step - loss: 0.3281 - tp: 65.0000 - fp: 1983.0000 - tn: 9092.0000 - fn: 7.0000 - accuracy: 0.8215 - precision: 0.0317 - recall: 0.9028 - auc: 0.9467 - prc: 0.5657 - val_loss: 0.5302 - val_tp: 16.0000 - val_fp: 959.0000 - val_tn: 1812.0000 - val_fn: 0.0000e+00 - val_accuracy: 0.6559 - val_precision: 0.0164 - val_recall: 1.0000 - val_auc: 0.9722 - val_prc: 0.5502\n",
            "Epoch 18/100\n",
            "44/44 [==============================] - 1s 12ms/step - loss: 0.3041 - tp: 63.0000 - fp: 1859.0000 - tn: 9216.0000 - fn: 9.0000 - accuracy: 0.8324 - precision: 0.0328 - recall: 0.8750 - auc: 0.9495 - prc: 0.6041 - val_loss: 0.2885 - val_tp: 16.0000 - val_fp: 500.0000 - val_tn: 2271.0000 - val_fn: 0.0000e+00 - val_accuracy: 0.8206 - val_precision: 0.0310 - val_recall: 1.0000 - val_auc: 0.9641 - val_prc: 0.5554\n",
            "Epoch 19/100\n",
            "44/44 [==============================] - 1s 13ms/step - loss: 0.3018 - tp: 61.0000 - fp: 1688.0000 - tn: 9387.0000 - fn: 11.0000 - accuracy: 0.8476 - precision: 0.0349 - recall: 0.8472 - auc: 0.9417 - prc: 0.6074 - val_loss: 0.3686 - val_tp: 16.0000 - val_fp: 561.0000 - val_tn: 2210.0000 - val_fn: 0.0000e+00 - val_accuracy: 0.7987 - val_precision: 0.0277 - val_recall: 1.0000 - val_auc: 0.9697 - val_prc: 0.5563\n",
            "Epoch 20/100\n",
            "44/44 [==============================] - 1s 13ms/step - loss: 0.2528 - tp: 65.0000 - fp: 1517.0000 - tn: 9558.0000 - fn: 7.0000 - accuracy: 0.8633 - precision: 0.0411 - recall: 0.9028 - auc: 0.9575 - prc: 0.5729 - val_loss: 0.1885 - val_tp: 13.0000 - val_fp: 289.0000 - val_tn: 2482.0000 - val_fn: 3.0000 - val_accuracy: 0.8952 - val_precision: 0.0430 - val_recall: 0.8125 - val_auc: 0.9084 - val_prc: 0.5762\n",
            "Epoch 21/100\n",
            "44/44 [==============================] - 1s 12ms/step - loss: 0.6821 - tp: 60.0000 - fp: 2400.0000 - tn: 8675.0000 - fn: 12.0000 - accuracy: 0.7836 - precision: 0.0244 - recall: 0.8333 - auc: 0.8781 - prc: 0.0647 - val_loss: 0.4559 - val_tp: 16.0000 - val_fp: 676.0000 - val_tn: 2095.0000 - val_fn: 0.0000e+00 - val_accuracy: 0.7574 - val_precision: 0.0231 - val_recall: 1.0000 - val_auc: 0.9756 - val_prc: 0.5183\n",
            "Epoch 22/100\n",
            "40/44 [==========================>...] - ETA: 0s - loss: 0.3042 - tp: 62.0000 - fp: 1631.0000 - tn: 8540.0000 - fn: 7.0000 - accuracy: 0.8400 - precision: 0.0366 - recall: 0.8986 - auc: 0.9477 - prc: 0.5748Restoring model weights from the end of the best epoch: 12.\n",
            "44/44 [==============================] - 1s 13ms/step - loss: 0.2955 - tp: 65.0000 - fp: 1819.0000 - tn: 9256.0000 - fn: 7.0000 - accuracy: 0.8362 - precision: 0.0345 - recall: 0.9028 - auc: 0.9481 - prc: 0.5648 - val_loss: 0.4198 - val_tp: 16.0000 - val_fp: 701.0000 - val_tn: 2070.0000 - val_fn: 0.0000e+00 - val_accuracy: 0.7485 - val_precision: 0.0223 - val_recall: 1.0000 - val_auc: 0.9735 - val_prc: 0.5466\n",
            "Epoch 00022: early stopping\n"
          ]
        }
      ]
    },
    {
      "cell_type": "code",
      "metadata": {
        "id": "8Ol4oIMb7rmb"
      },
      "source": [
        "def plot_metrics(history):\n",
        "  metrics = ['loss', 'prc', 'precision', 'recall']\n",
        "  for n, metric in enumerate(metrics):\n",
        "    name = metric.replace(\"_\",\" \").capitalize()\n",
        "    plt.subplot(2,2,n+1)\n",
        "    plt.plot(history.epoch, history.history[metric], color=colors[0], label='Train')\n",
        "    plt.plot(history.epoch, history.history['val_'+metric],\n",
        "             color=colors[1], linestyle=\"--\", label='Val')\n",
        "    plt.xlabel('Epoch')\n",
        "    plt.ylabel(name)\n",
        "    if metric == 'loss':\n",
        "      plt.ylim([0, plt.ylim()[1]])\n",
        "    elif metric == 'auc':\n",
        "      plt.ylim([0.8,1])\n",
        "    else:\n",
        "      plt.ylim([0,1])\n",
        "\n",
        "    plt.legend()"
      ],
      "execution_count": 27,
      "outputs": []
    },
    {
      "cell_type": "code",
      "metadata": {
        "colab": {
          "base_uri": "https://localhost:8080/",
          "height": 504
        },
        "id": "4CHPRcYu7rjo",
        "outputId": "957fe1c3-7a96-4b83-9d6a-16da28534fc5"
      },
      "source": [
        "colors = random.sample(darker_colors, 2)\n",
        "plt.figure(figsize=(14,8))\n",
        "plot_metrics(baseline_history)"
      ],
      "execution_count": 28,
      "outputs": [
        {
          "output_type": "display_data",
          "data": {
            "image/png": "[encoded data removed]",
            "text/plain": [
              "<Figure size 1008x576 with 4 Axes>"
            ]
          },
          "metadata": {
            "needs_background": "light"
          }
        }
      ]
    },
    {
      "cell_type": "code",
      "metadata": {
        "id": "Wd8u9D-fCtTP"
      },
      "source": [
        "train_predictions_baseline = model.predict(train_features, batch_size=BATCH_SIZE)\n",
        "test_predictions_baseline = model.predict(test_features, batch_size=BATCH_SIZE)"
      ],
      "execution_count": 29,
      "outputs": []
    },
    {
      "cell_type": "code",
      "metadata": {
        "id": "iuVdf1VrDoF7"
      },
      "source": [
        "def plot_cm(labels, predictions, p=0.5):\n",
        "  cm = confusion_matrix(labels, predictions > p)\n",
        "  plt.figure(figsize=(14,6))\n",
        "  sns.heatmap(cm, annot=True, fmt=\"d\")\n",
        "  plt.title('Confusion matrix @{:.2f}'.format(p))\n",
        "  plt.ylabel('Actual label')\n",
        "  plt.xlabel('Predicted label')\n",
        "\n",
        "  print('Legitimate Transactions Detected (True Negatives): ', cm[0][0])\n",
        "  print('Legitimate Transactions Incorrectly Detected (False Positives): ', cm[0][1])\n",
        "  print('Fraudulent Transactions Missed (False Negatives): ', cm[1][0])\n",
        "  print('Fraudulent Transactions Detected (True Positives): ', cm[1][1])\n",
        "  print('Total Fraudulent Transactions: ', np.sum(cm[1]))"
      ],
      "execution_count": 30,
      "outputs": []
    },
    {
      "cell_type": "code",
      "metadata": {
        "colab": {
          "base_uri": "https://localhost:8080/",
          "height": 679
        },
        "id": "WpIjIzdhDvOI",
        "outputId": "99434967-3256-4c3c-ead2-897a39f60e8c"
      },
      "source": [
        "baseline_results = model.evaluate(test_features, test_labels,\n",
        "                                  batch_size=BATCH_SIZE, verbose=0)\n",
        "for name, value in zip(model.metrics_names, baseline_results):\n",
        "  print(name, ': ', value)\n",
        "print()\n",
        "\n",
        "plot_cm(test_labels, test_predictions_baseline)"
      ],
      "execution_count": 31,
      "outputs": [
        {
          "output_type": "stream",
          "name": "stdout",
          "text": [
            "loss :  0.6170840263366699\n",
            "tp :  24.0\n",
            "fp :  936.0\n",
            "tn :  2524.0\n",
            "fn :  0.0\n",
            "accuracy :  0.7313432693481445\n",
            "precision :  0.02500000037252903\n",
            "recall :  1.0\n",
            "auc :  0.9469833970069885\n",
            "prc :  0.5421290397644043\n",
            "\n",
            "Legitimate Transactions Detected (True Negatives):  2524\n",
            "Legitimate Transactions Incorrectly Detected (False Positives):  936\n",
            "Fraudulent Transactions Missed (False Negatives):  0\n",
            "Fraudulent Transactions Detected (True Positives):  24\n",
            "Total Fraudulent Transactions:  24\n"
          ]
        },
        {
          "output_type": "display_data",
          "data": {
            "image/png": "[encoded data removed]",
            "text/plain": [
              "<Figure size 1008x432 with 2 Axes>"
            ]
          },
          "metadata": {
            "needs_background": "light"
          }
        }
      ]
    },
    {
      "cell_type": "markdown",
      "metadata": {
        "id": "ohuMTKJzGRmu"
      },
      "source": [
        "In this case, of the 24 fraudulent transactions, the model does remarkably well to detect all of them. This means it's very sensitive to detecting fraud, even though 936 legitimate customers may be subject to more stringent anti-fraud measures since the model flasely identified their transactions as false. But on the bright side, over 2500 legitimate customers enjoy a seamless, painless experience, with this model.\n",
        "\n",
        "This is the **Precision** / **Recall** trade-off that most classification applications in real-life face. Often, to better optimise recall, precision takes a hit and vice-versa."
      ]
    },
    {
      "cell_type": "code",
      "metadata": {
        "colab": {
          "base_uri": "https://localhost:8080/"
        },
        "id": "NpWZhaOCHh8c",
        "outputId": "f1edd817-5cc9-4ae7-fa8c-16d1d22a16e1"
      },
      "source": [
        "# delete all stored model files after running notebook\n",
        "\n",
        "if True:\n",
        "    all_files = os.listdir()\n",
        "    for f in all_files:\n",
        "        if f.startswith('fraud_model_'):\n",
        "            os.remove(f)\n",
        "print('done!')"
      ],
      "execution_count": 37,
      "outputs": [
        {
          "output_type": "stream",
          "name": "stdout",
          "text": [
            "done!\n"
          ]
        }
      ]
    },
    {
      "cell_type": "code",
      "metadata": {
        "colab": {
          "base_uri": "https://localhost:8080/"
        },
        "id": "SR0MkWKYMWl2",
        "outputId": "56a5df79-30a8-4598-f68e-58c73a6de259"
      },
      "source": [
        "# confirm deletion\n",
        "\n",
        "os.listdir()"
      ],
      "execution_count": 40,
      "outputs": [
        {
          "output_type": "execute_result",
          "data": {
            "text/plain": [
              "['Fraud_sample_data.xlsx',\n",
              " 'questionsAndPoints.gdoc',\n",
              " '.ipynb_checkpoints',\n",
              " '01_intro_to_fraud_analysis.ipynb',\n",
              " 'fraud_analysis.ipynb',\n",
              " 'july_df.csv',\n",
              " 'june_df.csv',\n",
              " 'data_dict.csv',\n",
              " '02_descriptive_analytics.ipynb',\n",
              " 'combined_df.csv',\n",
              " 'mi_combined.csv',\n",
              " 'top_five_clusters.csv',\n",
              " 'top_fraud_cluster.csv',\n",
              " 'processed_mi_combined.csv',\n",
              " '03_diagnostic_analytics.ipynb',\n",
              " '04_predictive_analytics.ipynb',\n",
              " '05_prescriptive_analytics.ipynb']"
            ]
          },
          "metadata": {},
          "execution_count": 40
        }
      ]
    }
  ]
}