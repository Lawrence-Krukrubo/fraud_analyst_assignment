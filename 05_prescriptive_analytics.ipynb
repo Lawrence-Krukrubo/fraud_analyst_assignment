{
  "nbformat": 4,
  "nbformat_minor": 0,
  "metadata": {
    "colab": {
      "name": "05_prescriptive_analytics.ipynb",
      "provenance": [],
      "collapsed_sections": [],
      "authorship_tag": "ABX9TyMnyajDCDQsd79PnJHf08Vr",
      "include_colab_link": true
    },
    "kernelspec": {
      "name": "python3",
      "display_name": "Python 3"
    },
    "language_info": {
      "name": "python"
    },
    "accelerator": "GPU"
  },
  "cells": [
    {
      "cell_type": "markdown",
      "metadata": {
        "id": "view-in-github",
        "colab_type": "text"
      },
      "source": [
        "<a href=\"https://colab.research.google.com/github/Lawrence-Krukrubo/fraud_analyst_assignment/blob/main/05_prescriptive_analytics.ipynb\" target=\"_parent\"><img src=\"https://colab.research.google.com/assets/colab-badge.svg\" alt=\"Open In Colab\"/></a>"
      ]
    },
    {
      "cell_type": "code",
      "metadata": {
        "colab": {
          "base_uri": "https://localhost:8080/"
        },
        "id": "twEScLqe6RH3",
        "outputId": "aa867430-f95a-4478-fda9-64cf78ed5279"
      },
      "source": [
        "# First let's mount Google Drive so we can navigate the folders as needed\n",
        "from google.colab import drive\n",
        "drive.mount('/content/gdrive')"
      ],
      "execution_count": 1,
      "outputs": [
        {
          "output_type": "stream",
          "name": "stdout",
          "text": [
            "Drive already mounted at /content/gdrive; to attempt to forcibly remount, call drive.mount(\"/content/gdrive\", force_remount=True).\n"
          ]
        }
      ]
    },
    {
      "cell_type": "markdown",
      "metadata": {
        "id": "DZ4cai_48dZM"
      },
      "source": [
        "**Let's import some much needed libraries...**"
      ]
    },
    {
      "cell_type": "code",
      "metadata": {
        "colab": {
          "base_uri": "https://localhost:8080/"
        },
        "id": "Wa8gujGQ5yua",
        "outputId": "e0973c89-4efe-4e50-da10-3a55cce3e198"
      },
      "source": [
        "import os\n",
        "import pandas as pd\n",
        "import numpy as np\n",
        "import matplotlib as mpl\n",
        "import matplotlib.pyplot as plt\n",
        "import seaborn as sns\n",
        "import plotly.express as px\n",
        "import plotly.graph_objects as go\n",
        "import random\n",
        "import xlrd\n",
        "print('done!')"
      ],
      "execution_count": 2,
      "outputs": [
        {
          "output_type": "stream",
          "name": "stdout",
          "text": [
            "done!\n"
          ]
        }
      ]
    },
    {
      "cell_type": "code",
      "metadata": {
        "colab": {
          "base_uri": "https://localhost:8080/"
        },
        "id": "WThZj_PMQRBC",
        "outputId": "762a12ad-c6e6-40e5-e52a-9ba24004c9db"
      },
      "source": [
        "# Let's import some Deeplearning modules\n",
        "\n",
        "import tensorflow as tf\n",
        "from tensorflow import keras\n",
        "import tempfile\n",
        "\n",
        "import sklearn\n",
        "from sklearn.metrics import confusion_matrix\n",
        "from sklearn.model_selection import train_test_split\n",
        "from sklearn.preprocessing import StandardScaler\n",
        "print('done!')"
      ],
      "execution_count": 3,
      "outputs": [
        {
          "output_type": "stream",
          "name": "stdout",
          "text": [
            "done!\n"
          ]
        }
      ]
    },
    {
      "cell_type": "code",
      "metadata": {
        "colab": {
          "base_uri": "https://localhost:8080/"
        },
        "id": "X6iimWIBRSZ2",
        "outputId": "f302332b-6cf6-4593-c0d0-e79be676631b"
      },
      "source": [
        "# Let's get all the colors available in matplotlib\n",
        "other_colors = []\n",
        "darker_colors = []\n",
        "for name, hex in mpl.colors.cnames.items():\n",
        "    if 'dark' in name:\n",
        "        darker_colors.append(name)\n",
        "    else:\n",
        "        other_colors.append(name)\n",
        "\n",
        "# Let's finally save the various plot styles in matplotlib\n",
        "styles = plt.style.available\n",
        "\n",
        "print(f'darker-colors has {len(darker_colors)},\\nother-colors has {len(other_colors)} colors\\nplotting styles are {len(styles)}')"
      ],
      "execution_count": 4,
      "outputs": [
        {
          "output_type": "stream",
          "name": "stdout",
          "text": [
            "darker-colors has 19,\n",
            "other-colors has 129 colors\n",
            "plotting styles are 26\n"
          ]
        }
      ]
    },
    {
      "cell_type": "code",
      "metadata": {
        "id": "3B8XehOzUbbC",
        "colab": {
          "base_uri": "https://localhost:8080/"
        },
        "outputId": "9b9da7ca-7e73-4683-83b6-ac5153ff8253"
      },
      "source": [
        "# set more matplotlib defaults\n",
        "def set_rcParams():\n",
        "    mpl.rcParams['axes.labelsize'] = 12\n",
        "    mpl.rcParams['xtick.labelsize'] = 10\n",
        "    mpl.rcParams['ytick.labelsize'] = 10\n",
        "    mpl.rcParams['text.color'] = 'k'\n",
        "    mpl.rc('lines', linewidth=4, linestyle='-.')\n",
        "    print('rcParams set!')\n",
        "\n",
        "# Set the plots design to xkcd\n",
        "# plt.xkcd()  # For xkcd style plots\n",
        "#plt.rcdefaults()  # to stop xkcd plots\n",
        "\n",
        "# fontdict for plot titles\n",
        "fontDict1 = {'fontfamily': 'fantasy',\n",
        "             'fontsize': 'x-large',\n",
        "             'fontstyle': 'italic',\n",
        "             'fontweight': 'heavy',\n",
        "             'ha': 'center',\n",
        "             'color': 'darkred',\n",
        "             'va': 'baseline'}\n",
        "\n",
        "# fontdict for plot labels\n",
        "fontDict2 = {'fontfamily': 'serif',\n",
        "             'fontsize': 'large',\n",
        "             'fontstyle': 'oblique',\n",
        "             'fontweight': 'semibold',\n",
        "             'ha': 'center',\n",
        "             'color': 'black',\n",
        "             'va': 'baseline'}\n",
        "\n",
        "set_rcParams()"
      ],
      "execution_count": 5,
      "outputs": [
        {
          "output_type": "stream",
          "name": "stdout",
          "text": [
            "rcParams set!\n"
          ]
        }
      ]
    },
    {
      "cell_type": "markdown",
      "metadata": {
        "id": "4ewL2RK07xdy"
      },
      "source": [
        "**Let's change our Directory to the Fraud directory containing our data**"
      ]
    },
    {
      "cell_type": "code",
      "metadata": {
        "colab": {
          "base_uri": "https://localhost:8080/"
        },
        "id": "b1lzL6id5851",
        "outputId": "bc9f45bf-45bc-4456-f372-ad0e124858b3"
      },
      "source": [
        "FRAUD_DIR = '/content/gdrive/MyDrive/Colab_Notebooks/fraud_analyst_assignment'\n",
        "os.chdir(FRAUD_DIR)\n",
        "print(f'Current Dir: {os.getcwd()}')"
      ],
      "execution_count": 6,
      "outputs": [
        {
          "output_type": "stream",
          "name": "stdout",
          "text": [
            "Current Dir: /content/gdrive/MyDrive/Colab_Notebooks/fraud_analyst_assignment\n"
          ]
        }
      ]
    },
    {
      "cell_type": "code",
      "metadata": {
        "colab": {
          "base_uri": "https://localhost:8080/"
        },
        "id": "M9wIfqEC8Nf2",
        "outputId": "c38ba11b-8169-4b01-b887-d5355ccc403a"
      },
      "source": [
        "# Let's see some of the contents of the CWD\n",
        "os.listdir()[:10]"
      ],
      "execution_count": 7,
      "outputs": [
        {
          "output_type": "execute_result",
          "data": {
            "text/plain": [
              "['Fraud_sample_data.xlsx',\n",
              " '.ipynb_checkpoints',\n",
              " '01_intro_to_fraud_analysis.ipynb',\n",
              " 'fraud_analysis.ipynb',\n",
              " 'july_df.csv',\n",
              " 'data_dict.csv',\n",
              " 'june_df.csv',\n",
              " 'top_five_clusters.csv',\n",
              " 'mi_combined.csv',\n",
              " 'top_fraud_cluster.csv']"
            ]
          },
          "metadata": {},
          "execution_count": 7
        }
      ]
    },
    {
      "cell_type": "markdown",
      "metadata": {
        "id": "6lSVIiDNl3Wn"
      },
      "source": [
        "### 1. Loading previous data from Diagnostic stage.."
      ]
    },
    {
      "cell_type": "code",
      "metadata": {
        "colab": {
          "base_uri": "https://localhost:8080/",
          "height": 452
        },
        "id": "i7pT_Y1YmA3e",
        "outputId": "281e3cd4-4c4d-4d71-f0fc-2960170cf8b0"
      },
      "source": [
        "# First, we load the data dictionary...\n",
        "\n",
        "pd.set_option('max_colwidth', None)\n",
        "data_dict  = pd.read_csv('data_dict.csv')\n",
        "data_dict"
      ],
      "execution_count": 8,
      "outputs": [
        {
          "output_type": "execute_result",
          "data": {
            "text/html": [
              "<div>\n",
              "<style scoped>\n",
              "    .dataframe tbody tr th:only-of-type {\n",
              "        vertical-align: middle;\n",
              "    }\n",
              "\n",
              "    .dataframe tbody tr th {\n",
              "        vertical-align: top;\n",
              "    }\n",
              "\n",
              "    .dataframe thead th {\n",
              "        text-align: right;\n",
              "    }\n",
              "</style>\n",
              "<table border=\"1\" class=\"dataframe\">\n",
              "  <thead>\n",
              "    <tr style=\"text-align: right;\">\n",
              "      <th></th>\n",
              "      <th>Field name</th>\n",
              "      <th>Field description</th>\n",
              "    </tr>\n",
              "  </thead>\n",
              "  <tbody>\n",
              "    <tr>\n",
              "      <th>0</th>\n",
              "      <td>merchant_id</td>\n",
              "      <td>Randomly generated identifier to represent a merchant</td>\n",
              "    </tr>\n",
              "    <tr>\n",
              "      <th>1</th>\n",
              "      <td>merchant_industry</td>\n",
              "      <td>Industry in which the merchant operates</td>\n",
              "    </tr>\n",
              "    <tr>\n",
              "      <th>2</th>\n",
              "      <td>merchant_category</td>\n",
              "      <td>Business category of the merchant</td>\n",
              "    </tr>\n",
              "    <tr>\n",
              "      <th>3</th>\n",
              "      <td>merchant_country</td>\n",
              "      <td>The country in which the merchant is based</td>\n",
              "    </tr>\n",
              "    <tr>\n",
              "      <th>4</th>\n",
              "      <td>currency</td>\n",
              "      <td>The local currency the transcation was processed in</td>\n",
              "    </tr>\n",
              "    <tr>\n",
              "      <th>5</th>\n",
              "      <td>transaction_week_start_date</td>\n",
              "      <td>Week in which the transaction occured</td>\n",
              "    </tr>\n",
              "    <tr>\n",
              "      <th>6</th>\n",
              "      <td>channel</td>\n",
              "      <td>The payment method for the transaction</td>\n",
              "    </tr>\n",
              "    <tr>\n",
              "      <th>7</th>\n",
              "      <td>transaction_count</td>\n",
              "      <td>The number of transactions for the day</td>\n",
              "    </tr>\n",
              "    <tr>\n",
              "      <th>8</th>\n",
              "      <td>transaction_volume_usd</td>\n",
              "      <td>The total value of the transactions converted to USD</td>\n",
              "    </tr>\n",
              "    <tr>\n",
              "      <th>9</th>\n",
              "      <td>fraud_count</td>\n",
              "      <td>The number of transactions which were reported as fraudulent for the day</td>\n",
              "    </tr>\n",
              "    <tr>\n",
              "      <th>10</th>\n",
              "      <td>fraud_volume_usd</td>\n",
              "      <td>The total value of the transactions which were reported as fraudulent converted to USD</td>\n",
              "    </tr>\n",
              "    <tr>\n",
              "      <th>11</th>\n",
              "      <td>otp_fraud</td>\n",
              "      <td>The number of fraudulent transactions which were authenticated using a one time pin</td>\n",
              "    </tr>\n",
              "    <tr>\n",
              "      <th>12</th>\n",
              "      <td>otp_all_transactions</td>\n",
              "      <td>The number of total transactions which were authenticated using a one time pin</td>\n",
              "    </tr>\n",
              "  </tbody>\n",
              "</table>\n",
              "</div>"
            ],
            "text/plain": [
              "                     Field name                                                                       Field description\n",
              "0                   merchant_id                                   Randomly generated identifier to represent a merchant\n",
              "1             merchant_industry                                                 Industry in which the merchant operates\n",
              "2             merchant_category                                                       Business category of the merchant\n",
              "3              merchant_country                                              The country in which the merchant is based\n",
              "4                      currency                                    The local currency the transcation was processed in \n",
              "5   transaction_week_start_date                                                   Week in which the transaction occured\n",
              "6                       channel                                                  The payment method for the transaction\n",
              "7             transaction_count                                                  The number of transactions for the day\n",
              "8        transaction_volume_usd                                    The total value of the transactions converted to USD\n",
              "9                   fraud_count                The number of transactions which were reported as fraudulent for the day\n",
              "10             fraud_volume_usd  The total value of the transactions which were reported as fraudulent converted to USD\n",
              "11                    otp_fraud     The number of fraudulent transactions which were authenticated using a one time pin\n",
              "12         otp_all_transactions          The number of total transactions which were authenticated using a one time pin"
            ]
          },
          "metadata": {},
          "execution_count": 8
        }
      ]
    },
    {
      "cell_type": "code",
      "metadata": {
        "colab": {
          "base_uri": "https://localhost:8080/",
          "height": 196
        },
        "id": "q1yJSkkAmpnH",
        "outputId": "be85c629-bde9-489b-8397-e47632bd7a94"
      },
      "source": [
        "# Next, we load combined_df, the original unprocessed June & July data.\n",
        "\n",
        "combined_df = pd.read_csv('combined_df.csv')\n",
        "print(f'shape of combined_df; {combined_df.shape}\\n')\n",
        "combined_df.head(3)"
      ],
      "execution_count": 9,
      "outputs": [
        {
          "output_type": "stream",
          "name": "stdout",
          "text": [
            "shape of combined_df; (17418, 13)\n",
            "\n"
          ]
        },
        {
          "output_type": "execute_result",
          "data": {
            "text/html": [
              "<div>\n",
              "<style scoped>\n",
              "    .dataframe tbody tr th:only-of-type {\n",
              "        vertical-align: middle;\n",
              "    }\n",
              "\n",
              "    .dataframe tbody tr th {\n",
              "        vertical-align: top;\n",
              "    }\n",
              "\n",
              "    .dataframe thead th {\n",
              "        text-align: right;\n",
              "    }\n",
              "</style>\n",
              "<table border=\"1\" class=\"dataframe\">\n",
              "  <thead>\n",
              "    <tr style=\"text-align: right;\">\n",
              "      <th></th>\n",
              "      <th>merchant_id</th>\n",
              "      <th>merchant_industry</th>\n",
              "      <th>merchant_category</th>\n",
              "      <th>merchant_country</th>\n",
              "      <th>currency</th>\n",
              "      <th>transaction_week_start_date</th>\n",
              "      <th>channel</th>\n",
              "      <th>transaction_count</th>\n",
              "      <th>transaction_volume_usd</th>\n",
              "      <th>fraud_count</th>\n",
              "      <th>fraud_volume_usd</th>\n",
              "      <th>otp_fraud</th>\n",
              "      <th>otp_all_transactions</th>\n",
              "    </tr>\n",
              "  </thead>\n",
              "  <tbody>\n",
              "    <tr>\n",
              "      <th>0</th>\n",
              "      <td>1</td>\n",
              "      <td>GOODS-PHYSICAL</td>\n",
              "      <td>e-Commerce</td>\n",
              "      <td>Nigeria</td>\n",
              "      <td>NGN</td>\n",
              "      <td>2021-06-07</td>\n",
              "      <td>card</td>\n",
              "      <td>5</td>\n",
              "      <td>231.590551</td>\n",
              "      <td>0</td>\n",
              "      <td>0.0</td>\n",
              "      <td>0</td>\n",
              "      <td>5</td>\n",
              "    </tr>\n",
              "    <tr>\n",
              "      <th>1</th>\n",
              "      <td>5</td>\n",
              "      <td>SERVICES-LEGAL</td>\n",
              "      <td>Other</td>\n",
              "      <td>Nigeria</td>\n",
              "      <td>NGN</td>\n",
              "      <td>2021-06-07</td>\n",
              "      <td>card</td>\n",
              "      <td>2</td>\n",
              "      <td>210.203412</td>\n",
              "      <td>0</td>\n",
              "      <td>0.0</td>\n",
              "      <td>0</td>\n",
              "      <td>2</td>\n",
              "    </tr>\n",
              "    <tr>\n",
              "      <th>2</th>\n",
              "      <td>9</td>\n",
              "      <td>TRAVEL</td>\n",
              "      <td>Travel &amp; Hospitality</td>\n",
              "      <td>Nigeria</td>\n",
              "      <td>NGN</td>\n",
              "      <td>2021-06-07</td>\n",
              "      <td>card</td>\n",
              "      <td>4</td>\n",
              "      <td>223.097113</td>\n",
              "      <td>0</td>\n",
              "      <td>0.0</td>\n",
              "      <td>0</td>\n",
              "      <td>1</td>\n",
              "    </tr>\n",
              "  </tbody>\n",
              "</table>\n",
              "</div>"
            ],
            "text/plain": [
              "   merchant_id merchant_industry  ... otp_fraud otp_all_transactions\n",
              "0            1    GOODS-PHYSICAL  ...         0                    5\n",
              "1            5    SERVICES-LEGAL  ...         0                    2\n",
              "2            9            TRAVEL  ...         0                    1\n",
              "\n",
              "[3 rows x 13 columns]"
            ]
          },
          "metadata": {},
          "execution_count": 9
        }
      ]
    },
    {
      "cell_type": "markdown",
      "metadata": {
        "id": "N2LfeQwJo-wE"
      },
      "source": [
        "# Prescriptive EDA (PA2): "
      ]
    },
    {
      "cell_type": "markdown",
      "metadata": {
        "id": "l5ozVcY9AaQg"
      },
      "source": [
        "**Prescriptive Analytics:**<br>\n",
        "Prescriptive analytics attempt to quantify the effect of future decisions \n",
        "in order to advise on possible outcomes before the decisions are \n",
        "actually made.\n",
        "\n",
        "These analytics are all about providing advice\n",
        "\n",
        "These analytics go beyond descriptive and predictive analytics by \n",
        "recommending one or more possible courses of action. \n",
        "\n",
        "In this notebook, we will attempt to build a Deep-Learning Model that can learn intricate patterns in the data, so as to properly classify future transactions as either `fraud` or `not-fraud`, with an associated probability score that can tell us how confident the model prediction is on each attempt.\n",
        "\n",
        "We shall combine this model with other behavioral insights to help fight fraudulent transactions as quickly as they occur."
      ]
    },
    {
      "cell_type": "markdown",
      "metadata": {
        "id": "bC1tb7gWC9T_"
      },
      "source": [
        "### 1. Let's see the split of fraud and non-fraud cases in the data"
      ]
    },
    {
      "cell_type": "code",
      "metadata": {
        "id": "ZK7daH9e88jB",
        "colab": {
          "base_uri": "https://localhost:8080/",
          "height": 162
        },
        "outputId": "fc763db8-2bad-4407-b3d2-aeba33b3465e"
      },
      "source": [
        "# first let's add a column of True/False if fraud is reported or not.\n",
        "\n",
        "combined_df['is_fraud'] = np.where(combined_df['fraud_count'] > 0, True, False)\n",
        "combined_df.head(3)"
      ],
      "execution_count": 10,
      "outputs": [
        {
          "output_type": "execute_result",
          "data": {
            "text/html": [
              "<div>\n",
              "<style scoped>\n",
              "    .dataframe tbody tr th:only-of-type {\n",
              "        vertical-align: middle;\n",
              "    }\n",
              "\n",
              "    .dataframe tbody tr th {\n",
              "        vertical-align: top;\n",
              "    }\n",
              "\n",
              "    .dataframe thead th {\n",
              "        text-align: right;\n",
              "    }\n",
              "</style>\n",
              "<table border=\"1\" class=\"dataframe\">\n",
              "  <thead>\n",
              "    <tr style=\"text-align: right;\">\n",
              "      <th></th>\n",
              "      <th>merchant_id</th>\n",
              "      <th>merchant_industry</th>\n",
              "      <th>merchant_category</th>\n",
              "      <th>merchant_country</th>\n",
              "      <th>currency</th>\n",
              "      <th>transaction_week_start_date</th>\n",
              "      <th>channel</th>\n",
              "      <th>transaction_count</th>\n",
              "      <th>transaction_volume_usd</th>\n",
              "      <th>fraud_count</th>\n",
              "      <th>fraud_volume_usd</th>\n",
              "      <th>otp_fraud</th>\n",
              "      <th>otp_all_transactions</th>\n",
              "      <th>is_fraud</th>\n",
              "    </tr>\n",
              "  </thead>\n",
              "  <tbody>\n",
              "    <tr>\n",
              "      <th>0</th>\n",
              "      <td>1</td>\n",
              "      <td>GOODS-PHYSICAL</td>\n",
              "      <td>e-Commerce</td>\n",
              "      <td>Nigeria</td>\n",
              "      <td>NGN</td>\n",
              "      <td>2021-06-07</td>\n",
              "      <td>card</td>\n",
              "      <td>5</td>\n",
              "      <td>231.590551</td>\n",
              "      <td>0</td>\n",
              "      <td>0.0</td>\n",
              "      <td>0</td>\n",
              "      <td>5</td>\n",
              "      <td>False</td>\n",
              "    </tr>\n",
              "    <tr>\n",
              "      <th>1</th>\n",
              "      <td>5</td>\n",
              "      <td>SERVICES-LEGAL</td>\n",
              "      <td>Other</td>\n",
              "      <td>Nigeria</td>\n",
              "      <td>NGN</td>\n",
              "      <td>2021-06-07</td>\n",
              "      <td>card</td>\n",
              "      <td>2</td>\n",
              "      <td>210.203412</td>\n",
              "      <td>0</td>\n",
              "      <td>0.0</td>\n",
              "      <td>0</td>\n",
              "      <td>2</td>\n",
              "      <td>False</td>\n",
              "    </tr>\n",
              "    <tr>\n",
              "      <th>2</th>\n",
              "      <td>9</td>\n",
              "      <td>TRAVEL</td>\n",
              "      <td>Travel &amp; Hospitality</td>\n",
              "      <td>Nigeria</td>\n",
              "      <td>NGN</td>\n",
              "      <td>2021-06-07</td>\n",
              "      <td>card</td>\n",
              "      <td>4</td>\n",
              "      <td>223.097113</td>\n",
              "      <td>0</td>\n",
              "      <td>0.0</td>\n",
              "      <td>0</td>\n",
              "      <td>1</td>\n",
              "      <td>False</td>\n",
              "    </tr>\n",
              "  </tbody>\n",
              "</table>\n",
              "</div>"
            ],
            "text/plain": [
              "   merchant_id merchant_industry  ... otp_all_transactions is_fraud\n",
              "0            1    GOODS-PHYSICAL  ...                    5    False\n",
              "1            5    SERVICES-LEGAL  ...                    2    False\n",
              "2            9            TRAVEL  ...                    1    False\n",
              "\n",
              "[3 rows x 14 columns]"
            ]
          },
          "metadata": {},
          "execution_count": 10
        }
      ]
    },
    {
      "cell_type": "code",
      "metadata": {
        "colab": {
          "base_uri": "https://localhost:8080/",
          "height": 407
        },
        "id": "SmCPpqxVFZWU",
        "outputId": "a4e16550-f0bb-4637-f4e7-2629c92fd835"
      },
      "source": [
        "size = (10, 6)\n",
        "plt.figure(figsize=size)\n",
        "sns.countplot(x='is_fraud', data=combined_df), \n",
        "plt.title('Fraud vs Non-fraud Transactions Count', fontdict=fontDict2)\n",
        "height1 = len(combined_df.is_fraud)-sum(combined_df.is_fraud)\n",
        "height2 = sum(combined_df.is_fraud)\n",
        "plt.text(0, height1+100, str(height1), fontdict=fontDict2)\n",
        "plt.text(1, height2+200, str(height2), fontdict=fontDict2)\n",
        "\n",
        "plt.show()"
      ],
      "execution_count": 11,
      "outputs": [
        {
          "output_type": "display_data",
          "data": {
            "image/png": "[encoded data removed]",
            "text/plain": [
              "<Figure size 720x432 with 1 Axes>"
            ]
          },
          "metadata": {
            "needs_background": "light"
          }
        }
      ]
    },
    {
      "cell_type": "markdown",
      "metadata": {
        "id": "QUlXKkHXNchh"
      },
      "source": [
        "**We have a grossly imbalanced dataset**\n",
        "\n",
        "Let's load the earlier preprocessed data set from Diagnostic Analytics stage"
      ]
    },
    {
      "cell_type": "code",
      "metadata": {
        "colab": {
          "base_uri": "https://localhost:8080/",
          "height": 159
        },
        "id": "L9CtaOUmNi0Z",
        "outputId": "de841a6a-3cfa-4eee-8f03-7941ed80553f"
      },
      "source": [
        "processed_df = pd.read_csv('processed_mi_combined.csv')\n",
        "print('shape is {}'.format(processed_df.shape))\n",
        "processed_df.head(3)"
      ],
      "execution_count": 12,
      "outputs": [
        {
          "output_type": "stream",
          "name": "stdout",
          "text": [
            "shape is (17418, 8)\n"
          ]
        },
        {
          "output_type": "execute_result",
          "data": {
            "text/html": [
              "<div>\n",
              "<style scoped>\n",
              "    .dataframe tbody tr th:only-of-type {\n",
              "        vertical-align: middle;\n",
              "    }\n",
              "\n",
              "    .dataframe tbody tr th {\n",
              "        vertical-align: top;\n",
              "    }\n",
              "\n",
              "    .dataframe thead th {\n",
              "        text-align: right;\n",
              "    }\n",
              "</style>\n",
              "<table border=\"1\" class=\"dataframe\">\n",
              "  <thead>\n",
              "    <tr style=\"text-align: right;\">\n",
              "      <th></th>\n",
              "      <th>merchant_category</th>\n",
              "      <th>transaction_volume_usd</th>\n",
              "      <th>otp_fraud</th>\n",
              "      <th>merchant_industry</th>\n",
              "      <th>transaction_week_start_date</th>\n",
              "      <th>fraud_count</th>\n",
              "      <th>centroid</th>\n",
              "      <th>pt2centroid</th>\n",
              "    </tr>\n",
              "  </thead>\n",
              "  <tbody>\n",
              "    <tr>\n",
              "      <th>0</th>\n",
              "      <td>0.0</td>\n",
              "      <td>0.823529</td>\n",
              "      <td>0.0</td>\n",
              "      <td>0.000000</td>\n",
              "      <td>0.0</td>\n",
              "      <td>0.0</td>\n",
              "      <td>20</td>\n",
              "      <td>0.190176</td>\n",
              "    </tr>\n",
              "    <tr>\n",
              "      <th>1</th>\n",
              "      <td>0.1</td>\n",
              "      <td>0.823529</td>\n",
              "      <td>0.0</td>\n",
              "      <td>0.016129</td>\n",
              "      <td>0.0</td>\n",
              "      <td>0.0</td>\n",
              "      <td>20</td>\n",
              "      <td>0.179691</td>\n",
              "    </tr>\n",
              "    <tr>\n",
              "      <th>2</th>\n",
              "      <td>0.2</td>\n",
              "      <td>0.823529</td>\n",
              "      <td>0.0</td>\n",
              "      <td>0.032258</td>\n",
              "      <td>0.0</td>\n",
              "      <td>0.0</td>\n",
              "      <td>20</td>\n",
              "      <td>0.178412</td>\n",
              "    </tr>\n",
              "  </tbody>\n",
              "</table>\n",
              "</div>"
            ],
            "text/plain": [
              "   merchant_category  transaction_volume_usd  ...  centroid  pt2centroid\n",
              "0                0.0                0.823529  ...        20     0.190176\n",
              "1                0.1                0.823529  ...        20     0.179691\n",
              "2                0.2                0.823529  ...        20     0.178412\n",
              "\n",
              "[3 rows x 8 columns]"
            ]
          },
          "metadata": {},
          "execution_count": 12
        }
      ]
    },
    {
      "cell_type": "markdown",
      "metadata": {
        "id": "XYRYIQVQZvps"
      },
      "source": [
        "Let's see the numerical distribution, so we know how to normalize the centroid column"
      ]
    },
    {
      "cell_type": "code",
      "metadata": {
        "colab": {
          "base_uri": "https://localhost:8080/",
          "height": 499
        },
        "id": "7IXNvqaxY_9B",
        "outputId": "9009b3e2-1842-4b97-bf99-03729b45d863"
      },
      "source": [
        "processed_df.hist(figsize=(12,8))\n",
        "plt.show()"
      ],
      "execution_count": 13,
      "outputs": [
        {
          "output_type": "display_data",
          "data": {
            "image/png": "[encoded data removed]",
            "text/plain": [
              "<Figure size 864x576 with 9 Axes>"
            ]
          },
          "metadata": {
            "needs_background": "light"
          }
        }
      ]
    },
    {
      "cell_type": "markdown",
      "metadata": {
        "id": "TixYi-qVvL3n"
      },
      "source": [
        "Let's use min-ma to normalize the `centroid` column"
      ]
    },
    {
      "cell_type": "code",
      "metadata": {
        "id": "U-2RByKdaPJT"
      },
      "source": [
        "def minMaxScaler(numArr):\n",
        "  minx = np.min(numArr)\n",
        "  maxx = np.max(numArr)\n",
        "  numArr = (numArr - minx) / (maxx - minx)\n",
        "  return numArr"
      ],
      "execution_count": 14,
      "outputs": []
    },
    {
      "cell_type": "code",
      "metadata": {
        "id": "3Cmuw3gfwbfA"
      },
      "source": [
        "processed_df.centroid = minMaxScaler(processed_df.centroid)"
      ],
      "execution_count": 15,
      "outputs": []
    },
    {
      "cell_type": "code",
      "metadata": {
        "colab": {
          "base_uri": "https://localhost:8080/"
        },
        "id": "0hS4jC9NvoIQ",
        "outputId": "016988bf-b0b9-4569-968a-409d7f681db4"
      },
      "source": [
        "# check for missing values\n",
        "processed_df.isna().any().sum()"
      ],
      "execution_count": 16,
      "outputs": [
        {
          "output_type": "execute_result",
          "data": {
            "text/plain": [
              "0"
            ]
          },
          "metadata": {},
          "execution_count": 16
        }
      ]
    },
    {
      "cell_type": "markdown",
      "metadata": {
        "id": "OnxGDIl5gVyF"
      },
      "source": [
        "**Choosing and creating the target variable**\n",
        "\n",
        "Since we want to predict if a transaction is fraud or not using the `fraud_count` column for each observation. Let's convert it to a binary class of 1 and 0 for True and False if it's fraud or not."
      ]
    },
    {
      "cell_type": "code",
      "metadata": {
        "colab": {
          "base_uri": "https://localhost:8080/",
          "height": 142
        },
        "id": "uXXwT0GvSIe0",
        "outputId": "755b230c-0693-44ed-870b-50289bc9b227"
      },
      "source": [
        "# let's make a target column\n",
        "processed_df['target'] = combined_df.is_fraud\n",
        "\n",
        "# next, let's drop the fraud_count variable and the is_fraud variable from combined_df\n",
        "processed_df.drop(columns=['fraud_count'], inplace=True)\n",
        "combined_df.drop(columns=['is_fraud'], inplace=True)\n",
        "\n",
        "processed_df.head(3)"
      ],
      "execution_count": 17,
      "outputs": [
        {
          "output_type": "execute_result",
          "data": {
            "text/html": [
              "<div>\n",
              "<style scoped>\n",
              "    .dataframe tbody tr th:only-of-type {\n",
              "        vertical-align: middle;\n",
              "    }\n",
              "\n",
              "    .dataframe tbody tr th {\n",
              "        vertical-align: top;\n",
              "    }\n",
              "\n",
              "    .dataframe thead th {\n",
              "        text-align: right;\n",
              "    }\n",
              "</style>\n",
              "<table border=\"1\" class=\"dataframe\">\n",
              "  <thead>\n",
              "    <tr style=\"text-align: right;\">\n",
              "      <th></th>\n",
              "      <th>merchant_category</th>\n",
              "      <th>transaction_volume_usd</th>\n",
              "      <th>otp_fraud</th>\n",
              "      <th>merchant_industry</th>\n",
              "      <th>transaction_week_start_date</th>\n",
              "      <th>centroid</th>\n",
              "      <th>pt2centroid</th>\n",
              "      <th>target</th>\n",
              "    </tr>\n",
              "  </thead>\n",
              "  <tbody>\n",
              "    <tr>\n",
              "      <th>0</th>\n",
              "      <td>0.0</td>\n",
              "      <td>0.823529</td>\n",
              "      <td>0.0</td>\n",
              "      <td>0.000000</td>\n",
              "      <td>0.0</td>\n",
              "      <td>0.512821</td>\n",
              "      <td>0.190176</td>\n",
              "      <td>False</td>\n",
              "    </tr>\n",
              "    <tr>\n",
              "      <th>1</th>\n",
              "      <td>0.1</td>\n",
              "      <td>0.823529</td>\n",
              "      <td>0.0</td>\n",
              "      <td>0.016129</td>\n",
              "      <td>0.0</td>\n",
              "      <td>0.512821</td>\n",
              "      <td>0.179691</td>\n",
              "      <td>False</td>\n",
              "    </tr>\n",
              "    <tr>\n",
              "      <th>2</th>\n",
              "      <td>0.2</td>\n",
              "      <td>0.823529</td>\n",
              "      <td>0.0</td>\n",
              "      <td>0.032258</td>\n",
              "      <td>0.0</td>\n",
              "      <td>0.512821</td>\n",
              "      <td>0.178412</td>\n",
              "      <td>False</td>\n",
              "    </tr>\n",
              "  </tbody>\n",
              "</table>\n",
              "</div>"
            ],
            "text/plain": [
              "   merchant_category  transaction_volume_usd  ...  pt2centroid  target\n",
              "0                0.0                0.823529  ...     0.190176   False\n",
              "1                0.1                0.823529  ...     0.179691   False\n",
              "2                0.2                0.823529  ...     0.178412   False\n",
              "\n",
              "[3 rows x 8 columns]"
            ]
          },
          "metadata": {},
          "execution_count": 17
        }
      ]
    },
    {
      "cell_type": "code",
      "metadata": {
        "colab": {
          "base_uri": "https://localhost:8080/",
          "height": 142
        },
        "id": "wY4B1RcwXHtB",
        "outputId": "ed07f89d-b291-435c-d229-520a44f20779"
      },
      "source": [
        "# let's make True or Flase, 0 or 1\n",
        "processed_df['target'] = processed_df['target'].astype('int')\n",
        "processed_df.head(3)"
      ],
      "execution_count": 18,
      "outputs": [
        {
          "output_type": "execute_result",
          "data": {
            "text/html": [
              "<div>\n",
              "<style scoped>\n",
              "    .dataframe tbody tr th:only-of-type {\n",
              "        vertical-align: middle;\n",
              "    }\n",
              "\n",
              "    .dataframe tbody tr th {\n",
              "        vertical-align: top;\n",
              "    }\n",
              "\n",
              "    .dataframe thead th {\n",
              "        text-align: right;\n",
              "    }\n",
              "</style>\n",
              "<table border=\"1\" class=\"dataframe\">\n",
              "  <thead>\n",
              "    <tr style=\"text-align: right;\">\n",
              "      <th></th>\n",
              "      <th>merchant_category</th>\n",
              "      <th>transaction_volume_usd</th>\n",
              "      <th>otp_fraud</th>\n",
              "      <th>merchant_industry</th>\n",
              "      <th>transaction_week_start_date</th>\n",
              "      <th>centroid</th>\n",
              "      <th>pt2centroid</th>\n",
              "      <th>target</th>\n",
              "    </tr>\n",
              "  </thead>\n",
              "  <tbody>\n",
              "    <tr>\n",
              "      <th>0</th>\n",
              "      <td>0.0</td>\n",
              "      <td>0.823529</td>\n",
              "      <td>0.0</td>\n",
              "      <td>0.000000</td>\n",
              "      <td>0.0</td>\n",
              "      <td>0.512821</td>\n",
              "      <td>0.190176</td>\n",
              "      <td>0</td>\n",
              "    </tr>\n",
              "    <tr>\n",
              "      <th>1</th>\n",
              "      <td>0.1</td>\n",
              "      <td>0.823529</td>\n",
              "      <td>0.0</td>\n",
              "      <td>0.016129</td>\n",
              "      <td>0.0</td>\n",
              "      <td>0.512821</td>\n",
              "      <td>0.179691</td>\n",
              "      <td>0</td>\n",
              "    </tr>\n",
              "    <tr>\n",
              "      <th>2</th>\n",
              "      <td>0.2</td>\n",
              "      <td>0.823529</td>\n",
              "      <td>0.0</td>\n",
              "      <td>0.032258</td>\n",
              "      <td>0.0</td>\n",
              "      <td>0.512821</td>\n",
              "      <td>0.178412</td>\n",
              "      <td>0</td>\n",
              "    </tr>\n",
              "  </tbody>\n",
              "</table>\n",
              "</div>"
            ],
            "text/plain": [
              "   merchant_category  transaction_volume_usd  ...  pt2centroid  target\n",
              "0                0.0                0.823529  ...     0.190176       0\n",
              "1                0.1                0.823529  ...     0.179691       0\n",
              "2                0.2                0.823529  ...     0.178412       0\n",
              "\n",
              "[3 rows x 8 columns]"
            ]
          },
          "metadata": {},
          "execution_count": 18
        }
      ]
    },
    {
      "cell_type": "code",
      "metadata": {
        "colab": {
          "base_uri": "https://localhost:8080/"
        },
        "id": "0XDZOioNSYHV",
        "outputId": "647b97a9-2abe-489d-e800-1d92fd613003"
      },
      "source": [
        "# check for missing values\n",
        "processed_df.isna().any().sum()"
      ],
      "execution_count": 19,
      "outputs": [
        {
          "output_type": "execute_result",
          "data": {
            "text/plain": [
              "0"
            ]
          },
          "metadata": {},
          "execution_count": 19
        }
      ]
    },
    {
      "cell_type": "code",
      "metadata": {
        "colab": {
          "base_uri": "https://localhost:8080/",
          "height": 162
        },
        "id": "ATLoGG2-iuWk",
        "outputId": "da118fda-2a7e-4f69-e41a-4edf00070b8e"
      },
      "source": [
        "# let's check the column deletion here\n",
        "combined_df.head(3)"
      ],
      "execution_count": 20,
      "outputs": [
        {
          "output_type": "execute_result",
          "data": {
            "text/html": [
              "<div>\n",
              "<style scoped>\n",
              "    .dataframe tbody tr th:only-of-type {\n",
              "        vertical-align: middle;\n",
              "    }\n",
              "\n",
              "    .dataframe tbody tr th {\n",
              "        vertical-align: top;\n",
              "    }\n",
              "\n",
              "    .dataframe thead th {\n",
              "        text-align: right;\n",
              "    }\n",
              "</style>\n",
              "<table border=\"1\" class=\"dataframe\">\n",
              "  <thead>\n",
              "    <tr style=\"text-align: right;\">\n",
              "      <th></th>\n",
              "      <th>merchant_id</th>\n",
              "      <th>merchant_industry</th>\n",
              "      <th>merchant_category</th>\n",
              "      <th>merchant_country</th>\n",
              "      <th>currency</th>\n",
              "      <th>transaction_week_start_date</th>\n",
              "      <th>channel</th>\n",
              "      <th>transaction_count</th>\n",
              "      <th>transaction_volume_usd</th>\n",
              "      <th>fraud_count</th>\n",
              "      <th>fraud_volume_usd</th>\n",
              "      <th>otp_fraud</th>\n",
              "      <th>otp_all_transactions</th>\n",
              "    </tr>\n",
              "  </thead>\n",
              "  <tbody>\n",
              "    <tr>\n",
              "      <th>0</th>\n",
              "      <td>1</td>\n",
              "      <td>GOODS-PHYSICAL</td>\n",
              "      <td>e-Commerce</td>\n",
              "      <td>Nigeria</td>\n",
              "      <td>NGN</td>\n",
              "      <td>2021-06-07</td>\n",
              "      <td>card</td>\n",
              "      <td>5</td>\n",
              "      <td>231.590551</td>\n",
              "      <td>0</td>\n",
              "      <td>0.0</td>\n",
              "      <td>0</td>\n",
              "      <td>5</td>\n",
              "    </tr>\n",
              "    <tr>\n",
              "      <th>1</th>\n",
              "      <td>5</td>\n",
              "      <td>SERVICES-LEGAL</td>\n",
              "      <td>Other</td>\n",
              "      <td>Nigeria</td>\n",
              "      <td>NGN</td>\n",
              "      <td>2021-06-07</td>\n",
              "      <td>card</td>\n",
              "      <td>2</td>\n",
              "      <td>210.203412</td>\n",
              "      <td>0</td>\n",
              "      <td>0.0</td>\n",
              "      <td>0</td>\n",
              "      <td>2</td>\n",
              "    </tr>\n",
              "    <tr>\n",
              "      <th>2</th>\n",
              "      <td>9</td>\n",
              "      <td>TRAVEL</td>\n",
              "      <td>Travel &amp; Hospitality</td>\n",
              "      <td>Nigeria</td>\n",
              "      <td>NGN</td>\n",
              "      <td>2021-06-07</td>\n",
              "      <td>card</td>\n",
              "      <td>4</td>\n",
              "      <td>223.097113</td>\n",
              "      <td>0</td>\n",
              "      <td>0.0</td>\n",
              "      <td>0</td>\n",
              "      <td>1</td>\n",
              "    </tr>\n",
              "  </tbody>\n",
              "</table>\n",
              "</div>"
            ],
            "text/plain": [
              "   merchant_id merchant_industry  ... otp_fraud otp_all_transactions\n",
              "0            1    GOODS-PHYSICAL  ...         0                    5\n",
              "1            5    SERVICES-LEGAL  ...         0                    2\n",
              "2            9            TRAVEL  ...         0                    1\n",
              "\n",
              "[3 rows x 13 columns]"
            ]
          },
          "metadata": {},
          "execution_count": 20
        }
      ]
    },
    {
      "cell_type": "markdown",
      "metadata": {
        "id": "dkV8T1gxWLqH"
      },
      "source": [
        "### 2. Splitting the data into Train, Validate and Test sets"
      ]
    },
    {
      "cell_type": "code",
      "metadata": {
        "colab": {
          "base_uri": "https://localhost:8080/"
        },
        "id": "_SvmfgTfWRly",
        "outputId": "ae9aaef5-956f-45df-8aba-eaa7d27ce2e3"
      },
      "source": [
        "# Use a utility from sklearn to split and shuffle your dataset.\n",
        "train_df, test_df = train_test_split(processed_df, test_size=0.2)\n",
        "train_df, val_df = train_test_split(train_df, test_size=0.2)\n",
        "\n",
        "# Form np arrays of labels and features.\n",
        "train_labels = np.array(train_df.pop('target'))\n",
        "bool_train_labels = train_labels != 0\n",
        "val_labels = np.array(val_df.pop('target'))\n",
        "test_labels = np.array(test_df.pop('target'))\n",
        "\n",
        "train_features = np.array(train_df)\n",
        "val_features = np.array(val_df)\n",
        "test_features = np.array(test_df)\n",
        "\n",
        "print('split!')"
      ],
      "execution_count": 21,
      "outputs": [
        {
          "output_type": "stream",
          "name": "stdout",
          "text": [
            "split!\n"
          ]
        }
      ]
    },
    {
      "cell_type": "code",
      "metadata": {
        "colab": {
          "base_uri": "https://localhost:8080/"
        },
        "id": "PAbhVnQN59Uu",
        "outputId": "d83d57f3-5e5d-4c9d-bd1e-a307c75fd914"
      },
      "source": [
        "print(f'train-features: {train_features.shape}, train-labels: {train_labels.shape}')\n",
        "print(f'val-features: {val_features.shape}, val-labels: {val_labels.shape}')\n",
        "print(f'test-features: {test_features.shape}, test-labels: {test_labels.shape}')"
      ],
      "execution_count": 22,
      "outputs": [
        {
          "output_type": "stream",
          "name": "stdout",
          "text": [
            "train-features: (11147, 7), train-labels: (11147,)\n",
            "val-features: (2787, 7), val-labels: (2787,)\n",
            "test-features: (3484, 7), test-labels: (3484,)\n"
          ]
        }
      ]
    },
    {
      "cell_type": "markdown",
      "metadata": {
        "id": "9vTW3M956ymt"
      },
      "source": [
        "### 3. Build a binary classification model"
      ]
    },
    {
      "cell_type": "code",
      "metadata": {
        "colab": {
          "base_uri": "https://localhost:8080/"
        },
        "id": "06gdW2w06Nhl",
        "outputId": "c4fc5951-0717-498a-f646-d4288a851e35"
      },
      "source": [
        "from tensorflow import keras\n",
        "\n",
        "model = keras.Sequential(\n",
        "    [\n",
        "        keras.layers.Dense(\n",
        "            256, activation=\"relu\", input_shape=(train_features.shape[-1],)\n",
        "        ),\n",
        "        keras.layers.Dense(256, activation=\"relu\"),\n",
        "        keras.layers.Dropout(0.3),\n",
        "        keras.layers.Dense(256, activation=\"relu\"),\n",
        "        keras.layers.Dropout(0.3),\n",
        "        keras.layers.Dense(1, activation=\"sigmoid\"),\n",
        "    ]\n",
        ")\n",
        "model.summary()"
      ],
      "execution_count": 23,
      "outputs": [
        {
          "output_type": "stream",
          "name": "stdout",
          "text": [
            "Model: \"sequential\"\n",
            "_________________________________________________________________\n",
            " Layer (type)                Output Shape              Param #   \n",
            "=================================================================\n",
            " dense (Dense)               (None, 256)               2048      \n",
            "                                                                 \n",
            " dense_1 (Dense)             (None, 256)               65792     \n",
            "                                                                 \n",
            " dropout (Dropout)           (None, 256)               0         \n",
            "                                                                 \n",
            " dense_2 (Dense)             (None, 256)               65792     \n",
            "                                                                 \n",
            " dropout_1 (Dropout)         (None, 256)               0         \n",
            "                                                                 \n",
            " dense_3 (Dense)             (None, 1)                 257       \n",
            "                                                                 \n",
            "=================================================================\n",
            "Total params: 133,889\n",
            "Trainable params: 133,889\n",
            "Non-trainable params: 0\n",
            "_________________________________________________________________\n"
          ]
        }
      ]
    },
    {
      "cell_type": "markdown",
      "metadata": {
        "id": "esDTbtEw7C8K"
      },
      "source": [
        "### 4. Train the model with class_weight argument\n",
        "\n",
        "Because of the gross imbalance, we would appemd weights to each class that sort of balances out the learning experience for the model and makes it possible for the model to learn as well from the minority class as from the majority."
      ]
    },
    {
      "cell_type": "code",
      "metadata": {
        "id": "8eyypJQ27aE1"
      },
      "source": [
        "# Define evaluationmetrics\n",
        "\n",
        "METRICS = [\n",
        "      keras.metrics.TruePositives(name='tp'),\n",
        "      keras.metrics.FalsePositives(name='fp'),\n",
        "      keras.metrics.TrueNegatives(name='tn'),\n",
        "      keras.metrics.FalseNegatives(name='fn'), \n",
        "      keras.metrics.BinaryAccuracy(name='accuracy'),\n",
        "      keras.metrics.Precision(name='precision'),\n",
        "      keras.metrics.Recall(name='recall'),\n",
        "      keras.metrics.AUC(name='auc'),\n",
        "      keras.metrics.AUC(name='prc', curve='PR'), # precision-recall curve\n",
        "]"
      ],
      "execution_count": 24,
      "outputs": []
    },
    {
      "cell_type": "code",
      "metadata": {
        "id": "p0V65c68BK1e"
      },
      "source": [
        "EPOCHS = 100\n",
        "BATCH_SIZE = 1024\n",
        "\n",
        "early_stopping = tf.keras.callbacks.EarlyStopping(\n",
        "    monitor='val_prc', \n",
        "    verbose=1,\n",
        "    patience=10,\n",
        "    mode='max',\n",
        "    restore_best_weights=True)"
      ],
      "execution_count": 25,
      "outputs": []
    },
    {
      "cell_type": "code",
      "metadata": {
        "colab": {
          "base_uri": "https://localhost:8080/"
        },
        "id": "HIb_VjJm72od",
        "outputId": "1db3e9f7-d35f-436f-ea52-f410813d4aa5"
      },
      "source": [
        "from sklearn.utils import class_weight\n",
        "\n",
        "# define the class weights\n",
        "class_weights = class_weight.compute_class_weight('balanced',\n",
        "                                                 np.unique(train_labels),\n",
        "                                                 train_labels)\n",
        "\n",
        "# Convert classweights from array to dict\n",
        "class_weights = dict(enumerate(class_weights))\n",
        "print(f'class weights: {class_weights}')"
      ],
      "execution_count": 26,
      "outputs": [
        {
          "output_type": "stream",
          "name": "stdout",
          "text": [
            "class weights: {0: 0.5033869219653179, 1: 74.31333333333333}\n"
          ]
        }
      ]
    },
    {
      "cell_type": "code",
      "metadata": {
        "colab": {
          "base_uri": "https://localhost:8080/"
        },
        "id": "OW-E4AB-7rq5",
        "outputId": "b57cdf21-2362-49c8-d9f3-c989ac424e78"
      },
      "source": [
        "model.compile(\n",
        "    optimizer=keras.optimizers.Adam(1e-2), loss=\"binary_crossentropy\", metrics=METRICS\n",
        ")\n",
        "\n",
        "# Fit the model with the class weights\n",
        "baseline_history = model.fit(\n",
        "    train_features,\n",
        "    train_labels,\n",
        "    batch_size=BATCH_SIZE,\n",
        "    epochs=EPOCHS,\n",
        "    verbose=1,\n",
        "    callbacks=[early_stopping],\n",
        "    validation_data=(val_features, val_labels),\n",
        "    class_weight=class_weights\n",
        ")"
      ],
      "execution_count": 27,
      "outputs": [
        {
          "output_type": "stream",
          "name": "stdout",
          "text": [
            "Epoch 1/100\n",
            "11/11 [==============================] - 4s 128ms/step - loss: 0.7178 - tp: 44.0000 - fp: 4440.0000 - tn: 6632.0000 - fn: 31.0000 - accuracy: 0.5989 - precision: 0.0098 - recall: 0.5867 - auc: 0.6152 - prc: 0.0125 - val_loss: 0.8890 - val_tp: 16.0000 - val_fp: 1967.0000 - val_tn: 804.0000 - val_fn: 0.0000e+00 - val_accuracy: 0.2942 - val_precision: 0.0081 - val_recall: 1.0000 - val_auc: 0.9394 - val_prc: 0.1459\n",
            "Epoch 2/100\n",
            "11/11 [==============================] - 0s 14ms/step - loss: 0.4472 - tp: 66.0000 - fp: 3730.0000 - tn: 7342.0000 - fn: 9.0000 - accuracy: 0.6646 - precision: 0.0174 - recall: 0.8800 - auc: 0.8709 - prc: 0.1371 - val_loss: 0.3177 - val_tp: 12.0000 - val_fp: 541.0000 - val_tn: 2230.0000 - val_fn: 4.0000 - val_accuracy: 0.8044 - val_precision: 0.0217 - val_recall: 0.7500 - val_auc: 0.8791 - val_prc: 0.1517\n",
            "Epoch 3/100\n",
            "11/11 [==============================] - 0s 15ms/step - loss: 0.4339 - tp: 68.0000 - fp: 2264.0000 - tn: 8808.0000 - fn: 7.0000 - accuracy: 0.7963 - precision: 0.0292 - recall: 0.9067 - auc: 0.9024 - prc: 0.2016 - val_loss: 0.6013 - val_tp: 16.0000 - val_fp: 937.0000 - val_tn: 1834.0000 - val_fn: 0.0000e+00 - val_accuracy: 0.6638 - val_precision: 0.0168 - val_recall: 1.0000 - val_auc: 0.9355 - val_prc: 0.2444\n",
            "Epoch 4/100\n",
            "11/11 [==============================] - 0s 17ms/step - loss: 0.3667 - tp: 68.0000 - fp: 2587.0000 - tn: 8485.0000 - fn: 7.0000 - accuracy: 0.7673 - precision: 0.0256 - recall: 0.9067 - auc: 0.9181 - prc: 0.2628 - val_loss: 0.4330 - val_tp: 15.0000 - val_fp: 720.0000 - val_tn: 2051.0000 - val_fn: 1.0000 - val_accuracy: 0.7413 - val_precision: 0.0204 - val_recall: 0.9375 - val_auc: 0.9087 - val_prc: 0.1888\n",
            "Epoch 5/100\n",
            "11/11 [==============================] - 0s 16ms/step - loss: 0.3605 - tp: 69.0000 - fp: 2273.0000 - tn: 8799.0000 - fn: 6.0000 - accuracy: 0.7956 - precision: 0.0295 - recall: 0.9200 - auc: 0.9168 - prc: 0.2240 - val_loss: 0.2041 - val_tp: 9.0000 - val_fp: 288.0000 - val_tn: 2483.0000 - val_fn: 7.0000 - val_accuracy: 0.8942 - val_precision: 0.0303 - val_recall: 0.5625 - val_auc: 0.9084 - val_prc: 0.1667\n",
            "Epoch 6/100\n",
            "11/11 [==============================] - 0s 15ms/step - loss: 0.3137 - tp: 68.0000 - fp: 1734.0000 - tn: 9338.0000 - fn: 7.0000 - accuracy: 0.8438 - precision: 0.0377 - recall: 0.9067 - auc: 0.9374 - prc: 0.3407 - val_loss: 0.3460 - val_tp: 16.0000 - val_fp: 503.0000 - val_tn: 2268.0000 - val_fn: 0.0000e+00 - val_accuracy: 0.8195 - val_precision: 0.0308 - val_recall: 1.0000 - val_auc: 0.9285 - val_prc: 0.2343\n",
            "Epoch 7/100\n",
            "11/11 [==============================] - 0s 16ms/step - loss: 0.2984 - tp: 69.0000 - fp: 1974.0000 - tn: 9098.0000 - fn: 6.0000 - accuracy: 0.8224 - precision: 0.0338 - recall: 0.9200 - auc: 0.9449 - prc: 0.3232 - val_loss: 0.2680 - val_tp: 13.0000 - val_fp: 405.0000 - val_tn: 2366.0000 - val_fn: 3.0000 - val_accuracy: 0.8536 - val_precision: 0.0311 - val_recall: 0.8125 - val_auc: 0.9151 - val_prc: 0.1652\n",
            "Epoch 8/100\n",
            "11/11 [==============================] - 0s 15ms/step - loss: 0.3692 - tp: 64.0000 - fp: 1817.0000 - tn: 9255.0000 - fn: 11.0000 - accuracy: 0.8360 - precision: 0.0340 - recall: 0.8533 - auc: 0.9204 - prc: 0.1456 - val_loss: 0.1656 - val_tp: 9.0000 - val_fp: 214.0000 - val_tn: 2557.0000 - val_fn: 7.0000 - val_accuracy: 0.9207 - val_precision: 0.0404 - val_recall: 0.5625 - val_auc: 0.9159 - val_prc: 0.2288\n",
            "Epoch 9/100\n",
            "11/11 [==============================] - 0s 15ms/step - loss: 0.3547 - tp: 71.0000 - fp: 3185.0000 - tn: 7887.0000 - fn: 4.0000 - accuracy: 0.7139 - precision: 0.0218 - recall: 0.9467 - auc: 0.9278 - prc: 0.2735 - val_loss: 0.3424 - val_tp: 15.0000 - val_fp: 664.0000 - val_tn: 2107.0000 - val_fn: 1.0000 - val_accuracy: 0.7614 - val_precision: 0.0221 - val_recall: 0.9375 - val_auc: 0.9129 - val_prc: 0.2299\n",
            "Epoch 10/100\n",
            "11/11 [==============================] - 0s 15ms/step - loss: 0.3295 - tp: 69.0000 - fp: 2294.0000 - tn: 8778.0000 - fn: 6.0000 - accuracy: 0.7937 - precision: 0.0292 - recall: 0.9200 - auc: 0.9348 - prc: 0.3160 - val_loss: 0.3664 - val_tp: 14.0000 - val_fp: 542.0000 - val_tn: 2229.0000 - val_fn: 2.0000 - val_accuracy: 0.8048 - val_precision: 0.0252 - val_recall: 0.8750 - val_auc: 0.8999 - val_prc: 0.2382\n",
            "Epoch 11/100\n",
            "11/11 [==============================] - 0s 15ms/step - loss: 0.2994 - tp: 69.0000 - fp: 1738.0000 - tn: 9334.0000 - fn: 6.0000 - accuracy: 0.8435 - precision: 0.0382 - recall: 0.9200 - auc: 0.9433 - prc: 0.2972 - val_loss: 0.5261 - val_tp: 16.0000 - val_fp: 626.0000 - val_tn: 2145.0000 - val_fn: 0.0000e+00 - val_accuracy: 0.7754 - val_precision: 0.0249 - val_recall: 1.0000 - val_auc: 0.9135 - val_prc: 0.2049\n",
            "Epoch 12/100\n",
            "11/11 [==============================] - 0s 14ms/step - loss: 0.3369 - tp: 63.0000 - fp: 1844.0000 - tn: 9228.0000 - fn: 12.0000 - accuracy: 0.8335 - precision: 0.0330 - recall: 0.8400 - auc: 0.9279 - prc: 0.2465 - val_loss: 0.5384 - val_tp: 16.0000 - val_fp: 748.0000 - val_tn: 2023.0000 - val_fn: 0.0000e+00 - val_accuracy: 0.7316 - val_precision: 0.0209 - val_recall: 1.0000 - val_auc: 0.9249 - val_prc: 0.2291\n",
            "Epoch 13/100\n",
            "11/11 [==============================] - ETA: 0s - loss: 0.3374 - tp: 69.0000 - fp: 1966.0000 - tn: 9106.0000 - fn: 6.0000 - accuracy: 0.8231 - precision: 0.0339 - recall: 0.9200 - auc: 0.9323 - prc: 0.2870Restoring model weights from the end of the best epoch: 3.\n",
            "11/11 [==============================] - 0s 16ms/step - loss: 0.3374 - tp: 69.0000 - fp: 1966.0000 - tn: 9106.0000 - fn: 6.0000 - accuracy: 0.8231 - precision: 0.0339 - recall: 0.9200 - auc: 0.9323 - prc: 0.2870 - val_loss: 0.6264 - val_tp: 16.0000 - val_fp: 887.0000 - val_tn: 1884.0000 - val_fn: 0.0000e+00 - val_accuracy: 0.6817 - val_precision: 0.0177 - val_recall: 1.0000 - val_auc: 0.9239 - val_prc: 0.2302\n",
            "Epoch 00013: early stopping\n"
          ]
        }
      ]
    },
    {
      "cell_type": "code",
      "metadata": {
        "id": "8Ol4oIMb7rmb"
      },
      "source": [
        "def plot_metrics(history):\n",
        "  metrics = ['loss', 'prc', 'precision', 'recall']\n",
        "  for n, metric in enumerate(metrics):\n",
        "    name = metric.replace(\"_\",\" \").capitalize()\n",
        "    plt.subplot(2,2,n+1)\n",
        "    plt.plot(history.epoch, history.history[metric], color=colors[0], label='Train')\n",
        "    plt.plot(history.epoch, history.history['val_'+metric],\n",
        "             color=colors[1], linestyle=\"--\", label='Val')\n",
        "    plt.xlabel('Epoch')\n",
        "    plt.ylabel(name)\n",
        "    if metric == 'loss':\n",
        "      plt.ylim([0, plt.ylim()[1]])\n",
        "    elif metric == 'auc':\n",
        "      plt.ylim([0.8,1])\n",
        "    else:\n",
        "      plt.ylim([0,1])\n",
        "\n",
        "    plt.legend()"
      ],
      "execution_count": 28,
      "outputs": []
    },
    {
      "cell_type": "code",
      "metadata": {
        "colab": {
          "base_uri": "https://localhost:8080/",
          "height": 504
        },
        "id": "4CHPRcYu7rjo",
        "outputId": "85676ebe-c57c-4f44-ac58-51c0b73615b7"
      },
      "source": [
        "colors = random.sample(darker_colors, 2)\n",
        "plt.figure(figsize=(14,8))\n",
        "plot_metrics(baseline_history)"
      ],
      "execution_count": 29,
      "outputs": [
        {
          "output_type": "display_data",
          "data": {
            "image/png": "[encoded data removed]",
            "text/plain": [
              "<Figure size 1008x576 with 4 Axes>"
            ]
          },
          "metadata": {
            "needs_background": "light"
          }
        }
      ]
    },
    {
      "cell_type": "code",
      "metadata": {
        "id": "Wd8u9D-fCtTP"
      },
      "source": [
        "train_predictions_baseline = model.predict(train_features, batch_size=BATCH_SIZE)\n",
        "test_predictions_baseline = model.predict(test_features, batch_size=BATCH_SIZE)"
      ],
      "execution_count": 30,
      "outputs": []
    },
    {
      "cell_type": "code",
      "metadata": {
        "colab": {
          "base_uri": "https://localhost:8080/"
        },
        "id": "PW4pL9LNePKR",
        "outputId": "e4717213-c781-423e-bd73-dcded8434633"
      },
      "source": [
        "len(test_features[0])"
      ],
      "execution_count": 31,
      "outputs": [
        {
          "output_type": "execute_result",
          "data": {
            "text/plain": [
              "7"
            ]
          },
          "metadata": {},
          "execution_count": 31
        }
      ]
    },
    {
      "cell_type": "code",
      "metadata": {
        "colab": {
          "base_uri": "https://localhost:8080/",
          "height": 204
        },
        "id": "AMYDfnn7euLz",
        "outputId": "6b73fb9a-ace9-4c76-e620-28e6aaa8f741"
      },
      "source": [
        "train_df.head()"
      ],
      "execution_count": 32,
      "outputs": [
        {
          "output_type": "execute_result",
          "data": {
            "text/html": [
              "<div>\n",
              "<style scoped>\n",
              "    .dataframe tbody tr th:only-of-type {\n",
              "        vertical-align: middle;\n",
              "    }\n",
              "\n",
              "    .dataframe tbody tr th {\n",
              "        vertical-align: top;\n",
              "    }\n",
              "\n",
              "    .dataframe thead th {\n",
              "        text-align: right;\n",
              "    }\n",
              "</style>\n",
              "<table border=\"1\" class=\"dataframe\">\n",
              "  <thead>\n",
              "    <tr style=\"text-align: right;\">\n",
              "      <th></th>\n",
              "      <th>merchant_category</th>\n",
              "      <th>transaction_volume_usd</th>\n",
              "      <th>otp_fraud</th>\n",
              "      <th>merchant_industry</th>\n",
              "      <th>transaction_week_start_date</th>\n",
              "      <th>centroid</th>\n",
              "      <th>pt2centroid</th>\n",
              "    </tr>\n",
              "  </thead>\n",
              "  <tbody>\n",
              "    <tr>\n",
              "      <th>12497</th>\n",
              "      <td>0.0</td>\n",
              "      <td>1.000000</td>\n",
              "      <td>0.000000</td>\n",
              "      <td>0.000000</td>\n",
              "      <td>0.714286</td>\n",
              "      <td>0.871795</td>\n",
              "      <td>0.063072</td>\n",
              "    </tr>\n",
              "    <tr>\n",
              "      <th>15315</th>\n",
              "      <td>0.4</td>\n",
              "      <td>1.000000</td>\n",
              "      <td>0.387762</td>\n",
              "      <td>0.209677</td>\n",
              "      <td>1.000000</td>\n",
              "      <td>0.692308</td>\n",
              "      <td>0.362109</td>\n",
              "    </tr>\n",
              "    <tr>\n",
              "      <th>9531</th>\n",
              "      <td>0.9</td>\n",
              "      <td>0.058824</td>\n",
              "      <td>0.000000</td>\n",
              "      <td>0.661290</td>\n",
              "      <td>0.571429</td>\n",
              "      <td>0.025641</td>\n",
              "      <td>0.087961</td>\n",
              "    </tr>\n",
              "    <tr>\n",
              "      <th>1760</th>\n",
              "      <td>0.3</td>\n",
              "      <td>0.352941</td>\n",
              "      <td>0.000000</td>\n",
              "      <td>0.064516</td>\n",
              "      <td>0.000000</td>\n",
              "      <td>0.974359</td>\n",
              "      <td>0.116012</td>\n",
              "    </tr>\n",
              "    <tr>\n",
              "      <th>2877</th>\n",
              "      <td>0.3</td>\n",
              "      <td>0.588235</td>\n",
              "      <td>0.000000</td>\n",
              "      <td>0.064516</td>\n",
              "      <td>0.142857</td>\n",
              "      <td>0.974359</td>\n",
              "      <td>0.100287</td>\n",
              "    </tr>\n",
              "  </tbody>\n",
              "</table>\n",
              "</div>"
            ],
            "text/plain": [
              "       merchant_category  transaction_volume_usd  ...  centroid  pt2centroid\n",
              "12497                0.0                1.000000  ...  0.871795     0.063072\n",
              "15315                0.4                1.000000  ...  0.692308     0.362109\n",
              "9531                 0.9                0.058824  ...  0.025641     0.087961\n",
              "1760                 0.3                0.352941  ...  0.974359     0.116012\n",
              "2877                 0.3                0.588235  ...  0.974359     0.100287\n",
              "\n",
              "[5 rows x 7 columns]"
            ]
          },
          "metadata": {},
          "execution_count": 32
        }
      ]
    },
    {
      "cell_type": "code",
      "metadata": {
        "id": "iuVdf1VrDoF7"
      },
      "source": [
        "def plot_cm(labels, predictions, p=0.5):\n",
        "  cm = confusion_matrix(labels, predictions > p)\n",
        "  plt.figure(figsize=(14,6))\n",
        "  sns.heatmap(cm, annot=True, fmt=\"d\")\n",
        "  plt.title('Confusion matrix @{:.2f}'.format(p))\n",
        "  plt.ylabel('Actual label')\n",
        "  plt.xlabel('Predicted label')\n",
        "\n",
        "  print('Legitimate Transactions Detected (True Negatives): ', cm[0][0])\n",
        "  print('Legitimate Transactions Incorrectly Detected (False Positives): ', cm[0][1])\n",
        "  print('Fraudulent Transactions Missed (False Negatives): ', cm[1][0])\n",
        "  print('Fraudulent Transactions Detected (True Positives): ', cm[1][1])\n",
        "  print('Total Fraudulent Transactions: ', np.sum(cm[1]))"
      ],
      "execution_count": 33,
      "outputs": []
    },
    {
      "cell_type": "code",
      "metadata": {
        "colab": {
          "base_uri": "https://localhost:8080/",
          "height": 679
        },
        "id": "WpIjIzdhDvOI",
        "outputId": "2849773b-47fa-44a7-9c89-aa55c5851a73"
      },
      "source": [
        "baseline_results = model.evaluate(test_features, test_labels,\n",
        "                                  batch_size=BATCH_SIZE, verbose=0)\n",
        "for name, value in zip(model.metrics_names, baseline_results):\n",
        "  print(name, ': ', value)\n",
        "print()\n",
        "\n",
        "plot_cm(test_labels, test_predictions_baseline)"
      ],
      "execution_count": 34,
      "outputs": [
        {
          "output_type": "stream",
          "name": "stdout",
          "text": [
            "loss :  0.6046344637870789\n",
            "tp :  21.0\n",
            "fp :  1164.0\n",
            "tn :  2299.0\n",
            "fn :  0.0\n",
            "accuracy :  0.665901243686676\n",
            "precision :  0.017721518874168396\n",
            "recall :  1.0\n",
            "auc :  0.9726565480232239\n",
            "prc :  0.4499254822731018\n",
            "\n",
            "Legitimate Transactions Detected (True Negatives):  2299\n",
            "Legitimate Transactions Incorrectly Detected (False Positives):  1164\n",
            "Fraudulent Transactions Missed (False Negatives):  0\n",
            "Fraudulent Transactions Detected (True Positives):  21\n",
            "Total Fraudulent Transactions:  21\n"
          ]
        },
        {
          "output_type": "display_data",
          "data": {
            "image/png": "[encoded data removed]",
            "text/plain": [
              "<Figure size 1008x432 with 2 Axes>"
            ]
          },
          "metadata": {
            "needs_background": "light"
          }
        }
      ]
    },
    {
      "cell_type": "markdown",
      "metadata": {
        "id": "ohuMTKJzGRmu"
      },
      "source": [
        "In this case, of the 21 fraudulent transactions, the model does remarkably well to detect all of them. This means it's very sensitive to detecting fraud, even though 1164 legitimate customers may be subject to more stringent anti-fraud measures since the model falsely identified their transactions as positive to fraud. But on the bright side, over 2200 out of 3463 legitimate customers enjoy a seamless, painless experience, with this model.\n",
        "\n",
        "This is the **Precision** / **Recall** trade-off that most classification applications in real-life face. Often, to better optimise recall, precision takes a hit and vice-versa. We can always adjust this using hyper-parameters like batch-size and the specified neurons in our hidden layers."
      ]
    },
    {
      "cell_type": "code",
      "metadata": {
        "colab": {
          "base_uri": "https://localhost:8080/"
        },
        "id": "NpWZhaOCHh8c",
        "outputId": "073a1f28-a80b-4791-c9ac-0b03432ab23c"
      },
      "source": [
        "# delete all stored model files after running notebook\n",
        "\n",
        "if True:\n",
        "    all_files = os.listdir()\n",
        "    for f in all_files:\n",
        "        if f.startswith('fraud_model_'):\n",
        "            os.remove(f)\n",
        "print('done!')"
      ],
      "execution_count": 35,
      "outputs": [
        {
          "output_type": "stream",
          "name": "stdout",
          "text": [
            "done!\n"
          ]
        }
      ]
    },
    {
      "cell_type": "code",
      "metadata": {
        "id": "SR0MkWKYMWl2",
        "colab": {
          "base_uri": "https://localhost:8080/"
        },
        "outputId": "cfad698a-9b85-4b27-ae43-5069f9f8581e"
      },
      "source": [
        "# confirm deletion\n",
        "\n",
        "os.listdir()"
      ],
      "execution_count": 36,
      "outputs": [
        {
          "output_type": "execute_result",
          "data": {
            "text/plain": [
              "['Fraud_sample_data.xlsx',\n",
              " '.ipynb_checkpoints',\n",
              " '01_intro_to_fraud_analysis.ipynb',\n",
              " 'fraud_analysis.ipynb',\n",
              " 'july_df.csv',\n",
              " 'data_dict.csv',\n",
              " 'june_df.csv',\n",
              " 'top_five_clusters.csv',\n",
              " 'mi_combined.csv',\n",
              " 'top_fraud_cluster.csv',\n",
              " 'combined_df.csv',\n",
              " 'processed_mi_combined.csv',\n",
              " '03_diagnostic_analytics.ipynb',\n",
              " 'fraud_analyst_assignment_part2.gdoc',\n",
              " '02_descriptive_analytics.ipynb',\n",
              " 'fraud_analyst_assignment_part1.gdoc',\n",
              " '04_predictive_analytics.ipynb',\n",
              " '05_prescriptive_analytics.ipynb']"
            ]
          },
          "metadata": {},
          "execution_count": 36
        }
      ]
    }
  ]
}