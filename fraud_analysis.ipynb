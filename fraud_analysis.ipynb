{
  "nbformat": 4,
  "nbformat_minor": 0,
  "metadata": {
    "colab": {
      "name": "fraud_analysis.ipynb",
      "provenance": [],
      "collapsed_sections": [],
      "authorship_tag": "ABX9TyMNx6AqPELn514B2YjSKh2w",
      "include_colab_link": true
    },
    "kernelspec": {
      "name": "python3",
      "display_name": "Python 3"
    },
    "language_info": {
      "name": "python"
    }
  },
  "cells": [
    {
      "cell_type": "markdown",
      "metadata": {
        "id": "view-in-github",
        "colab_type": "text"
      },
      "source": [
        "<a href=\"https://colab.research.google.com/github/Lawrence-Krukrubo/fraud_analyst_assignment/blob/main/fraud_analysis.ipynb\" target=\"_parent\"><img src=\"https://colab.research.google.com/assets/colab-badge.svg\" alt=\"Open In Colab\"/></a>"
      ]
    },
    {
      "cell_type": "code",
      "metadata": {
        "colab": {
          "base_uri": "https://localhost:8080/"
        },
        "id": "twEScLqe6RH3",
        "outputId": "85261429-667c-414b-cef0-4097a8e7317c"
      },
      "source": [
        "# First let's mount Google Drive so we can navigate the folders as needed\n",
        "from google.colab import drive\n",
        "drive.mount('/content/gdrive')"
      ],
      "execution_count": 1,
      "outputs": [
        {
          "output_type": "stream",
          "name": "stdout",
          "text": [
            "Drive already mounted at /content/gdrive; to attempt to forcibly remount, call drive.mount(\"/content/gdrive\", force_remount=True).\n"
          ]
        }
      ]
    },
    {
      "cell_type": "markdown",
      "metadata": {
        "id": "DZ4cai_48dZM"
      },
      "source": [
        "Let's import some much needed libraries..."
      ]
    },
    {
      "cell_type": "code",
      "metadata": {
        "colab": {
          "base_uri": "https://localhost:8080/"
        },
        "id": "Wa8gujGQ5yua",
        "outputId": "9b04f5e4-88c1-40f7-afbc-93cca5ede455"
      },
      "source": [
        "import os\n",
        "import pandas as pd\n",
        "import numpy as np\n",
        "import matplotlib.pyplot as plt\n",
        "import seaborn as sns\n",
        "import plotly.express as px\n",
        "import plotly.graph_objects as go\n",
        "import xlrd\n",
        "print('done!')"
      ],
      "execution_count": 2,
      "outputs": [
        {
          "output_type": "stream",
          "name": "stdout",
          "text": [
            "done!\n"
          ]
        }
      ]
    },
    {
      "cell_type": "markdown",
      "metadata": {
        "id": "4ewL2RK07xdy"
      },
      "source": [
        "Let's change our Directory to the Fraud directory containing our data"
      ]
    },
    {
      "cell_type": "code",
      "metadata": {
        "colab": {
          "base_uri": "https://localhost:8080/"
        },
        "id": "b1lzL6id5851",
        "outputId": "605ef6cd-9436-4b20-df41-45aa5486cad4"
      },
      "source": [
        "FRAUD_DIR = '/content/gdrive/MyDrive/Colab_Notebooks/fraud_analyst_assignment'\n",
        "os.chdir(FRAUD_DIR)\n",
        "print(f'Current Dir: {os.getcwd()}')"
      ],
      "execution_count": 3,
      "outputs": [
        {
          "output_type": "stream",
          "name": "stdout",
          "text": [
            "Current Dir: /content/gdrive/MyDrive/Colab_Notebooks/fraud_analyst_assignment\n"
          ]
        }
      ]
    },
    {
      "cell_type": "code",
      "metadata": {
        "colab": {
          "base_uri": "https://localhost:8080/"
        },
        "id": "M9wIfqEC8Nf2",
        "outputId": "1a8bdf63-cdb7-4fcf-eeb0-6eb5d2140948"
      },
      "source": [
        "# Let's see the contents of the CWD\n",
        "os.listdir()"
      ],
      "execution_count": 4,
      "outputs": [
        {
          "output_type": "execute_result",
          "data": {
            "text/plain": [
              "['Fraud_sample_data.xlsx', 'questionsAndPoints.gdoc', 'fraud_analysis.ipynb']"
            ]
          },
          "metadata": {},
          "execution_count": 4
        }
      ]
    },
    {
      "cell_type": "markdown",
      "metadata": {
        "id": "TuLh8cJY89yb"
      },
      "source": [
        "The dataset contains 3 sheets, the first at index 0 is the data dictionary, the remaining two at indexes 1 and 2 are June and July transactions respectively.<br>Let's read out the data dictionary to guide us"
      ]
    },
    {
      "cell_type": "code",
      "metadata": {
        "colab": {
          "base_uri": "https://localhost:8080/",
          "height": 452
        },
        "id": "hpHepISY9ZN6",
        "outputId": "09dde734-8609-45a2-d4f9-5de7f0690b00"
      },
      "source": [
        "pd.set_option('max_colwidth', None)  # So that we see full field descriptions\n",
        "data_dict = pd.read_excel('Fraud_sample_data.xlsx', sheet_name=0)\n",
        "data_dict"
      ],
      "execution_count": 73,
      "outputs": [
        {
          "output_type": "execute_result",
          "data": {
            "text/html": [
              "<div>\n",
              "<style scoped>\n",
              "    .dataframe tbody tr th:only-of-type {\n",
              "        vertical-align: middle;\n",
              "    }\n",
              "\n",
              "    .dataframe tbody tr th {\n",
              "        vertical-align: top;\n",
              "    }\n",
              "\n",
              "    .dataframe thead th {\n",
              "        text-align: right;\n",
              "    }\n",
              "</style>\n",
              "<table border=\"1\" class=\"dataframe\">\n",
              "  <thead>\n",
              "    <tr style=\"text-align: right;\">\n",
              "      <th></th>\n",
              "      <th>Field name</th>\n",
              "      <th>Field description</th>\n",
              "    </tr>\n",
              "  </thead>\n",
              "  <tbody>\n",
              "    <tr>\n",
              "      <th>0</th>\n",
              "      <td>merchant_id</td>\n",
              "      <td>Randomly generated identifier to represent a merchant</td>\n",
              "    </tr>\n",
              "    <tr>\n",
              "      <th>1</th>\n",
              "      <td>merchant_industry</td>\n",
              "      <td>Industry in which the merchant operates</td>\n",
              "    </tr>\n",
              "    <tr>\n",
              "      <th>2</th>\n",
              "      <td>merchant_category</td>\n",
              "      <td>Business category of the merchant</td>\n",
              "    </tr>\n",
              "    <tr>\n",
              "      <th>3</th>\n",
              "      <td>merchant_country</td>\n",
              "      <td>The country in which the merchant is based</td>\n",
              "    </tr>\n",
              "    <tr>\n",
              "      <th>4</th>\n",
              "      <td>currency</td>\n",
              "      <td>The local currency the transcation was processed in</td>\n",
              "    </tr>\n",
              "    <tr>\n",
              "      <th>5</th>\n",
              "      <td>transaction_week_start_date</td>\n",
              "      <td>Week in which the transaction occured</td>\n",
              "    </tr>\n",
              "    <tr>\n",
              "      <th>6</th>\n",
              "      <td>channel</td>\n",
              "      <td>The payment method for the transaction</td>\n",
              "    </tr>\n",
              "    <tr>\n",
              "      <th>7</th>\n",
              "      <td>transaction_count</td>\n",
              "      <td>The number of transactions for the day</td>\n",
              "    </tr>\n",
              "    <tr>\n",
              "      <th>8</th>\n",
              "      <td>transaction_volume_usd</td>\n",
              "      <td>The total value of the transactions converted to USD</td>\n",
              "    </tr>\n",
              "    <tr>\n",
              "      <th>9</th>\n",
              "      <td>fraud_count</td>\n",
              "      <td>The number of transactions which were reported as fraudulent for the day</td>\n",
              "    </tr>\n",
              "    <tr>\n",
              "      <th>10</th>\n",
              "      <td>fraud_volume_usd</td>\n",
              "      <td>The total value of the transactions which were reported as fraudulent converted to USD</td>\n",
              "    </tr>\n",
              "    <tr>\n",
              "      <th>11</th>\n",
              "      <td>otp_fraud</td>\n",
              "      <td>The number of fraudulent transactions which were authenticated using a one time pin</td>\n",
              "    </tr>\n",
              "    <tr>\n",
              "      <th>12</th>\n",
              "      <td>otp_all_transactions</td>\n",
              "      <td>The number of total transactions which were authenticated using a one time pin</td>\n",
              "    </tr>\n",
              "  </tbody>\n",
              "</table>\n",
              "</div>"
            ],
            "text/plain": [
              "                     Field name                                                                       Field description\n",
              "0                   merchant_id                                   Randomly generated identifier to represent a merchant\n",
              "1             merchant_industry                                                 Industry in which the merchant operates\n",
              "2             merchant_category                                                       Business category of the merchant\n",
              "3              merchant_country                                              The country in which the merchant is based\n",
              "4                      currency                                    The local currency the transcation was processed in \n",
              "5   transaction_week_start_date                                                   Week in which the transaction occured\n",
              "6                       channel                                                  The payment method for the transaction\n",
              "7             transaction_count                                                  The number of transactions for the day\n",
              "8        transaction_volume_usd                                    The total value of the transactions converted to USD\n",
              "9                   fraud_count                The number of transactions which were reported as fraudulent for the day\n",
              "10             fraud_volume_usd  The total value of the transactions which were reported as fraudulent converted to USD\n",
              "11                    otp_fraud     The number of fraudulent transactions which were authenticated using a one time pin\n",
              "12         otp_all_transactions          The number of total transactions which were authenticated using a one time pin"
            ]
          },
          "metadata": {},
          "execution_count": 73
        }
      ]
    },
    {
      "cell_type": "markdown",
      "metadata": {
        "id": "qlUY6V-j-xSE"
      },
      "source": [
        "Now, let's read in the respective data for the months of June and July..."
      ]
    },
    {
      "cell_type": "code",
      "metadata": {
        "colab": {
          "base_uri": "https://localhost:8080/"
        },
        "id": "LJP6cV6d582u",
        "outputId": "c0dd51d0-98c3-4aa5-8158-bf4e7c61c10c"
      },
      "source": [
        "# For June transactions\n",
        "june_df = pd.read_excel('Fraud_sample_data.xlsx', sheet_name=1)\n",
        "\n",
        "# For July transactions\n",
        "july_df = pd.read_excel('Fraud_sample_data.xlsx', sheet_name=2)\n",
        "print('done!')"
      ],
      "execution_count": 74,
      "outputs": [
        {
          "output_type": "stream",
          "name": "stdout",
          "text": [
            "done!\n"
          ]
        }
      ]
    },
    {
      "cell_type": "code",
      "metadata": {
        "colab": {
          "base_uri": "https://localhost:8080/"
        },
        "id": "lFrxsTiz_s_1",
        "outputId": "33632808-5da7-4cb1-fb7d-16cc5febf064"
      },
      "source": [
        "# Let's see the june and july data shapes\n",
        "print(f'June data shape: {june_df.shape}\\nJuly data shape: {july_df.shape}\\n')"
      ],
      "execution_count": 75,
      "outputs": [
        {
          "output_type": "stream",
          "name": "stdout",
          "text": [
            "June data shape: (8609, 13)\n",
            "July data shape: (8809, 13)\n",
            "\n"
          ]
        }
      ]
    },
    {
      "cell_type": "markdown",
      "metadata": {
        "id": "cG9TLuEGAV4n"
      },
      "source": [
        "We can see that July transactions have more observations than June, precisely 200 more.<br>But they both have the same dimensions of 13 features. Let's see the head and tail of June."
      ]
    },
    {
      "cell_type": "code",
      "metadata": {
        "colab": {
          "base_uri": "https://localhost:8080/",
          "height": 241
        },
        "id": "LwoDtCAKAU5y",
        "outputId": "d1853253-a10c-4690-ea9e-8ec21d08f7be"
      },
      "source": [
        "june_df.head()"
      ],
      "execution_count": 76,
      "outputs": [
        {
          "output_type": "execute_result",
          "data": {
            "text/html": [
              "<div>\n",
              "<style scoped>\n",
              "    .dataframe tbody tr th:only-of-type {\n",
              "        vertical-align: middle;\n",
              "    }\n",
              "\n",
              "    .dataframe tbody tr th {\n",
              "        vertical-align: top;\n",
              "    }\n",
              "\n",
              "    .dataframe thead th {\n",
              "        text-align: right;\n",
              "    }\n",
              "</style>\n",
              "<table border=\"1\" class=\"dataframe\">\n",
              "  <thead>\n",
              "    <tr style=\"text-align: right;\">\n",
              "      <th></th>\n",
              "      <th>merchant_id</th>\n",
              "      <th>merchant_industry</th>\n",
              "      <th>merchant_category</th>\n",
              "      <th>merchant_country</th>\n",
              "      <th>currency</th>\n",
              "      <th>transaction_week_start_date</th>\n",
              "      <th>channel</th>\n",
              "      <th>transaction_count</th>\n",
              "      <th>transaction_volume_usd</th>\n",
              "      <th>fraud_count</th>\n",
              "      <th>fraud_volume_usd</th>\n",
              "      <th>otp_fraud</th>\n",
              "      <th>otp_all_transactions</th>\n",
              "    </tr>\n",
              "  </thead>\n",
              "  <tbody>\n",
              "    <tr>\n",
              "      <th>0</th>\n",
              "      <td>1</td>\n",
              "      <td>GOODS-PHYSICAL</td>\n",
              "      <td>e-Commerce</td>\n",
              "      <td>Nigeria</td>\n",
              "      <td>NGN</td>\n",
              "      <td>2021-06-07</td>\n",
              "      <td>card</td>\n",
              "      <td>5</td>\n",
              "      <td>231.590551</td>\n",
              "      <td>0</td>\n",
              "      <td>NaN</td>\n",
              "      <td>0</td>\n",
              "      <td>5</td>\n",
              "    </tr>\n",
              "    <tr>\n",
              "      <th>1</th>\n",
              "      <td>5</td>\n",
              "      <td>SERVICES-LEGAL</td>\n",
              "      <td>Other</td>\n",
              "      <td>Nigeria</td>\n",
              "      <td>NGN</td>\n",
              "      <td>2021-06-07</td>\n",
              "      <td>card</td>\n",
              "      <td>2</td>\n",
              "      <td>210.203412</td>\n",
              "      <td>0</td>\n",
              "      <td>NaN</td>\n",
              "      <td>0</td>\n",
              "      <td>2</td>\n",
              "    </tr>\n",
              "    <tr>\n",
              "      <th>2</th>\n",
              "      <td>9</td>\n",
              "      <td>TRAVEL</td>\n",
              "      <td>Travel &amp; Hospitality</td>\n",
              "      <td>Nigeria</td>\n",
              "      <td>NGN</td>\n",
              "      <td>2021-06-07</td>\n",
              "      <td>card</td>\n",
              "      <td>4</td>\n",
              "      <td>223.097113</td>\n",
              "      <td>0</td>\n",
              "      <td>NaN</td>\n",
              "      <td>0</td>\n",
              "      <td>1</td>\n",
              "    </tr>\n",
              "    <tr>\n",
              "      <th>3</th>\n",
              "      <td>11</td>\n",
              "      <td>SERVICES-PROFESSIONAL</td>\n",
              "      <td>Other</td>\n",
              "      <td>Nigeria</td>\n",
              "      <td>NGN</td>\n",
              "      <td>2021-06-07</td>\n",
              "      <td>card</td>\n",
              "      <td>5</td>\n",
              "      <td>212.335958</td>\n",
              "      <td>0</td>\n",
              "      <td>NaN</td>\n",
              "      <td>0</td>\n",
              "      <td>5</td>\n",
              "    </tr>\n",
              "    <tr>\n",
              "      <th>4</th>\n",
              "      <td>15</td>\n",
              "      <td>SERVICES-DIGITAL</td>\n",
              "      <td>Digital Services</td>\n",
              "      <td>Nigeria</td>\n",
              "      <td>NGN</td>\n",
              "      <td>2021-06-07</td>\n",
              "      <td>card</td>\n",
              "      <td>8</td>\n",
              "      <td>550.131234</td>\n",
              "      <td>0</td>\n",
              "      <td>NaN</td>\n",
              "      <td>0</td>\n",
              "      <td>8</td>\n",
              "    </tr>\n",
              "  </tbody>\n",
              "</table>\n",
              "</div>"
            ],
            "text/plain": [
              "   merchant_id      merchant_industry  ... otp_fraud otp_all_transactions\n",
              "0            1         GOODS-PHYSICAL  ...         0                    5\n",
              "1            5         SERVICES-LEGAL  ...         0                    2\n",
              "2            9                 TRAVEL  ...         0                    1\n",
              "3           11  SERVICES-PROFESSIONAL  ...         0                    5\n",
              "4           15       SERVICES-DIGITAL  ...         0                    8\n",
              "\n",
              "[5 rows x 13 columns]"
            ]
          },
          "metadata": {},
          "execution_count": 76
        }
      ]
    },
    {
      "cell_type": "code",
      "metadata": {
        "colab": {
          "base_uri": "https://localhost:8080/",
          "height": 224
        },
        "id": "zQjide-lAsy0",
        "outputId": "81e5ce80-83d6-48d5-a7fa-48fa6486db7b"
      },
      "source": [
        "june_df.tail()"
      ],
      "execution_count": 77,
      "outputs": [
        {
          "output_type": "execute_result",
          "data": {
            "text/html": [
              "<div>\n",
              "<style scoped>\n",
              "    .dataframe tbody tr th:only-of-type {\n",
              "        vertical-align: middle;\n",
              "    }\n",
              "\n",
              "    .dataframe tbody tr th {\n",
              "        vertical-align: top;\n",
              "    }\n",
              "\n",
              "    .dataframe thead th {\n",
              "        text-align: right;\n",
              "    }\n",
              "</style>\n",
              "<table border=\"1\" class=\"dataframe\">\n",
              "  <thead>\n",
              "    <tr style=\"text-align: right;\">\n",
              "      <th></th>\n",
              "      <th>merchant_id</th>\n",
              "      <th>merchant_industry</th>\n",
              "      <th>merchant_category</th>\n",
              "      <th>merchant_country</th>\n",
              "      <th>currency</th>\n",
              "      <th>transaction_week_start_date</th>\n",
              "      <th>channel</th>\n",
              "      <th>transaction_count</th>\n",
              "      <th>transaction_volume_usd</th>\n",
              "      <th>fraud_count</th>\n",
              "      <th>fraud_volume_usd</th>\n",
              "      <th>otp_fraud</th>\n",
              "      <th>otp_all_transactions</th>\n",
              "    </tr>\n",
              "  </thead>\n",
              "  <tbody>\n",
              "    <tr>\n",
              "      <th>8604</th>\n",
              "      <td>8605</td>\n",
              "      <td>INTERNET</td>\n",
              "      <td>Utilities</td>\n",
              "      <td>Nigeria</td>\n",
              "      <td>NGN</td>\n",
              "      <td>2021-06-28</td>\n",
              "      <td>card</td>\n",
              "      <td>1</td>\n",
              "      <td>2.624672</td>\n",
              "      <td>0</td>\n",
              "      <td>NaN</td>\n",
              "      <td>0</td>\n",
              "      <td>1</td>\n",
              "    </tr>\n",
              "    <tr>\n",
              "      <th>8605</th>\n",
              "      <td>8606</td>\n",
              "      <td>GOODS-DIGITAL</td>\n",
              "      <td>Digital Services</td>\n",
              "      <td>Nigeria</td>\n",
              "      <td>NGN</td>\n",
              "      <td>2021-06-28</td>\n",
              "      <td>card</td>\n",
              "      <td>1</td>\n",
              "      <td>0.262467</td>\n",
              "      <td>0</td>\n",
              "      <td>NaN</td>\n",
              "      <td>0</td>\n",
              "      <td>1</td>\n",
              "    </tr>\n",
              "    <tr>\n",
              "      <th>8606</th>\n",
              "      <td>8607</td>\n",
              "      <td>SERVICES-DIGITAL</td>\n",
              "      <td>Digital Services</td>\n",
              "      <td>Nigeria</td>\n",
              "      <td>NGN</td>\n",
              "      <td>2021-06-28</td>\n",
              "      <td>card</td>\n",
              "      <td>3</td>\n",
              "      <td>15.748031</td>\n",
              "      <td>0</td>\n",
              "      <td>NaN</td>\n",
              "      <td>0</td>\n",
              "      <td>3</td>\n",
              "    </tr>\n",
              "    <tr>\n",
              "      <th>8607</th>\n",
              "      <td>8608</td>\n",
              "      <td>EVENTS</td>\n",
              "      <td>Travel &amp; Hospitality</td>\n",
              "      <td>Nigeria</td>\n",
              "      <td>NGN</td>\n",
              "      <td>2021-06-28</td>\n",
              "      <td>card</td>\n",
              "      <td>2</td>\n",
              "      <td>0.656168</td>\n",
              "      <td>0</td>\n",
              "      <td>NaN</td>\n",
              "      <td>0</td>\n",
              "      <td>2</td>\n",
              "    </tr>\n",
              "    <tr>\n",
              "      <th>8608</th>\n",
              "      <td>8609</td>\n",
              "      <td>INTERNET</td>\n",
              "      <td>Utilities</td>\n",
              "      <td>Nigeria</td>\n",
              "      <td>NGN</td>\n",
              "      <td>2021-06-28</td>\n",
              "      <td>card</td>\n",
              "      <td>1</td>\n",
              "      <td>0.262467</td>\n",
              "      <td>0</td>\n",
              "      <td>NaN</td>\n",
              "      <td>0</td>\n",
              "      <td>1</td>\n",
              "    </tr>\n",
              "  </tbody>\n",
              "</table>\n",
              "</div>"
            ],
            "text/plain": [
              "      merchant_id merchant_industry  ... otp_fraud otp_all_transactions\n",
              "8604         8605          INTERNET  ...         0                    1\n",
              "8605         8606     GOODS-DIGITAL  ...         0                    1\n",
              "8606         8607  SERVICES-DIGITAL  ...         0                    3\n",
              "8607         8608            EVENTS  ...         0                    2\n",
              "8608         8609          INTERNET  ...         0                    1\n",
              "\n",
              "[5 rows x 13 columns]"
            ]
          },
          "metadata": {},
          "execution_count": 77
        }
      ]
    },
    {
      "cell_type": "markdown",
      "metadata": {
        "id": "MFjFSdr_BMhT"
      },
      "source": [
        "Let's see the head and tail of July"
      ]
    },
    {
      "cell_type": "code",
      "metadata": {
        "colab": {
          "base_uri": "https://localhost:8080/",
          "height": 241
        },
        "id": "KuTDOR8RBPri",
        "outputId": "2dd1a464-e923-4d9b-ec02-95b6ba4613c7"
      },
      "source": [
        "july_df.head()"
      ],
      "execution_count": 78,
      "outputs": [
        {
          "output_type": "execute_result",
          "data": {
            "text/html": [
              "<div>\n",
              "<style scoped>\n",
              "    .dataframe tbody tr th:only-of-type {\n",
              "        vertical-align: middle;\n",
              "    }\n",
              "\n",
              "    .dataframe tbody tr th {\n",
              "        vertical-align: top;\n",
              "    }\n",
              "\n",
              "    .dataframe thead th {\n",
              "        text-align: right;\n",
              "    }\n",
              "</style>\n",
              "<table border=\"1\" class=\"dataframe\">\n",
              "  <thead>\n",
              "    <tr style=\"text-align: right;\">\n",
              "      <th></th>\n",
              "      <th>merchant_id</th>\n",
              "      <th>merchant_industry</th>\n",
              "      <th>merchant_category</th>\n",
              "      <th>merchant_country</th>\n",
              "      <th>currency</th>\n",
              "      <th>transaction_week_start_date</th>\n",
              "      <th>channel</th>\n",
              "      <th>transaction_count</th>\n",
              "      <th>transaction_volume_usd</th>\n",
              "      <th>fraud_count</th>\n",
              "      <th>fraud_volume_usd</th>\n",
              "      <th>otp_fraud</th>\n",
              "      <th>otp_all_transactions</th>\n",
              "    </tr>\n",
              "  </thead>\n",
              "  <tbody>\n",
              "    <tr>\n",
              "      <th>0</th>\n",
              "      <td>1</td>\n",
              "      <td>GOODS-PHYSICAL</td>\n",
              "      <td>e-Commerce</td>\n",
              "      <td>Nigeria</td>\n",
              "      <td>NGN</td>\n",
              "      <td>2021-07-05</td>\n",
              "      <td>card</td>\n",
              "      <td>3</td>\n",
              "      <td>54.173228</td>\n",
              "      <td>0</td>\n",
              "      <td>NaN</td>\n",
              "      <td>0</td>\n",
              "      <td>3</td>\n",
              "    </tr>\n",
              "    <tr>\n",
              "      <th>1</th>\n",
              "      <td>5</td>\n",
              "      <td>SERVICES-LEGAL</td>\n",
              "      <td>Other</td>\n",
              "      <td>Nigeria</td>\n",
              "      <td>NGN</td>\n",
              "      <td>2021-07-05</td>\n",
              "      <td>card</td>\n",
              "      <td>4</td>\n",
              "      <td>486.712598</td>\n",
              "      <td>0</td>\n",
              "      <td>NaN</td>\n",
              "      <td>0</td>\n",
              "      <td>4</td>\n",
              "    </tr>\n",
              "    <tr>\n",
              "      <th>2</th>\n",
              "      <td>8</td>\n",
              "      <td>TRAVEL</td>\n",
              "      <td>Travel &amp; Hospitality</td>\n",
              "      <td>Nigeria</td>\n",
              "      <td>NGN</td>\n",
              "      <td>2021-07-05</td>\n",
              "      <td>card</td>\n",
              "      <td>3</td>\n",
              "      <td>118.110236</td>\n",
              "      <td>0</td>\n",
              "      <td>NaN</td>\n",
              "      <td>0</td>\n",
              "      <td>0</td>\n",
              "    </tr>\n",
              "    <tr>\n",
              "      <th>3</th>\n",
              "      <td>9</td>\n",
              "      <td>SERVICES-PROFESSIONAL</td>\n",
              "      <td>Other</td>\n",
              "      <td>Nigeria</td>\n",
              "      <td>NGN</td>\n",
              "      <td>2021-07-05</td>\n",
              "      <td>card</td>\n",
              "      <td>4</td>\n",
              "      <td>151.968504</td>\n",
              "      <td>0</td>\n",
              "      <td>NaN</td>\n",
              "      <td>0</td>\n",
              "      <td>3</td>\n",
              "    </tr>\n",
              "    <tr>\n",
              "      <th>4</th>\n",
              "      <td>12</td>\n",
              "      <td>SERVICES-DIGITAL</td>\n",
              "      <td>Financial Services</td>\n",
              "      <td>Nigeria</td>\n",
              "      <td>NGN</td>\n",
              "      <td>2021-07-05</td>\n",
              "      <td>card</td>\n",
              "      <td>15</td>\n",
              "      <td>659.055118</td>\n",
              "      <td>0</td>\n",
              "      <td>NaN</td>\n",
              "      <td>0</td>\n",
              "      <td>12</td>\n",
              "    </tr>\n",
              "  </tbody>\n",
              "</table>\n",
              "</div>"
            ],
            "text/plain": [
              "   merchant_id      merchant_industry  ... otp_fraud otp_all_transactions\n",
              "0            1         GOODS-PHYSICAL  ...         0                    3\n",
              "1            5         SERVICES-LEGAL  ...         0                    4\n",
              "2            8                 TRAVEL  ...         0                    0\n",
              "3            9  SERVICES-PROFESSIONAL  ...         0                    3\n",
              "4           12       SERVICES-DIGITAL  ...         0                   12\n",
              "\n",
              "[5 rows x 13 columns]"
            ]
          },
          "metadata": {},
          "execution_count": 78
        }
      ]
    },
    {
      "cell_type": "code",
      "metadata": {
        "colab": {
          "base_uri": "https://localhost:8080/",
          "height": 224
        },
        "id": "AUTfKlYMBSKH",
        "outputId": "063eeb43-8486-4199-a9bc-77df56f6abae"
      },
      "source": [
        "july_df.tail()"
      ],
      "execution_count": 79,
      "outputs": [
        {
          "output_type": "execute_result",
          "data": {
            "text/html": [
              "<div>\n",
              "<style scoped>\n",
              "    .dataframe tbody tr th:only-of-type {\n",
              "        vertical-align: middle;\n",
              "    }\n",
              "\n",
              "    .dataframe tbody tr th {\n",
              "        vertical-align: top;\n",
              "    }\n",
              "\n",
              "    .dataframe thead th {\n",
              "        text-align: right;\n",
              "    }\n",
              "</style>\n",
              "<table border=\"1\" class=\"dataframe\">\n",
              "  <thead>\n",
              "    <tr style=\"text-align: right;\">\n",
              "      <th></th>\n",
              "      <th>merchant_id</th>\n",
              "      <th>merchant_industry</th>\n",
              "      <th>merchant_category</th>\n",
              "      <th>merchant_country</th>\n",
              "      <th>currency</th>\n",
              "      <th>transaction_week_start_date</th>\n",
              "      <th>channel</th>\n",
              "      <th>transaction_count</th>\n",
              "      <th>transaction_volume_usd</th>\n",
              "      <th>fraud_count</th>\n",
              "      <th>fraud_volume_usd</th>\n",
              "      <th>otp_fraud</th>\n",
              "      <th>otp_all_transactions</th>\n",
              "    </tr>\n",
              "  </thead>\n",
              "  <tbody>\n",
              "    <tr>\n",
              "      <th>8804</th>\n",
              "      <td>8805</td>\n",
              "      <td>SERVICES-DIGITAL</td>\n",
              "      <td>Digital Services</td>\n",
              "      <td>Nigeria</td>\n",
              "      <td>NGN</td>\n",
              "      <td>2021-07-26</td>\n",
              "      <td>card</td>\n",
              "      <td>1</td>\n",
              "      <td>0.524934</td>\n",
              "      <td>0</td>\n",
              "      <td>NaN</td>\n",
              "      <td>0</td>\n",
              "      <td>1</td>\n",
              "    </tr>\n",
              "    <tr>\n",
              "      <th>8805</th>\n",
              "      <td>8806</td>\n",
              "      <td>SERVICES-DIGITAL</td>\n",
              "      <td>Digital Services</td>\n",
              "      <td>Nigeria</td>\n",
              "      <td>NGN</td>\n",
              "      <td>2021-07-26</td>\n",
              "      <td>card</td>\n",
              "      <td>1</td>\n",
              "      <td>0.259843</td>\n",
              "      <td>0</td>\n",
              "      <td>NaN</td>\n",
              "      <td>0</td>\n",
              "      <td>1</td>\n",
              "    </tr>\n",
              "    <tr>\n",
              "      <th>8806</th>\n",
              "      <td>8807</td>\n",
              "      <td>SERVICES-DIGITAL</td>\n",
              "      <td>Digital Services</td>\n",
              "      <td>Nigeria</td>\n",
              "      <td>NGN</td>\n",
              "      <td>2021-07-26</td>\n",
              "      <td>card</td>\n",
              "      <td>5</td>\n",
              "      <td>2.624672</td>\n",
              "      <td>0</td>\n",
              "      <td>NaN</td>\n",
              "      <td>0</td>\n",
              "      <td>5</td>\n",
              "    </tr>\n",
              "    <tr>\n",
              "      <th>8807</th>\n",
              "      <td>8808</td>\n",
              "      <td>RESTAURANTS</td>\n",
              "      <td>Travel &amp; Hospitality</td>\n",
              "      <td>Nigeria</td>\n",
              "      <td>NGN</td>\n",
              "      <td>2021-07-26</td>\n",
              "      <td>card</td>\n",
              "      <td>2</td>\n",
              "      <td>1.049869</td>\n",
              "      <td>0</td>\n",
              "      <td>NaN</td>\n",
              "      <td>0</td>\n",
              "      <td>1</td>\n",
              "    </tr>\n",
              "    <tr>\n",
              "      <th>8808</th>\n",
              "      <td>8809</td>\n",
              "      <td>GOODS-PHYSICAL</td>\n",
              "      <td>e-Commerce</td>\n",
              "      <td>Nigeria</td>\n",
              "      <td>NGN</td>\n",
              "      <td>2021-07-26</td>\n",
              "      <td>card</td>\n",
              "      <td>1</td>\n",
              "      <td>1.312336</td>\n",
              "      <td>0</td>\n",
              "      <td>NaN</td>\n",
              "      <td>0</td>\n",
              "      <td>1</td>\n",
              "    </tr>\n",
              "  </tbody>\n",
              "</table>\n",
              "</div>"
            ],
            "text/plain": [
              "      merchant_id merchant_industry  ... otp_fraud otp_all_transactions\n",
              "8804         8805  SERVICES-DIGITAL  ...         0                    1\n",
              "8805         8806  SERVICES-DIGITAL  ...         0                    1\n",
              "8806         8807  SERVICES-DIGITAL  ...         0                    5\n",
              "8807         8808       RESTAURANTS  ...         0                    1\n",
              "8808         8809    GOODS-PHYSICAL  ...         0                    1\n",
              "\n",
              "[5 rows x 13 columns]"
            ]
          },
          "metadata": {},
          "execution_count": 79
        }
      ]
    },
    {
      "cell_type": "markdown",
      "metadata": {
        "id": "KZT5N3P-ByJ-"
      },
      "source": [
        "# Descriptive EDA (DA1):"
      ]
    },
    {
      "cell_type": "markdown",
      "metadata": {
        "id": "fTUib0uaaMR5"
      },
      "source": [
        "**Descriptive analytics (DA1):** <br>is a preliminary stage of data processing that creates a summary of historical data to yield useful information and possibly prepare the data for further analysis. It is used largely to answer the question **<‘What happened?’>**. Querying, reporting, data aggregation, data mining and data visualization may be applied to yield more insight.\n",
        "\n",
        "**Geo-Location-based DA1:**<br>\n",
        "* What is the distribution of transactions across the 3 countries?\n",
        "* What is the Fraud/Transactions Ratio per country?\n",
        "\n",
        "**Fraud-related DA1:**<br>\n",
        "* What is the Max and Mean fraud value for June and July?\n",
        "* What is the total fraud recorded for June and July?\n",
        "* Drilling into OTP-Fraud, what’s the Max and Mean values monthly?\n",
        "* What is the Max and Mean dollar cost of fraud for June and July?\n",
        "* What is the ratio of fraudulent/non-fraudulent transactions monthly\n",
        "\n",
        "Answering these questions, give us a top-level vision of the state of the transactions and fraudulent activities and their impacts across the 3 countries the business operates in.\n"
      ]
    },
    {
      "cell_type": "markdown",
      "metadata": {
        "id": "1sjS8Yov2HQ3"
      },
      "source": [
        "### 1. Confirming the data-types"
      ]
    },
    {
      "cell_type": "code",
      "metadata": {
        "colab": {
          "base_uri": "https://localhost:8080/"
        },
        "id": "qb2xnZNU1fJc",
        "outputId": "1b8b597a-95ea-4f7d-b51f-7a1d959e1701"
      },
      "source": [
        "june_df.info()"
      ],
      "execution_count": 80,
      "outputs": [
        {
          "output_type": "stream",
          "name": "stdout",
          "text": [
            "<class 'pandas.core.frame.DataFrame'>\n",
            "RangeIndex: 8609 entries, 0 to 8608\n",
            "Data columns (total 13 columns):\n",
            " #   Column                       Non-Null Count  Dtype         \n",
            "---  ------                       --------------  -----         \n",
            " 0   merchant_id                  8609 non-null   int64         \n",
            " 1   merchant_industry            8609 non-null   object        \n",
            " 2   merchant_category            8609 non-null   object        \n",
            " 3   merchant_country             8609 non-null   object        \n",
            " 4   currency                     8609 non-null   object        \n",
            " 5   transaction_week_start_date  8609 non-null   datetime64[ns]\n",
            " 6   channel                      8609 non-null   object        \n",
            " 7   transaction_count            8609 non-null   int64         \n",
            " 8   transaction_volume_usd       8609 non-null   float64       \n",
            " 9   fraud_count                  8609 non-null   int64         \n",
            " 10  fraud_volume_usd             61 non-null     float64       \n",
            " 11  otp_fraud                    8609 non-null   int64         \n",
            " 12  otp_all_transactions         8609 non-null   int64         \n",
            "dtypes: datetime64[ns](1), float64(2), int64(5), object(5)\n",
            "memory usage: 874.5+ KB\n"
          ]
        }
      ]
    },
    {
      "cell_type": "code",
      "metadata": {
        "colab": {
          "base_uri": "https://localhost:8080/"
        },
        "id": "NhCzH1ms19su",
        "outputId": "48113aac-892b-4865-a7f6-01e20c88d40e"
      },
      "source": [
        "july_df.info()"
      ],
      "execution_count": 81,
      "outputs": [
        {
          "output_type": "stream",
          "name": "stdout",
          "text": [
            "<class 'pandas.core.frame.DataFrame'>\n",
            "RangeIndex: 8809 entries, 0 to 8808\n",
            "Data columns (total 13 columns):\n",
            " #   Column                       Non-Null Count  Dtype         \n",
            "---  ------                       --------------  -----         \n",
            " 0   merchant_id                  8809 non-null   int64         \n",
            " 1   merchant_industry            8809 non-null   object        \n",
            " 2   merchant_category            8809 non-null   object        \n",
            " 3   merchant_country             8809 non-null   object        \n",
            " 4   currency                     8809 non-null   object        \n",
            " 5   transaction_week_start_date  8809 non-null   datetime64[ns]\n",
            " 6   channel                      8809 non-null   object        \n",
            " 7   transaction_count            8809 non-null   int64         \n",
            " 8   transaction_volume_usd       8809 non-null   float64       \n",
            " 9   fraud_count                  8809 non-null   int64         \n",
            " 10  fraud_volume_usd             51 non-null     float64       \n",
            " 11  otp_fraud                    8809 non-null   int64         \n",
            " 12  otp_all_transactions         8809 non-null   int64         \n",
            "dtypes: datetime64[ns](1), float64(2), int64(5), object(5)\n",
            "memory usage: 894.8+ KB\n"
          ]
        }
      ]
    },
    {
      "cell_type": "markdown",
      "metadata": {
        "id": "F8IVvjpz1xW-"
      },
      "source": [
        "So, we can see the data-types for the months of June and July. They conform to the expected data-types. All columns that should be numeric are and all that should be categorical or object are too."
      ]
    },
    {
      "cell_type": "markdown",
      "metadata": {
        "id": "1qeoT-uByoa9"
      },
      "source": [
        "### 2. Checking the Descriptive Statistics of the data:"
      ]
    },
    {
      "cell_type": "code",
      "metadata": {
        "colab": {
          "base_uri": "https://localhost:8080/",
          "height": 266
        },
        "id": "UAlumWTS1Q_H",
        "outputId": "01044164-b6a3-4614-c3ec-1c0b1e6e8bc1"
      },
      "source": [
        "# For June numeric features\n",
        "\n",
        "june_df.describe().T"
      ],
      "execution_count": 82,
      "outputs": [
        {
          "output_type": "execute_result",
          "data": {
            "text/html": [
              "<div>\n",
              "<style scoped>\n",
              "    .dataframe tbody tr th:only-of-type {\n",
              "        vertical-align: middle;\n",
              "    }\n",
              "\n",
              "    .dataframe tbody tr th {\n",
              "        vertical-align: top;\n",
              "    }\n",
              "\n",
              "    .dataframe thead th {\n",
              "        text-align: right;\n",
              "    }\n",
              "</style>\n",
              "<table border=\"1\" class=\"dataframe\">\n",
              "  <thead>\n",
              "    <tr style=\"text-align: right;\">\n",
              "      <th></th>\n",
              "      <th>count</th>\n",
              "      <th>mean</th>\n",
              "      <th>std</th>\n",
              "      <th>min</th>\n",
              "      <th>25%</th>\n",
              "      <th>50%</th>\n",
              "      <th>75%</th>\n",
              "      <th>max</th>\n",
              "    </tr>\n",
              "  </thead>\n",
              "  <tbody>\n",
              "    <tr>\n",
              "      <th>merchant_id</th>\n",
              "      <td>8609.0</td>\n",
              "      <td>4304.018469</td>\n",
              "      <td>2485.466539</td>\n",
              "      <td>1.000000</td>\n",
              "      <td>2153.000000</td>\n",
              "      <td>4304.000000</td>\n",
              "      <td>6456.000000</td>\n",
              "      <td>8.609000e+03</td>\n",
              "    </tr>\n",
              "    <tr>\n",
              "      <th>transaction_count</th>\n",
              "      <td>8609.0</td>\n",
              "      <td>485.230573</td>\n",
              "      <td>8253.372691</td>\n",
              "      <td>1.000000</td>\n",
              "      <td>1.000000</td>\n",
              "      <td>3.000000</td>\n",
              "      <td>11.000000</td>\n",
              "      <td>2.758660e+05</td>\n",
              "    </tr>\n",
              "    <tr>\n",
              "      <th>transaction_volume_usd</th>\n",
              "      <td>8609.0</td>\n",
              "      <td>7000.276672</td>\n",
              "      <td>73800.550994</td>\n",
              "      <td>0.000026</td>\n",
              "      <td>9.186352</td>\n",
              "      <td>43.307087</td>\n",
              "      <td>236.220472</td>\n",
              "      <td>2.396408e+06</td>\n",
              "    </tr>\n",
              "    <tr>\n",
              "      <th>fraud_count</th>\n",
              "      <td>8609.0</td>\n",
              "      <td>0.108375</td>\n",
              "      <td>3.175327</td>\n",
              "      <td>0.000000</td>\n",
              "      <td>0.000000</td>\n",
              "      <td>0.000000</td>\n",
              "      <td>0.000000</td>\n",
              "      <td>1.700000e+02</td>\n",
              "    </tr>\n",
              "    <tr>\n",
              "      <th>fraud_volume_usd</th>\n",
              "      <td>61.0</td>\n",
              "      <td>1858.473460</td>\n",
              "      <td>4641.861843</td>\n",
              "      <td>0.524934</td>\n",
              "      <td>26.246719</td>\n",
              "      <td>91.338583</td>\n",
              "      <td>539.212598</td>\n",
              "      <td>2.017848e+04</td>\n",
              "    </tr>\n",
              "    <tr>\n",
              "      <th>otp_fraud</th>\n",
              "      <td>8609.0</td>\n",
              "      <td>0.009293</td>\n",
              "      <td>0.265166</td>\n",
              "      <td>0.000000</td>\n",
              "      <td>0.000000</td>\n",
              "      <td>0.000000</td>\n",
              "      <td>0.000000</td>\n",
              "      <td>1.700000e+01</td>\n",
              "    </tr>\n",
              "    <tr>\n",
              "      <th>otp_all_transactions</th>\n",
              "      <td>8609.0</td>\n",
              "      <td>81.615402</td>\n",
              "      <td>589.620590</td>\n",
              "      <td>0.000000</td>\n",
              "      <td>1.000000</td>\n",
              "      <td>2.000000</td>\n",
              "      <td>9.000000</td>\n",
              "      <td>1.222300e+04</td>\n",
              "    </tr>\n",
              "  </tbody>\n",
              "</table>\n",
              "</div>"
            ],
            "text/plain": [
              "                         count         mean  ...          75%           max\n",
              "merchant_id             8609.0  4304.018469  ...  6456.000000  8.609000e+03\n",
              "transaction_count       8609.0   485.230573  ...    11.000000  2.758660e+05\n",
              "transaction_volume_usd  8609.0  7000.276672  ...   236.220472  2.396408e+06\n",
              "fraud_count             8609.0     0.108375  ...     0.000000  1.700000e+02\n",
              "fraud_volume_usd          61.0  1858.473460  ...   539.212598  2.017848e+04\n",
              "otp_fraud               8609.0     0.009293  ...     0.000000  1.700000e+01\n",
              "otp_all_transactions    8609.0    81.615402  ...     9.000000  1.222300e+04\n",
              "\n",
              "[7 rows x 8 columns]"
            ]
          },
          "metadata": {},
          "execution_count": 82
        }
      ]
    },
    {
      "cell_type": "code",
      "metadata": {
        "colab": {
          "base_uri": "https://localhost:8080/",
          "height": 266
        },
        "id": "r9hvVjap1c2g",
        "outputId": "8cac70a5-2b49-4461-fb70-69468ea461b3"
      },
      "source": [
        "# For July numeric features\n",
        "\n",
        "july_df.describe().T"
      ],
      "execution_count": 83,
      "outputs": [
        {
          "output_type": "execute_result",
          "data": {
            "text/html": [
              "<div>\n",
              "<style scoped>\n",
              "    .dataframe tbody tr th:only-of-type {\n",
              "        vertical-align: middle;\n",
              "    }\n",
              "\n",
              "    .dataframe tbody tr th {\n",
              "        vertical-align: top;\n",
              "    }\n",
              "\n",
              "    .dataframe thead th {\n",
              "        text-align: right;\n",
              "    }\n",
              "</style>\n",
              "<table border=\"1\" class=\"dataframe\">\n",
              "  <thead>\n",
              "    <tr style=\"text-align: right;\">\n",
              "      <th></th>\n",
              "      <th>count</th>\n",
              "      <th>mean</th>\n",
              "      <th>std</th>\n",
              "      <th>min</th>\n",
              "      <th>25%</th>\n",
              "      <th>50%</th>\n",
              "      <th>75%</th>\n",
              "      <th>max</th>\n",
              "    </tr>\n",
              "  </thead>\n",
              "  <tbody>\n",
              "    <tr>\n",
              "      <th>merchant_id</th>\n",
              "      <td>8809.0</td>\n",
              "      <td>4404.009536</td>\n",
              "      <td>2543.190394</td>\n",
              "      <td>1.000000</td>\n",
              "      <td>2201.000000</td>\n",
              "      <td>4405.000000</td>\n",
              "      <td>6607.000000</td>\n",
              "      <td>8.809000e+03</td>\n",
              "    </tr>\n",
              "    <tr>\n",
              "      <th>transaction_count</th>\n",
              "      <td>8809.0</td>\n",
              "      <td>452.862300</td>\n",
              "      <td>7493.961064</td>\n",
              "      <td>1.000000</td>\n",
              "      <td>1.000000</td>\n",
              "      <td>3.000000</td>\n",
              "      <td>12.000000</td>\n",
              "      <td>2.321840e+05</td>\n",
              "    </tr>\n",
              "    <tr>\n",
              "      <th>transaction_volume_usd</th>\n",
              "      <td>8809.0</td>\n",
              "      <td>6456.769974</td>\n",
              "      <td>65039.969627</td>\n",
              "      <td>0.000026</td>\n",
              "      <td>9.186352</td>\n",
              "      <td>43.307087</td>\n",
              "      <td>237.270341</td>\n",
              "      <td>2.444412e+06</td>\n",
              "    </tr>\n",
              "    <tr>\n",
              "      <th>fraud_count</th>\n",
              "      <td>8809.0</td>\n",
              "      <td>0.044386</td>\n",
              "      <td>1.144114</td>\n",
              "      <td>0.000000</td>\n",
              "      <td>0.000000</td>\n",
              "      <td>0.000000</td>\n",
              "      <td>0.000000</td>\n",
              "      <td>6.200000e+01</td>\n",
              "    </tr>\n",
              "    <tr>\n",
              "      <th>fraud_volume_usd</th>\n",
              "      <td>51.0</td>\n",
              "      <td>1261.399492</td>\n",
              "      <td>2420.278420</td>\n",
              "      <td>0.262467</td>\n",
              "      <td>21.900997</td>\n",
              "      <td>132.545932</td>\n",
              "      <td>1040.682415</td>\n",
              "      <td>9.956378e+03</td>\n",
              "    </tr>\n",
              "    <tr>\n",
              "      <th>otp_fraud</th>\n",
              "      <td>8809.0</td>\n",
              "      <td>0.006925</td>\n",
              "      <td>0.187173</td>\n",
              "      <td>0.000000</td>\n",
              "      <td>0.000000</td>\n",
              "      <td>0.000000</td>\n",
              "      <td>0.000000</td>\n",
              "      <td>1.000000e+01</td>\n",
              "    </tr>\n",
              "    <tr>\n",
              "      <th>otp_all_transactions</th>\n",
              "      <td>8809.0</td>\n",
              "      <td>156.574753</td>\n",
              "      <td>3732.010232</td>\n",
              "      <td>0.000000</td>\n",
              "      <td>1.000000</td>\n",
              "      <td>2.000000</td>\n",
              "      <td>9.000000</td>\n",
              "      <td>2.015910e+05</td>\n",
              "    </tr>\n",
              "  </tbody>\n",
              "</table>\n",
              "</div>"
            ],
            "text/plain": [
              "                         count         mean  ...          75%           max\n",
              "merchant_id             8809.0  4404.009536  ...  6607.000000  8.809000e+03\n",
              "transaction_count       8809.0   452.862300  ...    12.000000  2.321840e+05\n",
              "transaction_volume_usd  8809.0  6456.769974  ...   237.270341  2.444412e+06\n",
              "fraud_count             8809.0     0.044386  ...     0.000000  6.200000e+01\n",
              "fraud_volume_usd          51.0  1261.399492  ...  1040.682415  9.956378e+03\n",
              "otp_fraud               8809.0     0.006925  ...     0.000000  1.000000e+01\n",
              "otp_all_transactions    8809.0   156.574753  ...     9.000000  2.015910e+05\n",
              "\n",
              "[7 rows x 8 columns]"
            ]
          },
          "metadata": {},
          "execution_count": 83
        }
      ]
    },
    {
      "cell_type": "markdown",
      "metadata": {
        "id": "3LKdHrHg4EOA"
      },
      "source": [
        "We can see that there's complete count for all numeric columns except `fraud_volume_usd` which has a count of 61 in June and 51 in July. This depicts missing values present. We can also observe the following...\n",
        "1. Max `fraud_count` per day in June is 170, while in July is 62\n",
        "2. Mean `fraud_volume_usd` in June is 1858, while in July is 1261. Note that these figures are large because we have only 61 and 51 data represented now, since the rest are NaN values in this column.\n",
        "3. Max `fraud_volume_usd` in any given day in June is 20178, while July is 9956\n",
        "4. For `otp_fraud`, the Max a day in June is 17, while July Max is 10\n",
        "5. While June has Max `otp_all_transactions` a day as 12223 and July as 201591"
      ]
    },
    {
      "cell_type": "markdown",
      "metadata": {
        "id": "0KV4n9E3SEV2"
      },
      "source": [
        "Let's see the count of unique merchants that did transactions for June and July"
      ]
    },
    {
      "cell_type": "code",
      "metadata": {
        "colab": {
          "base_uri": "https://localhost:8080/"
        },
        "id": "em0P9t7PSNIz",
        "outputId": "f51806aa-aa25-47ef-b7d5-04cfc66b7a8d"
      },
      "source": [
        "june_merchant_count = june_df.merchant_id.nunique()\n",
        "july_merchant_count = july_df.merchant_id.nunique()\n",
        "\n",
        "print(f'Total Merchants for June: {june_merchant_count}\\nTotal Merchants for July: {july_merchant_count}')"
      ],
      "execution_count": 84,
      "outputs": [
        {
          "output_type": "stream",
          "name": "stdout",
          "text": [
            "Total Merchants for June: 3866\n",
            "Total Merchants for July: 3895\n"
          ]
        }
      ]
    },
    {
      "cell_type": "markdown",
      "metadata": {
        "id": "qojN1rtVTgS3"
      },
      "source": [
        "So we had slightly more (about 29) merchants in July than June."
      ]
    },
    {
      "cell_type": "code",
      "metadata": {
        "colab": {
          "base_uri": "https://localhost:8080/",
          "height": 204
        },
        "id": "2AC72HHBGqv1",
        "outputId": "7cbdaaac-dba7-4f30-e8b5-0da441889a9c"
      },
      "source": [
        "# For June categoric features\n",
        "\n",
        "june_df.describe(include='object').T"
      ],
      "execution_count": 85,
      "outputs": [
        {
          "output_type": "execute_result",
          "data": {
            "text/html": [
              "<div>\n",
              "<style scoped>\n",
              "    .dataframe tbody tr th:only-of-type {\n",
              "        vertical-align: middle;\n",
              "    }\n",
              "\n",
              "    .dataframe tbody tr th {\n",
              "        vertical-align: top;\n",
              "    }\n",
              "\n",
              "    .dataframe thead th {\n",
              "        text-align: right;\n",
              "    }\n",
              "</style>\n",
              "<table border=\"1\" class=\"dataframe\">\n",
              "  <thead>\n",
              "    <tr style=\"text-align: right;\">\n",
              "      <th></th>\n",
              "      <th>count</th>\n",
              "      <th>unique</th>\n",
              "      <th>top</th>\n",
              "      <th>freq</th>\n",
              "    </tr>\n",
              "  </thead>\n",
              "  <tbody>\n",
              "    <tr>\n",
              "      <th>merchant_industry</th>\n",
              "      <td>8609</td>\n",
              "      <td>63</td>\n",
              "      <td>GOODS-PHYSICAL</td>\n",
              "      <td>1358</td>\n",
              "    </tr>\n",
              "    <tr>\n",
              "      <th>merchant_category</th>\n",
              "      <td>8609</td>\n",
              "      <td>11</td>\n",
              "      <td>Digital Services</td>\n",
              "      <td>1601</td>\n",
              "    </tr>\n",
              "    <tr>\n",
              "      <th>merchant_country</th>\n",
              "      <td>8609</td>\n",
              "      <td>3</td>\n",
              "      <td>Nigeria</td>\n",
              "      <td>8577</td>\n",
              "    </tr>\n",
              "    <tr>\n",
              "      <th>currency</th>\n",
              "      <td>8609</td>\n",
              "      <td>4</td>\n",
              "      <td>NGN</td>\n",
              "      <td>8540</td>\n",
              "    </tr>\n",
              "    <tr>\n",
              "      <th>channel</th>\n",
              "      <td>8609</td>\n",
              "      <td>1</td>\n",
              "      <td>card</td>\n",
              "      <td>8609</td>\n",
              "    </tr>\n",
              "  </tbody>\n",
              "</table>\n",
              "</div>"
            ],
            "text/plain": [
              "                  count unique               top  freq\n",
              "merchant_industry  8609     63    GOODS-PHYSICAL  1358\n",
              "merchant_category  8609     11  Digital Services  1601\n",
              "merchant_country   8609      3           Nigeria  8577\n",
              "currency           8609      4               NGN  8540\n",
              "channel            8609      1              card  8609"
            ]
          },
          "metadata": {},
          "execution_count": 85
        }
      ]
    },
    {
      "cell_type": "code",
      "metadata": {
        "colab": {
          "base_uri": "https://localhost:8080/",
          "height": 204
        },
        "id": "LoaLVX9nHNSJ",
        "outputId": "1bee805d-4d38-425c-c2e8-9337859d7605"
      },
      "source": [
        "# For July categoric features\n",
        "\n",
        "july_df.describe(include='object').T"
      ],
      "execution_count": 86,
      "outputs": [
        {
          "output_type": "execute_result",
          "data": {
            "text/html": [
              "<div>\n",
              "<style scoped>\n",
              "    .dataframe tbody tr th:only-of-type {\n",
              "        vertical-align: middle;\n",
              "    }\n",
              "\n",
              "    .dataframe tbody tr th {\n",
              "        vertical-align: top;\n",
              "    }\n",
              "\n",
              "    .dataframe thead th {\n",
              "        text-align: right;\n",
              "    }\n",
              "</style>\n",
              "<table border=\"1\" class=\"dataframe\">\n",
              "  <thead>\n",
              "    <tr style=\"text-align: right;\">\n",
              "      <th></th>\n",
              "      <th>count</th>\n",
              "      <th>unique</th>\n",
              "      <th>top</th>\n",
              "      <th>freq</th>\n",
              "    </tr>\n",
              "  </thead>\n",
              "  <tbody>\n",
              "    <tr>\n",
              "      <th>merchant_industry</th>\n",
              "      <td>8809</td>\n",
              "      <td>62</td>\n",
              "      <td>GOODS-PHYSICAL</td>\n",
              "      <td>1356</td>\n",
              "    </tr>\n",
              "    <tr>\n",
              "      <th>merchant_category</th>\n",
              "      <td>8809</td>\n",
              "      <td>11</td>\n",
              "      <td>Other</td>\n",
              "      <td>1473</td>\n",
              "    </tr>\n",
              "    <tr>\n",
              "      <th>merchant_country</th>\n",
              "      <td>8809</td>\n",
              "      <td>3</td>\n",
              "      <td>Nigeria</td>\n",
              "      <td>8784</td>\n",
              "    </tr>\n",
              "    <tr>\n",
              "      <th>currency</th>\n",
              "      <td>8809</td>\n",
              "      <td>4</td>\n",
              "      <td>NGN</td>\n",
              "      <td>8744</td>\n",
              "    </tr>\n",
              "    <tr>\n",
              "      <th>channel</th>\n",
              "      <td>8809</td>\n",
              "      <td>1</td>\n",
              "      <td>card</td>\n",
              "      <td>8809</td>\n",
              "    </tr>\n",
              "  </tbody>\n",
              "</table>\n",
              "</div>"
            ],
            "text/plain": [
              "                  count unique             top  freq\n",
              "merchant_industry  8809     62  GOODS-PHYSICAL  1356\n",
              "merchant_category  8809     11           Other  1473\n",
              "merchant_country   8809      3         Nigeria  8784\n",
              "currency           8809      4             NGN  8744\n",
              "channel            8809      1            card  8809"
            ]
          },
          "metadata": {},
          "execution_count": 86
        }
      ]
    },
    {
      "cell_type": "markdown",
      "metadata": {
        "id": "rr0xmGm9Hg4O"
      },
      "source": [
        "From the categorical features summary, we can see that...\n",
        "1. There are 63 unique merchant industries in June and 62 in July,\n",
        "2. There are 11 distinct merchant categories, and 3 distinct merchant countries, 4 distinct currencies and 1 distinct channel for both months, which is the `card` channel."
      ]
    },
    {
      "cell_type": "markdown",
      "metadata": {
        "id": "-aM6s_GSKGSr"
      },
      "source": [
        "### 3. Checking for missing values:"
      ]
    },
    {
      "cell_type": "code",
      "metadata": {
        "id": "0KEZBcDKB32V",
        "colab": {
          "base_uri": "https://localhost:8080/"
        },
        "outputId": "c916d001-1db0-4753-abc6-7a275c80448e"
      },
      "source": [
        "june_df.isna().any()"
      ],
      "execution_count": 87,
      "outputs": [
        {
          "output_type": "execute_result",
          "data": {
            "text/plain": [
              "merchant_id                    False\n",
              "merchant_industry              False\n",
              "merchant_category              False\n",
              "merchant_country               False\n",
              "currency                       False\n",
              "transaction_week_start_date    False\n",
              "channel                        False\n",
              "transaction_count              False\n",
              "transaction_volume_usd         False\n",
              "fraud_count                    False\n",
              "fraud_volume_usd                True\n",
              "otp_fraud                      False\n",
              "otp_all_transactions           False\n",
              "dtype: bool"
            ]
          },
          "metadata": {},
          "execution_count": 87
        }
      ]
    },
    {
      "cell_type": "code",
      "metadata": {
        "colab": {
          "base_uri": "https://localhost:8080/"
        },
        "id": "0_ckoE3nye7G",
        "outputId": "4234e654-74dc-4dd5-dd06-7caa607de93c"
      },
      "source": [
        "july_df.isna().any()"
      ],
      "execution_count": 88,
      "outputs": [
        {
          "output_type": "execute_result",
          "data": {
            "text/plain": [
              "merchant_id                    False\n",
              "merchant_industry              False\n",
              "merchant_category              False\n",
              "merchant_country               False\n",
              "currency                       False\n",
              "transaction_week_start_date    False\n",
              "channel                        False\n",
              "transaction_count              False\n",
              "transaction_volume_usd         False\n",
              "fraud_count                    False\n",
              "fraud_volume_usd                True\n",
              "otp_fraud                      False\n",
              "otp_all_transactions           False\n",
              "dtype: bool"
            ]
          },
          "metadata": {},
          "execution_count": 88
        }
      ]
    },
    {
      "cell_type": "markdown",
      "metadata": {
        "id": "mLYcronDzOpM"
      },
      "source": [
        "We can see that for both June and July, only `fraud_volume_usd` has missing values. On further investigation, it is clear to see why. This is so because when `fraud_count` is 0, then `fraud_volume_usd` defaults to NaN.<br>Since we know that `fraud_volume_usd` should be 0, when `fraud_count` is 0, let's override this accordingly."
      ]
    },
    {
      "cell_type": "code",
      "metadata": {
        "colab": {
          "base_uri": "https://localhost:8080/"
        },
        "id": "v_thDz0yzMuI",
        "outputId": "04c2eaa2-64e2-4029-9269-2a502031d3b0"
      },
      "source": [
        "# replacing all missing values in the fraud_volume_usd col to 0\n",
        "\n",
        "june_df.fraud_volume_usd.fillna(0, inplace=True)\n",
        "july_df.fraud_volume_usd.fillna(0, inplace=True)\n",
        "print('done!')"
      ],
      "execution_count": 89,
      "outputs": [
        {
          "output_type": "stream",
          "name": "stdout",
          "text": [
            "done!\n"
          ]
        }
      ]
    },
    {
      "cell_type": "markdown",
      "metadata": {
        "id": "H-jRPLYnLDrG"
      },
      "source": [
        "Let's confirm that all missing values have been replaced"
      ]
    },
    {
      "cell_type": "code",
      "metadata": {
        "colab": {
          "base_uri": "https://localhost:8080/"
        },
        "id": "c_3bhDWaLJRK",
        "outputId": "65e38537-4123-49eb-a230-ec9c0a0738d4"
      },
      "source": [
        "june_df.isna().any()"
      ],
      "execution_count": 90,
      "outputs": [
        {
          "output_type": "execute_result",
          "data": {
            "text/plain": [
              "merchant_id                    False\n",
              "merchant_industry              False\n",
              "merchant_category              False\n",
              "merchant_country               False\n",
              "currency                       False\n",
              "transaction_week_start_date    False\n",
              "channel                        False\n",
              "transaction_count              False\n",
              "transaction_volume_usd         False\n",
              "fraud_count                    False\n",
              "fraud_volume_usd               False\n",
              "otp_fraud                      False\n",
              "otp_all_transactions           False\n",
              "dtype: bool"
            ]
          },
          "metadata": {},
          "execution_count": 90
        }
      ]
    },
    {
      "cell_type": "code",
      "metadata": {
        "colab": {
          "base_uri": "https://localhost:8080/"
        },
        "id": "5AgyYM8aLQSD",
        "outputId": "96d1ccec-94e4-42e7-f3a7-7de048783447"
      },
      "source": [
        "july_df.isna().any()"
      ],
      "execution_count": 91,
      "outputs": [
        {
          "output_type": "execute_result",
          "data": {
            "text/plain": [
              "merchant_id                    False\n",
              "merchant_industry              False\n",
              "merchant_category              False\n",
              "merchant_country               False\n",
              "currency                       False\n",
              "transaction_week_start_date    False\n",
              "channel                        False\n",
              "transaction_count              False\n",
              "transaction_volume_usd         False\n",
              "fraud_count                    False\n",
              "fraud_volume_usd               False\n",
              "otp_fraud                      False\n",
              "otp_all_transactions           False\n",
              "dtype: bool"
            ]
          },
          "metadata": {},
          "execution_count": 91
        }
      ]
    },
    {
      "cell_type": "markdown",
      "metadata": {
        "id": "Heyc_ht7WFy9"
      },
      "source": [
        "### 4. Some basic visualization of June and July transactions:"
      ]
    },
    {
      "cell_type": "markdown",
      "metadata": {
        "id": "r0ZZrCtlPVZk"
      },
      "source": [
        "Let's explore the distribution of transactions across the distinct countries for June and July"
      ]
    },
    {
      "cell_type": "code",
      "metadata": {
        "id": "0P3AppKrYSHr"
      },
      "source": [
        "def compare_pie_chart(sup_title, titles, s1, s2, size, colours):\n",
        "    \"\"\"Pie chart to compare values for June and July\n",
        "    \n",
        "    @param suptitle: Str, summary title of the plot\n",
        "    @param titles: List of string sub-titles per plot\n",
        "    @param s1: first series object\n",
        "    @param s2: second series object\n",
        "    @param size: A tuple of figure size\n",
        "    @param colours: A List of colors for the piecharts\n",
        "    \"\"\"\n",
        "    plt.figure(figsize=size)\n",
        "    sns.set(font_scale=1.2)\n",
        "    sns.set_style('ticks')\n",
        "    plt.suptitle(sup_title, y=1.05)\n",
        "\n",
        "    # For the first plot\n",
        "    plt.subplot(121)\n",
        "    plt.pie(s1, \n",
        "       autopct='%1.1f%%',\n",
        "       colors=colours,\n",
        "       startangle=90,\n",
        "       shadow=True,\n",
        "       pctdistance=1.06)\n",
        "    plt.title(titles[0], y=1.05)\n",
        "    plt.axis('equal')\n",
        "    plt.legend(labels=s1.index, loc='upper right')\n",
        "\n",
        "    # For the second plot\n",
        "    plt.subplot(122)\n",
        "    plt.pie(s2, \n",
        "       autopct='%1.1f%%',\n",
        "       colors=colours,\n",
        "       startangle=90,\n",
        "       shadow=True,\n",
        "       pctdistance=1.06)\n",
        "    plt.title(titles[1], y=1.05)\n",
        "    plt.axis('equal')\n",
        "    plt.legend(labels=s2.index, loc='upper right')\n",
        "\n",
        "    plt.show()"
      ],
      "execution_count": 92,
      "outputs": []
    },
    {
      "cell_type": "code",
      "metadata": {
        "id": "RRxajjvjUpfV"
      },
      "source": [
        "countries = list(june_df.merchant_country.unique())\n",
        "\n",
        "def get_country_transactions(countries, df1, df2):\n",
        "    \"\"\"Function to get total transactions per country\n",
        "\n",
        "    @param countries: list of string country names\n",
        "    @param df1 and df2: June and July Dataframes\n",
        "    \"\"\"\n",
        "\n",
        "    s1_list = []\n",
        "    s2_list = []\n",
        "\n",
        "    for country in countries:\n",
        "        temp1 = df1[df1['merchant_country'] == country]\n",
        "        s1_list.append(sum(temp1['transaction_count']))\n",
        "\n",
        "        temp2 = df2[df2['merchant_country'] == country]\n",
        "        s2_list.append(sum(temp2['transaction_count']))\n",
        "    \n",
        "    s1 = pd.Series(s1_list, index=countries)\n",
        "    s2 = pd.Series(s2_list, index=countries)\n",
        "\n",
        "    return s1, s2 "
      ],
      "execution_count": 93,
      "outputs": []
    },
    {
      "cell_type": "code",
      "metadata": {
        "id": "OMZs98tYWV5F"
      },
      "source": [
        "june_country_split, july_country_split = get_country_transactions(countries, june_df, july_df)"
      ],
      "execution_count": 94,
      "outputs": []
    },
    {
      "cell_type": "code",
      "metadata": {
        "colab": {
          "base_uri": "https://localhost:8080/"
        },
        "id": "WGPduBNXNW5j",
        "outputId": "9bd0bac0-3d18-46b7-c27d-cc1b965ff3e5"
      },
      "source": [
        "june_country_split"
      ],
      "execution_count": 95,
      "outputs": [
        {
          "output_type": "execute_result",
          "data": {
            "text/plain": [
              "Nigeria         4177313\n",
              "Ghana                35\n",
              "South Africa          2\n",
              "dtype: int64"
            ]
          },
          "metadata": {},
          "execution_count": 95
        }
      ]
    },
    {
      "cell_type": "code",
      "metadata": {
        "colab": {
          "base_uri": "https://localhost:8080/",
          "height": 432
        },
        "id": "YAO7OXeEngqR",
        "outputId": "da1ea398-3019-4935-ddda-4c7b4bc6a0f2"
      },
      "source": [
        "# Let's define some variables\n",
        "\n",
        "sup_title = 'Piechart showing Country-Distribution of Transactions'\n",
        "titles = ['June', 'July']\n",
        "s1 = june_country_split\n",
        "s2 = july_country_split\n",
        "size = (18, 6)\n",
        "colours = ['green','red','blue']\n",
        "\n",
        "compare_pie_chart(sup_title, titles, s1, s2, size, colours)"
      ],
      "execution_count": 96,
      "outputs": [
        {
          "output_type": "display_data",
          "data": {
            "image/png": "[encoded data removed]",
            "text/plain": [
              "<Figure size 1296x432 with 2 Axes>"
            ]
          },
          "metadata": {}
        }
      ]
    },
    {
      "cell_type": "code",
      "metadata": {
        "colab": {
          "base_uri": "https://localhost:8080/"
        },
        "id": "W5yYnzHoP4eF",
        "outputId": "1fd2835c-592f-4726-e5c3-10d85eb24e10"
      },
      "source": [
        "ng_june_t = june_country_split['Nigeria']\n",
        "ng_july_t = july_country_split['Nigeria']\n",
        "gh_june_t = june_country_split['Ghana']\n",
        "gh_july_t = july_country_split['Ghana']\n",
        "sa_june_t = june_country_split['South Africa']\n",
        "sa_july_t = july_country_split['South Africa']\n",
        "\n",
        "print(f'In June, the country-transactions-count is:\\nNigeria: {ng_june_t}\\nGhana: {gh_june_t}\\nSA: {sa_june_t}\\n')\n",
        "print()\n",
        "print(f'In July, the country-transactions-count is:\\nNigeria: {ng_july_t}\\nGhana: {gh_july_t}\\nSA: {sa_july_t}\\n')"
      ],
      "execution_count": 97,
      "outputs": [
        {
          "output_type": "stream",
          "name": "stdout",
          "text": [
            "In June, the country-transactions-count is:\n",
            "Nigeria: 4177313\n",
            "Ghana: 35\n",
            "SA: 2\n",
            "\n",
            "\n",
            "In July, the country-transactions-count is:\n",
            "Nigeria: 3989230\n",
            "Ghana: 32\n",
            "SA: 2\n",
            "\n"
          ]
        }
      ]
    },
    {
      "cell_type": "markdown",
      "metadata": {
        "id": "vSm7lBX0pCjN"
      },
      "source": [
        "We can see from the three countries represented in the data, that Nigeria alone has over 99.7% of all transactions. Thus, I can assume that more fraudulent activities occur within Nigeria.<br>\n",
        "* SA has only 2 transactions per month\n",
        "* Ghana has just about 35 per month\n",
        "* Nigeria has about 4 million transactions monthly.\n",
        "\n",
        "But before I jump to conclusions, let's see the percentage distribution of total fraud per country transactions."
      ]
    },
    {
      "cell_type": "code",
      "metadata": {
        "id": "FmIFBt6_dOHU"
      },
      "source": [
        "def get_country_fraud_pct_df(df):\n",
        "    country_ratio = []\n",
        "\n",
        "    for country in countries:\n",
        "        country_df = df[df['merchant_country'] == country]\n",
        "        ratio = sum(country_df.fraud_count) / sum(country_df.transaction_count)\n",
        "        pct = ratio * 100\n",
        "        country_ratio.append(pct)\n",
        "\n",
        "    final_df = pd.DataFrame(country_ratio, index=countries, columns=['Pct'])\n",
        "\n",
        "    return final_df"
      ],
      "execution_count": 98,
      "outputs": []
    },
    {
      "cell_type": "code",
      "metadata": {
        "colab": {
          "base_uri": "https://localhost:8080/",
          "height": 142
        },
        "id": "5IlNyWp5Q6Es",
        "outputId": "fa453bd0-e34c-4f0e-ed79-e0c3881b52da"
      },
      "source": [
        "june_country_fraud_ratio = get_country_fraud_pct_df(june_df)\n",
        "july_country_fraud_ratio = get_country_fraud_pct_df(july_df)\n",
        "\n",
        "june_country_fraud_ratio"
      ],
      "execution_count": 99,
      "outputs": [
        {
          "output_type": "execute_result",
          "data": {
            "text/html": [
              "<div>\n",
              "<style scoped>\n",
              "    .dataframe tbody tr th:only-of-type {\n",
              "        vertical-align: middle;\n",
              "    }\n",
              "\n",
              "    .dataframe tbody tr th {\n",
              "        vertical-align: top;\n",
              "    }\n",
              "\n",
              "    .dataframe thead th {\n",
              "        text-align: right;\n",
              "    }\n",
              "</style>\n",
              "<table border=\"1\" class=\"dataframe\">\n",
              "  <thead>\n",
              "    <tr style=\"text-align: right;\">\n",
              "      <th></th>\n",
              "      <th>Pct</th>\n",
              "    </tr>\n",
              "  </thead>\n",
              "  <tbody>\n",
              "    <tr>\n",
              "      <th>Nigeria</th>\n",
              "      <td>0.022335</td>\n",
              "    </tr>\n",
              "    <tr>\n",
              "      <th>Ghana</th>\n",
              "      <td>0.000000</td>\n",
              "    </tr>\n",
              "    <tr>\n",
              "      <th>South Africa</th>\n",
              "      <td>0.000000</td>\n",
              "    </tr>\n",
              "  </tbody>\n",
              "</table>\n",
              "</div>"
            ],
            "text/plain": [
              "                   Pct\n",
              "Nigeria       0.022335\n",
              "Ghana         0.000000\n",
              "South Africa  0.000000"
            ]
          },
          "metadata": {},
          "execution_count": 99
        }
      ]
    },
    {
      "cell_type": "code",
      "metadata": {
        "id": "q8fbT8KBzwVh"
      },
      "source": [
        "def compare_bar_chart(df1, df2, colours, col):\n",
        "    plt.figure(figsize=size)\n",
        "    sns.set(font_scale=1.2)\n",
        "    sns.set_style('ticks')\n",
        "    plt.suptitle(sup_title, y=1.05)\n",
        "\n",
        "    # For June\n",
        "    plt.subplot(121)\n",
        "    plt.bar(x=df1.index, height=df1[col], data=df1, color= colours, width=0.5)\n",
        "    plt.title(titles[0])\n",
        "    plt.xlabel(labels[0])\n",
        "    plt.ylabel(labels[1])\n",
        "    for x,y in zip(df1.index, df1[col]):\n",
        "        label = round(y,2)  #  could also be written as:-   \"{:.2f}\".format(y)\n",
        "        \n",
        "        plt.annotate(label, # this is the text\n",
        "                    (x,y), # this is the point to label\n",
        "                    textcoords=\"offset points\", # how to position the text\n",
        "                    xytext=(0,4), # distance from text to points (x,y)\n",
        "                    ha='center',) # horizontal alignment can be left, right or center\n",
        "\n",
        "\n",
        "    # For July\n",
        "    plt.subplot(122)\n",
        "    plt.bar(x=df2.index, height=df2[col], data=df2, color= colours, width=0.5)\n",
        "    plt.title(titles[1])\n",
        "    plt.xlabel(labels[0])\n",
        "    plt.ylabel(labels[1])\n",
        "    for x,y in zip(df2.index, df2[col]):\n",
        "        label = round(y,2) \n",
        "        plt.annotate(label,\n",
        "                    (x,y), \n",
        "                    textcoords=\"offset points\", \n",
        "                    xytext=(0,4),\n",
        "                    ha='center',) \n",
        "    \n",
        "    plt.show()"
      ],
      "execution_count": 100,
      "outputs": []
    },
    {
      "cell_type": "code",
      "metadata": {
        "colab": {
          "base_uri": "https://localhost:8080/",
          "height": 471
        },
        "id": "4v_bl98R09IT",
        "outputId": "3cead5e1-8f35-4450-aee3-ec4d062c64d7"
      },
      "source": [
        "col='Pct'\n",
        "sup_title = 'Barcharts showing the Fraud/Transactions Ratio Per Country'\n",
        "titles = ['June Fraud/Transactions Ratio per Country', 'July Fraud/Transactions Ratio per Country']\n",
        "labels = ['Country', 'Percent']\n",
        "\n",
        "compare_bar_chart(june_country_fraud_ratio, july_country_fraud_ratio, colours, col)"
      ],
      "execution_count": 101,
      "outputs": [
        {
          "output_type": "display_data",
          "data": {
            "image/png": "[encoded data removed]",
            "text/plain": [
              "<Figure size 1296x432 with 2 Axes>"
            ]
          },
          "metadata": {}
        }
      ]
    },
    {
      "cell_type": "markdown",
      "metadata": {
        "id": "nk7hduRQYb-Z"
      },
      "source": [
        "Usually, only a small portion of transactions are fraudulent per organization.<br>This data shows us that...\n",
        "1. Only Nigerian transactions recorded fraud\n",
        "2. For June only 0.02% of transactions were flagged as fraud and only 0.01% in July\n",
        "3. The data tends to depict that even with more transactions done in July, it had less fraud reports than in June."
      ]
    },
    {
      "cell_type": "markdown",
      "metadata": {
        "id": "tyDtAyPp2iyo"
      },
      "source": [
        "Let's visualize a few descriptive data values we deduced earlier"
      ]
    },
    {
      "cell_type": "code",
      "metadata": {
        "id": "bfY7LBzodbXZ"
      },
      "source": [
        "indexs = ['max_fraud/Day', 'total_fraud/Month', 'max_otp_fraud/Day', 'ave_fraud_usd/Month','max_fraud_usd/Day']\n",
        "\n",
        "june_data = [max(june_df.fraud_count), sum(june_df.fraud_count), max(june_df.otp_fraud), \\\n",
        "             june_df.fraud_volume_usd.mean(), max(june_df.fraud_volume_usd)]\n",
        "\n",
        "july_data = [max(july_df.fraud_count), sum(july_df.fraud_count), max(july_df.otp_fraud), \\\n",
        "             july_df.fraud_volume_usd.mean(), max(july_df.fraud_volume_usd)]"
      ],
      "execution_count": 102,
      "outputs": []
    },
    {
      "cell_type": "code",
      "metadata": {
        "id": "ccfalzkMmIvI"
      },
      "source": [
        "def plot_clustered_bar(indexs, june_data, july_data):\n",
        "    assert len(indexs) == len(june_data) == len(july_data)\n",
        "\n",
        "    df = pd.DataFrame([june_data, july_data]).T\n",
        "    df.index = indexs\n",
        "    df.columns = ['June', 'July']\n",
        "    #plt.xkcd()  # For xkcd style plots\n",
        "    #plt.rcdefaults()  # to stop xkcd plots\n",
        "\n",
        "    # your colors\n",
        "    colors = ['#5bc0de', '#d9534f']\n",
        "\n",
        "    # plot with annotations is probably easier\n",
        "    p1 = df.plot(kind='bar', \n",
        "                 color=colors, \n",
        "                 figsize=(size), \n",
        "                 rot=0, \n",
        "                 ylabel='Count', \n",
        "                 title=title)\n",
        "\n",
        "    plt.show()"
      ],
      "execution_count": 103,
      "outputs": []
    },
    {
      "cell_type": "code",
      "metadata": {
        "colab": {
          "base_uri": "https://localhost:8080/",
          "height": 397
        },
        "id": "cCl7l12Lm2w9",
        "outputId": "acfc3991-5e33-447e-8270-e1ab1d9fa586"
      },
      "source": [
        "title = 'Max-Fraud/Day and Total-Fraud/Month comparison: June vs July'\n",
        "plot_clustered_bar(indexs[:2], june_data[:2], july_data[:2])"
      ],
      "execution_count": 104,
      "outputs": [
        {
          "output_type": "display_data",
          "data": {
            "image/png": "[encoded data removed]",
            "text/plain": [
              "<Figure size 1296x432 with 1 Axes>"
            ]
          },
          "metadata": {}
        }
      ]
    },
    {
      "cell_type": "code",
      "metadata": {
        "colab": {
          "base_uri": "https://localhost:8080/",
          "height": 397
        },
        "id": "4pD9nURmzUk5",
        "outputId": "af22cfa4-1323-4e37-c62b-2383f6e7fbbc"
      },
      "source": [
        "title = 'Max-Otp-Fraud/Day and Average-Fraud-Volume-USD/Month comparison: June vs July'\n",
        "plot_clustered_bar(indexs[2:4], june_data[2:4], july_data[2:4])"
      ],
      "execution_count": 105,
      "outputs": [
        {
          "output_type": "display_data",
          "data": {
            "image/png": "[encoded data removed]",
            "text/plain": [
              "<Figure size 1296x432 with 1 Axes>"
            ]
          },
          "metadata": {}
        }
      ]
    },
    {
      "cell_type": "code",
      "metadata": {
        "colab": {
          "base_uri": "https://localhost:8080/",
          "height": 397
        },
        "id": "GIqZtf0B1yOj",
        "outputId": "94a9e194-3acb-4a50-f740-360c222495b5"
      },
      "source": [
        "title = 'Max-Fraud-USD/Day comparison: June vs July'\n",
        "plot_clustered_bar(indexs[4:], june_data[4:], july_data[4:])"
      ],
      "execution_count": 106,
      "outputs": [
        {
          "output_type": "display_data",
          "data": {
            "image/png": "[encoded data removed]",
            "text/plain": [
              "<Figure size 1296x432 with 1 Axes>"
            ]
          },
          "metadata": {}
        }
      ]
    },
    {
      "cell_type": "markdown",
      "metadata": {
        "id": "ZPECp1MvYr81"
      },
      "source": [
        "# Diagnostic EDA (DA2):"
      ]
    },
    {
      "cell_type": "markdown",
      "metadata": {
        "id": "zqROM9ZVba6_"
      },
      "source": [
        "**Diagnostic Analytics (DA2):**<br>\n",
        "Diagnostic analytics are a deeper look at data to attempt to understand the causes of events and behaviours. It’s used largely to answer the question **<“Why did it happen?”>**, and is characterized by techniques such as : **drill-down** • **data discovery** • **data mining** • **correlations** • **mutual-information**\n",
        "\n",
        "* On a weekly basis, what weeks have the most Fraud?\n",
        "* Is there a correlation between weekly transactions count and fraud count?\n",
        "* Does fraud tend to increase due to social reasons like public holidays?\n",
        "* What Industries are most prone to Fraud?\n",
        "* What type of Merchants is most prone?\n",
        "* What features of the data are strongly related to fraud occurrences? We can try using Mutual-Information and correlation\n",
        "* Can we use clustering algorithms to learn any meaningful patterns or groupings that can help us learn more about the recent fraud spikes?\n",
        "\n",
        "Asking and answering these questions give us a deeper understanding of the causes or patterns related to the spike in fraud."
      ]
    },
    {
      "cell_type": "markdown",
      "metadata": {
        "id": "IGCPjHz1Lnxg"
      },
      "source": [
        "### 5. Exploring Mutual Information of variables:\n",
        "Mutual information describes relationships in terms of uncertainty. The mutual information (MI) between two quantities is a measure of the extent to which knowledge of one quantity reduces uncertainty about the other. If you knew the value of a feature, how much more confident would you be about the target?\n",
        "\n",
        "Mutual information is how many questions you expect the feature to answer about the target. It can help to understand the relative potential of a feature as a predictor of the target, considered by itself. But Mutual Information can't detect interactions between features, is a Univariate metric.\n",
        "\n",
        "Finally, unlike Correlation that can only detect linear relationships, Mutual Information can detect all kinds and shapes of relations between features and target."
      ]
    },
    {
      "cell_type": "code",
      "metadata": {
        "id": "gdNrjxBmNVKs"
      },
      "source": [
        "# First, make a copy of both datasets\n",
        "\n",
        "june_copy = june_df.copy(deep=True)\n",
        "july_copy = july_df.copy(deep=True)"
      ],
      "execution_count": 107,
      "outputs": []
    },
    {
      "cell_type": "code",
      "metadata": {
        "id": "nowiSL3oCl9p"
      },
      "source": [
        "# Next, pop the targets\n",
        "\n",
        "june_target = june_copy.pop('fraud_count')\n",
        "july_target = july_copy.pop('fraud_count')"
      ],
      "execution_count": 108,
      "outputs": []
    },
    {
      "cell_type": "code",
      "metadata": {
        "colab": {
          "base_uri": "https://localhost:8080/"
        },
        "id": "EHN0JqbSAqUE",
        "outputId": "9ddee54c-7eeb-4654-c133-2e2fb9650be3"
      },
      "source": [
        "# Next, get separate list for numeric and categoric columns\n",
        "\n",
        "num_cols = list(june_copy._get_numeric_data().columns)\n",
        "cat_cols = list(set(june_copy.columns) - set(num_cols))\n",
        "print('done!')"
      ],
      "execution_count": 109,
      "outputs": [
        {
          "output_type": "stream",
          "name": "stdout",
          "text": [
            "done!\n"
          ]
        }
      ]
    },
    {
      "cell_type": "code",
      "metadata": {
        "colab": {
          "base_uri": "https://localhost:8080/"
        },
        "id": "1yaUxtkzEYaZ",
        "outputId": "bb4faec9-235c-4a31-df89-ea5d4de4711e"
      },
      "source": [
        "# Next, let's label-encode categorical variables\n",
        "\n",
        "for colname in cat_cols:\n",
        "    june_copy[colname], _ = june_copy[colname].factorize()\n",
        "    july_copy[colname], _ = july_copy[colname].factorize()\n",
        "print('done!')"
      ],
      "execution_count": 110,
      "outputs": [
        {
          "output_type": "stream",
          "name": "stdout",
          "text": [
            "done!\n"
          ]
        }
      ]
    },
    {
      "cell_type": "markdown",
      "metadata": {
        "id": "RlcrHAgoF3ax"
      },
      "source": [
        "All categorical features should now have numerical datatypes"
      ]
    },
    {
      "cell_type": "code",
      "metadata": {
        "colab": {
          "base_uri": "https://localhost:8080/"
        },
        "id": "zzyowhJMFgtM",
        "outputId": "2a40225f-b698-4e48-c25d-411e09660f55"
      },
      "source": [
        "june_copy.info()"
      ],
      "execution_count": 111,
      "outputs": [
        {
          "output_type": "stream",
          "name": "stdout",
          "text": [
            "<class 'pandas.core.frame.DataFrame'>\n",
            "RangeIndex: 8609 entries, 0 to 8608\n",
            "Data columns (total 12 columns):\n",
            " #   Column                       Non-Null Count  Dtype  \n",
            "---  ------                       --------------  -----  \n",
            " 0   merchant_id                  8609 non-null   int64  \n",
            " 1   merchant_industry            8609 non-null   int64  \n",
            " 2   merchant_category            8609 non-null   int64  \n",
            " 3   merchant_country             8609 non-null   int64  \n",
            " 4   currency                     8609 non-null   int64  \n",
            " 5   transaction_week_start_date  8609 non-null   int64  \n",
            " 6   channel                      8609 non-null   int64  \n",
            " 7   transaction_count            8609 non-null   int64  \n",
            " 8   transaction_volume_usd       8609 non-null   float64\n",
            " 9   fraud_volume_usd             8609 non-null   float64\n",
            " 10  otp_fraud                    8609 non-null   int64  \n",
            " 11  otp_all_transactions         8609 non-null   int64  \n",
            "dtypes: float64(2), int64(10)\n",
            "memory usage: 807.2 KB\n"
          ]
        }
      ]
    },
    {
      "cell_type": "markdown",
      "metadata": {
        "id": "c381LCCLGogE"
      },
      "source": [
        "Since our target `fraud_count` is a numerical feature, we shall use the mutual_info_regression method..."
      ]
    },
    {
      "cell_type": "code",
      "metadata": {
        "colab": {
          "base_uri": "https://localhost:8080/",
          "height": 162
        },
        "id": "hxv7bITjL5fI",
        "outputId": "c4e82e30-de26-4a36-e3c9-6f702f9bb250"
      },
      "source": [
        "june_copy.head(3)"
      ],
      "execution_count": 112,
      "outputs": [
        {
          "output_type": "execute_result",
          "data": {
            "text/html": [
              "<div>\n",
              "<style scoped>\n",
              "    .dataframe tbody tr th:only-of-type {\n",
              "        vertical-align: middle;\n",
              "    }\n",
              "\n",
              "    .dataframe tbody tr th {\n",
              "        vertical-align: top;\n",
              "    }\n",
              "\n",
              "    .dataframe thead th {\n",
              "        text-align: right;\n",
              "    }\n",
              "</style>\n",
              "<table border=\"1\" class=\"dataframe\">\n",
              "  <thead>\n",
              "    <tr style=\"text-align: right;\">\n",
              "      <th></th>\n",
              "      <th>merchant_id</th>\n",
              "      <th>merchant_industry</th>\n",
              "      <th>merchant_category</th>\n",
              "      <th>merchant_country</th>\n",
              "      <th>currency</th>\n",
              "      <th>transaction_week_start_date</th>\n",
              "      <th>channel</th>\n",
              "      <th>transaction_count</th>\n",
              "      <th>transaction_volume_usd</th>\n",
              "      <th>fraud_volume_usd</th>\n",
              "      <th>otp_fraud</th>\n",
              "      <th>otp_all_transactions</th>\n",
              "    </tr>\n",
              "  </thead>\n",
              "  <tbody>\n",
              "    <tr>\n",
              "      <th>0</th>\n",
              "      <td>1</td>\n",
              "      <td>0</td>\n",
              "      <td>0</td>\n",
              "      <td>0</td>\n",
              "      <td>0</td>\n",
              "      <td>0</td>\n",
              "      <td>0</td>\n",
              "      <td>5</td>\n",
              "      <td>231.590551</td>\n",
              "      <td>0.0</td>\n",
              "      <td>0</td>\n",
              "      <td>5</td>\n",
              "    </tr>\n",
              "    <tr>\n",
              "      <th>1</th>\n",
              "      <td>5</td>\n",
              "      <td>1</td>\n",
              "      <td>1</td>\n",
              "      <td>0</td>\n",
              "      <td>0</td>\n",
              "      <td>0</td>\n",
              "      <td>0</td>\n",
              "      <td>2</td>\n",
              "      <td>210.203412</td>\n",
              "      <td>0.0</td>\n",
              "      <td>0</td>\n",
              "      <td>2</td>\n",
              "    </tr>\n",
              "    <tr>\n",
              "      <th>2</th>\n",
              "      <td>9</td>\n",
              "      <td>2</td>\n",
              "      <td>2</td>\n",
              "      <td>0</td>\n",
              "      <td>0</td>\n",
              "      <td>0</td>\n",
              "      <td>0</td>\n",
              "      <td>4</td>\n",
              "      <td>223.097113</td>\n",
              "      <td>0.0</td>\n",
              "      <td>0</td>\n",
              "      <td>1</td>\n",
              "    </tr>\n",
              "  </tbody>\n",
              "</table>\n",
              "</div>"
            ],
            "text/plain": [
              "   merchant_id  merchant_industry  ...  otp_fraud  otp_all_transactions\n",
              "0            1                  0  ...          0                     5\n",
              "1            5                  1  ...          0                     2\n",
              "2            9                  2  ...          0                     1\n",
              "\n",
              "[3 rows x 12 columns]"
            ]
          },
          "metadata": {},
          "execution_count": 112
        }
      ]
    },
    {
      "cell_type": "code",
      "metadata": {
        "colab": {
          "base_uri": "https://localhost:8080/"
        },
        "id": "B_Y4MGN1NuHj",
        "outputId": "e9dc09ea-3b2a-45fd-8213-b8cfe68125a4"
      },
      "source": [
        "# Next, identify discrete features\n",
        "\n",
        "discrete_features_june = june_copy.dtypes == int\n",
        "discrete_features_july = july_copy.dtypes == int\n",
        "print('done')"
      ],
      "execution_count": 113,
      "outputs": [
        {
          "output_type": "stream",
          "name": "stdout",
          "text": [
            "done\n"
          ]
        }
      ]
    },
    {
      "cell_type": "code",
      "metadata": {
        "id": "Ykkc7kjwGxwZ"
      },
      "source": [
        "from sklearn.feature_selection import mutual_info_regression as mi\n",
        "\n",
        "def make_mi_scores(X, y, discreteFeatures):\n",
        "    mi_scores = mi(X, y, discrete_features=discreteFeatures)\n",
        "    mi_scores = pd.Series(mi_scores, name='MI_scores', index=X.columns)\n",
        "    mi_scores = mi_scores.sort_values(ascending=False)\n",
        "\n",
        "    return mi_scores"
      ],
      "execution_count": 114,
      "outputs": []
    },
    {
      "cell_type": "markdown",
      "metadata": {
        "id": "B5JAgH_SRBJW"
      },
      "source": [
        "Now, let's get the Mutual Info scores for June and July"
      ]
    },
    {
      "cell_type": "code",
      "metadata": {
        "colab": {
          "base_uri": "https://localhost:8080/"
        },
        "id": "y3KP3r3LRHBH",
        "outputId": "5f7a64bf-191b-4117-befc-9189d5148f4b"
      },
      "source": [
        "june_mi_scores = make_mi_scores(june_copy, june_target, discrete_features_june)\n",
        "july_mi_scores = make_mi_scores(july_copy, july_target, discrete_features_july)\n",
        "print('done!')"
      ],
      "execution_count": 115,
      "outputs": [
        {
          "output_type": "stream",
          "name": "stdout",
          "text": [
            "done!\n"
          ]
        }
      ]
    },
    {
      "cell_type": "markdown",
      "metadata": {
        "id": "BrdAN9-ARmib"
      },
      "source": [
        "Let's see a sample of the top scores in June"
      ]
    },
    {
      "cell_type": "code",
      "metadata": {
        "colab": {
          "base_uri": "https://localhost:8080/"
        },
        "id": "bVOyTUDSRqj5",
        "outputId": "56b9fb28-b13c-451f-de21-f86078dc6a17"
      },
      "source": [
        "june_mi_scores.head()"
      ],
      "execution_count": 116,
      "outputs": [
        {
          "output_type": "execute_result",
          "data": {
            "text/plain": [
              "fraud_volume_usd          0.032754\n",
              "merchant_industry         0.028664\n",
              "merchant_id               0.025967\n",
              "otp_all_transactions      0.013994\n",
              "transaction_volume_usd    0.011716\n",
              "Name: MI_scores, dtype: float64"
            ]
          },
          "metadata": {},
          "execution_count": 116
        }
      ]
    },
    {
      "cell_type": "code",
      "metadata": {
        "id": "f424cVVCSSrB"
      },
      "source": [
        "def plot_mi_scores(june_scores, july_scores):\n",
        "    june_scores = june_scores.sort_values(ascending=True)\n",
        "    july_scores = july_scores.sort_values(ascending=True)\n",
        "    plt.figure(dpi=100, figsize=(20, 8))\n",
        "\n",
        "    plt.subplot(1,2,1)\n",
        "    width = np.arange(len(june_scores))\n",
        "    ticks = list(june_scores.index)\n",
        "    plt.barh(width, june_scores)\n",
        "    plt.yticks(width, ticks)\n",
        "    plt.title(\"June Mutual Information Scores\")\n",
        "\n",
        "    plt.subplot(1,2,2)\n",
        "    width = np.arange(len(july_scores))\n",
        "    ticks = list(july_scores.index)\n",
        "    plt.barh(width, july_scores)\n",
        "    plt.yticks(width, ticks)\n",
        "    plt.title(\"July Mutual Information Scores\")\n",
        "\n",
        "    plt.show()"
      ],
      "execution_count": 117,
      "outputs": []
    },
    {
      "cell_type": "code",
      "metadata": {
        "colab": {
          "base_uri": "https://localhost:8080/",
          "height": 474
        },
        "id": "rncUa_snVSyc",
        "outputId": "24d040d7-a018-44c5-e3fd-1165c6e58a33"
      },
      "source": [
        "plot_mi_scores(june_mi_scores, july_mi_scores)"
      ],
      "execution_count": 118,
      "outputs": [
        {
          "output_type": "display_data",
          "data": {
            "image/png": "[encoded data removed]",
            "text/plain": [
              "<Figure size 2000x800 with 2 Axes>"
            ]
          },
          "metadata": {}
        }
      ]
    },
    {
      "cell_type": "markdown",
      "metadata": {
        "id": "pKcWU3WIZNEX"
      },
      "source": [
        "From the Mutual-Information analysis for June and July, we can see the features most discriminative to `fraud_count` for each month. Therefore, we can proceed with our analysis focusing on these top features"
      ]
    },
    {
      "cell_type": "markdown",
      "metadata": {
        "id": "sF6jBJXLY3sR"
      },
      "source": [
        "### 6. Selecting Top MI-Scores features:"
      ]
    },
    {
      "cell_type": "markdown",
      "metadata": {
        "id": "CY7qgOYuFqZU"
      },
      "source": [
        "Let's select the top features from MI analysis for each of June and July and include the date column because we may need that too for future analysis and ofcourse the fraud_count column. Then we create updated Dataframes for June and July."
      ]
    },
    {
      "cell_type": "code",
      "metadata": {
        "id": "wdGAbiQKZFbP"
      },
      "source": [
        "# We'd use a threshold of 0.005 for June based on the MI chart above.\n",
        "t = 0.0035\n",
        "june_top_mi = [ind for ind in list(june_mi_scores.index) if june_mi_scores[ind] >= t]\n",
        "pls_include = ['merchant_industry', 'transaction_week_start_date']\n",
        "\n",
        "for col in pls_include:\n",
        "    if not col in june_top_mi:\n",
        "        june_top_mi.append(col)  # add date & industry cols if not MI-selected\n",
        "june_top_mi.append('fraud_count')  # append target column"
      ],
      "execution_count": 119,
      "outputs": []
    },
    {
      "cell_type": "code",
      "metadata": {
        "id": "K11irKUEF8tB"
      },
      "source": [
        "# We'd use a threshold of 0.005 for July, based on the MI chart above\n",
        "july_top_mi = [ind for ind in list(july_mi_scores.index) if july_mi_scores[ind] >= t]\n",
        "\n",
        "for col in pls_include:\n",
        "    if not col in july_top_mi:\n",
        "        july_top_mi.append(col)  # add date & industry cols if not MI-selected\n",
        "july_top_mi.append('fraud_count')  # append target column"
      ],
      "execution_count": 120,
      "outputs": []
    },
    {
      "cell_type": "code",
      "metadata": {
        "colab": {
          "base_uri": "https://localhost:8080/",
          "height": 275
        },
        "id": "hynRTsRLL0Kx",
        "outputId": "a1610009-f11e-4075-ea4e-5eb004c543af"
      },
      "source": [
        "# Create new June Dataframe\n",
        "\n",
        "june_new_df = june_df[june_top_mi]\n",
        "print(f'New June-DF shape is: {june_new_df.shape}\\n')\n",
        "june_new_df.head()"
      ],
      "execution_count": 121,
      "outputs": [
        {
          "output_type": "stream",
          "name": "stdout",
          "text": [
            "New June-DF shape is: (8609, 9)\n",
            "\n"
          ]
        },
        {
          "output_type": "execute_result",
          "data": {
            "text/html": [
              "<div>\n",
              "<style scoped>\n",
              "    .dataframe tbody tr th:only-of-type {\n",
              "        vertical-align: middle;\n",
              "    }\n",
              "\n",
              "    .dataframe tbody tr th {\n",
              "        vertical-align: top;\n",
              "    }\n",
              "\n",
              "    .dataframe thead th {\n",
              "        text-align: right;\n",
              "    }\n",
              "</style>\n",
              "<table border=\"1\" class=\"dataframe\">\n",
              "  <thead>\n",
              "    <tr style=\"text-align: right;\">\n",
              "      <th></th>\n",
              "      <th>fraud_volume_usd</th>\n",
              "      <th>merchant_industry</th>\n",
              "      <th>merchant_id</th>\n",
              "      <th>otp_all_transactions</th>\n",
              "      <th>transaction_volume_usd</th>\n",
              "      <th>otp_fraud</th>\n",
              "      <th>merchant_category</th>\n",
              "      <th>transaction_week_start_date</th>\n",
              "      <th>fraud_count</th>\n",
              "    </tr>\n",
              "  </thead>\n",
              "  <tbody>\n",
              "    <tr>\n",
              "      <th>0</th>\n",
              "      <td>0.0</td>\n",
              "      <td>GOODS-PHYSICAL</td>\n",
              "      <td>1</td>\n",
              "      <td>5</td>\n",
              "      <td>231.590551</td>\n",
              "      <td>0</td>\n",
              "      <td>e-Commerce</td>\n",
              "      <td>2021-06-07</td>\n",
              "      <td>0</td>\n",
              "    </tr>\n",
              "    <tr>\n",
              "      <th>1</th>\n",
              "      <td>0.0</td>\n",
              "      <td>SERVICES-LEGAL</td>\n",
              "      <td>5</td>\n",
              "      <td>2</td>\n",
              "      <td>210.203412</td>\n",
              "      <td>0</td>\n",
              "      <td>Other</td>\n",
              "      <td>2021-06-07</td>\n",
              "      <td>0</td>\n",
              "    </tr>\n",
              "    <tr>\n",
              "      <th>2</th>\n",
              "      <td>0.0</td>\n",
              "      <td>TRAVEL</td>\n",
              "      <td>9</td>\n",
              "      <td>1</td>\n",
              "      <td>223.097113</td>\n",
              "      <td>0</td>\n",
              "      <td>Travel &amp; Hospitality</td>\n",
              "      <td>2021-06-07</td>\n",
              "      <td>0</td>\n",
              "    </tr>\n",
              "    <tr>\n",
              "      <th>3</th>\n",
              "      <td>0.0</td>\n",
              "      <td>SERVICES-PROFESSIONAL</td>\n",
              "      <td>11</td>\n",
              "      <td>5</td>\n",
              "      <td>212.335958</td>\n",
              "      <td>0</td>\n",
              "      <td>Other</td>\n",
              "      <td>2021-06-07</td>\n",
              "      <td>0</td>\n",
              "    </tr>\n",
              "    <tr>\n",
              "      <th>4</th>\n",
              "      <td>0.0</td>\n",
              "      <td>SERVICES-DIGITAL</td>\n",
              "      <td>15</td>\n",
              "      <td>8</td>\n",
              "      <td>550.131234</td>\n",
              "      <td>0</td>\n",
              "      <td>Digital Services</td>\n",
              "      <td>2021-06-07</td>\n",
              "      <td>0</td>\n",
              "    </tr>\n",
              "  </tbody>\n",
              "</table>\n",
              "</div>"
            ],
            "text/plain": [
              "   fraud_volume_usd  ... fraud_count\n",
              "0               0.0  ...           0\n",
              "1               0.0  ...           0\n",
              "2               0.0  ...           0\n",
              "3               0.0  ...           0\n",
              "4               0.0  ...           0\n",
              "\n",
              "[5 rows x 9 columns]"
            ]
          },
          "metadata": {},
          "execution_count": 121
        }
      ]
    },
    {
      "cell_type": "code",
      "metadata": {
        "colab": {
          "base_uri": "https://localhost:8080/",
          "height": 238
        },
        "id": "4QR5TvZuNNZw",
        "outputId": "21493a5c-d2bf-4350-edb4-40a49211d249"
      },
      "source": [
        "# Create new July Dataframe\n",
        "\n",
        "july_new_df = july_df[july_top_mi]\n",
        "print(f'New July-DF shape is: {july_new_df.shape}\\n')\n",
        "july_new_df.head()"
      ],
      "execution_count": 122,
      "outputs": [
        {
          "output_type": "stream",
          "name": "stdout",
          "text": [
            "New July-DF shape is: (8809, 8)\n",
            "\n"
          ]
        },
        {
          "output_type": "execute_result",
          "data": {
            "text/html": [
              "<div>\n",
              "<style scoped>\n",
              "    .dataframe tbody tr th:only-of-type {\n",
              "        vertical-align: middle;\n",
              "    }\n",
              "\n",
              "    .dataframe tbody tr th {\n",
              "        vertical-align: top;\n",
              "    }\n",
              "\n",
              "    .dataframe thead th {\n",
              "        text-align: right;\n",
              "    }\n",
              "</style>\n",
              "<table border=\"1\" class=\"dataframe\">\n",
              "  <thead>\n",
              "    <tr style=\"text-align: right;\">\n",
              "      <th></th>\n",
              "      <th>fraud_volume_usd</th>\n",
              "      <th>merchant_id</th>\n",
              "      <th>otp_fraud</th>\n",
              "      <th>transaction_volume_usd</th>\n",
              "      <th>merchant_category</th>\n",
              "      <th>merchant_industry</th>\n",
              "      <th>transaction_week_start_date</th>\n",
              "      <th>fraud_count</th>\n",
              "    </tr>\n",
              "  </thead>\n",
              "  <tbody>\n",
              "    <tr>\n",
              "      <th>0</th>\n",
              "      <td>0.0</td>\n",
              "      <td>1</td>\n",
              "      <td>0</td>\n",
              "      <td>54.173228</td>\n",
              "      <td>e-Commerce</td>\n",
              "      <td>GOODS-PHYSICAL</td>\n",
              "      <td>2021-07-05</td>\n",
              "      <td>0</td>\n",
              "    </tr>\n",
              "    <tr>\n",
              "      <th>1</th>\n",
              "      <td>0.0</td>\n",
              "      <td>5</td>\n",
              "      <td>0</td>\n",
              "      <td>486.712598</td>\n",
              "      <td>Other</td>\n",
              "      <td>SERVICES-LEGAL</td>\n",
              "      <td>2021-07-05</td>\n",
              "      <td>0</td>\n",
              "    </tr>\n",
              "    <tr>\n",
              "      <th>2</th>\n",
              "      <td>0.0</td>\n",
              "      <td>8</td>\n",
              "      <td>0</td>\n",
              "      <td>118.110236</td>\n",
              "      <td>Travel &amp; Hospitality</td>\n",
              "      <td>TRAVEL</td>\n",
              "      <td>2021-07-05</td>\n",
              "      <td>0</td>\n",
              "    </tr>\n",
              "    <tr>\n",
              "      <th>3</th>\n",
              "      <td>0.0</td>\n",
              "      <td>9</td>\n",
              "      <td>0</td>\n",
              "      <td>151.968504</td>\n",
              "      <td>Other</td>\n",
              "      <td>SERVICES-PROFESSIONAL</td>\n",
              "      <td>2021-07-05</td>\n",
              "      <td>0</td>\n",
              "    </tr>\n",
              "    <tr>\n",
              "      <th>4</th>\n",
              "      <td>0.0</td>\n",
              "      <td>12</td>\n",
              "      <td>0</td>\n",
              "      <td>659.055118</td>\n",
              "      <td>Financial Services</td>\n",
              "      <td>SERVICES-DIGITAL</td>\n",
              "      <td>2021-07-05</td>\n",
              "      <td>0</td>\n",
              "    </tr>\n",
              "  </tbody>\n",
              "</table>\n",
              "</div>"
            ],
            "text/plain": [
              "   fraud_volume_usd  merchant_id  ...  transaction_week_start_date  fraud_count\n",
              "0               0.0            1  ...                   2021-07-05            0\n",
              "1               0.0            5  ...                   2021-07-05            0\n",
              "2               0.0            8  ...                   2021-07-05            0\n",
              "3               0.0            9  ...                   2021-07-05            0\n",
              "4               0.0           12  ...                   2021-07-05            0\n",
              "\n",
              "[5 rows x 8 columns]"
            ]
          },
          "metadata": {},
          "execution_count": 122
        }
      ]
    },
    {
      "cell_type": "markdown",
      "metadata": {
        "id": "VA2ATEcBXJJh"
      },
      "source": [
        "### 7. Analyzing Weekly Fraud Trends:\n",
        "Trying to identify weeks where Fraud is high to check if there are possible social reasons for that."
      ]
    },
    {
      "cell_type": "code",
      "metadata": {
        "id": "1RPUu1B3YmmO"
      },
      "source": [
        "june_weeks = list(june_new_df.transaction_week_start_date.unique())\n",
        "july_weeks = list(july_new_df.transaction_week_start_date.unique())"
      ],
      "execution_count": 123,
      "outputs": []
    },
    {
      "cell_type": "code",
      "metadata": {
        "colab": {
          "base_uri": "https://localhost:8080/"
        },
        "id": "vqGaoNsnunDW",
        "outputId": "a1aadbbd-2e0f-4186-9967-015fbd2650bd"
      },
      "source": [
        "print(f'June unique weeks:\\n{june_weeks}\\nJuly unique weeks:\\n{july_weeks}')"
      ],
      "execution_count": 124,
      "outputs": [
        {
          "output_type": "stream",
          "name": "stdout",
          "text": [
            "June unique weeks:\n",
            "[numpy.datetime64('2021-06-07T00:00:00.000000000'), numpy.datetime64('2021-06-14T00:00:00.000000000'), numpy.datetime64('2021-06-21T00:00:00.000000000'), numpy.datetime64('2021-06-28T00:00:00.000000000')]\n",
            "July unique weeks:\n",
            "[numpy.datetime64('2021-07-05T00:00:00.000000000'), numpy.datetime64('2021-07-12T00:00:00.000000000'), numpy.datetime64('2021-07-19T00:00:00.000000000'), numpy.datetime64('2021-07-26T00:00:00.000000000')]\n"
          ]
        }
      ]
    },
    {
      "cell_type": "code",
      "metadata": {
        "id": "0q3E3qaaav0Q"
      },
      "source": [
        "def get_weekly_fraud_and_transaction_counts(weeks_list, df1, df2, cols):\n",
        "    \"\"\"Function to create Series of\n",
        "        total fraud and transaction counts per-week\n",
        "    \n",
        "    @param weeks_list: A list of lists for each month,\n",
        "    @param df1 and df2: June and July new Dataframes,\n",
        "    @param cols: List of strings of column names\n",
        "    @return: Two Series objects\n",
        "    \"\"\"\n",
        "    indexs = []\n",
        "    fraud_count = []\n",
        "    trans_count = []\n",
        "    i, j = 0, 0\n",
        "\n",
        "    for week in weeks_list:\n",
        "        if weeks_list.index(week) == 0:\n",
        "            for wk in week:\n",
        "                i+=1\n",
        "                indexs.append('Jun_W'+str(i))\n",
        "                temp_df = df1[df1[cols[0]] == wk]\n",
        "                fraud_count.append(sum(temp_df[cols[1]]))\n",
        "                trans_count.append(sum(temp_df[cols[2]]))\n",
        "        else:\n",
        "            for wk in week:\n",
        "                j+=1\n",
        "                indexs.append('Jul_W'+str(j))\n",
        "                temp_df = df2[df2[cols[0]] == wk]\n",
        "                fraud_count.append(sum(temp_df[cols[1]]))\n",
        "                trans_count.append(sum(temp_df[cols[2]]))\n",
        "\n",
        "    serie1 = pd.Series(fraud_count, index=indexs, name='Weekly Fraud Count')\n",
        "    serie2 = pd.Series(trans_count, index=indexs, name='Weekly Transaction Count')\n",
        "\n",
        "    return serie1, serie2"
      ],
      "execution_count": 125,
      "outputs": []
    },
    {
      "cell_type": "code",
      "metadata": {
        "id": "wm53pLGUZoDI"
      },
      "source": [
        "weeks_list = [june_weeks, july_weeks]\n",
        "df1 = june_df\n",
        "df2 = july_df\n",
        "cols = ['transaction_week_start_date', 'fraud_count', 'transaction_count']\n",
        "\n",
        "weekly_fraud_count, weekly_transact_count = get_weekly_fraud_and_transaction_counts(weeks_list, df1, df2, cols)"
      ],
      "execution_count": 126,
      "outputs": []
    },
    {
      "cell_type": "code",
      "metadata": {
        "colab": {
          "base_uri": "https://localhost:8080/"
        },
        "id": "xWXIfwJSj4KK",
        "outputId": "28d79b8a-e97a-4426-fbec-dfbdd6374de6"
      },
      "source": [
        "weekly_fraud_count"
      ],
      "execution_count": 127,
      "outputs": [
        {
          "output_type": "execute_result",
          "data": {
            "text/plain": [
              "Jun_W1    256\n",
              "Jun_W2    284\n",
              "Jun_W3    182\n",
              "Jun_W4    211\n",
              "Jul_W1    112\n",
              "Jul_W2    109\n",
              "Jul_W3     70\n",
              "Jul_W4    100\n",
              "Name: Weekly Fraud Count, dtype: int64"
            ]
          },
          "metadata": {},
          "execution_count": 127
        }
      ]
    },
    {
      "cell_type": "code",
      "metadata": {
        "colab": {
          "base_uri": "https://localhost:8080/"
        },
        "id": "jHvzCnQVp9vQ",
        "outputId": "313d6d79-a891-49d0-fa8c-bea974cbecb4"
      },
      "source": [
        "weekly_transact_count"
      ],
      "execution_count": 128,
      "outputs": [
        {
          "output_type": "execute_result",
          "data": {
            "text/plain": [
              "Jun_W1     997735\n",
              "Jun_W2    1064033\n",
              "Jun_W3    1073565\n",
              "Jun_W4    1042017\n",
              "Jul_W1    1030233\n",
              "Jul_W2     965332\n",
              "Jul_W3     978273\n",
              "Jul_W4    1015426\n",
              "Name: Weekly Transaction Count, dtype: int64"
            ]
          },
          "metadata": {},
          "execution_count": 128
        }
      ]
    },
    {
      "cell_type": "markdown",
      "metadata": {
        "id": "_ck2gIlhnNWB"
      },
      "source": [
        "Let's plot the weekly fraud trends..."
      ]
    },
    {
      "cell_type": "code",
      "metadata": {
        "id": "FyUFl-wtqPUt"
      },
      "source": [
        "def plot_weekly_trends(s1, s2):\n",
        "    \"\"\"Method for plotting weekly fraud data\n",
        "    \"\"\"\n",
        "\n",
        "    font = {'family': 'serif',\n",
        "        'color':  'darkred',\n",
        "        'weight': 'bold',\n",
        "        'size': 16}\n",
        "\n",
        "    plt.figure(figsize=(24,6))\n",
        "\n",
        "    plt.subplot(1,2,1)\n",
        "    plt.plot(s1)\n",
        "    plt.xlabel('Week', fontdict=font)\n",
        "    plt.ylabel('Count', fontdict=font)\n",
        "    font['size'] = 20\n",
        "    plt.title(s1.name, fontdict=font)\n",
        "\n",
        "    plt.subplot(1,2,2)\n",
        "    plt.bar(x=s2.index, height=list(s2))\n",
        "    plt.title(s2.name, fontdict=font)\n",
        "    font['size'] = 16\n",
        "    plt.xlabel('Week', fontdict=font)\n",
        "    plt.ylabel('Count', fontdict=font)\n",
        "\n",
        "    plt.show()"
      ],
      "execution_count": 129,
      "outputs": []
    },
    {
      "cell_type": "code",
      "metadata": {
        "colab": {
          "base_uri": "https://localhost:8080/",
          "height": 375
        },
        "id": "GzXamuTkwTAM",
        "outputId": "63dee082-efa5-486b-96df-5350623ef510"
      },
      "source": [
        "s1 = weekly_fraud_count\n",
        "s2 = weekly_transact_count\n",
        "\n",
        "plot_weekly_trends(s1, s2)"
      ],
      "execution_count": 130,
      "outputs": [
        {
          "output_type": "display_data",
          "data": {
            "image/png": "[encoded data removed]",
            "text/plain": [
              "<Figure size 1728x432 with 2 Axes>"
            ]
          },
          "metadata": {}
        }
      ]
    },
    {
      "cell_type": "markdown",
      "metadata": {
        "id": "bniwB7W1oIIJ"
      },
      "source": [
        "From the weekly fraud trend data, we can see that generally, fraud is trending downward. This does not mean it may not trend upward in the future, though, as can be seen in the rise in last week of July.\n",
        "\n",
        "* Fraud starts high at about 250 for June-Wk-1\n",
        "* It increases to about 280 for June-Wk-2\n",
        "* Then it drops to about 180 in June-Wk-3\n",
        "* Then it rises to about 210 in June-Wk-4\n",
        "* And just keeps dropping weekly in July, lowest in July-Wk-3\n",
        "* Starts rising again in July-Wk-4\n",
        "\n",
        "While the weekly transactions count remain fairly constant between 970k and 1.07 million. Therefore, the data does not support the hypothesis that as fewer transactions are done, fewer fraud tends to be done. This is because the rate of fraud tends to decrease week by week, even though fairly same transactions are done. In otherwords, there's a weak correlation if any between weekly fraud count and weekly transactions count."
      ]
    },
    {
      "cell_type": "markdown",
      "metadata": {
        "id": "fwlBXMX_vICM"
      },
      "source": [
        "Although correlation does not imply cauation, we can see that:-   \n",
        "* June 14th which marks the start of June-Wk-2 is a national holiday called **democracy-day** in Nigeria\n",
        "* June 20th is Father's day\n",
        "* June 23rd is also a regional holiday in Ebonyi State\n",
        "* Tuesday July 20th and Wednesday July 21st are also public holidays called **id-el-kabir**\n",
        "\n",
        "[source1](https://www.timeanddate.com/holidays/nigeria/), [source2](https://www.officeholidays.com/countries/nigeria/2021)"
      ]
    },
    {
      "cell_type": "markdown",
      "metadata": {
        "id": "_tAOCoEXxy7a"
      },
      "source": [
        "### 7. Drilling down on Fraudulent transactions data:"
      ]
    },
    {
      "cell_type": "code",
      "metadata": {
        "id": "YjNfKh12tQhY",
        "colab": {
          "base_uri": "https://localhost:8080/",
          "height": 241
        },
        "outputId": "8b3f7024-fac0-4af7-b065-997ba00ebd1f"
      },
      "source": [
        "june_fraud_specific = june_new_df[june_new_df.fraud_count > 0]\n",
        "print(f'June Fraud-Specific data shape is: {june_fraud_specific.shape}')\n",
        "\n",
        "june_fraud_specific.head()"
      ],
      "execution_count": 131,
      "outputs": [
        {
          "output_type": "stream",
          "name": "stdout",
          "text": [
            "June Fraud-Specific data shape is: (61, 9)\n"
          ]
        },
        {
          "output_type": "execute_result",
          "data": {
            "text/html": [
              "<div>\n",
              "<style scoped>\n",
              "    .dataframe tbody tr th:only-of-type {\n",
              "        vertical-align: middle;\n",
              "    }\n",
              "\n",
              "    .dataframe tbody tr th {\n",
              "        vertical-align: top;\n",
              "    }\n",
              "\n",
              "    .dataframe thead th {\n",
              "        text-align: right;\n",
              "    }\n",
              "</style>\n",
              "<table border=\"1\" class=\"dataframe\">\n",
              "  <thead>\n",
              "    <tr style=\"text-align: right;\">\n",
              "      <th></th>\n",
              "      <th>fraud_volume_usd</th>\n",
              "      <th>merchant_industry</th>\n",
              "      <th>merchant_id</th>\n",
              "      <th>otp_all_transactions</th>\n",
              "      <th>transaction_volume_usd</th>\n",
              "      <th>otp_fraud</th>\n",
              "      <th>merchant_category</th>\n",
              "      <th>transaction_week_start_date</th>\n",
              "      <th>fraud_count</th>\n",
              "    </tr>\n",
              "  </thead>\n",
              "  <tbody>\n",
              "    <tr>\n",
              "      <th>7</th>\n",
              "      <td>0.787402</td>\n",
              "      <td>SAVINGS</td>\n",
              "      <td>31</td>\n",
              "      <td>2247</td>\n",
              "      <td>1.840269e+06</td>\n",
              "      <td>1</td>\n",
              "      <td>Financial Services</td>\n",
              "      <td>2021-06-07</td>\n",
              "      <td>2</td>\n",
              "    </tr>\n",
              "    <tr>\n",
              "      <th>26</th>\n",
              "      <td>5.511811</td>\n",
              "      <td>CORPORATE</td>\n",
              "      <td>114</td>\n",
              "      <td>3063</td>\n",
              "      <td>2.271184e+05</td>\n",
              "      <td>0</td>\n",
              "      <td>Other</td>\n",
              "      <td>2021-06-07</td>\n",
              "      <td>1</td>\n",
              "    </tr>\n",
              "    <tr>\n",
              "      <th>34</th>\n",
              "      <td>539.212598</td>\n",
              "      <td>BETTING</td>\n",
              "      <td>147</td>\n",
              "      <td>2896</td>\n",
              "      <td>3.563845e+05</td>\n",
              "      <td>3</td>\n",
              "      <td>Betting</td>\n",
              "      <td>2021-06-07</td>\n",
              "      <td>4</td>\n",
              "    </tr>\n",
              "    <tr>\n",
              "      <th>119</th>\n",
              "      <td>18270.393701</td>\n",
              "      <td>BETTING</td>\n",
              "      <td>519</td>\n",
              "      <td>10768</td>\n",
              "      <td>1.850069e+06</td>\n",
              "      <td>11</td>\n",
              "      <td>Betting</td>\n",
              "      <td>2021-06-07</td>\n",
              "      <td>170</td>\n",
              "    </tr>\n",
              "    <tr>\n",
              "      <th>165</th>\n",
              "      <td>1667.296588</td>\n",
              "      <td>LENDING</td>\n",
              "      <td>709</td>\n",
              "      <td>944</td>\n",
              "      <td>2.520734e+05</td>\n",
              "      <td>1</td>\n",
              "      <td>Financial Services</td>\n",
              "      <td>2021-06-07</td>\n",
              "      <td>19</td>\n",
              "    </tr>\n",
              "  </tbody>\n",
              "</table>\n",
              "</div>"
            ],
            "text/plain": [
              "     fraud_volume_usd  ... fraud_count\n",
              "7            0.787402  ...           2\n",
              "26           5.511811  ...           1\n",
              "34         539.212598  ...           4\n",
              "119      18270.393701  ...         170\n",
              "165       1667.296588  ...          19\n",
              "\n",
              "[5 rows x 9 columns]"
            ]
          },
          "metadata": {},
          "execution_count": 131
        }
      ]
    },
    {
      "cell_type": "code",
      "metadata": {
        "colab": {
          "base_uri": "https://localhost:8080/",
          "height": 221
        },
        "id": "SHIPPDoqGWqo",
        "outputId": "5d181bef-fc15-4be3-940b-d0dfc17bf50b"
      },
      "source": [
        "july_fraud_specific = july_new_df[july_new_df.fraud_count > 0]\n",
        "print(f'July Fraud-Specific data shape is: {july_fraud_specific.shape}')\n",
        "\n",
        "july_fraud_specific.head()"
      ],
      "execution_count": 132,
      "outputs": [
        {
          "output_type": "stream",
          "name": "stdout",
          "text": [
            "July Fraud-Specific data shape is: (51, 8)\n"
          ]
        },
        {
          "output_type": "execute_result",
          "data": {
            "text/html": [
              "<div>\n",
              "<style scoped>\n",
              "    .dataframe tbody tr th:only-of-type {\n",
              "        vertical-align: middle;\n",
              "    }\n",
              "\n",
              "    .dataframe tbody tr th {\n",
              "        vertical-align: top;\n",
              "    }\n",
              "\n",
              "    .dataframe thead th {\n",
              "        text-align: right;\n",
              "    }\n",
              "</style>\n",
              "<table border=\"1\" class=\"dataframe\">\n",
              "  <thead>\n",
              "    <tr style=\"text-align: right;\">\n",
              "      <th></th>\n",
              "      <th>fraud_volume_usd</th>\n",
              "      <th>merchant_id</th>\n",
              "      <th>otp_fraud</th>\n",
              "      <th>transaction_volume_usd</th>\n",
              "      <th>merchant_category</th>\n",
              "      <th>merchant_industry</th>\n",
              "      <th>transaction_week_start_date</th>\n",
              "      <th>fraud_count</th>\n",
              "    </tr>\n",
              "  </thead>\n",
              "  <tbody>\n",
              "    <tr>\n",
              "      <th>9</th>\n",
              "      <td>1443.832021</td>\n",
              "      <td>30</td>\n",
              "      <td>1</td>\n",
              "      <td>1.822132e+06</td>\n",
              "      <td>Financial Services</td>\n",
              "      <td>SAVINGS</td>\n",
              "      <td>2021-07-05</td>\n",
              "      <td>10</td>\n",
              "    </tr>\n",
              "    <tr>\n",
              "      <th>36</th>\n",
              "      <td>2.650919</td>\n",
              "      <td>145</td>\n",
              "      <td>0</td>\n",
              "      <td>3.501336e+05</td>\n",
              "      <td>Financial Services</td>\n",
              "      <td>LENDING</td>\n",
              "      <td>2021-07-05</td>\n",
              "      <td>1</td>\n",
              "    </tr>\n",
              "    <tr>\n",
              "      <th>128</th>\n",
              "      <td>8424.934383</td>\n",
              "      <td>486</td>\n",
              "      <td>6</td>\n",
              "      <td>1.784707e+06</td>\n",
              "      <td>Betting</td>\n",
              "      <td>BETTING</td>\n",
              "      <td>2021-07-05</td>\n",
              "      <td>62</td>\n",
              "    </tr>\n",
              "    <tr>\n",
              "      <th>170</th>\n",
              "      <td>3674.540682</td>\n",
              "      <td>659</td>\n",
              "      <td>1</td>\n",
              "      <td>3.140708e+05</td>\n",
              "      <td>Financial Services</td>\n",
              "      <td>LENDING</td>\n",
              "      <td>2021-07-05</td>\n",
              "      <td>14</td>\n",
              "    </tr>\n",
              "    <tr>\n",
              "      <th>292</th>\n",
              "      <td>14.435696</td>\n",
              "      <td>1121</td>\n",
              "      <td>0</td>\n",
              "      <td>4.090563e+04</td>\n",
              "      <td>Betting</td>\n",
              "      <td>BETTING</td>\n",
              "      <td>2021-07-05</td>\n",
              "      <td>2</td>\n",
              "    </tr>\n",
              "  </tbody>\n",
              "</table>\n",
              "</div>"
            ],
            "text/plain": [
              "     fraud_volume_usd  merchant_id  ...  transaction_week_start_date  fraud_count\n",
              "9         1443.832021           30  ...                   2021-07-05           10\n",
              "36           2.650919          145  ...                   2021-07-05            1\n",
              "128       8424.934383          486  ...                   2021-07-05           62\n",
              "170       3674.540682          659  ...                   2021-07-05           14\n",
              "292         14.435696         1121  ...                   2021-07-05            2\n",
              "\n",
              "[5 rows x 8 columns]"
            ]
          },
          "metadata": {},
          "execution_count": 132
        }
      ]
    },
    {
      "cell_type": "markdown",
      "metadata": {
        "id": "YiSiqXY8OOhB"
      },
      "source": [
        "Let's see the distribution of fraud across `merchant_category` for June and July"
      ]
    },
    {
      "cell_type": "code",
      "metadata": {
        "colab": {
          "base_uri": "https://localhost:8080/"
        },
        "id": "YZ2c4t-TMdN6",
        "outputId": "ca1e6288-86cf-46de-dcc2-403d4086a43d"
      },
      "source": [
        "def get_fraud_distribution_per_var(df1, df2, var):\n",
        "    \"\"\"Function to derive fraud distribution per variable\n",
        "        for both June and July datasets.\n",
        "\n",
        "    @param df1 and df2; June and July Dataframes\n",
        "    @param var: The specific categorical variable to split over\n",
        "    @return: Two Series sorted descending\n",
        "    \"\"\"\n",
        "    pass\n"
      ],
      "execution_count": 136,
      "outputs": [
        {
          "output_type": "execute_result",
          "data": {
            "text/plain": [
              "8"
            ]
          },
          "metadata": {},
          "execution_count": 136
        }
      ]
    }
  ]
}