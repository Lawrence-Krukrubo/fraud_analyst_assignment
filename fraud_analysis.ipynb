{
  "nbformat": 4,
  "nbformat_minor": 0,
  "metadata": {
    "colab": {
      "name": "fraud_analysis.ipynb",
      "provenance": [],
      "collapsed_sections": [],
      "authorship_tag": "ABX9TyOXEKhYwWveT9kGsR/h0jjZ",
      "include_colab_link": true
    },
    "kernelspec": {
      "name": "python3",
      "display_name": "Python 3"
    },
    "language_info": {
      "name": "python"
    }
  },
  "cells": [
    {
      "cell_type": "markdown",
      "metadata": {
        "id": "view-in-github",
        "colab_type": "text"
      },
      "source": [
        "<a href=\"https://colab.research.google.com/github/Lawrence-Krukrubo/fraud_analyst_assignment/blob/main/fraud_analysis.ipynb\" target=\"_parent\"><img src=\"https://colab.research.google.com/assets/colab-badge.svg\" alt=\"Open In Colab\"/></a>"
      ]
    },
    {
      "cell_type": "code",
      "metadata": {
        "colab": {
          "base_uri": "https://localhost:8080/"
        },
        "id": "twEScLqe6RH3",
        "outputId": "b9daa42f-85df-4ba8-d449-8b2dae431c39"
      },
      "source": [
        "# First let's mount Google Drive so we can navigate the folders as needed\n",
        "from google.colab import drive\n",
        "drive.mount('/content/gdrive')"
      ],
      "execution_count": 1,
      "outputs": [
        {
          "output_type": "stream",
          "name": "stdout",
          "text": [
            "Mounted at /content/gdrive\n"
          ]
        }
      ]
    },
    {
      "cell_type": "markdown",
      "metadata": {
        "id": "DZ4cai_48dZM"
      },
      "source": [
        "**Let's import some much needed libraries...**"
      ]
    },
    {
      "cell_type": "code",
      "metadata": {
        "colab": {
          "base_uri": "https://localhost:8080/"
        },
        "id": "Wa8gujGQ5yua",
        "outputId": "d705f934-cb33-449e-c515-597ec3529dbb"
      },
      "source": [
        "import os\n",
        "import pandas as pd\n",
        "import numpy as np\n",
        "import matplotlib.pyplot as plt\n",
        "import seaborn as sns\n",
        "import plotly.express as px\n",
        "import plotly.graph_objects as go\n",
        "import xlrd\n",
        "print('done!')"
      ],
      "execution_count": 2,
      "outputs": [
        {
          "output_type": "stream",
          "name": "stdout",
          "text": [
            "done!\n"
          ]
        }
      ]
    },
    {
      "cell_type": "markdown",
      "metadata": {
        "id": "4ewL2RK07xdy"
      },
      "source": [
        "**Let's change our Directory to the Fraud directory containing our data**"
      ]
    },
    {
      "cell_type": "code",
      "metadata": {
        "colab": {
          "base_uri": "https://localhost:8080/"
        },
        "id": "b1lzL6id5851",
        "outputId": "30f5cd8c-4ff6-457d-f1d2-f54b5281ccaf"
      },
      "source": [
        "FRAUD_DIR = '/content/gdrive/MyDrive/Colab_Notebooks/fraud_analyst_assignment'\n",
        "os.chdir(FRAUD_DIR)\n",
        "print(f'Current Dir: {os.getcwd()}')"
      ],
      "execution_count": 3,
      "outputs": [
        {
          "output_type": "stream",
          "name": "stdout",
          "text": [
            "Current Dir: /content/gdrive/MyDrive/Colab_Notebooks/fraud_analyst_assignment\n"
          ]
        }
      ]
    },
    {
      "cell_type": "code",
      "metadata": {
        "colab": {
          "base_uri": "https://localhost:8080/"
        },
        "id": "M9wIfqEC8Nf2",
        "outputId": "0b7680cd-6f56-4d49-cd52-843126fda98e"
      },
      "source": [
        "# Let's see the contents of the CWD\n",
        "os.listdir()"
      ],
      "execution_count": 4,
      "outputs": [
        {
          "output_type": "execute_result",
          "data": {
            "text/plain": [
              "['fraud_analysis.ipynb', 'Fraud_sample_data.xlsx', 'questionsAndPoints.gdoc']"
            ]
          },
          "metadata": {},
          "execution_count": 4
        }
      ]
    },
    {
      "cell_type": "markdown",
      "metadata": {
        "id": "TuLh8cJY89yb"
      },
      "source": [
        "The dataset contains 3 sheets, the first at index 0 is the data dictionary, the remaining two at indexes 1 and 2 are June and July transactions respectively.<br>**Let's read out the data dictionary to guide us**"
      ]
    },
    {
      "cell_type": "code",
      "metadata": {
        "colab": {
          "base_uri": "https://localhost:8080/",
          "height": 452
        },
        "id": "hpHepISY9ZN6",
        "outputId": "8700d8af-c962-47be-bf93-5e975e7345c8"
      },
      "source": [
        "pd.set_option('max_colwidth', None)  # So that we see full field descriptions\n",
        "data_dict = pd.read_excel('Fraud_sample_data.xlsx', sheet_name=0)\n",
        "data_dict"
      ],
      "execution_count": 5,
      "outputs": [
        {
          "output_type": "execute_result",
          "data": {
            "text/html": [
              "<div>\n",
              "<style scoped>\n",
              "    .dataframe tbody tr th:only-of-type {\n",
              "        vertical-align: middle;\n",
              "    }\n",
              "\n",
              "    .dataframe tbody tr th {\n",
              "        vertical-align: top;\n",
              "    }\n",
              "\n",
              "    .dataframe thead th {\n",
              "        text-align: right;\n",
              "    }\n",
              "</style>\n",
              "<table border=\"1\" class=\"dataframe\">\n",
              "  <thead>\n",
              "    <tr style=\"text-align: right;\">\n",
              "      <th></th>\n",
              "      <th>Field name</th>\n",
              "      <th>Field description</th>\n",
              "    </tr>\n",
              "  </thead>\n",
              "  <tbody>\n",
              "    <tr>\n",
              "      <th>0</th>\n",
              "      <td>merchant_id</td>\n",
              "      <td>Randomly generated identifier to represent a merchant</td>\n",
              "    </tr>\n",
              "    <tr>\n",
              "      <th>1</th>\n",
              "      <td>merchant_industry</td>\n",
              "      <td>Industry in which the merchant operates</td>\n",
              "    </tr>\n",
              "    <tr>\n",
              "      <th>2</th>\n",
              "      <td>merchant_category</td>\n",
              "      <td>Business category of the merchant</td>\n",
              "    </tr>\n",
              "    <tr>\n",
              "      <th>3</th>\n",
              "      <td>merchant_country</td>\n",
              "      <td>The country in which the merchant is based</td>\n",
              "    </tr>\n",
              "    <tr>\n",
              "      <th>4</th>\n",
              "      <td>currency</td>\n",
              "      <td>The local currency the transcation was processed in</td>\n",
              "    </tr>\n",
              "    <tr>\n",
              "      <th>5</th>\n",
              "      <td>transaction_week_start_date</td>\n",
              "      <td>Week in which the transaction occured</td>\n",
              "    </tr>\n",
              "    <tr>\n",
              "      <th>6</th>\n",
              "      <td>channel</td>\n",
              "      <td>The payment method for the transaction</td>\n",
              "    </tr>\n",
              "    <tr>\n",
              "      <th>7</th>\n",
              "      <td>transaction_count</td>\n",
              "      <td>The number of transactions for the day</td>\n",
              "    </tr>\n",
              "    <tr>\n",
              "      <th>8</th>\n",
              "      <td>transaction_volume_usd</td>\n",
              "      <td>The total value of the transactions converted to USD</td>\n",
              "    </tr>\n",
              "    <tr>\n",
              "      <th>9</th>\n",
              "      <td>fraud_count</td>\n",
              "      <td>The number of transactions which were reported as fraudulent for the day</td>\n",
              "    </tr>\n",
              "    <tr>\n",
              "      <th>10</th>\n",
              "      <td>fraud_volume_usd</td>\n",
              "      <td>The total value of the transactions which were reported as fraudulent converted to USD</td>\n",
              "    </tr>\n",
              "    <tr>\n",
              "      <th>11</th>\n",
              "      <td>otp_fraud</td>\n",
              "      <td>The number of fraudulent transactions which were authenticated using a one time pin</td>\n",
              "    </tr>\n",
              "    <tr>\n",
              "      <th>12</th>\n",
              "      <td>otp_all_transactions</td>\n",
              "      <td>The number of total transactions which were authenticated using a one time pin</td>\n",
              "    </tr>\n",
              "  </tbody>\n",
              "</table>\n",
              "</div>"
            ],
            "text/plain": [
              "                     Field name                                                                       Field description\n",
              "0                   merchant_id                                   Randomly generated identifier to represent a merchant\n",
              "1             merchant_industry                                                 Industry in which the merchant operates\n",
              "2             merchant_category                                                       Business category of the merchant\n",
              "3              merchant_country                                              The country in which the merchant is based\n",
              "4                      currency                                    The local currency the transcation was processed in \n",
              "5   transaction_week_start_date                                                   Week in which the transaction occured\n",
              "6                       channel                                                  The payment method for the transaction\n",
              "7             transaction_count                                                  The number of transactions for the day\n",
              "8        transaction_volume_usd                                    The total value of the transactions converted to USD\n",
              "9                   fraud_count                The number of transactions which were reported as fraudulent for the day\n",
              "10             fraud_volume_usd  The total value of the transactions which were reported as fraudulent converted to USD\n",
              "11                    otp_fraud     The number of fraudulent transactions which were authenticated using a one time pin\n",
              "12         otp_all_transactions          The number of total transactions which were authenticated using a one time pin"
            ]
          },
          "metadata": {},
          "execution_count": 5
        }
      ]
    },
    {
      "cell_type": "markdown",
      "metadata": {
        "id": "qlUY6V-j-xSE"
      },
      "source": [
        "**Now, let's read in the respective data for the months of June and July...**"
      ]
    },
    {
      "cell_type": "code",
      "metadata": {
        "colab": {
          "base_uri": "https://localhost:8080/"
        },
        "id": "LJP6cV6d582u",
        "outputId": "0d51e4b2-eccc-4ea6-c1eb-1c82c77856f7"
      },
      "source": [
        "# For June transactions\n",
        "june_df = pd.read_excel('Fraud_sample_data.xlsx', sheet_name=1)\n",
        "\n",
        "# For July transactions\n",
        "july_df = pd.read_excel('Fraud_sample_data.xlsx', sheet_name=2)\n",
        "print('done!')"
      ],
      "execution_count": 6,
      "outputs": [
        {
          "output_type": "stream",
          "name": "stdout",
          "text": [
            "done!\n"
          ]
        }
      ]
    },
    {
      "cell_type": "code",
      "metadata": {
        "colab": {
          "base_uri": "https://localhost:8080/"
        },
        "id": "lFrxsTiz_s_1",
        "outputId": "61b9a95b-60de-4ab8-c82a-c1ca71989142"
      },
      "source": [
        "# Let's see the june and july data shapes\n",
        "print(f'June data shape: {june_df.shape}\\nJuly data shape: {july_df.shape}\\n')"
      ],
      "execution_count": 7,
      "outputs": [
        {
          "output_type": "stream",
          "name": "stdout",
          "text": [
            "June data shape: (8609, 13)\n",
            "July data shape: (8809, 13)\n",
            "\n"
          ]
        }
      ]
    },
    {
      "cell_type": "markdown",
      "metadata": {
        "id": "cG9TLuEGAV4n"
      },
      "source": [
        "We can see that July transactions have more observations than June, precisely 200 more.<br>But they both have the same dimensions of 13 features. Let's see the head and tail of June."
      ]
    },
    {
      "cell_type": "code",
      "metadata": {
        "colab": {
          "base_uri": "https://localhost:8080/",
          "height": 241
        },
        "id": "LwoDtCAKAU5y",
        "outputId": "8595688f-fd66-4d1b-d591-14021d2c8486"
      },
      "source": [
        "june_df.head()"
      ],
      "execution_count": 8,
      "outputs": [
        {
          "output_type": "execute_result",
          "data": {
            "text/html": [
              "<div>\n",
              "<style scoped>\n",
              "    .dataframe tbody tr th:only-of-type {\n",
              "        vertical-align: middle;\n",
              "    }\n",
              "\n",
              "    .dataframe tbody tr th {\n",
              "        vertical-align: top;\n",
              "    }\n",
              "\n",
              "    .dataframe thead th {\n",
              "        text-align: right;\n",
              "    }\n",
              "</style>\n",
              "<table border=\"1\" class=\"dataframe\">\n",
              "  <thead>\n",
              "    <tr style=\"text-align: right;\">\n",
              "      <th></th>\n",
              "      <th>merchant_id</th>\n",
              "      <th>merchant_industry</th>\n",
              "      <th>merchant_category</th>\n",
              "      <th>merchant_country</th>\n",
              "      <th>currency</th>\n",
              "      <th>transaction_week_start_date</th>\n",
              "      <th>channel</th>\n",
              "      <th>transaction_count</th>\n",
              "      <th>transaction_volume_usd</th>\n",
              "      <th>fraud_count</th>\n",
              "      <th>fraud_volume_usd</th>\n",
              "      <th>otp_fraud</th>\n",
              "      <th>otp_all_transactions</th>\n",
              "    </tr>\n",
              "  </thead>\n",
              "  <tbody>\n",
              "    <tr>\n",
              "      <th>0</th>\n",
              "      <td>1</td>\n",
              "      <td>GOODS-PHYSICAL</td>\n",
              "      <td>e-Commerce</td>\n",
              "      <td>Nigeria</td>\n",
              "      <td>NGN</td>\n",
              "      <td>2021-06-07</td>\n",
              "      <td>card</td>\n",
              "      <td>5</td>\n",
              "      <td>231.590551</td>\n",
              "      <td>0</td>\n",
              "      <td>NaN</td>\n",
              "      <td>0</td>\n",
              "      <td>5</td>\n",
              "    </tr>\n",
              "    <tr>\n",
              "      <th>1</th>\n",
              "      <td>5</td>\n",
              "      <td>SERVICES-LEGAL</td>\n",
              "      <td>Other</td>\n",
              "      <td>Nigeria</td>\n",
              "      <td>NGN</td>\n",
              "      <td>2021-06-07</td>\n",
              "      <td>card</td>\n",
              "      <td>2</td>\n",
              "      <td>210.203412</td>\n",
              "      <td>0</td>\n",
              "      <td>NaN</td>\n",
              "      <td>0</td>\n",
              "      <td>2</td>\n",
              "    </tr>\n",
              "    <tr>\n",
              "      <th>2</th>\n",
              "      <td>9</td>\n",
              "      <td>TRAVEL</td>\n",
              "      <td>Travel &amp; Hospitality</td>\n",
              "      <td>Nigeria</td>\n",
              "      <td>NGN</td>\n",
              "      <td>2021-06-07</td>\n",
              "      <td>card</td>\n",
              "      <td>4</td>\n",
              "      <td>223.097113</td>\n",
              "      <td>0</td>\n",
              "      <td>NaN</td>\n",
              "      <td>0</td>\n",
              "      <td>1</td>\n",
              "    </tr>\n",
              "    <tr>\n",
              "      <th>3</th>\n",
              "      <td>11</td>\n",
              "      <td>SERVICES-PROFESSIONAL</td>\n",
              "      <td>Other</td>\n",
              "      <td>Nigeria</td>\n",
              "      <td>NGN</td>\n",
              "      <td>2021-06-07</td>\n",
              "      <td>card</td>\n",
              "      <td>5</td>\n",
              "      <td>212.335958</td>\n",
              "      <td>0</td>\n",
              "      <td>NaN</td>\n",
              "      <td>0</td>\n",
              "      <td>5</td>\n",
              "    </tr>\n",
              "    <tr>\n",
              "      <th>4</th>\n",
              "      <td>15</td>\n",
              "      <td>SERVICES-DIGITAL</td>\n",
              "      <td>Digital Services</td>\n",
              "      <td>Nigeria</td>\n",
              "      <td>NGN</td>\n",
              "      <td>2021-06-07</td>\n",
              "      <td>card</td>\n",
              "      <td>8</td>\n",
              "      <td>550.131234</td>\n",
              "      <td>0</td>\n",
              "      <td>NaN</td>\n",
              "      <td>0</td>\n",
              "      <td>8</td>\n",
              "    </tr>\n",
              "  </tbody>\n",
              "</table>\n",
              "</div>"
            ],
            "text/plain": [
              "   merchant_id      merchant_industry  ... otp_fraud otp_all_transactions\n",
              "0            1         GOODS-PHYSICAL  ...         0                    5\n",
              "1            5         SERVICES-LEGAL  ...         0                    2\n",
              "2            9                 TRAVEL  ...         0                    1\n",
              "3           11  SERVICES-PROFESSIONAL  ...         0                    5\n",
              "4           15       SERVICES-DIGITAL  ...         0                    8\n",
              "\n",
              "[5 rows x 13 columns]"
            ]
          },
          "metadata": {},
          "execution_count": 8
        }
      ]
    },
    {
      "cell_type": "code",
      "metadata": {
        "colab": {
          "base_uri": "https://localhost:8080/",
          "height": 224
        },
        "id": "zQjide-lAsy0",
        "outputId": "8a927f5b-c779-47a8-9310-0fc3c837a418"
      },
      "source": [
        "june_df.tail()"
      ],
      "execution_count": 9,
      "outputs": [
        {
          "output_type": "execute_result",
          "data": {
            "text/html": [
              "<div>\n",
              "<style scoped>\n",
              "    .dataframe tbody tr th:only-of-type {\n",
              "        vertical-align: middle;\n",
              "    }\n",
              "\n",
              "    .dataframe tbody tr th {\n",
              "        vertical-align: top;\n",
              "    }\n",
              "\n",
              "    .dataframe thead th {\n",
              "        text-align: right;\n",
              "    }\n",
              "</style>\n",
              "<table border=\"1\" class=\"dataframe\">\n",
              "  <thead>\n",
              "    <tr style=\"text-align: right;\">\n",
              "      <th></th>\n",
              "      <th>merchant_id</th>\n",
              "      <th>merchant_industry</th>\n",
              "      <th>merchant_category</th>\n",
              "      <th>merchant_country</th>\n",
              "      <th>currency</th>\n",
              "      <th>transaction_week_start_date</th>\n",
              "      <th>channel</th>\n",
              "      <th>transaction_count</th>\n",
              "      <th>transaction_volume_usd</th>\n",
              "      <th>fraud_count</th>\n",
              "      <th>fraud_volume_usd</th>\n",
              "      <th>otp_fraud</th>\n",
              "      <th>otp_all_transactions</th>\n",
              "    </tr>\n",
              "  </thead>\n",
              "  <tbody>\n",
              "    <tr>\n",
              "      <th>8604</th>\n",
              "      <td>8605</td>\n",
              "      <td>INTERNET</td>\n",
              "      <td>Utilities</td>\n",
              "      <td>Nigeria</td>\n",
              "      <td>NGN</td>\n",
              "      <td>2021-06-28</td>\n",
              "      <td>card</td>\n",
              "      <td>1</td>\n",
              "      <td>2.624672</td>\n",
              "      <td>0</td>\n",
              "      <td>NaN</td>\n",
              "      <td>0</td>\n",
              "      <td>1</td>\n",
              "    </tr>\n",
              "    <tr>\n",
              "      <th>8605</th>\n",
              "      <td>8606</td>\n",
              "      <td>GOODS-DIGITAL</td>\n",
              "      <td>Digital Services</td>\n",
              "      <td>Nigeria</td>\n",
              "      <td>NGN</td>\n",
              "      <td>2021-06-28</td>\n",
              "      <td>card</td>\n",
              "      <td>1</td>\n",
              "      <td>0.262467</td>\n",
              "      <td>0</td>\n",
              "      <td>NaN</td>\n",
              "      <td>0</td>\n",
              "      <td>1</td>\n",
              "    </tr>\n",
              "    <tr>\n",
              "      <th>8606</th>\n",
              "      <td>8607</td>\n",
              "      <td>SERVICES-DIGITAL</td>\n",
              "      <td>Digital Services</td>\n",
              "      <td>Nigeria</td>\n",
              "      <td>NGN</td>\n",
              "      <td>2021-06-28</td>\n",
              "      <td>card</td>\n",
              "      <td>3</td>\n",
              "      <td>15.748031</td>\n",
              "      <td>0</td>\n",
              "      <td>NaN</td>\n",
              "      <td>0</td>\n",
              "      <td>3</td>\n",
              "    </tr>\n",
              "    <tr>\n",
              "      <th>8607</th>\n",
              "      <td>8608</td>\n",
              "      <td>EVENTS</td>\n",
              "      <td>Travel &amp; Hospitality</td>\n",
              "      <td>Nigeria</td>\n",
              "      <td>NGN</td>\n",
              "      <td>2021-06-28</td>\n",
              "      <td>card</td>\n",
              "      <td>2</td>\n",
              "      <td>0.656168</td>\n",
              "      <td>0</td>\n",
              "      <td>NaN</td>\n",
              "      <td>0</td>\n",
              "      <td>2</td>\n",
              "    </tr>\n",
              "    <tr>\n",
              "      <th>8608</th>\n",
              "      <td>8609</td>\n",
              "      <td>INTERNET</td>\n",
              "      <td>Utilities</td>\n",
              "      <td>Nigeria</td>\n",
              "      <td>NGN</td>\n",
              "      <td>2021-06-28</td>\n",
              "      <td>card</td>\n",
              "      <td>1</td>\n",
              "      <td>0.262467</td>\n",
              "      <td>0</td>\n",
              "      <td>NaN</td>\n",
              "      <td>0</td>\n",
              "      <td>1</td>\n",
              "    </tr>\n",
              "  </tbody>\n",
              "</table>\n",
              "</div>"
            ],
            "text/plain": [
              "      merchant_id merchant_industry  ... otp_fraud otp_all_transactions\n",
              "8604         8605          INTERNET  ...         0                    1\n",
              "8605         8606     GOODS-DIGITAL  ...         0                    1\n",
              "8606         8607  SERVICES-DIGITAL  ...         0                    3\n",
              "8607         8608            EVENTS  ...         0                    2\n",
              "8608         8609          INTERNET  ...         0                    1\n",
              "\n",
              "[5 rows x 13 columns]"
            ]
          },
          "metadata": {},
          "execution_count": 9
        }
      ]
    },
    {
      "cell_type": "markdown",
      "metadata": {
        "id": "MFjFSdr_BMhT"
      },
      "source": [
        "**Let's see the head and tail of July**"
      ]
    },
    {
      "cell_type": "code",
      "metadata": {
        "colab": {
          "base_uri": "https://localhost:8080/",
          "height": 241
        },
        "id": "KuTDOR8RBPri",
        "outputId": "0e7b46ba-8582-4191-db0b-e20ac3977479"
      },
      "source": [
        "july_df.head()"
      ],
      "execution_count": 10,
      "outputs": [
        {
          "output_type": "execute_result",
          "data": {
            "text/html": [
              "<div>\n",
              "<style scoped>\n",
              "    .dataframe tbody tr th:only-of-type {\n",
              "        vertical-align: middle;\n",
              "    }\n",
              "\n",
              "    .dataframe tbody tr th {\n",
              "        vertical-align: top;\n",
              "    }\n",
              "\n",
              "    .dataframe thead th {\n",
              "        text-align: right;\n",
              "    }\n",
              "</style>\n",
              "<table border=\"1\" class=\"dataframe\">\n",
              "  <thead>\n",
              "    <tr style=\"text-align: right;\">\n",
              "      <th></th>\n",
              "      <th>merchant_id</th>\n",
              "      <th>merchant_industry</th>\n",
              "      <th>merchant_category</th>\n",
              "      <th>merchant_country</th>\n",
              "      <th>currency</th>\n",
              "      <th>transaction_week_start_date</th>\n",
              "      <th>channel</th>\n",
              "      <th>transaction_count</th>\n",
              "      <th>transaction_volume_usd</th>\n",
              "      <th>fraud_count</th>\n",
              "      <th>fraud_volume_usd</th>\n",
              "      <th>otp_fraud</th>\n",
              "      <th>otp_all_transactions</th>\n",
              "    </tr>\n",
              "  </thead>\n",
              "  <tbody>\n",
              "    <tr>\n",
              "      <th>0</th>\n",
              "      <td>1</td>\n",
              "      <td>GOODS-PHYSICAL</td>\n",
              "      <td>e-Commerce</td>\n",
              "      <td>Nigeria</td>\n",
              "      <td>NGN</td>\n",
              "      <td>2021-07-05</td>\n",
              "      <td>card</td>\n",
              "      <td>3</td>\n",
              "      <td>54.173228</td>\n",
              "      <td>0</td>\n",
              "      <td>NaN</td>\n",
              "      <td>0</td>\n",
              "      <td>3</td>\n",
              "    </tr>\n",
              "    <tr>\n",
              "      <th>1</th>\n",
              "      <td>5</td>\n",
              "      <td>SERVICES-LEGAL</td>\n",
              "      <td>Other</td>\n",
              "      <td>Nigeria</td>\n",
              "      <td>NGN</td>\n",
              "      <td>2021-07-05</td>\n",
              "      <td>card</td>\n",
              "      <td>4</td>\n",
              "      <td>486.712598</td>\n",
              "      <td>0</td>\n",
              "      <td>NaN</td>\n",
              "      <td>0</td>\n",
              "      <td>4</td>\n",
              "    </tr>\n",
              "    <tr>\n",
              "      <th>2</th>\n",
              "      <td>8</td>\n",
              "      <td>TRAVEL</td>\n",
              "      <td>Travel &amp; Hospitality</td>\n",
              "      <td>Nigeria</td>\n",
              "      <td>NGN</td>\n",
              "      <td>2021-07-05</td>\n",
              "      <td>card</td>\n",
              "      <td>3</td>\n",
              "      <td>118.110236</td>\n",
              "      <td>0</td>\n",
              "      <td>NaN</td>\n",
              "      <td>0</td>\n",
              "      <td>0</td>\n",
              "    </tr>\n",
              "    <tr>\n",
              "      <th>3</th>\n",
              "      <td>9</td>\n",
              "      <td>SERVICES-PROFESSIONAL</td>\n",
              "      <td>Other</td>\n",
              "      <td>Nigeria</td>\n",
              "      <td>NGN</td>\n",
              "      <td>2021-07-05</td>\n",
              "      <td>card</td>\n",
              "      <td>4</td>\n",
              "      <td>151.968504</td>\n",
              "      <td>0</td>\n",
              "      <td>NaN</td>\n",
              "      <td>0</td>\n",
              "      <td>3</td>\n",
              "    </tr>\n",
              "    <tr>\n",
              "      <th>4</th>\n",
              "      <td>12</td>\n",
              "      <td>SERVICES-DIGITAL</td>\n",
              "      <td>Financial Services</td>\n",
              "      <td>Nigeria</td>\n",
              "      <td>NGN</td>\n",
              "      <td>2021-07-05</td>\n",
              "      <td>card</td>\n",
              "      <td>15</td>\n",
              "      <td>659.055118</td>\n",
              "      <td>0</td>\n",
              "      <td>NaN</td>\n",
              "      <td>0</td>\n",
              "      <td>12</td>\n",
              "    </tr>\n",
              "  </tbody>\n",
              "</table>\n",
              "</div>"
            ],
            "text/plain": [
              "   merchant_id      merchant_industry  ... otp_fraud otp_all_transactions\n",
              "0            1         GOODS-PHYSICAL  ...         0                    3\n",
              "1            5         SERVICES-LEGAL  ...         0                    4\n",
              "2            8                 TRAVEL  ...         0                    0\n",
              "3            9  SERVICES-PROFESSIONAL  ...         0                    3\n",
              "4           12       SERVICES-DIGITAL  ...         0                   12\n",
              "\n",
              "[5 rows x 13 columns]"
            ]
          },
          "metadata": {},
          "execution_count": 10
        }
      ]
    },
    {
      "cell_type": "code",
      "metadata": {
        "colab": {
          "base_uri": "https://localhost:8080/",
          "height": 224
        },
        "id": "AUTfKlYMBSKH",
        "outputId": "11ee1881-d2af-424c-8564-84647bb3ace8"
      },
      "source": [
        "july_df.tail()"
      ],
      "execution_count": 11,
      "outputs": [
        {
          "output_type": "execute_result",
          "data": {
            "text/html": [
              "<div>\n",
              "<style scoped>\n",
              "    .dataframe tbody tr th:only-of-type {\n",
              "        vertical-align: middle;\n",
              "    }\n",
              "\n",
              "    .dataframe tbody tr th {\n",
              "        vertical-align: top;\n",
              "    }\n",
              "\n",
              "    .dataframe thead th {\n",
              "        text-align: right;\n",
              "    }\n",
              "</style>\n",
              "<table border=\"1\" class=\"dataframe\">\n",
              "  <thead>\n",
              "    <tr style=\"text-align: right;\">\n",
              "      <th></th>\n",
              "      <th>merchant_id</th>\n",
              "      <th>merchant_industry</th>\n",
              "      <th>merchant_category</th>\n",
              "      <th>merchant_country</th>\n",
              "      <th>currency</th>\n",
              "      <th>transaction_week_start_date</th>\n",
              "      <th>channel</th>\n",
              "      <th>transaction_count</th>\n",
              "      <th>transaction_volume_usd</th>\n",
              "      <th>fraud_count</th>\n",
              "      <th>fraud_volume_usd</th>\n",
              "      <th>otp_fraud</th>\n",
              "      <th>otp_all_transactions</th>\n",
              "    </tr>\n",
              "  </thead>\n",
              "  <tbody>\n",
              "    <tr>\n",
              "      <th>8804</th>\n",
              "      <td>8805</td>\n",
              "      <td>SERVICES-DIGITAL</td>\n",
              "      <td>Digital Services</td>\n",
              "      <td>Nigeria</td>\n",
              "      <td>NGN</td>\n",
              "      <td>2021-07-26</td>\n",
              "      <td>card</td>\n",
              "      <td>1</td>\n",
              "      <td>0.524934</td>\n",
              "      <td>0</td>\n",
              "      <td>NaN</td>\n",
              "      <td>0</td>\n",
              "      <td>1</td>\n",
              "    </tr>\n",
              "    <tr>\n",
              "      <th>8805</th>\n",
              "      <td>8806</td>\n",
              "      <td>SERVICES-DIGITAL</td>\n",
              "      <td>Digital Services</td>\n",
              "      <td>Nigeria</td>\n",
              "      <td>NGN</td>\n",
              "      <td>2021-07-26</td>\n",
              "      <td>card</td>\n",
              "      <td>1</td>\n",
              "      <td>0.259843</td>\n",
              "      <td>0</td>\n",
              "      <td>NaN</td>\n",
              "      <td>0</td>\n",
              "      <td>1</td>\n",
              "    </tr>\n",
              "    <tr>\n",
              "      <th>8806</th>\n",
              "      <td>8807</td>\n",
              "      <td>SERVICES-DIGITAL</td>\n",
              "      <td>Digital Services</td>\n",
              "      <td>Nigeria</td>\n",
              "      <td>NGN</td>\n",
              "      <td>2021-07-26</td>\n",
              "      <td>card</td>\n",
              "      <td>5</td>\n",
              "      <td>2.624672</td>\n",
              "      <td>0</td>\n",
              "      <td>NaN</td>\n",
              "      <td>0</td>\n",
              "      <td>5</td>\n",
              "    </tr>\n",
              "    <tr>\n",
              "      <th>8807</th>\n",
              "      <td>8808</td>\n",
              "      <td>RESTAURANTS</td>\n",
              "      <td>Travel &amp; Hospitality</td>\n",
              "      <td>Nigeria</td>\n",
              "      <td>NGN</td>\n",
              "      <td>2021-07-26</td>\n",
              "      <td>card</td>\n",
              "      <td>2</td>\n",
              "      <td>1.049869</td>\n",
              "      <td>0</td>\n",
              "      <td>NaN</td>\n",
              "      <td>0</td>\n",
              "      <td>1</td>\n",
              "    </tr>\n",
              "    <tr>\n",
              "      <th>8808</th>\n",
              "      <td>8809</td>\n",
              "      <td>GOODS-PHYSICAL</td>\n",
              "      <td>e-Commerce</td>\n",
              "      <td>Nigeria</td>\n",
              "      <td>NGN</td>\n",
              "      <td>2021-07-26</td>\n",
              "      <td>card</td>\n",
              "      <td>1</td>\n",
              "      <td>1.312336</td>\n",
              "      <td>0</td>\n",
              "      <td>NaN</td>\n",
              "      <td>0</td>\n",
              "      <td>1</td>\n",
              "    </tr>\n",
              "  </tbody>\n",
              "</table>\n",
              "</div>"
            ],
            "text/plain": [
              "      merchant_id merchant_industry  ... otp_fraud otp_all_transactions\n",
              "8804         8805  SERVICES-DIGITAL  ...         0                    1\n",
              "8805         8806  SERVICES-DIGITAL  ...         0                    1\n",
              "8806         8807  SERVICES-DIGITAL  ...         0                    5\n",
              "8807         8808       RESTAURANTS  ...         0                    1\n",
              "8808         8809    GOODS-PHYSICAL  ...         0                    1\n",
              "\n",
              "[5 rows x 13 columns]"
            ]
          },
          "metadata": {},
          "execution_count": 11
        }
      ]
    },
    {
      "cell_type": "markdown",
      "metadata": {
        "id": "KZT5N3P-ByJ-"
      },
      "source": [
        "# Descriptive EDA (DA1):"
      ]
    },
    {
      "cell_type": "markdown",
      "metadata": {
        "id": "fTUib0uaaMR5"
      },
      "source": [
        "**Descriptive analytics (DA1):** <br>is a preliminary stage of data processing that creates a summary of historical data to yield useful information and possibly prepare the data for further analysis. It is used largely to answer the question **[‘What happened?’]**. Querying, reporting, data aggregation, data mining and data visualization may be applied to yield more insight.\n",
        "\n",
        "**Geo-Location-based DA1:**<br>\n",
        "1. What is the distribution of transactions across the 3 countries?\n",
        "2. What is the Fraud/Transactions Ratio per country?\n",
        "\n",
        "**Fraud-related DA1:**<br>\n",
        "3. What is the Max and Mean fraud value for June and July?\n",
        "4. What is the total fraud recorded for June and July?\n",
        "5. Drilling into OTP-Fraud, what’s the Max and Mean values monthly?\n",
        "6. What is the Max and Mean dollar cost of fraud for June and July?\n",
        "7. What is the ratio of fraudulent/non-fraudulent transactions monthly\n",
        "\n",
        "Answering these questions, give us a top-level vision of the state of the transactions and fraudulent activities and their impacts across the 3 countries the business operates in.\n"
      ]
    },
    {
      "cell_type": "markdown",
      "metadata": {
        "id": "1sjS8Yov2HQ3"
      },
      "source": [
        "### 1. Confirming the data-types"
      ]
    },
    {
      "cell_type": "code",
      "metadata": {
        "colab": {
          "base_uri": "https://localhost:8080/"
        },
        "id": "qb2xnZNU1fJc",
        "outputId": "ac8fb071-d653-4a1c-cd34-2ed7b74cb3c2"
      },
      "source": [
        "june_df.info()"
      ],
      "execution_count": 12,
      "outputs": [
        {
          "output_type": "stream",
          "name": "stdout",
          "text": [
            "<class 'pandas.core.frame.DataFrame'>\n",
            "RangeIndex: 8609 entries, 0 to 8608\n",
            "Data columns (total 13 columns):\n",
            " #   Column                       Non-Null Count  Dtype         \n",
            "---  ------                       --------------  -----         \n",
            " 0   merchant_id                  8609 non-null   int64         \n",
            " 1   merchant_industry            8609 non-null   object        \n",
            " 2   merchant_category            8609 non-null   object        \n",
            " 3   merchant_country             8609 non-null   object        \n",
            " 4   currency                     8609 non-null   object        \n",
            " 5   transaction_week_start_date  8609 non-null   datetime64[ns]\n",
            " 6   channel                      8609 non-null   object        \n",
            " 7   transaction_count            8609 non-null   int64         \n",
            " 8   transaction_volume_usd       8609 non-null   float64       \n",
            " 9   fraud_count                  8609 non-null   int64         \n",
            " 10  fraud_volume_usd             61 non-null     float64       \n",
            " 11  otp_fraud                    8609 non-null   int64         \n",
            " 12  otp_all_transactions         8609 non-null   int64         \n",
            "dtypes: datetime64[ns](1), float64(2), int64(5), object(5)\n",
            "memory usage: 874.5+ KB\n"
          ]
        }
      ]
    },
    {
      "cell_type": "code",
      "metadata": {
        "colab": {
          "base_uri": "https://localhost:8080/"
        },
        "id": "NhCzH1ms19su",
        "outputId": "66f1d021-1ae4-45b8-ccf8-d4aa1c8310e3"
      },
      "source": [
        "july_df.info()"
      ],
      "execution_count": 13,
      "outputs": [
        {
          "output_type": "stream",
          "name": "stdout",
          "text": [
            "<class 'pandas.core.frame.DataFrame'>\n",
            "RangeIndex: 8809 entries, 0 to 8808\n",
            "Data columns (total 13 columns):\n",
            " #   Column                       Non-Null Count  Dtype         \n",
            "---  ------                       --------------  -----         \n",
            " 0   merchant_id                  8809 non-null   int64         \n",
            " 1   merchant_industry            8809 non-null   object        \n",
            " 2   merchant_category            8809 non-null   object        \n",
            " 3   merchant_country             8809 non-null   object        \n",
            " 4   currency                     8809 non-null   object        \n",
            " 5   transaction_week_start_date  8809 non-null   datetime64[ns]\n",
            " 6   channel                      8809 non-null   object        \n",
            " 7   transaction_count            8809 non-null   int64         \n",
            " 8   transaction_volume_usd       8809 non-null   float64       \n",
            " 9   fraud_count                  8809 non-null   int64         \n",
            " 10  fraud_volume_usd             51 non-null     float64       \n",
            " 11  otp_fraud                    8809 non-null   int64         \n",
            " 12  otp_all_transactions         8809 non-null   int64         \n",
            "dtypes: datetime64[ns](1), float64(2), int64(5), object(5)\n",
            "memory usage: 894.8+ KB\n"
          ]
        }
      ]
    },
    {
      "cell_type": "markdown",
      "metadata": {
        "id": "F8IVvjpz1xW-"
      },
      "source": [
        "So, we can see the data-types for the months of June and July. They conform to the expected data-types. All columns that should be numeric are and all that should be categorical or object are too."
      ]
    },
    {
      "cell_type": "markdown",
      "metadata": {
        "id": "1qeoT-uByoa9"
      },
      "source": [
        "### 2. Checking the Descriptive Statistics of the data:"
      ]
    },
    {
      "cell_type": "code",
      "metadata": {
        "colab": {
          "base_uri": "https://localhost:8080/",
          "height": 266
        },
        "id": "UAlumWTS1Q_H",
        "outputId": "8808ab80-5992-49d3-bb54-3be69b9fa80b"
      },
      "source": [
        "# For June numeric features\n",
        "\n",
        "june_df.describe().T"
      ],
      "execution_count": 14,
      "outputs": [
        {
          "output_type": "execute_result",
          "data": {
            "text/html": [
              "<div>\n",
              "<style scoped>\n",
              "    .dataframe tbody tr th:only-of-type {\n",
              "        vertical-align: middle;\n",
              "    }\n",
              "\n",
              "    .dataframe tbody tr th {\n",
              "        vertical-align: top;\n",
              "    }\n",
              "\n",
              "    .dataframe thead th {\n",
              "        text-align: right;\n",
              "    }\n",
              "</style>\n",
              "<table border=\"1\" class=\"dataframe\">\n",
              "  <thead>\n",
              "    <tr style=\"text-align: right;\">\n",
              "      <th></th>\n",
              "      <th>count</th>\n",
              "      <th>mean</th>\n",
              "      <th>std</th>\n",
              "      <th>min</th>\n",
              "      <th>25%</th>\n",
              "      <th>50%</th>\n",
              "      <th>75%</th>\n",
              "      <th>max</th>\n",
              "    </tr>\n",
              "  </thead>\n",
              "  <tbody>\n",
              "    <tr>\n",
              "      <th>merchant_id</th>\n",
              "      <td>8609.0</td>\n",
              "      <td>4304.018469</td>\n",
              "      <td>2485.466539</td>\n",
              "      <td>1.000000</td>\n",
              "      <td>2153.000000</td>\n",
              "      <td>4304.000000</td>\n",
              "      <td>6456.000000</td>\n",
              "      <td>8.609000e+03</td>\n",
              "    </tr>\n",
              "    <tr>\n",
              "      <th>transaction_count</th>\n",
              "      <td>8609.0</td>\n",
              "      <td>485.230573</td>\n",
              "      <td>8253.372691</td>\n",
              "      <td>1.000000</td>\n",
              "      <td>1.000000</td>\n",
              "      <td>3.000000</td>\n",
              "      <td>11.000000</td>\n",
              "      <td>2.758660e+05</td>\n",
              "    </tr>\n",
              "    <tr>\n",
              "      <th>transaction_volume_usd</th>\n",
              "      <td>8609.0</td>\n",
              "      <td>7000.276672</td>\n",
              "      <td>73800.550994</td>\n",
              "      <td>0.000026</td>\n",
              "      <td>9.186352</td>\n",
              "      <td>43.307087</td>\n",
              "      <td>236.220472</td>\n",
              "      <td>2.396408e+06</td>\n",
              "    </tr>\n",
              "    <tr>\n",
              "      <th>fraud_count</th>\n",
              "      <td>8609.0</td>\n",
              "      <td>0.108375</td>\n",
              "      <td>3.175327</td>\n",
              "      <td>0.000000</td>\n",
              "      <td>0.000000</td>\n",
              "      <td>0.000000</td>\n",
              "      <td>0.000000</td>\n",
              "      <td>1.700000e+02</td>\n",
              "    </tr>\n",
              "    <tr>\n",
              "      <th>fraud_volume_usd</th>\n",
              "      <td>61.0</td>\n",
              "      <td>1858.473460</td>\n",
              "      <td>4641.861843</td>\n",
              "      <td>0.524934</td>\n",
              "      <td>26.246719</td>\n",
              "      <td>91.338583</td>\n",
              "      <td>539.212598</td>\n",
              "      <td>2.017848e+04</td>\n",
              "    </tr>\n",
              "    <tr>\n",
              "      <th>otp_fraud</th>\n",
              "      <td>8609.0</td>\n",
              "      <td>0.009293</td>\n",
              "      <td>0.265166</td>\n",
              "      <td>0.000000</td>\n",
              "      <td>0.000000</td>\n",
              "      <td>0.000000</td>\n",
              "      <td>0.000000</td>\n",
              "      <td>1.700000e+01</td>\n",
              "    </tr>\n",
              "    <tr>\n",
              "      <th>otp_all_transactions</th>\n",
              "      <td>8609.0</td>\n",
              "      <td>81.615402</td>\n",
              "      <td>589.620590</td>\n",
              "      <td>0.000000</td>\n",
              "      <td>1.000000</td>\n",
              "      <td>2.000000</td>\n",
              "      <td>9.000000</td>\n",
              "      <td>1.222300e+04</td>\n",
              "    </tr>\n",
              "  </tbody>\n",
              "</table>\n",
              "</div>"
            ],
            "text/plain": [
              "                         count         mean  ...          75%           max\n",
              "merchant_id             8609.0  4304.018469  ...  6456.000000  8.609000e+03\n",
              "transaction_count       8609.0   485.230573  ...    11.000000  2.758660e+05\n",
              "transaction_volume_usd  8609.0  7000.276672  ...   236.220472  2.396408e+06\n",
              "fraud_count             8609.0     0.108375  ...     0.000000  1.700000e+02\n",
              "fraud_volume_usd          61.0  1858.473460  ...   539.212598  2.017848e+04\n",
              "otp_fraud               8609.0     0.009293  ...     0.000000  1.700000e+01\n",
              "otp_all_transactions    8609.0    81.615402  ...     9.000000  1.222300e+04\n",
              "\n",
              "[7 rows x 8 columns]"
            ]
          },
          "metadata": {},
          "execution_count": 14
        }
      ]
    },
    {
      "cell_type": "code",
      "metadata": {
        "colab": {
          "base_uri": "https://localhost:8080/",
          "height": 266
        },
        "id": "r9hvVjap1c2g",
        "outputId": "ed04d668-72ac-4ec9-e351-8dfa1e4c50a7"
      },
      "source": [
        "# For July numeric features\n",
        "\n",
        "july_df.describe().T"
      ],
      "execution_count": 15,
      "outputs": [
        {
          "output_type": "execute_result",
          "data": {
            "text/html": [
              "<div>\n",
              "<style scoped>\n",
              "    .dataframe tbody tr th:only-of-type {\n",
              "        vertical-align: middle;\n",
              "    }\n",
              "\n",
              "    .dataframe tbody tr th {\n",
              "        vertical-align: top;\n",
              "    }\n",
              "\n",
              "    .dataframe thead th {\n",
              "        text-align: right;\n",
              "    }\n",
              "</style>\n",
              "<table border=\"1\" class=\"dataframe\">\n",
              "  <thead>\n",
              "    <tr style=\"text-align: right;\">\n",
              "      <th></th>\n",
              "      <th>count</th>\n",
              "      <th>mean</th>\n",
              "      <th>std</th>\n",
              "      <th>min</th>\n",
              "      <th>25%</th>\n",
              "      <th>50%</th>\n",
              "      <th>75%</th>\n",
              "      <th>max</th>\n",
              "    </tr>\n",
              "  </thead>\n",
              "  <tbody>\n",
              "    <tr>\n",
              "      <th>merchant_id</th>\n",
              "      <td>8809.0</td>\n",
              "      <td>4404.009536</td>\n",
              "      <td>2543.190394</td>\n",
              "      <td>1.000000</td>\n",
              "      <td>2201.000000</td>\n",
              "      <td>4405.000000</td>\n",
              "      <td>6607.000000</td>\n",
              "      <td>8.809000e+03</td>\n",
              "    </tr>\n",
              "    <tr>\n",
              "      <th>transaction_count</th>\n",
              "      <td>8809.0</td>\n",
              "      <td>452.862300</td>\n",
              "      <td>7493.961064</td>\n",
              "      <td>1.000000</td>\n",
              "      <td>1.000000</td>\n",
              "      <td>3.000000</td>\n",
              "      <td>12.000000</td>\n",
              "      <td>2.321840e+05</td>\n",
              "    </tr>\n",
              "    <tr>\n",
              "      <th>transaction_volume_usd</th>\n",
              "      <td>8809.0</td>\n",
              "      <td>6456.769974</td>\n",
              "      <td>65039.969627</td>\n",
              "      <td>0.000026</td>\n",
              "      <td>9.186352</td>\n",
              "      <td>43.307087</td>\n",
              "      <td>237.270341</td>\n",
              "      <td>2.444412e+06</td>\n",
              "    </tr>\n",
              "    <tr>\n",
              "      <th>fraud_count</th>\n",
              "      <td>8809.0</td>\n",
              "      <td>0.044386</td>\n",
              "      <td>1.144114</td>\n",
              "      <td>0.000000</td>\n",
              "      <td>0.000000</td>\n",
              "      <td>0.000000</td>\n",
              "      <td>0.000000</td>\n",
              "      <td>6.200000e+01</td>\n",
              "    </tr>\n",
              "    <tr>\n",
              "      <th>fraud_volume_usd</th>\n",
              "      <td>51.0</td>\n",
              "      <td>1261.399492</td>\n",
              "      <td>2420.278420</td>\n",
              "      <td>0.262467</td>\n",
              "      <td>21.900997</td>\n",
              "      <td>132.545932</td>\n",
              "      <td>1040.682415</td>\n",
              "      <td>9.956378e+03</td>\n",
              "    </tr>\n",
              "    <tr>\n",
              "      <th>otp_fraud</th>\n",
              "      <td>8809.0</td>\n",
              "      <td>0.006925</td>\n",
              "      <td>0.187173</td>\n",
              "      <td>0.000000</td>\n",
              "      <td>0.000000</td>\n",
              "      <td>0.000000</td>\n",
              "      <td>0.000000</td>\n",
              "      <td>1.000000e+01</td>\n",
              "    </tr>\n",
              "    <tr>\n",
              "      <th>otp_all_transactions</th>\n",
              "      <td>8809.0</td>\n",
              "      <td>156.574753</td>\n",
              "      <td>3732.010232</td>\n",
              "      <td>0.000000</td>\n",
              "      <td>1.000000</td>\n",
              "      <td>2.000000</td>\n",
              "      <td>9.000000</td>\n",
              "      <td>2.015910e+05</td>\n",
              "    </tr>\n",
              "  </tbody>\n",
              "</table>\n",
              "</div>"
            ],
            "text/plain": [
              "                         count         mean  ...          75%           max\n",
              "merchant_id             8809.0  4404.009536  ...  6607.000000  8.809000e+03\n",
              "transaction_count       8809.0   452.862300  ...    12.000000  2.321840e+05\n",
              "transaction_volume_usd  8809.0  6456.769974  ...   237.270341  2.444412e+06\n",
              "fraud_count             8809.0     0.044386  ...     0.000000  6.200000e+01\n",
              "fraud_volume_usd          51.0  1261.399492  ...  1040.682415  9.956378e+03\n",
              "otp_fraud               8809.0     0.006925  ...     0.000000  1.000000e+01\n",
              "otp_all_transactions    8809.0   156.574753  ...     9.000000  2.015910e+05\n",
              "\n",
              "[7 rows x 8 columns]"
            ]
          },
          "metadata": {},
          "execution_count": 15
        }
      ]
    },
    {
      "cell_type": "markdown",
      "metadata": {
        "id": "3LKdHrHg4EOA"
      },
      "source": [
        "We can see that there's complete count for all numeric columns except `fraud_volume_usd` which has a count of 61 in June and 51 in July. This depicts missing values present. We can also observe the following...\n",
        "1. Max `fraud_count` per day in June is 170, while in July is 62\n",
        "2. Mean `fraud_volume_usd` in June is 1858, while in July is 1261. Note that these figures are large because we have only 61 and 51 data represented now, since the rest are NaN values in this column.\n",
        "3. Max `fraud_volume_usd` in any given day in June is 20178, while July is 9956\n",
        "4. For `otp_fraud`, the Max a day in June is 17, while July Max is 10\n",
        "5. While June has Max `otp_all_transactions` a day as 12223 and July as 201591"
      ]
    },
    {
      "cell_type": "markdown",
      "metadata": {
        "id": "0KV4n9E3SEV2"
      },
      "source": [
        "**Let's see the count of unique merchants that did transactions for June and July**"
      ]
    },
    {
      "cell_type": "code",
      "metadata": {
        "colab": {
          "base_uri": "https://localhost:8080/"
        },
        "id": "em0P9t7PSNIz",
        "outputId": "167f932c-5c99-425c-d7b1-b01c7e01374c"
      },
      "source": [
        "june_merchant_count = june_df.merchant_id.nunique()\n",
        "july_merchant_count = july_df.merchant_id.nunique()\n",
        "\n",
        "print(f'Total Merchants for June: {june_merchant_count}\\nTotal Merchants for July: {july_merchant_count}')"
      ],
      "execution_count": 16,
      "outputs": [
        {
          "output_type": "stream",
          "name": "stdout",
          "text": [
            "Total Merchants for June: 3866\n",
            "Total Merchants for July: 3895\n"
          ]
        }
      ]
    },
    {
      "cell_type": "markdown",
      "metadata": {
        "id": "qojN1rtVTgS3"
      },
      "source": [
        "**So we had slightly more (about 29) merchants in July than June.**"
      ]
    },
    {
      "cell_type": "code",
      "metadata": {
        "colab": {
          "base_uri": "https://localhost:8080/",
          "height": 204
        },
        "id": "2AC72HHBGqv1",
        "outputId": "3dd27aab-ae7c-40fd-ba45-06e527e12b73"
      },
      "source": [
        "# For June categoric features\n",
        "\n",
        "june_df.describe(include='object').T"
      ],
      "execution_count": 17,
      "outputs": [
        {
          "output_type": "execute_result",
          "data": {
            "text/html": [
              "<div>\n",
              "<style scoped>\n",
              "    .dataframe tbody tr th:only-of-type {\n",
              "        vertical-align: middle;\n",
              "    }\n",
              "\n",
              "    .dataframe tbody tr th {\n",
              "        vertical-align: top;\n",
              "    }\n",
              "\n",
              "    .dataframe thead th {\n",
              "        text-align: right;\n",
              "    }\n",
              "</style>\n",
              "<table border=\"1\" class=\"dataframe\">\n",
              "  <thead>\n",
              "    <tr style=\"text-align: right;\">\n",
              "      <th></th>\n",
              "      <th>count</th>\n",
              "      <th>unique</th>\n",
              "      <th>top</th>\n",
              "      <th>freq</th>\n",
              "    </tr>\n",
              "  </thead>\n",
              "  <tbody>\n",
              "    <tr>\n",
              "      <th>merchant_industry</th>\n",
              "      <td>8609</td>\n",
              "      <td>63</td>\n",
              "      <td>GOODS-PHYSICAL</td>\n",
              "      <td>1358</td>\n",
              "    </tr>\n",
              "    <tr>\n",
              "      <th>merchant_category</th>\n",
              "      <td>8609</td>\n",
              "      <td>11</td>\n",
              "      <td>Digital Services</td>\n",
              "      <td>1601</td>\n",
              "    </tr>\n",
              "    <tr>\n",
              "      <th>merchant_country</th>\n",
              "      <td>8609</td>\n",
              "      <td>3</td>\n",
              "      <td>Nigeria</td>\n",
              "      <td>8577</td>\n",
              "    </tr>\n",
              "    <tr>\n",
              "      <th>currency</th>\n",
              "      <td>8609</td>\n",
              "      <td>4</td>\n",
              "      <td>NGN</td>\n",
              "      <td>8540</td>\n",
              "    </tr>\n",
              "    <tr>\n",
              "      <th>channel</th>\n",
              "      <td>8609</td>\n",
              "      <td>1</td>\n",
              "      <td>card</td>\n",
              "      <td>8609</td>\n",
              "    </tr>\n",
              "  </tbody>\n",
              "</table>\n",
              "</div>"
            ],
            "text/plain": [
              "                  count unique               top  freq\n",
              "merchant_industry  8609     63    GOODS-PHYSICAL  1358\n",
              "merchant_category  8609     11  Digital Services  1601\n",
              "merchant_country   8609      3           Nigeria  8577\n",
              "currency           8609      4               NGN  8540\n",
              "channel            8609      1              card  8609"
            ]
          },
          "metadata": {},
          "execution_count": 17
        }
      ]
    },
    {
      "cell_type": "code",
      "metadata": {
        "colab": {
          "base_uri": "https://localhost:8080/",
          "height": 204
        },
        "id": "LoaLVX9nHNSJ",
        "outputId": "0e694ac0-d9c4-42b1-aaac-20d8237341e3"
      },
      "source": [
        "# For July categoric features\n",
        "\n",
        "july_df.describe(include='object').T"
      ],
      "execution_count": 18,
      "outputs": [
        {
          "output_type": "execute_result",
          "data": {
            "text/html": [
              "<div>\n",
              "<style scoped>\n",
              "    .dataframe tbody tr th:only-of-type {\n",
              "        vertical-align: middle;\n",
              "    }\n",
              "\n",
              "    .dataframe tbody tr th {\n",
              "        vertical-align: top;\n",
              "    }\n",
              "\n",
              "    .dataframe thead th {\n",
              "        text-align: right;\n",
              "    }\n",
              "</style>\n",
              "<table border=\"1\" class=\"dataframe\">\n",
              "  <thead>\n",
              "    <tr style=\"text-align: right;\">\n",
              "      <th></th>\n",
              "      <th>count</th>\n",
              "      <th>unique</th>\n",
              "      <th>top</th>\n",
              "      <th>freq</th>\n",
              "    </tr>\n",
              "  </thead>\n",
              "  <tbody>\n",
              "    <tr>\n",
              "      <th>merchant_industry</th>\n",
              "      <td>8809</td>\n",
              "      <td>62</td>\n",
              "      <td>GOODS-PHYSICAL</td>\n",
              "      <td>1356</td>\n",
              "    </tr>\n",
              "    <tr>\n",
              "      <th>merchant_category</th>\n",
              "      <td>8809</td>\n",
              "      <td>11</td>\n",
              "      <td>Other</td>\n",
              "      <td>1473</td>\n",
              "    </tr>\n",
              "    <tr>\n",
              "      <th>merchant_country</th>\n",
              "      <td>8809</td>\n",
              "      <td>3</td>\n",
              "      <td>Nigeria</td>\n",
              "      <td>8784</td>\n",
              "    </tr>\n",
              "    <tr>\n",
              "      <th>currency</th>\n",
              "      <td>8809</td>\n",
              "      <td>4</td>\n",
              "      <td>NGN</td>\n",
              "      <td>8744</td>\n",
              "    </tr>\n",
              "    <tr>\n",
              "      <th>channel</th>\n",
              "      <td>8809</td>\n",
              "      <td>1</td>\n",
              "      <td>card</td>\n",
              "      <td>8809</td>\n",
              "    </tr>\n",
              "  </tbody>\n",
              "</table>\n",
              "</div>"
            ],
            "text/plain": [
              "                  count unique             top  freq\n",
              "merchant_industry  8809     62  GOODS-PHYSICAL  1356\n",
              "merchant_category  8809     11           Other  1473\n",
              "merchant_country   8809      3         Nigeria  8784\n",
              "currency           8809      4             NGN  8744\n",
              "channel            8809      1            card  8809"
            ]
          },
          "metadata": {},
          "execution_count": 18
        }
      ]
    },
    {
      "cell_type": "markdown",
      "metadata": {
        "id": "rr0xmGm9Hg4O"
      },
      "source": [
        "From the categorical features summary, we can see that...\n",
        "1. There are 63 unique merchant industries in June and 62 in July,\n",
        "2. There are 11 distinct merchant categories, and 3 distinct merchant countries, 4 distinct currencies and 1 distinct channel for both months, which is the `card` channel."
      ]
    },
    {
      "cell_type": "markdown",
      "metadata": {
        "id": "-aM6s_GSKGSr"
      },
      "source": [
        "### 3. Checking for missing values:"
      ]
    },
    {
      "cell_type": "code",
      "metadata": {
        "id": "0KEZBcDKB32V",
        "colab": {
          "base_uri": "https://localhost:8080/"
        },
        "outputId": "d006a128-d0c5-474c-f7e2-3d7b38e273fe"
      },
      "source": [
        "june_df.isna().any()"
      ],
      "execution_count": 19,
      "outputs": [
        {
          "output_type": "execute_result",
          "data": {
            "text/plain": [
              "merchant_id                    False\n",
              "merchant_industry              False\n",
              "merchant_category              False\n",
              "merchant_country               False\n",
              "currency                       False\n",
              "transaction_week_start_date    False\n",
              "channel                        False\n",
              "transaction_count              False\n",
              "transaction_volume_usd         False\n",
              "fraud_count                    False\n",
              "fraud_volume_usd                True\n",
              "otp_fraud                      False\n",
              "otp_all_transactions           False\n",
              "dtype: bool"
            ]
          },
          "metadata": {},
          "execution_count": 19
        }
      ]
    },
    {
      "cell_type": "code",
      "metadata": {
        "colab": {
          "base_uri": "https://localhost:8080/"
        },
        "id": "0_ckoE3nye7G",
        "outputId": "a3482ae3-340c-4efd-bc2a-660a46727661"
      },
      "source": [
        "july_df.isna().any()"
      ],
      "execution_count": 20,
      "outputs": [
        {
          "output_type": "execute_result",
          "data": {
            "text/plain": [
              "merchant_id                    False\n",
              "merchant_industry              False\n",
              "merchant_category              False\n",
              "merchant_country               False\n",
              "currency                       False\n",
              "transaction_week_start_date    False\n",
              "channel                        False\n",
              "transaction_count              False\n",
              "transaction_volume_usd         False\n",
              "fraud_count                    False\n",
              "fraud_volume_usd                True\n",
              "otp_fraud                      False\n",
              "otp_all_transactions           False\n",
              "dtype: bool"
            ]
          },
          "metadata": {},
          "execution_count": 20
        }
      ]
    },
    {
      "cell_type": "markdown",
      "metadata": {
        "id": "mLYcronDzOpM"
      },
      "source": [
        "We can see that for both June and July, only `fraud_volume_usd` has missing values. On further investigation, it is clear to see why. This is so because when `fraud_count` is 0, then `fraud_volume_usd` defaults to NaN.<br>Since we know that `fraud_volume_usd` should be 0, when `fraud_count` is 0, let's override this accordingly."
      ]
    },
    {
      "cell_type": "code",
      "metadata": {
        "colab": {
          "base_uri": "https://localhost:8080/"
        },
        "id": "v_thDz0yzMuI",
        "outputId": "c10c9361-243f-4cd0-d591-3c8355ad20b1"
      },
      "source": [
        "# replacing all missing values in the fraud_volume_usd col to 0\n",
        "\n",
        "june_df.fraud_volume_usd.fillna(0, inplace=True)\n",
        "july_df.fraud_volume_usd.fillna(0, inplace=True)\n",
        "print('done!')"
      ],
      "execution_count": 21,
      "outputs": [
        {
          "output_type": "stream",
          "name": "stdout",
          "text": [
            "done!\n"
          ]
        }
      ]
    },
    {
      "cell_type": "markdown",
      "metadata": {
        "id": "H-jRPLYnLDrG"
      },
      "source": [
        "**Let's confirm that all missing values have been replaced**"
      ]
    },
    {
      "cell_type": "code",
      "metadata": {
        "colab": {
          "base_uri": "https://localhost:8080/"
        },
        "id": "c_3bhDWaLJRK",
        "outputId": "baf1aebd-2b02-4dff-e4dc-69958b6203c3"
      },
      "source": [
        "june_df.isna().any()"
      ],
      "execution_count": 22,
      "outputs": [
        {
          "output_type": "execute_result",
          "data": {
            "text/plain": [
              "merchant_id                    False\n",
              "merchant_industry              False\n",
              "merchant_category              False\n",
              "merchant_country               False\n",
              "currency                       False\n",
              "transaction_week_start_date    False\n",
              "channel                        False\n",
              "transaction_count              False\n",
              "transaction_volume_usd         False\n",
              "fraud_count                    False\n",
              "fraud_volume_usd               False\n",
              "otp_fraud                      False\n",
              "otp_all_transactions           False\n",
              "dtype: bool"
            ]
          },
          "metadata": {},
          "execution_count": 22
        }
      ]
    },
    {
      "cell_type": "code",
      "metadata": {
        "colab": {
          "base_uri": "https://localhost:8080/"
        },
        "id": "5AgyYM8aLQSD",
        "outputId": "cfce0919-e0ce-4fc4-aa4a-aa192f29e513"
      },
      "source": [
        "july_df.isna().any()"
      ],
      "execution_count": 23,
      "outputs": [
        {
          "output_type": "execute_result",
          "data": {
            "text/plain": [
              "merchant_id                    False\n",
              "merchant_industry              False\n",
              "merchant_category              False\n",
              "merchant_country               False\n",
              "currency                       False\n",
              "transaction_week_start_date    False\n",
              "channel                        False\n",
              "transaction_count              False\n",
              "transaction_volume_usd         False\n",
              "fraud_count                    False\n",
              "fraud_volume_usd               False\n",
              "otp_fraud                      False\n",
              "otp_all_transactions           False\n",
              "dtype: bool"
            ]
          },
          "metadata": {},
          "execution_count": 23
        }
      ]
    },
    {
      "cell_type": "markdown",
      "metadata": {
        "id": "Heyc_ht7WFy9"
      },
      "source": [
        "### 4. Some basic visualization of June and July transactions:"
      ]
    },
    {
      "cell_type": "markdown",
      "metadata": {
        "id": "r0ZZrCtlPVZk"
      },
      "source": [
        "**Let's explore the distribution of transactions across the distinct countries for June and July**"
      ]
    },
    {
      "cell_type": "code",
      "metadata": {
        "id": "0P3AppKrYSHr"
      },
      "source": [
        "def compare_pie_chart(sup_title, titles, s1, s2, size, colours):\n",
        "    \"\"\"Pie chart to compare values for June and July\n",
        "    \n",
        "    @param suptitle: Str, summary title of the plot\n",
        "    @param titles: List of string sub-titles per plot\n",
        "    @param s1: first series object\n",
        "    @param s2: second series object\n",
        "    @param size: A tuple of figure size\n",
        "    @param colours: A List of colors for the piecharts\n",
        "    \"\"\"\n",
        "    plt.figure(figsize=size)\n",
        "    sns.set(font_scale=1.2)\n",
        "    sns.set_style('ticks')\n",
        "    plt.suptitle(sup_title, y=1.05)\n",
        "\n",
        "    # For the first plot\n",
        "    plt.subplot(121)\n",
        "    plt.pie(s1, \n",
        "       autopct='%1.1f%%',\n",
        "       colors=colours,\n",
        "       startangle=90,\n",
        "       shadow=True,\n",
        "       pctdistance=1.06)\n",
        "    plt.title(titles[0], y=1.05)\n",
        "    plt.axis('equal')\n",
        "    plt.legend(labels=s1.index, loc='upper right')\n",
        "\n",
        "    # For the second plot\n",
        "    plt.subplot(122)\n",
        "    plt.pie(s2, \n",
        "       autopct='%1.1f%%',\n",
        "       colors=colours,\n",
        "       startangle=90,\n",
        "       shadow=True,\n",
        "       pctdistance=1.06)\n",
        "    plt.title(titles[1], y=1.05)\n",
        "    plt.axis('equal')\n",
        "    plt.legend(labels=s2.index, loc='upper right')\n",
        "\n",
        "    plt.show()"
      ],
      "execution_count": 24,
      "outputs": []
    },
    {
      "cell_type": "code",
      "metadata": {
        "id": "RRxajjvjUpfV"
      },
      "source": [
        "countries = list(june_df.merchant_country.unique())\n",
        "\n",
        "def get_country_transactions(countries, df1, df2):\n",
        "    \"\"\"Function to get total transactions per country\n",
        "\n",
        "    @param countries: list of string country names\n",
        "    @param df1 and df2: June and July Dataframes\n",
        "    \"\"\"\n",
        "\n",
        "    s1_list = []\n",
        "    s2_list = []\n",
        "\n",
        "    for country in countries:\n",
        "        temp1 = df1[df1['merchant_country'] == country]\n",
        "        s1_list.append(sum(temp1['transaction_count']))\n",
        "\n",
        "        temp2 = df2[df2['merchant_country'] == country]\n",
        "        s2_list.append(sum(temp2['transaction_count']))\n",
        "    \n",
        "    s1 = pd.Series(s1_list, index=countries)\n",
        "    s2 = pd.Series(s2_list, index=countries)\n",
        "\n",
        "    return s1, s2 "
      ],
      "execution_count": 25,
      "outputs": []
    },
    {
      "cell_type": "code",
      "metadata": {
        "id": "OMZs98tYWV5F"
      },
      "source": [
        "june_country_split, july_country_split = get_country_transactions(countries, june_df, july_df)"
      ],
      "execution_count": 26,
      "outputs": []
    },
    {
      "cell_type": "code",
      "metadata": {
        "colab": {
          "base_uri": "https://localhost:8080/"
        },
        "id": "WGPduBNXNW5j",
        "outputId": "223f8c49-fc24-45d4-dae4-971daf747a0e"
      },
      "source": [
        "june_country_split"
      ],
      "execution_count": 27,
      "outputs": [
        {
          "output_type": "execute_result",
          "data": {
            "text/plain": [
              "Nigeria         4177313\n",
              "Ghana                35\n",
              "South Africa          2\n",
              "dtype: int64"
            ]
          },
          "metadata": {},
          "execution_count": 27
        }
      ]
    },
    {
      "cell_type": "code",
      "metadata": {
        "colab": {
          "base_uri": "https://localhost:8080/",
          "height": 432
        },
        "id": "YAO7OXeEngqR",
        "outputId": "ce1127a6-c499-476f-a8ae-9903e12aa3a2"
      },
      "source": [
        "# Let's define some variables\n",
        "\n",
        "sup_title = 'Piechart showing Country-Distribution of Transactions'\n",
        "titles = ['June', 'July']\n",
        "s1 = june_country_split\n",
        "s2 = july_country_split\n",
        "size = (18, 6)\n",
        "colours = ['green','red','blue']\n",
        "\n",
        "compare_pie_chart(sup_title, titles, s1, s2, size, colours)"
      ],
      "execution_count": 28,
      "outputs": [
        {
          "output_type": "display_data",
          "data": {
            "image/png": "[encoded data removed]",
            "text/plain": [
              "<Figure size 1296x432 with 2 Axes>"
            ]
          },
          "metadata": {}
        }
      ]
    },
    {
      "cell_type": "code",
      "metadata": {
        "colab": {
          "base_uri": "https://localhost:8080/"
        },
        "id": "W5yYnzHoP4eF",
        "outputId": "6f823b1b-1f87-4a1e-d75e-bfc9df4c5d18"
      },
      "source": [
        "ng_june_t = june_country_split['Nigeria']\n",
        "ng_july_t = july_country_split['Nigeria']\n",
        "gh_june_t = june_country_split['Ghana']\n",
        "gh_july_t = july_country_split['Ghana']\n",
        "sa_june_t = june_country_split['South Africa']\n",
        "sa_july_t = july_country_split['South Africa']\n",
        "\n",
        "print(f'In June, the country-transactions-count is:\\nNigeria: {ng_june_t}\\nGhana: {gh_june_t}\\nSA: {sa_june_t}\\n')\n",
        "print()\n",
        "print(f'In July, the country-transactions-count is:\\nNigeria: {ng_july_t}\\nGhana: {gh_july_t}\\nSA: {sa_july_t}\\n')"
      ],
      "execution_count": 29,
      "outputs": [
        {
          "output_type": "stream",
          "name": "stdout",
          "text": [
            "In June, the country-transactions-count is:\n",
            "Nigeria: 4177313\n",
            "Ghana: 35\n",
            "SA: 2\n",
            "\n",
            "\n",
            "In July, the country-transactions-count is:\n",
            "Nigeria: 3989230\n",
            "Ghana: 32\n",
            "SA: 2\n",
            "\n"
          ]
        }
      ]
    },
    {
      "cell_type": "markdown",
      "metadata": {
        "id": "vSm7lBX0pCjN"
      },
      "source": [
        "We can see from the three countries represented in the data, that Nigeria alone has over 99.7% of all transactions. Thus, I can assume that more fraudulent activities occur within Nigeria.<br>\n",
        "* SA has only 2 transactions per month\n",
        "* Ghana has just about 35 per month\n",
        "* Nigeria has about 4 million transactions monthly.\n",
        "\n",
        "**But before I jump to conclusions, let's see the percentage distribution of total fraud per country transactions.**"
      ]
    },
    {
      "cell_type": "code",
      "metadata": {
        "id": "FmIFBt6_dOHU"
      },
      "source": [
        "def get_country_fraud_pct_df(df):\n",
        "    country_ratio = []\n",
        "\n",
        "    for country in countries:\n",
        "        country_df = df[df['merchant_country'] == country]\n",
        "        ratio = sum(country_df.fraud_count) / sum(country_df.transaction_count)\n",
        "        pct = ratio * 100\n",
        "        country_ratio.append(pct)\n",
        "\n",
        "    final_df = pd.DataFrame(country_ratio, index=countries, columns=['Pct'])\n",
        "\n",
        "    return final_df"
      ],
      "execution_count": 30,
      "outputs": []
    },
    {
      "cell_type": "code",
      "metadata": {
        "colab": {
          "base_uri": "https://localhost:8080/",
          "height": 142
        },
        "id": "5IlNyWp5Q6Es",
        "outputId": "6673a90c-b3cf-4d3b-9d6e-9645f760bdc3"
      },
      "source": [
        "june_country_fraud_ratio = get_country_fraud_pct_df(june_df)\n",
        "july_country_fraud_ratio = get_country_fraud_pct_df(july_df)\n",
        "\n",
        "june_country_fraud_ratio"
      ],
      "execution_count": 31,
      "outputs": [
        {
          "output_type": "execute_result",
          "data": {
            "text/html": [
              "<div>\n",
              "<style scoped>\n",
              "    .dataframe tbody tr th:only-of-type {\n",
              "        vertical-align: middle;\n",
              "    }\n",
              "\n",
              "    .dataframe tbody tr th {\n",
              "        vertical-align: top;\n",
              "    }\n",
              "\n",
              "    .dataframe thead th {\n",
              "        text-align: right;\n",
              "    }\n",
              "</style>\n",
              "<table border=\"1\" class=\"dataframe\">\n",
              "  <thead>\n",
              "    <tr style=\"text-align: right;\">\n",
              "      <th></th>\n",
              "      <th>Pct</th>\n",
              "    </tr>\n",
              "  </thead>\n",
              "  <tbody>\n",
              "    <tr>\n",
              "      <th>Nigeria</th>\n",
              "      <td>0.022335</td>\n",
              "    </tr>\n",
              "    <tr>\n",
              "      <th>Ghana</th>\n",
              "      <td>0.000000</td>\n",
              "    </tr>\n",
              "    <tr>\n",
              "      <th>South Africa</th>\n",
              "      <td>0.000000</td>\n",
              "    </tr>\n",
              "  </tbody>\n",
              "</table>\n",
              "</div>"
            ],
            "text/plain": [
              "                   Pct\n",
              "Nigeria       0.022335\n",
              "Ghana         0.000000\n",
              "South Africa  0.000000"
            ]
          },
          "metadata": {},
          "execution_count": 31
        }
      ]
    },
    {
      "cell_type": "code",
      "metadata": {
        "id": "q8fbT8KBzwVh"
      },
      "source": [
        "def compare_bar_chart(df1, df2, colours, col):\n",
        "    plt.figure(figsize=size)\n",
        "    sns.set(font_scale=1.2)\n",
        "    sns.set_style('ticks')\n",
        "    plt.suptitle(sup_title, y=1.05)\n",
        "\n",
        "    # For June\n",
        "    plt.subplot(121)\n",
        "    plt.bar(x=df1.index, height=df1[col], data=df1, color= colours, width=0.5)\n",
        "    plt.title(titles[0])\n",
        "    plt.xlabel(labels[0])\n",
        "    plt.ylabel(labels[1])\n",
        "    for x,y in zip(df1.index, df1[col]):\n",
        "        label = round(y,2)  #  could also be written as:-   \"{:.2f}\".format(y)\n",
        "        \n",
        "        plt.annotate(label, # this is the text\n",
        "                    (x,y), # this is the point to label\n",
        "                    textcoords=\"offset points\", # how to position the text\n",
        "                    xytext=(0,4), # distance from text to points (x,y)\n",
        "                    ha='center',) # horizontal alignment can be left, right or center\n",
        "\n",
        "\n",
        "    # For July\n",
        "    plt.subplot(122)\n",
        "    plt.bar(x=df2.index, height=df2[col], data=df2, color= colours, width=0.5)\n",
        "    plt.title(titles[1])\n",
        "    plt.xlabel(labels[0])\n",
        "    plt.ylabel(labels[1])\n",
        "    for x,y in zip(df2.index, df2[col]):\n",
        "        label = round(y,2) \n",
        "        plt.annotate(label,\n",
        "                    (x,y), \n",
        "                    textcoords=\"offset points\", \n",
        "                    xytext=(0,4),\n",
        "                    ha='center',) \n",
        "    \n",
        "    plt.show()"
      ],
      "execution_count": 32,
      "outputs": []
    },
    {
      "cell_type": "code",
      "metadata": {
        "colab": {
          "base_uri": "https://localhost:8080/",
          "height": 471
        },
        "id": "4v_bl98R09IT",
        "outputId": "1c1c3f79-b591-415b-9093-5fd7078cf8f2"
      },
      "source": [
        "col='Pct'\n",
        "sup_title = 'Barcharts showing the Fraud/Transactions Ratio Per Country'\n",
        "titles = ['June Fraud/Transactions Ratio per Country', 'July Fraud/Transactions Ratio per Country']\n",
        "labels = ['Country', 'Percent']\n",
        "\n",
        "compare_bar_chart(june_country_fraud_ratio, july_country_fraud_ratio, colours, col)"
      ],
      "execution_count": 33,
      "outputs": [
        {
          "output_type": "display_data",
          "data": {
            "image/png": "[encoded data removed]",
            "text/plain": [
              "<Figure size 1296x432 with 2 Axes>"
            ]
          },
          "metadata": {}
        }
      ]
    },
    {
      "cell_type": "markdown",
      "metadata": {
        "id": "nk7hduRQYb-Z"
      },
      "source": [
        "Usually, only a small portion of transactions are fraudulent per organization.<br>This data shows us that...\n",
        "1. Only Nigerian transactions recorded fraud\n",
        "2. For June only 0.02% of transactions were flagged as fraud and only 0.01% in July\n",
        "3. The data tends to depict that even with more transactions done in July, it had less fraud reports than in June."
      ]
    },
    {
      "cell_type": "markdown",
      "metadata": {
        "id": "tyDtAyPp2iyo"
      },
      "source": [
        "**Let's visualize a few descriptive data values we deduced earlier**\n"
      ]
    },
    {
      "cell_type": "code",
      "metadata": {
        "id": "bfY7LBzodbXZ"
      },
      "source": [
        "indexs = ['max_fraud/Day', 'total_fraud/Month', 'max_otp_fraud/Day', 'ave_fraud_usd/Month','max_fraud_usd/Day']\n",
        "\n",
        "june_data = [max(june_df.fraud_count), sum(june_df.fraud_count), max(june_df.otp_fraud), \\\n",
        "             june_df.fraud_volume_usd.mean(), max(june_df.fraud_volume_usd)]\n",
        "\n",
        "july_data = [max(july_df.fraud_count), sum(july_df.fraud_count), max(july_df.otp_fraud), \\\n",
        "             july_df.fraud_volume_usd.mean(), max(july_df.fraud_volume_usd)]"
      ],
      "execution_count": 34,
      "outputs": []
    },
    {
      "cell_type": "code",
      "metadata": {
        "id": "ccfalzkMmIvI"
      },
      "source": [
        "def plot_clustered_bar(indexs, june_data, july_data):\n",
        "    assert len(indexs) == len(june_data) == len(july_data)\n",
        "\n",
        "    df = pd.DataFrame([june_data, july_data]).T\n",
        "    df.index = indexs\n",
        "    df.columns = ['June', 'July']\n",
        "    #plt.xkcd()  # For xkcd style plots\n",
        "    #plt.rcdefaults()  # to stop xkcd plots\n",
        "\n",
        "    # your colors\n",
        "    colors = ['#5bc0de', '#d9534f']\n",
        "\n",
        "    # plot with annotations is probably easier\n",
        "    p1 = df.plot(kind='bar', \n",
        "                 color=colors, \n",
        "                 figsize=(size), \n",
        "                 rot=0, \n",
        "                 ylabel='Count', \n",
        "                 title=title)\n",
        "\n",
        "    plt.show()"
      ],
      "execution_count": 35,
      "outputs": []
    },
    {
      "cell_type": "code",
      "metadata": {
        "colab": {
          "base_uri": "https://localhost:8080/",
          "height": 397
        },
        "id": "cCl7l12Lm2w9",
        "outputId": "e38ac1d5-777b-4205-bbb8-2a975e195885"
      },
      "source": [
        "title = 'Max-Fraud/Day and Total-Fraud/Month comparison: June vs July'\n",
        "plot_clustered_bar(indexs[:2], june_data[:2], july_data[:2])"
      ],
      "execution_count": 36,
      "outputs": [
        {
          "output_type": "display_data",
          "data": {
            "image/png": "[encoded data removed]",
            "text/plain": [
              "<Figure size 1296x432 with 1 Axes>"
            ]
          },
          "metadata": {}
        }
      ]
    },
    {
      "cell_type": "code",
      "metadata": {
        "colab": {
          "base_uri": "https://localhost:8080/",
          "height": 397
        },
        "id": "4pD9nURmzUk5",
        "outputId": "b6901299-a0bb-4cbb-eba9-85d99cc17181"
      },
      "source": [
        "title = 'Max-Otp-Fraud/Day and Average-Fraud-Volume-USD/Month comparison: June vs July'\n",
        "plot_clustered_bar(indexs[2:4], june_data[2:4], july_data[2:4])"
      ],
      "execution_count": 37,
      "outputs": [
        {
          "output_type": "display_data",
          "data": {
            "image/png": "[encoded data removed]",
            "text/plain": [
              "<Figure size 1296x432 with 1 Axes>"
            ]
          },
          "metadata": {}
        }
      ]
    },
    {
      "cell_type": "code",
      "metadata": {
        "colab": {
          "base_uri": "https://localhost:8080/",
          "height": 397
        },
        "id": "GIqZtf0B1yOj",
        "outputId": "53c93a3f-8765-4fbe-901c-6958d7b9c8fa"
      },
      "source": [
        "title = 'Max-Fraud-USD/Day comparison: June vs July'\n",
        "plot_clustered_bar(indexs[4:], june_data[4:], july_data[4:])"
      ],
      "execution_count": 38,
      "outputs": [
        {
          "output_type": "display_data",
          "data": {
            "image/png": "[encoded data removed]",
            "text/plain": [
              "<Figure size 1296x432 with 1 Axes>"
            ]
          },
          "metadata": {}
        }
      ]
    },
    {
      "cell_type": "markdown",
      "metadata": {
        "id": "ZPECp1MvYr81"
      },
      "source": [
        "# Diagnostic EDA (DA2):"
      ]
    },
    {
      "cell_type": "markdown",
      "metadata": {
        "id": "zqROM9ZVba6_"
      },
      "source": [
        "**Diagnostic Analytics (DA2):**<br>\n",
        "Diagnostic analytics are a deeper look at data to attempt to understand the causes of events and behaviours. It’s used largely to answer the question **[“Why did it happen?”]**, and is characterized by techniques such as : **drill-down** • **data discovery** • **data mining** • **correlations** • **mutual-information**\n",
        "\n",
        "1. On a weekly basis, what weeks have the most Fraud?\n",
        "2. Is there a correlation between weekly transactions count and fraud count?\n",
        "3. Does fraud tend to increase due to social reasons like public holidays?\n",
        "4. What Industries are most prone to Fraud?\n",
        "5. What type of Merchants is most prone?\n",
        "6. What features of the data are strongly related to fraud occurrences? We can try using Mutual-Information and correlation\n",
        "7. What are the common patterns among merchants who record the most fraud? For example... What's the average transactions volume per week for high-risk merchants and others? Is there a correlation between fraud-count and transaction-count when compared to high-risk and other merchants?\n",
        "8. Can we use clustering algorithms to learn any meaningful patterns or groupings that can help us learn more about the recent fraud spikes?\n",
        "\n",
        "Asking and answering these questions give us a deeper understanding of the causes or patterns related to the spike in fraud."
      ]
    },
    {
      "cell_type": "markdown",
      "metadata": {
        "id": "IGCPjHz1Lnxg"
      },
      "source": [
        "### 5. Exploring Mutual-Information (MI) of variables:\n",
        "Mutual information describes relationships in terms of uncertainty. The mutual information (MI) between two quantities is a measure of the extent to which knowledge of one quantity reduces uncertainty about the other. If you knew the value of a feature, how much more confident would you be about the target?\n",
        "\n",
        "Mutual information is how many questions you expect the feature to answer about the target. It can help to understand the relative potential of a feature as a predictor of the target, considered by itself. But Mutual Information can't detect interactions between features, is a Univariate metric.\n",
        "\n",
        "Finally, unlike Correlation that can only detect linear relationships, Mutual Information can detect all kinds and shapes of relations between features and target."
      ]
    },
    {
      "cell_type": "markdown",
      "metadata": {
        "id": "4dDR4Ky74jZ8"
      },
      "source": [
        "**First, let's combine both datasets**\n"
      ]
    },
    {
      "cell_type": "code",
      "metadata": {
        "colab": {
          "base_uri": "https://localhost:8080/"
        },
        "id": "JheOiSkI4i02",
        "outputId": "cd4d458e-5c85-4508-9863-5d676fe887b8"
      },
      "source": [
        "combined_df = pd.concat([june_df, july_df])\n",
        "combined_df.shape"
      ],
      "execution_count": 39,
      "outputs": [
        {
          "output_type": "execute_result",
          "data": {
            "text/plain": [
              "(17418, 13)"
            ]
          },
          "metadata": {},
          "execution_count": 39
        }
      ]
    },
    {
      "cell_type": "markdown",
      "metadata": {
        "id": "3gJQqDu_4xYC"
      },
      "source": [
        "**Since we joined two Dataframes with each having index from 0 to `len(df)-1`, let's fix the index of the combined-df**"
      ]
    },
    {
      "cell_type": "code",
      "metadata": {
        "colab": {
          "base_uri": "https://localhost:8080/"
        },
        "id": "_-Z4eHRT4BWO",
        "outputId": "285710a1-2517-40da-b42a-80bdff9685da"
      },
      "source": [
        "new_index = list(range(len(combined_df)))\n",
        "combined_df.index = new_index\n",
        "print('done!')"
      ],
      "execution_count": 40,
      "outputs": [
        {
          "output_type": "stream",
          "name": "stdout",
          "text": [
            "done!\n"
          ]
        }
      ]
    },
    {
      "cell_type": "markdown",
      "metadata": {
        "id": "Bzi6TjJ_5Dh2"
      },
      "source": [
        "**Check for possible NaN values after combination**"
      ]
    },
    {
      "cell_type": "code",
      "metadata": {
        "colab": {
          "base_uri": "https://localhost:8080/"
        },
        "id": "vkUZHyQ36Qg9",
        "outputId": "0561ec1c-d53c-4d43-ccf0-f2ed30f5f306"
      },
      "source": [
        "combined_df.isna().any().sum()"
      ],
      "execution_count": 41,
      "outputs": [
        {
          "output_type": "execute_result",
          "data": {
            "text/plain": [
              "0"
            ]
          },
          "metadata": {},
          "execution_count": 41
        }
      ]
    },
    {
      "cell_type": "code",
      "metadata": {
        "colab": {
          "base_uri": "https://localhost:8080/",
          "height": 241
        },
        "id": "DsewZvAM6t0V",
        "outputId": "f5e51cc0-0bea-47e1-c667-553c7107c8ba"
      },
      "source": [
        "combined_df.head()"
      ],
      "execution_count": 42,
      "outputs": [
        {
          "output_type": "execute_result",
          "data": {
            "text/html": [
              "<div>\n",
              "<style scoped>\n",
              "    .dataframe tbody tr th:only-of-type {\n",
              "        vertical-align: middle;\n",
              "    }\n",
              "\n",
              "    .dataframe tbody tr th {\n",
              "        vertical-align: top;\n",
              "    }\n",
              "\n",
              "    .dataframe thead th {\n",
              "        text-align: right;\n",
              "    }\n",
              "</style>\n",
              "<table border=\"1\" class=\"dataframe\">\n",
              "  <thead>\n",
              "    <tr style=\"text-align: right;\">\n",
              "      <th></th>\n",
              "      <th>merchant_id</th>\n",
              "      <th>merchant_industry</th>\n",
              "      <th>merchant_category</th>\n",
              "      <th>merchant_country</th>\n",
              "      <th>currency</th>\n",
              "      <th>transaction_week_start_date</th>\n",
              "      <th>channel</th>\n",
              "      <th>transaction_count</th>\n",
              "      <th>transaction_volume_usd</th>\n",
              "      <th>fraud_count</th>\n",
              "      <th>fraud_volume_usd</th>\n",
              "      <th>otp_fraud</th>\n",
              "      <th>otp_all_transactions</th>\n",
              "    </tr>\n",
              "  </thead>\n",
              "  <tbody>\n",
              "    <tr>\n",
              "      <th>0</th>\n",
              "      <td>1</td>\n",
              "      <td>GOODS-PHYSICAL</td>\n",
              "      <td>e-Commerce</td>\n",
              "      <td>Nigeria</td>\n",
              "      <td>NGN</td>\n",
              "      <td>2021-06-07</td>\n",
              "      <td>card</td>\n",
              "      <td>5</td>\n",
              "      <td>231.590551</td>\n",
              "      <td>0</td>\n",
              "      <td>0.0</td>\n",
              "      <td>0</td>\n",
              "      <td>5</td>\n",
              "    </tr>\n",
              "    <tr>\n",
              "      <th>1</th>\n",
              "      <td>5</td>\n",
              "      <td>SERVICES-LEGAL</td>\n",
              "      <td>Other</td>\n",
              "      <td>Nigeria</td>\n",
              "      <td>NGN</td>\n",
              "      <td>2021-06-07</td>\n",
              "      <td>card</td>\n",
              "      <td>2</td>\n",
              "      <td>210.203412</td>\n",
              "      <td>0</td>\n",
              "      <td>0.0</td>\n",
              "      <td>0</td>\n",
              "      <td>2</td>\n",
              "    </tr>\n",
              "    <tr>\n",
              "      <th>2</th>\n",
              "      <td>9</td>\n",
              "      <td>TRAVEL</td>\n",
              "      <td>Travel &amp; Hospitality</td>\n",
              "      <td>Nigeria</td>\n",
              "      <td>NGN</td>\n",
              "      <td>2021-06-07</td>\n",
              "      <td>card</td>\n",
              "      <td>4</td>\n",
              "      <td>223.097113</td>\n",
              "      <td>0</td>\n",
              "      <td>0.0</td>\n",
              "      <td>0</td>\n",
              "      <td>1</td>\n",
              "    </tr>\n",
              "    <tr>\n",
              "      <th>3</th>\n",
              "      <td>11</td>\n",
              "      <td>SERVICES-PROFESSIONAL</td>\n",
              "      <td>Other</td>\n",
              "      <td>Nigeria</td>\n",
              "      <td>NGN</td>\n",
              "      <td>2021-06-07</td>\n",
              "      <td>card</td>\n",
              "      <td>5</td>\n",
              "      <td>212.335958</td>\n",
              "      <td>0</td>\n",
              "      <td>0.0</td>\n",
              "      <td>0</td>\n",
              "      <td>5</td>\n",
              "    </tr>\n",
              "    <tr>\n",
              "      <th>4</th>\n",
              "      <td>15</td>\n",
              "      <td>SERVICES-DIGITAL</td>\n",
              "      <td>Digital Services</td>\n",
              "      <td>Nigeria</td>\n",
              "      <td>NGN</td>\n",
              "      <td>2021-06-07</td>\n",
              "      <td>card</td>\n",
              "      <td>8</td>\n",
              "      <td>550.131234</td>\n",
              "      <td>0</td>\n",
              "      <td>0.0</td>\n",
              "      <td>0</td>\n",
              "      <td>8</td>\n",
              "    </tr>\n",
              "  </tbody>\n",
              "</table>\n",
              "</div>"
            ],
            "text/plain": [
              "   merchant_id      merchant_industry  ... otp_fraud otp_all_transactions\n",
              "0            1         GOODS-PHYSICAL  ...         0                    5\n",
              "1            5         SERVICES-LEGAL  ...         0                    2\n",
              "2            9                 TRAVEL  ...         0                    1\n",
              "3           11  SERVICES-PROFESSIONAL  ...         0                    5\n",
              "4           15       SERVICES-DIGITAL  ...         0                    8\n",
              "\n",
              "[5 rows x 13 columns]"
            ]
          },
          "metadata": {},
          "execution_count": 42
        }
      ]
    },
    {
      "cell_type": "markdown",
      "metadata": {
        "id": "rWlcPcOD5QsM"
      },
      "source": [
        "**Next, we make a copy of `combined_df` for mutual-information analysis.**"
      ]
    },
    {
      "cell_type": "code",
      "metadata": {
        "colab": {
          "base_uri": "https://localhost:8080/"
        },
        "id": "dlCHI4fO5ZtZ",
        "outputId": "5c965a4d-8011-4ca9-b4f4-50404456bc20"
      },
      "source": [
        "mi_combined = combined_df.copy(deep=True)\n",
        "print('done!')"
      ],
      "execution_count": 43,
      "outputs": [
        {
          "output_type": "stream",
          "name": "stdout",
          "text": [
            "done!\n"
          ]
        }
      ]
    },
    {
      "cell_type": "code",
      "metadata": {
        "id": "nowiSL3oCl9p"
      },
      "source": [
        "# Next, pop the targets\n",
        "\n",
        "target = mi_combined.pop('fraud_count')"
      ],
      "execution_count": 44,
      "outputs": []
    },
    {
      "cell_type": "code",
      "metadata": {
        "colab": {
          "base_uri": "https://localhost:8080/"
        },
        "id": "EHN0JqbSAqUE",
        "outputId": "9bab931b-3a20-4272-efc6-37cad2f6e8fd"
      },
      "source": [
        "# Next, get separate list for numeric and categoric columns\n",
        "\n",
        "num_cols = list(mi_combined._get_numeric_data().columns)\n",
        "cat_cols = list(set(mi_combined.columns) - set(num_cols))\n",
        "print('done!')"
      ],
      "execution_count": 45,
      "outputs": [
        {
          "output_type": "stream",
          "name": "stdout",
          "text": [
            "done!\n"
          ]
        }
      ]
    },
    {
      "cell_type": "code",
      "metadata": {
        "colab": {
          "base_uri": "https://localhost:8080/"
        },
        "id": "1yaUxtkzEYaZ",
        "outputId": "a2787d04-3c85-488a-9394-adac21689df2"
      },
      "source": [
        "# Next, let's label-encode categorical variables\n",
        "\n",
        "for colname in cat_cols:\n",
        "    mi_combined[colname], _ = mi_combined[colname].factorize()\n",
        "print('done!')"
      ],
      "execution_count": 46,
      "outputs": [
        {
          "output_type": "stream",
          "name": "stdout",
          "text": [
            "done!\n"
          ]
        }
      ]
    },
    {
      "cell_type": "markdown",
      "metadata": {
        "id": "RlcrHAgoF3ax"
      },
      "source": [
        "**All categorical features should now have numerical datatypes**"
      ]
    },
    {
      "cell_type": "code",
      "metadata": {
        "colab": {
          "base_uri": "https://localhost:8080/"
        },
        "id": "zzyowhJMFgtM",
        "outputId": "e45fde62-f43a-4d5a-ad7c-cee208a0238d"
      },
      "source": [
        "mi_combined.info()"
      ],
      "execution_count": 47,
      "outputs": [
        {
          "output_type": "stream",
          "name": "stdout",
          "text": [
            "<class 'pandas.core.frame.DataFrame'>\n",
            "Int64Index: 17418 entries, 0 to 17417\n",
            "Data columns (total 12 columns):\n",
            " #   Column                       Non-Null Count  Dtype  \n",
            "---  ------                       --------------  -----  \n",
            " 0   merchant_id                  17418 non-null  int64  \n",
            " 1   merchant_industry            17418 non-null  int64  \n",
            " 2   merchant_category            17418 non-null  int64  \n",
            " 3   merchant_country             17418 non-null  int64  \n",
            " 4   currency                     17418 non-null  int64  \n",
            " 5   transaction_week_start_date  17418 non-null  int64  \n",
            " 6   channel                      17418 non-null  int64  \n",
            " 7   transaction_count            17418 non-null  int64  \n",
            " 8   transaction_volume_usd       17418 non-null  float64\n",
            " 9   fraud_volume_usd             17418 non-null  float64\n",
            " 10  otp_fraud                    17418 non-null  int64  \n",
            " 11  otp_all_transactions         17418 non-null  int64  \n",
            "dtypes: float64(2), int64(10)\n",
            "memory usage: 1.7 MB\n"
          ]
        }
      ]
    },
    {
      "cell_type": "markdown",
      "metadata": {
        "id": "c381LCCLGogE"
      },
      "source": [
        "**Since our target `fraud_count` is a numerical feature, we shall use the mutual_info_regression method...**"
      ]
    },
    {
      "cell_type": "code",
      "metadata": {
        "colab": {
          "base_uri": "https://localhost:8080/"
        },
        "id": "B_Y4MGN1NuHj",
        "outputId": "9d82e6ad-af04-42f5-cd70-19e6452eaa97"
      },
      "source": [
        "# Next, identify discrete features\n",
        "\n",
        "discrete_features = mi_combined.dtypes == int\n",
        "print('done')"
      ],
      "execution_count": 48,
      "outputs": [
        {
          "output_type": "stream",
          "name": "stdout",
          "text": [
            "done\n"
          ]
        }
      ]
    },
    {
      "cell_type": "code",
      "metadata": {
        "id": "Ykkc7kjwGxwZ"
      },
      "source": [
        "from sklearn.feature_selection import mutual_info_regression as mi\n",
        "\n",
        "def make_mi_scores(X, y, discreteFeatures):\n",
        "    mi_scores = mi(X, y, discrete_features=discreteFeatures)\n",
        "    mi_scores = pd.Series(mi_scores, name='MI_scores', index=X.columns)\n",
        "    mi_scores = mi_scores.sort_values(ascending=False)\n",
        "\n",
        "    return mi_scores"
      ],
      "execution_count": 49,
      "outputs": []
    },
    {
      "cell_type": "markdown",
      "metadata": {
        "id": "B5JAgH_SRBJW"
      },
      "source": [
        "**Now, let's get the Mutual Info scores for the combined data**"
      ]
    },
    {
      "cell_type": "code",
      "metadata": {
        "colab": {
          "base_uri": "https://localhost:8080/"
        },
        "id": "y3KP3r3LRHBH",
        "outputId": "89e64a70-872c-4486-ca83-ccb25ecf9bef"
      },
      "source": [
        "mi_scores = make_mi_scores(mi_combined, target, discrete_features)\n",
        "print('done!')"
      ],
      "execution_count": 50,
      "outputs": [
        {
          "output_type": "stream",
          "name": "stdout",
          "text": [
            "done!\n"
          ]
        }
      ]
    },
    {
      "cell_type": "markdown",
      "metadata": {
        "id": "BrdAN9-ARmib"
      },
      "source": [
        "**Let's see a sample of the top scores**"
      ]
    },
    {
      "cell_type": "code",
      "metadata": {
        "colab": {
          "base_uri": "https://localhost:8080/"
        },
        "id": "bVOyTUDSRqj5",
        "outputId": "62687a9d-23d9-4bbd-bc43-f473dd06befe"
      },
      "source": [
        "mi_scores.head()"
      ],
      "execution_count": 51,
      "outputs": [
        {
          "output_type": "execute_result",
          "data": {
            "text/plain": [
              "fraud_volume_usd          0.035630\n",
              "merchant_id               0.023275\n",
              "transaction_volume_usd    0.015989\n",
              "otp_fraud                 0.011751\n",
              "merchant_category         0.007505\n",
              "Name: MI_scores, dtype: float64"
            ]
          },
          "metadata": {},
          "execution_count": 51
        }
      ]
    },
    {
      "cell_type": "code",
      "metadata": {
        "id": "f424cVVCSSrB"
      },
      "source": [
        "def plot_mi_scores(mi_scores):\n",
        "    scores = mi_scores.sort_values(ascending=True)\n",
        "    plt.figure(dpi=100, figsize=(8, 5))\n",
        "\n",
        "    width = np.arange(len(scores))\n",
        "    ticks = list(scores.index)\n",
        "    plt.barh(width, scores)\n",
        "    plt.yticks(width, ticks)\n",
        "    plt.title(\"Mutual Information Scores\")\n",
        "\n",
        "    plt.show()"
      ],
      "execution_count": 52,
      "outputs": []
    },
    {
      "cell_type": "code",
      "metadata": {
        "colab": {
          "base_uri": "https://localhost:8080/",
          "height": 469
        },
        "id": "rncUa_snVSyc",
        "outputId": "b2efe2ed-4e06-4dc0-be4b-f4dc14c2e0d8"
      },
      "source": [
        "plot_mi_scores(mi_scores)"
      ],
      "execution_count": 53,
      "outputs": [
        {
          "output_type": "display_data",
          "data": {
            "image/png": "[encoded data removed]",
            "text/plain": [
              "<Figure size 800x500 with 1 Axes>"
            ]
          },
          "metadata": {}
        }
      ]
    },
    {
      "cell_type": "markdown",
      "metadata": {
        "id": "pKcWU3WIZNEX"
      },
      "source": [
        "From the Mutual-Information analysis, we can see the features that are most discriminative to `fraud_count` . Therefore, we can proceed with our analysis focusing on these top features. Let's update the `mi_combined` dataframe to have only these features that tell us something about `fraud-count`.\n",
        " "
      ]
    },
    {
      "cell_type": "markdown",
      "metadata": {
        "id": "sF6jBJXLY3sR"
      },
      "source": [
        "### 6. Selecting Top MI-Scores features:"
      ]
    },
    {
      "cell_type": "markdown",
      "metadata": {
        "id": "CY7qgOYuFqZU"
      },
      "source": [
        "**Let's select the top features from MI analysis and ofcourse add the `fraud_count` column as our target. This can be used for any machine-learning task.**"
      ]
    },
    {
      "cell_type": "code",
      "metadata": {
        "id": "wdGAbiQKZFbP"
      },
      "source": [
        "# We'd use a threshold of 0.002 based on the MI chart above.\n",
        "t = 0.002\n",
        "top_mi = [ind for ind in list(mi_scores.index) if mi_scores[ind] >= t]"
      ],
      "execution_count": 54,
      "outputs": []
    },
    {
      "cell_type": "code",
      "metadata": {
        "id": "DW-oO958RK8M"
      },
      "source": [
        "# Finally, append target column\n",
        "top_mi.append('fraud_count')  "
      ],
      "execution_count": 55,
      "outputs": []
    },
    {
      "cell_type": "code",
      "metadata": {
        "colab": {
          "base_uri": "https://localhost:8080/"
        },
        "id": "Db8zjvt9-x3n",
        "outputId": "ebba91c2-d32a-4ca6-a6ff-7e38051fda11"
      },
      "source": [
        "top_mi"
      ],
      "execution_count": 56,
      "outputs": [
        {
          "output_type": "execute_result",
          "data": {
            "text/plain": [
              "['fraud_volume_usd',\n",
              " 'merchant_id',\n",
              " 'transaction_volume_usd',\n",
              " 'otp_fraud',\n",
              " 'merchant_category',\n",
              " 'otp_all_transactions',\n",
              " 'merchant_industry',\n",
              " 'transaction_week_start_date',\n",
              " 'fraud_count']"
            ]
          },
          "metadata": {},
          "execution_count": 56
        }
      ]
    },
    {
      "cell_type": "markdown",
      "metadata": {
        "id": "_wmqyxFx-n9k"
      },
      "source": [
        "**Now, we re-create the `mi_combined` df but with only the features from MI-analysis**"
      ]
    },
    {
      "cell_type": "code",
      "metadata": {
        "colab": {
          "base_uri": "https://localhost:8080/",
          "height": 196
        },
        "id": "qiVQIind_AQ1",
        "outputId": "6bdca9f5-115f-433d-fa10-ed9f185b98f8"
      },
      "source": [
        "# Now select only MI-features\n",
        "mi_combined = combined_df[top_mi]\n",
        "\n",
        "print(f'MI-combined shape is: {mi_combined.shape}\\n')\n",
        "mi_combined.head(3)"
      ],
      "execution_count": 57,
      "outputs": [
        {
          "output_type": "stream",
          "name": "stdout",
          "text": [
            "MI-combined shape is: (17418, 9)\n",
            "\n"
          ]
        },
        {
          "output_type": "execute_result",
          "data": {
            "text/html": [
              "<div>\n",
              "<style scoped>\n",
              "    .dataframe tbody tr th:only-of-type {\n",
              "        vertical-align: middle;\n",
              "    }\n",
              "\n",
              "    .dataframe tbody tr th {\n",
              "        vertical-align: top;\n",
              "    }\n",
              "\n",
              "    .dataframe thead th {\n",
              "        text-align: right;\n",
              "    }\n",
              "</style>\n",
              "<table border=\"1\" class=\"dataframe\">\n",
              "  <thead>\n",
              "    <tr style=\"text-align: right;\">\n",
              "      <th></th>\n",
              "      <th>fraud_volume_usd</th>\n",
              "      <th>merchant_id</th>\n",
              "      <th>transaction_volume_usd</th>\n",
              "      <th>otp_fraud</th>\n",
              "      <th>merchant_category</th>\n",
              "      <th>otp_all_transactions</th>\n",
              "      <th>merchant_industry</th>\n",
              "      <th>transaction_week_start_date</th>\n",
              "      <th>fraud_count</th>\n",
              "    </tr>\n",
              "  </thead>\n",
              "  <tbody>\n",
              "    <tr>\n",
              "      <th>0</th>\n",
              "      <td>0.0</td>\n",
              "      <td>1</td>\n",
              "      <td>231.590551</td>\n",
              "      <td>0</td>\n",
              "      <td>e-Commerce</td>\n",
              "      <td>5</td>\n",
              "      <td>GOODS-PHYSICAL</td>\n",
              "      <td>2021-06-07</td>\n",
              "      <td>0</td>\n",
              "    </tr>\n",
              "    <tr>\n",
              "      <th>1</th>\n",
              "      <td>0.0</td>\n",
              "      <td>5</td>\n",
              "      <td>210.203412</td>\n",
              "      <td>0</td>\n",
              "      <td>Other</td>\n",
              "      <td>2</td>\n",
              "      <td>SERVICES-LEGAL</td>\n",
              "      <td>2021-06-07</td>\n",
              "      <td>0</td>\n",
              "    </tr>\n",
              "    <tr>\n",
              "      <th>2</th>\n",
              "      <td>0.0</td>\n",
              "      <td>9</td>\n",
              "      <td>223.097113</td>\n",
              "      <td>0</td>\n",
              "      <td>Travel &amp; Hospitality</td>\n",
              "      <td>1</td>\n",
              "      <td>TRAVEL</td>\n",
              "      <td>2021-06-07</td>\n",
              "      <td>0</td>\n",
              "    </tr>\n",
              "  </tbody>\n",
              "</table>\n",
              "</div>"
            ],
            "text/plain": [
              "   fraud_volume_usd  merchant_id  ...  transaction_week_start_date  fraud_count\n",
              "0               0.0            1  ...                   2021-06-07            0\n",
              "1               0.0            5  ...                   2021-06-07            0\n",
              "2               0.0            9  ...                   2021-06-07            0\n",
              "\n",
              "[3 rows x 9 columns]"
            ]
          },
          "metadata": {},
          "execution_count": 57
        }
      ]
    },
    {
      "cell_type": "markdown",
      "metadata": {
        "id": "VA2ATEcBXJJh"
      },
      "source": [
        "### 7. Analyzing Weekly Fraud Trends:\n",
        "#### Trying to identify weeks where Fraud is high to check if there are possible social reasons for that."
      ]
    },
    {
      "cell_type": "code",
      "metadata": {
        "id": "1RPUu1B3YmmO"
      },
      "source": [
        "june_weeks = list(june_df.transaction_week_start_date.unique())\n",
        "july_weeks = list(july_df.transaction_week_start_date.unique())\n",
        "\n",
        "# Let's add these together\n",
        "june_weeks.extend(july_weeks)\n",
        "\n",
        "# Let's rename the extension\n",
        "weekly_dates = june_weeks"
      ],
      "execution_count": 58,
      "outputs": []
    },
    {
      "cell_type": "code",
      "metadata": {
        "id": "0q3E3qaaav0Q"
      },
      "source": [
        "def get_weekly_fraud_and_transaction_counts(weeks_list, df_list, names=None):\n",
        "    \"\"\"Function to create Series of\n",
        "        total fraud and transaction counts per-week\n",
        "    \n",
        "    @param weeks_list: A list of weeks start date,\n",
        "    @param df_list: A list of one-combined or 2 split Dataframes,\n",
        "    @param names: A list of String Series names, default=None,\n",
        "    @return: Two Series objects\n",
        "    \"\"\"\n",
        "\n",
        "    # if len(df_list) > 1, then combine into one df\n",
        "    if len(df_list) > 1:\n",
        "        df = pd.concat([df_list[0], df_list[1]])\n",
        "        # arrange the index\n",
        "        df.index = list(range(len(df)))\n",
        "    else:\n",
        "        df = df_list[0]\n",
        "\n",
        "    june = 'June_W'\n",
        "    july = 'July_W'\n",
        "    indexs = []\n",
        "    fraud_count = []\n",
        "    trans_count = []\n",
        "    i, j = 0, 0\n",
        "\n",
        "    for week in weeks_list:\n",
        "        temp_df = df[df['transaction_week_start_date'] == week]\n",
        "        fraud_count.append(sum(temp_df.fraud_count))\n",
        "        trans_count.append(sum(temp_df.transaction_count))\n",
        "        if weeks_list.index(week) < 4:\n",
        "            i+=1\n",
        "            indexs.append(june + str(i))\n",
        "        else:\n",
        "            j+=1\n",
        "            indexs.append(july + str(j))\n",
        "            \n",
        "    serie1 = pd.Series(fraud_count, index=indexs, name='Weekly Fraud Count')\n",
        "    serie2 = pd.Series(trans_count, index=indexs, name='Weekly Transaction Count')\n",
        "\n",
        "    if names:\n",
        "        serie1.name = names[0]\n",
        "        serie2.name = names[1]\n",
        "\n",
        "    return serie1, serie2"
      ],
      "execution_count": 59,
      "outputs": []
    },
    {
      "cell_type": "code",
      "metadata": {
        "id": "wm53pLGUZoDI"
      },
      "source": [
        "weeks_list = weekly_dates\n",
        "df_list = [june_df, july_df]\n",
        "\n",
        "weekly_fraud_count, weekly_transact_count = get_weekly_fraud_and_transaction_counts(weeks_list, df_list)"
      ],
      "execution_count": 60,
      "outputs": []
    },
    {
      "cell_type": "code",
      "metadata": {
        "colab": {
          "base_uri": "https://localhost:8080/"
        },
        "id": "xWXIfwJSj4KK",
        "outputId": "078a3054-ced5-47a5-db72-60ac5a2beeba"
      },
      "source": [
        "weekly_fraud_count"
      ],
      "execution_count": 61,
      "outputs": [
        {
          "output_type": "execute_result",
          "data": {
            "text/plain": [
              "June_W1    256\n",
              "June_W2    284\n",
              "June_W3    182\n",
              "June_W4    211\n",
              "July_W1    112\n",
              "July_W2    109\n",
              "July_W3     70\n",
              "July_W4    100\n",
              "Name: Weekly Fraud Count, dtype: int64"
            ]
          },
          "metadata": {},
          "execution_count": 61
        }
      ]
    },
    {
      "cell_type": "code",
      "metadata": {
        "colab": {
          "base_uri": "https://localhost:8080/"
        },
        "id": "jHvzCnQVp9vQ",
        "outputId": "439c48a6-c6d9-4e5c-c238-917d0375f45a"
      },
      "source": [
        "weekly_transact_count"
      ],
      "execution_count": 62,
      "outputs": [
        {
          "output_type": "execute_result",
          "data": {
            "text/plain": [
              "June_W1     997735\n",
              "June_W2    1064033\n",
              "June_W3    1073565\n",
              "June_W4    1042017\n",
              "July_W1    1030233\n",
              "July_W2     965332\n",
              "July_W3     978273\n",
              "July_W4    1015426\n",
              "Name: Weekly Transaction Count, dtype: int64"
            ]
          },
          "metadata": {},
          "execution_count": 62
        }
      ]
    },
    {
      "cell_type": "markdown",
      "metadata": {
        "id": "_ck2gIlhnNWB"
      },
      "source": [
        "Let's plot the weekly fraud trends..."
      ]
    },
    {
      "cell_type": "code",
      "metadata": {
        "id": "FyUFl-wtqPUt"
      },
      "source": [
        "def plot_weekly_trends(s1, s2, plot='bar'):\n",
        "    \"\"\"Method for plotting weekly fraud data\n",
        "    \"\"\"\n",
        "\n",
        "    font = {'family': 'serif',\n",
        "        'color':  'darkred',\n",
        "        'weight': 'bold',\n",
        "        'size': 16}\n",
        "\n",
        "    plt.figure(figsize=(24,6))\n",
        "\n",
        "    plt.subplot(1,2,1)\n",
        "    plt.plot(s1)\n",
        "    plt.xlabel('Week', fontdict=font)\n",
        "    plt.ylabel('Count', fontdict=font)\n",
        "    font['size'] = 20\n",
        "    plt.title(s1.name, fontdict=font)\n",
        "\n",
        "    if plot == 'bar':\n",
        "        plt.subplot(1,2,2)\n",
        "        plt.bar(x=s2.index, height=list(s2))\n",
        "        plt.title(s2.name, fontdict=font)\n",
        "        font['size'] = 16\n",
        "        plt.xlabel('Week', fontdict=font)\n",
        "        plt.ylabel('Count', fontdict=font)\n",
        "    else:\n",
        "        plt.subplot(1,2,2)\n",
        "        plt.plot(s2, color='Red')\n",
        "        plt.title(s2.name, fontdict=font)\n",
        "        font['size'] = 16\n",
        "        plt.xlabel('Week', fontdict=font)\n",
        "        plt.ylabel('Count', fontdict=font)\n",
        "\n",
        "    plt.show()"
      ],
      "execution_count": 63,
      "outputs": []
    },
    {
      "cell_type": "code",
      "metadata": {
        "colab": {
          "base_uri": "https://localhost:8080/",
          "height": 375
        },
        "id": "GzXamuTkwTAM",
        "outputId": "48c6ebee-d03f-4926-e675-d008e0edc95e"
      },
      "source": [
        "s1 = weekly_fraud_count\n",
        "s2 = weekly_transact_count\n",
        "\n",
        "plot_weekly_trends(s1, s2)"
      ],
      "execution_count": 64,
      "outputs": [
        {
          "output_type": "display_data",
          "data": {
            "image/png": "[encoded data removed]",
            "text/plain": [
              "<Figure size 1728x432 with 2 Axes>"
            ]
          },
          "metadata": {}
        }
      ]
    },
    {
      "cell_type": "markdown",
      "metadata": {
        "id": "bniwB7W1oIIJ"
      },
      "source": [
        "From the weekly fraud trend data, we can see that generally, fraud is trending downward. This does not mean it may not trend upward in the future, though, as can be seen in the rise in last week of July.\n",
        "\n",
        "* Fraud starts high at about 250 for June-Wk-1\n",
        "* It increases to about 280 for June-Wk-2\n",
        "* Then it drops to about 180 in June-Wk-3\n",
        "* Then it rises to about 210 in June-Wk-4\n",
        "* And just keeps dropping weekly in July, lowest in July-Wk-3\n",
        "* Starts rising again in July-Wk-4\n",
        "\n",
        "While the weekly transactions count remain fairly constant between 970k and 1.07 million. Therefore, the data does not support the hypothesis that as fewer transactions are done, fewer fraud tends to be done. This is because the rate of fraud tends to decrease week by week, even though fairly same transactions are done. In otherwords, there's a weak correlation if any between weekly fraud count and weekly transactions count."
      ]
    },
    {
      "cell_type": "markdown",
      "metadata": {
        "id": "fwlBXMX_vICM"
      },
      "source": [
        "Although correlation does not imply cauation, we can see that:-   \n",
        "* June 14th which marks the start of June-Wk-2 is a national holiday called **democracy-day** in Nigeria\n",
        "* June 20th is Father's day\n",
        "* June 23rd is also a regional holiday in Ebonyi State\n",
        "* Tuesday July 20th and Wednesday July 21st are also public holidays called **id-el-kabir**\n",
        "\n",
        "[source1](https://www.timeanddate.com/holidays/nigeria/), [source2](https://www.officeholidays.com/countries/nigeria/2021)"
      ]
    },
    {
      "cell_type": "markdown",
      "metadata": {
        "id": "_tAOCoEXxy7a"
      },
      "source": [
        "### 8. Drilling down on Fraudulent transactions data:"
      ]
    },
    {
      "cell_type": "code",
      "metadata": {
        "id": "YjNfKh12tQhY",
        "colab": {
          "base_uri": "https://localhost:8080/",
          "height": 196
        },
        "outputId": "f8c00673-a310-4e1b-af9b-1da8dae84cdf"
      },
      "source": [
        "june_fraud_specific = june_df[june_df.fraud_count > 0]\n",
        "print(f'June Fraud-Specific data shape is: {june_fraud_specific.shape}\\n')\n",
        "\n",
        "june_fraud_specific.head(3)"
      ],
      "execution_count": 65,
      "outputs": [
        {
          "output_type": "stream",
          "name": "stdout",
          "text": [
            "June Fraud-Specific data shape is: (61, 13)\n",
            "\n"
          ]
        },
        {
          "output_type": "execute_result",
          "data": {
            "text/html": [
              "<div>\n",
              "<style scoped>\n",
              "    .dataframe tbody tr th:only-of-type {\n",
              "        vertical-align: middle;\n",
              "    }\n",
              "\n",
              "    .dataframe tbody tr th {\n",
              "        vertical-align: top;\n",
              "    }\n",
              "\n",
              "    .dataframe thead th {\n",
              "        text-align: right;\n",
              "    }\n",
              "</style>\n",
              "<table border=\"1\" class=\"dataframe\">\n",
              "  <thead>\n",
              "    <tr style=\"text-align: right;\">\n",
              "      <th></th>\n",
              "      <th>merchant_id</th>\n",
              "      <th>merchant_industry</th>\n",
              "      <th>merchant_category</th>\n",
              "      <th>merchant_country</th>\n",
              "      <th>currency</th>\n",
              "      <th>transaction_week_start_date</th>\n",
              "      <th>channel</th>\n",
              "      <th>transaction_count</th>\n",
              "      <th>transaction_volume_usd</th>\n",
              "      <th>fraud_count</th>\n",
              "      <th>fraud_volume_usd</th>\n",
              "      <th>otp_fraud</th>\n",
              "      <th>otp_all_transactions</th>\n",
              "    </tr>\n",
              "  </thead>\n",
              "  <tbody>\n",
              "    <tr>\n",
              "      <th>7</th>\n",
              "      <td>31</td>\n",
              "      <td>SAVINGS</td>\n",
              "      <td>Financial Services</td>\n",
              "      <td>Nigeria</td>\n",
              "      <td>NGN</td>\n",
              "      <td>2021-06-07</td>\n",
              "      <td>card</td>\n",
              "      <td>161803</td>\n",
              "      <td>1.840269e+06</td>\n",
              "      <td>2</td>\n",
              "      <td>0.787402</td>\n",
              "      <td>1</td>\n",
              "      <td>2247</td>\n",
              "    </tr>\n",
              "    <tr>\n",
              "      <th>26</th>\n",
              "      <td>114</td>\n",
              "      <td>CORPORATE</td>\n",
              "      <td>Other</td>\n",
              "      <td>Nigeria</td>\n",
              "      <td>NGN</td>\n",
              "      <td>2021-06-07</td>\n",
              "      <td>card</td>\n",
              "      <td>11317</td>\n",
              "      <td>2.271184e+05</td>\n",
              "      <td>1</td>\n",
              "      <td>5.511811</td>\n",
              "      <td>0</td>\n",
              "      <td>3063</td>\n",
              "    </tr>\n",
              "    <tr>\n",
              "      <th>34</th>\n",
              "      <td>147</td>\n",
              "      <td>BETTING</td>\n",
              "      <td>Betting</td>\n",
              "      <td>Nigeria</td>\n",
              "      <td>NGN</td>\n",
              "      <td>2021-06-07</td>\n",
              "      <td>card</td>\n",
              "      <td>16415</td>\n",
              "      <td>3.563845e+05</td>\n",
              "      <td>4</td>\n",
              "      <td>539.212598</td>\n",
              "      <td>3</td>\n",
              "      <td>2896</td>\n",
              "    </tr>\n",
              "  </tbody>\n",
              "</table>\n",
              "</div>"
            ],
            "text/plain": [
              "    merchant_id merchant_industry  ... otp_fraud otp_all_transactions\n",
              "7            31           SAVINGS  ...         1                 2247\n",
              "26          114         CORPORATE  ...         0                 3063\n",
              "34          147           BETTING  ...         3                 2896\n",
              "\n",
              "[3 rows x 13 columns]"
            ]
          },
          "metadata": {},
          "execution_count": 65
        }
      ]
    },
    {
      "cell_type": "code",
      "metadata": {
        "colab": {
          "base_uri": "https://localhost:8080/",
          "height": 196
        },
        "id": "SHIPPDoqGWqo",
        "outputId": "f67a38fc-6c02-4ff4-8d46-2d6cc46ff4b5"
      },
      "source": [
        "july_fraud_specific = july_df[july_df.fraud_count > 0]\n",
        "print(f'July Fraud-Specific data shape is: {july_fraud_specific.shape}\\n')\n",
        "\n",
        "july_fraud_specific.head(3)"
      ],
      "execution_count": 66,
      "outputs": [
        {
          "output_type": "stream",
          "name": "stdout",
          "text": [
            "July Fraud-Specific data shape is: (51, 13)\n",
            "\n"
          ]
        },
        {
          "output_type": "execute_result",
          "data": {
            "text/html": [
              "<div>\n",
              "<style scoped>\n",
              "    .dataframe tbody tr th:only-of-type {\n",
              "        vertical-align: middle;\n",
              "    }\n",
              "\n",
              "    .dataframe tbody tr th {\n",
              "        vertical-align: top;\n",
              "    }\n",
              "\n",
              "    .dataframe thead th {\n",
              "        text-align: right;\n",
              "    }\n",
              "</style>\n",
              "<table border=\"1\" class=\"dataframe\">\n",
              "  <thead>\n",
              "    <tr style=\"text-align: right;\">\n",
              "      <th></th>\n",
              "      <th>merchant_id</th>\n",
              "      <th>merchant_industry</th>\n",
              "      <th>merchant_category</th>\n",
              "      <th>merchant_country</th>\n",
              "      <th>currency</th>\n",
              "      <th>transaction_week_start_date</th>\n",
              "      <th>channel</th>\n",
              "      <th>transaction_count</th>\n",
              "      <th>transaction_volume_usd</th>\n",
              "      <th>fraud_count</th>\n",
              "      <th>fraud_volume_usd</th>\n",
              "      <th>otp_fraud</th>\n",
              "      <th>otp_all_transactions</th>\n",
              "    </tr>\n",
              "  </thead>\n",
              "  <tbody>\n",
              "    <tr>\n",
              "      <th>9</th>\n",
              "      <td>30</td>\n",
              "      <td>SAVINGS</td>\n",
              "      <td>Financial Services</td>\n",
              "      <td>Nigeria</td>\n",
              "      <td>NGN</td>\n",
              "      <td>2021-07-05</td>\n",
              "      <td>card</td>\n",
              "      <td>165099</td>\n",
              "      <td>1.822132e+06</td>\n",
              "      <td>10</td>\n",
              "      <td>1443.832021</td>\n",
              "      <td>1</td>\n",
              "      <td>2294</td>\n",
              "    </tr>\n",
              "    <tr>\n",
              "      <th>36</th>\n",
              "      <td>145</td>\n",
              "      <td>LENDING</td>\n",
              "      <td>Financial Services</td>\n",
              "      <td>Nigeria</td>\n",
              "      <td>NGN</td>\n",
              "      <td>2021-07-05</td>\n",
              "      <td>card</td>\n",
              "      <td>16172</td>\n",
              "      <td>3.501336e+05</td>\n",
              "      <td>1</td>\n",
              "      <td>2.650919</td>\n",
              "      <td>0</td>\n",
              "      <td>2786</td>\n",
              "    </tr>\n",
              "    <tr>\n",
              "      <th>128</th>\n",
              "      <td>486</td>\n",
              "      <td>BETTING</td>\n",
              "      <td>Betting</td>\n",
              "      <td>Nigeria</td>\n",
              "      <td>NGN</td>\n",
              "      <td>2021-07-05</td>\n",
              "      <td>card</td>\n",
              "      <td>232184</td>\n",
              "      <td>1.784707e+06</td>\n",
              "      <td>62</td>\n",
              "      <td>8424.934383</td>\n",
              "      <td>6</td>\n",
              "      <td>58841</td>\n",
              "    </tr>\n",
              "  </tbody>\n",
              "</table>\n",
              "</div>"
            ],
            "text/plain": [
              "     merchant_id merchant_industry  ... otp_fraud otp_all_transactions\n",
              "9             30           SAVINGS  ...         1                 2294\n",
              "36           145           LENDING  ...         0                 2786\n",
              "128          486           BETTING  ...         6                58841\n",
              "\n",
              "[3 rows x 13 columns]"
            ]
          },
          "metadata": {},
          "execution_count": 66
        }
      ]
    },
    {
      "cell_type": "markdown",
      "metadata": {
        "id": "YiSiqXY8OOhB"
      },
      "source": [
        "**Let's see the distribution of fraud across `merchant_category` for June and July**"
      ]
    },
    {
      "cell_type": "code",
      "metadata": {
        "id": "YZ2c4t-TMdN6"
      },
      "source": [
        "def selection(df, arr, empty_arr):\n",
        "    \"\"\"helper method for function below\n",
        "    \"\"\"\n",
        "    for item in arr:\n",
        "        temp = df[df[var] == item]\n",
        "        empty_arr.append(sum(temp['fraud_count']))\n",
        "\n",
        "\n",
        "def get_fraud_distribution_per_var(df1, df2, var, names, s=selection):\n",
        "    \"\"\"Function to derive fraud distribution per variable\n",
        "        for both June and July datasets.\n",
        "\n",
        "    @param df1 and df2; June and July Dataframes\n",
        "    @param var: The specific categorical variable to split over\n",
        "    @param names: A list of string titles for each Series\n",
        "    @return: Two Series sorted descending\n",
        "    \"\"\"\n",
        "    unique1 = list(df1[var].unique())\n",
        "    unique2 = list(df2[var].unique())\n",
        "    s1_list = []\n",
        "    s2_list = []\n",
        "\n",
        "    s(df1, unique1, s1_list)\n",
        "    s(df2, unique2, s2_list)\n",
        "\n",
        "    s1 = pd.Series(s1_list, index=unique1, name=names[0])\n",
        "    s2 = pd.Series(s2_list, index=unique2, name=names[1])\n",
        "    s1.sort_values(ascending=False, inplace=True)\n",
        "    s2.sort_values(ascending=False, inplace=True)\n",
        "\n",
        "    # compute percentages\n",
        "    s1 = (s1 / sum(s1)) * 100\n",
        "    s2 = (s2 / sum(s2)) * 100\n",
        "\n",
        "    return s1, s2"
      ],
      "execution_count": 67,
      "outputs": []
    },
    {
      "cell_type": "code",
      "metadata": {
        "colab": {
          "base_uri": "https://localhost:8080/"
        },
        "id": "m0TaxexVWm29",
        "outputId": "b6d8e004-2ac8-441b-a693-e682aae64a1e"
      },
      "source": [
        "df1 = june_fraud_specific\n",
        "df2 = july_fraud_specific\n",
        "var = 'merchant_category'\n",
        "names = ['Merchant-Category Fraud: June', 'Merchant-Category Fraud: July']\n",
        "\n",
        "june_merchant_cat_fraud, july_merchant_cat_fraud = get_fraud_distribution_per_var(df1, df2, var, names)\n",
        "print('done!')"
      ],
      "execution_count": 68,
      "outputs": [
        {
          "output_type": "stream",
          "name": "stdout",
          "text": [
            "done!\n"
          ]
        }
      ]
    },
    {
      "cell_type": "code",
      "metadata": {
        "colab": {
          "base_uri": "https://localhost:8080/"
        },
        "id": "t-oVkWXCaIca",
        "outputId": "351538f7-f79b-4067-8412-7f270186cfaf"
      },
      "source": [
        "june_merchant_cat_fraud"
      ],
      "execution_count": 69,
      "outputs": [
        {
          "output_type": "execute_result",
          "data": {
            "text/plain": [
              "Betting                  80.814577\n",
              "Financial Services       17.363344\n",
              "Digital Services          0.643087\n",
              "Other                     0.428725\n",
              "Utilities                 0.321543\n",
              "Media & Entertainment     0.214362\n",
              "e-Commerce                0.107181\n",
              "Education                 0.107181\n",
              "Name: Merchant-Category Fraud: June, dtype: float64"
            ]
          },
          "metadata": {},
          "execution_count": 69
        }
      ]
    },
    {
      "cell_type": "code",
      "metadata": {
        "colab": {
          "base_uri": "https://localhost:8080/"
        },
        "id": "LYNKXJlIa5qx",
        "outputId": "779953a1-80cf-4a97-bf8e-d999a3a18669"
      },
      "source": [
        "july_merchant_cat_fraud"
      ],
      "execution_count": 70,
      "outputs": [
        {
          "output_type": "execute_result",
          "data": {
            "text/plain": [
              "Financial Services      52.429668\n",
              "Betting                 42.710997\n",
              "e-Commerce               2.301790\n",
              "Education                1.023018\n",
              "Utilities                0.767263\n",
              "Other                    0.511509\n",
              "Travel & Hospitality     0.255754\n",
              "Name: Merchant-Category Fraud: July, dtype: float64"
            ]
          },
          "metadata": {},
          "execution_count": 70
        }
      ]
    },
    {
      "cell_type": "markdown",
      "metadata": {
        "id": "J01F4Ol9LkI5"
      },
      "source": [
        "**Let's visualize the top 5 merchant categories for fraudulent transactions**"
      ]
    },
    {
      "cell_type": "code",
      "metadata": {
        "colab": {
          "base_uri": "https://localhost:8080/",
          "height": 397
        },
        "id": "OGoJ2kLsL522",
        "outputId": "9cc01003-6c82-4ad6-e82d-2376335ba83a"
      },
      "source": [
        "sup_title = 'Top 5 Merchant-Categories for Fraud: June Vs July'\n",
        "titles = ['June Merchant-Category', 'July Merchant-Category']\n",
        "s1 = june_merchant_cat_fraud[:5]\n",
        "s2 = july_merchant_cat_fraud[:5]\n",
        "colours = ['red', 'blue', 'yellow', 'magenta', 'green']\n",
        "size = (24, 6)\n",
        "\n",
        "compare_pie_chart(sup_title, titles, s1, s2, size, colours)"
      ],
      "execution_count": 71,
      "outputs": [
        {
          "output_type": "display_data",
          "data": {
            "image/png": "[encoded data removed]",
            "text/plain": [
              "<Figure size 1728x432 with 2 Axes>"
            ]
          },
          "metadata": {}
        }
      ]
    },
    {
      "cell_type": "markdown",
      "metadata": {
        "id": "Fux7yX3AXf1q"
      },
      "source": [
        "We can see that two merchant-categories make up more than 98% of total fraud. These are\n",
        "1. Betting\n",
        "2. Financial services"
      ]
    },
    {
      "cell_type": "markdown",
      "metadata": {
        "id": "_f9dHg0tZP2s"
      },
      "source": [
        "**Let's see the distribution of fraud across `merchant_industry` for June and July**"
      ]
    },
    {
      "cell_type": "code",
      "metadata": {
        "colab": {
          "base_uri": "https://localhost:8080/"
        },
        "id": "PRlHqZ5PYI9X",
        "outputId": "a8f6b8c3-ee84-482f-81f2-0a0af9a415e1"
      },
      "source": [
        "df1 = june_fraud_specific\n",
        "df2 = july_fraud_specific\n",
        "var = 'merchant_industry'\n",
        "names = ['Merchant-Industry Fraud: June', 'Merchant-Industry Fraud: July']\n",
        "\n",
        "june_merchant_ind_fraud, july_merchant_ind_fraud = get_fraud_distribution_per_var(df1, df2, var, names)\n",
        "print('done!')"
      ],
      "execution_count": 72,
      "outputs": [
        {
          "output_type": "stream",
          "name": "stdout",
          "text": [
            "done!\n"
          ]
        }
      ]
    },
    {
      "cell_type": "code",
      "metadata": {
        "colab": {
          "base_uri": "https://localhost:8080/"
        },
        "id": "FTr-1cxtZ18K",
        "outputId": "15cd99e0-44ae-43ac-f985-4c2d16b21d04"
      },
      "source": [
        "june_merchant_ind_fraud"
      ],
      "execution_count": 73,
      "outputs": [
        {
          "output_type": "execute_result",
          "data": {
            "text/plain": [
              "BETTING                 80.814577\n",
              "LENDING                 16.077170\n",
              "COOPERATIVES             0.857449\n",
              "SERVICES-DIGITAL         0.643087\n",
              "INTERNET                 0.321543\n",
              "SAVINGS                  0.321543\n",
              "NGO                      0.214362\n",
              "SERVICES-PHYSICAL        0.107181\n",
              "GOODS-PHYSICAL           0.107181\n",
              "EDUCATION-VOCATIONAL     0.107181\n",
              "RELIGIOUS                0.107181\n",
              "REALESTATE               0.107181\n",
              "REMITTANCE               0.107181\n",
              "CORPORATE                0.107181\n",
              "Name: Merchant-Industry Fraud: June, dtype: float64"
            ]
          },
          "metadata": {},
          "execution_count": 73
        }
      ]
    },
    {
      "cell_type": "code",
      "metadata": {
        "colab": {
          "base_uri": "https://localhost:8080/"
        },
        "id": "5zAKGxwlaATA",
        "outputId": "2bec3063-d5d9-40cb-dbfe-a440be53e02a"
      },
      "source": [
        "july_merchant_ind_fraud"
      ],
      "execution_count": 74,
      "outputs": [
        {
          "output_type": "execute_result",
          "data": {
            "text/plain": [
              "BETTING                  42.710997\n",
              "LENDING                  40.153453\n",
              "SAVINGS                   8.439898\n",
              "GOODS-PHYSICAL            2.301790\n",
              "INVESTMENT                2.301790\n",
              "EDUCATION-SECONDARY       0.767263\n",
              "REMITTANCE                0.511509\n",
              "PSSP                      0.511509\n",
              "TELECOMS                  0.511509\n",
              "ASSOCIATION               0.255754\n",
              "WALLETS                   0.255754\n",
              "ELECTRICITY               0.255754\n",
              "TRAVEL                    0.255754\n",
              "COOPERATIVES              0.255754\n",
              "EDUCATION-TERTIARY        0.255754\n",
              "SERVICES-PROFESSIONAL     0.255754\n",
              "Name: Merchant-Industry Fraud: July, dtype: float64"
            ]
          },
          "metadata": {},
          "execution_count": 74
        }
      ]
    },
    {
      "cell_type": "code",
      "metadata": {
        "colab": {
          "base_uri": "https://localhost:8080/",
          "height": 397
        },
        "id": "-GLA2TJ8aYhO",
        "outputId": "bdc0bca5-b03d-4e3c-ebf7-ffeaa126b603"
      },
      "source": [
        "sup_title = 'Top 5 Merchant-Industries for Fraud: June Vs July'\n",
        "titles = ['June Merchant-Industry', 'July Merchant-Industry']\n",
        "s1 = june_merchant_ind_fraud[:5]\n",
        "s2 = july_merchant_ind_fraud[:5]\n",
        "colours = ['magenta', 'yellow', 'blue', 'green', 'black']\n",
        "size = (24, 6)\n",
        "\n",
        "compare_pie_chart(sup_title, titles, s1, s2, size, colours)"
      ],
      "execution_count": 75,
      "outputs": [
        {
          "output_type": "display_data",
          "data": {
            "image/png": "[encoded data removed]",
            "text/plain": [
              "<Figure size 1728x432 with 2 Axes>"
            ]
          },
          "metadata": {}
        }
      ]
    },
    {
      "cell_type": "markdown",
      "metadata": {
        "id": "PDItqpVPcoe4"
      },
      "source": [
        "From the two sets of Piecharts above, we can surmise that...<br>\n",
        "Merchants in the **Betting** and **Financial Services** category, who operate within the **Betting** and **Lending** industries recorded more than 98% of total frauds across merchant-categories and more than 96% of total fraud across merchant-industries, for the months of June and July 2021."
      ]
    },
    {
      "cell_type": "markdown",
      "metadata": {
        "id": "dUzG_iBYcoQR"
      },
      "source": [
        "**The next step is to identify these merchants...**\n",
        "\n",
        "So, we want to select merchants in the Betting and Financial-Services(FS) categories that operate within the Betting and Lending industries."
      ]
    },
    {
      "cell_type": "code",
      "metadata": {
        "colab": {
          "base_uri": "https://localhost:8080/",
          "height": 258
        },
        "id": "oiTvpQ5Ae5Io",
        "outputId": "644dcf65-bcec-41c2-efce-7a463c510573"
      },
      "source": [
        "# First, we select Merchants whose category is either FS or Betting\n",
        "high_risk = combined_df[(combined_df.merchant_category == 'Betting') \\\n",
        "                                    | (combined_df.merchant_category == 'Financial Services')]\n",
        "\n",
        "# Then from these, we select those whose industries are BETTING or LENDING\n",
        "high_risk = high_risk[(high_risk.merchant_industry == 'BETTING') \\\n",
        "                                              | (high_risk.merchant_industry == 'LENDING')]\n",
        "\n",
        "# We do it this way, just incase BETTING and LENDING industries also exist in \n",
        "# other marchant-categories aside from Betting and Financial-Services.\n",
        "\n",
        "print(f'Top-Concern-Merchants shape is: {high_risk.shape}\\n', end=' ')\n",
        "high_risk.head()"
      ],
      "execution_count": 76,
      "outputs": [
        {
          "output_type": "stream",
          "name": "stdout",
          "text": [
            "Top-Concern-Merchants shape is: (1521, 13)\n",
            " "
          ]
        },
        {
          "output_type": "execute_result",
          "data": {
            "text/html": [
              "<div>\n",
              "<style scoped>\n",
              "    .dataframe tbody tr th:only-of-type {\n",
              "        vertical-align: middle;\n",
              "    }\n",
              "\n",
              "    .dataframe tbody tr th {\n",
              "        vertical-align: top;\n",
              "    }\n",
              "\n",
              "    .dataframe thead th {\n",
              "        text-align: right;\n",
              "    }\n",
              "</style>\n",
              "<table border=\"1\" class=\"dataframe\">\n",
              "  <thead>\n",
              "    <tr style=\"text-align: right;\">\n",
              "      <th></th>\n",
              "      <th>merchant_id</th>\n",
              "      <th>merchant_industry</th>\n",
              "      <th>merchant_category</th>\n",
              "      <th>merchant_country</th>\n",
              "      <th>currency</th>\n",
              "      <th>transaction_week_start_date</th>\n",
              "      <th>channel</th>\n",
              "      <th>transaction_count</th>\n",
              "      <th>transaction_volume_usd</th>\n",
              "      <th>fraud_count</th>\n",
              "      <th>fraud_volume_usd</th>\n",
              "      <th>otp_fraud</th>\n",
              "      <th>otp_all_transactions</th>\n",
              "    </tr>\n",
              "  </thead>\n",
              "  <tbody>\n",
              "    <tr>\n",
              "      <th>27</th>\n",
              "      <td>118</td>\n",
              "      <td>LENDING</td>\n",
              "      <td>Financial Services</td>\n",
              "      <td>Nigeria</td>\n",
              "      <td>NGN</td>\n",
              "      <td>2021-06-07</td>\n",
              "      <td>card</td>\n",
              "      <td>2511</td>\n",
              "      <td>30218.315853</td>\n",
              "      <td>0</td>\n",
              "      <td>0.000000</td>\n",
              "      <td>0</td>\n",
              "      <td>579</td>\n",
              "    </tr>\n",
              "    <tr>\n",
              "      <th>29</th>\n",
              "      <td>126</td>\n",
              "      <td>BETTING</td>\n",
              "      <td>Betting</td>\n",
              "      <td>Nigeria</td>\n",
              "      <td>NGN</td>\n",
              "      <td>2021-06-07</td>\n",
              "      <td>card</td>\n",
              "      <td>2</td>\n",
              "      <td>19.685039</td>\n",
              "      <td>0</td>\n",
              "      <td>0.000000</td>\n",
              "      <td>0</td>\n",
              "      <td>1</td>\n",
              "    </tr>\n",
              "    <tr>\n",
              "      <th>34</th>\n",
              "      <td>147</td>\n",
              "      <td>BETTING</td>\n",
              "      <td>Betting</td>\n",
              "      <td>Nigeria</td>\n",
              "      <td>NGN</td>\n",
              "      <td>2021-06-07</td>\n",
              "      <td>card</td>\n",
              "      <td>16415</td>\n",
              "      <td>356384.474199</td>\n",
              "      <td>4</td>\n",
              "      <td>539.212598</td>\n",
              "      <td>3</td>\n",
              "      <td>2896</td>\n",
              "    </tr>\n",
              "    <tr>\n",
              "      <th>37</th>\n",
              "      <td>158</td>\n",
              "      <td>LENDING</td>\n",
              "      <td>Financial Services</td>\n",
              "      <td>Nigeria</td>\n",
              "      <td>NGN</td>\n",
              "      <td>2021-06-07</td>\n",
              "      <td>card</td>\n",
              "      <td>1</td>\n",
              "      <td>0.026247</td>\n",
              "      <td>0</td>\n",
              "      <td>0.000000</td>\n",
              "      <td>0</td>\n",
              "      <td>1</td>\n",
              "    </tr>\n",
              "    <tr>\n",
              "      <th>50</th>\n",
              "      <td>216</td>\n",
              "      <td>BETTING</td>\n",
              "      <td>Betting</td>\n",
              "      <td>Nigeria</td>\n",
              "      <td>NGN</td>\n",
              "      <td>2021-06-07</td>\n",
              "      <td>card</td>\n",
              "      <td>81</td>\n",
              "      <td>1005.225696</td>\n",
              "      <td>0</td>\n",
              "      <td>0.000000</td>\n",
              "      <td>0</td>\n",
              "      <td>58</td>\n",
              "    </tr>\n",
              "  </tbody>\n",
              "</table>\n",
              "</div>"
            ],
            "text/plain": [
              "    merchant_id merchant_industry  ... otp_fraud otp_all_transactions\n",
              "27          118           LENDING  ...         0                  579\n",
              "29          126           BETTING  ...         0                    1\n",
              "34          147           BETTING  ...         3                 2896\n",
              "37          158           LENDING  ...         0                    1\n",
              "50          216           BETTING  ...         0                   58\n",
              "\n",
              "[5 rows x 13 columns]"
            ]
          },
          "metadata": {},
          "execution_count": 76
        }
      ]
    },
    {
      "cell_type": "markdown",
      "metadata": {
        "id": "xgK6fVVxC-ff"
      },
      "source": [
        "**Since we've identified them, let's also separate the others**"
      ]
    },
    {
      "cell_type": "code",
      "metadata": {
        "colab": {
          "base_uri": "https://localhost:8080/"
        },
        "id": "CDHXpAhcDG-K",
        "outputId": "ea750af2-f167-4d8f-d74e-ce81a40f58b7"
      },
      "source": [
        "others_index = list(set(list(combined_df.index)) - set(list(high_risk.index)))\n",
        "(len(others_index) + len(high_risk.index)) == len(combined_df.index)"
      ],
      "execution_count": 77,
      "outputs": [
        {
          "output_type": "execute_result",
          "data": {
            "text/plain": [
              "True"
            ]
          },
          "metadata": {},
          "execution_count": 77
        }
      ]
    },
    {
      "cell_type": "code",
      "metadata": {
        "colab": {
          "base_uri": "https://localhost:8080/",
          "height": 213
        },
        "id": "foXDI0lVIo4y",
        "outputId": "70f935d8-3c10-42a9-935d-064efaf10183"
      },
      "source": [
        "others = combined_df.iloc[others_index, :]\n",
        "print(len(others_index) == len(others))\n",
        "print(f'others shape: {others.shape}\\n')\n",
        "others.head(3)"
      ],
      "execution_count": 78,
      "outputs": [
        {
          "output_type": "stream",
          "name": "stdout",
          "text": [
            "True\n",
            "others shape: (15897, 13)\n",
            "\n"
          ]
        },
        {
          "output_type": "execute_result",
          "data": {
            "text/html": [
              "<div>\n",
              "<style scoped>\n",
              "    .dataframe tbody tr th:only-of-type {\n",
              "        vertical-align: middle;\n",
              "    }\n",
              "\n",
              "    .dataframe tbody tr th {\n",
              "        vertical-align: top;\n",
              "    }\n",
              "\n",
              "    .dataframe thead th {\n",
              "        text-align: right;\n",
              "    }\n",
              "</style>\n",
              "<table border=\"1\" class=\"dataframe\">\n",
              "  <thead>\n",
              "    <tr style=\"text-align: right;\">\n",
              "      <th></th>\n",
              "      <th>merchant_id</th>\n",
              "      <th>merchant_industry</th>\n",
              "      <th>merchant_category</th>\n",
              "      <th>merchant_country</th>\n",
              "      <th>currency</th>\n",
              "      <th>transaction_week_start_date</th>\n",
              "      <th>channel</th>\n",
              "      <th>transaction_count</th>\n",
              "      <th>transaction_volume_usd</th>\n",
              "      <th>fraud_count</th>\n",
              "      <th>fraud_volume_usd</th>\n",
              "      <th>otp_fraud</th>\n",
              "      <th>otp_all_transactions</th>\n",
              "    </tr>\n",
              "  </thead>\n",
              "  <tbody>\n",
              "    <tr>\n",
              "      <th>0</th>\n",
              "      <td>1</td>\n",
              "      <td>GOODS-PHYSICAL</td>\n",
              "      <td>e-Commerce</td>\n",
              "      <td>Nigeria</td>\n",
              "      <td>NGN</td>\n",
              "      <td>2021-06-07</td>\n",
              "      <td>card</td>\n",
              "      <td>5</td>\n",
              "      <td>231.590551</td>\n",
              "      <td>0</td>\n",
              "      <td>0.0</td>\n",
              "      <td>0</td>\n",
              "      <td>5</td>\n",
              "    </tr>\n",
              "    <tr>\n",
              "      <th>1</th>\n",
              "      <td>5</td>\n",
              "      <td>SERVICES-LEGAL</td>\n",
              "      <td>Other</td>\n",
              "      <td>Nigeria</td>\n",
              "      <td>NGN</td>\n",
              "      <td>2021-06-07</td>\n",
              "      <td>card</td>\n",
              "      <td>2</td>\n",
              "      <td>210.203412</td>\n",
              "      <td>0</td>\n",
              "      <td>0.0</td>\n",
              "      <td>0</td>\n",
              "      <td>2</td>\n",
              "    </tr>\n",
              "    <tr>\n",
              "      <th>2</th>\n",
              "      <td>9</td>\n",
              "      <td>TRAVEL</td>\n",
              "      <td>Travel &amp; Hospitality</td>\n",
              "      <td>Nigeria</td>\n",
              "      <td>NGN</td>\n",
              "      <td>2021-06-07</td>\n",
              "      <td>card</td>\n",
              "      <td>4</td>\n",
              "      <td>223.097113</td>\n",
              "      <td>0</td>\n",
              "      <td>0.0</td>\n",
              "      <td>0</td>\n",
              "      <td>1</td>\n",
              "    </tr>\n",
              "  </tbody>\n",
              "</table>\n",
              "</div>"
            ],
            "text/plain": [
              "   merchant_id merchant_industry  ... otp_fraud otp_all_transactions\n",
              "0            1    GOODS-PHYSICAL  ...         0                    5\n",
              "1            5    SERVICES-LEGAL  ...         0                    2\n",
              "2            9            TRAVEL  ...         0                    1\n",
              "\n",
              "[3 rows x 13 columns]"
            ]
          },
          "metadata": {},
          "execution_count": 78
        }
      ]
    },
    {
      "cell_type": "markdown",
      "metadata": {
        "id": "EWJ-6MP0r1A4"
      },
      "source": [
        "**Let's see the actual split of distinct merchants in the High-Risk industries and other industries.**"
      ]
    },
    {
      "cell_type": "code",
      "metadata": {
        "colab": {
          "base_uri": "https://localhost:8080/"
        },
        "id": "E6LXu0oZsZaM",
        "outputId": "573ccfdc-cbdb-4dea-9afb-a559dbc47a05"
      },
      "source": [
        "num_high_risk_merchants = high_risk.merchant_id.nunique()\n",
        "num_other_merchants = others.merchant_id.nunique()\n",
        "\n",
        "print(f'High-Risk Merchants are: {num_high_risk_merchants}\\nWhile others are {num_other_merchants} in total.')"
      ],
      "execution_count": 81,
      "outputs": [
        {
          "output_type": "stream",
          "name": "stdout",
          "text": [
            "High-Risk Merchants are: 500\n",
            "While others are 5740 in total.\n"
          ]
        }
      ]
    },
    {
      "cell_type": "code",
      "metadata": {
        "id": "vaOvp1gdt87o"
      },
      "source": [
        "def plot_merchants_split(names, val1, val2, size, sup_title, color=colours):\n",
        "    \"\"\"Function to plot the split of merchants\n",
        "        across High-Risk and low-Risk bounds.\n",
        "\n",
        "    @param names: A list of string names\n",
        "    @param val1 & val2: Integer values\n",
        "    @param size: A tuple of figure size dimensions\n",
        "    @param sup_title: String, the overall suptitle of both charts\n",
        "    \"\"\"\n",
        "\n",
        "    plt.figure(figsize=size)\n",
        "\n",
        "    fontDict ={'fontsize': 20,\n",
        "        'fontweight' : 'bold',\n",
        "        'verticalalignment': 'baseline',\n",
        "      'color': 'Red',\n",
        "       'family':'DejaVu Sans'}\n",
        "\n",
        "    total = val1 + val2\n",
        "\n",
        "    s1 = pd.Series([val1, val2], index=names, \n",
        "                       name='Count of High and Low Risk Merchants')\n",
        "    s2 = pd.Series([(val1 / total)*100, (val2 / total)*100], index=names,\n",
        "                       name='Percentage of High and Low Risk Merchants')\n",
        "    \n",
        "    plt.suptitle(sup_title, y=1.05, fontdict=fontDict)\n",
        "    fontDict['fontsize'] = 14\n",
        "    \n",
        "    plt.subplot(1,2,1)\n",
        "    plt.bar(x=s1.index, height=list(s1), color=colours)\n",
        "    plt.xlabel('Merchant', fontdict=fontDict)\n",
        "    plt.ylabel('Count', fontdict=fontDict)\n",
        "    fontDict['fontsize'] = 18\n",
        "    fontDict['color'] = 'Black'\n",
        "    plt.title(s1.name, fontdict=fontDict)\n",
        "\n",
        "    plt.subplot(1,2,2)\n",
        "    plt.pie(s2, \n",
        "       autopct='%1.1f%%',\n",
        "       startangle=90,\n",
        "       colors=colours,\n",
        "       shadow=True,\n",
        "       pctdistance=1.06)\n",
        "    plt.title(s2.name, fontdict=fontDict)\n",
        "    plt.axis('equal')\n",
        "    plt.legend(labels=s2.index, loc='upper right')\n",
        " \n",
        "    plt.show()"
      ],
      "execution_count": 126,
      "outputs": []
    },
    {
      "cell_type": "code",
      "metadata": {
        "colab": {
          "base_uri": "https://localhost:8080/",
          "height": 408
        },
        "id": "ESE9nk-ww5JE",
        "outputId": "9820b686-af1d-4404-f4c8-cc3c95bd35ea"
      },
      "source": [
        "names = ['High-Risk', 'Low-Risk']\n",
        "val1, val2 = num_high_risk_merchants, num_other_merchants\n",
        "sup_title = 'Count Plot and Percentage Plot of High-Risk vs Low-Risk Merchants'\n",
        "colours = ['Purple', 'Teal']\n",
        "\n",
        "plot_merchants_split(names, val1, val2, size, sup_title)"
      ],
      "execution_count": 127,
      "outputs": [
        {
          "output_type": "display_data",
          "data": {
            "image/png": "[encoded data removed]",
            "text/plain": [
              "<Figure size 1728x432 with 2 Axes>"
            ]
          },
          "metadata": {}
        }
      ]
    },
    {
      "cell_type": "markdown",
      "metadata": {
        "id": "cYfCTHYcAsua"
      },
      "source": [
        "From these charts, we can see that only 8% of Merchants constitute about 98% of fraud transactions. We need to take a much closer look at how these merchants conduct their day-to-day activities."
      ]
    },
    {
      "cell_type": "markdown",
      "metadata": {
        "id": "RgimAlDH_28P"
      },
      "source": [
        "### 9. Finding Distinct Patterns of High-Risk Merchants\n",
        "\n",
        "What are the common patterns among merchants who record the most fraud? For example: \n",
        "* What's the average transactions volume per week for high-risk merchants and others? \n",
        "* Is there a correlation between fraud-count and transaction-count when compared to high-risk and other merchants? \n"
      ]
    },
    {
      "cell_type": "markdown",
      "metadata": {
        "id": "eud4tvYk_Frt"
      },
      "source": [
        "**Let's see the descriptive statistics for these `top-concern` merchants**"
      ]
    },
    {
      "cell_type": "code",
      "metadata": {
        "colab": {
          "base_uri": "https://localhost:8080/",
          "height": 204
        },
        "id": "irUU7Xqi_R7p",
        "outputId": "52f7806a-dad1-4d31-eb2f-89e04c9feae1"
      },
      "source": [
        "# Let's see for Categorical Variables of top-concern merchants\n",
        "\n",
        "high_risk.describe(include='object').T"
      ],
      "execution_count": 128,
      "outputs": [
        {
          "output_type": "execute_result",
          "data": {
            "text/html": [
              "<div>\n",
              "<style scoped>\n",
              "    .dataframe tbody tr th:only-of-type {\n",
              "        vertical-align: middle;\n",
              "    }\n",
              "\n",
              "    .dataframe tbody tr th {\n",
              "        vertical-align: top;\n",
              "    }\n",
              "\n",
              "    .dataframe thead th {\n",
              "        text-align: right;\n",
              "    }\n",
              "</style>\n",
              "<table border=\"1\" class=\"dataframe\">\n",
              "  <thead>\n",
              "    <tr style=\"text-align: right;\">\n",
              "      <th></th>\n",
              "      <th>count</th>\n",
              "      <th>unique</th>\n",
              "      <th>top</th>\n",
              "      <th>freq</th>\n",
              "    </tr>\n",
              "  </thead>\n",
              "  <tbody>\n",
              "    <tr>\n",
              "      <th>merchant_industry</th>\n",
              "      <td>1521</td>\n",
              "      <td>2</td>\n",
              "      <td>LENDING</td>\n",
              "      <td>973</td>\n",
              "    </tr>\n",
              "    <tr>\n",
              "      <th>merchant_category</th>\n",
              "      <td>1521</td>\n",
              "      <td>2</td>\n",
              "      <td>Financial Services</td>\n",
              "      <td>973</td>\n",
              "    </tr>\n",
              "    <tr>\n",
              "      <th>merchant_country</th>\n",
              "      <td>1521</td>\n",
              "      <td>1</td>\n",
              "      <td>Nigeria</td>\n",
              "      <td>1521</td>\n",
              "    </tr>\n",
              "    <tr>\n",
              "      <th>currency</th>\n",
              "      <td>1521</td>\n",
              "      <td>1</td>\n",
              "      <td>NGN</td>\n",
              "      <td>1521</td>\n",
              "    </tr>\n",
              "    <tr>\n",
              "      <th>channel</th>\n",
              "      <td>1521</td>\n",
              "      <td>1</td>\n",
              "      <td>card</td>\n",
              "      <td>1521</td>\n",
              "    </tr>\n",
              "  </tbody>\n",
              "</table>\n",
              "</div>"
            ],
            "text/plain": [
              "                  count unique                 top  freq\n",
              "merchant_industry  1521      2             LENDING   973\n",
              "merchant_category  1521      2  Financial Services   973\n",
              "merchant_country   1521      1             Nigeria  1521\n",
              "currency           1521      1                 NGN  1521\n",
              "channel            1521      1                card  1521"
            ]
          },
          "metadata": {},
          "execution_count": 128
        }
      ]
    },
    {
      "cell_type": "code",
      "metadata": {
        "colab": {
          "base_uri": "https://localhost:8080/",
          "height": 204
        },
        "id": "JaEa0trX_iTg",
        "outputId": "9ef927d0-f260-45a8-c193-c1872272ed5c"
      },
      "source": [
        "# Let's see for Categorical Variables of other merchants\n",
        "\n",
        "others.describe(include='object').T"
      ],
      "execution_count": 129,
      "outputs": [
        {
          "output_type": "execute_result",
          "data": {
            "text/html": [
              "<div>\n",
              "<style scoped>\n",
              "    .dataframe tbody tr th:only-of-type {\n",
              "        vertical-align: middle;\n",
              "    }\n",
              "\n",
              "    .dataframe tbody tr th {\n",
              "        vertical-align: top;\n",
              "    }\n",
              "\n",
              "    .dataframe thead th {\n",
              "        text-align: right;\n",
              "    }\n",
              "</style>\n",
              "<table border=\"1\" class=\"dataframe\">\n",
              "  <thead>\n",
              "    <tr style=\"text-align: right;\">\n",
              "      <th></th>\n",
              "      <th>count</th>\n",
              "      <th>unique</th>\n",
              "      <th>top</th>\n",
              "      <th>freq</th>\n",
              "    </tr>\n",
              "  </thead>\n",
              "  <tbody>\n",
              "    <tr>\n",
              "      <th>merchant_industry</th>\n",
              "      <td>15897</td>\n",
              "      <td>61</td>\n",
              "      <td>GOODS-PHYSICAL</td>\n",
              "      <td>2714</td>\n",
              "    </tr>\n",
              "    <tr>\n",
              "      <th>merchant_category</th>\n",
              "      <td>15897</td>\n",
              "      <td>11</td>\n",
              "      <td>Digital Services</td>\n",
              "      <td>3035</td>\n",
              "    </tr>\n",
              "    <tr>\n",
              "      <th>merchant_country</th>\n",
              "      <td>15897</td>\n",
              "      <td>3</td>\n",
              "      <td>Nigeria</td>\n",
              "      <td>15840</td>\n",
              "    </tr>\n",
              "    <tr>\n",
              "      <th>currency</th>\n",
              "      <td>15897</td>\n",
              "      <td>4</td>\n",
              "      <td>NGN</td>\n",
              "      <td>15763</td>\n",
              "    </tr>\n",
              "    <tr>\n",
              "      <th>channel</th>\n",
              "      <td>15897</td>\n",
              "      <td>1</td>\n",
              "      <td>card</td>\n",
              "      <td>15897</td>\n",
              "    </tr>\n",
              "  </tbody>\n",
              "</table>\n",
              "</div>"
            ],
            "text/plain": [
              "                   count unique               top   freq\n",
              "merchant_industry  15897     61    GOODS-PHYSICAL   2714\n",
              "merchant_category  15897     11  Digital Services   3035\n",
              "merchant_country   15897      3           Nigeria  15840\n",
              "currency           15897      4               NGN  15763\n",
              "channel            15897      1              card  15897"
            ]
          },
          "metadata": {},
          "execution_count": 129
        }
      ]
    },
    {
      "cell_type": "code",
      "metadata": {
        "colab": {
          "base_uri": "https://localhost:8080/",
          "height": 266
        },
        "id": "3j8IcG1LJxKH",
        "outputId": "42a363ce-5b43-4df1-f2f0-c492ff0c7856"
      },
      "source": [
        "# Let's see for Numerical Variables of top-concern merchants\n",
        "\n",
        "high_risk.describe().T"
      ],
      "execution_count": 130,
      "outputs": [
        {
          "output_type": "execute_result",
          "data": {
            "text/html": [
              "<div>\n",
              "<style scoped>\n",
              "    .dataframe tbody tr th:only-of-type {\n",
              "        vertical-align: middle;\n",
              "    }\n",
              "\n",
              "    .dataframe tbody tr th {\n",
              "        vertical-align: top;\n",
              "    }\n",
              "\n",
              "    .dataframe thead th {\n",
              "        text-align: right;\n",
              "    }\n",
              "</style>\n",
              "<table border=\"1\" class=\"dataframe\">\n",
              "  <thead>\n",
              "    <tr style=\"text-align: right;\">\n",
              "      <th></th>\n",
              "      <th>count</th>\n",
              "      <th>mean</th>\n",
              "      <th>std</th>\n",
              "      <th>min</th>\n",
              "      <th>25%</th>\n",
              "      <th>50%</th>\n",
              "      <th>75%</th>\n",
              "      <th>max</th>\n",
              "    </tr>\n",
              "  </thead>\n",
              "  <tbody>\n",
              "    <tr>\n",
              "      <th>merchant_id</th>\n",
              "      <td>1521.0</td>\n",
              "      <td>4529.500329</td>\n",
              "      <td>2440.657734</td>\n",
              "      <td>65.000000</td>\n",
              "      <td>2520.000000</td>\n",
              "      <td>4571.000000</td>\n",
              "      <td>6835.000000</td>\n",
              "      <td>8.776000e+03</td>\n",
              "    </tr>\n",
              "    <tr>\n",
              "      <th>transaction_count</th>\n",
              "      <td>1521.0</td>\n",
              "      <td>3538.559500</td>\n",
              "      <td>23489.974503</td>\n",
              "      <td>1.000000</td>\n",
              "      <td>4.000000</td>\n",
              "      <td>26.000000</td>\n",
              "      <td>379.000000</td>\n",
              "      <td>2.758660e+05</td>\n",
              "    </tr>\n",
              "    <tr>\n",
              "      <th>transaction_volume_usd</th>\n",
              "      <td>1521.0</td>\n",
              "      <td>32272.061795</td>\n",
              "      <td>159843.601025</td>\n",
              "      <td>0.000131</td>\n",
              "      <td>19.181102</td>\n",
              "      <td>254.397559</td>\n",
              "      <td>3792.478163</td>\n",
              "      <td>2.271810e+06</td>\n",
              "    </tr>\n",
              "    <tr>\n",
              "      <th>fraud_count</th>\n",
              "      <td>1521.0</td>\n",
              "      <td>0.807364</td>\n",
              "      <td>7.982570</td>\n",
              "      <td>0.000000</td>\n",
              "      <td>0.000000</td>\n",
              "      <td>0.000000</td>\n",
              "      <td>0.000000</td>\n",
              "      <td>1.700000e+02</td>\n",
              "    </tr>\n",
              "    <tr>\n",
              "      <th>fraud_volume_usd</th>\n",
              "      <td>1521.0</td>\n",
              "      <td>102.467606</td>\n",
              "      <td>1082.253882</td>\n",
              "      <td>0.000000</td>\n",
              "      <td>0.000000</td>\n",
              "      <td>0.000000</td>\n",
              "      <td>0.000000</td>\n",
              "      <td>2.017848e+04</td>\n",
              "    </tr>\n",
              "    <tr>\n",
              "      <th>otp_fraud</th>\n",
              "      <td>1521.0</td>\n",
              "      <td>0.077581</td>\n",
              "      <td>0.733971</td>\n",
              "      <td>0.000000</td>\n",
              "      <td>0.000000</td>\n",
              "      <td>0.000000</td>\n",
              "      <td>0.000000</td>\n",
              "      <td>1.700000e+01</td>\n",
              "    </tr>\n",
              "    <tr>\n",
              "      <th>otp_all_transactions</th>\n",
              "      <td>1521.0</td>\n",
              "      <td>994.812623</td>\n",
              "      <td>9014.567615</td>\n",
              "      <td>0.000000</td>\n",
              "      <td>2.000000</td>\n",
              "      <td>17.000000</td>\n",
              "      <td>230.000000</td>\n",
              "      <td>2.015910e+05</td>\n",
              "    </tr>\n",
              "  </tbody>\n",
              "</table>\n",
              "</div>"
            ],
            "text/plain": [
              "                         count          mean  ...          75%           max\n",
              "merchant_id             1521.0   4529.500329  ...  6835.000000  8.776000e+03\n",
              "transaction_count       1521.0   3538.559500  ...   379.000000  2.758660e+05\n",
              "transaction_volume_usd  1521.0  32272.061795  ...  3792.478163  2.271810e+06\n",
              "fraud_count             1521.0      0.807364  ...     0.000000  1.700000e+02\n",
              "fraud_volume_usd        1521.0    102.467606  ...     0.000000  2.017848e+04\n",
              "otp_fraud               1521.0      0.077581  ...     0.000000  1.700000e+01\n",
              "otp_all_transactions    1521.0    994.812623  ...   230.000000  2.015910e+05\n",
              "\n",
              "[7 rows x 8 columns]"
            ]
          },
          "metadata": {},
          "execution_count": 130
        }
      ]
    },
    {
      "cell_type": "code",
      "metadata": {
        "colab": {
          "base_uri": "https://localhost:8080/",
          "height": 266
        },
        "id": "SU1sRJKFBMJe",
        "outputId": "9fca864d-e486-46b7-a9ec-1f676b983d8f"
      },
      "source": [
        "# Let's see for Numerical Variables of other merchants\n",
        "\n",
        "others.describe().T"
      ],
      "execution_count": 131,
      "outputs": [
        {
          "output_type": "execute_result",
          "data": {
            "text/html": [
              "<div>\n",
              "<style scoped>\n",
              "    .dataframe tbody tr th:only-of-type {\n",
              "        vertical-align: middle;\n",
              "    }\n",
              "\n",
              "    .dataframe tbody tr th {\n",
              "        vertical-align: top;\n",
              "    }\n",
              "\n",
              "    .dataframe thead th {\n",
              "        text-align: right;\n",
              "    }\n",
              "</style>\n",
              "<table border=\"1\" class=\"dataframe\">\n",
              "  <thead>\n",
              "    <tr style=\"text-align: right;\">\n",
              "      <th></th>\n",
              "      <th>count</th>\n",
              "      <th>mean</th>\n",
              "      <th>std</th>\n",
              "      <th>min</th>\n",
              "      <th>25%</th>\n",
              "      <th>50%</th>\n",
              "      <th>75%</th>\n",
              "      <th>max</th>\n",
              "    </tr>\n",
              "  </thead>\n",
              "  <tbody>\n",
              "    <tr>\n",
              "      <th>merchant_id</th>\n",
              "      <td>15897.0</td>\n",
              "      <td>4337.852740</td>\n",
              "      <td>2521.710303</td>\n",
              "      <td>1.000000</td>\n",
              "      <td>2156.000000</td>\n",
              "      <td>4340.000000</td>\n",
              "      <td>6489.000000</td>\n",
              "      <td>8.809000e+03</td>\n",
              "    </tr>\n",
              "    <tr>\n",
              "      <th>transaction_count</th>\n",
              "      <td>15897.0</td>\n",
              "      <td>175.156633</td>\n",
              "      <td>3775.687452</td>\n",
              "      <td>1.000000</td>\n",
              "      <td>1.000000</td>\n",
              "      <td>2.000000</td>\n",
              "      <td>9.000000</td>\n",
              "      <td>1.716440e+05</td>\n",
              "    </tr>\n",
              "    <tr>\n",
              "      <th>transaction_volume_usd</th>\n",
              "      <td>15897.0</td>\n",
              "      <td>4281.138742</td>\n",
              "      <td>52743.628819</td>\n",
              "      <td>0.000026</td>\n",
              "      <td>8.764698</td>\n",
              "      <td>39.370079</td>\n",
              "      <td>194.225722</td>\n",
              "      <td>2.444412e+06</td>\n",
              "    </tr>\n",
              "    <tr>\n",
              "      <th>fraud_count</th>\n",
              "      <td>15897.0</td>\n",
              "      <td>0.006039</td>\n",
              "      <td>0.192888</td>\n",
              "      <td>0.000000</td>\n",
              "      <td>0.000000</td>\n",
              "      <td>0.000000</td>\n",
              "      <td>0.000000</td>\n",
              "      <td>1.500000e+01</td>\n",
              "    </tr>\n",
              "    <tr>\n",
              "      <th>fraud_volume_usd</th>\n",
              "      <td>15897.0</td>\n",
              "      <td>1.374160</td>\n",
              "      <td>71.472388</td>\n",
              "      <td>0.000000</td>\n",
              "      <td>0.000000</td>\n",
              "      <td>0.000000</td>\n",
              "      <td>0.000000</td>\n",
              "      <td>6.430446e+03</td>\n",
              "    </tr>\n",
              "    <tr>\n",
              "      <th>otp_fraud</th>\n",
              "      <td>15897.0</td>\n",
              "      <td>0.001447</td>\n",
              "      <td>0.073966</td>\n",
              "      <td>0.000000</td>\n",
              "      <td>0.000000</td>\n",
              "      <td>0.000000</td>\n",
              "      <td>0.000000</td>\n",
              "      <td>8.000000e+00</td>\n",
              "    </tr>\n",
              "    <tr>\n",
              "      <th>otp_all_transactions</th>\n",
              "      <td>15897.0</td>\n",
              "      <td>35.779329</td>\n",
              "      <td>237.725621</td>\n",
              "      <td>0.000000</td>\n",
              "      <td>1.000000</td>\n",
              "      <td>2.000000</td>\n",
              "      <td>7.000000</td>\n",
              "      <td>6.980000e+03</td>\n",
              "    </tr>\n",
              "  </tbody>\n",
              "</table>\n",
              "</div>"
            ],
            "text/plain": [
              "                          count         mean  ...          75%           max\n",
              "merchant_id             15897.0  4337.852740  ...  6489.000000  8.809000e+03\n",
              "transaction_count       15897.0   175.156633  ...     9.000000  1.716440e+05\n",
              "transaction_volume_usd  15897.0  4281.138742  ...   194.225722  2.444412e+06\n",
              "fraud_count             15897.0     0.006039  ...     0.000000  1.500000e+01\n",
              "fraud_volume_usd        15897.0     1.374160  ...     0.000000  6.430446e+03\n",
              "otp_fraud               15897.0     0.001447  ...     0.000000  8.000000e+00\n",
              "otp_all_transactions    15897.0    35.779329  ...     7.000000  6.980000e+03\n",
              "\n",
              "[7 rows x 8 columns]"
            ]
          },
          "metadata": {},
          "execution_count": 131
        }
      ]
    },
    {
      "cell_type": "markdown",
      "metadata": {
        "id": "X9lWMIlUCWos"
      },
      "source": [
        "From the describtive stats above, we can see that...\n",
        "* High-Risk merchants on average performed 3538 transactions within these two months, whie other merchants did an average of 175 transactions.\n",
        "* High-Risk merchants in the Betting and Lending business did an average of `$32k` USD for these two months. Others did an average of `$4.2k` USD."
      ]
    },
    {
      "cell_type": "markdown",
      "metadata": {
        "id": "7sP7Uz87yivl"
      },
      "source": [
        "* **What's the average transactions count per week for high-risk merchants and others?** "
      ]
    },
    {
      "cell_type": "code",
      "metadata": {
        "colab": {
          "base_uri": "https://localhost:8080/",
          "height": 131
        },
        "id": "8PrzFlrU5d2m",
        "outputId": "878ae904-1be2-47b4-db78-9e9e31d76b16"
      },
      "source": [
        "high_risk.head(2)"
      ],
      "execution_count": 132,
      "outputs": [
        {
          "output_type": "execute_result",
          "data": {
            "text/html": [
              "<div>\n",
              "<style scoped>\n",
              "    .dataframe tbody tr th:only-of-type {\n",
              "        vertical-align: middle;\n",
              "    }\n",
              "\n",
              "    .dataframe tbody tr th {\n",
              "        vertical-align: top;\n",
              "    }\n",
              "\n",
              "    .dataframe thead th {\n",
              "        text-align: right;\n",
              "    }\n",
              "</style>\n",
              "<table border=\"1\" class=\"dataframe\">\n",
              "  <thead>\n",
              "    <tr style=\"text-align: right;\">\n",
              "      <th></th>\n",
              "      <th>merchant_id</th>\n",
              "      <th>merchant_industry</th>\n",
              "      <th>merchant_category</th>\n",
              "      <th>merchant_country</th>\n",
              "      <th>currency</th>\n",
              "      <th>transaction_week_start_date</th>\n",
              "      <th>channel</th>\n",
              "      <th>transaction_count</th>\n",
              "      <th>transaction_volume_usd</th>\n",
              "      <th>fraud_count</th>\n",
              "      <th>fraud_volume_usd</th>\n",
              "      <th>otp_fraud</th>\n",
              "      <th>otp_all_transactions</th>\n",
              "    </tr>\n",
              "  </thead>\n",
              "  <tbody>\n",
              "    <tr>\n",
              "      <th>27</th>\n",
              "      <td>118</td>\n",
              "      <td>LENDING</td>\n",
              "      <td>Financial Services</td>\n",
              "      <td>Nigeria</td>\n",
              "      <td>NGN</td>\n",
              "      <td>2021-06-07</td>\n",
              "      <td>card</td>\n",
              "      <td>2511</td>\n",
              "      <td>30218.315853</td>\n",
              "      <td>0</td>\n",
              "      <td>0.0</td>\n",
              "      <td>0</td>\n",
              "      <td>579</td>\n",
              "    </tr>\n",
              "    <tr>\n",
              "      <th>29</th>\n",
              "      <td>126</td>\n",
              "      <td>BETTING</td>\n",
              "      <td>Betting</td>\n",
              "      <td>Nigeria</td>\n",
              "      <td>NGN</td>\n",
              "      <td>2021-06-07</td>\n",
              "      <td>card</td>\n",
              "      <td>2</td>\n",
              "      <td>19.685039</td>\n",
              "      <td>0</td>\n",
              "      <td>0.0</td>\n",
              "      <td>0</td>\n",
              "      <td>1</td>\n",
              "    </tr>\n",
              "  </tbody>\n",
              "</table>\n",
              "</div>"
            ],
            "text/plain": [
              "    merchant_id merchant_industry  ... otp_fraud otp_all_transactions\n",
              "27          118           LENDING  ...         0                  579\n",
              "29          126           BETTING  ...         0                    1\n",
              "\n",
              "[2 rows x 13 columns]"
            ]
          },
          "metadata": {},
          "execution_count": 132
        }
      ]
    },
    {
      "cell_type": "code",
      "metadata": {
        "id": "K9iU011q2Gsw"
      },
      "source": [
        "def find_ave_weekly_trans(df1, df2, dates):\n",
        "    \"\"\"Function to find the average transactions done weekly\n",
        "    by high-risk and other merchants.\n",
        "\n",
        "    @param df1 and df2: Dataframes for high-risk and other merchants\n",
        "    @param col1 and col2: strings, column names to compute ratios\n",
        "    @return: Dataframe of computed results\n",
        "    \"\"\"\n",
        "\n",
        "    june = 'Jun_W'\n",
        "    july = 'Jul_W'\n",
        "    cols = ['High_Risk', 'Others']\n",
        "    inds = []\n",
        "    ave_trans = []\n",
        "    i, j = 0, 0\n",
        "\n",
        "    for date in dates:\n",
        "        temp_list = []\n",
        "        temp1 = df1[df1['transaction_week_start_date'] == date]\n",
        "        temp2 = df2[df2['transaction_week_start_date'] == date]\n",
        "        temp_list.append(temp1.transaction_count.mean())\n",
        "        temp_list.append(temp2.transaction_count.mean())\n",
        "        ave_trans.append(temp_list)\n",
        "        if dates.index(date) < 4:\n",
        "            i+=1\n",
        "            inds.append(june+str(i))\n",
        "        else:\n",
        "            j+=1\n",
        "            inds.append(july+str(j))\n",
        "    \n",
        "        ratio_df = pd.DataFrame(ave_trans, index=inds, columns=cols)\n",
        "       \n",
        "    return ratio_df"
      ],
      "execution_count": 133,
      "outputs": []
    },
    {
      "cell_type": "code",
      "metadata": {
        "colab": {
          "base_uri": "https://localhost:8080/",
          "height": 297
        },
        "id": "b-KmslBRykVd",
        "outputId": "d0fe113f-057b-4743-d24f-0e02e5618d24"
      },
      "source": [
        "df1 = high_risk\n",
        "df2 = others\n",
        "dates = weekly_dates\n",
        "\n",
        "ave_weekly_trans_df = find_ave_weekly_trans(df1, df2, dates)\n",
        "ave_weekly_trans_df"
      ],
      "execution_count": 134,
      "outputs": [
        {
          "output_type": "execute_result",
          "data": {
            "text/html": [
              "<div>\n",
              "<style scoped>\n",
              "    .dataframe tbody tr th:only-of-type {\n",
              "        vertical-align: middle;\n",
              "    }\n",
              "\n",
              "    .dataframe tbody tr th {\n",
              "        vertical-align: top;\n",
              "    }\n",
              "\n",
              "    .dataframe thead th {\n",
              "        text-align: right;\n",
              "    }\n",
              "</style>\n",
              "<table border=\"1\" class=\"dataframe\">\n",
              "  <thead>\n",
              "    <tr style=\"text-align: right;\">\n",
              "      <th></th>\n",
              "      <th>High_Risk</th>\n",
              "      <th>Others</th>\n",
              "    </tr>\n",
              "  </thead>\n",
              "  <tbody>\n",
              "    <tr>\n",
              "      <th>Jun_W1</th>\n",
              "      <td>3559.687500</td>\n",
              "      <td>162.752460</td>\n",
              "    </tr>\n",
              "    <tr>\n",
              "      <th>Jun_W2</th>\n",
              "      <td>3976.813187</td>\n",
              "      <td>177.215104</td>\n",
              "    </tr>\n",
              "    <tr>\n",
              "      <th>Jun_W3</th>\n",
              "      <td>3685.256545</td>\n",
              "      <td>190.459042</td>\n",
              "    </tr>\n",
              "    <tr>\n",
              "      <th>Jun_W4</th>\n",
              "      <td>3392.797980</td>\n",
              "      <td>180.254625</td>\n",
              "    </tr>\n",
              "    <tr>\n",
              "      <th>Jul_W1</th>\n",
              "      <td>3720.910053</td>\n",
              "      <td>164.394671</td>\n",
              "    </tr>\n",
              "    <tr>\n",
              "      <th>Jul_W2</th>\n",
              "      <td>3303.219251</td>\n",
              "      <td>173.728136</td>\n",
              "    </tr>\n",
              "    <tr>\n",
              "      <th>Jul_W3</th>\n",
              "      <td>3351.684211</td>\n",
              "      <td>172.538151</td>\n",
              "    </tr>\n",
              "    <tr>\n",
              "      <th>Jul_W4</th>\n",
              "      <td>3341.026042</td>\n",
              "      <td>179.610471</td>\n",
              "    </tr>\n",
              "  </tbody>\n",
              "</table>\n",
              "</div>"
            ],
            "text/plain": [
              "          High_Risk      Others\n",
              "Jun_W1  3559.687500  162.752460\n",
              "Jun_W2  3976.813187  177.215104\n",
              "Jun_W3  3685.256545  190.459042\n",
              "Jun_W4  3392.797980  180.254625\n",
              "Jul_W1  3720.910053  164.394671\n",
              "Jul_W2  3303.219251  173.728136\n",
              "Jul_W3  3351.684211  172.538151\n",
              "Jul_W4  3341.026042  179.610471"
            ]
          },
          "metadata": {},
          "execution_count": 134
        }
      ]
    },
    {
      "cell_type": "code",
      "metadata": {
        "colab": {
          "base_uri": "https://localhost:8080/"
        },
        "id": "NQLjuvAit2ZH",
        "outputId": "77ea9123-6df4-4cb8-ac01-1cdbdecb3ff0"
      },
      "source": [
        "print(f'On a weekly average, High-Risk merchants do {round(ave_weekly_trans_df.High_Risk.mean())}, while others do {round(ave_weekly_trans_df.Others.mean())} transactions.')"
      ],
      "execution_count": 135,
      "outputs": [
        {
          "output_type": "stream",
          "name": "stdout",
          "text": [
            "On a weekly average, High-Risk merchants do 3541, while others do 175 transactions.\n"
          ]
        }
      ]
    },
    {
      "cell_type": "code",
      "metadata": {
        "colab": {
          "base_uri": "https://localhost:8080/",
          "height": 407
        },
        "id": "xciH60PixNID",
        "outputId": "8ff8fe96-4b33-4758-a99b-b64bec43269b"
      },
      "source": [
        "# First let's define a Font Dict\n",
        "fontDict ={'fontsize': 18,\n",
        "        'fontweight' : 'bold',\n",
        "        'verticalalignment': 'baseline',\n",
        "      'color': 'Black',\n",
        "       'family':'DejaVu Sans'}\n",
        "\n",
        "ave_weekly_trans_df.plot(kind='area', figsize=(18,6))\n",
        "plt.title('Average Weekly Transactions: High-Risk vs Other Merchants', fontdict=fontDict)\n",
        "\n",
        "fontDict['fontsize'] = 14\n",
        "fontDict['color'] = 'Red'\n",
        "plt.xlabel('Week', fontdict=fontDict)\n",
        "plt.ylabel('Count', fontdict=fontDict)\n",
        "plt.show()"
      ],
      "execution_count": 136,
      "outputs": [
        {
          "output_type": "display_data",
          "data": {
            "image/png": "[encoded data removed]",
            "text/plain": [
              "<Figure size 1296x432 with 1 Axes>"
            ]
          },
          "metadata": {}
        }
      ]
    },
    {
      "cell_type": "markdown",
      "metadata": {
        "id": "i4GMj0-Y00PF"
      },
      "source": [
        "**Observing weekly Fraud and Transactions trend for High-Risk Merchants.**"
      ]
    },
    {
      "cell_type": "code",
      "metadata": {
        "id": "hrCxjQcD1AzV"
      },
      "source": [
        "weeks_list = weekly_dates\n",
        "df_list = [high_risk]\n",
        "names = ['Weekly Fraud Count: High-Risk', 'Weekly Transaction Count: High-Risk']\n",
        "\n",
        "weekly_fraud_count, weekly_transact_count = get_weekly_fraud_and_transaction_counts(weeks_list, df_list, names=names)"
      ],
      "execution_count": 137,
      "outputs": []
    },
    {
      "cell_type": "code",
      "metadata": {
        "colab": {
          "base_uri": "https://localhost:8080/"
        },
        "id": "ed_vClOlISRA",
        "outputId": "fc7cbdad-e7f9-4e87-b012-d28c55dc80a6"
      },
      "source": [
        "weekly_fraud_count"
      ],
      "execution_count": 138,
      "outputs": [
        {
          "output_type": "execute_result",
          "data": {
            "text/plain": [
              "June_W1    246\n",
              "June_W2    272\n",
              "June_W3    180\n",
              "June_W4    206\n",
              "July_W1     92\n",
              "July_W2     88\n",
              "July_W3     53\n",
              "July_W4     91\n",
              "Name: Weekly Fraud Count: High-Risk, dtype: int64"
            ]
          },
          "metadata": {},
          "execution_count": 138
        }
      ]
    },
    {
      "cell_type": "code",
      "metadata": {
        "colab": {
          "base_uri": "https://localhost:8080/"
        },
        "id": "HlO4i5OJIXrQ",
        "outputId": "c636cc61-b3c7-460e-f40f-0a12a6faec6d"
      },
      "source": [
        "weekly_transact_count"
      ],
      "execution_count": 139,
      "outputs": [
        {
          "output_type": "execute_result",
          "data": {
            "text/plain": [
              "June_W1    683460\n",
              "June_W2    723780\n",
              "June_W3    703884\n",
              "June_W4    671774\n",
              "July_W1    703252\n",
              "July_W2    617702\n",
              "July_W3    636820\n",
              "July_W4    641477\n",
              "Name: Weekly Transaction Count: High-Risk, dtype: int64"
            ]
          },
          "metadata": {},
          "execution_count": 139
        }
      ]
    },
    {
      "cell_type": "code",
      "metadata": {
        "colab": {
          "base_uri": "https://localhost:8080/",
          "height": 375
        },
        "id": "E8NrGlK93068",
        "outputId": "29a2ff4f-8c94-4f9f-a8ff-6b1e66aa2dbf"
      },
      "source": [
        "s1 = weekly_fraud_count\n",
        "s2 = weekly_transact_count\n",
        "\n",
        "plot_weekly_trends(s1, s2)"
      ],
      "execution_count": 140,
      "outputs": [
        {
          "output_type": "display_data",
          "data": {
            "image/png": "[encoded data removed]",
            "text/plain": [
              "<Figure size 1728x432 with 2 Axes>"
            ]
          },
          "metadata": {}
        }
      ]
    },
    {
      "cell_type": "markdown",
      "metadata": {
        "id": "xv45saNQKwUa"
      },
      "source": [
        "This relationship does not tell us anything distinct about the Top-Concern or High-Risk merchants, the weekly data looks very similar to the weekly trend for the entire data set.\n",
        "\n",
        "The only distinct trait seen so far is that Merchants in the high-Risk industries of Betting and Lending perform a lot more transactions on average weekly, than regular merchants and record over 96% of all fraud attempts."
      ]
    },
    {
      "cell_type": "markdown",
      "metadata": {
        "id": "fhba_OqkOpsr"
      },
      "source": [
        "### 10. Applying Clustering Machine Learning Algorithm\n",
        "\n",
        "Here, we shall apply a simple K-means algorithm to the data to see if we can find any hidden patterns or clusters"
      ]
    },
    {
      "cell_type": "code",
      "metadata": {
        "id": "73co3MIHLBs-"
      },
      "source": [
        ""
      ],
      "execution_count": 140,
      "outputs": []
    }
  ]
}