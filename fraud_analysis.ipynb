{
  "nbformat": 4,
  "nbformat_minor": 0,
  "metadata": {
    "colab": {
      "name": "fraud_analysis.ipynb",
      "provenance": [],
      "collapsed_sections": [],
      "authorship_tag": "ABX9TyOZ5JwjlpCWuw1C1PIpZCSE",
      "include_colab_link": true
    },
    "kernelspec": {
      "name": "python3",
      "display_name": "Python 3"
    },
    "language_info": {
      "name": "python"
    }
  },
  "cells": [
    {
      "cell_type": "markdown",
      "metadata": {
        "id": "view-in-github",
        "colab_type": "text"
      },
      "source": [
        "<a href=\"https://colab.research.google.com/github/Lawrence-Krukrubo/fraud_analyst_assignment/blob/main/fraud_analysis.ipynb\" target=\"_parent\"><img src=\"https://colab.research.google.com/assets/colab-badge.svg\" alt=\"Open In Colab\"/></a>"
      ]
    },
    {
      "cell_type": "code",
      "metadata": {
        "colab": {
          "base_uri": "https://localhost:8080/"
        },
        "id": "twEScLqe6RH3",
        "outputId": "422a4ce1-68c4-467a-cdb8-6716f1b71d88"
      },
      "source": [
        "# First let's mount Google Drive so we can navigate the folders as needed\n",
        "from google.colab import drive\n",
        "drive.mount('/content/gdrive')"
      ],
      "execution_count": 1,
      "outputs": [
        {
          "output_type": "stream",
          "name": "stdout",
          "text": [
            "Mounted at /content/gdrive\n"
          ]
        }
      ]
    },
    {
      "cell_type": "markdown",
      "metadata": {
        "id": "DZ4cai_48dZM"
      },
      "source": [
        "Let's import some much needed libraries..."
      ]
    },
    {
      "cell_type": "code",
      "metadata": {
        "colab": {
          "base_uri": "https://localhost:8080/"
        },
        "id": "Wa8gujGQ5yua",
        "outputId": "2ef883db-14fa-4d56-b57e-f3c3b16a15b8"
      },
      "source": [
        "import os\n",
        "import pandas as pd\n",
        "import numpy as np\n",
        "import matplotlib.pyplot as plt\n",
        "import seaborn as sns\n",
        "import plotly.express as px\n",
        "import plotly.graph_objects as go\n",
        "import xlrd\n",
        "print('done!')"
      ],
      "execution_count": 2,
      "outputs": [
        {
          "output_type": "stream",
          "name": "stdout",
          "text": [
            "done!\n"
          ]
        }
      ]
    },
    {
      "cell_type": "markdown",
      "metadata": {
        "id": "4ewL2RK07xdy"
      },
      "source": [
        "Let's change our Directory to the Fraud directory containing our data"
      ]
    },
    {
      "cell_type": "code",
      "metadata": {
        "colab": {
          "base_uri": "https://localhost:8080/"
        },
        "id": "b1lzL6id5851",
        "outputId": "ec9d803e-bdfd-45ab-fb0c-755b931fb4bd"
      },
      "source": [
        "FRAUD_DIR = '/content/gdrive/MyDrive/Colab_Notebooks/fraud_analyst_assignment'\n",
        "os.chdir(FRAUD_DIR)\n",
        "print(f'Current Dir: {os.getcwd()}')"
      ],
      "execution_count": 3,
      "outputs": [
        {
          "output_type": "stream",
          "name": "stdout",
          "text": [
            "Current Dir: /content/gdrive/MyDrive/Colab_Notebooks/fraud_analyst_assignment\n"
          ]
        }
      ]
    },
    {
      "cell_type": "code",
      "metadata": {
        "colab": {
          "base_uri": "https://localhost:8080/"
        },
        "id": "M9wIfqEC8Nf2",
        "outputId": "b4a094bb-dded-4ee0-875a-e3705b900c1e"
      },
      "source": [
        "# Let's see the contents of the CWD\n",
        "os.listdir()"
      ],
      "execution_count": 4,
      "outputs": [
        {
          "output_type": "execute_result",
          "data": {
            "text/plain": [
              "['Fraud_sample_data.xlsx', 'questionsAndPoints.gdoc', 'fraud_analysis.ipynb']"
            ]
          },
          "metadata": {},
          "execution_count": 4
        }
      ]
    },
    {
      "cell_type": "markdown",
      "metadata": {
        "id": "TuLh8cJY89yb"
      },
      "source": [
        "The dataset contains 3 sheets, the first at index 0 is the data dictionary, the remaining two at indexes 1 and 2 are June and July transactions respectively.<br>Let's read out the data dictionary to guide us"
      ]
    },
    {
      "cell_type": "code",
      "metadata": {
        "colab": {
          "base_uri": "https://localhost:8080/",
          "height": 452
        },
        "id": "hpHepISY9ZN6",
        "outputId": "f8a30309-5472-4af2-85d6-51e55aa4f740"
      },
      "source": [
        "pd.set_option('max_colwidth', None)  # So that we see full field descriptions\n",
        "data_dict = pd.read_excel('Fraud_sample_data.xlsx', sheet_name=0)\n",
        "data_dict"
      ],
      "execution_count": 5,
      "outputs": [
        {
          "output_type": "execute_result",
          "data": {
            "text/html": [
              "<div>\n",
              "<style scoped>\n",
              "    .dataframe tbody tr th:only-of-type {\n",
              "        vertical-align: middle;\n",
              "    }\n",
              "\n",
              "    .dataframe tbody tr th {\n",
              "        vertical-align: top;\n",
              "    }\n",
              "\n",
              "    .dataframe thead th {\n",
              "        text-align: right;\n",
              "    }\n",
              "</style>\n",
              "<table border=\"1\" class=\"dataframe\">\n",
              "  <thead>\n",
              "    <tr style=\"text-align: right;\">\n",
              "      <th></th>\n",
              "      <th>Field name</th>\n",
              "      <th>Field description</th>\n",
              "    </tr>\n",
              "  </thead>\n",
              "  <tbody>\n",
              "    <tr>\n",
              "      <th>0</th>\n",
              "      <td>merchant_id</td>\n",
              "      <td>Randomly generated identifier to represent a merchant</td>\n",
              "    </tr>\n",
              "    <tr>\n",
              "      <th>1</th>\n",
              "      <td>merchant_industry</td>\n",
              "      <td>Industry in which the merchant operates</td>\n",
              "    </tr>\n",
              "    <tr>\n",
              "      <th>2</th>\n",
              "      <td>merchant_category</td>\n",
              "      <td>Business category of the merchant</td>\n",
              "    </tr>\n",
              "    <tr>\n",
              "      <th>3</th>\n",
              "      <td>merchant_country</td>\n",
              "      <td>The country in which the merchant is based</td>\n",
              "    </tr>\n",
              "    <tr>\n",
              "      <th>4</th>\n",
              "      <td>currency</td>\n",
              "      <td>The local currency the transcation was processed in</td>\n",
              "    </tr>\n",
              "    <tr>\n",
              "      <th>5</th>\n",
              "      <td>transaction_week_start_date</td>\n",
              "      <td>Week in which the transaction occured</td>\n",
              "    </tr>\n",
              "    <tr>\n",
              "      <th>6</th>\n",
              "      <td>channel</td>\n",
              "      <td>The payment method for the transaction</td>\n",
              "    </tr>\n",
              "    <tr>\n",
              "      <th>7</th>\n",
              "      <td>transaction_count</td>\n",
              "      <td>The number of transactions for the day</td>\n",
              "    </tr>\n",
              "    <tr>\n",
              "      <th>8</th>\n",
              "      <td>transaction_volume_usd</td>\n",
              "      <td>The total value of the transactions converted to USD</td>\n",
              "    </tr>\n",
              "    <tr>\n",
              "      <th>9</th>\n",
              "      <td>fraud_count</td>\n",
              "      <td>The number of transactions which were reported as fraudulent for the day</td>\n",
              "    </tr>\n",
              "    <tr>\n",
              "      <th>10</th>\n",
              "      <td>fraud_volume_usd</td>\n",
              "      <td>The total value of the transactions which were reported as fraudulent converted to USD</td>\n",
              "    </tr>\n",
              "    <tr>\n",
              "      <th>11</th>\n",
              "      <td>otp_fraud</td>\n",
              "      <td>The number of fraudulent transactions which were authenticated using a one time pin</td>\n",
              "    </tr>\n",
              "    <tr>\n",
              "      <th>12</th>\n",
              "      <td>otp_all_transactions</td>\n",
              "      <td>The number of total transactions which were authenticated using a one time pin</td>\n",
              "    </tr>\n",
              "  </tbody>\n",
              "</table>\n",
              "</div>"
            ],
            "text/plain": [
              "                     Field name                                                                       Field description\n",
              "0                   merchant_id                                   Randomly generated identifier to represent a merchant\n",
              "1             merchant_industry                                                 Industry in which the merchant operates\n",
              "2             merchant_category                                                       Business category of the merchant\n",
              "3              merchant_country                                              The country in which the merchant is based\n",
              "4                      currency                                    The local currency the transcation was processed in \n",
              "5   transaction_week_start_date                                                   Week in which the transaction occured\n",
              "6                       channel                                                  The payment method for the transaction\n",
              "7             transaction_count                                                  The number of transactions for the day\n",
              "8        transaction_volume_usd                                    The total value of the transactions converted to USD\n",
              "9                   fraud_count                The number of transactions which were reported as fraudulent for the day\n",
              "10             fraud_volume_usd  The total value of the transactions which were reported as fraudulent converted to USD\n",
              "11                    otp_fraud     The number of fraudulent transactions which were authenticated using a one time pin\n",
              "12         otp_all_transactions          The number of total transactions which were authenticated using a one time pin"
            ]
          },
          "metadata": {},
          "execution_count": 5
        }
      ]
    },
    {
      "cell_type": "markdown",
      "metadata": {
        "id": "qlUY6V-j-xSE"
      },
      "source": [
        "Now, let's read in the respective data for the months of June and July..."
      ]
    },
    {
      "cell_type": "code",
      "metadata": {
        "colab": {
          "base_uri": "https://localhost:8080/"
        },
        "id": "LJP6cV6d582u",
        "outputId": "f8c0f760-2c97-4bc1-de93-cafeb823aadd"
      },
      "source": [
        "# For June transactions\n",
        "june_df = pd.read_excel('Fraud_sample_data.xlsx', sheet_name=1)\n",
        "\n",
        "# For July transactions\n",
        "july_df = pd.read_excel('Fraud_sample_data.xlsx', sheet_name=2)\n",
        "print('done!')"
      ],
      "execution_count": 6,
      "outputs": [
        {
          "output_type": "stream",
          "name": "stdout",
          "text": [
            "done!\n"
          ]
        }
      ]
    },
    {
      "cell_type": "code",
      "metadata": {
        "colab": {
          "base_uri": "https://localhost:8080/"
        },
        "id": "lFrxsTiz_s_1",
        "outputId": "041a5962-a789-41b5-c84f-15a6e0233ea3"
      },
      "source": [
        "# Let's see the june and july data shapes\n",
        "print(f'June data shape: {june_df.shape}\\nJuly data shape: {july_df.shape}\\n')"
      ],
      "execution_count": 7,
      "outputs": [
        {
          "output_type": "stream",
          "name": "stdout",
          "text": [
            "June data shape: (8609, 13)\n",
            "July data shape: (8809, 13)\n",
            "\n"
          ]
        }
      ]
    },
    {
      "cell_type": "markdown",
      "metadata": {
        "id": "cG9TLuEGAV4n"
      },
      "source": [
        "We can see that July transactions have more observations than June, precisely 200 more.<br>But they both have the same dimensions of 13 features. Let's see the head and tail of June."
      ]
    },
    {
      "cell_type": "code",
      "metadata": {
        "colab": {
          "base_uri": "https://localhost:8080/",
          "height": 241
        },
        "id": "LwoDtCAKAU5y",
        "outputId": "061c6901-fa9c-4dc1-dee5-d9372635b983"
      },
      "source": [
        "june_df.head()"
      ],
      "execution_count": 8,
      "outputs": [
        {
          "output_type": "execute_result",
          "data": {
            "text/html": [
              "<div>\n",
              "<style scoped>\n",
              "    .dataframe tbody tr th:only-of-type {\n",
              "        vertical-align: middle;\n",
              "    }\n",
              "\n",
              "    .dataframe tbody tr th {\n",
              "        vertical-align: top;\n",
              "    }\n",
              "\n",
              "    .dataframe thead th {\n",
              "        text-align: right;\n",
              "    }\n",
              "</style>\n",
              "<table border=\"1\" class=\"dataframe\">\n",
              "  <thead>\n",
              "    <tr style=\"text-align: right;\">\n",
              "      <th></th>\n",
              "      <th>merchant_id</th>\n",
              "      <th>merchant_industry</th>\n",
              "      <th>merchant_category</th>\n",
              "      <th>merchant_country</th>\n",
              "      <th>currency</th>\n",
              "      <th>transaction_week_start_date</th>\n",
              "      <th>channel</th>\n",
              "      <th>transaction_count</th>\n",
              "      <th>transaction_volume_usd</th>\n",
              "      <th>fraud_count</th>\n",
              "      <th>fraud_volume_usd</th>\n",
              "      <th>otp_fraud</th>\n",
              "      <th>otp_all_transactions</th>\n",
              "    </tr>\n",
              "  </thead>\n",
              "  <tbody>\n",
              "    <tr>\n",
              "      <th>0</th>\n",
              "      <td>1</td>\n",
              "      <td>GOODS-PHYSICAL</td>\n",
              "      <td>e-Commerce</td>\n",
              "      <td>Nigeria</td>\n",
              "      <td>NGN</td>\n",
              "      <td>2021-06-07</td>\n",
              "      <td>card</td>\n",
              "      <td>5</td>\n",
              "      <td>231.590551</td>\n",
              "      <td>0</td>\n",
              "      <td>NaN</td>\n",
              "      <td>0</td>\n",
              "      <td>5</td>\n",
              "    </tr>\n",
              "    <tr>\n",
              "      <th>1</th>\n",
              "      <td>5</td>\n",
              "      <td>SERVICES-LEGAL</td>\n",
              "      <td>Other</td>\n",
              "      <td>Nigeria</td>\n",
              "      <td>NGN</td>\n",
              "      <td>2021-06-07</td>\n",
              "      <td>card</td>\n",
              "      <td>2</td>\n",
              "      <td>210.203412</td>\n",
              "      <td>0</td>\n",
              "      <td>NaN</td>\n",
              "      <td>0</td>\n",
              "      <td>2</td>\n",
              "    </tr>\n",
              "    <tr>\n",
              "      <th>2</th>\n",
              "      <td>9</td>\n",
              "      <td>TRAVEL</td>\n",
              "      <td>Travel &amp; Hospitality</td>\n",
              "      <td>Nigeria</td>\n",
              "      <td>NGN</td>\n",
              "      <td>2021-06-07</td>\n",
              "      <td>card</td>\n",
              "      <td>4</td>\n",
              "      <td>223.097113</td>\n",
              "      <td>0</td>\n",
              "      <td>NaN</td>\n",
              "      <td>0</td>\n",
              "      <td>1</td>\n",
              "    </tr>\n",
              "    <tr>\n",
              "      <th>3</th>\n",
              "      <td>11</td>\n",
              "      <td>SERVICES-PROFESSIONAL</td>\n",
              "      <td>Other</td>\n",
              "      <td>Nigeria</td>\n",
              "      <td>NGN</td>\n",
              "      <td>2021-06-07</td>\n",
              "      <td>card</td>\n",
              "      <td>5</td>\n",
              "      <td>212.335958</td>\n",
              "      <td>0</td>\n",
              "      <td>NaN</td>\n",
              "      <td>0</td>\n",
              "      <td>5</td>\n",
              "    </tr>\n",
              "    <tr>\n",
              "      <th>4</th>\n",
              "      <td>15</td>\n",
              "      <td>SERVICES-DIGITAL</td>\n",
              "      <td>Digital Services</td>\n",
              "      <td>Nigeria</td>\n",
              "      <td>NGN</td>\n",
              "      <td>2021-06-07</td>\n",
              "      <td>card</td>\n",
              "      <td>8</td>\n",
              "      <td>550.131234</td>\n",
              "      <td>0</td>\n",
              "      <td>NaN</td>\n",
              "      <td>0</td>\n",
              "      <td>8</td>\n",
              "    </tr>\n",
              "  </tbody>\n",
              "</table>\n",
              "</div>"
            ],
            "text/plain": [
              "   merchant_id      merchant_industry  ... otp_fraud otp_all_transactions\n",
              "0            1         GOODS-PHYSICAL  ...         0                    5\n",
              "1            5         SERVICES-LEGAL  ...         0                    2\n",
              "2            9                 TRAVEL  ...         0                    1\n",
              "3           11  SERVICES-PROFESSIONAL  ...         0                    5\n",
              "4           15       SERVICES-DIGITAL  ...         0                    8\n",
              "\n",
              "[5 rows x 13 columns]"
            ]
          },
          "metadata": {},
          "execution_count": 8
        }
      ]
    },
    {
      "cell_type": "code",
      "metadata": {
        "colab": {
          "base_uri": "https://localhost:8080/",
          "height": 224
        },
        "id": "zQjide-lAsy0",
        "outputId": "f10f8060-46f9-4433-9af6-dcdd6e0ff4ba"
      },
      "source": [
        "june_df.tail()"
      ],
      "execution_count": 9,
      "outputs": [
        {
          "output_type": "execute_result",
          "data": {
            "text/html": [
              "<div>\n",
              "<style scoped>\n",
              "    .dataframe tbody tr th:only-of-type {\n",
              "        vertical-align: middle;\n",
              "    }\n",
              "\n",
              "    .dataframe tbody tr th {\n",
              "        vertical-align: top;\n",
              "    }\n",
              "\n",
              "    .dataframe thead th {\n",
              "        text-align: right;\n",
              "    }\n",
              "</style>\n",
              "<table border=\"1\" class=\"dataframe\">\n",
              "  <thead>\n",
              "    <tr style=\"text-align: right;\">\n",
              "      <th></th>\n",
              "      <th>merchant_id</th>\n",
              "      <th>merchant_industry</th>\n",
              "      <th>merchant_category</th>\n",
              "      <th>merchant_country</th>\n",
              "      <th>currency</th>\n",
              "      <th>transaction_week_start_date</th>\n",
              "      <th>channel</th>\n",
              "      <th>transaction_count</th>\n",
              "      <th>transaction_volume_usd</th>\n",
              "      <th>fraud_count</th>\n",
              "      <th>fraud_volume_usd</th>\n",
              "      <th>otp_fraud</th>\n",
              "      <th>otp_all_transactions</th>\n",
              "    </tr>\n",
              "  </thead>\n",
              "  <tbody>\n",
              "    <tr>\n",
              "      <th>8604</th>\n",
              "      <td>8605</td>\n",
              "      <td>INTERNET</td>\n",
              "      <td>Utilities</td>\n",
              "      <td>Nigeria</td>\n",
              "      <td>NGN</td>\n",
              "      <td>2021-06-28</td>\n",
              "      <td>card</td>\n",
              "      <td>1</td>\n",
              "      <td>2.624672</td>\n",
              "      <td>0</td>\n",
              "      <td>NaN</td>\n",
              "      <td>0</td>\n",
              "      <td>1</td>\n",
              "    </tr>\n",
              "    <tr>\n",
              "      <th>8605</th>\n",
              "      <td>8606</td>\n",
              "      <td>GOODS-DIGITAL</td>\n",
              "      <td>Digital Services</td>\n",
              "      <td>Nigeria</td>\n",
              "      <td>NGN</td>\n",
              "      <td>2021-06-28</td>\n",
              "      <td>card</td>\n",
              "      <td>1</td>\n",
              "      <td>0.262467</td>\n",
              "      <td>0</td>\n",
              "      <td>NaN</td>\n",
              "      <td>0</td>\n",
              "      <td>1</td>\n",
              "    </tr>\n",
              "    <tr>\n",
              "      <th>8606</th>\n",
              "      <td>8607</td>\n",
              "      <td>SERVICES-DIGITAL</td>\n",
              "      <td>Digital Services</td>\n",
              "      <td>Nigeria</td>\n",
              "      <td>NGN</td>\n",
              "      <td>2021-06-28</td>\n",
              "      <td>card</td>\n",
              "      <td>3</td>\n",
              "      <td>15.748031</td>\n",
              "      <td>0</td>\n",
              "      <td>NaN</td>\n",
              "      <td>0</td>\n",
              "      <td>3</td>\n",
              "    </tr>\n",
              "    <tr>\n",
              "      <th>8607</th>\n",
              "      <td>8608</td>\n",
              "      <td>EVENTS</td>\n",
              "      <td>Travel &amp; Hospitality</td>\n",
              "      <td>Nigeria</td>\n",
              "      <td>NGN</td>\n",
              "      <td>2021-06-28</td>\n",
              "      <td>card</td>\n",
              "      <td>2</td>\n",
              "      <td>0.656168</td>\n",
              "      <td>0</td>\n",
              "      <td>NaN</td>\n",
              "      <td>0</td>\n",
              "      <td>2</td>\n",
              "    </tr>\n",
              "    <tr>\n",
              "      <th>8608</th>\n",
              "      <td>8609</td>\n",
              "      <td>INTERNET</td>\n",
              "      <td>Utilities</td>\n",
              "      <td>Nigeria</td>\n",
              "      <td>NGN</td>\n",
              "      <td>2021-06-28</td>\n",
              "      <td>card</td>\n",
              "      <td>1</td>\n",
              "      <td>0.262467</td>\n",
              "      <td>0</td>\n",
              "      <td>NaN</td>\n",
              "      <td>0</td>\n",
              "      <td>1</td>\n",
              "    </tr>\n",
              "  </tbody>\n",
              "</table>\n",
              "</div>"
            ],
            "text/plain": [
              "      merchant_id merchant_industry  ... otp_fraud otp_all_transactions\n",
              "8604         8605          INTERNET  ...         0                    1\n",
              "8605         8606     GOODS-DIGITAL  ...         0                    1\n",
              "8606         8607  SERVICES-DIGITAL  ...         0                    3\n",
              "8607         8608            EVENTS  ...         0                    2\n",
              "8608         8609          INTERNET  ...         0                    1\n",
              "\n",
              "[5 rows x 13 columns]"
            ]
          },
          "metadata": {},
          "execution_count": 9
        }
      ]
    },
    {
      "cell_type": "markdown",
      "metadata": {
        "id": "MFjFSdr_BMhT"
      },
      "source": [
        "Let's see the head and tail of July"
      ]
    },
    {
      "cell_type": "code",
      "metadata": {
        "colab": {
          "base_uri": "https://localhost:8080/",
          "height": 241
        },
        "id": "KuTDOR8RBPri",
        "outputId": "9cd18cba-b4af-44c7-f407-43ade06fda38"
      },
      "source": [
        "july_df.head()"
      ],
      "execution_count": 10,
      "outputs": [
        {
          "output_type": "execute_result",
          "data": {
            "text/html": [
              "<div>\n",
              "<style scoped>\n",
              "    .dataframe tbody tr th:only-of-type {\n",
              "        vertical-align: middle;\n",
              "    }\n",
              "\n",
              "    .dataframe tbody tr th {\n",
              "        vertical-align: top;\n",
              "    }\n",
              "\n",
              "    .dataframe thead th {\n",
              "        text-align: right;\n",
              "    }\n",
              "</style>\n",
              "<table border=\"1\" class=\"dataframe\">\n",
              "  <thead>\n",
              "    <tr style=\"text-align: right;\">\n",
              "      <th></th>\n",
              "      <th>merchant_id</th>\n",
              "      <th>merchant_industry</th>\n",
              "      <th>merchant_category</th>\n",
              "      <th>merchant_country</th>\n",
              "      <th>currency</th>\n",
              "      <th>transaction_week_start_date</th>\n",
              "      <th>channel</th>\n",
              "      <th>transaction_count</th>\n",
              "      <th>transaction_volume_usd</th>\n",
              "      <th>fraud_count</th>\n",
              "      <th>fraud_volume_usd</th>\n",
              "      <th>otp_fraud</th>\n",
              "      <th>otp_all_transactions</th>\n",
              "    </tr>\n",
              "  </thead>\n",
              "  <tbody>\n",
              "    <tr>\n",
              "      <th>0</th>\n",
              "      <td>1</td>\n",
              "      <td>GOODS-PHYSICAL</td>\n",
              "      <td>e-Commerce</td>\n",
              "      <td>Nigeria</td>\n",
              "      <td>NGN</td>\n",
              "      <td>2021-07-05</td>\n",
              "      <td>card</td>\n",
              "      <td>3</td>\n",
              "      <td>54.173228</td>\n",
              "      <td>0</td>\n",
              "      <td>NaN</td>\n",
              "      <td>0</td>\n",
              "      <td>3</td>\n",
              "    </tr>\n",
              "    <tr>\n",
              "      <th>1</th>\n",
              "      <td>5</td>\n",
              "      <td>SERVICES-LEGAL</td>\n",
              "      <td>Other</td>\n",
              "      <td>Nigeria</td>\n",
              "      <td>NGN</td>\n",
              "      <td>2021-07-05</td>\n",
              "      <td>card</td>\n",
              "      <td>4</td>\n",
              "      <td>486.712598</td>\n",
              "      <td>0</td>\n",
              "      <td>NaN</td>\n",
              "      <td>0</td>\n",
              "      <td>4</td>\n",
              "    </tr>\n",
              "    <tr>\n",
              "      <th>2</th>\n",
              "      <td>8</td>\n",
              "      <td>TRAVEL</td>\n",
              "      <td>Travel &amp; Hospitality</td>\n",
              "      <td>Nigeria</td>\n",
              "      <td>NGN</td>\n",
              "      <td>2021-07-05</td>\n",
              "      <td>card</td>\n",
              "      <td>3</td>\n",
              "      <td>118.110236</td>\n",
              "      <td>0</td>\n",
              "      <td>NaN</td>\n",
              "      <td>0</td>\n",
              "      <td>0</td>\n",
              "    </tr>\n",
              "    <tr>\n",
              "      <th>3</th>\n",
              "      <td>9</td>\n",
              "      <td>SERVICES-PROFESSIONAL</td>\n",
              "      <td>Other</td>\n",
              "      <td>Nigeria</td>\n",
              "      <td>NGN</td>\n",
              "      <td>2021-07-05</td>\n",
              "      <td>card</td>\n",
              "      <td>4</td>\n",
              "      <td>151.968504</td>\n",
              "      <td>0</td>\n",
              "      <td>NaN</td>\n",
              "      <td>0</td>\n",
              "      <td>3</td>\n",
              "    </tr>\n",
              "    <tr>\n",
              "      <th>4</th>\n",
              "      <td>12</td>\n",
              "      <td>SERVICES-DIGITAL</td>\n",
              "      <td>Financial Services</td>\n",
              "      <td>Nigeria</td>\n",
              "      <td>NGN</td>\n",
              "      <td>2021-07-05</td>\n",
              "      <td>card</td>\n",
              "      <td>15</td>\n",
              "      <td>659.055118</td>\n",
              "      <td>0</td>\n",
              "      <td>NaN</td>\n",
              "      <td>0</td>\n",
              "      <td>12</td>\n",
              "    </tr>\n",
              "  </tbody>\n",
              "</table>\n",
              "</div>"
            ],
            "text/plain": [
              "   merchant_id      merchant_industry  ... otp_fraud otp_all_transactions\n",
              "0            1         GOODS-PHYSICAL  ...         0                    3\n",
              "1            5         SERVICES-LEGAL  ...         0                    4\n",
              "2            8                 TRAVEL  ...         0                    0\n",
              "3            9  SERVICES-PROFESSIONAL  ...         0                    3\n",
              "4           12       SERVICES-DIGITAL  ...         0                   12\n",
              "\n",
              "[5 rows x 13 columns]"
            ]
          },
          "metadata": {},
          "execution_count": 10
        }
      ]
    },
    {
      "cell_type": "code",
      "metadata": {
        "colab": {
          "base_uri": "https://localhost:8080/",
          "height": 224
        },
        "id": "AUTfKlYMBSKH",
        "outputId": "72b14a0e-5d5b-46da-e9f8-1c3a1d3bd325"
      },
      "source": [
        "july_df.tail()"
      ],
      "execution_count": 11,
      "outputs": [
        {
          "output_type": "execute_result",
          "data": {
            "text/html": [
              "<div>\n",
              "<style scoped>\n",
              "    .dataframe tbody tr th:only-of-type {\n",
              "        vertical-align: middle;\n",
              "    }\n",
              "\n",
              "    .dataframe tbody tr th {\n",
              "        vertical-align: top;\n",
              "    }\n",
              "\n",
              "    .dataframe thead th {\n",
              "        text-align: right;\n",
              "    }\n",
              "</style>\n",
              "<table border=\"1\" class=\"dataframe\">\n",
              "  <thead>\n",
              "    <tr style=\"text-align: right;\">\n",
              "      <th></th>\n",
              "      <th>merchant_id</th>\n",
              "      <th>merchant_industry</th>\n",
              "      <th>merchant_category</th>\n",
              "      <th>merchant_country</th>\n",
              "      <th>currency</th>\n",
              "      <th>transaction_week_start_date</th>\n",
              "      <th>channel</th>\n",
              "      <th>transaction_count</th>\n",
              "      <th>transaction_volume_usd</th>\n",
              "      <th>fraud_count</th>\n",
              "      <th>fraud_volume_usd</th>\n",
              "      <th>otp_fraud</th>\n",
              "      <th>otp_all_transactions</th>\n",
              "    </tr>\n",
              "  </thead>\n",
              "  <tbody>\n",
              "    <tr>\n",
              "      <th>8804</th>\n",
              "      <td>8805</td>\n",
              "      <td>SERVICES-DIGITAL</td>\n",
              "      <td>Digital Services</td>\n",
              "      <td>Nigeria</td>\n",
              "      <td>NGN</td>\n",
              "      <td>2021-07-26</td>\n",
              "      <td>card</td>\n",
              "      <td>1</td>\n",
              "      <td>0.524934</td>\n",
              "      <td>0</td>\n",
              "      <td>NaN</td>\n",
              "      <td>0</td>\n",
              "      <td>1</td>\n",
              "    </tr>\n",
              "    <tr>\n",
              "      <th>8805</th>\n",
              "      <td>8806</td>\n",
              "      <td>SERVICES-DIGITAL</td>\n",
              "      <td>Digital Services</td>\n",
              "      <td>Nigeria</td>\n",
              "      <td>NGN</td>\n",
              "      <td>2021-07-26</td>\n",
              "      <td>card</td>\n",
              "      <td>1</td>\n",
              "      <td>0.259843</td>\n",
              "      <td>0</td>\n",
              "      <td>NaN</td>\n",
              "      <td>0</td>\n",
              "      <td>1</td>\n",
              "    </tr>\n",
              "    <tr>\n",
              "      <th>8806</th>\n",
              "      <td>8807</td>\n",
              "      <td>SERVICES-DIGITAL</td>\n",
              "      <td>Digital Services</td>\n",
              "      <td>Nigeria</td>\n",
              "      <td>NGN</td>\n",
              "      <td>2021-07-26</td>\n",
              "      <td>card</td>\n",
              "      <td>5</td>\n",
              "      <td>2.624672</td>\n",
              "      <td>0</td>\n",
              "      <td>NaN</td>\n",
              "      <td>0</td>\n",
              "      <td>5</td>\n",
              "    </tr>\n",
              "    <tr>\n",
              "      <th>8807</th>\n",
              "      <td>8808</td>\n",
              "      <td>RESTAURANTS</td>\n",
              "      <td>Travel &amp; Hospitality</td>\n",
              "      <td>Nigeria</td>\n",
              "      <td>NGN</td>\n",
              "      <td>2021-07-26</td>\n",
              "      <td>card</td>\n",
              "      <td>2</td>\n",
              "      <td>1.049869</td>\n",
              "      <td>0</td>\n",
              "      <td>NaN</td>\n",
              "      <td>0</td>\n",
              "      <td>1</td>\n",
              "    </tr>\n",
              "    <tr>\n",
              "      <th>8808</th>\n",
              "      <td>8809</td>\n",
              "      <td>GOODS-PHYSICAL</td>\n",
              "      <td>e-Commerce</td>\n",
              "      <td>Nigeria</td>\n",
              "      <td>NGN</td>\n",
              "      <td>2021-07-26</td>\n",
              "      <td>card</td>\n",
              "      <td>1</td>\n",
              "      <td>1.312336</td>\n",
              "      <td>0</td>\n",
              "      <td>NaN</td>\n",
              "      <td>0</td>\n",
              "      <td>1</td>\n",
              "    </tr>\n",
              "  </tbody>\n",
              "</table>\n",
              "</div>"
            ],
            "text/plain": [
              "      merchant_id merchant_industry  ... otp_fraud otp_all_transactions\n",
              "8804         8805  SERVICES-DIGITAL  ...         0                    1\n",
              "8805         8806  SERVICES-DIGITAL  ...         0                    1\n",
              "8806         8807  SERVICES-DIGITAL  ...         0                    5\n",
              "8807         8808       RESTAURANTS  ...         0                    1\n",
              "8808         8809    GOODS-PHYSICAL  ...         0                    1\n",
              "\n",
              "[5 rows x 13 columns]"
            ]
          },
          "metadata": {},
          "execution_count": 11
        }
      ]
    },
    {
      "cell_type": "markdown",
      "metadata": {
        "id": "KZT5N3P-ByJ-"
      },
      "source": [
        "# Descriptive EDA (DA1):"
      ]
    },
    {
      "cell_type": "markdown",
      "metadata": {
        "id": "fTUib0uaaMR5"
      },
      "source": [
        "**Descriptive analytics (DA1):** <br>is a preliminary stage of data processing that creates a summary of historical data to yield useful information and possibly prepare the data for further analysis. It is used largely to answer the question **<‘What happened?’>**. Querying, reporting, data aggregation, data mining and data visualization may be applied to yield more insight.\n",
        "\n",
        "**Geo-Location-based DA1:**<br>\n",
        "* What is the distribution of transactions across the 3 countries?\n",
        "* What is the Fraud/Transactions Ratio per country?\n",
        "\n",
        "**Fraud-related DA1:**<br>\n",
        "* What is the Max and Mean fraud value for June and July?\n",
        "* What is the total fraud recorded for June and July?\n",
        "* Drilling into OTP-Fraud, what’s the Max and Mean values monthly?\n",
        "* What is the Max and Mean dollar cost of fraud for June and July?\n",
        "\n",
        "Answering these questions, give us a top-level vision of the state of the transactions and fraudulent activities and their impacts across the 3 countries the business operates in.\n"
      ]
    },
    {
      "cell_type": "markdown",
      "metadata": {
        "id": "1sjS8Yov2HQ3"
      },
      "source": [
        "### 1. Confirming the data-types"
      ]
    },
    {
      "cell_type": "code",
      "metadata": {
        "colab": {
          "base_uri": "https://localhost:8080/"
        },
        "id": "qb2xnZNU1fJc",
        "outputId": "8510a21b-6ac8-4bf8-b67a-186ef603a891"
      },
      "source": [
        "june_df.info()"
      ],
      "execution_count": 12,
      "outputs": [
        {
          "output_type": "stream",
          "name": "stdout",
          "text": [
            "<class 'pandas.core.frame.DataFrame'>\n",
            "RangeIndex: 8609 entries, 0 to 8608\n",
            "Data columns (total 13 columns):\n",
            " #   Column                       Non-Null Count  Dtype         \n",
            "---  ------                       --------------  -----         \n",
            " 0   merchant_id                  8609 non-null   int64         \n",
            " 1   merchant_industry            8609 non-null   object        \n",
            " 2   merchant_category            8609 non-null   object        \n",
            " 3   merchant_country             8609 non-null   object        \n",
            " 4   currency                     8609 non-null   object        \n",
            " 5   transaction_week_start_date  8609 non-null   datetime64[ns]\n",
            " 6   channel                      8609 non-null   object        \n",
            " 7   transaction_count            8609 non-null   int64         \n",
            " 8   transaction_volume_usd       8609 non-null   float64       \n",
            " 9   fraud_count                  8609 non-null   int64         \n",
            " 10  fraud_volume_usd             61 non-null     float64       \n",
            " 11  otp_fraud                    8609 non-null   int64         \n",
            " 12  otp_all_transactions         8609 non-null   int64         \n",
            "dtypes: datetime64[ns](1), float64(2), int64(5), object(5)\n",
            "memory usage: 874.5+ KB\n"
          ]
        }
      ]
    },
    {
      "cell_type": "code",
      "metadata": {
        "colab": {
          "base_uri": "https://localhost:8080/"
        },
        "id": "NhCzH1ms19su",
        "outputId": "6defadb0-c492-4a80-e61b-cde27fbbb268"
      },
      "source": [
        "july_df.info()"
      ],
      "execution_count": 13,
      "outputs": [
        {
          "output_type": "stream",
          "name": "stdout",
          "text": [
            "<class 'pandas.core.frame.DataFrame'>\n",
            "RangeIndex: 8809 entries, 0 to 8808\n",
            "Data columns (total 13 columns):\n",
            " #   Column                       Non-Null Count  Dtype         \n",
            "---  ------                       --------------  -----         \n",
            " 0   merchant_id                  8809 non-null   int64         \n",
            " 1   merchant_industry            8809 non-null   object        \n",
            " 2   merchant_category            8809 non-null   object        \n",
            " 3   merchant_country             8809 non-null   object        \n",
            " 4   currency                     8809 non-null   object        \n",
            " 5   transaction_week_start_date  8809 non-null   datetime64[ns]\n",
            " 6   channel                      8809 non-null   object        \n",
            " 7   transaction_count            8809 non-null   int64         \n",
            " 8   transaction_volume_usd       8809 non-null   float64       \n",
            " 9   fraud_count                  8809 non-null   int64         \n",
            " 10  fraud_volume_usd             51 non-null     float64       \n",
            " 11  otp_fraud                    8809 non-null   int64         \n",
            " 12  otp_all_transactions         8809 non-null   int64         \n",
            "dtypes: datetime64[ns](1), float64(2), int64(5), object(5)\n",
            "memory usage: 894.8+ KB\n"
          ]
        }
      ]
    },
    {
      "cell_type": "markdown",
      "metadata": {
        "id": "F8IVvjpz1xW-"
      },
      "source": [
        "So, we can see the data-types for the months of June and July. They conform to the expected data-types. All columns that should be numeric are and all that should be categorical or object are too."
      ]
    },
    {
      "cell_type": "markdown",
      "metadata": {
        "id": "1qeoT-uByoa9"
      },
      "source": [
        "### 2. Checking the Descriptive Statistics of the data:"
      ]
    },
    {
      "cell_type": "code",
      "metadata": {
        "colab": {
          "base_uri": "https://localhost:8080/",
          "height": 266
        },
        "id": "UAlumWTS1Q_H",
        "outputId": "fc1fa22b-1b82-4634-8e31-9abb76ffc49b"
      },
      "source": [
        "# For June numeric features\n",
        "\n",
        "june_df.describe().T"
      ],
      "execution_count": 14,
      "outputs": [
        {
          "output_type": "execute_result",
          "data": {
            "text/html": [
              "<div>\n",
              "<style scoped>\n",
              "    .dataframe tbody tr th:only-of-type {\n",
              "        vertical-align: middle;\n",
              "    }\n",
              "\n",
              "    .dataframe tbody tr th {\n",
              "        vertical-align: top;\n",
              "    }\n",
              "\n",
              "    .dataframe thead th {\n",
              "        text-align: right;\n",
              "    }\n",
              "</style>\n",
              "<table border=\"1\" class=\"dataframe\">\n",
              "  <thead>\n",
              "    <tr style=\"text-align: right;\">\n",
              "      <th></th>\n",
              "      <th>count</th>\n",
              "      <th>mean</th>\n",
              "      <th>std</th>\n",
              "      <th>min</th>\n",
              "      <th>25%</th>\n",
              "      <th>50%</th>\n",
              "      <th>75%</th>\n",
              "      <th>max</th>\n",
              "    </tr>\n",
              "  </thead>\n",
              "  <tbody>\n",
              "    <tr>\n",
              "      <th>merchant_id</th>\n",
              "      <td>8609.0</td>\n",
              "      <td>4304.018469</td>\n",
              "      <td>2485.466539</td>\n",
              "      <td>1.000000</td>\n",
              "      <td>2153.000000</td>\n",
              "      <td>4304.000000</td>\n",
              "      <td>6456.000000</td>\n",
              "      <td>8.609000e+03</td>\n",
              "    </tr>\n",
              "    <tr>\n",
              "      <th>transaction_count</th>\n",
              "      <td>8609.0</td>\n",
              "      <td>485.230573</td>\n",
              "      <td>8253.372691</td>\n",
              "      <td>1.000000</td>\n",
              "      <td>1.000000</td>\n",
              "      <td>3.000000</td>\n",
              "      <td>11.000000</td>\n",
              "      <td>2.758660e+05</td>\n",
              "    </tr>\n",
              "    <tr>\n",
              "      <th>transaction_volume_usd</th>\n",
              "      <td>8609.0</td>\n",
              "      <td>7000.276672</td>\n",
              "      <td>73800.550994</td>\n",
              "      <td>0.000026</td>\n",
              "      <td>9.186352</td>\n",
              "      <td>43.307087</td>\n",
              "      <td>236.220472</td>\n",
              "      <td>2.396408e+06</td>\n",
              "    </tr>\n",
              "    <tr>\n",
              "      <th>fraud_count</th>\n",
              "      <td>8609.0</td>\n",
              "      <td>0.108375</td>\n",
              "      <td>3.175327</td>\n",
              "      <td>0.000000</td>\n",
              "      <td>0.000000</td>\n",
              "      <td>0.000000</td>\n",
              "      <td>0.000000</td>\n",
              "      <td>1.700000e+02</td>\n",
              "    </tr>\n",
              "    <tr>\n",
              "      <th>fraud_volume_usd</th>\n",
              "      <td>61.0</td>\n",
              "      <td>1858.473460</td>\n",
              "      <td>4641.861843</td>\n",
              "      <td>0.524934</td>\n",
              "      <td>26.246719</td>\n",
              "      <td>91.338583</td>\n",
              "      <td>539.212598</td>\n",
              "      <td>2.017848e+04</td>\n",
              "    </tr>\n",
              "    <tr>\n",
              "      <th>otp_fraud</th>\n",
              "      <td>8609.0</td>\n",
              "      <td>0.009293</td>\n",
              "      <td>0.265166</td>\n",
              "      <td>0.000000</td>\n",
              "      <td>0.000000</td>\n",
              "      <td>0.000000</td>\n",
              "      <td>0.000000</td>\n",
              "      <td>1.700000e+01</td>\n",
              "    </tr>\n",
              "    <tr>\n",
              "      <th>otp_all_transactions</th>\n",
              "      <td>8609.0</td>\n",
              "      <td>81.615402</td>\n",
              "      <td>589.620590</td>\n",
              "      <td>0.000000</td>\n",
              "      <td>1.000000</td>\n",
              "      <td>2.000000</td>\n",
              "      <td>9.000000</td>\n",
              "      <td>1.222300e+04</td>\n",
              "    </tr>\n",
              "  </tbody>\n",
              "</table>\n",
              "</div>"
            ],
            "text/plain": [
              "                         count         mean  ...          75%           max\n",
              "merchant_id             8609.0  4304.018469  ...  6456.000000  8.609000e+03\n",
              "transaction_count       8609.0   485.230573  ...    11.000000  2.758660e+05\n",
              "transaction_volume_usd  8609.0  7000.276672  ...   236.220472  2.396408e+06\n",
              "fraud_count             8609.0     0.108375  ...     0.000000  1.700000e+02\n",
              "fraud_volume_usd          61.0  1858.473460  ...   539.212598  2.017848e+04\n",
              "otp_fraud               8609.0     0.009293  ...     0.000000  1.700000e+01\n",
              "otp_all_transactions    8609.0    81.615402  ...     9.000000  1.222300e+04\n",
              "\n",
              "[7 rows x 8 columns]"
            ]
          },
          "metadata": {},
          "execution_count": 14
        }
      ]
    },
    {
      "cell_type": "code",
      "metadata": {
        "colab": {
          "base_uri": "https://localhost:8080/",
          "height": 266
        },
        "id": "r9hvVjap1c2g",
        "outputId": "ce986553-0e48-43e6-983e-d81559ae97b2"
      },
      "source": [
        "# For July numeric features\n",
        "\n",
        "july_df.describe().T"
      ],
      "execution_count": 15,
      "outputs": [
        {
          "output_type": "execute_result",
          "data": {
            "text/html": [
              "<div>\n",
              "<style scoped>\n",
              "    .dataframe tbody tr th:only-of-type {\n",
              "        vertical-align: middle;\n",
              "    }\n",
              "\n",
              "    .dataframe tbody tr th {\n",
              "        vertical-align: top;\n",
              "    }\n",
              "\n",
              "    .dataframe thead th {\n",
              "        text-align: right;\n",
              "    }\n",
              "</style>\n",
              "<table border=\"1\" class=\"dataframe\">\n",
              "  <thead>\n",
              "    <tr style=\"text-align: right;\">\n",
              "      <th></th>\n",
              "      <th>count</th>\n",
              "      <th>mean</th>\n",
              "      <th>std</th>\n",
              "      <th>min</th>\n",
              "      <th>25%</th>\n",
              "      <th>50%</th>\n",
              "      <th>75%</th>\n",
              "      <th>max</th>\n",
              "    </tr>\n",
              "  </thead>\n",
              "  <tbody>\n",
              "    <tr>\n",
              "      <th>merchant_id</th>\n",
              "      <td>8809.0</td>\n",
              "      <td>4404.009536</td>\n",
              "      <td>2543.190394</td>\n",
              "      <td>1.000000</td>\n",
              "      <td>2201.000000</td>\n",
              "      <td>4405.000000</td>\n",
              "      <td>6607.000000</td>\n",
              "      <td>8.809000e+03</td>\n",
              "    </tr>\n",
              "    <tr>\n",
              "      <th>transaction_count</th>\n",
              "      <td>8809.0</td>\n",
              "      <td>452.862300</td>\n",
              "      <td>7493.961064</td>\n",
              "      <td>1.000000</td>\n",
              "      <td>1.000000</td>\n",
              "      <td>3.000000</td>\n",
              "      <td>12.000000</td>\n",
              "      <td>2.321840e+05</td>\n",
              "    </tr>\n",
              "    <tr>\n",
              "      <th>transaction_volume_usd</th>\n",
              "      <td>8809.0</td>\n",
              "      <td>6456.769974</td>\n",
              "      <td>65039.969627</td>\n",
              "      <td>0.000026</td>\n",
              "      <td>9.186352</td>\n",
              "      <td>43.307087</td>\n",
              "      <td>237.270341</td>\n",
              "      <td>2.444412e+06</td>\n",
              "    </tr>\n",
              "    <tr>\n",
              "      <th>fraud_count</th>\n",
              "      <td>8809.0</td>\n",
              "      <td>0.044386</td>\n",
              "      <td>1.144114</td>\n",
              "      <td>0.000000</td>\n",
              "      <td>0.000000</td>\n",
              "      <td>0.000000</td>\n",
              "      <td>0.000000</td>\n",
              "      <td>6.200000e+01</td>\n",
              "    </tr>\n",
              "    <tr>\n",
              "      <th>fraud_volume_usd</th>\n",
              "      <td>51.0</td>\n",
              "      <td>1261.399492</td>\n",
              "      <td>2420.278420</td>\n",
              "      <td>0.262467</td>\n",
              "      <td>21.900997</td>\n",
              "      <td>132.545932</td>\n",
              "      <td>1040.682415</td>\n",
              "      <td>9.956378e+03</td>\n",
              "    </tr>\n",
              "    <tr>\n",
              "      <th>otp_fraud</th>\n",
              "      <td>8809.0</td>\n",
              "      <td>0.006925</td>\n",
              "      <td>0.187173</td>\n",
              "      <td>0.000000</td>\n",
              "      <td>0.000000</td>\n",
              "      <td>0.000000</td>\n",
              "      <td>0.000000</td>\n",
              "      <td>1.000000e+01</td>\n",
              "    </tr>\n",
              "    <tr>\n",
              "      <th>otp_all_transactions</th>\n",
              "      <td>8809.0</td>\n",
              "      <td>156.574753</td>\n",
              "      <td>3732.010232</td>\n",
              "      <td>0.000000</td>\n",
              "      <td>1.000000</td>\n",
              "      <td>2.000000</td>\n",
              "      <td>9.000000</td>\n",
              "      <td>2.015910e+05</td>\n",
              "    </tr>\n",
              "  </tbody>\n",
              "</table>\n",
              "</div>"
            ],
            "text/plain": [
              "                         count         mean  ...          75%           max\n",
              "merchant_id             8809.0  4404.009536  ...  6607.000000  8.809000e+03\n",
              "transaction_count       8809.0   452.862300  ...    12.000000  2.321840e+05\n",
              "transaction_volume_usd  8809.0  6456.769974  ...   237.270341  2.444412e+06\n",
              "fraud_count             8809.0     0.044386  ...     0.000000  6.200000e+01\n",
              "fraud_volume_usd          51.0  1261.399492  ...  1040.682415  9.956378e+03\n",
              "otp_fraud               8809.0     0.006925  ...     0.000000  1.000000e+01\n",
              "otp_all_transactions    8809.0   156.574753  ...     9.000000  2.015910e+05\n",
              "\n",
              "[7 rows x 8 columns]"
            ]
          },
          "metadata": {},
          "execution_count": 15
        }
      ]
    },
    {
      "cell_type": "markdown",
      "metadata": {
        "id": "3LKdHrHg4EOA"
      },
      "source": [
        "We can see that there's complete count for all numeric columns except `fraud_volume_usd` which has a count of 61 in June and 51 in July. This depicts missing values present. We can also observe the following...\n",
        "1. Max `fraud_count` per day in June is 170, while in July is 62\n",
        "2. Mean `fraud_volume_usd` in June is 1858, while in July is 1261. Note that these figures are large because we have only 61 and 51 data represented now, since the rest are NaN values in this column.\n",
        "3. Max `fraud_volume_usd` in any given day in June is 20178, while July is 9956\n",
        "4. For `otp_fraud`, the Max a day in June is 17, while July Max is 10\n",
        "5. While June has Max `otp_all_transactions` a day as 12223 and July as 201591"
      ]
    },
    {
      "cell_type": "code",
      "metadata": {
        "colab": {
          "base_uri": "https://localhost:8080/",
          "height": 204
        },
        "id": "2AC72HHBGqv1",
        "outputId": "8c8b724f-f244-4ae8-f5e7-9b0b6696c319"
      },
      "source": [
        "# For June categoric features\n",
        "\n",
        "june_df.describe(include='object').T"
      ],
      "execution_count": 16,
      "outputs": [
        {
          "output_type": "execute_result",
          "data": {
            "text/html": [
              "<div>\n",
              "<style scoped>\n",
              "    .dataframe tbody tr th:only-of-type {\n",
              "        vertical-align: middle;\n",
              "    }\n",
              "\n",
              "    .dataframe tbody tr th {\n",
              "        vertical-align: top;\n",
              "    }\n",
              "\n",
              "    .dataframe thead th {\n",
              "        text-align: right;\n",
              "    }\n",
              "</style>\n",
              "<table border=\"1\" class=\"dataframe\">\n",
              "  <thead>\n",
              "    <tr style=\"text-align: right;\">\n",
              "      <th></th>\n",
              "      <th>count</th>\n",
              "      <th>unique</th>\n",
              "      <th>top</th>\n",
              "      <th>freq</th>\n",
              "    </tr>\n",
              "  </thead>\n",
              "  <tbody>\n",
              "    <tr>\n",
              "      <th>merchant_industry</th>\n",
              "      <td>8609</td>\n",
              "      <td>63</td>\n",
              "      <td>GOODS-PHYSICAL</td>\n",
              "      <td>1358</td>\n",
              "    </tr>\n",
              "    <tr>\n",
              "      <th>merchant_category</th>\n",
              "      <td>8609</td>\n",
              "      <td>11</td>\n",
              "      <td>Digital Services</td>\n",
              "      <td>1601</td>\n",
              "    </tr>\n",
              "    <tr>\n",
              "      <th>merchant_country</th>\n",
              "      <td>8609</td>\n",
              "      <td>3</td>\n",
              "      <td>Nigeria</td>\n",
              "      <td>8577</td>\n",
              "    </tr>\n",
              "    <tr>\n",
              "      <th>currency</th>\n",
              "      <td>8609</td>\n",
              "      <td>4</td>\n",
              "      <td>NGN</td>\n",
              "      <td>8540</td>\n",
              "    </tr>\n",
              "    <tr>\n",
              "      <th>channel</th>\n",
              "      <td>8609</td>\n",
              "      <td>1</td>\n",
              "      <td>card</td>\n",
              "      <td>8609</td>\n",
              "    </tr>\n",
              "  </tbody>\n",
              "</table>\n",
              "</div>"
            ],
            "text/plain": [
              "                  count unique               top  freq\n",
              "merchant_industry  8609     63    GOODS-PHYSICAL  1358\n",
              "merchant_category  8609     11  Digital Services  1601\n",
              "merchant_country   8609      3           Nigeria  8577\n",
              "currency           8609      4               NGN  8540\n",
              "channel            8609      1              card  8609"
            ]
          },
          "metadata": {},
          "execution_count": 16
        }
      ]
    },
    {
      "cell_type": "code",
      "metadata": {
        "colab": {
          "base_uri": "https://localhost:8080/",
          "height": 204
        },
        "id": "LoaLVX9nHNSJ",
        "outputId": "3293d4a0-5ea7-4782-bfc3-8c36016bcc5f"
      },
      "source": [
        "# For July categoric features\n",
        "\n",
        "july_df.describe(include='object').T"
      ],
      "execution_count": 17,
      "outputs": [
        {
          "output_type": "execute_result",
          "data": {
            "text/html": [
              "<div>\n",
              "<style scoped>\n",
              "    .dataframe tbody tr th:only-of-type {\n",
              "        vertical-align: middle;\n",
              "    }\n",
              "\n",
              "    .dataframe tbody tr th {\n",
              "        vertical-align: top;\n",
              "    }\n",
              "\n",
              "    .dataframe thead th {\n",
              "        text-align: right;\n",
              "    }\n",
              "</style>\n",
              "<table border=\"1\" class=\"dataframe\">\n",
              "  <thead>\n",
              "    <tr style=\"text-align: right;\">\n",
              "      <th></th>\n",
              "      <th>count</th>\n",
              "      <th>unique</th>\n",
              "      <th>top</th>\n",
              "      <th>freq</th>\n",
              "    </tr>\n",
              "  </thead>\n",
              "  <tbody>\n",
              "    <tr>\n",
              "      <th>merchant_industry</th>\n",
              "      <td>8809</td>\n",
              "      <td>62</td>\n",
              "      <td>GOODS-PHYSICAL</td>\n",
              "      <td>1356</td>\n",
              "    </tr>\n",
              "    <tr>\n",
              "      <th>merchant_category</th>\n",
              "      <td>8809</td>\n",
              "      <td>11</td>\n",
              "      <td>Other</td>\n",
              "      <td>1473</td>\n",
              "    </tr>\n",
              "    <tr>\n",
              "      <th>merchant_country</th>\n",
              "      <td>8809</td>\n",
              "      <td>3</td>\n",
              "      <td>Nigeria</td>\n",
              "      <td>8784</td>\n",
              "    </tr>\n",
              "    <tr>\n",
              "      <th>currency</th>\n",
              "      <td>8809</td>\n",
              "      <td>4</td>\n",
              "      <td>NGN</td>\n",
              "      <td>8744</td>\n",
              "    </tr>\n",
              "    <tr>\n",
              "      <th>channel</th>\n",
              "      <td>8809</td>\n",
              "      <td>1</td>\n",
              "      <td>card</td>\n",
              "      <td>8809</td>\n",
              "    </tr>\n",
              "  </tbody>\n",
              "</table>\n",
              "</div>"
            ],
            "text/plain": [
              "                  count unique             top  freq\n",
              "merchant_industry  8809     62  GOODS-PHYSICAL  1356\n",
              "merchant_category  8809     11           Other  1473\n",
              "merchant_country   8809      3         Nigeria  8784\n",
              "currency           8809      4             NGN  8744\n",
              "channel            8809      1            card  8809"
            ]
          },
          "metadata": {},
          "execution_count": 17
        }
      ]
    },
    {
      "cell_type": "markdown",
      "metadata": {
        "id": "rr0xmGm9Hg4O"
      },
      "source": [
        "From the categorical features summary, we can see that...\n",
        "1. There are 63 unique merchant industries in June and 62 in July,\n",
        "2. There are 11 distinct merchant categories, and 3 distinct merchant countries, 4 distinct currencies and 1 distinct channel for both months, which is the `card` channel."
      ]
    },
    {
      "cell_type": "markdown",
      "metadata": {
        "id": "-aM6s_GSKGSr"
      },
      "source": [
        "### 3. Checking for missing values:"
      ]
    },
    {
      "cell_type": "code",
      "metadata": {
        "id": "0KEZBcDKB32V",
        "colab": {
          "base_uri": "https://localhost:8080/"
        },
        "outputId": "fd86a5c3-20f8-44a8-d7ac-601a7bbe8fa4"
      },
      "source": [
        "june_df.isna().any()"
      ],
      "execution_count": 18,
      "outputs": [
        {
          "output_type": "execute_result",
          "data": {
            "text/plain": [
              "merchant_id                    False\n",
              "merchant_industry              False\n",
              "merchant_category              False\n",
              "merchant_country               False\n",
              "currency                       False\n",
              "transaction_week_start_date    False\n",
              "channel                        False\n",
              "transaction_count              False\n",
              "transaction_volume_usd         False\n",
              "fraud_count                    False\n",
              "fraud_volume_usd                True\n",
              "otp_fraud                      False\n",
              "otp_all_transactions           False\n",
              "dtype: bool"
            ]
          },
          "metadata": {},
          "execution_count": 18
        }
      ]
    },
    {
      "cell_type": "code",
      "metadata": {
        "colab": {
          "base_uri": "https://localhost:8080/"
        },
        "id": "0_ckoE3nye7G",
        "outputId": "bcd7b311-0933-42e3-878b-7c218c87a94f"
      },
      "source": [
        "july_df.isna().any()"
      ],
      "execution_count": 19,
      "outputs": [
        {
          "output_type": "execute_result",
          "data": {
            "text/plain": [
              "merchant_id                    False\n",
              "merchant_industry              False\n",
              "merchant_category              False\n",
              "merchant_country               False\n",
              "currency                       False\n",
              "transaction_week_start_date    False\n",
              "channel                        False\n",
              "transaction_count              False\n",
              "transaction_volume_usd         False\n",
              "fraud_count                    False\n",
              "fraud_volume_usd                True\n",
              "otp_fraud                      False\n",
              "otp_all_transactions           False\n",
              "dtype: bool"
            ]
          },
          "metadata": {},
          "execution_count": 19
        }
      ]
    },
    {
      "cell_type": "markdown",
      "metadata": {
        "id": "mLYcronDzOpM"
      },
      "source": [
        "We can see that for both June and July, only `fraud_volume_usd` has missing values. On further investigation, it is clear to see why. This is so because when `fraud_count` is 0, then `fraud_volume_usd` defaults to NaN.<br>Since we know that `fraud_volume_usd` should be 0, when `fraud_count` is 0, let's override this accordingly."
      ]
    },
    {
      "cell_type": "code",
      "metadata": {
        "colab": {
          "base_uri": "https://localhost:8080/"
        },
        "id": "v_thDz0yzMuI",
        "outputId": "a29bb192-b181-4c2b-9ef0-3637957c4f7c"
      },
      "source": [
        "# replacing all missing values in the fraud_volume_usd col to 0\n",
        "\n",
        "june_df.fraud_volume_usd.fillna(0, inplace=True)\n",
        "july_df.fraud_volume_usd.fillna(0, inplace=True)\n",
        "print('done!')"
      ],
      "execution_count": 20,
      "outputs": [
        {
          "output_type": "stream",
          "name": "stdout",
          "text": [
            "done!\n"
          ]
        }
      ]
    },
    {
      "cell_type": "markdown",
      "metadata": {
        "id": "H-jRPLYnLDrG"
      },
      "source": [
        "Let's confirm that all missing values have been replaced"
      ]
    },
    {
      "cell_type": "code",
      "metadata": {
        "colab": {
          "base_uri": "https://localhost:8080/"
        },
        "id": "c_3bhDWaLJRK",
        "outputId": "30085eb6-1499-4a29-c991-de57338b80f1"
      },
      "source": [
        "june_df.isna().any()"
      ],
      "execution_count": 21,
      "outputs": [
        {
          "output_type": "execute_result",
          "data": {
            "text/plain": [
              "merchant_id                    False\n",
              "merchant_industry              False\n",
              "merchant_category              False\n",
              "merchant_country               False\n",
              "currency                       False\n",
              "transaction_week_start_date    False\n",
              "channel                        False\n",
              "transaction_count              False\n",
              "transaction_volume_usd         False\n",
              "fraud_count                    False\n",
              "fraud_volume_usd               False\n",
              "otp_fraud                      False\n",
              "otp_all_transactions           False\n",
              "dtype: bool"
            ]
          },
          "metadata": {},
          "execution_count": 21
        }
      ]
    },
    {
      "cell_type": "code",
      "metadata": {
        "colab": {
          "base_uri": "https://localhost:8080/"
        },
        "id": "5AgyYM8aLQSD",
        "outputId": "168d8564-901b-4293-ff27-3d0f2e0d1e51"
      },
      "source": [
        "july_df.isna().any()"
      ],
      "execution_count": 22,
      "outputs": [
        {
          "output_type": "execute_result",
          "data": {
            "text/plain": [
              "merchant_id                    False\n",
              "merchant_industry              False\n",
              "merchant_category              False\n",
              "merchant_country               False\n",
              "currency                       False\n",
              "transaction_week_start_date    False\n",
              "channel                        False\n",
              "transaction_count              False\n",
              "transaction_volume_usd         False\n",
              "fraud_count                    False\n",
              "fraud_volume_usd               False\n",
              "otp_fraud                      False\n",
              "otp_all_transactions           False\n",
              "dtype: bool"
            ]
          },
          "metadata": {},
          "execution_count": 22
        }
      ]
    },
    {
      "cell_type": "markdown",
      "metadata": {
        "id": "Heyc_ht7WFy9"
      },
      "source": [
        "### 4. Some basic visualization of June and July transactions:"
      ]
    },
    {
      "cell_type": "markdown",
      "metadata": {
        "id": "r0ZZrCtlPVZk"
      },
      "source": [
        "Let's explore the distribution of transactions across the distinct countries for June and July"
      ]
    },
    {
      "cell_type": "code",
      "metadata": {
        "id": "0P3AppKrYSHr"
      },
      "source": [
        "def compare_pie_chart(sup_title, titles, s1, s2, size, colours):\n",
        "    \"\"\"Pie chart to compare values for June and July\n",
        "    \n",
        "    @param suptitle: Str, summary title of the plot\n",
        "    @param titles: List of string sub-titles per plot\n",
        "    @param s1: first series object\n",
        "    @param s2: second series object\n",
        "    @param size: A tuple of figure size\n",
        "    @param colours: A List of colors for the piecharts\n",
        "    \"\"\"\n",
        "    plt.figure(figsize=size)\n",
        "    sns.set(font_scale=1.2)\n",
        "    sns.set_style('ticks')\n",
        "    plt.suptitle(sup_title, y=1.05)\n",
        "\n",
        "    # For the first plot\n",
        "    plt.subplot(121)\n",
        "    plt.pie(s1, \n",
        "       autopct='%1.1f%%',\n",
        "       colors=colours,\n",
        "       startangle=90,\n",
        "       shadow=True,\n",
        "       pctdistance=1.06)\n",
        "    plt.title(titles[0], y=1.05)\n",
        "    plt.axis('equal')\n",
        "    plt.legend(labels=s1.index, loc='upper right')\n",
        "\n",
        "    # For the second plot\n",
        "    plt.subplot(122)\n",
        "    plt.pie(s2, \n",
        "       autopct='%1.1f%%',\n",
        "       colors=colours,\n",
        "       startangle=90,\n",
        "       shadow=True,\n",
        "       pctdistance=1.06)\n",
        "    plt.title(titles[1], y=1.05)\n",
        "    plt.axis('equal')\n",
        "    plt.legend(labels=s2.index, loc='upper right')\n",
        "\n",
        "    plt.show()"
      ],
      "execution_count": 23,
      "outputs": []
    },
    {
      "cell_type": "code",
      "metadata": {
        "colab": {
          "base_uri": "https://localhost:8080/"
        },
        "id": "OMZs98tYWV5F",
        "outputId": "9dc8a74d-2af6-47b5-d94b-04c3c5ccb085"
      },
      "source": [
        "june_country_split = june_df.merchant_country.value_counts(normalize=True)\n",
        "july_country_split = july_df.merchant_country.value_counts(normalize=True)\n",
        "\n",
        "july_country_split"
      ],
      "execution_count": 24,
      "outputs": [
        {
          "output_type": "execute_result",
          "data": {
            "text/plain": [
              "Nigeria         0.997162\n",
              "Ghana           0.002611\n",
              "South Africa    0.000227\n",
              "Name: merchant_country, dtype: float64"
            ]
          },
          "metadata": {},
          "execution_count": 24
        }
      ]
    },
    {
      "cell_type": "code",
      "metadata": {
        "colab": {
          "base_uri": "https://localhost:8080/",
          "height": 431
        },
        "id": "YAO7OXeEngqR",
        "outputId": "993dc289-5fe4-4847-b3dc-3db829917fc8"
      },
      "source": [
        "# Let's define some variables\n",
        "\n",
        "sup_title = 'Piechart showing Country-Distribution of Transactions'\n",
        "titles = ['June', 'July']\n",
        "s1 = june_country_split\n",
        "s2 = july_country_split\n",
        "size = (18, 6)\n",
        "colours = ['green','red','blue']\n",
        "\n",
        "compare_pie_chart(sup_title, titles, s1, s2, size, colours)"
      ],
      "execution_count": 25,
      "outputs": [
        {
          "output_type": "display_data",
          "data": {
            "image/png": "[encoded data removed]",
            "text/plain": [
              "<Figure size 1296x432 with 2 Axes>"
            ]
          },
          "metadata": {}
        }
      ]
    },
    {
      "cell_type": "markdown",
      "metadata": {
        "id": "vSm7lBX0pCjN"
      },
      "source": [
        "We can see from the three countries represented in the data, that Nigeria alone has over 99.5% of all transactions. Thus, I can assume that more fraudulent activities occur within Nigeria.<br>But before I jump to conclusions, let's see the percentage distribution of total fraud per country transactions."
      ]
    },
    {
      "cell_type": "code",
      "metadata": {
        "id": "FmIFBt6_dOHU"
      },
      "source": [
        "def get_country_fraud_pct_df(df):\n",
        "    unique_countries = list(df.merchant_country.unique())\n",
        "    country_ratio = []\n",
        "\n",
        "    for country in unique_countries:\n",
        "        country_df = df[df['merchant_country'] == country]\n",
        "        ratio = sum(country_df.fraud_count) / sum(country_df.transaction_count)\n",
        "        pct = ratio * 100\n",
        "        country_ratio.append(pct)\n",
        "\n",
        "    final_df = pd.DataFrame(country_ratio, index=unique_countries, columns=['Pct'])\n",
        "\n",
        "    return final_df"
      ],
      "execution_count": 26,
      "outputs": []
    },
    {
      "cell_type": "code",
      "metadata": {
        "colab": {
          "base_uri": "https://localhost:8080/",
          "height": 142
        },
        "id": "5IlNyWp5Q6Es",
        "outputId": "64a168d0-3228-4f9e-b543-39c59e65d227"
      },
      "source": [
        "june_country_fraud_ratio = get_country_fraud_pct_df(june_df)\n",
        "july_country_fraud_ratio = get_country_fraud_pct_df(july_df)\n",
        "\n",
        "june_country_fraud_ratio"
      ],
      "execution_count": 27,
      "outputs": [
        {
          "output_type": "execute_result",
          "data": {
            "text/html": [
              "<div>\n",
              "<style scoped>\n",
              "    .dataframe tbody tr th:only-of-type {\n",
              "        vertical-align: middle;\n",
              "    }\n",
              "\n",
              "    .dataframe tbody tr th {\n",
              "        vertical-align: top;\n",
              "    }\n",
              "\n",
              "    .dataframe thead th {\n",
              "        text-align: right;\n",
              "    }\n",
              "</style>\n",
              "<table border=\"1\" class=\"dataframe\">\n",
              "  <thead>\n",
              "    <tr style=\"text-align: right;\">\n",
              "      <th></th>\n",
              "      <th>Pct</th>\n",
              "    </tr>\n",
              "  </thead>\n",
              "  <tbody>\n",
              "    <tr>\n",
              "      <th>Nigeria</th>\n",
              "      <td>0.022335</td>\n",
              "    </tr>\n",
              "    <tr>\n",
              "      <th>Ghana</th>\n",
              "      <td>0.000000</td>\n",
              "    </tr>\n",
              "    <tr>\n",
              "      <th>South Africa</th>\n",
              "      <td>0.000000</td>\n",
              "    </tr>\n",
              "  </tbody>\n",
              "</table>\n",
              "</div>"
            ],
            "text/plain": [
              "                   Pct\n",
              "Nigeria       0.022335\n",
              "Ghana         0.000000\n",
              "South Africa  0.000000"
            ]
          },
          "metadata": {},
          "execution_count": 27
        }
      ]
    },
    {
      "cell_type": "code",
      "metadata": {
        "id": "q8fbT8KBzwVh"
      },
      "source": [
        "def compare_bar_chart(df1, df2, colours, col):\n",
        "    plt.figure(figsize=size)\n",
        "    sns.set(font_scale=1.2)\n",
        "    sns.set_style('ticks')\n",
        "    plt.suptitle(sup_title, y=1.05)\n",
        "\n",
        "    # For June\n",
        "    plt.subplot(121)\n",
        "    plt.bar(x=df1.index, height=df1[col], data=df1, color= colours, width=0.5)\n",
        "    plt.title(titles[0])\n",
        "    plt.xlabel(labels[0])\n",
        "    plt.ylabel(labels[1])\n",
        "    for x,y in zip(df1.index, df1[col]):\n",
        "        label = round(y,2)  #  could also be written as:-   \"{:.2f}\".format(y)\n",
        "        \n",
        "        plt.annotate(label, # this is the text\n",
        "                    (x,y), # this is the point to label\n",
        "                    textcoords=\"offset points\", # how to position the text\n",
        "                    xytext=(0,4), # distance from text to points (x,y)\n",
        "                    ha='center',) # horizontal alignment can be left, right or center\n",
        "\n",
        "\n",
        "    # For July\n",
        "    plt.subplot(122)\n",
        "    plt.bar(x=df2.index, height=df2[col], data=df2, color= colours, width=0.5)\n",
        "    plt.title(titles[1])\n",
        "    plt.xlabel(labels[0])\n",
        "    plt.ylabel(labels[1])\n",
        "    for x,y in zip(df2.index, df2[col]):\n",
        "        label = round(y,2) \n",
        "        plt.annotate(label,\n",
        "                    (x,y), \n",
        "                    textcoords=\"offset points\", \n",
        "                    xytext=(0,4),\n",
        "                    ha='center',) \n",
        "    \n",
        "    plt.show()"
      ],
      "execution_count": 28,
      "outputs": []
    },
    {
      "cell_type": "code",
      "metadata": {
        "colab": {
          "base_uri": "https://localhost:8080/",
          "height": 471
        },
        "id": "4v_bl98R09IT",
        "outputId": "b274593d-1e3d-494c-d573-d7b772a66ea3"
      },
      "source": [
        "col='Pct'\n",
        "sup_title = 'Barcharts showing the Fraud/Transactions Ratio Per Country'\n",
        "titles = ['June Fraud/Transactions Ratio per Country', 'July Fraud/Transactions Ratio per Country']\n",
        "labels = ['Country', 'Percent']\n",
        "\n",
        "compare_bar_chart(june_country_fraud_ratio, july_country_fraud_ratio, colours, col)"
      ],
      "execution_count": 29,
      "outputs": [
        {
          "output_type": "display_data",
          "data": {
            "image/png": "[encoded data removed]",
            "text/plain": [
              "<Figure size 1296x432 with 2 Axes>"
            ]
          },
          "metadata": {}
        }
      ]
    },
    {
      "cell_type": "markdown",
      "metadata": {
        "id": "nk7hduRQYb-Z"
      },
      "source": [
        "Usually, only a small portion of transactions are fraudulent per organization.<br>This data shows us that...\n",
        "1. Only Nigerian transactions recorded fraud\n",
        "2. For June only 0.02% of transactions were flagged as fraud and only 0.01% in July\n",
        "3. The data tends to depict that even with more transactions done in July, it had less fraud reports than in June."
      ]
    },
    {
      "cell_type": "markdown",
      "metadata": {
        "id": "tyDtAyPp2iyo"
      },
      "source": [
        "Let's visualize a few descriptive data values we deduced earlier"
      ]
    },
    {
      "cell_type": "code",
      "metadata": {
        "id": "bfY7LBzodbXZ"
      },
      "source": [
        "indexs = ['max_fraud/Day', 'total_fraud/Month', 'max_otp_fraud/Day', 'ave_fraud_usd/Month','max_fraud_usd/Day']\n",
        "\n",
        "june_data = [max(june_df.fraud_count), sum(june_df.fraud_count), max(june_df.otp_fraud), \\\n",
        "             june_df.fraud_volume_usd.mean(), max(june_df.fraud_volume_usd)]\n",
        "\n",
        "july_data = [max(july_df.fraud_count), sum(july_df.fraud_count), max(july_df.otp_fraud), \\\n",
        "             july_df.fraud_volume_usd.mean(), max(july_df.fraud_volume_usd)]"
      ],
      "execution_count": 30,
      "outputs": []
    },
    {
      "cell_type": "code",
      "metadata": {
        "id": "ccfalzkMmIvI"
      },
      "source": [
        "def plot_clustered_bar(indexs, june_data, july_data):\n",
        "    assert len(indexs) == len(june_data) == len(july_data)\n",
        "\n",
        "    df = pd.DataFrame([june_data, july_data]).T\n",
        "    df.index = indexs\n",
        "    df.columns = ['June', 'July']\n",
        "    #plt.xkcd()  # For xkcd style plots\n",
        "    #plt.rcdefaults()  # to stop xkcd plots\n",
        "\n",
        "    # your colors\n",
        "    colors = ['#5bc0de', '#d9534f']\n",
        "\n",
        "    # plot with annotations is probably easier\n",
        "    p1 = df.plot(kind='bar', \n",
        "                 color=colors, \n",
        "                 figsize=(size), \n",
        "                 rot=0, \n",
        "                 ylabel='Count', \n",
        "                 title=title)\n",
        "\n",
        "    plt.show()"
      ],
      "execution_count": 31,
      "outputs": []
    },
    {
      "cell_type": "code",
      "metadata": {
        "colab": {
          "base_uri": "https://localhost:8080/",
          "height": 397
        },
        "id": "cCl7l12Lm2w9",
        "outputId": "662a35e3-3163-46a3-8c42-54819449c851"
      },
      "source": [
        "title = 'Max-Fraud/Day and Total-Fraud/Month comparison: June vs July'\n",
        "plot_clustered_bar(indexs[:2], june_data[:2], july_data[:2])"
      ],
      "execution_count": 32,
      "outputs": [
        {
          "output_type": "display_data",
          "data": {
            "image/png": "[encoded data removed]",
            "text/plain": [
              "<Figure size 1296x432 with 1 Axes>"
            ]
          },
          "metadata": {}
        }
      ]
    },
    {
      "cell_type": "code",
      "metadata": {
        "colab": {
          "base_uri": "https://localhost:8080/",
          "height": 397
        },
        "id": "4pD9nURmzUk5",
        "outputId": "d08d10c2-7c78-4f5b-e5e0-fcc157c349e3"
      },
      "source": [
        "title = 'Max-Otp-Fraud/Day and Average-Fraud-Volume-USD/Month comparison: June vs July'\n",
        "plot_clustered_bar(indexs[2:4], june_data[2:4], july_data[2:4])"
      ],
      "execution_count": 33,
      "outputs": [
        {
          "output_type": "display_data",
          "data": {
            "image/png": "[encoded data removed]",
            "text/plain": [
              "<Figure size 1296x432 with 1 Axes>"
            ]
          },
          "metadata": {}
        }
      ]
    },
    {
      "cell_type": "code",
      "metadata": {
        "colab": {
          "base_uri": "https://localhost:8080/",
          "height": 397
        },
        "id": "GIqZtf0B1yOj",
        "outputId": "93566cb2-e790-4b1e-df65-93e52f5b276c"
      },
      "source": [
        "title = 'Max-Fraud-USD/Day comparison: June vs July'\n",
        "plot_clustered_bar(indexs[4:], june_data[4:], july_data[4:])"
      ],
      "execution_count": 34,
      "outputs": [
        {
          "output_type": "display_data",
          "data": {
            "image/png": "[encoded data removed]",
            "text/plain": [
              "<Figure size 1296x432 with 1 Axes>"
            ]
          },
          "metadata": {}
        }
      ]
    },
    {
      "cell_type": "markdown",
      "metadata": {
        "id": "ZPECp1MvYr81"
      },
      "source": [
        "# Diagnostic EDA (DA2):"
      ]
    },
    {
      "cell_type": "markdown",
      "metadata": {
        "id": "zqROM9ZVba6_"
      },
      "source": [
        "**Diagnostic Analytics (DA2):**<br>\n",
        "Diagnostic analytics are a deeper look at data to attempt to understand the causes of events and behaviours. It’s used largely to answer the question **<“Why did it happen?”>**, and is characterized by techniques such as : **drill-down** • **data discovery** • **data mining** • **correlations** • **mutual-information**\n",
        "\n",
        "* On a weekly basis, what weeks have the most Fraud?\n",
        "* Does fraud tend to increase due to social reasons like public holidays?\n",
        "* What Industries are most prone to Fraud?\n",
        "* What type of Merchants is most prone?\n",
        "* What features of the data are strongly related to fraud occurrences? We can try using Mutual-Information and correlation\n",
        "* Can we use clustering algorithms to learn any meaningful patterns or groupings that can help us learn more about the recent fraud spikes?\n",
        "* What recent social-engineering or seasonal cause could bring about the recent spike in fraud cases beyond just this dataset?\n",
        "\n",
        "Asking and answering these questions give us a deeper understanding of the causes or patterns related to the spike in fraud."
      ]
    },
    {
      "cell_type": "markdown",
      "metadata": {
        "id": "IGCPjHz1Lnxg"
      },
      "source": [
        "### 5. Exploring Mutual Information of variables:\n",
        "Mutual information describes relationships in terms of uncertainty. The mutual information (MI) between two quantities is a measure of the extent to which knowledge of one quantity reduces uncertainty about the other. If you knew the value of a feature, how much more confident would you be about the target?\n",
        "\n",
        "Mutual information is how many questions you expect the feature to answer about the target. It can help to understand the relative potential of a feature as a predictor of the target, considered by itself. But Mutual Information can't detect interactions between features, is a Univariate metric.\n",
        "\n",
        "Finally, unlike Correlation that can only detect linear relationships, Mutual Information can detect all kinds and shapes of relations between features and target."
      ]
    },
    {
      "cell_type": "code",
      "metadata": {
        "id": "gdNrjxBmNVKs"
      },
      "source": [
        "# First, make a copy of both datasets\n",
        "\n",
        "june_copy = june_df.copy(deep=True)\n",
        "july_copy = july_df.copy(deep=True)"
      ],
      "execution_count": 35,
      "outputs": []
    },
    {
      "cell_type": "code",
      "metadata": {
        "id": "nowiSL3oCl9p"
      },
      "source": [
        "# Nect, pop the targets\n",
        "\n",
        "june_target = june_copy.pop('fraud_count')\n",
        "july_target = july_copy.pop('fraud_count')"
      ],
      "execution_count": 36,
      "outputs": []
    },
    {
      "cell_type": "code",
      "metadata": {
        "colab": {
          "base_uri": "https://localhost:8080/"
        },
        "id": "EHN0JqbSAqUE",
        "outputId": "80e64ab9-cbf1-4271-dbb8-757ab777248d"
      },
      "source": [
        "# Next, get separate list for numeric and categoric columns\n",
        "\n",
        "num_cols = list(june_copy._get_numeric_data().columns)\n",
        "cat_cols = list(set(june_copy.columns) - set(num_cols))\n",
        "print('done!')"
      ],
      "execution_count": 37,
      "outputs": [
        {
          "output_type": "stream",
          "name": "stdout",
          "text": [
            "done!\n"
          ]
        }
      ]
    },
    {
      "cell_type": "code",
      "metadata": {
        "colab": {
          "base_uri": "https://localhost:8080/"
        },
        "id": "1yaUxtkzEYaZ",
        "outputId": "11e5c6c8-5fc4-48be-fa2a-1441e72390b9"
      },
      "source": [
        "# Next, let's label-encode categorical variables\n",
        "\n",
        "for colname in cat_cols:\n",
        "    june_copy[colname], _ = june_copy[colname].factorize()\n",
        "    july_copy[colname], _ = july_copy[colname].factorize()\n",
        "print('done!')"
      ],
      "execution_count": 38,
      "outputs": [
        {
          "output_type": "stream",
          "name": "stdout",
          "text": [
            "done!\n"
          ]
        }
      ]
    },
    {
      "cell_type": "markdown",
      "metadata": {
        "id": "RlcrHAgoF3ax"
      },
      "source": [
        "All categorical features should now have numerical datatypes"
      ]
    },
    {
      "cell_type": "code",
      "metadata": {
        "colab": {
          "base_uri": "https://localhost:8080/"
        },
        "id": "zzyowhJMFgtM",
        "outputId": "f20af110-4842-4b37-c4e9-8521badc9d02"
      },
      "source": [
        "june_copy.info()"
      ],
      "execution_count": 39,
      "outputs": [
        {
          "output_type": "stream",
          "name": "stdout",
          "text": [
            "<class 'pandas.core.frame.DataFrame'>\n",
            "RangeIndex: 8609 entries, 0 to 8608\n",
            "Data columns (total 12 columns):\n",
            " #   Column                       Non-Null Count  Dtype  \n",
            "---  ------                       --------------  -----  \n",
            " 0   merchant_id                  8609 non-null   int64  \n",
            " 1   merchant_industry            8609 non-null   int64  \n",
            " 2   merchant_category            8609 non-null   int64  \n",
            " 3   merchant_country             8609 non-null   int64  \n",
            " 4   currency                     8609 non-null   int64  \n",
            " 5   transaction_week_start_date  8609 non-null   int64  \n",
            " 6   channel                      8609 non-null   int64  \n",
            " 7   transaction_count            8609 non-null   int64  \n",
            " 8   transaction_volume_usd       8609 non-null   float64\n",
            " 9   fraud_volume_usd             8609 non-null   float64\n",
            " 10  otp_fraud                    8609 non-null   int64  \n",
            " 11  otp_all_transactions         8609 non-null   int64  \n",
            "dtypes: float64(2), int64(10)\n",
            "memory usage: 807.2 KB\n"
          ]
        }
      ]
    },
    {
      "cell_type": "markdown",
      "metadata": {
        "id": "c381LCCLGogE"
      },
      "source": [
        "Since our target `fraud_count` is a numerical feature, we shall use the mutual_info_regression method..."
      ]
    },
    {
      "cell_type": "code",
      "metadata": {
        "colab": {
          "base_uri": "https://localhost:8080/",
          "height": 162
        },
        "id": "hxv7bITjL5fI",
        "outputId": "4a844935-f9db-4440-b222-44c993142a23"
      },
      "source": [
        "june_copy.head(3)"
      ],
      "execution_count": 40,
      "outputs": [
        {
          "output_type": "execute_result",
          "data": {
            "text/html": [
              "<div>\n",
              "<style scoped>\n",
              "    .dataframe tbody tr th:only-of-type {\n",
              "        vertical-align: middle;\n",
              "    }\n",
              "\n",
              "    .dataframe tbody tr th {\n",
              "        vertical-align: top;\n",
              "    }\n",
              "\n",
              "    .dataframe thead th {\n",
              "        text-align: right;\n",
              "    }\n",
              "</style>\n",
              "<table border=\"1\" class=\"dataframe\">\n",
              "  <thead>\n",
              "    <tr style=\"text-align: right;\">\n",
              "      <th></th>\n",
              "      <th>merchant_id</th>\n",
              "      <th>merchant_industry</th>\n",
              "      <th>merchant_category</th>\n",
              "      <th>merchant_country</th>\n",
              "      <th>currency</th>\n",
              "      <th>transaction_week_start_date</th>\n",
              "      <th>channel</th>\n",
              "      <th>transaction_count</th>\n",
              "      <th>transaction_volume_usd</th>\n",
              "      <th>fraud_volume_usd</th>\n",
              "      <th>otp_fraud</th>\n",
              "      <th>otp_all_transactions</th>\n",
              "    </tr>\n",
              "  </thead>\n",
              "  <tbody>\n",
              "    <tr>\n",
              "      <th>0</th>\n",
              "      <td>1</td>\n",
              "      <td>0</td>\n",
              "      <td>0</td>\n",
              "      <td>0</td>\n",
              "      <td>0</td>\n",
              "      <td>0</td>\n",
              "      <td>0</td>\n",
              "      <td>5</td>\n",
              "      <td>231.590551</td>\n",
              "      <td>0.0</td>\n",
              "      <td>0</td>\n",
              "      <td>5</td>\n",
              "    </tr>\n",
              "    <tr>\n",
              "      <th>1</th>\n",
              "      <td>5</td>\n",
              "      <td>1</td>\n",
              "      <td>1</td>\n",
              "      <td>0</td>\n",
              "      <td>0</td>\n",
              "      <td>0</td>\n",
              "      <td>0</td>\n",
              "      <td>2</td>\n",
              "      <td>210.203412</td>\n",
              "      <td>0.0</td>\n",
              "      <td>0</td>\n",
              "      <td>2</td>\n",
              "    </tr>\n",
              "    <tr>\n",
              "      <th>2</th>\n",
              "      <td>9</td>\n",
              "      <td>2</td>\n",
              "      <td>2</td>\n",
              "      <td>0</td>\n",
              "      <td>0</td>\n",
              "      <td>0</td>\n",
              "      <td>0</td>\n",
              "      <td>4</td>\n",
              "      <td>223.097113</td>\n",
              "      <td>0.0</td>\n",
              "      <td>0</td>\n",
              "      <td>1</td>\n",
              "    </tr>\n",
              "  </tbody>\n",
              "</table>\n",
              "</div>"
            ],
            "text/plain": [
              "   merchant_id  merchant_industry  ...  otp_fraud  otp_all_transactions\n",
              "0            1                  0  ...          0                     5\n",
              "1            5                  1  ...          0                     2\n",
              "2            9                  2  ...          0                     1\n",
              "\n",
              "[3 rows x 12 columns]"
            ]
          },
          "metadata": {},
          "execution_count": 40
        }
      ]
    },
    {
      "cell_type": "code",
      "metadata": {
        "colab": {
          "base_uri": "https://localhost:8080/"
        },
        "id": "B_Y4MGN1NuHj",
        "outputId": "c4b41aab-dce8-4969-9aa7-02a491294475"
      },
      "source": [
        "# Next, identify discrete features\n",
        "\n",
        "discrete_features_june = june_copy.dtypes == int\n",
        "discrete_features_july = july_copy.dtypes == int\n",
        "print('done')"
      ],
      "execution_count": 41,
      "outputs": [
        {
          "output_type": "stream",
          "name": "stdout",
          "text": [
            "done\n"
          ]
        }
      ]
    },
    {
      "cell_type": "code",
      "metadata": {
        "id": "Ykkc7kjwGxwZ"
      },
      "source": [
        "from sklearn.feature_selection import mutual_info_regression as mi\n",
        "\n",
        "def make_mi_scores(X, y, discreteFeatures):\n",
        "    mi_scores = mi(X, y, discrete_features=discreteFeatures)\n",
        "    mi_scores = pd.Series(mi_scores, name='MI_scores', index=X.columns)\n",
        "    mi_scores = mi_scores.sort_values(ascending=False)\n",
        "\n",
        "    return mi_scores"
      ],
      "execution_count": 42,
      "outputs": []
    },
    {
      "cell_type": "markdown",
      "metadata": {
        "id": "B5JAgH_SRBJW"
      },
      "source": [
        "Now, let's get the Mutual Info scores for June and July"
      ]
    },
    {
      "cell_type": "code",
      "metadata": {
        "colab": {
          "base_uri": "https://localhost:8080/"
        },
        "id": "y3KP3r3LRHBH",
        "outputId": "017967c4-2d4d-4cc9-b67f-6e475d02a7f7"
      },
      "source": [
        "june_mi_scores = make_mi_scores(june_copy, june_target, discrete_features_june)\n",
        "july_mi_scores = make_mi_scores(july_copy, july_target, discrete_features_july)\n",
        "print('done!')"
      ],
      "execution_count": 43,
      "outputs": [
        {
          "output_type": "stream",
          "name": "stdout",
          "text": [
            "done!\n"
          ]
        }
      ]
    },
    {
      "cell_type": "markdown",
      "metadata": {
        "id": "BrdAN9-ARmib"
      },
      "source": [
        "Let's see a sample of the top scores in June"
      ]
    },
    {
      "cell_type": "code",
      "metadata": {
        "colab": {
          "base_uri": "https://localhost:8080/"
        },
        "id": "bVOyTUDSRqj5",
        "outputId": "678e61d0-795f-4ba6-b8dd-dc323101c886"
      },
      "source": [
        "june_mi_scores.head()"
      ],
      "execution_count": 44,
      "outputs": [
        {
          "output_type": "execute_result",
          "data": {
            "text/plain": [
              "fraud_volume_usd          0.028775\n",
              "transaction_volume_usd    0.017987\n",
              "merchant_id               0.011576\n",
              "otp_fraud                 0.010919\n",
              "transaction_count         0.008248\n",
              "Name: MI_scores, dtype: float64"
            ]
          },
          "metadata": {},
          "execution_count": 44
        }
      ]
    },
    {
      "cell_type": "code",
      "metadata": {
        "id": "f424cVVCSSrB"
      },
      "source": [
        "def plot_mi_scores(june_scores, july_scores):\n",
        "    june_scores = june_scores.sort_values(ascending=True)\n",
        "    july_scores = july_scores.sort_values(ascending=True)\n",
        "    plt.figure(dpi=100, figsize=(20, 8))\n",
        "\n",
        "    plt.subplot(1,2,1)\n",
        "    width = np.arange(len(june_scores))\n",
        "    ticks = list(june_scores.index)\n",
        "    plt.barh(width, june_scores)\n",
        "    plt.yticks(width, ticks)\n",
        "    plt.title(\"June Mutual Information Scores\")\n",
        "\n",
        "    plt.subplot(1,2,2)\n",
        "    width = np.arange(len(july_scores))\n",
        "    ticks = list(july_scores.index)\n",
        "    plt.barh(width, july_scores)\n",
        "    plt.yticks(width, ticks)\n",
        "    plt.title(\"July Mutual Information Scores\")\n",
        "\n",
        "    plt.show()"
      ],
      "execution_count": 45,
      "outputs": []
    },
    {
      "cell_type": "code",
      "metadata": {
        "colab": {
          "base_uri": "https://localhost:8080/",
          "height": 474
        },
        "id": "rncUa_snVSyc",
        "outputId": "253f60fb-58a1-4129-c604-b778dcdfe2d1"
      },
      "source": [
        "plot_mi_scores(june_mi_scores, july_mi_scores)"
      ],
      "execution_count": 46,
      "outputs": [
        {
          "output_type": "display_data",
          "data": {
            "image/png": "[encoded data removed]",
            "text/plain": [
              "<Figure size 2000x800 with 2 Axes>"
            ]
          },
          "metadata": {}
        }
      ]
    },
    {
      "cell_type": "markdown",
      "metadata": {
        "id": "pKcWU3WIZNEX"
      },
      "source": [
        "From the Mutual-Information analysis for June and July, we can see the features most discriminative to `fraud_count` for each month. Therefore, we can proceed with our analysis focusing on these top features"
      ]
    },
    {
      "cell_type": "markdown",
      "metadata": {
        "id": "sF6jBJXLY3sR"
      },
      "source": [
        "### 6. Selecting Top MI-Scores features for drill-down:"
      ]
    },
    {
      "cell_type": "markdown",
      "metadata": {
        "id": "CY7qgOYuFqZU"
      },
      "source": [
        "Let's select the top features from MI analysis for each of June and July and include the date column because we may need that too for future analysis and ofcourse the fraud_count column. Then we create updated Dataframes for June and July."
      ]
    },
    {
      "cell_type": "code",
      "metadata": {
        "id": "wdGAbiQKZFbP"
      },
      "source": [
        "# We'd use a threshold of 0.005 for June based on the MI chart above.\n",
        "t = 0.005\n",
        "june_top_mi = [ind for ind in list(june_mi_scores.index) if june_mi_scores[ind] >= t]\n",
        "\n",
        "if not 'transaction_week_start_date' in june_top_mi:\n",
        "    june_top_mi.append('transaction_week_start_date')  # append date column\n",
        "june_top_mi.append('fraud_count')  # append target column"
      ],
      "execution_count": 47,
      "outputs": []
    },
    {
      "cell_type": "code",
      "metadata": {
        "id": "K11irKUEF8tB"
      },
      "source": [
        "# We'd use a threshold of 0.005 for July, based on the MI chart above\n",
        "july_top_mi = [ind for ind in list(july_mi_scores.index) if july_mi_scores[ind] >= t]\n",
        "\n",
        "if not 'transaction_week_start_date' in july_top_mi:\n",
        "    july_top_mi.append('transaction_week_start_date')  # append date column\n",
        "july_top_mi.append('fraud_count')  # append target column"
      ],
      "execution_count": 48,
      "outputs": []
    },
    {
      "cell_type": "code",
      "metadata": {
        "colab": {
          "base_uri": "https://localhost:8080/",
          "height": 238
        },
        "id": "hynRTsRLL0Kx",
        "outputId": "6b30a654-d653-4bd0-f51f-e962e241fc19"
      },
      "source": [
        "# Create new June Dataframe\n",
        "\n",
        "june_new_df = june_df[june_top_mi]\n",
        "print(f'New June-DF shape is: {june_new_df.shape}\\n')\n",
        "june_new_df.head()"
      ],
      "execution_count": 49,
      "outputs": [
        {
          "output_type": "stream",
          "name": "stdout",
          "text": [
            "New June-DF shape is: (8609, 8)\n",
            "\n"
          ]
        },
        {
          "output_type": "execute_result",
          "data": {
            "text/html": [
              "<div>\n",
              "<style scoped>\n",
              "    .dataframe tbody tr th:only-of-type {\n",
              "        vertical-align: middle;\n",
              "    }\n",
              "\n",
              "    .dataframe tbody tr th {\n",
              "        vertical-align: top;\n",
              "    }\n",
              "\n",
              "    .dataframe thead th {\n",
              "        text-align: right;\n",
              "    }\n",
              "</style>\n",
              "<table border=\"1\" class=\"dataframe\">\n",
              "  <thead>\n",
              "    <tr style=\"text-align: right;\">\n",
              "      <th></th>\n",
              "      <th>fraud_volume_usd</th>\n",
              "      <th>transaction_volume_usd</th>\n",
              "      <th>merchant_id</th>\n",
              "      <th>otp_fraud</th>\n",
              "      <th>transaction_count</th>\n",
              "      <th>otp_all_transactions</th>\n",
              "      <th>transaction_week_start_date</th>\n",
              "      <th>fraud_count</th>\n",
              "    </tr>\n",
              "  </thead>\n",
              "  <tbody>\n",
              "    <tr>\n",
              "      <th>0</th>\n",
              "      <td>0.0</td>\n",
              "      <td>231.590551</td>\n",
              "      <td>1</td>\n",
              "      <td>0</td>\n",
              "      <td>5</td>\n",
              "      <td>5</td>\n",
              "      <td>2021-06-07</td>\n",
              "      <td>0</td>\n",
              "    </tr>\n",
              "    <tr>\n",
              "      <th>1</th>\n",
              "      <td>0.0</td>\n",
              "      <td>210.203412</td>\n",
              "      <td>5</td>\n",
              "      <td>0</td>\n",
              "      <td>2</td>\n",
              "      <td>2</td>\n",
              "      <td>2021-06-07</td>\n",
              "      <td>0</td>\n",
              "    </tr>\n",
              "    <tr>\n",
              "      <th>2</th>\n",
              "      <td>0.0</td>\n",
              "      <td>223.097113</td>\n",
              "      <td>9</td>\n",
              "      <td>0</td>\n",
              "      <td>4</td>\n",
              "      <td>1</td>\n",
              "      <td>2021-06-07</td>\n",
              "      <td>0</td>\n",
              "    </tr>\n",
              "    <tr>\n",
              "      <th>3</th>\n",
              "      <td>0.0</td>\n",
              "      <td>212.335958</td>\n",
              "      <td>11</td>\n",
              "      <td>0</td>\n",
              "      <td>5</td>\n",
              "      <td>5</td>\n",
              "      <td>2021-06-07</td>\n",
              "      <td>0</td>\n",
              "    </tr>\n",
              "    <tr>\n",
              "      <th>4</th>\n",
              "      <td>0.0</td>\n",
              "      <td>550.131234</td>\n",
              "      <td>15</td>\n",
              "      <td>0</td>\n",
              "      <td>8</td>\n",
              "      <td>8</td>\n",
              "      <td>2021-06-07</td>\n",
              "      <td>0</td>\n",
              "    </tr>\n",
              "  </tbody>\n",
              "</table>\n",
              "</div>"
            ],
            "text/plain": [
              "   fraud_volume_usd  ...  fraud_count\n",
              "0               0.0  ...            0\n",
              "1               0.0  ...            0\n",
              "2               0.0  ...            0\n",
              "3               0.0  ...            0\n",
              "4               0.0  ...            0\n",
              "\n",
              "[5 rows x 8 columns]"
            ]
          },
          "metadata": {},
          "execution_count": 49
        }
      ]
    },
    {
      "cell_type": "code",
      "metadata": {
        "colab": {
          "base_uri": "https://localhost:8080/",
          "height": 238
        },
        "id": "4QR5TvZuNNZw",
        "outputId": "5ab4f638-1347-4097-ca0d-dc1991b7610b"
      },
      "source": [
        "# Create new July Dataframe\n",
        "\n",
        "july_new_df = july_df[july_top_mi]\n",
        "print(f'New July-DF shape is: {july_new_df.shape}\\n')\n",
        "july_new_df.head()"
      ],
      "execution_count": 50,
      "outputs": [
        {
          "output_type": "stream",
          "name": "stdout",
          "text": [
            "New July-DF shape is: (8809, 8)\n",
            "\n"
          ]
        },
        {
          "output_type": "execute_result",
          "data": {
            "text/html": [
              "<div>\n",
              "<style scoped>\n",
              "    .dataframe tbody tr th:only-of-type {\n",
              "        vertical-align: middle;\n",
              "    }\n",
              "\n",
              "    .dataframe tbody tr th {\n",
              "        vertical-align: top;\n",
              "    }\n",
              "\n",
              "    .dataframe thead th {\n",
              "        text-align: right;\n",
              "    }\n",
              "</style>\n",
              "<table border=\"1\" class=\"dataframe\">\n",
              "  <thead>\n",
              "    <tr style=\"text-align: right;\">\n",
              "      <th></th>\n",
              "      <th>fraud_volume_usd</th>\n",
              "      <th>merchant_id</th>\n",
              "      <th>transaction_volume_usd</th>\n",
              "      <th>otp_fraud</th>\n",
              "      <th>merchant_category</th>\n",
              "      <th>transaction_count</th>\n",
              "      <th>transaction_week_start_date</th>\n",
              "      <th>fraud_count</th>\n",
              "    </tr>\n",
              "  </thead>\n",
              "  <tbody>\n",
              "    <tr>\n",
              "      <th>0</th>\n",
              "      <td>0.0</td>\n",
              "      <td>1</td>\n",
              "      <td>54.173228</td>\n",
              "      <td>0</td>\n",
              "      <td>e-Commerce</td>\n",
              "      <td>3</td>\n",
              "      <td>2021-07-05</td>\n",
              "      <td>0</td>\n",
              "    </tr>\n",
              "    <tr>\n",
              "      <th>1</th>\n",
              "      <td>0.0</td>\n",
              "      <td>5</td>\n",
              "      <td>486.712598</td>\n",
              "      <td>0</td>\n",
              "      <td>Other</td>\n",
              "      <td>4</td>\n",
              "      <td>2021-07-05</td>\n",
              "      <td>0</td>\n",
              "    </tr>\n",
              "    <tr>\n",
              "      <th>2</th>\n",
              "      <td>0.0</td>\n",
              "      <td>8</td>\n",
              "      <td>118.110236</td>\n",
              "      <td>0</td>\n",
              "      <td>Travel &amp; Hospitality</td>\n",
              "      <td>3</td>\n",
              "      <td>2021-07-05</td>\n",
              "      <td>0</td>\n",
              "    </tr>\n",
              "    <tr>\n",
              "      <th>3</th>\n",
              "      <td>0.0</td>\n",
              "      <td>9</td>\n",
              "      <td>151.968504</td>\n",
              "      <td>0</td>\n",
              "      <td>Other</td>\n",
              "      <td>4</td>\n",
              "      <td>2021-07-05</td>\n",
              "      <td>0</td>\n",
              "    </tr>\n",
              "    <tr>\n",
              "      <th>4</th>\n",
              "      <td>0.0</td>\n",
              "      <td>12</td>\n",
              "      <td>659.055118</td>\n",
              "      <td>0</td>\n",
              "      <td>Financial Services</td>\n",
              "      <td>15</td>\n",
              "      <td>2021-07-05</td>\n",
              "      <td>0</td>\n",
              "    </tr>\n",
              "  </tbody>\n",
              "</table>\n",
              "</div>"
            ],
            "text/plain": [
              "   fraud_volume_usd  merchant_id  ...  transaction_week_start_date  fraud_count\n",
              "0               0.0            1  ...                   2021-07-05            0\n",
              "1               0.0            5  ...                   2021-07-05            0\n",
              "2               0.0            8  ...                   2021-07-05            0\n",
              "3               0.0            9  ...                   2021-07-05            0\n",
              "4               0.0           12  ...                   2021-07-05            0\n",
              "\n",
              "[5 rows x 8 columns]"
            ]
          },
          "metadata": {},
          "execution_count": 50
        }
      ]
    },
    {
      "cell_type": "markdown",
      "metadata": {
        "id": "VA2ATEcBXJJh"
      },
      "source": [
        "### 7. Analyzing Weekly Fraud Trends:\n",
        "Trying to identify weeks where Fraud is high to check if there are possible social reasons for that."
      ]
    },
    {
      "cell_type": "code",
      "metadata": {
        "id": "1RPUu1B3YmmO"
      },
      "source": [
        "june_weeks = list(june_new_df.transaction_week_start_date.unique())\n",
        "july_weeks = list(july_new_df.transaction_week_start_date.unique())"
      ],
      "execution_count": 51,
      "outputs": []
    },
    {
      "cell_type": "code",
      "metadata": {
        "colab": {
          "base_uri": "https://localhost:8080/"
        },
        "id": "vqGaoNsnunDW",
        "outputId": "4bb03f79-e291-4437-9afa-2f6c49692697"
      },
      "source": [
        "print(f'June unique weeks:\\n{june_weeks}\\nJuly unique weeks:\\n{july_weeks}')"
      ],
      "execution_count": 52,
      "outputs": [
        {
          "output_type": "stream",
          "name": "stdout",
          "text": [
            "June unique weeks:\n",
            "[numpy.datetime64('2021-06-07T00:00:00.000000000'), numpy.datetime64('2021-06-14T00:00:00.000000000'), numpy.datetime64('2021-06-21T00:00:00.000000000'), numpy.datetime64('2021-06-28T00:00:00.000000000')]\n",
            "July unique weeks:\n",
            "[numpy.datetime64('2021-07-05T00:00:00.000000000'), numpy.datetime64('2021-07-12T00:00:00.000000000'), numpy.datetime64('2021-07-19T00:00:00.000000000'), numpy.datetime64('2021-07-26T00:00:00.000000000')]\n"
          ]
        }
      ]
    },
    {
      "cell_type": "code",
      "metadata": {
        "id": "0q3E3qaaav0Q"
      },
      "source": [
        "def make_weekly_series(weeks_list, df1, df2, col1, col2):\n",
        "    \"\"\"Function to create a Series of\n",
        "        total fraud counts per-week\n",
        "    \n",
        "    @param weeks_list: A list of lists for each month,\n",
        "    @param df1 and df2: June and July new Dataframes,\n",
        "    @param col1: Str, date_column in both df1 & 2\n",
        "    @param col2: Str, fraud-count column in both df1 & 2\n",
        "    @return: A Series object\n",
        "    \"\"\"\n",
        "\n",
        "    july_str = 'July_Wk_'\n",
        "    indexs = []\n",
        "    counts = []\n",
        "    i, j = 0, 0\n",
        "\n",
        "    for week in weeks_list:\n",
        "        if weeks_list.index(week) == 0:\n",
        "            for day in week:\n",
        "                i+=1\n",
        "                indexs.append('June_Wk_'+str(i))\n",
        "                temp_df = df1[df1[col1] == day]\n",
        "                counts.append(sum(temp_df[col2]))\n",
        "        else:\n",
        "            for day in week:\n",
        "                j+=1\n",
        "                indexs.append('July_Wk_'+str(j))\n",
        "                temp_df = df2[df2[col1] == day]\n",
        "                counts.append(sum(temp_df[col2]))\n",
        "\n",
        "    serie = pd.Series(counts, index=indexs, name='Weekly Fraud Trend')\n",
        "\n",
        "    return serie"
      ],
      "execution_count": 53,
      "outputs": []
    },
    {
      "cell_type": "code",
      "metadata": {
        "id": "wm53pLGUZoDI"
      },
      "source": [
        "weeks_list = [june_weeks, july_weeks]\n",
        "df1 = june_new_df\n",
        "df2 = july_new_df\n",
        "col1 = 'transaction_week_start_date'\n",
        "col2 = 'fraud_count'\n",
        "\n",
        "weekly_fraud_trend = make_weekly_series(weeks_list, df1, df2, col1, col2)"
      ],
      "execution_count": 54,
      "outputs": []
    },
    {
      "cell_type": "markdown",
      "metadata": {
        "id": "_ck2gIlhnNWB"
      },
      "source": [
        "Let's plot the weekly fraud trends..."
      ]
    },
    {
      "cell_type": "code",
      "metadata": {
        "colab": {
          "base_uri": "https://localhost:8080/",
          "height": 423
        },
        "id": "g8LCJm64kBs0",
        "outputId": "d5d9540b-853e-45bf-983f-9fe9caeba9a0"
      },
      "source": [
        "font = {'family': 'serif',\n",
        "        'color':  'darkred',\n",
        "        'weight': 'bold',\n",
        "        'size': 16}\n",
        "\n",
        "plt.figure(figsize=(15,6))\n",
        "weekly_fraud_trend.plot(kind='line')\n",
        "plt.xlabel('Week', fontdict=font)\n",
        "plt.ylabel('Count', fontdict=font)\n",
        "font['size'] = 20\n",
        "plt.title(weekly_fraud_trend.name, fontdict=font)\n",
        "plt.show()"
      ],
      "execution_count": 56,
      "outputs": [
        {
          "output_type": "display_data",
          "data": {
            "image/png": "[encoded data removed]",
            "text/plain": [
              "<Figure size 1080x432 with 1 Axes>"
            ]
          },
          "metadata": {}
        }
      ]
    },
    {
      "cell_type": "markdown",
      "metadata": {
        "id": "bniwB7W1oIIJ"
      },
      "source": [
        "From the weekly fraud trend data, we can see that generally, fraud is trending downward. This does not mean it may not trend upward in the future, though, as can be seen in the rise in last week of July.\n",
        "\n",
        "* Fraud starts high at about 250 for June-Wk-1\n",
        "* It increases to about 280 for June-Wk-2\n",
        "* Then it drops to about 180 in June-Wk-3\n",
        "* Then it rises to about 210 in June-Wk-4\n",
        "* And just keeps dropping weekly in July, lowest in July-Wk-3\n",
        "* Starts rising again in July-Wk-4"
      ]
    },
    {
      "cell_type": "markdown",
      "metadata": {
        "id": "fwlBXMX_vICM"
      },
      "source": [
        "Although correlation does not imply cauation, we can see that:-   \n",
        "* June 14th which marks the start of June-Wk-2 is a national holiday called **democracy-day** in Nigeria\n",
        "* June 20th is Father's day\n",
        "* June 23rd is also a regional holiday in Ebonyi State\n",
        "* Tuesday July 20th and Wednesday July 21st are also public holidays called **id-el-kabir**\n",
        "\n",
        "[source1](https://www.timeanddate.com/holidays/nigeria/), [source2](https://www.officeholidays.com/countries/nigeria/2021)"
      ]
    },
    {
      "cell_type": "markdown",
      "metadata": {
        "id": "_tAOCoEXxy7a"
      },
      "source": [
        "Let's check the ratio of weekly fraud counts to transaction counts"
      ]
    },
    {
      "cell_type": "code",
      "metadata": {
        "id": "YjNfKh12tQhY"
      },
      "source": [
        ""
      ],
      "execution_count": null,
      "outputs": []
    }
  ]
}